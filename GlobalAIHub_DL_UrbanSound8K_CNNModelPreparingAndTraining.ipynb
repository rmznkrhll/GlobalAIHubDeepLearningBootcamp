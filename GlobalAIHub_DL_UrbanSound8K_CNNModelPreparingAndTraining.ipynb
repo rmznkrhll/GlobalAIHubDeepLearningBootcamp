{
  "nbformat": 4,
  "nbformat_minor": 0,
  "metadata": {
    "colab": {
      "provenance": [],
      "collapsed_sections": []
    },
    "kernelspec": {
      "name": "python3",
      "display_name": "Python 3"
    },
    "language_info": {
      "name": "python"
    },
    "accelerator": "GPU"
  },
  "cells": [
    {
      "cell_type": "markdown",
      "source": [
        "**Global AI Hub and Koç Holding\n",
        "Deep Learning Bootcamp**"
      ],
      "metadata": {
        "id": "UaxXMMEztIHR"
      }
    },
    {
      "cell_type": "markdown",
      "source": [
        "In this section, after the preprocessing we did in the previous section *(GlobalAIHub_DL_UrbanSound8K_SpectrogramAndPreprocessing.ipynb)*, we will prepare and train the CNN model."
      ],
      "metadata": {
        "id": "nVX1EBuXtOWU"
      }
    },
    {
      "cell_type": "code",
      "execution_count": null,
      "metadata": {
        "id": "8p1YNzd3oI5z"
      },
      "outputs": [],
      "source": [
        "import tensorflow as tf \n",
        "import pandas as pd\n",
        "import numpy as np\n",
        "import matplotlib.pyplot as plt"
      ]
    },
    {
      "cell_type": "code",
      "source": [
        "from google.colab import drive\n",
        "drive.mount('/content/drive')"
      ],
      "metadata": {
        "colab": {
          "base_uri": "https://localhost:8080/"
        },
        "id": "VLFpB0wUoUss",
        "outputId": "d9d99cc4-f368-4f70-d6a4-8f06be1d6d19"
      },
      "execution_count": null,
      "outputs": [
        {
          "output_type": "stream",
          "name": "stdout",
          "text": [
            "Mounted at /content/drive\n"
          ]
        }
      ]
    },
    {
      "cell_type": "code",
      "source": [
        "X_train = np.load('/content/drive/MyDrive/urbansound/X_train.npy')\n",
        "X_test = np.load('/content/drive/MyDrive/urbansound/X_test.npy')\n",
        "X_val = np.load('/content/drive/MyDrive/urbansound/X_val.npy')\n",
        "y_train = np.loadtxt(\"/content/drive/MyDrive/urbansound/y_train.txt\" )\n",
        "y_test = np.loadtxt(\"/content/drive/MyDrive/urbansound/y_test.txt\")\n",
        "y_val = np.loadtxt(\"/content/drive/MyDrive/urbansound/y_val.txt\")"
      ],
      "metadata": {
        "id": "ZvK3vTjVoc0l"
      },
      "execution_count": null,
      "outputs": []
    },
    {
      "cell_type": "code",
      "source": [
        "y_train=tf.keras.utils.to_categorical(y_train,10)\n",
        "y_test=tf.keras.utils.to_categorical(y_test,10)\n",
        "y_val=tf.keras.utils.to_categorical(y_val,10)\n"
      ],
      "metadata": {
        "id": "1ZyjhYYargSj"
      },
      "execution_count": null,
      "outputs": []
    },
    {
      "cell_type": "code",
      "source": [
        "X_train = X_train.reshape(X_train.shape[0],64,64,1)\n",
        "X_test = X_test.reshape(X_test.shape[0],64,64,1)\n",
        "X_val = X_val.reshape(X_val.shape[0],64,64,1)"
      ],
      "metadata": {
        "id": "wYifolY3e5_h"
      },
      "execution_count": null,
      "outputs": []
    },
    {
      "cell_type": "code",
      "source": [
        "model=tf.keras.Sequential()"
      ],
      "metadata": {
        "id": "nz0XThf1odRg"
      },
      "execution_count": null,
      "outputs": []
    },
    {
      "cell_type": "code",
      "source": [
        "model.add(tf.keras.layers.Conv2D(32,\n",
        "                                 kernel_size=(3,3),\n",
        "                                 strides=(1,1),\n",
        "                                 padding=\"same\",\n",
        "                                 activation=\"relu\",\n",
        "                                 input_shape=(64,64,1)))\n",
        "model.add(tf.keras.layers.MaxPooling2D(2,2))"
      ],
      "metadata": {
        "id": "NrYXl3gsodb_"
      },
      "execution_count": null,
      "outputs": []
    },
    {
      "cell_type": "code",
      "source": [
        "model.add(tf.keras.layers.Conv2D(64,\n",
        "                                 kernel_size=(3,3),\n",
        "                                 strides=(1,1),\n",
        "                                 padding=\"same\",\n",
        "                                 activation=\"relu\"))\n",
        "model.add(tf.keras.layers.MaxPooling2D(2,2))\n",
        "model.add(tf.keras.layers.Conv2D(64,\n",
        "                                 kernel_size=(3,3),\n",
        "                                 strides=(1,1),\n",
        "                                 padding=\"same\",\n",
        "                                 activation=\"relu\"))"
      ],
      "metadata": {
        "id": "a7Ig7ftkodi6"
      },
      "execution_count": null,
      "outputs": []
    },
    {
      "cell_type": "code",
      "source": [
        "model.add(tf.keras.layers.Flatten())"
      ],
      "metadata": {
        "id": "TOpTmJilodo5"
      },
      "execution_count": null,
      "outputs": []
    },
    {
      "cell_type": "code",
      "source": [
        "model.add(tf.keras.layers.Dense(64,\n",
        "                                activation=\"relu\"))\n",
        "model.add(tf.keras.layers.Dropout(0.5))\n",
        "\n",
        "model.add(tf.keras.layers.Dense(64,\n",
        "                                activation=\"relu\"))\n",
        "model.add(tf.keras.layers.Dropout(0.5))"
      ],
      "metadata": {
        "id": "nyt-8K15szFY"
      },
      "execution_count": null,
      "outputs": []
    },
    {
      "cell_type": "code",
      "source": [
        "model.add(tf.keras.layers.Dense(10,activation=\"softmax\"))"
      ],
      "metadata": {
        "id": "r3je9Ddms22Z"
      },
      "execution_count": null,
      "outputs": []
    },
    {
      "cell_type": "code",
      "source": [
        "model.compile(optimizer=\"adam\",\n",
        "              loss=\"categorical_crossentropy\",\n",
        "              metrics=\"accuracy\")"
      ],
      "metadata": {
        "id": "YLG3ehy-s5wJ"
      },
      "execution_count": null,
      "outputs": []
    },
    {
      "cell_type": "code",
      "source": [
        "model.summary()"
      ],
      "metadata": {
        "colab": {
          "base_uri": "https://localhost:8080/"
        },
        "id": "oMpwTBLztlW6",
        "outputId": "efce01d3-1689-444a-c6e7-c469e012916c"
      },
      "execution_count": null,
      "outputs": [
        {
          "output_type": "stream",
          "name": "stdout",
          "text": [
            "Model: \"sequential\"\n",
            "_________________________________________________________________\n",
            " Layer (type)                Output Shape              Param #   \n",
            "=================================================================\n",
            " conv2d (Conv2D)             (None, 64, 64, 32)        320       \n",
            "                                                                 \n",
            " max_pooling2d (MaxPooling2D  (None, 32, 32, 32)       0         \n",
            " )                                                               \n",
            "                                                                 \n",
            " conv2d_1 (Conv2D)           (None, 32, 32, 64)        18496     \n",
            "                                                                 \n",
            " max_pooling2d_1 (MaxPooling  (None, 16, 16, 64)       0         \n",
            " 2D)                                                             \n",
            "                                                                 \n",
            " conv2d_2 (Conv2D)           (None, 16, 16, 64)        36928     \n",
            "                                                                 \n",
            " flatten (Flatten)           (None, 16384)             0         \n",
            "                                                                 \n",
            " dense (Dense)               (None, 64)                1048640   \n",
            "                                                                 \n",
            " dropout (Dropout)           (None, 64)                0         \n",
            "                                                                 \n",
            " dense_1 (Dense)             (None, 64)                4160      \n",
            "                                                                 \n",
            " dropout_1 (Dropout)         (None, 64)                0         \n",
            "                                                                 \n",
            " dense_2 (Dense)             (None, 10)                650       \n",
            "                                                                 \n",
            "=================================================================\n",
            "Total params: 1,109,194\n",
            "Trainable params: 1,109,194\n",
            "Non-trainable params: 0\n",
            "_________________________________________________________________\n"
          ]
        }
      ]
    },
    {
      "cell_type": "code",
      "source": [
        "results=model.fit(X_train,y_train,batch_size=128,epochs=100,validation_data=(X_val,y_val))"
      ],
      "metadata": {
        "colab": {
          "base_uri": "https://localhost:8080/"
        },
        "id": "FBzRgDBbs8pF",
        "outputId": "7673ef33-38b9-4ccf-a08e-eafd4dd6ebe0"
      },
      "execution_count": null,
      "outputs": [
        {
          "output_type": "stream",
          "name": "stdout",
          "text": [
            "Epoch 1/100\n",
            "55/55 [==============================] - 11s 28ms/step - loss: 2.0871 - accuracy: 0.2230 - val_loss: 1.7285 - val_accuracy: 0.4662\n",
            "Epoch 2/100\n",
            "55/55 [==============================] - 1s 19ms/step - loss: 1.7068 - accuracy: 0.3835 - val_loss: 1.3054 - val_accuracy: 0.5636\n",
            "Epoch 3/100\n",
            "55/55 [==============================] - 1s 19ms/step - loss: 1.4613 - accuracy: 0.4806 - val_loss: 1.0964 - val_accuracy: 0.6575\n",
            "Epoch 4/100\n",
            "55/55 [==============================] - 1s 19ms/step - loss: 1.2747 - accuracy: 0.5579 - val_loss: 1.0262 - val_accuracy: 0.6735\n",
            "Epoch 5/100\n",
            "55/55 [==============================] - 1s 19ms/step - loss: 1.1495 - accuracy: 0.6082 - val_loss: 0.8467 - val_accuracy: 0.7365\n",
            "Epoch 6/100\n",
            "55/55 [==============================] - 1s 19ms/step - loss: 1.0385 - accuracy: 0.6501 - val_loss: 0.7862 - val_accuracy: 0.7560\n",
            "Epoch 7/100\n",
            "55/55 [==============================] - 1s 19ms/step - loss: 0.9436 - accuracy: 0.6809 - val_loss: 0.7200 - val_accuracy: 0.7801\n",
            "Epoch 8/100\n",
            "55/55 [==============================] - 1s 19ms/step - loss: 0.8520 - accuracy: 0.7082 - val_loss: 0.7077 - val_accuracy: 0.7686\n",
            "Epoch 9/100\n",
            "55/55 [==============================] - 1s 19ms/step - loss: 0.8040 - accuracy: 0.7316 - val_loss: 0.6264 - val_accuracy: 0.7984\n",
            "Epoch 10/100\n",
            "55/55 [==============================] - 1s 19ms/step - loss: 0.7470 - accuracy: 0.7510 - val_loss: 0.6507 - val_accuracy: 0.7995\n",
            "Epoch 11/100\n",
            "55/55 [==============================] - 1s 19ms/step - loss: 0.7010 - accuracy: 0.7634 - val_loss: 0.5969 - val_accuracy: 0.8133\n",
            "Epoch 12/100\n",
            "55/55 [==============================] - 1s 19ms/step - loss: 0.6456 - accuracy: 0.7817 - val_loss: 0.5302 - val_accuracy: 0.8385\n",
            "Epoch 13/100\n",
            "55/55 [==============================] - 1s 19ms/step - loss: 0.5910 - accuracy: 0.8009 - val_loss: 0.5236 - val_accuracy: 0.8373\n",
            "Epoch 14/100\n",
            "55/55 [==============================] - 1s 19ms/step - loss: 0.5741 - accuracy: 0.8092 - val_loss: 0.5476 - val_accuracy: 0.8282\n",
            "Epoch 15/100\n",
            "55/55 [==============================] - 1s 19ms/step - loss: 0.5532 - accuracy: 0.8183 - val_loss: 0.4928 - val_accuracy: 0.8603\n",
            "Epoch 16/100\n",
            "55/55 [==============================] - 1s 19ms/step - loss: 0.5236 - accuracy: 0.8239 - val_loss: 0.5204 - val_accuracy: 0.8511\n",
            "Epoch 17/100\n",
            "55/55 [==============================] - 1s 19ms/step - loss: 0.4883 - accuracy: 0.8351 - val_loss: 0.4819 - val_accuracy: 0.8522\n",
            "Epoch 18/100\n",
            "55/55 [==============================] - 1s 19ms/step - loss: 0.4565 - accuracy: 0.8468 - val_loss: 0.4975 - val_accuracy: 0.8580\n",
            "Epoch 19/100\n",
            "55/55 [==============================] - 1s 19ms/step - loss: 0.4468 - accuracy: 0.8475 - val_loss: 0.5551 - val_accuracy: 0.8568\n",
            "Epoch 20/100\n",
            "55/55 [==============================] - 1s 19ms/step - loss: 0.4198 - accuracy: 0.8530 - val_loss: 0.5030 - val_accuracy: 0.8580\n",
            "Epoch 21/100\n",
            "55/55 [==============================] - 1s 19ms/step - loss: 0.4118 - accuracy: 0.8550 - val_loss: 0.4861 - val_accuracy: 0.8591\n",
            "Epoch 22/100\n",
            "55/55 [==============================] - 1s 19ms/step - loss: 0.3803 - accuracy: 0.8680 - val_loss: 0.4833 - val_accuracy: 0.8729\n",
            "Epoch 23/100\n",
            "55/55 [==============================] - 1s 19ms/step - loss: 0.3671 - accuracy: 0.8706 - val_loss: 0.5163 - val_accuracy: 0.8545\n",
            "Epoch 24/100\n",
            "55/55 [==============================] - 1s 19ms/step - loss: 0.3482 - accuracy: 0.8776 - val_loss: 0.4701 - val_accuracy: 0.8637\n",
            "Epoch 25/100\n",
            "55/55 [==============================] - 1s 19ms/step - loss: 0.3424 - accuracy: 0.8786 - val_loss: 0.4894 - val_accuracy: 0.8774\n",
            "Epoch 26/100\n",
            "55/55 [==============================] - 1s 19ms/step - loss: 0.3297 - accuracy: 0.8835 - val_loss: 0.4744 - val_accuracy: 0.8820\n",
            "Epoch 27/100\n",
            "55/55 [==============================] - 1s 19ms/step - loss: 0.3152 - accuracy: 0.8838 - val_loss: 0.4848 - val_accuracy: 0.8877\n",
            "Epoch 28/100\n",
            "55/55 [==============================] - 1s 19ms/step - loss: 0.2857 - accuracy: 0.8999 - val_loss: 0.4779 - val_accuracy: 0.8866\n",
            "Epoch 29/100\n",
            "55/55 [==============================] - 1s 19ms/step - loss: 0.2939 - accuracy: 0.8949 - val_loss: 0.5127 - val_accuracy: 0.8797\n",
            "Epoch 30/100\n",
            "55/55 [==============================] - 1s 19ms/step - loss: 0.2902 - accuracy: 0.8988 - val_loss: 0.4759 - val_accuracy: 0.8889\n",
            "Epoch 31/100\n",
            "55/55 [==============================] - 1s 19ms/step - loss: 0.2986 - accuracy: 0.8942 - val_loss: 0.5038 - val_accuracy: 0.8866\n",
            "Epoch 32/100\n",
            "55/55 [==============================] - 1s 19ms/step - loss: 0.2926 - accuracy: 0.8935 - val_loss: 0.4866 - val_accuracy: 0.8935\n",
            "Epoch 33/100\n",
            "55/55 [==============================] - 1s 19ms/step - loss: 0.2661 - accuracy: 0.9082 - val_loss: 0.4770 - val_accuracy: 0.8843\n",
            "Epoch 34/100\n",
            "55/55 [==============================] - 1s 19ms/step - loss: 0.2917 - accuracy: 0.8962 - val_loss: 0.5244 - val_accuracy: 0.8648\n",
            "Epoch 35/100\n",
            "55/55 [==============================] - 1s 19ms/step - loss: 0.2575 - accuracy: 0.9091 - val_loss: 0.5975 - val_accuracy: 0.8671\n",
            "Epoch 36/100\n",
            "55/55 [==============================] - 1s 19ms/step - loss: 0.2648 - accuracy: 0.9085 - val_loss: 0.5849 - val_accuracy: 0.8786\n",
            "Epoch 37/100\n",
            "55/55 [==============================] - 1s 19ms/step - loss: 0.2553 - accuracy: 0.9097 - val_loss: 0.5662 - val_accuracy: 0.8866\n",
            "Epoch 38/100\n",
            "55/55 [==============================] - 1s 19ms/step - loss: 0.2462 - accuracy: 0.9077 - val_loss: 0.5765 - val_accuracy: 0.8809\n",
            "Epoch 39/100\n",
            "55/55 [==============================] - 1s 19ms/step - loss: 0.2542 - accuracy: 0.9091 - val_loss: 0.6061 - val_accuracy: 0.8751\n",
            "Epoch 40/100\n",
            "55/55 [==============================] - 1s 19ms/step - loss: 0.2350 - accuracy: 0.9155 - val_loss: 0.5168 - val_accuracy: 0.8969\n",
            "Epoch 41/100\n",
            "55/55 [==============================] - 1s 19ms/step - loss: 0.2362 - accuracy: 0.9121 - val_loss: 0.5449 - val_accuracy: 0.8889\n",
            "Epoch 42/100\n",
            "55/55 [==============================] - 1s 19ms/step - loss: 0.2271 - accuracy: 0.9205 - val_loss: 0.6248 - val_accuracy: 0.8832\n",
            "Epoch 43/100\n",
            "55/55 [==============================] - 1s 19ms/step - loss: 0.2182 - accuracy: 0.9164 - val_loss: 0.5850 - val_accuracy: 0.8786\n",
            "Epoch 44/100\n",
            "55/55 [==============================] - 1s 19ms/step - loss: 0.2105 - accuracy: 0.9236 - val_loss: 0.5725 - val_accuracy: 0.8912\n",
            "Epoch 45/100\n",
            "55/55 [==============================] - 1s 19ms/step - loss: 0.2039 - accuracy: 0.9257 - val_loss: 0.5581 - val_accuracy: 0.8820\n",
            "Epoch 46/100\n",
            "55/55 [==============================] - 1s 19ms/step - loss: 0.2470 - accuracy: 0.9165 - val_loss: 0.5938 - val_accuracy: 0.8717\n",
            "Epoch 47/100\n",
            "55/55 [==============================] - 1s 19ms/step - loss: 0.2576 - accuracy: 0.9081 - val_loss: 0.5832 - val_accuracy: 0.8820\n",
            "Epoch 48/100\n",
            "55/55 [==============================] - 1s 19ms/step - loss: 0.2083 - accuracy: 0.9220 - val_loss: 0.5319 - val_accuracy: 0.8889\n",
            "Epoch 49/100\n",
            "55/55 [==============================] - 1s 19ms/step - loss: 0.1837 - accuracy: 0.9327 - val_loss: 0.6215 - val_accuracy: 0.8855\n",
            "Epoch 50/100\n",
            "55/55 [==============================] - 1s 19ms/step - loss: 0.2057 - accuracy: 0.9198 - val_loss: 0.6176 - val_accuracy: 0.8832\n",
            "Epoch 51/100\n",
            "55/55 [==============================] - 1s 19ms/step - loss: 0.2057 - accuracy: 0.9240 - val_loss: 0.5975 - val_accuracy: 0.8935\n",
            "Epoch 52/100\n",
            "55/55 [==============================] - 1s 20ms/step - loss: 0.1913 - accuracy: 0.9329 - val_loss: 0.6218 - val_accuracy: 0.8969\n",
            "Epoch 53/100\n",
            "55/55 [==============================] - 1s 19ms/step - loss: 0.1834 - accuracy: 0.9313 - val_loss: 0.5886 - val_accuracy: 0.8843\n",
            "Epoch 54/100\n",
            "55/55 [==============================] - 1s 19ms/step - loss: 0.1924 - accuracy: 0.9260 - val_loss: 0.5758 - val_accuracy: 0.8946\n",
            "Epoch 55/100\n",
            "55/55 [==============================] - 1s 19ms/step - loss: 0.1841 - accuracy: 0.9324 - val_loss: 0.5833 - val_accuracy: 0.8877\n",
            "Epoch 56/100\n",
            "55/55 [==============================] - 1s 19ms/step - loss: 0.1804 - accuracy: 0.9337 - val_loss: 0.5818 - val_accuracy: 0.8969\n",
            "Epoch 57/100\n",
            "55/55 [==============================] - 1s 19ms/step - loss: 0.1767 - accuracy: 0.9354 - val_loss: 0.6353 - val_accuracy: 0.8912\n",
            "Epoch 58/100\n",
            "55/55 [==============================] - 1s 20ms/step - loss: 0.1814 - accuracy: 0.9333 - val_loss: 0.6116 - val_accuracy: 0.8935\n",
            "Epoch 59/100\n",
            "55/55 [==============================] - 1s 22ms/step - loss: 0.2049 - accuracy: 0.9283 - val_loss: 0.7172 - val_accuracy: 0.8843\n",
            "Epoch 60/100\n",
            "55/55 [==============================] - 1s 20ms/step - loss: 0.1705 - accuracy: 0.9374 - val_loss: 0.6761 - val_accuracy: 0.8900\n",
            "Epoch 61/100\n",
            "55/55 [==============================] - 1s 19ms/step - loss: 0.1815 - accuracy: 0.9334 - val_loss: 0.7877 - val_accuracy: 0.8866\n",
            "Epoch 62/100\n",
            "55/55 [==============================] - 1s 19ms/step - loss: 0.1898 - accuracy: 0.9339 - val_loss: 0.7946 - val_accuracy: 0.8614\n",
            "Epoch 63/100\n",
            "55/55 [==============================] - 1s 19ms/step - loss: 0.1746 - accuracy: 0.9353 - val_loss: 0.6946 - val_accuracy: 0.8786\n",
            "Epoch 64/100\n",
            "55/55 [==============================] - 1s 19ms/step - loss: 0.1665 - accuracy: 0.9354 - val_loss: 0.6796 - val_accuracy: 0.8809\n",
            "Epoch 65/100\n",
            "55/55 [==============================] - 1s 19ms/step - loss: 0.1643 - accuracy: 0.9379 - val_loss: 0.7103 - val_accuracy: 0.8786\n",
            "Epoch 66/100\n",
            "55/55 [==============================] - 1s 19ms/step - loss: 0.1672 - accuracy: 0.9394 - val_loss: 0.7047 - val_accuracy: 0.8877\n",
            "Epoch 67/100\n",
            "55/55 [==============================] - 1s 19ms/step - loss: 0.1690 - accuracy: 0.9360 - val_loss: 0.6937 - val_accuracy: 0.8797\n",
            "Epoch 68/100\n",
            "55/55 [==============================] - 1s 19ms/step - loss: 0.1943 - accuracy: 0.9310 - val_loss: 0.6955 - val_accuracy: 0.8877\n",
            "Epoch 69/100\n",
            "55/55 [==============================] - 1s 19ms/step - loss: 0.1650 - accuracy: 0.9392 - val_loss: 0.7154 - val_accuracy: 0.8809\n",
            "Epoch 70/100\n",
            "55/55 [==============================] - 1s 19ms/step - loss: 0.1654 - accuracy: 0.9416 - val_loss: 0.7333 - val_accuracy: 0.8855\n",
            "Epoch 71/100\n",
            "55/55 [==============================] - 1s 19ms/step - loss: 0.1492 - accuracy: 0.9472 - val_loss: 0.7519 - val_accuracy: 0.8900\n",
            "Epoch 72/100\n",
            "55/55 [==============================] - 1s 19ms/step - loss: 0.1516 - accuracy: 0.9437 - val_loss: 0.7052 - val_accuracy: 0.8935\n",
            "Epoch 73/100\n",
            "55/55 [==============================] - 1s 19ms/step - loss: 0.1494 - accuracy: 0.9457 - val_loss: 0.7631 - val_accuracy: 0.8889\n",
            "Epoch 74/100\n",
            "55/55 [==============================] - 1s 19ms/step - loss: 0.1584 - accuracy: 0.9412 - val_loss: 0.6880 - val_accuracy: 0.8946\n",
            "Epoch 75/100\n",
            "55/55 [==============================] - 1s 19ms/step - loss: 0.1531 - accuracy: 0.9416 - val_loss: 0.7338 - val_accuracy: 0.8923\n",
            "Epoch 76/100\n",
            "55/55 [==============================] - 1s 19ms/step - loss: 0.1487 - accuracy: 0.9442 - val_loss: 0.6716 - val_accuracy: 0.9003\n",
            "Epoch 77/100\n",
            "55/55 [==============================] - 1s 19ms/step - loss: 0.1434 - accuracy: 0.9467 - val_loss: 0.8116 - val_accuracy: 0.8751\n",
            "Epoch 78/100\n",
            "55/55 [==============================] - 1s 19ms/step - loss: 0.1653 - accuracy: 0.9382 - val_loss: 0.6391 - val_accuracy: 0.8958\n",
            "Epoch 79/100\n",
            "55/55 [==============================] - 1s 19ms/step - loss: 0.1456 - accuracy: 0.9445 - val_loss: 0.8355 - val_accuracy: 0.8797\n",
            "Epoch 80/100\n",
            "55/55 [==============================] - 1s 19ms/step - loss: 0.1592 - accuracy: 0.9409 - val_loss: 0.7022 - val_accuracy: 0.8946\n",
            "Epoch 81/100\n",
            "55/55 [==============================] - 1s 19ms/step - loss: 0.1440 - accuracy: 0.9466 - val_loss: 0.8089 - val_accuracy: 0.8912\n",
            "Epoch 82/100\n",
            "55/55 [==============================] - 1s 19ms/step - loss: 0.1623 - accuracy: 0.9402 - val_loss: 0.7364 - val_accuracy: 0.8866\n",
            "Epoch 83/100\n",
            "55/55 [==============================] - 1s 19ms/step - loss: 0.1412 - accuracy: 0.9476 - val_loss: 0.7834 - val_accuracy: 0.8958\n",
            "Epoch 84/100\n",
            "55/55 [==============================] - 1s 19ms/step - loss: 0.1406 - accuracy: 0.9483 - val_loss: 0.8308 - val_accuracy: 0.8912\n",
            "Epoch 85/100\n",
            "55/55 [==============================] - 1s 19ms/step - loss: 0.1292 - accuracy: 0.9549 - val_loss: 0.8844 - val_accuracy: 0.8912\n",
            "Epoch 86/100\n",
            "55/55 [==============================] - 1s 19ms/step - loss: 0.1565 - accuracy: 0.9437 - val_loss: 0.7451 - val_accuracy: 0.8946\n",
            "Epoch 87/100\n",
            "55/55 [==============================] - 1s 19ms/step - loss: 0.1463 - accuracy: 0.9467 - val_loss: 0.7263 - val_accuracy: 0.8877\n",
            "Epoch 88/100\n",
            "55/55 [==============================] - 1s 19ms/step - loss: 0.1390 - accuracy: 0.9500 - val_loss: 0.7388 - val_accuracy: 0.8946\n",
            "Epoch 89/100\n",
            "55/55 [==============================] - 1s 19ms/step - loss: 0.1487 - accuracy: 0.9472 - val_loss: 0.8722 - val_accuracy: 0.8797\n",
            "Epoch 90/100\n",
            "55/55 [==============================] - 1s 19ms/step - loss: 0.1374 - accuracy: 0.9509 - val_loss: 0.7373 - val_accuracy: 0.8900\n",
            "Epoch 91/100\n",
            "55/55 [==============================] - 1s 19ms/step - loss: 0.1415 - accuracy: 0.9520 - val_loss: 0.8089 - val_accuracy: 0.8969\n",
            "Epoch 92/100\n",
            "55/55 [==============================] - 1s 19ms/step - loss: 0.1452 - accuracy: 0.9485 - val_loss: 0.8874 - val_accuracy: 0.8740\n",
            "Epoch 93/100\n",
            "55/55 [==============================] - 1s 19ms/step - loss: 0.1385 - accuracy: 0.9487 - val_loss: 0.8684 - val_accuracy: 0.8855\n",
            "Epoch 94/100\n",
            "55/55 [==============================] - 1s 19ms/step - loss: 0.1538 - accuracy: 0.9447 - val_loss: 0.7859 - val_accuracy: 0.8912\n",
            "Epoch 95/100\n",
            "55/55 [==============================] - 1s 19ms/step - loss: 0.1330 - accuracy: 0.9499 - val_loss: 0.8012 - val_accuracy: 0.8935\n",
            "Epoch 96/100\n",
            "55/55 [==============================] - 1s 19ms/step - loss: 0.1297 - accuracy: 0.9539 - val_loss: 0.9281 - val_accuracy: 0.8729\n",
            "Epoch 97/100\n",
            "55/55 [==============================] - 1s 19ms/step - loss: 0.1442 - accuracy: 0.9508 - val_loss: 0.7922 - val_accuracy: 0.8900\n",
            "Epoch 98/100\n",
            "55/55 [==============================] - 1s 19ms/step - loss: 0.1395 - accuracy: 0.9515 - val_loss: 0.7176 - val_accuracy: 0.8866\n",
            "Epoch 99/100\n",
            "55/55 [==============================] - 1s 19ms/step - loss: 0.1220 - accuracy: 0.9556 - val_loss: 0.8401 - val_accuracy: 0.8923\n",
            "Epoch 100/100\n",
            "55/55 [==============================] - 1s 19ms/step - loss: 0.1346 - accuracy: 0.9490 - val_loss: 0.9338 - val_accuracy: 0.8855\n"
          ]
        }
      ]
    },
    {
      "cell_type": "code",
      "source": [
        "plt.plot(results.history[\"loss\"],label=\"loss\")\n",
        "plt.plot(results.history[\"val_loss\"],label=\"val_loss\")\n",
        "plt.xlabel(\"Epoch\")\n",
        "plt.ylabel(\"Loss\")\n",
        "plt.legend()\n",
        "plt.show()\n",
        "\n"
      ],
      "metadata": {
        "colab": {
          "base_uri": "https://localhost:8080/",
          "height": 279
        },
        "id": "sFNyf-AuiQUE",
        "outputId": "f8840ca7-a13d-4fb5-f0ca-303f41efc027"
      },
      "execution_count": null,
      "outputs": [
        {
          "output_type": "display_data",
          "data": {
            "text/plain": [
              "<Figure size 432x288 with 1 Axes>"
            ],
            "image/png": "[encoded data removed]"
          },
          "metadata": {
            "needs_background": "light"
          }
        }
      ]
    },
    {
      "cell_type": "code",
      "source": [
        "plt.plot(results.history[\"accuracy\"],label=\"accuracy\")\n",
        "plt.plot(results.history[\"val_accuracy\"],label=\"val_accuracy\")\n",
        "plt.xlabel(\"Epoch\")\n",
        "plt.ylabel(\"accuracy\")\n",
        "plt.legend()\n",
        "plt.show()"
      ],
      "metadata": {
        "colab": {
          "base_uri": "https://localhost:8080/",
          "height": 279
        },
        "id": "9sFtDuitjdAG",
        "outputId": "85378974-3805-4308-ccb3-1bbc0566b37d"
      },
      "execution_count": null,
      "outputs": [
        {
          "output_type": "display_data",
          "data": {
            "text/plain": [
              "<Figure size 432x288 with 1 Axes>"
            ],
            "image/png": "[encoded data removed]"
          },
          "metadata": {
            "needs_background": "light"
          }
        }
      ]
    },
    {
      "cell_type": "code",
      "source": [
        "model.evaluate(X_test,y_test)"
      ],
      "metadata": {
        "colab": {
          "base_uri": "https://localhost:8080/"
        },
        "id": "LK31c_kFkRN1",
        "outputId": "9fe1ffef-a8e1-4d12-ccf5-344d816c1f29"
      },
      "execution_count": null,
      "outputs": [
        {
          "output_type": "stream",
          "name": "stdout",
          "text": [
            "28/28 [==============================] - 0s 7ms/step - loss: 0.9835 - accuracy: 0.8982\n"
          ]
        },
        {
          "output_type": "execute_result",
          "data": {
            "text/plain": [
              "[0.983514130115509, 0.8981693387031555]"
            ]
          },
          "metadata": {},
          "execution_count": 19
        }
      ]
    },
    {
      "cell_type": "code",
      "source": [
        "prediction_result=model.predict(X_test[317].reshape(1,64,64,1))\n",
        "prediction_result"
      ],
      "metadata": {
        "colab": {
          "base_uri": "https://localhost:8080/"
        },
        "id": "pAFjDWNVki-T",
        "outputId": "9729f494-a05a-4495-dd57-4986236cca00"
      },
      "execution_count": null,
      "outputs": [
        {
          "output_type": "execute_result",
          "data": {
            "text/plain": [
              "array([[1.0821519e-17, 4.8188850e-14, 6.0233059e-09, 9.9999988e-01,\n",
              "        9.7657065e-08, 3.8638551e-15, 1.1208491e-14, 9.8477279e-19,\n",
              "        1.8887707e-13, 1.4519175e-14]], dtype=float32)"
            ]
          },
          "metadata": {},
          "execution_count": 26
        }
      ]
    },
    {
      "cell_type": "code",
      "source": [
        "predicted_class=prediction_result.argmax()\n",
        "predicted_probability=prediction_result.max()\n"
      ],
      "metadata": {
        "id": "PhNH7ElWlFMg"
      },
      "execution_count": null,
      "outputs": []
    },
    {
      "cell_type": "code",
      "source": [
        "print(f\"Image class: {predicted_class} \\n Prediction probability: {predicted_probability}\")"
      ],
      "metadata": {
        "colab": {
          "base_uri": "https://localhost:8080/"
        },
        "id": "YHMaaYCelfeP",
        "outputId": "60a497fe-f549-41bd-e78d-7e4bb0e72233"
      },
      "execution_count": null,
      "outputs": [
        {
          "output_type": "stream",
          "name": "stdout",
          "text": [
            "Image class: 3 \n",
            " Prediction probability: 0.9999998807907104\n"
          ]
        }
      ]
    }
  ]
}