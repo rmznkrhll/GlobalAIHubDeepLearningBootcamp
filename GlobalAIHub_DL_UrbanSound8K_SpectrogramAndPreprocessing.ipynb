{
  "cells": [
    {
      "cell_type": "markdown",
      "source": [
        "**Global AI Hub and Koç Holding\n",
        "Deep Learning Bootcamp**"
      ],
      "metadata": {
        "id": "-NFbbIoYqRZl"
      },
      "id": "-NFbbIoYqRZl"
    },
    {
      "cell_type": "markdown",
      "source": [
        "In this project, we will do a project on the classification of sounds heard in cities using the “UrbanSounds8K” dataset. Our goal in this project is to prepare an artificial intelligence model using deep learning algorithms.\n",
        "In this section, we will create spectrograms from audio files using the data set from the \"https://urbansounddataset.weebly.com/urbansound8k.html\" website and save them to the computer according to the categories they belong to."
      ],
      "metadata": {
        "id": "LxsGhJitrQRq"
      },
      "id": "LxsGhJitrQRq"
    },
    {
      "cell_type": "code",
      "execution_count": null,
      "id": "4a0f30f7-a7f9-449a-87cd-845d5d357396",
      "metadata": {
        "id": "4a0f30f7-a7f9-449a-87cd-845d5d357396"
      },
      "outputs": [],
      "source": [
        "import cv2 \n",
        "import librosa\n",
        "import numpy as np\n",
        "import matplotlib as plt\n",
        "import librosa.display \n",
        "import pandas as pd\n",
        "from tqdm import tqdm\n",
        "import os\n",
        "from sklearn.preprocessing import LabelEncoder, minmax_scale\n",
        "from sklearn.model_selection import train_test_split\n",
        "import tensorflow as tf"
      ]
    },
    {
      "cell_type": "code",
      "source": [
        "from google.colab import drive\n",
        "drive.mount('/content/drive')"
      ],
      "metadata": {
        "id": "PaRXb1v_vCow",
        "colab": {
          "base_uri": "https://localhost:8080/"
        },
        "outputId": "04ea32f7-f5a1-4253-b756-381c7642751c"
      },
      "id": "PaRXb1v_vCow",
      "execution_count": null,
      "outputs": [
        {
          "output_type": "stream",
          "name": "stdout",
          "text": [
            "Drive already mounted at /content/drive; to attempt to forcibly remount, call drive.mount(\"/content/drive\", force_remount=True).\n"
          ]
        }
      ]
    },
    {
      "cell_type": "code",
      "execution_count": null,
      "id": "4b31c9fd-0c5e-450e-9614-240d5a45bfd1",
      "metadata": {
        "id": "4b31c9fd-0c5e-450e-9614-240d5a45bfd1"
      },
      "outputs": [],
      "source": [
        "def preprocess(file_path):\n",
        "    print(file_path)\n",
        "    file=cv2.imread(file_path)\n",
        "    file_gray=cv2.cvtColor(file,cv2.COLOR_BGR2GRAY)\n",
        "    \n",
        "    dim = (64,64)\n",
        "    resized = cv2.resize(file_gray,dim,interpolation = cv2.INTER_AREA)\n",
        "    \n",
        "    return resized/255\n",
        "    \n",
        "    "
      ]
    },
    {
      "cell_type": "code",
      "execution_count": null,
      "id": "bb67a975-b8a2-4977-b93e-98502eb59ef9",
      "metadata": {
        "id": "bb67a975-b8a2-4977-b93e-98502eb59ef9"
      },
      "outputs": [],
      "source": [
        "metadata = pd.read_csv(\"/content/drive/MyDrive/urbansound/UrbanSound8K.csv\")"
      ]
    },
    {
      "cell_type": "code",
      "execution_count": null,
      "id": "9a9d44c6-55fe-499d-9477-ed145263c34f",
      "metadata": {
        "id": "9a9d44c6-55fe-499d-9477-ed145263c34f",
        "outputId": "4763e572-3e69-4f00-c4c8-36f9c8121ff2",
        "colab": {
          "base_uri": "https://localhost:8080/",
          "height": 206
        }
      },
      "outputs": [
        {
          "output_type": "execute_result",
          "data": {
            "text/plain": [
              "      slice_file_name    fsID  start        end  salience  fold  classID  \\\n",
              "0    100032-3-0-0.wav  100032    0.0   0.317551         1     5        3   \n",
              "1  100263-2-0-117.wav  100263   58.5  62.500000         1     5        2   \n",
              "2  100263-2-0-121.wav  100263   60.5  64.500000         1     5        2   \n",
              "3  100263-2-0-126.wav  100263   63.0  67.000000         1     5        2   \n",
              "4  100263-2-0-137.wav  100263   68.5  72.500000         1     5        2   \n",
              "\n",
              "              class  \n",
              "0          dog_bark  \n",
              "1  children_playing  \n",
              "2  children_playing  \n",
              "3  children_playing  \n",
              "4  children_playing  "
            ],
            "text/html": [
              "\n",
              "  <div id=\"df-4bae6073-8a03-4a33-a710-4d9b00b6126b\">\n",
              "    <div class=\"colab-df-container\">\n",
              "      <div>\n",
              "<style scoped>\n",
              "    .dataframe tbody tr th:only-of-type {\n",
              "        vertical-align: middle;\n",
              "    }\n",
              "\n",
              "    .dataframe tbody tr th {\n",
              "        vertical-align: top;\n",
              "    }\n",
              "\n",
              "    .dataframe thead th {\n",
              "        text-align: right;\n",
              "    }\n",
              "</style>\n",
              "<table border=\"1\" class=\"dataframe\">\n",
              "  <thead>\n",
              "    <tr style=\"text-align: right;\">\n",
              "      <th></th>\n",
              "      <th>slice_file_name</th>\n",
              "      <th>fsID</th>\n",
              "      <th>start</th>\n",
              "      <th>end</th>\n",
              "      <th>salience</th>\n",
              "      <th>fold</th>\n",
              "      <th>classID</th>\n",
              "      <th>class</th>\n",
              "    </tr>\n",
              "  </thead>\n",
              "  <tbody>\n",
              "    <tr>\n",
              "      <th>0</th>\n",
              "      <td>100032-3-0-0.wav</td>\n",
              "      <td>100032</td>\n",
              "      <td>0.0</td>\n",
              "      <td>0.317551</td>\n",
              "      <td>1</td>\n",
              "      <td>5</td>\n",
              "      <td>3</td>\n",
              "      <td>dog_bark</td>\n",
              "    </tr>\n",
              "    <tr>\n",
              "      <th>1</th>\n",
              "      <td>100263-2-0-117.wav</td>\n",
              "      <td>100263</td>\n",
              "      <td>58.5</td>\n",
              "      <td>62.500000</td>\n",
              "      <td>1</td>\n",
              "      <td>5</td>\n",
              "      <td>2</td>\n",
              "      <td>children_playing</td>\n",
              "    </tr>\n",
              "    <tr>\n",
              "      <th>2</th>\n",
              "      <td>100263-2-0-121.wav</td>\n",
              "      <td>100263</td>\n",
              "      <td>60.5</td>\n",
              "      <td>64.500000</td>\n",
              "      <td>1</td>\n",
              "      <td>5</td>\n",
              "      <td>2</td>\n",
              "      <td>children_playing</td>\n",
              "    </tr>\n",
              "    <tr>\n",
              "      <th>3</th>\n",
              "      <td>100263-2-0-126.wav</td>\n",
              "      <td>100263</td>\n",
              "      <td>63.0</td>\n",
              "      <td>67.000000</td>\n",
              "      <td>1</td>\n",
              "      <td>5</td>\n",
              "      <td>2</td>\n",
              "      <td>children_playing</td>\n",
              "    </tr>\n",
              "    <tr>\n",
              "      <th>4</th>\n",
              "      <td>100263-2-0-137.wav</td>\n",
              "      <td>100263</td>\n",
              "      <td>68.5</td>\n",
              "      <td>72.500000</td>\n",
              "      <td>1</td>\n",
              "      <td>5</td>\n",
              "      <td>2</td>\n",
              "      <td>children_playing</td>\n",
              "    </tr>\n",
              "  </tbody>\n",
              "</table>\n",
              "</div>\n",
              "      <button class=\"colab-df-convert\" onclick=\"convertToInteractive('df-4bae6073-8a03-4a33-a710-4d9b00b6126b')\"\n",
              "              title=\"Convert this dataframe to an interactive table.\"\n",
              "              style=\"display:none;\">\n",
              "        \n",
              "  <svg xmlns=\"http://www.w3.org/2000/svg\" height=\"24px\"viewBox=\"0 0 24 24\"\n",
              "       width=\"24px\">\n",
              "    <path d=\"M0 0h24v24H0V0z\" fill=\"none\"/>\n",
              "    <path d=\"M18.56 5.44l.94 2.06.94-2.06 2.06-.94-2.06-.94-.94-2.06-.94 2.06-2.06.94zm-11 1L8.5 8.5l.94-2.06 2.06-.94-2.06-.94L8.5 2.5l-.94 2.06-2.06.94zm10 10l.94 2.06.94-2.06 2.06-.94-2.06-.94-.94-2.06-.94 2.06-2.06.94z\"/><path d=\"M17.41 7.96l-1.37-1.37c-.4-.4-.92-.59-1.43-.59-.52 0-1.04.2-1.43.59L10.3 9.45l-7.72 7.72c-.78.78-.78 2.05 0 2.83L4 21.41c.39.39.9.59 1.41.59.51 0 1.02-.2 1.41-.59l7.78-7.78 2.81-2.81c.8-.78.8-2.07 0-2.86zM5.41 20L4 18.59l7.72-7.72 1.47 1.35L5.41 20z\"/>\n",
              "  </svg>\n",
              "      </button>\n",
              "      \n",
              "  <style>\n",
              "    .colab-df-container {\n",
              "      display:flex;\n",
              "      flex-wrap:wrap;\n",
              "      gap: 12px;\n",
              "    }\n",
              "\n",
              "    .colab-df-convert {\n",
              "      background-color: #E8F0FE;\n",
              "      border: none;\n",
              "      border-radius: 50%;\n",
              "      cursor: pointer;\n",
              "      display: none;\n",
              "      fill: #1967D2;\n",
              "      height: 32px;\n",
              "      padding: 0 0 0 0;\n",
              "      width: 32px;\n",
              "    }\n",
              "\n",
              "    .colab-df-convert:hover {\n",
              "      background-color: #E2EBFA;\n",
              "      box-shadow: 0px 1px 2px rgba(60, 64, 67, 0.3), 0px 1px 3px 1px rgba(60, 64, 67, 0.15);\n",
              "      fill: #174EA6;\n",
              "    }\n",
              "\n",
              "    [theme=dark] .colab-df-convert {\n",
              "      background-color: #3B4455;\n",
              "      fill: #D2E3FC;\n",
              "    }\n",
              "\n",
              "    [theme=dark] .colab-df-convert:hover {\n",
              "      background-color: #434B5C;\n",
              "      box-shadow: 0px 1px 3px 1px rgba(0, 0, 0, 0.15);\n",
              "      filter: drop-shadow(0px 1px 2px rgba(0, 0, 0, 0.3));\n",
              "      fill: #FFFFFF;\n",
              "    }\n",
              "  </style>\n",
              "\n",
              "      <script>\n",
              "        const buttonEl =\n",
              "          document.querySelector('#df-4bae6073-8a03-4a33-a710-4d9b00b6126b button.colab-df-convert');\n",
              "        buttonEl.style.display =\n",
              "          google.colab.kernel.accessAllowed ? 'block' : 'none';\n",
              "\n",
              "        async function convertToInteractive(key) {\n",
              "          const element = document.querySelector('#df-4bae6073-8a03-4a33-a710-4d9b00b6126b');\n",
              "          const dataTable =\n",
              "            await google.colab.kernel.invokeFunction('convertToInteractive',\n",
              "                                                     [key], {});\n",
              "          if (!dataTable) return;\n",
              "\n",
              "          const docLinkHtml = 'Like what you see? Visit the ' +\n",
              "            '<a target=\"_blank\" href=https://colab.research.google.com/notebooks/data_table.ipynb>data table notebook</a>'\n",
              "            + ' to learn more about interactive tables.';\n",
              "          element.innerHTML = '';\n",
              "          dataTable['output_type'] = 'display_data';\n",
              "          await google.colab.output.renderOutput(dataTable, element);\n",
              "          const docLink = document.createElement('div');\n",
              "          docLink.innerHTML = docLinkHtml;\n",
              "          element.appendChild(docLink);\n",
              "        }\n",
              "      </script>\n",
              "    </div>\n",
              "  </div>\n",
              "  "
            ]
          },
          "metadata": {},
          "execution_count": 162
        }
      ],
      "source": [
        "metadata.head()"
      ]
    },
    {
      "cell_type": "code",
      "execution_count": null,
      "id": "8cdfb2e8-fb06-4ff3-bb4d-24feee2db4c9",
      "metadata": {
        "id": "8cdfb2e8-fb06-4ff3-bb4d-24feee2db4c9"
      },
      "outputs": [],
      "source": [
        "file_path=\"/content/drive/MyDrive/urbansound/spectrograms/\""
      ]
    },
    {
      "cell_type": "code",
      "execution_count": null,
      "id": "74074d50-6d7c-415e-b539-430944ccb01d",
      "metadata": {
        "id": "74074d50-6d7c-415e-b539-430944ccb01d",
        "outputId": "8ffbb5fb-0e81-416d-d5b2-a7ca816cada6",
        "colab": {
          "base_uri": "https://localhost:8080/"
        }
      },
      "outputs": [
        {
          "output_type": "stream",
          "name": "stderr",
          "text": [
            "10it [00:00, 98.13it/s]"
          ]
        },
        {
          "output_type": "stream",
          "name": "stdout",
          "text": [
            "/content/drive/MyDrive/urbansound/spectrograms/3/100032-3-0-0.png\n",
            "/content/drive/MyDrive/urbansound/spectrograms/2/100263-2-0-117.png\n",
            "/content/drive/MyDrive/urbansound/spectrograms/2/100263-2-0-121.png\n",
            "/content/drive/MyDrive/urbansound/spectrograms/2/100263-2-0-126.png\n",
            "/content/drive/MyDrive/urbansound/spectrograms/2/100263-2-0-137.png\n",
            "/content/drive/MyDrive/urbansound/spectrograms/2/100263-2-0-143.png\n",
            "/content/drive/MyDrive/urbansound/spectrograms/2/100263-2-0-161.png\n",
            "/content/drive/MyDrive/urbansound/spectrograms/2/100263-2-0-3.png\n",
            "/content/drive/MyDrive/urbansound/spectrograms/2/100263-2-0-36.png\n",
            "/content/drive/MyDrive/urbansound/spectrograms/1/100648-1-0-0.png\n",
            "/content/drive/MyDrive/urbansound/spectrograms/1/100648-1-1-0.png\n",
            "/content/drive/MyDrive/urbansound/spectrograms/1/100648-1-2-0.png\n",
            "/content/drive/MyDrive/urbansound/spectrograms/1/100648-1-3-0.png\n",
            "/content/drive/MyDrive/urbansound/spectrograms/1/100648-1-4-0.png\n",
            "/content/drive/MyDrive/urbansound/spectrograms/3/100652-3-0-0.png\n",
            "/content/drive/MyDrive/urbansound/spectrograms/3/100652-3-0-1.png\n",
            "/content/drive/MyDrive/urbansound/spectrograms/3/100652-3-0-2.png\n",
            "/content/drive/MyDrive/urbansound/spectrograms/3/100652-3-0-3.png\n",
            "/content/drive/MyDrive/urbansound/spectrograms/3/100795-3-0-0.png\n",
            "/content/drive/MyDrive/urbansound/spectrograms/3/100795-3-1-0.png\n",
            "/content/drive/MyDrive/urbansound/spectrograms/3/100795-3-1-1.png\n"
          ]
        },
        {
          "output_type": "stream",
          "name": "stderr",
          "text": [
            "31it [00:00, 93.94it/s]"
          ]
        },
        {
          "output_type": "stream",
          "name": "stdout",
          "text": [
            "/content/drive/MyDrive/urbansound/spectrograms/3/100795-3-1-2.png\n",
            "/content/drive/MyDrive/urbansound/spectrograms/0/100852-0-0-0.png\n",
            "/content/drive/MyDrive/urbansound/spectrograms/0/100852-0-0-1.png\n",
            "/content/drive/MyDrive/urbansound/spectrograms/0/100852-0-0-10.png\n",
            "/content/drive/MyDrive/urbansound/spectrograms/0/100852-0-0-11.png\n",
            "/content/drive/MyDrive/urbansound/spectrograms/0/100852-0-0-12.png\n",
            "/content/drive/MyDrive/urbansound/spectrograms/0/100852-0-0-13.png\n",
            "/content/drive/MyDrive/urbansound/spectrograms/0/100852-0-0-14.png\n",
            "/content/drive/MyDrive/urbansound/spectrograms/0/100852-0-0-15.png\n",
            "/content/drive/MyDrive/urbansound/spectrograms/0/100852-0-0-16.png\n",
            "/content/drive/MyDrive/urbansound/spectrograms/0/100852-0-0-17.png\n",
            "/content/drive/MyDrive/urbansound/spectrograms/0/100852-0-0-18.png\n",
            "/content/drive/MyDrive/urbansound/spectrograms/0/100852-0-0-19.png\n",
            "/content/drive/MyDrive/urbansound/spectrograms/0/100852-0-0-2.png\n",
            "/content/drive/MyDrive/urbansound/spectrograms/0/100852-0-0-20.png\n",
            "/content/drive/MyDrive/urbansound/spectrograms/0/100852-0-0-21.png\n",
            "/content/drive/MyDrive/urbansound/spectrograms/0/100852-0-0-22.png\n",
            "/content/drive/MyDrive/urbansound/spectrograms/0/100852-0-0-23.png\n",
            "/content/drive/MyDrive/urbansound/spectrograms/0/100852-0-0-24.png\n"
          ]
        },
        {
          "output_type": "stream",
          "name": "stderr",
          "text": [
            "51it [00:00, 91.80it/s]"
          ]
        },
        {
          "output_type": "stream",
          "name": "stdout",
          "text": [
            "/content/drive/MyDrive/urbansound/spectrograms/0/100852-0-0-25.png\n",
            "/content/drive/MyDrive/urbansound/spectrograms/0/100852-0-0-26.png\n",
            "/content/drive/MyDrive/urbansound/spectrograms/0/100852-0-0-27.png\n",
            "/content/drive/MyDrive/urbansound/spectrograms/0/100852-0-0-28.png\n",
            "/content/drive/MyDrive/urbansound/spectrograms/0/100852-0-0-29.png\n",
            "/content/drive/MyDrive/urbansound/spectrograms/0/100852-0-0-3.png\n",
            "/content/drive/MyDrive/urbansound/spectrograms/0/100852-0-0-30.png\n",
            "/content/drive/MyDrive/urbansound/spectrograms/0/100852-0-0-4.png\n",
            "/content/drive/MyDrive/urbansound/spectrograms/0/100852-0-0-5.png\n",
            "/content/drive/MyDrive/urbansound/spectrograms/0/100852-0-0-6.png\n",
            "/content/drive/MyDrive/urbansound/spectrograms/0/100852-0-0-7.png\n",
            "/content/drive/MyDrive/urbansound/spectrograms/0/100852-0-0-8.png\n",
            "/content/drive/MyDrive/urbansound/spectrograms/0/100852-0-0-9.png\n",
            "/content/drive/MyDrive/urbansound/spectrograms/3/101281-3-0-0.png\n",
            "/content/drive/MyDrive/urbansound/spectrograms/3/101281-3-0-14.png\n",
            "/content/drive/MyDrive/urbansound/spectrograms/3/101281-3-0-5.png\n",
            "/content/drive/MyDrive/urbansound/spectrograms/2/101382-2-0-10.png\n",
            "/content/drive/MyDrive/urbansound/spectrograms/2/101382-2-0-12.png\n",
            "/content/drive/MyDrive/urbansound/spectrograms/2/101382-2-0-20.png\n"
          ]
        },
        {
          "output_type": "stream",
          "name": "stderr",
          "text": [
            "71it [00:00, 91.50it/s]"
          ]
        },
        {
          "output_type": "stream",
          "name": "stdout",
          "text": [
            "/content/drive/MyDrive/urbansound/spectrograms/2/101382-2-0-21.png\n",
            "/content/drive/MyDrive/urbansound/spectrograms/2/101382-2-0-29.png\n",
            "/content/drive/MyDrive/urbansound/spectrograms/2/101382-2-0-33.png\n",
            "/content/drive/MyDrive/urbansound/spectrograms/2/101382-2-0-42.png\n",
            "/content/drive/MyDrive/urbansound/spectrograms/2/101382-2-0-45.png\n",
            "/content/drive/MyDrive/urbansound/spectrograms/3/101415-3-0-2.png\n",
            "/content/drive/MyDrive/urbansound/spectrograms/3/101415-3-0-3.png\n",
            "/content/drive/MyDrive/urbansound/spectrograms/3/101415-3-0-8.png\n",
            "/content/drive/MyDrive/urbansound/spectrograms/0/101729-0-0-1.png\n",
            "/content/drive/MyDrive/urbansound/spectrograms/0/101729-0-0-11.png\n",
            "/content/drive/MyDrive/urbansound/spectrograms/0/101729-0-0-12.png\n",
            "/content/drive/MyDrive/urbansound/spectrograms/0/101729-0-0-13.png\n",
            "/content/drive/MyDrive/urbansound/spectrograms/0/101729-0-0-14.png\n",
            "/content/drive/MyDrive/urbansound/spectrograms/0/101729-0-0-16.png\n",
            "/content/drive/MyDrive/urbansound/spectrograms/0/101729-0-0-17.png\n",
            "/content/drive/MyDrive/urbansound/spectrograms/0/101729-0-0-18.png\n",
            "/content/drive/MyDrive/urbansound/spectrograms/0/101729-0-0-19.png\n",
            "/content/drive/MyDrive/urbansound/spectrograms/0/101729-0-0-21.png\n",
            "/content/drive/MyDrive/urbansound/spectrograms/0/101729-0-0-22.png\n",
            "/content/drive/MyDrive/urbansound/spectrograms/0/101729-0-0-23.png\n"
          ]
        },
        {
          "output_type": "stream",
          "name": "stderr",
          "text": [
            "93it [00:00, 96.48it/s]"
          ]
        },
        {
          "output_type": "stream",
          "name": "stdout",
          "text": [
            "/content/drive/MyDrive/urbansound/spectrograms/0/101729-0-0-24.png\n",
            "/content/drive/MyDrive/urbansound/spectrograms/0/101729-0-0-26.png\n",
            "/content/drive/MyDrive/urbansound/spectrograms/0/101729-0-0-28.png\n",
            "/content/drive/MyDrive/urbansound/spectrograms/0/101729-0-0-29.png\n",
            "/content/drive/MyDrive/urbansound/spectrograms/0/101729-0-0-3.png\n",
            "/content/drive/MyDrive/urbansound/spectrograms/0/101729-0-0-32.png\n",
            "/content/drive/MyDrive/urbansound/spectrograms/0/101729-0-0-33.png\n",
            "/content/drive/MyDrive/urbansound/spectrograms/0/101729-0-0-36.png\n",
            "/content/drive/MyDrive/urbansound/spectrograms/0/101729-0-0-37.png\n",
            "/content/drive/MyDrive/urbansound/spectrograms/0/101729-0-0-38.png\n",
            "/content/drive/MyDrive/urbansound/spectrograms/0/101729-0-0-39.png\n",
            "/content/drive/MyDrive/urbansound/spectrograms/0/101729-0-0-4.png\n",
            "/content/drive/MyDrive/urbansound/spectrograms/0/101729-0-0-40.png\n",
            "/content/drive/MyDrive/urbansound/spectrograms/0/101729-0-0-6.png\n",
            "/content/drive/MyDrive/urbansound/spectrograms/0/101729-0-0-9.png\n",
            "/content/drive/MyDrive/urbansound/spectrograms/9/101848-9-0-0.png\n",
            "/content/drive/MyDrive/urbansound/spectrograms/9/101848-9-0-1.png\n",
            "/content/drive/MyDrive/urbansound/spectrograms/9/101848-9-0-2.png\n",
            "/content/drive/MyDrive/urbansound/spectrograms/9/101848-9-0-3.png\n"
          ]
        },
        {
          "output_type": "stream",
          "name": "stderr",
          "text": [
            "113it [00:01, 91.37it/s]"
          ]
        },
        {
          "output_type": "stream",
          "name": "stdout",
          "text": [
            "/content/drive/MyDrive/urbansound/spectrograms/9/101848-9-0-8.png\n",
            "/content/drive/MyDrive/urbansound/spectrograms/9/101848-9-0-9.png\n",
            "/content/drive/MyDrive/urbansound/spectrograms/3/102102-3-0-0.png\n",
            "/content/drive/MyDrive/urbansound/spectrograms/3/102103-3-0-0.png\n",
            "/content/drive/MyDrive/urbansound/spectrograms/3/102103-3-1-0.png\n",
            "/content/drive/MyDrive/urbansound/spectrograms/3/102104-3-0-0.png\n",
            "/content/drive/MyDrive/urbansound/spectrograms/3/102105-3-0-0.png\n",
            "/content/drive/MyDrive/urbansound/spectrograms/3/102106-3-0-0.png\n",
            "/content/drive/MyDrive/urbansound/spectrograms/6/102305-6-0-0.png\n",
            "/content/drive/MyDrive/urbansound/spectrograms/3/102547-3-0-2.png\n",
            "/content/drive/MyDrive/urbansound/spectrograms/3/102547-3-0-7.png\n",
            "/content/drive/MyDrive/urbansound/spectrograms/3/102547-3-0-8.png\n",
            "/content/drive/MyDrive/urbansound/spectrograms/3/102842-3-0-1.png\n",
            "/content/drive/MyDrive/urbansound/spectrograms/3/102842-3-1-0.png\n",
            "/content/drive/MyDrive/urbansound/spectrograms/3/102842-3-1-5.png\n",
            "/content/drive/MyDrive/urbansound/spectrograms/3/102842-3-1-6.png\n",
            "/content/drive/MyDrive/urbansound/spectrograms/8/102853-8-0-0.png\n",
            "/content/drive/MyDrive/urbansound/spectrograms/8/102853-8-0-1.png\n",
            "/content/drive/MyDrive/urbansound/spectrograms/8/102853-8-0-2.png\n"
          ]
        },
        {
          "output_type": "stream",
          "name": "stderr",
          "text": [
            "133it [00:01, 91.08it/s]"
          ]
        },
        {
          "output_type": "stream",
          "name": "stdout",
          "text": [
            "/content/drive/MyDrive/urbansound/spectrograms/8/102853-8-0-3.png\n",
            "/content/drive/MyDrive/urbansound/spectrograms/8/102853-8-0-4.png\n",
            "/content/drive/MyDrive/urbansound/spectrograms/8/102853-8-0-5.png\n",
            "/content/drive/MyDrive/urbansound/spectrograms/8/102853-8-0-6.png\n",
            "/content/drive/MyDrive/urbansound/spectrograms/8/102853-8-1-0.png\n",
            "/content/drive/MyDrive/urbansound/spectrograms/5/102857-5-0-0.png\n",
            "/content/drive/MyDrive/urbansound/spectrograms/5/102857-5-0-1.png\n",
            "/content/drive/MyDrive/urbansound/spectrograms/5/102857-5-0-10.png\n",
            "/content/drive/MyDrive/urbansound/spectrograms/5/102857-5-0-11.png\n",
            "/content/drive/MyDrive/urbansound/spectrograms/5/102857-5-0-12.png\n",
            "/content/drive/MyDrive/urbansound/spectrograms/5/102857-5-0-13.png\n",
            "/content/drive/MyDrive/urbansound/spectrograms/5/102857-5-0-14.png\n",
            "/content/drive/MyDrive/urbansound/spectrograms/5/102857-5-0-15.png\n",
            "/content/drive/MyDrive/urbansound/spectrograms/5/102857-5-0-16.png\n",
            "/content/drive/MyDrive/urbansound/spectrograms/5/102857-5-0-17.png\n",
            "/content/drive/MyDrive/urbansound/spectrograms/5/102857-5-0-18.png\n",
            "/content/drive/MyDrive/urbansound/spectrograms/5/102857-5-0-19.png\n",
            "/content/drive/MyDrive/urbansound/spectrograms/5/102857-5-0-2.png\n",
            "/content/drive/MyDrive/urbansound/spectrograms/5/102857-5-0-20.png"
          ]
        },
        {
          "output_type": "stream",
          "name": "stderr",
          "text": [
            "153it [00:01, 92.61it/s]"
          ]
        },
        {
          "output_type": "stream",
          "name": "stdout",
          "text": [
            "\n",
            "/content/drive/MyDrive/urbansound/spectrograms/5/102857-5-0-21.png\n",
            "/content/drive/MyDrive/urbansound/spectrograms/5/102857-5-0-22.png\n",
            "/content/drive/MyDrive/urbansound/spectrograms/5/102857-5-0-23.png\n",
            "/content/drive/MyDrive/urbansound/spectrograms/5/102857-5-0-24.png\n",
            "/content/drive/MyDrive/urbansound/spectrograms/5/102857-5-0-25.png\n",
            "/content/drive/MyDrive/urbansound/spectrograms/5/102857-5-0-26.png\n",
            "/content/drive/MyDrive/urbansound/spectrograms/5/102857-5-0-27.png\n",
            "/content/drive/MyDrive/urbansound/spectrograms/5/102857-5-0-28.png\n",
            "/content/drive/MyDrive/urbansound/spectrograms/5/102857-5-0-29.png\n",
            "/content/drive/MyDrive/urbansound/spectrograms/5/102857-5-0-3.png\n",
            "/content/drive/MyDrive/urbansound/spectrograms/5/102857-5-0-30.png\n",
            "/content/drive/MyDrive/urbansound/spectrograms/5/102857-5-0-4.png\n",
            "/content/drive/MyDrive/urbansound/spectrograms/5/102857-5-0-5.png\n",
            "/content/drive/MyDrive/urbansound/spectrograms/5/102857-5-0-6.png\n",
            "/content/drive/MyDrive/urbansound/spectrograms/5/102857-5-0-7.png\n",
            "/content/drive/MyDrive/urbansound/spectrograms/5/102857-5-0-8.png\n",
            "/content/drive/MyDrive/urbansound/spectrograms/5/102857-5-0-9.png\n",
            "/content/drive/MyDrive/urbansound/spectrograms/5/102858-5-0-0.png\n"
          ]
        },
        {
          "output_type": "stream",
          "name": "stderr",
          "text": [
            "\r163it [00:01, 90.11it/s]"
          ]
        },
        {
          "output_type": "stream",
          "name": "stdout",
          "text": [
            "/content/drive/MyDrive/urbansound/spectrograms/5/102858-5-0-1.png\n",
            "/content/drive/MyDrive/urbansound/spectrograms/8/102871-8-0-0.png\n",
            "/content/drive/MyDrive/urbansound/spectrograms/8/102871-8-0-1.png\n",
            "/content/drive/MyDrive/urbansound/spectrograms/8/102871-8-0-10.png\n",
            "/content/drive/MyDrive/urbansound/spectrograms/8/102871-8-0-11.png\n",
            "/content/drive/MyDrive/urbansound/spectrograms/8/102871-8-0-12.png\n",
            "/content/drive/MyDrive/urbansound/spectrograms/8/102871-8-0-13.png\n",
            "/content/drive/MyDrive/urbansound/spectrograms/8/102871-8-0-14.png\n",
            "/content/drive/MyDrive/urbansound/spectrograms/8/102871-8-0-15.png\n",
            "/content/drive/MyDrive/urbansound/spectrograms/8/102871-8-0-2.png\n",
            "/content/drive/MyDrive/urbansound/spectrograms/8/102871-8-0-3.png\n",
            "/content/drive/MyDrive/urbansound/spectrograms/8/102871-8-0-4.png\n",
            "/content/drive/MyDrive/urbansound/spectrograms/8/102871-8-0-5.png\n",
            "/content/drive/MyDrive/urbansound/spectrograms/8/102871-8-0-6.png\n",
            "/content/drive/MyDrive/urbansound/spectrograms/8/102871-8-0-7.png\n",
            "/content/drive/MyDrive/urbansound/spectrograms/8/102871-8-0-8.png\n",
            "/content/drive/MyDrive/urbansound/spectrograms/8/102871-8-0-9.png\n",
            "/content/drive/MyDrive/urbansound/spectrograms/7/103074-7-0-0.png\n",
            "/content/drive/MyDrive/urbansound/spectrograms/7/103074-7-0-1.png\n"
          ]
        },
        {
          "output_type": "stream",
          "name": "stderr",
          "text": [
            "182it [00:01, 88.45it/s]"
          ]
        },
        {
          "output_type": "stream",
          "name": "stdout",
          "text": [
            "/content/drive/MyDrive/urbansound/spectrograms/7/103074-7-0-2.png\n",
            "/content/drive/MyDrive/urbansound/spectrograms/7/103074-7-1-0.png\n",
            "/content/drive/MyDrive/urbansound/spectrograms/7/103074-7-1-1.png\n",
            "/content/drive/MyDrive/urbansound/spectrograms/7/103074-7-1-2.png\n",
            "/content/drive/MyDrive/urbansound/spectrograms/7/103074-7-1-3.png\n",
            "/content/drive/MyDrive/urbansound/spectrograms/7/103074-7-1-4.png\n",
            "/content/drive/MyDrive/urbansound/spectrograms/7/103074-7-1-5.png\n",
            "/content/drive/MyDrive/urbansound/spectrograms/7/103074-7-1-6.png\n",
            "/content/drive/MyDrive/urbansound/spectrograms/7/103074-7-2-0.png\n",
            "/content/drive/MyDrive/urbansound/spectrograms/7/103074-7-3-0.png\n",
            "/content/drive/MyDrive/urbansound/spectrograms/7/103074-7-3-1.png\n",
            "/content/drive/MyDrive/urbansound/spectrograms/7/103074-7-3-2.png\n",
            "/content/drive/MyDrive/urbansound/spectrograms/7/103074-7-3-3.png\n",
            "/content/drive/MyDrive/urbansound/spectrograms/7/103074-7-4-0.png\n",
            "/content/drive/MyDrive/urbansound/spectrograms/7/103074-7-4-1.png\n",
            "/content/drive/MyDrive/urbansound/spectrograms/7/103074-7-4-2.png\n",
            "/content/drive/MyDrive/urbansound/spectrograms/7/103074-7-4-3.png\n"
          ]
        },
        {
          "output_type": "stream",
          "name": "stderr",
          "text": [
            "201it [00:02, 88.48it/s]"
          ]
        },
        {
          "output_type": "stream",
          "name": "stdout",
          "text": [
            "/content/drive/MyDrive/urbansound/spectrograms/7/103074-7-4-4.png\n",
            "/content/drive/MyDrive/urbansound/spectrograms/7/103074-7-4-5.png\n",
            "/content/drive/MyDrive/urbansound/spectrograms/7/103074-7-4-6.png\n",
            "/content/drive/MyDrive/urbansound/spectrograms/3/103076-3-0-0.png\n",
            "/content/drive/MyDrive/urbansound/spectrograms/3/103076-3-1-0.png\n",
            "/content/drive/MyDrive/urbansound/spectrograms/3/103076-3-2-0.png\n",
            "/content/drive/MyDrive/urbansound/spectrograms/4/103199-4-0-0.png\n",
            "/content/drive/MyDrive/urbansound/spectrograms/4/103199-4-0-3.png\n",
            "/content/drive/MyDrive/urbansound/spectrograms/4/103199-4-0-4.png\n",
            "/content/drive/MyDrive/urbansound/spectrograms/4/103199-4-0-5.png\n",
            "/content/drive/MyDrive/urbansound/spectrograms/4/103199-4-0-6.png\n",
            "/content/drive/MyDrive/urbansound/spectrograms/4/103199-4-1-0.png\n",
            "/content/drive/MyDrive/urbansound/spectrograms/4/103199-4-2-0.png\n",
            "/content/drive/MyDrive/urbansound/spectrograms/4/103199-4-2-1.png\n",
            "/content/drive/MyDrive/urbansound/spectrograms/4/103199-4-2-10.png\n",
            "/content/drive/MyDrive/urbansound/spectrograms/4/103199-4-2-11.png\n",
            "/content/drive/MyDrive/urbansound/spectrograms/4/103199-4-2-2.png\n",
            "/content/drive/MyDrive/urbansound/spectrograms/4/103199-4-2-3.png\n",
            "/content/drive/MyDrive/urbansound/spectrograms/4/103199-4-2-4.png\n"
          ]
        },
        {
          "output_type": "stream",
          "name": "stderr",
          "text": [
            "219it [00:02, 87.13it/s]"
          ]
        },
        {
          "output_type": "stream",
          "name": "stdout",
          "text": [
            "/content/drive/MyDrive/urbansound/spectrograms/4/103199-4-2-5.png\n",
            "/content/drive/MyDrive/urbansound/spectrograms/4/103199-4-2-6.png\n",
            "/content/drive/MyDrive/urbansound/spectrograms/4/103199-4-2-7.png\n",
            "/content/drive/MyDrive/urbansound/spectrograms/4/103199-4-2-8.png\n",
            "/content/drive/MyDrive/urbansound/spectrograms/4/103199-4-2-9.png\n",
            "/content/drive/MyDrive/urbansound/spectrograms/4/103199-4-4-0.png\n",
            "/content/drive/MyDrive/urbansound/spectrograms/4/103199-4-6-0.png\n",
            "/content/drive/MyDrive/urbansound/spectrograms/4/103199-4-7-2.png\n",
            "/content/drive/MyDrive/urbansound/spectrograms/5/103249-5-0-0.png\n",
            "/content/drive/MyDrive/urbansound/spectrograms/5/103249-5-0-1.png\n",
            "/content/drive/MyDrive/urbansound/spectrograms/5/103249-5-0-10.png\n",
            "/content/drive/MyDrive/urbansound/spectrograms/5/103249-5-0-11.png\n",
            "/content/drive/MyDrive/urbansound/spectrograms/5/103249-5-0-12.png\n",
            "/content/drive/MyDrive/urbansound/spectrograms/5/103249-5-0-13.png\n",
            "/content/drive/MyDrive/urbansound/spectrograms/5/103249-5-0-14.png\n",
            "/content/drive/MyDrive/urbansound/spectrograms/5/103249-5-0-15.png\n",
            "/content/drive/MyDrive/urbansound/spectrograms/5/103249-5-0-16.png\n",
            "/content/drive/MyDrive/urbansound/spectrograms/5/103249-5-0-17.png\n"
          ]
        },
        {
          "output_type": "stream",
          "name": "stderr",
          "text": [
            "237it [00:02, 86.47it/s]"
          ]
        },
        {
          "output_type": "stream",
          "name": "stdout",
          "text": [
            "/content/drive/MyDrive/urbansound/spectrograms/5/103249-5-0-18.png\n",
            "/content/drive/MyDrive/urbansound/spectrograms/5/103249-5-0-19.png\n",
            "/content/drive/MyDrive/urbansound/spectrograms/5/103249-5-0-2.png\n",
            "/content/drive/MyDrive/urbansound/spectrograms/5/103249-5-0-3.png\n",
            "/content/drive/MyDrive/urbansound/spectrograms/5/103249-5-0-4.png\n",
            "/content/drive/MyDrive/urbansound/spectrograms/5/103249-5-0-5.png\n",
            "/content/drive/MyDrive/urbansound/spectrograms/5/103249-5-0-6.png\n",
            "/content/drive/MyDrive/urbansound/spectrograms/5/103249-5-0-7.png\n",
            "/content/drive/MyDrive/urbansound/spectrograms/5/103249-5-0-8.png\n",
            "/content/drive/MyDrive/urbansound/spectrograms/5/103249-5-0-9.png\n",
            "/content/drive/MyDrive/urbansound/spectrograms/5/103258-5-0-0.png\n",
            "/content/drive/MyDrive/urbansound/spectrograms/5/103258-5-0-1.png\n",
            "/content/drive/MyDrive/urbansound/spectrograms/5/103258-5-0-10.png\n",
            "/content/drive/MyDrive/urbansound/spectrograms/5/103258-5-0-11.png\n",
            "/content/drive/MyDrive/urbansound/spectrograms/5/103258-5-0-12.png\n",
            "/content/drive/MyDrive/urbansound/spectrograms/5/103258-5-0-13.png\n",
            "/content/drive/MyDrive/urbansound/spectrograms/5/103258-5-0-14.png\n",
            "/content/drive/MyDrive/urbansound/spectrograms/5/103258-5-0-15.png\n",
            "/content/drive/MyDrive/urbansound/spectrograms/5/103258-5-0-16.png\n"
          ]
        },
        {
          "output_type": "stream",
          "name": "stderr",
          "text": [
            "256it [00:02, 90.88it/s]"
          ]
        },
        {
          "output_type": "stream",
          "name": "stdout",
          "text": [
            "/content/drive/MyDrive/urbansound/spectrograms/5/103258-5-0-17.png\n",
            "/content/drive/MyDrive/urbansound/spectrograms/5/103258-5-0-18.png\n",
            "/content/drive/MyDrive/urbansound/spectrograms/5/103258-5-0-19.png\n",
            "/content/drive/MyDrive/urbansound/spectrograms/5/103258-5-0-2.png\n",
            "/content/drive/MyDrive/urbansound/spectrograms/5/103258-5-0-3.png\n",
            "/content/drive/MyDrive/urbansound/spectrograms/5/103258-5-0-4.png\n",
            "/content/drive/MyDrive/urbansound/spectrograms/5/103258-5-0-5.png\n",
            "/content/drive/MyDrive/urbansound/spectrograms/5/103258-5-0-6.png\n",
            "/content/drive/MyDrive/urbansound/spectrograms/5/103258-5-0-7.png\n",
            "/content/drive/MyDrive/urbansound/spectrograms/5/103258-5-0-8.png\n",
            "/content/drive/MyDrive/urbansound/spectrograms/5/103258-5-0-9.png\n",
            "/content/drive/MyDrive/urbansound/spectrograms/4/103357-4-0-0.png\n",
            "/content/drive/MyDrive/urbansound/spectrograms/4/103357-4-0-1.png\n",
            "/content/drive/MyDrive/urbansound/spectrograms/5/103438-5-0-0.png\n",
            "/content/drive/MyDrive/urbansound/spectrograms/5/103438-5-0-1.png\n",
            "/content/drive/MyDrive/urbansound/spectrograms/5/103438-5-0-2.png\n",
            "/content/drive/MyDrive/urbansound/spectrograms/2/104327-2-0-15.png\n",
            "/content/drive/MyDrive/urbansound/spectrograms/2/104327-2-0-19.png\n",
            "/content/drive/MyDrive/urbansound/spectrograms/2/104327-2-0-26.png\n"
          ]
        },
        {
          "output_type": "stream",
          "name": "stderr",
          "text": [
            "275it [00:03, 84.24it/s]"
          ]
        },
        {
          "output_type": "stream",
          "name": "stdout",
          "text": [
            "/content/drive/MyDrive/urbansound/spectrograms/2/104327-2-0-28.png\n",
            "/content/drive/MyDrive/urbansound/spectrograms/2/104327-2-0-3.png\n",
            "/content/drive/MyDrive/urbansound/spectrograms/2/104327-2-0-30.png\n",
            "/content/drive/MyDrive/urbansound/spectrograms/2/104327-2-0-34.png\n",
            "/content/drive/MyDrive/urbansound/spectrograms/2/104327-2-0-4.png\n",
            "/content/drive/MyDrive/urbansound/spectrograms/2/104421-2-0-1.png\n",
            "/content/drive/MyDrive/urbansound/spectrograms/2/104421-2-0-15.png\n",
            "/content/drive/MyDrive/urbansound/spectrograms/2/104421-2-0-20.png\n",
            "/content/drive/MyDrive/urbansound/spectrograms/2/104421-2-0-29.png\n",
            "/content/drive/MyDrive/urbansound/spectrograms/2/104421-2-0-3.png\n",
            "/content/drive/MyDrive/urbansound/spectrograms/2/104421-2-0-5.png\n",
            "/content/drive/MyDrive/urbansound/spectrograms/2/104421-2-0-7.png\n",
            "/content/drive/MyDrive/urbansound/spectrograms/2/104421-2-1-3.png\n",
            "/content/drive/MyDrive/urbansound/spectrograms/4/104625-4-0-15.png\n",
            "/content/drive/MyDrive/urbansound/spectrograms/4/104625-4-0-21.png\n",
            "/content/drive/MyDrive/urbansound/spectrograms/4/104625-4-0-27.png\n"
          ]
        },
        {
          "output_type": "stream",
          "name": "stderr",
          "text": [
            "293it [00:03, 81.89it/s]"
          ]
        },
        {
          "output_type": "stream",
          "name": "stdout",
          "text": [
            "/content/drive/MyDrive/urbansound/spectrograms/4/104625-4-0-29.png\n",
            "/content/drive/MyDrive/urbansound/spectrograms/4/104625-4-0-3.png\n",
            "/content/drive/MyDrive/urbansound/spectrograms/4/104625-4-0-35.png\n",
            "/content/drive/MyDrive/urbansound/spectrograms/4/104625-4-0-40.png\n",
            "/content/drive/MyDrive/urbansound/spectrograms/4/104625-4-0-41.png\n",
            "/content/drive/MyDrive/urbansound/spectrograms/4/104625-4-0-45.png\n",
            "/content/drive/MyDrive/urbansound/spectrograms/4/104625-4-0-48.png\n",
            "/content/drive/MyDrive/urbansound/spectrograms/4/104625-4-0-51.png\n",
            "/content/drive/MyDrive/urbansound/spectrograms/4/104625-4-0-52.png\n",
            "/content/drive/MyDrive/urbansound/spectrograms/4/104625-4-0-53.png\n",
            "/content/drive/MyDrive/urbansound/spectrograms/4/104625-4-0-55.png\n",
            "/content/drive/MyDrive/urbansound/spectrograms/4/104625-4-0-57.png\n",
            "/content/drive/MyDrive/urbansound/spectrograms/4/104625-4-0-66.png\n",
            "/content/drive/MyDrive/urbansound/spectrograms/4/104625-4-1-20.png\n",
            "/content/drive/MyDrive/urbansound/spectrograms/4/104625-4-1-8.png\n",
            "/content/drive/MyDrive/urbansound/spectrograms/4/104817-4-0-0.png\n",
            "/content/drive/MyDrive/urbansound/spectrograms/4/104817-4-0-1.png\n",
            "/content/drive/MyDrive/urbansound/spectrograms/4/104817-4-0-10.png\n"
          ]
        },
        {
          "output_type": "stream",
          "name": "stderr",
          "text": [
            "311it [00:03, 83.36it/s]"
          ]
        },
        {
          "output_type": "stream",
          "name": "stdout",
          "text": [
            "/content/drive/MyDrive/urbansound/spectrograms/4/104817-4-0-11.png\n",
            "/content/drive/MyDrive/urbansound/spectrograms/4/104817-4-0-2.png\n",
            "/content/drive/MyDrive/urbansound/spectrograms/4/104817-4-0-3.png\n",
            "/content/drive/MyDrive/urbansound/spectrograms/4/104817-4-0-4.png\n",
            "/content/drive/MyDrive/urbansound/spectrograms/4/104817-4-0-5.png\n",
            "/content/drive/MyDrive/urbansound/spectrograms/4/104817-4-0-6.png\n",
            "/content/drive/MyDrive/urbansound/spectrograms/4/104817-4-0-7.png\n",
            "/content/drive/MyDrive/urbansound/spectrograms/4/104817-4-0-8.png\n",
            "/content/drive/MyDrive/urbansound/spectrograms/4/104817-4-0-9.png\n",
            "/content/drive/MyDrive/urbansound/spectrograms/7/104998-7-0-5.png\n",
            "/content/drive/MyDrive/urbansound/spectrograms/7/104998-7-10-1.png\n",
            "/content/drive/MyDrive/urbansound/spectrograms/7/104998-7-10-10.png\n",
            "/content/drive/MyDrive/urbansound/spectrograms/7/104998-7-10-13.png\n",
            "/content/drive/MyDrive/urbansound/spectrograms/7/104998-7-10-15.png\n",
            "/content/drive/MyDrive/urbansound/spectrograms/7/104998-7-10-8.png\n",
            "/content/drive/MyDrive/urbansound/spectrograms/7/104998-7-10-9.png\n",
            "/content/drive/MyDrive/urbansound/spectrograms/7/104998-7-11-0.png\n",
            "/content/drive/MyDrive/urbansound/spectrograms/7/104998-7-11-2.png\n"
          ]
        },
        {
          "output_type": "stream",
          "name": "stderr",
          "text": [
            "329it [00:03, 83.55it/s]"
          ]
        },
        {
          "output_type": "stream",
          "name": "stdout",
          "text": [
            "/content/drive/MyDrive/urbansound/spectrograms/7/104998-7-12-2.png\n",
            "/content/drive/MyDrive/urbansound/spectrograms/7/104998-7-14-1.png\n",
            "/content/drive/MyDrive/urbansound/spectrograms/7/104998-7-14-5.png\n",
            "/content/drive/MyDrive/urbansound/spectrograms/7/104998-7-14-6.png\n",
            "/content/drive/MyDrive/urbansound/spectrograms/7/104998-7-15-1.png\n",
            "/content/drive/MyDrive/urbansound/spectrograms/7/104998-7-15-3.png\n",
            "/content/drive/MyDrive/urbansound/spectrograms/7/104998-7-15-5.png\n",
            "/content/drive/MyDrive/urbansound/spectrograms/7/104998-7-15-9.png\n",
            "/content/drive/MyDrive/urbansound/spectrograms/7/104998-7-16-0.png\n",
            "/content/drive/MyDrive/urbansound/spectrograms/7/104998-7-16-10.png\n",
            "/content/drive/MyDrive/urbansound/spectrograms/7/104998-7-16-11.png\n",
            "/content/drive/MyDrive/urbansound/spectrograms/7/104998-7-16-5.png\n",
            "/content/drive/MyDrive/urbansound/spectrograms/7/104998-7-16-6.png\n",
            "/content/drive/MyDrive/urbansound/spectrograms/7/104998-7-16-7.png\n",
            "/content/drive/MyDrive/urbansound/spectrograms/7/104998-7-17-0.png\n",
            "/content/drive/MyDrive/urbansound/spectrograms/7/104998-7-17-1.png\n",
            "/content/drive/MyDrive/urbansound/spectrograms/7/104998-7-17-12.png\n"
          ]
        },
        {
          "output_type": "stream",
          "name": "stderr",
          "text": [
            "347it [00:03, 84.41it/s]"
          ]
        },
        {
          "output_type": "stream",
          "name": "stdout",
          "text": [
            "/content/drive/MyDrive/urbansound/spectrograms/7/104998-7-17-14.png\n",
            "/content/drive/MyDrive/urbansound/spectrograms/7/104998-7-17-4.png\n",
            "/content/drive/MyDrive/urbansound/spectrograms/7/104998-7-17-7.png\n",
            "/content/drive/MyDrive/urbansound/spectrograms/7/104998-7-17-8.png\n",
            "/content/drive/MyDrive/urbansound/spectrograms/7/104998-7-18-12.png\n",
            "/content/drive/MyDrive/urbansound/spectrograms/7/104998-7-18-13.png\n",
            "/content/drive/MyDrive/urbansound/spectrograms/7/104998-7-18-3.png\n",
            "/content/drive/MyDrive/urbansound/spectrograms/7/104998-7-18-9.png\n",
            "/content/drive/MyDrive/urbansound/spectrograms/7/104998-7-19-0.png\n",
            "/content/drive/MyDrive/urbansound/spectrograms/7/104998-7-19-3.png\n",
            "/content/drive/MyDrive/urbansound/spectrograms/7/104998-7-19-6.png\n",
            "/content/drive/MyDrive/urbansound/spectrograms/7/104998-7-19-7.png\n",
            "/content/drive/MyDrive/urbansound/spectrograms/7/104998-7-19-8.png\n",
            "/content/drive/MyDrive/urbansound/spectrograms/7/104998-7-19-9.png\n",
            "/content/drive/MyDrive/urbansound/spectrograms/7/104998-7-2-4.png\n",
            "/content/drive/MyDrive/urbansound/spectrograms/7/104998-7-2-5.png\n",
            "/content/drive/MyDrive/urbansound/spectrograms/7/104998-7-2-6.png\n",
            "/content/drive/MyDrive/urbansound/spectrograms/7/104998-7-3-1.png\n"
          ]
        },
        {
          "output_type": "stream",
          "name": "stderr",
          "text": [
            "365it [00:04, 83.50it/s]"
          ]
        },
        {
          "output_type": "stream",
          "name": "stdout",
          "text": [
            "/content/drive/MyDrive/urbansound/spectrograms/7/104998-7-7-0.png\n",
            "/content/drive/MyDrive/urbansound/spectrograms/7/104998-7-7-1.png\n",
            "/content/drive/MyDrive/urbansound/spectrograms/7/104998-7-7-4.png\n",
            "/content/drive/MyDrive/urbansound/spectrograms/7/104998-7-7-7.png\n",
            "/content/drive/MyDrive/urbansound/spectrograms/7/104998-7-7-9.png\n",
            "/content/drive/MyDrive/urbansound/spectrograms/7/104998-7-8-13.png\n",
            "/content/drive/MyDrive/urbansound/spectrograms/7/104998-7-8-14.png\n",
            "/content/drive/MyDrive/urbansound/spectrograms/7/104998-7-8-15.png\n",
            "/content/drive/MyDrive/urbansound/spectrograms/7/104998-7-8-17.png\n",
            "/content/drive/MyDrive/urbansound/spectrograms/7/104998-7-8-4.png\n",
            "/content/drive/MyDrive/urbansound/spectrograms/7/104998-7-8-6.png\n",
            "/content/drive/MyDrive/urbansound/spectrograms/7/104998-7-8-7.png\n",
            "/content/drive/MyDrive/urbansound/spectrograms/7/104998-7-9-0.png\n",
            "/content/drive/MyDrive/urbansound/spectrograms/7/104998-7-9-13.png\n",
            "/content/drive/MyDrive/urbansound/spectrograms/7/104998-7-9-9.png\n",
            "/content/drive/MyDrive/urbansound/spectrograms/7/105029-7-0-0.png\n",
            "/content/drive/MyDrive/urbansound/spectrograms/7/105029-7-0-1.png\n"
          ]
        },
        {
          "output_type": "stream",
          "name": "stderr",
          "text": [
            "384it [00:04, 86.02it/s]"
          ]
        },
        {
          "output_type": "stream",
          "name": "stdout",
          "text": [
            "/content/drive/MyDrive/urbansound/spectrograms/7/105029-7-0-2.png\n",
            "/content/drive/MyDrive/urbansound/spectrograms/7/105029-7-0-3.png\n",
            "/content/drive/MyDrive/urbansound/spectrograms/7/105029-7-0-4.png\n",
            "/content/drive/MyDrive/urbansound/spectrograms/7/105029-7-0-5.png\n",
            "/content/drive/MyDrive/urbansound/spectrograms/7/105029-7-0-6.png\n",
            "/content/drive/MyDrive/urbansound/spectrograms/7/105029-7-1-0.png\n",
            "/content/drive/MyDrive/urbansound/spectrograms/7/105029-7-1-1.png\n",
            "/content/drive/MyDrive/urbansound/spectrograms/7/105029-7-1-10.png\n",
            "/content/drive/MyDrive/urbansound/spectrograms/7/105029-7-1-11.png\n",
            "/content/drive/MyDrive/urbansound/spectrograms/7/105029-7-1-12.png\n",
            "/content/drive/MyDrive/urbansound/spectrograms/7/105029-7-1-13.png\n",
            "/content/drive/MyDrive/urbansound/spectrograms/7/105029-7-1-2.png\n",
            "/content/drive/MyDrive/urbansound/spectrograms/7/105029-7-1-3.png\n",
            "/content/drive/MyDrive/urbansound/spectrograms/7/105029-7-1-4.png\n",
            "/content/drive/MyDrive/urbansound/spectrograms/7/105029-7-1-5.png\n",
            "/content/drive/MyDrive/urbansound/spectrograms/7/105029-7-1-6.png\n",
            "/content/drive/MyDrive/urbansound/spectrograms/7/105029-7-1-7.png\n",
            "/content/drive/MyDrive/urbansound/spectrograms/7/105029-7-1-8.png\n",
            "/content/drive/MyDrive/urbansound/spectrograms/7/105029-7-1-9.png\n"
          ]
        },
        {
          "output_type": "stream",
          "name": "stderr",
          "text": [
            "402it [00:04, 85.78it/s]"
          ]
        },
        {
          "output_type": "stream",
          "name": "stdout",
          "text": [
            "/content/drive/MyDrive/urbansound/spectrograms/7/105029-7-2-0.png\n",
            "/content/drive/MyDrive/urbansound/spectrograms/7/105029-7-2-1.png\n",
            "/content/drive/MyDrive/urbansound/spectrograms/7/105029-7-2-10.png\n",
            "/content/drive/MyDrive/urbansound/spectrograms/7/105029-7-2-11.png\n",
            "/content/drive/MyDrive/urbansound/spectrograms/7/105029-7-2-12.png\n",
            "/content/drive/MyDrive/urbansound/spectrograms/7/105029-7-2-13.png\n",
            "/content/drive/MyDrive/urbansound/spectrograms/7/105029-7-2-14.png\n",
            "/content/drive/MyDrive/urbansound/spectrograms/7/105029-7-2-15.png\n",
            "/content/drive/MyDrive/urbansound/spectrograms/7/105029-7-2-16.png\n",
            "/content/drive/MyDrive/urbansound/spectrograms/7/105029-7-2-2.png\n",
            "/content/drive/MyDrive/urbansound/spectrograms/7/105029-7-2-3.png\n",
            "/content/drive/MyDrive/urbansound/spectrograms/7/105029-7-2-4.png\n",
            "/content/drive/MyDrive/urbansound/spectrograms/7/105029-7-2-5.png\n",
            "/content/drive/MyDrive/urbansound/spectrograms/7/105029-7-2-6.png\n",
            "/content/drive/MyDrive/urbansound/spectrograms/7/105029-7-2-7.png\n",
            "/content/drive/MyDrive/urbansound/spectrograms/7/105029-7-2-8.png\n",
            "/content/drive/MyDrive/urbansound/spectrograms/7/105029-7-2-9.png\n",
            "/content/drive/MyDrive/urbansound/spectrograms/7/105029-7-3-0.png\n"
          ]
        },
        {
          "output_type": "stream",
          "name": "stderr",
          "text": [
            "420it [00:04, 85.57it/s]"
          ]
        },
        {
          "output_type": "stream",
          "name": "stdout",
          "text": [
            "/content/drive/MyDrive/urbansound/spectrograms/7/105029-7-3-1.png\n",
            "/content/drive/MyDrive/urbansound/spectrograms/7/105029-7-3-2.png\n",
            "/content/drive/MyDrive/urbansound/spectrograms/7/105029-7-3-3.png\n",
            "/content/drive/MyDrive/urbansound/spectrograms/7/105029-7-3-4.png\n",
            "/content/drive/MyDrive/urbansound/spectrograms/7/105029-7-3-5.png\n",
            "/content/drive/MyDrive/urbansound/spectrograms/7/105029-7-3-6.png\n",
            "/content/drive/MyDrive/urbansound/spectrograms/7/105029-7-3-7.png\n",
            "/content/drive/MyDrive/urbansound/spectrograms/7/105029-7-4-0.png\n",
            "/content/drive/MyDrive/urbansound/spectrograms/7/105029-7-4-1.png\n",
            "/content/drive/MyDrive/urbansound/spectrograms/7/105029-7-4-2.png\n",
            "/content/drive/MyDrive/urbansound/spectrograms/7/105029-7-4-3.png\n",
            "/content/drive/MyDrive/urbansound/spectrograms/3/105088-3-0-10.png\n",
            "/content/drive/MyDrive/urbansound/spectrograms/3/105088-3-0-11.png\n",
            "/content/drive/MyDrive/urbansound/spectrograms/3/105088-3-0-19.png\n",
            "/content/drive/MyDrive/urbansound/spectrograms/3/105088-3-0-8.png\n",
            "/content/drive/MyDrive/urbansound/spectrograms/8/105289-8-0-0.png\n",
            "/content/drive/MyDrive/urbansound/spectrograms/8/105289-8-0-1.png\n",
            "/content/drive/MyDrive/urbansound/spectrograms/8/105289-8-0-2.png\n"
          ]
        },
        {
          "output_type": "stream",
          "name": "stderr",
          "text": [
            "439it [00:05, 88.09it/s]"
          ]
        },
        {
          "output_type": "stream",
          "name": "stdout",
          "text": [
            "/content/drive/MyDrive/urbansound/spectrograms/8/105289-8-0-3.png\n",
            "/content/drive/MyDrive/urbansound/spectrograms/8/105289-8-0-4.png\n",
            "/content/drive/MyDrive/urbansound/spectrograms/8/105289-8-0-5.png\n",
            "/content/drive/MyDrive/urbansound/spectrograms/8/105289-8-1-0.png\n",
            "/content/drive/MyDrive/urbansound/spectrograms/8/105289-8-1-1.png\n",
            "/content/drive/MyDrive/urbansound/spectrograms/8/105289-8-1-2.png\n",
            "/content/drive/MyDrive/urbansound/spectrograms/8/105289-8-1-3.png\n",
            "/content/drive/MyDrive/urbansound/spectrograms/8/105289-8-1-4.png\n",
            "/content/drive/MyDrive/urbansound/spectrograms/8/105289-8-2-0.png\n",
            "/content/drive/MyDrive/urbansound/spectrograms/8/105289-8-2-1.png\n",
            "/content/drive/MyDrive/urbansound/spectrograms/8/105289-8-2-2.png\n",
            "/content/drive/MyDrive/urbansound/spectrograms/8/105289-8-2-3.png\n",
            "/content/drive/MyDrive/urbansound/spectrograms/8/105289-8-2-4.png\n",
            "/content/drive/MyDrive/urbansound/spectrograms/8/105289-8-2-5.png\n",
            "/content/drive/MyDrive/urbansound/spectrograms/8/105289-8-2-6.png\n",
            "/content/drive/MyDrive/urbansound/spectrograms/8/105289-8-2-7.png\n",
            "/content/drive/MyDrive/urbansound/spectrograms/3/105319-3-0-22.png\n",
            "/content/drive/MyDrive/urbansound/spectrograms/3/105319-3-0-29.png\n",
            "/content/drive/MyDrive/urbansound/spectrograms/3/105319-3-0-39.png\n"
          ]
        },
        {
          "output_type": "stream",
          "name": "stderr",
          "text": [
            "458it [00:05, 89.97it/s]"
          ]
        },
        {
          "output_type": "stream",
          "name": "stdout",
          "text": [
            "/content/drive/MyDrive/urbansound/spectrograms/2/105415-2-0-1.png\n",
            "/content/drive/MyDrive/urbansound/spectrograms/2/105415-2-0-15.png\n",
            "/content/drive/MyDrive/urbansound/spectrograms/2/105415-2-0-19.png\n",
            "/content/drive/MyDrive/urbansound/spectrograms/2/105415-2-0-21.png\n",
            "/content/drive/MyDrive/urbansound/spectrograms/2/105415-2-0-24.png\n",
            "/content/drive/MyDrive/urbansound/spectrograms/2/105415-2-0-4.png\n",
            "/content/drive/MyDrive/urbansound/spectrograms/2/105415-2-0-6.png\n",
            "/content/drive/MyDrive/urbansound/spectrograms/2/105415-2-0-8.png\n",
            "/content/drive/MyDrive/urbansound/spectrograms/9/105425-9-0-1.png\n",
            "/content/drive/MyDrive/urbansound/spectrograms/9/105425-9-0-10.png\n",
            "/content/drive/MyDrive/urbansound/spectrograms/9/105425-9-0-12.png\n",
            "/content/drive/MyDrive/urbansound/spectrograms/9/105425-9-0-13.png\n",
            "/content/drive/MyDrive/urbansound/spectrograms/9/105425-9-0-14.png\n",
            "/content/drive/MyDrive/urbansound/spectrograms/9/105425-9-0-23.png\n",
            "/content/drive/MyDrive/urbansound/spectrograms/5/106014-5-0-0.png\n",
            "/content/drive/MyDrive/urbansound/spectrograms/5/106014-5-0-1.png\n",
            "/content/drive/MyDrive/urbansound/spectrograms/5/106014-5-0-2.png\n",
            "/content/drive/MyDrive/urbansound/spectrograms/5/106014-5-0-3.png\n",
            "/content/drive/MyDrive/urbansound/spectrograms/5/106014-5-0-4.png\n"
          ]
        },
        {
          "output_type": "stream",
          "name": "stderr",
          "text": [
            "477it [00:05, 90.98it/s]"
          ]
        },
        {
          "output_type": "stream",
          "name": "stdout",
          "text": [
            "/content/drive/MyDrive/urbansound/spectrograms/5/106015-5-0-0.png\n",
            "/content/drive/MyDrive/urbansound/spectrograms/5/106015-5-0-1.png\n",
            "/content/drive/MyDrive/urbansound/spectrograms/5/106015-5-0-10.png\n",
            "/content/drive/MyDrive/urbansound/spectrograms/5/106015-5-0-11.png\n",
            "/content/drive/MyDrive/urbansound/spectrograms/5/106015-5-0-12.png\n",
            "/content/drive/MyDrive/urbansound/spectrograms/5/106015-5-0-13.png\n",
            "/content/drive/MyDrive/urbansound/spectrograms/5/106015-5-0-14.png\n",
            "/content/drive/MyDrive/urbansound/spectrograms/5/106015-5-0-15.png\n",
            "/content/drive/MyDrive/urbansound/spectrograms/5/106015-5-0-16.png\n",
            "/content/drive/MyDrive/urbansound/spectrograms/5/106015-5-0-17.png\n",
            "/content/drive/MyDrive/urbansound/spectrograms/5/106015-5-0-18.png\n",
            "/content/drive/MyDrive/urbansound/spectrograms/5/106015-5-0-19.png\n",
            "/content/drive/MyDrive/urbansound/spectrograms/5/106015-5-0-2.png\n",
            "/content/drive/MyDrive/urbansound/spectrograms/5/106015-5-0-20.png\n",
            "/content/drive/MyDrive/urbansound/spectrograms/5/106015-5-0-3.png\n",
            "/content/drive/MyDrive/urbansound/spectrograms/5/106015-5-0-4.png\n",
            "/content/drive/MyDrive/urbansound/spectrograms/5/106015-5-0-5.png\n",
            "/content/drive/MyDrive/urbansound/spectrograms/5/106015-5-0-6.png\n",
            "/content/drive/MyDrive/urbansound/spectrograms/5/106015-5-0-7.png\n"
          ]
        },
        {
          "output_type": "stream",
          "name": "stderr",
          "text": [
            "497it [00:05, 90.21it/s]"
          ]
        },
        {
          "output_type": "stream",
          "name": "stdout",
          "text": [
            "/content/drive/MyDrive/urbansound/spectrograms/5/106015-5-0-8.png\n",
            "/content/drive/MyDrive/urbansound/spectrograms/5/106015-5-0-9.png\n",
            "/content/drive/MyDrive/urbansound/spectrograms/5/106486-5-0-0.png\n",
            "/content/drive/MyDrive/urbansound/spectrograms/5/106486-5-0-1.png\n",
            "/content/drive/MyDrive/urbansound/spectrograms/5/106486-5-0-2.png\n",
            "/content/drive/MyDrive/urbansound/spectrograms/5/106487-5-0-0.png\n",
            "/content/drive/MyDrive/urbansound/spectrograms/5/106487-5-0-1.png\n",
            "/content/drive/MyDrive/urbansound/spectrograms/5/106487-5-0-2.png\n",
            "/content/drive/MyDrive/urbansound/spectrograms/5/106905-5-0-0.png\n",
            "/content/drive/MyDrive/urbansound/spectrograms/5/106905-5-0-1.png\n",
            "/content/drive/MyDrive/urbansound/spectrograms/5/106905-5-0-2.png\n",
            "/content/drive/MyDrive/urbansound/spectrograms/8/106905-8-0-0.png\n",
            "/content/drive/MyDrive/urbansound/spectrograms/8/106905-8-0-1.png\n",
            "/content/drive/MyDrive/urbansound/spectrograms/8/106905-8-0-2.png\n",
            "/content/drive/MyDrive/urbansound/spectrograms/8/106905-8-0-3.png\n",
            "/content/drive/MyDrive/urbansound/spectrograms/6/106955-6-0-0.png\n",
            "/content/drive/MyDrive/urbansound/spectrograms/1/107090-1-0-0.png\n",
            "/content/drive/MyDrive/urbansound/spectrograms/1/107090-1-1-0.png\n",
            "/content/drive/MyDrive/urbansound/spectrograms/3/107190-3-0-0.png\n"
          ]
        },
        {
          "output_type": "stream",
          "name": "stderr",
          "text": [
            "518it [00:05, 93.57it/s]"
          ]
        },
        {
          "output_type": "stream",
          "name": "stdout",
          "text": [
            "/content/drive/MyDrive/urbansound/spectrograms/5/107228-5-0-0.png\n",
            "/content/drive/MyDrive/urbansound/spectrograms/5/107228-5-0-1.png\n",
            "/content/drive/MyDrive/urbansound/spectrograms/5/107228-5-0-2.png\n",
            "/content/drive/MyDrive/urbansound/spectrograms/5/107228-5-0-3.png\n",
            "/content/drive/MyDrive/urbansound/spectrograms/5/107228-5-0-4.png\n",
            "/content/drive/MyDrive/urbansound/spectrograms/5/107228-5-0-5.png\n",
            "/content/drive/MyDrive/urbansound/spectrograms/5/107228-5-0-6.png\n",
            "/content/drive/MyDrive/urbansound/spectrograms/5/107228-5-0-7.png\n",
            "/content/drive/MyDrive/urbansound/spectrograms/8/107357-8-0-0.png\n",
            "/content/drive/MyDrive/urbansound/spectrograms/8/107357-8-0-1.png\n",
            "/content/drive/MyDrive/urbansound/spectrograms/8/107357-8-0-2.png\n",
            "/content/drive/MyDrive/urbansound/spectrograms/8/107357-8-0-3.png\n",
            "/content/drive/MyDrive/urbansound/spectrograms/8/107357-8-0-4.png\n",
            "/content/drive/MyDrive/urbansound/spectrograms/8/107357-8-0-5.png\n",
            "/content/drive/MyDrive/urbansound/spectrograms/8/107357-8-0-6.png\n",
            "/content/drive/MyDrive/urbansound/spectrograms/8/107357-8-0-7.png\n",
            "/content/drive/MyDrive/urbansound/spectrograms/8/107357-8-0-8.png\n",
            "/content/drive/MyDrive/urbansound/spectrograms/8/107357-8-1-0.png\n",
            "/content/drive/MyDrive/urbansound/spectrograms/8/107357-8-1-1.png\n",
            "/content/drive/MyDrive/urbansound/spectrograms/8/107357-8-1-10.png\n"
          ]
        },
        {
          "output_type": "stream",
          "name": "stderr",
          "text": [
            "539it [00:06, 94.93it/s]"
          ]
        },
        {
          "output_type": "stream",
          "name": "stdout",
          "text": [
            "/content/drive/MyDrive/urbansound/spectrograms/8/107357-8-1-11.png\n",
            "/content/drive/MyDrive/urbansound/spectrograms/8/107357-8-1-12.png\n",
            "/content/drive/MyDrive/urbansound/spectrograms/8/107357-8-1-13.png\n",
            "/content/drive/MyDrive/urbansound/spectrograms/8/107357-8-1-14.png\n",
            "/content/drive/MyDrive/urbansound/spectrograms/8/107357-8-1-15.png\n",
            "/content/drive/MyDrive/urbansound/spectrograms/8/107357-8-1-16.png\n",
            "/content/drive/MyDrive/urbansound/spectrograms/8/107357-8-1-17.png\n",
            "/content/drive/MyDrive/urbansound/spectrograms/8/107357-8-1-18.png\n",
            "/content/drive/MyDrive/urbansound/spectrograms/8/107357-8-1-2.png\n",
            "/content/drive/MyDrive/urbansound/spectrograms/8/107357-8-1-3.png\n",
            "/content/drive/MyDrive/urbansound/spectrograms/8/107357-8-1-4.png\n",
            "/content/drive/MyDrive/urbansound/spectrograms/8/107357-8-1-5.png\n",
            "/content/drive/MyDrive/urbansound/spectrograms/8/107357-8-1-6.png\n",
            "/content/drive/MyDrive/urbansound/spectrograms/8/107357-8-1-7.png\n",
            "/content/drive/MyDrive/urbansound/spectrograms/8/107357-8-1-8.png\n",
            "/content/drive/MyDrive/urbansound/spectrograms/8/107357-8-1-9.png\n",
            "/content/drive/MyDrive/urbansound/spectrograms/9/107653-9-0-12.png\n",
            "/content/drive/MyDrive/urbansound/spectrograms/9/107653-9-0-14.png\n",
            "/content/drive/MyDrive/urbansound/spectrograms/9/107653-9-0-18.png\n",
            "/content/drive/MyDrive/urbansound/spectrograms/9/107653-9-0-3.png\n"
          ]
        },
        {
          "output_type": "stream",
          "name": "stderr",
          "text": [
            "\r549it [00:06, 90.14it/s]"
          ]
        },
        {
          "output_type": "stream",
          "name": "stdout",
          "text": [
            "/content/drive/MyDrive/urbansound/spectrograms/9/107653-9-0-5.png\n",
            "/content/drive/MyDrive/urbansound/spectrograms/9/107653-9-0-7.png\n",
            "/content/drive/MyDrive/urbansound/spectrograms/4/107842-4-0-0.png\n",
            "/content/drive/MyDrive/urbansound/spectrograms/4/107842-4-0-1.png\n",
            "/content/drive/MyDrive/urbansound/spectrograms/4/107842-4-0-2.png\n",
            "/content/drive/MyDrive/urbansound/spectrograms/4/107842-4-1-0.png\n",
            "/content/drive/MyDrive/urbansound/spectrograms/4/107842-4-2-0.png\n",
            "/content/drive/MyDrive/urbansound/spectrograms/4/107842-4-2-1.png\n",
            "/content/drive/MyDrive/urbansound/spectrograms/4/107842-4-2-2.png\n",
            "/content/drive/MyDrive/urbansound/spectrograms/4/107842-4-2-3.png\n",
            "/content/drive/MyDrive/urbansound/spectrograms/4/107842-4-2-4.png\n",
            "/content/drive/MyDrive/urbansound/spectrograms/4/107842-4-3-0.png\n",
            "/content/drive/MyDrive/urbansound/spectrograms/9/108041-9-0-11.png\n",
            "/content/drive/MyDrive/urbansound/spectrograms/9/108041-9-0-2.png\n",
            "/content/drive/MyDrive/urbansound/spectrograms/9/108041-9-0-4.png\n",
            "/content/drive/MyDrive/urbansound/spectrograms/9/108041-9-0-5.png\n",
            "/content/drive/MyDrive/urbansound/spectrograms/9/108041-9-0-6.png\n",
            "/content/drive/MyDrive/urbansound/spectrograms/9/108041-9-0-7.png\n"
          ]
        },
        {
          "output_type": "stream",
          "name": "stderr",
          "text": [
            "569it [00:06, 91.87it/s]"
          ]
        },
        {
          "output_type": "stream",
          "name": "stdout",
          "text": [
            "/content/drive/MyDrive/urbansound/spectrograms/9/108041-9-0-9.png\n",
            "/content/drive/MyDrive/urbansound/spectrograms/3/108187-3-2-0.png\n",
            "/content/drive/MyDrive/urbansound/spectrograms/3/108187-3-3-0.png\n",
            "/content/drive/MyDrive/urbansound/spectrograms/3/108187-3-4-0.png\n",
            "/content/drive/MyDrive/urbansound/spectrograms/3/108187-3-6-0.png\n",
            "/content/drive/MyDrive/urbansound/spectrograms/9/108357-9-0-15.png\n",
            "/content/drive/MyDrive/urbansound/spectrograms/9/108357-9-0-2.png\n",
            "/content/drive/MyDrive/urbansound/spectrograms/9/108357-9-0-27.png\n",
            "/content/drive/MyDrive/urbansound/spectrograms/9/108357-9-0-30.png\n",
            "/content/drive/MyDrive/urbansound/spectrograms/9/108357-9-0-44.png\n",
            "/content/drive/MyDrive/urbansound/spectrograms/9/108357-9-0-49.png\n",
            "/content/drive/MyDrive/urbansound/spectrograms/2/108362-2-0-11.png\n",
            "/content/drive/MyDrive/urbansound/spectrograms/2/108362-2-0-12.png\n",
            "/content/drive/MyDrive/urbansound/spectrograms/2/108362-2-0-21.png\n",
            "/content/drive/MyDrive/urbansound/spectrograms/2/108362-2-0-23.png\n",
            "/content/drive/MyDrive/urbansound/spectrograms/2/108362-2-0-29.png\n",
            "/content/drive/MyDrive/urbansound/spectrograms/2/108362-2-0-30.png\n",
            "/content/drive/MyDrive/urbansound/spectrograms/2/108362-2-0-7.png\n",
            "/content/drive/MyDrive/urbansound/spectrograms/2/108362-2-0-9.png\n"
          ]
        },
        {
          "output_type": "stream",
          "name": "stderr",
          "text": [
            "589it [00:06, 92.56it/s]"
          ]
        },
        {
          "output_type": "stream",
          "name": "stdout",
          "text": [
            "/content/drive/MyDrive/urbansound/spectrograms/9/108638-9-0-0.png\n",
            "/content/drive/MyDrive/urbansound/spectrograms/9/108638-9-0-1.png\n",
            "/content/drive/MyDrive/urbansound/spectrograms/9/108638-9-0-2.png\n",
            "/content/drive/MyDrive/urbansound/spectrograms/9/108638-9-0-4.png\n",
            "/content/drive/MyDrive/urbansound/spectrograms/9/108638-9-0-5.png\n",
            "/content/drive/MyDrive/urbansound/spectrograms/9/108638-9-0-6.png\n",
            "/content/drive/MyDrive/urbansound/spectrograms/3/109233-3-0-3.png\n",
            "/content/drive/MyDrive/urbansound/spectrograms/3/109233-3-0-4.png\n",
            "/content/drive/MyDrive/urbansound/spectrograms/3/109233-3-0-5.png\n",
            "/content/drive/MyDrive/urbansound/spectrograms/3/109233-3-0-6.png\n",
            "/content/drive/MyDrive/urbansound/spectrograms/9/109263-9-0-34.png\n",
            "/content/drive/MyDrive/urbansound/spectrograms/9/109263-9-0-39.png\n",
            "/content/drive/MyDrive/urbansound/spectrograms/9/109263-9-0-54.png\n",
            "/content/drive/MyDrive/urbansound/spectrograms/9/109263-9-0-61.png\n",
            "/content/drive/MyDrive/urbansound/spectrograms/9/109263-9-0-78.png\n",
            "/content/drive/MyDrive/urbansound/spectrograms/2/109703-2-0-134.png\n",
            "/content/drive/MyDrive/urbansound/spectrograms/2/109703-2-0-14.png\n",
            "/content/drive/MyDrive/urbansound/spectrograms/2/109703-2-0-153.png\n",
            "/content/drive/MyDrive/urbansound/spectrograms/2/109703-2-0-29.png\n",
            "/content/drive/MyDrive/urbansound/spectrograms/2/109703-2-0-32.png\n"
          ]
        },
        {
          "output_type": "stream",
          "name": "stderr",
          "text": [
            "609it [00:06, 90.30it/s]"
          ]
        },
        {
          "output_type": "stream",
          "name": "stdout",
          "text": [
            "/content/drive/MyDrive/urbansound/spectrograms/2/109703-2-0-48.png\n",
            "/content/drive/MyDrive/urbansound/spectrograms/2/109703-2-0-50.png\n",
            "/content/drive/MyDrive/urbansound/spectrograms/3/109711-3-1-0.png\n",
            "/content/drive/MyDrive/urbansound/spectrograms/3/109711-3-2-4.png\n",
            "/content/drive/MyDrive/urbansound/spectrograms/3/109711-3-2-6.png\n",
            "/content/drive/MyDrive/urbansound/spectrograms/3/110134-3-0-0.png\n",
            "/content/drive/MyDrive/urbansound/spectrograms/3/110371-3-0-1.png\n",
            "/content/drive/MyDrive/urbansound/spectrograms/3/110371-3-1-0.png\n",
            "/content/drive/MyDrive/urbansound/spectrograms/3/110371-3-1-1.png\n",
            "/content/drive/MyDrive/urbansound/spectrograms/3/110389-3-0-0.png\n",
            "/content/drive/MyDrive/urbansound/spectrograms/7/110621-7-0-0.png\n",
            "/content/drive/MyDrive/urbansound/spectrograms/7/110621-7-0-1.png\n",
            "/content/drive/MyDrive/urbansound/spectrograms/7/110621-7-0-2.png\n",
            "/content/drive/MyDrive/urbansound/spectrograms/7/110621-7-0-3.png\n",
            "/content/drive/MyDrive/urbansound/spectrograms/6/110622-6-0-0.png\n",
            "/content/drive/MyDrive/urbansound/spectrograms/3/110688-3-0-11.png\n",
            "/content/drive/MyDrive/urbansound/spectrograms/3/110688-3-0-17.png\n",
            "/content/drive/MyDrive/urbansound/spectrograms/3/110688-3-0-2.png\n",
            "/content/drive/MyDrive/urbansound/spectrograms/3/110688-3-0-32.png"
          ]
        },
        {
          "output_type": "stream",
          "name": "stderr",
          "text": [
            "629it [00:07, 92.36it/s]"
          ]
        },
        {
          "output_type": "stream",
          "name": "stdout",
          "text": [
            "\n",
            "/content/drive/MyDrive/urbansound/spectrograms/9/110868-9-0-11.png\n",
            "/content/drive/MyDrive/urbansound/spectrograms/9/110868-9-0-13.png\n",
            "/content/drive/MyDrive/urbansound/spectrograms/9/110868-9-0-14.png\n",
            "/content/drive/MyDrive/urbansound/spectrograms/9/110868-9-0-15.png\n",
            "/content/drive/MyDrive/urbansound/spectrograms/9/110868-9-0-6.png\n",
            "/content/drive/MyDrive/urbansound/spectrograms/9/110868-9-0-8.png\n",
            "/content/drive/MyDrive/urbansound/spectrograms/3/110918-3-0-1.png\n",
            "/content/drive/MyDrive/urbansound/spectrograms/3/110918-3-0-26.png\n",
            "/content/drive/MyDrive/urbansound/spectrograms/3/110918-3-0-40.png\n",
            "/content/drive/MyDrive/urbansound/spectrograms/3/110918-3-0-9.png\n",
            "/content/drive/MyDrive/urbansound/spectrograms/6/111048-6-0-0.png\n",
            "/content/drive/MyDrive/urbansound/spectrograms/5/111386-5-0-0.png\n",
            "/content/drive/MyDrive/urbansound/spectrograms/5/111386-5-0-1.png\n",
            "/content/drive/MyDrive/urbansound/spectrograms/5/111386-5-0-2.png\n",
            "/content/drive/MyDrive/urbansound/spectrograms/5/111386-5-0-3.png\n",
            "/content/drive/MyDrive/urbansound/spectrograms/5/111386-5-0-4.png\n",
            "/content/drive/MyDrive/urbansound/spectrograms/5/111386-5-0-5.png\n",
            "/content/drive/MyDrive/urbansound/spectrograms/5/111386-5-0-6.png\n",
            "/content/drive/MyDrive/urbansound/spectrograms/5/111386-5-0-7.png\n"
          ]
        },
        {
          "output_type": "stream",
          "name": "stderr",
          "text": [
            "648it [00:07, 88.04it/s]"
          ]
        },
        {
          "output_type": "stream",
          "name": "stdout",
          "text": [
            "/content/drive/MyDrive/urbansound/spectrograms/5/111386-5-1-0.png\n",
            "/content/drive/MyDrive/urbansound/spectrograms/5/111386-5-1-1.png\n",
            "/content/drive/MyDrive/urbansound/spectrograms/5/111386-5-1-10.png\n",
            "/content/drive/MyDrive/urbansound/spectrograms/5/111386-5-1-11.png\n",
            "/content/drive/MyDrive/urbansound/spectrograms/5/111386-5-1-12.png\n",
            "/content/drive/MyDrive/urbansound/spectrograms/5/111386-5-1-13.png\n",
            "/content/drive/MyDrive/urbansound/spectrograms/5/111386-5-1-14.png\n",
            "/content/drive/MyDrive/urbansound/spectrograms/5/111386-5-1-2.png\n",
            "/content/drive/MyDrive/urbansound/spectrograms/5/111386-5-1-3.png\n",
            "/content/drive/MyDrive/urbansound/spectrograms/5/111386-5-1-4.png\n",
            "/content/drive/MyDrive/urbansound/spectrograms/5/111386-5-1-5.png\n",
            "/content/drive/MyDrive/urbansound/spectrograms/5/111386-5-1-6.png\n",
            "/content/drive/MyDrive/urbansound/spectrograms/5/111386-5-1-7.png\n",
            "/content/drive/MyDrive/urbansound/spectrograms/5/111386-5-1-8.png\n",
            "/content/drive/MyDrive/urbansound/spectrograms/5/111386-5-1-9.png\n",
            "/content/drive/MyDrive/urbansound/spectrograms/8/111671-8-0-0.png\n",
            "/content/drive/MyDrive/urbansound/spectrograms/8/111671-8-0-1.png\n",
            "/content/drive/MyDrive/urbansound/spectrograms/8/111671-8-0-10.png\n"
          ]
        },
        {
          "output_type": "stream",
          "name": "stderr",
          "text": [
            "668it [00:07, 91.72it/s]"
          ]
        },
        {
          "output_type": "stream",
          "name": "stdout",
          "text": [
            "/content/drive/MyDrive/urbansound/spectrograms/8/111671-8-0-11.png\n",
            "/content/drive/MyDrive/urbansound/spectrograms/8/111671-8-0-12.png\n",
            "/content/drive/MyDrive/urbansound/spectrograms/8/111671-8-0-13.png\n",
            "/content/drive/MyDrive/urbansound/spectrograms/8/111671-8-0-14.png\n",
            "/content/drive/MyDrive/urbansound/spectrograms/8/111671-8-0-15.png\n",
            "/content/drive/MyDrive/urbansound/spectrograms/8/111671-8-0-16.png\n",
            "/content/drive/MyDrive/urbansound/spectrograms/8/111671-8-0-17.png\n",
            "/content/drive/MyDrive/urbansound/spectrograms/8/111671-8-0-18.png\n",
            "/content/drive/MyDrive/urbansound/spectrograms/8/111671-8-0-19.png\n",
            "/content/drive/MyDrive/urbansound/spectrograms/8/111671-8-0-2.png\n",
            "/content/drive/MyDrive/urbansound/spectrograms/8/111671-8-0-20.png\n",
            "/content/drive/MyDrive/urbansound/spectrograms/8/111671-8-0-21.png\n",
            "/content/drive/MyDrive/urbansound/spectrograms/8/111671-8-0-22.png\n",
            "/content/drive/MyDrive/urbansound/spectrograms/8/111671-8-0-3.png\n",
            "/content/drive/MyDrive/urbansound/spectrograms/8/111671-8-0-4.png\n",
            "/content/drive/MyDrive/urbansound/spectrograms/8/111671-8-0-5.png\n",
            "/content/drive/MyDrive/urbansound/spectrograms/8/111671-8-0-6.png\n",
            "/content/drive/MyDrive/urbansound/spectrograms/8/111671-8-0-7.png\n",
            "/content/drive/MyDrive/urbansound/spectrograms/8/111671-8-0-8.png\n",
            "/content/drive/MyDrive/urbansound/spectrograms/8/111671-8-0-9.png\n"
          ]
        },
        {
          "output_type": "stream",
          "name": "stderr",
          "text": [
            "688it [00:07, 91.98it/s]"
          ]
        },
        {
          "output_type": "stream",
          "name": "stdout",
          "text": [
            "/content/drive/MyDrive/urbansound/spectrograms/5/112075-5-0-0.png\n",
            "/content/drive/MyDrive/urbansound/spectrograms/5/112075-5-0-1.png\n",
            "/content/drive/MyDrive/urbansound/spectrograms/5/112075-5-0-2.png\n",
            "/content/drive/MyDrive/urbansound/spectrograms/3/112195-3-0-38.png\n",
            "/content/drive/MyDrive/urbansound/spectrograms/3/112195-3-0-48.png\n",
            "/content/drive/MyDrive/urbansound/spectrograms/3/112195-3-0-57.png\n",
            "/content/drive/MyDrive/urbansound/spectrograms/3/112195-3-0-80.png\n",
            "/content/drive/MyDrive/urbansound/spectrograms/8/113160-8-0-0.png\n",
            "/content/drive/MyDrive/urbansound/spectrograms/5/113201-5-0-0.png\n",
            "/content/drive/MyDrive/urbansound/spectrograms/5/113201-5-0-1.png\n",
            "/content/drive/MyDrive/urbansound/spectrograms/5/113201-5-0-2.png\n",
            "/content/drive/MyDrive/urbansound/spectrograms/5/113201-5-0-3.png\n",
            "/content/drive/MyDrive/urbansound/spectrograms/5/113201-5-0-4.png\n",
            "/content/drive/MyDrive/urbansound/spectrograms/5/113201-5-0-5.png\n",
            "/content/drive/MyDrive/urbansound/spectrograms/5/113201-5-0-6.png\n",
            "/content/drive/MyDrive/urbansound/spectrograms/5/113201-5-0-7.png\n",
            "/content/drive/MyDrive/urbansound/spectrograms/5/113202-5-0-0.png\n",
            "/content/drive/MyDrive/urbansound/spectrograms/5/113202-5-0-1.png\n",
            "/content/drive/MyDrive/urbansound/spectrograms/5/113202-5-0-10.png\n"
          ]
        },
        {
          "output_type": "stream",
          "name": "stderr",
          "text": [
            "710it [00:07, 98.58it/s]"
          ]
        },
        {
          "output_type": "stream",
          "name": "stdout",
          "text": [
            "/content/drive/MyDrive/urbansound/spectrograms/5/113202-5-0-11.png\n",
            "/content/drive/MyDrive/urbansound/spectrograms/5/113202-5-0-12.png\n",
            "/content/drive/MyDrive/urbansound/spectrograms/5/113202-5-0-13.png\n",
            "/content/drive/MyDrive/urbansound/spectrograms/5/113202-5-0-14.png\n",
            "/content/drive/MyDrive/urbansound/spectrograms/5/113202-5-0-15.png\n",
            "/content/drive/MyDrive/urbansound/spectrograms/5/113202-5-0-16.png\n",
            "/content/drive/MyDrive/urbansound/spectrograms/5/113202-5-0-17.png\n",
            "/content/drive/MyDrive/urbansound/spectrograms/5/113202-5-0-18.png\n",
            "/content/drive/MyDrive/urbansound/spectrograms/5/113202-5-0-19.png\n",
            "/content/drive/MyDrive/urbansound/spectrograms/5/113202-5-0-2.png\n",
            "/content/drive/MyDrive/urbansound/spectrograms/5/113202-5-0-20.png\n",
            "/content/drive/MyDrive/urbansound/spectrograms/5/113202-5-0-21.png\n",
            "/content/drive/MyDrive/urbansound/spectrograms/5/113202-5-0-22.png\n",
            "/content/drive/MyDrive/urbansound/spectrograms/5/113202-5-0-23.png\n",
            "/content/drive/MyDrive/urbansound/spectrograms/5/113202-5-0-24.png\n",
            "/content/drive/MyDrive/urbansound/spectrograms/5/113202-5-0-25.png\n",
            "/content/drive/MyDrive/urbansound/spectrograms/5/113202-5-0-26.png\n",
            "/content/drive/MyDrive/urbansound/spectrograms/5/113202-5-0-27.png\n",
            "/content/drive/MyDrive/urbansound/spectrograms/5/113202-5-0-28.png\n",
            "/content/drive/MyDrive/urbansound/spectrograms/5/113202-5-0-3.png\n",
            "/content/drive/MyDrive/urbansound/spectrograms/5/113202-5-0-4.png\n",
            "/content/drive/MyDrive/urbansound/spectrograms/5/113202-5-0-5.png\n"
          ]
        },
        {
          "output_type": "stream",
          "name": "stderr",
          "text": [
            "732it [00:08, 100.17it/s]"
          ]
        },
        {
          "output_type": "stream",
          "name": "stdout",
          "text": [
            "/content/drive/MyDrive/urbansound/spectrograms/5/113202-5-0-6.png\n",
            "/content/drive/MyDrive/urbansound/spectrograms/5/113202-5-0-7.png\n",
            "/content/drive/MyDrive/urbansound/spectrograms/5/113202-5-0-8.png\n",
            "/content/drive/MyDrive/urbansound/spectrograms/5/113202-5-0-9.png\n",
            "/content/drive/MyDrive/urbansound/spectrograms/5/113203-5-0-0.png\n",
            "/content/drive/MyDrive/urbansound/spectrograms/5/113203-5-0-1.png\n",
            "/content/drive/MyDrive/urbansound/spectrograms/5/113203-5-0-2.png\n",
            "/content/drive/MyDrive/urbansound/spectrograms/5/113203-5-0-3.png\n",
            "/content/drive/MyDrive/urbansound/spectrograms/5/113203-5-0-4.png\n",
            "/content/drive/MyDrive/urbansound/spectrograms/5/113203-5-0-5.png\n",
            "/content/drive/MyDrive/urbansound/spectrograms/5/113203-5-0-6.png\n",
            "/content/drive/MyDrive/urbansound/spectrograms/5/113203-5-0-7.png\n",
            "/content/drive/MyDrive/urbansound/spectrograms/5/113203-5-0-8.png\n",
            "/content/drive/MyDrive/urbansound/spectrograms/5/113203-5-1-0.png\n",
            "/content/drive/MyDrive/urbansound/spectrograms/5/113203-5-1-1.png\n",
            "/content/drive/MyDrive/urbansound/spectrograms/5/113203-5-1-2.png\n",
            "/content/drive/MyDrive/urbansound/spectrograms/5/113203-5-2-0.png\n",
            "/content/drive/MyDrive/urbansound/spectrograms/5/113203-5-3-0.png\n",
            "/content/drive/MyDrive/urbansound/spectrograms/5/113203-5-3-1.png\n",
            "/content/drive/MyDrive/urbansound/spectrograms/5/113203-5-4-0.png\n",
            "/content/drive/MyDrive/urbansound/spectrograms/5/113203-5-5-0.png\n"
          ]
        },
        {
          "output_type": "stream",
          "name": "stderr",
          "text": [
            "754it [00:08, 100.49it/s]"
          ]
        },
        {
          "output_type": "stream",
          "name": "stdout",
          "text": [
            "/content/drive/MyDrive/urbansound/spectrograms/5/113203-5-6-0.png\n",
            "/content/drive/MyDrive/urbansound/spectrograms/5/113203-5-7-0.png\n",
            "/content/drive/MyDrive/urbansound/spectrograms/5/113203-5-8-0.png\n",
            "/content/drive/MyDrive/urbansound/spectrograms/5/113205-5-0-0.png\n",
            "/content/drive/MyDrive/urbansound/spectrograms/5/113205-5-1-0.png\n",
            "/content/drive/MyDrive/urbansound/spectrograms/5/113205-5-1-1.png\n",
            "/content/drive/MyDrive/urbansound/spectrograms/5/113205-5-1-2.png\n",
            "/content/drive/MyDrive/urbansound/spectrograms/5/113205-5-1-3.png\n",
            "/content/drive/MyDrive/urbansound/spectrograms/5/113205-5-1-4.png\n",
            "/content/drive/MyDrive/urbansound/spectrograms/5/113205-5-1-5.png\n",
            "/content/drive/MyDrive/urbansound/spectrograms/5/113205-5-1-6.png\n",
            "/content/drive/MyDrive/urbansound/spectrograms/5/113205-5-1-7.png\n",
            "/content/drive/MyDrive/urbansound/spectrograms/5/113205-5-1-8.png\n",
            "/content/drive/MyDrive/urbansound/spectrograms/5/113205-5-1-9.png\n",
            "/content/drive/MyDrive/urbansound/spectrograms/5/113216-5-0-0.png\n",
            "/content/drive/MyDrive/urbansound/spectrograms/5/113216-5-0-1.png\n",
            "/content/drive/MyDrive/urbansound/spectrograms/5/113216-5-0-2.png\n",
            "/content/drive/MyDrive/urbansound/spectrograms/5/113216-5-0-3.png\n",
            "/content/drive/MyDrive/urbansound/spectrograms/5/113216-5-0-4.png\n",
            "/content/drive/MyDrive/urbansound/spectrograms/9/113601-9-0-22.png\n",
            "/content/drive/MyDrive/urbansound/spectrograms/9/113601-9-0-3.png\n",
            "/content/drive/MyDrive/urbansound/spectrograms/9/113601-9-0-33.png\n"
          ]
        },
        {
          "output_type": "stream",
          "name": "stderr",
          "text": [
            "777it [00:08, 102.17it/s]"
          ]
        },
        {
          "output_type": "stream",
          "name": "stdout",
          "text": [
            "/content/drive/MyDrive/urbansound/spectrograms/9/113601-9-0-34.png\n",
            "/content/drive/MyDrive/urbansound/spectrograms/9/113601-9-0-35.png\n",
            "/content/drive/MyDrive/urbansound/spectrograms/9/113601-9-0-42.png\n",
            "/content/drive/MyDrive/urbansound/spectrograms/3/113785-3-0-0.png\n",
            "/content/drive/MyDrive/urbansound/spectrograms/3/113785-3-1-0.png\n",
            "/content/drive/MyDrive/urbansound/spectrograms/3/114280-3-0-0.png\n",
            "/content/drive/MyDrive/urbansound/spectrograms/3/114280-3-0-1.png\n",
            "/content/drive/MyDrive/urbansound/spectrograms/3/114587-3-0-2.png\n",
            "/content/drive/MyDrive/urbansound/spectrograms/3/114587-3-0-4.png\n",
            "/content/drive/MyDrive/urbansound/spectrograms/3/114587-3-0-5.png\n",
            "/content/drive/MyDrive/urbansound/spectrograms/3/114587-3-0-7.png\n",
            "/content/drive/MyDrive/urbansound/spectrograms/9/115239-9-0-0.png\n",
            "/content/drive/MyDrive/urbansound/spectrograms/9/115239-9-0-1.png\n",
            "/content/drive/MyDrive/urbansound/spectrograms/9/115239-9-0-2.png\n",
            "/content/drive/MyDrive/urbansound/spectrograms/9/115239-9-0-3.png\n",
            "/content/drive/MyDrive/urbansound/spectrograms/9/115239-9-0-4.png\n",
            "/content/drive/MyDrive/urbansound/spectrograms/9/115239-9-0-5.png\n",
            "/content/drive/MyDrive/urbansound/spectrograms/9/115240-9-0-1.png\n",
            "/content/drive/MyDrive/urbansound/spectrograms/9/115240-9-0-16.png\n",
            "/content/drive/MyDrive/urbansound/spectrograms/9/115240-9-0-28.png\n",
            "/content/drive/MyDrive/urbansound/spectrograms/9/115240-9-0-34.png\n"
          ]
        },
        {
          "output_type": "stream",
          "name": "stderr",
          "text": [
            "\r788it [00:08, 100.50it/s]"
          ]
        },
        {
          "output_type": "stream",
          "name": "stdout",
          "text": [
            "/content/drive/MyDrive/urbansound/spectrograms/9/115240-9-0-36.png\n",
            "/content/drive/MyDrive/urbansound/spectrograms/9/115240-9-0-4.png\n",
            "/content/drive/MyDrive/urbansound/spectrograms/9/115241-9-0-1.png\n",
            "/content/drive/MyDrive/urbansound/spectrograms/9/115241-9-0-14.png\n",
            "/content/drive/MyDrive/urbansound/spectrograms/9/115241-9-0-2.png\n",
            "/content/drive/MyDrive/urbansound/spectrograms/9/115241-9-0-20.png\n",
            "/content/drive/MyDrive/urbansound/spectrograms/9/115241-9-0-6.png\n",
            "/content/drive/MyDrive/urbansound/spectrograms/9/115241-9-0-8.png\n",
            "/content/drive/MyDrive/urbansound/spectrograms/9/115241-9-0-9.png\n",
            "/content/drive/MyDrive/urbansound/spectrograms/9/115242-9-0-14.png\n",
            "/content/drive/MyDrive/urbansound/spectrograms/9/115242-9-0-44.png\n",
            "/content/drive/MyDrive/urbansound/spectrograms/9/115242-9-0-55.png\n",
            "/content/drive/MyDrive/urbansound/spectrograms/9/115242-9-0-68.png\n",
            "/content/drive/MyDrive/urbansound/spectrograms/9/115242-9-0-70.png\n",
            "/content/drive/MyDrive/urbansound/spectrograms/9/115242-9-0-83.png\n",
            "/content/drive/MyDrive/urbansound/spectrograms/9/115243-9-0-0.png\n",
            "/content/drive/MyDrive/urbansound/spectrograms/9/115243-9-0-16.png\n",
            "/content/drive/MyDrive/urbansound/spectrograms/9/115243-9-0-4.png\n",
            "/content/drive/MyDrive/urbansound/spectrograms/9/115243-9-0-46.png\n",
            "/content/drive/MyDrive/urbansound/spectrograms/9/115243-9-0-81.png\n",
            "/content/drive/MyDrive/urbansound/spectrograms/9/115243-9-0-94.png\n"
          ]
        },
        {
          "output_type": "stream",
          "name": "stderr",
          "text": [
            "810it [00:08, 99.22it/s]"
          ]
        },
        {
          "output_type": "stream",
          "name": "stdout",
          "text": [
            "/content/drive/MyDrive/urbansound/spectrograms/3/115411-3-0-0.png\n",
            "/content/drive/MyDrive/urbansound/spectrograms/3/115411-3-2-0.png\n",
            "/content/drive/MyDrive/urbansound/spectrograms/3/115411-3-3-0.png\n",
            "/content/drive/MyDrive/urbansound/spectrograms/9/115415-9-0-0.png\n",
            "/content/drive/MyDrive/urbansound/spectrograms/9/115415-9-0-1.png\n",
            "/content/drive/MyDrive/urbansound/spectrograms/9/115415-9-0-4.png\n",
            "/content/drive/MyDrive/urbansound/spectrograms/9/115415-9-0-5.png\n",
            "/content/drive/MyDrive/urbansound/spectrograms/9/115415-9-0-6.png\n",
            "/content/drive/MyDrive/urbansound/spectrograms/9/115415-9-0-7.png\n",
            "/content/drive/MyDrive/urbansound/spectrograms/9/115418-9-0-11.png\n",
            "/content/drive/MyDrive/urbansound/spectrograms/9/115418-9-0-12.png\n",
            "/content/drive/MyDrive/urbansound/spectrograms/9/115418-9-0-15.png\n",
            "/content/drive/MyDrive/urbansound/spectrograms/9/115418-9-0-20.png\n",
            "/content/drive/MyDrive/urbansound/spectrograms/9/115418-9-0-29.png\n",
            "/content/drive/MyDrive/urbansound/spectrograms/9/115418-9-0-6.png\n",
            "/content/drive/MyDrive/urbansound/spectrograms/3/115535-3-0-0.png\n",
            "/content/drive/MyDrive/urbansound/spectrograms/3/115536-3-0-0.png\n",
            "/content/drive/MyDrive/urbansound/spectrograms/3/115537-3-0-0.png\n",
            "/content/drive/MyDrive/urbansound/spectrograms/3/116163-3-0-0.png\n"
          ]
        },
        {
          "output_type": "stream",
          "name": "stderr",
          "text": [
            "830it [00:09, 93.36it/s]"
          ]
        },
        {
          "output_type": "stream",
          "name": "stdout",
          "text": [
            "/content/drive/MyDrive/urbansound/spectrograms/3/116163-3-1-0.png\n",
            "/content/drive/MyDrive/urbansound/spectrograms/3/116163-3-2-0.png\n",
            "/content/drive/MyDrive/urbansound/spectrograms/3/116400-3-0-2.png\n",
            "/content/drive/MyDrive/urbansound/spectrograms/3/116400-3-1-0.png\n",
            "/content/drive/MyDrive/urbansound/spectrograms/3/116400-3-1-1.png\n",
            "/content/drive/MyDrive/urbansound/spectrograms/3/116400-3-1-2.png\n",
            "/content/drive/MyDrive/urbansound/spectrograms/2/116423-2-0-0.png\n",
            "/content/drive/MyDrive/urbansound/spectrograms/2/116423-2-0-1.png\n",
            "/content/drive/MyDrive/urbansound/spectrograms/2/116423-2-0-2.png\n",
            "/content/drive/MyDrive/urbansound/spectrograms/2/116423-2-0-3.png\n",
            "/content/drive/MyDrive/urbansound/spectrograms/2/116423-2-0-4.png\n",
            "/content/drive/MyDrive/urbansound/spectrograms/3/116483-3-0-1.png\n",
            "/content/drive/MyDrive/urbansound/spectrograms/3/116483-3-0-2.png\n",
            "/content/drive/MyDrive/urbansound/spectrograms/3/116483-3-1-0.png\n",
            "/content/drive/MyDrive/urbansound/spectrograms/3/116483-3-1-2.png\n",
            "/content/drive/MyDrive/urbansound/spectrograms/3/116484-3-0-12.png\n",
            "/content/drive/MyDrive/urbansound/spectrograms/3/116484-3-0-16.png\n",
            "/content/drive/MyDrive/urbansound/spectrograms/3/116484-3-0-6.png\n"
          ]
        },
        {
          "output_type": "stream",
          "name": "stderr",
          "text": [
            "851it [00:09, 95.51it/s]"
          ]
        },
        {
          "output_type": "stream",
          "name": "stdout",
          "text": [
            "/content/drive/MyDrive/urbansound/spectrograms/3/116484-3-0-8.png\n",
            "/content/drive/MyDrive/urbansound/spectrograms/3/116485-3-0-4.png\n",
            "/content/drive/MyDrive/urbansound/spectrograms/3/116485-3-0-6.png\n",
            "/content/drive/MyDrive/urbansound/spectrograms/3/116485-3-2-0.png\n",
            "/content/drive/MyDrive/urbansound/spectrograms/3/116485-3-2-4.png\n",
            "/content/drive/MyDrive/urbansound/spectrograms/3/117048-3-0-17.png\n",
            "/content/drive/MyDrive/urbansound/spectrograms/3/117048-3-0-23.png\n",
            "/content/drive/MyDrive/urbansound/spectrograms/3/117048-3-0-25.png\n",
            "/content/drive/MyDrive/urbansound/spectrograms/3/117048-3-0-35.png\n",
            "/content/drive/MyDrive/urbansound/spectrograms/3/117072-3-0-11.png\n",
            "/content/drive/MyDrive/urbansound/spectrograms/3/117072-3-0-14.png\n",
            "/content/drive/MyDrive/urbansound/spectrograms/3/117072-3-0-19.png\n",
            "/content/drive/MyDrive/urbansound/spectrograms/3/117072-3-0-8.png\n",
            "/content/drive/MyDrive/urbansound/spectrograms/8/117181-8-0-0.png\n",
            "/content/drive/MyDrive/urbansound/spectrograms/8/117181-8-0-1.png\n",
            "/content/drive/MyDrive/urbansound/spectrograms/8/117181-8-0-10.png\n",
            "/content/drive/MyDrive/urbansound/spectrograms/8/117181-8-0-11.png\n",
            "/content/drive/MyDrive/urbansound/spectrograms/8/117181-8-0-12.png\n",
            "/content/drive/MyDrive/urbansound/spectrograms/8/117181-8-0-2.png\n",
            "/content/drive/MyDrive/urbansound/spectrograms/8/117181-8-0-3.png\n",
            "/content/drive/MyDrive/urbansound/spectrograms/8/117181-8-0-4.png\n"
          ]
        },
        {
          "output_type": "stream",
          "name": "stderr",
          "text": [
            "872it [00:09, 96.65it/s]"
          ]
        },
        {
          "output_type": "stream",
          "name": "stdout",
          "text": [
            "/content/drive/MyDrive/urbansound/spectrograms/8/117181-8-0-5.png\n",
            "/content/drive/MyDrive/urbansound/spectrograms/8/117181-8-0-6.png\n",
            "/content/drive/MyDrive/urbansound/spectrograms/8/117181-8-0-7.png\n",
            "/content/drive/MyDrive/urbansound/spectrograms/8/117181-8-0-8.png\n",
            "/content/drive/MyDrive/urbansound/spectrograms/8/117181-8-0-9.png\n",
            "/content/drive/MyDrive/urbansound/spectrograms/3/11722-3-0-0.png\n",
            "/content/drive/MyDrive/urbansound/spectrograms/3/11722-3-1-0.png\n",
            "/content/drive/MyDrive/urbansound/spectrograms/3/117271-3-0-0.png\n",
            "/content/drive/MyDrive/urbansound/spectrograms/3/117271-3-0-1.png\n",
            "/content/drive/MyDrive/urbansound/spectrograms/3/117271-3-0-2.png\n",
            "/content/drive/MyDrive/urbansound/spectrograms/3/117271-3-0-3.png\n",
            "/content/drive/MyDrive/urbansound/spectrograms/1/117536-1-0-0.png\n",
            "/content/drive/MyDrive/urbansound/spectrograms/9/117889-9-0-12.png\n",
            "/content/drive/MyDrive/urbansound/spectrograms/9/117889-9-0-20.png\n",
            "/content/drive/MyDrive/urbansound/spectrograms/9/117889-9-0-30.png\n",
            "/content/drive/MyDrive/urbansound/spectrograms/9/117889-9-0-36.png\n",
            "/content/drive/MyDrive/urbansound/spectrograms/9/117889-9-0-39.png\n",
            "/content/drive/MyDrive/urbansound/spectrograms/9/117889-9-0-40.png\n",
            "/content/drive/MyDrive/urbansound/spectrograms/1/118070-1-0-0.png\n",
            "/content/drive/MyDrive/urbansound/spectrograms/3/118072-3-0-0.png\n",
            "/content/drive/MyDrive/urbansound/spectrograms/3/118101-3-0-0.png\n"
          ]
        },
        {
          "output_type": "stream",
          "name": "stderr",
          "text": [
            "892it [00:09, 95.76it/s]"
          ]
        },
        {
          "output_type": "stream",
          "name": "stdout",
          "text": [
            "/content/drive/MyDrive/urbansound/spectrograms/3/118101-3-0-3.png\n",
            "/content/drive/MyDrive/urbansound/spectrograms/3/118101-3-0-4.png\n",
            "/content/drive/MyDrive/urbansound/spectrograms/3/118101-3-0-6.png\n",
            "/content/drive/MyDrive/urbansound/spectrograms/4/118278-4-0-0.png\n",
            "/content/drive/MyDrive/urbansound/spectrograms/4/118278-4-0-1.png\n",
            "/content/drive/MyDrive/urbansound/spectrograms/4/118278-4-0-10.png\n",
            "/content/drive/MyDrive/urbansound/spectrograms/4/118278-4-0-11.png\n",
            "/content/drive/MyDrive/urbansound/spectrograms/4/118278-4-0-12.png\n",
            "/content/drive/MyDrive/urbansound/spectrograms/4/118278-4-0-13.png\n",
            "/content/drive/MyDrive/urbansound/spectrograms/4/118278-4-0-2.png\n",
            "/content/drive/MyDrive/urbansound/spectrograms/4/118278-4-0-3.png\n",
            "/content/drive/MyDrive/urbansound/spectrograms/4/118278-4-0-4.png\n",
            "/content/drive/MyDrive/urbansound/spectrograms/4/118278-4-0-5.png\n",
            "/content/drive/MyDrive/urbansound/spectrograms/4/118278-4-0-6.png\n",
            "/content/drive/MyDrive/urbansound/spectrograms/4/118278-4-0-7.png\n",
            "/content/drive/MyDrive/urbansound/spectrograms/4/118278-4-0-8.png\n",
            "/content/drive/MyDrive/urbansound/spectrograms/4/118278-4-0-9.png\n",
            "/content/drive/MyDrive/urbansound/spectrograms/8/118279-8-0-0.png\n",
            "/content/drive/MyDrive/urbansound/spectrograms/8/118279-8-0-1.png\n",
            "/content/drive/MyDrive/urbansound/spectrograms/8/118279-8-0-10.png\n"
          ]
        },
        {
          "output_type": "stream",
          "name": "stderr",
          "text": [
            "912it [00:10, 92.56it/s]"
          ]
        },
        {
          "output_type": "stream",
          "name": "stdout",
          "text": [
            "/content/drive/MyDrive/urbansound/spectrograms/8/118279-8-0-11.png\n",
            "/content/drive/MyDrive/urbansound/spectrograms/8/118279-8-0-12.png\n",
            "/content/drive/MyDrive/urbansound/spectrograms/8/118279-8-0-13.png\n",
            "/content/drive/MyDrive/urbansound/spectrograms/8/118279-8-0-14.png\n",
            "/content/drive/MyDrive/urbansound/spectrograms/8/118279-8-0-2.png\n",
            "/content/drive/MyDrive/urbansound/spectrograms/8/118279-8-0-3.png\n",
            "/content/drive/MyDrive/urbansound/spectrograms/8/118279-8-0-4.png\n",
            "/content/drive/MyDrive/urbansound/spectrograms/8/118279-8-0-5.png\n",
            "/content/drive/MyDrive/urbansound/spectrograms/8/118279-8-0-6.png\n",
            "/content/drive/MyDrive/urbansound/spectrograms/8/118279-8-0-7.png\n",
            "/content/drive/MyDrive/urbansound/spectrograms/8/118279-8-0-8.png\n",
            "/content/drive/MyDrive/urbansound/spectrograms/8/118279-8-0-9.png\n",
            "/content/drive/MyDrive/urbansound/spectrograms/4/118440-4-0-0.png\n",
            "/content/drive/MyDrive/urbansound/spectrograms/4/118440-4-1-0.png\n",
            "/content/drive/MyDrive/urbansound/spectrograms/4/118440-4-2-0.png\n",
            "/content/drive/MyDrive/urbansound/spectrograms/4/118440-4-3-0.png\n",
            "/content/drive/MyDrive/urbansound/spectrograms/4/118440-4-4-0.png\n"
          ]
        },
        {
          "output_type": "stream",
          "name": "stderr",
          "text": [
            "932it [00:10, 93.45it/s]"
          ]
        },
        {
          "output_type": "stream",
          "name": "stdout",
          "text": [
            "/content/drive/MyDrive/urbansound/spectrograms/4/118440-4-5-0.png\n",
            "/content/drive/MyDrive/urbansound/spectrograms/4/118440-4-6-0.png\n",
            "/content/drive/MyDrive/urbansound/spectrograms/4/118440-4-7-0.png\n",
            "/content/drive/MyDrive/urbansound/spectrograms/4/118440-4-8-0.png\n",
            "/content/drive/MyDrive/urbansound/spectrograms/1/118496-1-0-0.png\n",
            "/content/drive/MyDrive/urbansound/spectrograms/1/118496-1-1-0.png\n",
            "/content/drive/MyDrive/urbansound/spectrograms/5/118558-5-0-0.png\n",
            "/content/drive/MyDrive/urbansound/spectrograms/5/118558-5-0-1.png\n",
            "/content/drive/MyDrive/urbansound/spectrograms/5/118558-5-0-2.png\n",
            "/content/drive/MyDrive/urbansound/spectrograms/5/118558-5-1-0.png\n",
            "/content/drive/MyDrive/urbansound/spectrograms/5/118558-5-1-1.png\n",
            "/content/drive/MyDrive/urbansound/spectrograms/5/118558-5-1-2.png\n",
            "/content/drive/MyDrive/urbansound/spectrograms/5/118558-5-2-0.png\n",
            "/content/drive/MyDrive/urbansound/spectrograms/5/118558-5-2-1.png\n",
            "/content/drive/MyDrive/urbansound/spectrograms/5/118558-5-2-2.png\n",
            "/content/drive/MyDrive/urbansound/spectrograms/5/118558-5-2-3.png\n",
            "/content/drive/MyDrive/urbansound/spectrograms/3/118587-3-0-2.png\n",
            "/content/drive/MyDrive/urbansound/spectrograms/3/118587-3-0-21.png\n",
            "/content/drive/MyDrive/urbansound/spectrograms/3/118587-3-0-6.png\n"
          ]
        },
        {
          "output_type": "stream",
          "name": "stderr",
          "text": [
            "953it [00:10, 97.47it/s]"
          ]
        },
        {
          "output_type": "stream",
          "name": "stdout",
          "text": [
            "/content/drive/MyDrive/urbansound/spectrograms/4/118723-4-0-0.png\n",
            "/content/drive/MyDrive/urbansound/spectrograms/3/118961-3-0-0.png\n",
            "/content/drive/MyDrive/urbansound/spectrograms/3/118962-3-0-0.png\n",
            "/content/drive/MyDrive/urbansound/spectrograms/3/118963-3-0-0.png\n",
            "/content/drive/MyDrive/urbansound/spectrograms/3/118964-3-0-0.png\n",
            "/content/drive/MyDrive/urbansound/spectrograms/0/119067-0-0-0.png\n",
            "/content/drive/MyDrive/urbansound/spectrograms/0/119067-0-0-1.png\n",
            "/content/drive/MyDrive/urbansound/spectrograms/0/119067-0-0-2.png\n",
            "/content/drive/MyDrive/urbansound/spectrograms/3/119420-3-0-0.png\n",
            "/content/drive/MyDrive/urbansound/spectrograms/3/119420-3-1-0.png\n",
            "/content/drive/MyDrive/urbansound/spectrograms/5/119449-5-0-0.png\n",
            "/content/drive/MyDrive/urbansound/spectrograms/5/119449-5-0-1.png\n",
            "/content/drive/MyDrive/urbansound/spectrograms/5/119449-5-0-2.png\n",
            "/content/drive/MyDrive/urbansound/spectrograms/5/119449-5-0-3.png\n",
            "/content/drive/MyDrive/urbansound/spectrograms/5/119449-5-0-4.png\n",
            "/content/drive/MyDrive/urbansound/spectrograms/5/119449-5-0-5.png\n",
            "/content/drive/MyDrive/urbansound/spectrograms/5/119449-5-0-6.png\n",
            "/content/drive/MyDrive/urbansound/spectrograms/5/119455-5-0-0.png\n",
            "/content/drive/MyDrive/urbansound/spectrograms/5/119455-5-0-1.png\n",
            "/content/drive/MyDrive/urbansound/spectrograms/5/119455-5-0-2.png\n",
            "/content/drive/MyDrive/urbansound/spectrograms/5/119455-5-0-3.png\n"
          ]
        },
        {
          "output_type": "stream",
          "name": "stderr",
          "text": [
            "973it [00:10, 93.85it/s]"
          ]
        },
        {
          "output_type": "stream",
          "name": "stdout",
          "text": [
            "/content/drive/MyDrive/urbansound/spectrograms/5/119455-5-0-4.png\n",
            "/content/drive/MyDrive/urbansound/spectrograms/5/119455-5-0-5.png\n",
            "/content/drive/MyDrive/urbansound/spectrograms/5/119455-5-0-6.png\n",
            "/content/drive/MyDrive/urbansound/spectrograms/5/119455-5-0-7.png\n",
            "/content/drive/MyDrive/urbansound/spectrograms/7/119809-7-0-0.png\n",
            "/content/drive/MyDrive/urbansound/spectrograms/7/119809-7-0-1.png\n",
            "/content/drive/MyDrive/urbansound/spectrograms/7/119809-7-0-2.png\n",
            "/content/drive/MyDrive/urbansound/spectrograms/7/119809-7-0-3.png\n",
            "/content/drive/MyDrive/urbansound/spectrograms/7/119809-7-0-4.png\n",
            "/content/drive/MyDrive/urbansound/spectrograms/7/119809-7-0-5.png\n",
            "/content/drive/MyDrive/urbansound/spectrograms/7/119809-7-0-6.png\n",
            "/content/drive/MyDrive/urbansound/spectrograms/0/121285-0-0-0.png\n",
            "/content/drive/MyDrive/urbansound/spectrograms/0/121285-0-0-1.png\n",
            "/content/drive/MyDrive/urbansound/spectrograms/0/121285-0-0-2.png\n",
            "/content/drive/MyDrive/urbansound/spectrograms/0/121285-0-0-3.png\n",
            "/content/drive/MyDrive/urbansound/spectrograms/0/121285-0-0-4.png\n",
            "/content/drive/MyDrive/urbansound/spectrograms/0/121285-0-0-5.png\n",
            "/content/drive/MyDrive/urbansound/spectrograms/0/121285-0-0-6.png\n",
            "/content/drive/MyDrive/urbansound/spectrograms/0/121285-0-0-7.png\n"
          ]
        },
        {
          "output_type": "stream",
          "name": "stderr",
          "text": [
            "993it [00:10, 93.13it/s]"
          ]
        },
        {
          "output_type": "stream",
          "name": "stdout",
          "text": [
            "/content/drive/MyDrive/urbansound/spectrograms/0/121285-0-0-8.png\n",
            "/content/drive/MyDrive/urbansound/spectrograms/0/121285-0-0-9.png\n",
            "/content/drive/MyDrive/urbansound/spectrograms/0/121286-0-0-0.png\n",
            "/content/drive/MyDrive/urbansound/spectrograms/0/121286-0-0-1.png\n",
            "/content/drive/MyDrive/urbansound/spectrograms/0/121286-0-0-10.png\n",
            "/content/drive/MyDrive/urbansound/spectrograms/0/121286-0-0-11.png\n",
            "/content/drive/MyDrive/urbansound/spectrograms/0/121286-0-0-12.png\n",
            "/content/drive/MyDrive/urbansound/spectrograms/0/121286-0-0-13.png\n",
            "/content/drive/MyDrive/urbansound/spectrograms/0/121286-0-0-14.png\n",
            "/content/drive/MyDrive/urbansound/spectrograms/0/121286-0-0-15.png\n",
            "/content/drive/MyDrive/urbansound/spectrograms/0/121286-0-0-2.png\n",
            "/content/drive/MyDrive/urbansound/spectrograms/0/121286-0-0-3.png\n",
            "/content/drive/MyDrive/urbansound/spectrograms/0/121286-0-0-4.png\n",
            "/content/drive/MyDrive/urbansound/spectrograms/0/121286-0-0-5.png\n",
            "/content/drive/MyDrive/urbansound/spectrograms/0/121286-0-0-6.png\n",
            "/content/drive/MyDrive/urbansound/spectrograms/0/121286-0-0-7.png\n",
            "/content/drive/MyDrive/urbansound/spectrograms/0/121286-0-0-8.png\n",
            "/content/drive/MyDrive/urbansound/spectrograms/0/121286-0-0-9.png\n",
            "/content/drive/MyDrive/urbansound/spectrograms/1/121299-1-0-0.png\n",
            "/content/drive/MyDrive/urbansound/spectrograms/8/121528-8-1-0.png"
          ]
        },
        {
          "output_type": "stream",
          "name": "stderr",
          "text": [
            "\r1003it [00:11, 92.03it/s]"
          ]
        },
        {
          "output_type": "stream",
          "name": "stdout",
          "text": [
            "\n",
            "/content/drive/MyDrive/urbansound/spectrograms/8/121528-8-1-1.png\n",
            "/content/drive/MyDrive/urbansound/spectrograms/3/121888-3-0-0.png\n",
            "/content/drive/MyDrive/urbansound/spectrograms/3/122199-3-1-1.png\n",
            "/content/drive/MyDrive/urbansound/spectrograms/3/122199-3-1-2.png\n",
            "/content/drive/MyDrive/urbansound/spectrograms/3/122199-3-1-3.png\n",
            "/content/drive/MyDrive/urbansound/spectrograms/3/122199-3-1-6.png\n",
            "/content/drive/MyDrive/urbansound/spectrograms/6/122690-6-0-0.png\n",
            "/content/drive/MyDrive/urbansound/spectrograms/9/122738-9-0-11.png\n",
            "/content/drive/MyDrive/urbansound/spectrograms/9/122738-9-0-12.png\n",
            "/content/drive/MyDrive/urbansound/spectrograms/9/122738-9-0-2.png\n",
            "/content/drive/MyDrive/urbansound/spectrograms/9/122738-9-0-3.png\n",
            "/content/drive/MyDrive/urbansound/spectrograms/9/122738-9-0-5.png\n",
            "/content/drive/MyDrive/urbansound/spectrograms/9/122738-9-0-9.png\n",
            "/content/drive/MyDrive/urbansound/spectrograms/2/123399-2-0-13.png\n",
            "/content/drive/MyDrive/urbansound/spectrograms/2/123399-2-0-19.png\n",
            "/content/drive/MyDrive/urbansound/spectrograms/2/123399-2-0-22.png\n",
            "/content/drive/MyDrive/urbansound/spectrograms/2/123399-2-0-5.png\n",
            "/content/drive/MyDrive/urbansound/spectrograms/2/123399-2-0-54.png\n",
            "/content/drive/MyDrive/urbansound/spectrograms/2/123399-2-0-74.png\n"
          ]
        },
        {
          "output_type": "stream",
          "name": "stderr",
          "text": [
            "1023it [00:11, 92.44it/s]"
          ]
        },
        {
          "output_type": "stream",
          "name": "stdout",
          "text": [
            "/content/drive/MyDrive/urbansound/spectrograms/2/123399-2-0-83.png\n",
            "/content/drive/MyDrive/urbansound/spectrograms/2/123399-2-0-91.png\n",
            "/content/drive/MyDrive/urbansound/spectrograms/5/123685-5-0-0.png\n",
            "/content/drive/MyDrive/urbansound/spectrograms/5/123685-5-0-1.png\n",
            "/content/drive/MyDrive/urbansound/spectrograms/5/123685-5-0-2.png\n",
            "/content/drive/MyDrive/urbansound/spectrograms/5/123685-5-0-3.png\n",
            "/content/drive/MyDrive/urbansound/spectrograms/5/123685-5-0-4.png\n",
            "/content/drive/MyDrive/urbansound/spectrograms/5/123685-5-0-5.png\n",
            "/content/drive/MyDrive/urbansound/spectrograms/5/123685-5-0-6.png\n",
            "/content/drive/MyDrive/urbansound/spectrograms/5/123685-5-0-7.png\n",
            "/content/drive/MyDrive/urbansound/spectrograms/5/123685-5-0-8.png\n",
            "/content/drive/MyDrive/urbansound/spectrograms/8/123688-8-0-0.png\n",
            "/content/drive/MyDrive/urbansound/spectrograms/8/123688-8-0-1.png\n",
            "/content/drive/MyDrive/urbansound/spectrograms/8/123688-8-0-10.png\n",
            "/content/drive/MyDrive/urbansound/spectrograms/8/123688-8-0-11.png\n",
            "/content/drive/MyDrive/urbansound/spectrograms/8/123688-8-0-12.png\n",
            "/content/drive/MyDrive/urbansound/spectrograms/8/123688-8-0-13.png\n",
            "/content/drive/MyDrive/urbansound/spectrograms/8/123688-8-0-14.png\n",
            "/content/drive/MyDrive/urbansound/spectrograms/8/123688-8-0-15.png\n"
          ]
        },
        {
          "output_type": "stream",
          "name": "stderr",
          "text": [
            "1043it [00:11, 89.11it/s]"
          ]
        },
        {
          "output_type": "stream",
          "name": "stdout",
          "text": [
            "/content/drive/MyDrive/urbansound/spectrograms/8/123688-8-0-16.png\n",
            "/content/drive/MyDrive/urbansound/spectrograms/8/123688-8-0-17.png\n",
            "/content/drive/MyDrive/urbansound/spectrograms/8/123688-8-0-18.png\n",
            "/content/drive/MyDrive/urbansound/spectrograms/8/123688-8-0-2.png\n",
            "/content/drive/MyDrive/urbansound/spectrograms/8/123688-8-0-3.png\n",
            "/content/drive/MyDrive/urbansound/spectrograms/8/123688-8-0-4.png\n",
            "/content/drive/MyDrive/urbansound/spectrograms/8/123688-8-0-5.png\n",
            "/content/drive/MyDrive/urbansound/spectrograms/8/123688-8-0-6.png\n",
            "/content/drive/MyDrive/urbansound/spectrograms/8/123688-8-0-7.png\n",
            "/content/drive/MyDrive/urbansound/spectrograms/8/123688-8-0-8.png\n",
            "/content/drive/MyDrive/urbansound/spectrograms/8/123688-8-0-9.png\n",
            "/content/drive/MyDrive/urbansound/spectrograms/8/123688-8-1-0.png\n",
            "/content/drive/MyDrive/urbansound/spectrograms/8/123688-8-1-1.png\n",
            "/content/drive/MyDrive/urbansound/spectrograms/8/123688-8-1-2.png\n",
            "/content/drive/MyDrive/urbansound/spectrograms/8/123688-8-1-3.png\n",
            "/content/drive/MyDrive/urbansound/spectrograms/8/123688-8-1-4.png\n",
            "/content/drive/MyDrive/urbansound/spectrograms/8/123688-8-1-5.png\n",
            "/content/drive/MyDrive/urbansound/spectrograms/8/123688-8-2-0.png\n",
            "/content/drive/MyDrive/urbansound/spectrograms/8/123688-8-2-1.png\n"
          ]
        },
        {
          "output_type": "stream",
          "name": "stderr",
          "text": [
            "1062it [00:11, 90.20it/s]"
          ]
        },
        {
          "output_type": "stream",
          "name": "stdout",
          "text": [
            "/content/drive/MyDrive/urbansound/spectrograms/8/123688-8-2-2.png\n",
            "/content/drive/MyDrive/urbansound/spectrograms/8/123688-8-2-3.png\n",
            "/content/drive/MyDrive/urbansound/spectrograms/8/123688-8-2-4.png\n",
            "/content/drive/MyDrive/urbansound/spectrograms/8/124389-8-1-0.png\n",
            "/content/drive/MyDrive/urbansound/spectrograms/8/124389-8-1-1.png\n",
            "/content/drive/MyDrive/urbansound/spectrograms/8/124389-8-1-10.png\n",
            "/content/drive/MyDrive/urbansound/spectrograms/8/124389-8-1-11.png\n",
            "/content/drive/MyDrive/urbansound/spectrograms/8/124389-8-1-12.png\n",
            "/content/drive/MyDrive/urbansound/spectrograms/8/124389-8-1-13.png\n",
            "/content/drive/MyDrive/urbansound/spectrograms/8/124389-8-1-14.png\n",
            "/content/drive/MyDrive/urbansound/spectrograms/8/124389-8-1-15.png\n",
            "/content/drive/MyDrive/urbansound/spectrograms/8/124389-8-1-16.png\n",
            "/content/drive/MyDrive/urbansound/spectrograms/8/124389-8-1-17.png\n",
            "/content/drive/MyDrive/urbansound/spectrograms/8/124389-8-1-18.png\n",
            "/content/drive/MyDrive/urbansound/spectrograms/8/124389-8-1-2.png\n",
            "/content/drive/MyDrive/urbansound/spectrograms/8/124389-8-1-3.png\n",
            "/content/drive/MyDrive/urbansound/spectrograms/8/124389-8-1-4.png\n",
            "/content/drive/MyDrive/urbansound/spectrograms/8/124389-8-1-5.png\n",
            "/content/drive/MyDrive/urbansound/spectrograms/8/124389-8-1-6.png\n"
          ]
        },
        {
          "output_type": "stream",
          "name": "stderr",
          "text": [
            "1082it [00:11, 90.71it/s]"
          ]
        },
        {
          "output_type": "stream",
          "name": "stdout",
          "text": [
            "/content/drive/MyDrive/urbansound/spectrograms/8/124389-8-1-7.png\n",
            "/content/drive/MyDrive/urbansound/spectrograms/8/124389-8-1-8.png\n",
            "/content/drive/MyDrive/urbansound/spectrograms/8/124389-8-1-9.png\n",
            "/content/drive/MyDrive/urbansound/spectrograms/9/124489-9-0-12.png\n",
            "/content/drive/MyDrive/urbansound/spectrograms/9/124489-9-0-14.png\n",
            "/content/drive/MyDrive/urbansound/spectrograms/9/124489-9-0-16.png\n",
            "/content/drive/MyDrive/urbansound/spectrograms/9/124489-9-0-17.png\n",
            "/content/drive/MyDrive/urbansound/spectrograms/9/124489-9-0-18.png\n",
            "/content/drive/MyDrive/urbansound/spectrograms/9/124489-9-0-6.png\n",
            "/content/drive/MyDrive/urbansound/spectrograms/1/125520-1-0-0.png\n",
            "/content/drive/MyDrive/urbansound/spectrograms/1/125520-1-1-0.png\n",
            "/content/drive/MyDrive/urbansound/spectrograms/1/125520-1-2-0.png\n",
            "/content/drive/MyDrive/urbansound/spectrograms/1/125520-1-3-0.png\n",
            "/content/drive/MyDrive/urbansound/spectrograms/1/125520-1-4-0.png\n",
            "/content/drive/MyDrive/urbansound/spectrograms/3/125523-3-0-1.png\n",
            "/content/drive/MyDrive/urbansound/spectrograms/3/125523-3-0-11.png\n",
            "/content/drive/MyDrive/urbansound/spectrograms/3/125523-3-0-3.png\n",
            "/content/drive/MyDrive/urbansound/spectrograms/3/125554-3-0-0.png\n",
            "/content/drive/MyDrive/urbansound/spectrograms/3/125574-3-0-0.png\n",
            "/content/drive/MyDrive/urbansound/spectrograms/7/125678-7-0-0.png\n"
          ]
        },
        {
          "output_type": "stream",
          "name": "stderr",
          "text": [
            "1102it [00:12, 89.59it/s]"
          ]
        },
        {
          "output_type": "stream",
          "name": "stdout",
          "text": [
            "/content/drive/MyDrive/urbansound/spectrograms/7/125678-7-0-1.png\n",
            "/content/drive/MyDrive/urbansound/spectrograms/7/125678-7-0-2.png\n",
            "/content/drive/MyDrive/urbansound/spectrograms/7/125678-7-0-3.png\n",
            "/content/drive/MyDrive/urbansound/spectrograms/7/125678-7-0-4.png\n",
            "/content/drive/MyDrive/urbansound/spectrograms/7/125678-7-0-5.png\n",
            "/content/drive/MyDrive/urbansound/spectrograms/7/125678-7-0-6.png\n",
            "/content/drive/MyDrive/urbansound/spectrograms/7/125678-7-0-7.png\n",
            "/content/drive/MyDrive/urbansound/spectrograms/7/125678-7-0-8.png\n",
            "/content/drive/MyDrive/urbansound/spectrograms/7/125678-7-0-9.png\n",
            "/content/drive/MyDrive/urbansound/spectrograms/7/125678-7-1-0.png\n",
            "/content/drive/MyDrive/urbansound/spectrograms/7/125678-7-1-1.png\n",
            "/content/drive/MyDrive/urbansound/spectrograms/7/125678-7-1-2.png\n",
            "/content/drive/MyDrive/urbansound/spectrograms/7/125678-7-1-3.png\n",
            "/content/drive/MyDrive/urbansound/spectrograms/7/125678-7-1-4.png\n",
            "/content/drive/MyDrive/urbansound/spectrograms/7/125678-7-1-5.png\n",
            "/content/drive/MyDrive/urbansound/spectrograms/7/125678-7-1-6.png\n",
            "/content/drive/MyDrive/urbansound/spectrograms/7/125678-7-1-7.png\n",
            "/content/drive/MyDrive/urbansound/spectrograms/7/125678-7-1-8.png\n"
          ]
        },
        {
          "output_type": "stream",
          "name": "stderr",
          "text": [
            "1120it [00:12, 85.38it/s]"
          ]
        },
        {
          "output_type": "stream",
          "name": "stdout",
          "text": [
            "/content/drive/MyDrive/urbansound/spectrograms/7/125678-7-2-0.png\n",
            "/content/drive/MyDrive/urbansound/spectrograms/7/125678-7-2-1.png\n",
            "/content/drive/MyDrive/urbansound/spectrograms/7/125678-7-2-2.png\n",
            "/content/drive/MyDrive/urbansound/spectrograms/7/125678-7-2-3.png\n",
            "/content/drive/MyDrive/urbansound/spectrograms/7/125678-7-2-4.png\n",
            "/content/drive/MyDrive/urbansound/spectrograms/7/125678-7-2-5.png\n",
            "/content/drive/MyDrive/urbansound/spectrograms/7/125678-7-2-6.png\n",
            "/content/drive/MyDrive/urbansound/spectrograms/7/125678-7-2-7.png\n",
            "/content/drive/MyDrive/urbansound/spectrograms/7/125678-7-2-8.png\n",
            "/content/drive/MyDrive/urbansound/spectrograms/7/125678-7-3-0.png\n",
            "/content/drive/MyDrive/urbansound/spectrograms/7/125678-7-3-1.png\n",
            "/content/drive/MyDrive/urbansound/spectrograms/7/125678-7-3-2.png\n",
            "/content/drive/MyDrive/urbansound/spectrograms/7/125678-7-3-3.png\n",
            "/content/drive/MyDrive/urbansound/spectrograms/7/125678-7-3-4.png\n",
            "/content/drive/MyDrive/urbansound/spectrograms/7/125678-7-3-5.png\n",
            "/content/drive/MyDrive/urbansound/spectrograms/7/125678-7-3-6.png\n",
            "/content/drive/MyDrive/urbansound/spectrograms/7/125678-7-3-7.png\n"
          ]
        },
        {
          "output_type": "stream",
          "name": "stderr",
          "text": [
            "1139it [00:12, 86.95it/s]"
          ]
        },
        {
          "output_type": "stream",
          "name": "stdout",
          "text": [
            "/content/drive/MyDrive/urbansound/spectrograms/7/125678-7-4-0.png\n",
            "/content/drive/MyDrive/urbansound/spectrograms/7/125678-7-4-1.png\n",
            "/content/drive/MyDrive/urbansound/spectrograms/7/125678-7-4-2.png\n",
            "/content/drive/MyDrive/urbansound/spectrograms/7/125678-7-4-3.png\n",
            "/content/drive/MyDrive/urbansound/spectrograms/7/125678-7-4-4.png\n",
            "/content/drive/MyDrive/urbansound/spectrograms/7/125678-7-4-5.png\n",
            "/content/drive/MyDrive/urbansound/spectrograms/7/125678-7-4-6.png\n",
            "/content/drive/MyDrive/urbansound/spectrograms/7/125678-7-4-7.png\n",
            "/content/drive/MyDrive/urbansound/spectrograms/7/125678-7-4-8.png\n",
            "/content/drive/MyDrive/urbansound/spectrograms/3/125791-3-0-12.png\n",
            "/content/drive/MyDrive/urbansound/spectrograms/3/125791-3-0-13.png\n",
            "/content/drive/MyDrive/urbansound/spectrograms/3/125791-3-0-15.png\n",
            "/content/drive/MyDrive/urbansound/spectrograms/3/125791-3-0-9.png\n",
            "/content/drive/MyDrive/urbansound/spectrograms/9/126153-9-0-0.png\n",
            "/content/drive/MyDrive/urbansound/spectrograms/9/126153-9-0-1.png\n",
            "/content/drive/MyDrive/urbansound/spectrograms/9/126153-9-0-11.png\n",
            "/content/drive/MyDrive/urbansound/spectrograms/9/126153-9-0-4.png\n",
            "/content/drive/MyDrive/urbansound/spectrograms/9/126153-9-0-5.png\n"
          ]
        },
        {
          "output_type": "stream",
          "name": "stderr",
          "text": [
            "1158it [00:12, 88.56it/s]"
          ]
        },
        {
          "output_type": "stream",
          "name": "stdout",
          "text": [
            "/content/drive/MyDrive/urbansound/spectrograms/9/126153-9-0-6.png\n",
            "/content/drive/MyDrive/urbansound/spectrograms/9/126153-9-0-8.png\n",
            "/content/drive/MyDrive/urbansound/spectrograms/3/12647-3-0-0.png\n",
            "/content/drive/MyDrive/urbansound/spectrograms/3/12647-3-1-0.png\n",
            "/content/drive/MyDrive/urbansound/spectrograms/3/12647-3-2-0.png\n",
            "/content/drive/MyDrive/urbansound/spectrograms/3/12647-3-3-0.png\n",
            "/content/drive/MyDrive/urbansound/spectrograms/3/126521-3-0-12.png\n",
            "/content/drive/MyDrive/urbansound/spectrograms/3/126521-3-0-17.png\n",
            "/content/drive/MyDrive/urbansound/spectrograms/3/126521-3-0-18.png\n",
            "/content/drive/MyDrive/urbansound/spectrograms/3/126521-3-0-2.png\n",
            "/content/drive/MyDrive/urbansound/spectrograms/4/127443-4-0-0.png\n",
            "/content/drive/MyDrive/urbansound/spectrograms/4/127443-4-0-1.png\n",
            "/content/drive/MyDrive/urbansound/spectrograms/4/127443-4-0-10.png\n",
            "/content/drive/MyDrive/urbansound/spectrograms/4/127443-4-0-11.png\n",
            "/content/drive/MyDrive/urbansound/spectrograms/4/127443-4-0-12.png\n",
            "/content/drive/MyDrive/urbansound/spectrograms/4/127443-4-0-2.png\n",
            "/content/drive/MyDrive/urbansound/spectrograms/4/127443-4-0-3.png\n",
            "/content/drive/MyDrive/urbansound/spectrograms/4/127443-4-0-4.png\n",
            "/content/drive/MyDrive/urbansound/spectrograms/4/127443-4-0-5.png\n"
          ]
        },
        {
          "output_type": "stream",
          "name": "stderr",
          "text": [
            "1177it [00:12, 91.29it/s]"
          ]
        },
        {
          "output_type": "stream",
          "name": "stdout",
          "text": [
            "/content/drive/MyDrive/urbansound/spectrograms/4/127443-4-0-6.png\n",
            "/content/drive/MyDrive/urbansound/spectrograms/4/127443-4-0-7.png\n",
            "/content/drive/MyDrive/urbansound/spectrograms/4/127443-4-0-8.png\n",
            "/content/drive/MyDrive/urbansound/spectrograms/4/127443-4-0-9.png\n",
            "/content/drive/MyDrive/urbansound/spectrograms/4/127538-4-0-0.png\n",
            "/content/drive/MyDrive/urbansound/spectrograms/4/127538-4-1-0.png\n",
            "/content/drive/MyDrive/urbansound/spectrograms/4/127538-4-2-0.png\n",
            "/content/drive/MyDrive/urbansound/spectrograms/0/127872-0-0-0.png\n",
            "/content/drive/MyDrive/urbansound/spectrograms/0/127873-0-0-0.png\n",
            "/content/drive/MyDrive/urbansound/spectrograms/3/128030-3-0-0.png\n",
            "/content/drive/MyDrive/urbansound/spectrograms/3/128030-3-1-0.png\n",
            "/content/drive/MyDrive/urbansound/spectrograms/3/128030-3-2-0.png\n",
            "/content/drive/MyDrive/urbansound/spectrograms/5/12812-5-0-0.png\n",
            "/content/drive/MyDrive/urbansound/spectrograms/5/12812-5-0-1.png\n",
            "/content/drive/MyDrive/urbansound/spectrograms/5/12812-5-0-2.png\n",
            "/content/drive/MyDrive/urbansound/spectrograms/9/128152-9-0-10.png\n",
            "/content/drive/MyDrive/urbansound/spectrograms/9/128152-9-0-126.png\n",
            "/content/drive/MyDrive/urbansound/spectrograms/9/128152-9-0-167.png\n",
            "/content/drive/MyDrive/urbansound/spectrograms/9/128152-9-0-48.png\n",
            "/content/drive/MyDrive/urbansound/spectrograms/9/128152-9-0-49.png\n",
            "/content/drive/MyDrive/urbansound/spectrograms/9/128152-9-0-67.png"
          ]
        },
        {
          "output_type": "stream",
          "name": "stderr",
          "text": [
            "1197it [00:13, 91.66it/s]"
          ]
        },
        {
          "output_type": "stream",
          "name": "stdout",
          "text": [
            "\n",
            "/content/drive/MyDrive/urbansound/spectrograms/5/128160-5-0-0.png\n",
            "/content/drive/MyDrive/urbansound/spectrograms/5/128160-5-0-1.png\n",
            "/content/drive/MyDrive/urbansound/spectrograms/5/128160-5-0-10.png\n",
            "/content/drive/MyDrive/urbansound/spectrograms/5/128160-5-0-11.png\n",
            "/content/drive/MyDrive/urbansound/spectrograms/5/128160-5-0-12.png\n",
            "/content/drive/MyDrive/urbansound/spectrograms/5/128160-5-0-13.png\n",
            "/content/drive/MyDrive/urbansound/spectrograms/5/128160-5-0-14.png\n",
            "/content/drive/MyDrive/urbansound/spectrograms/5/128160-5-0-15.png\n",
            "/content/drive/MyDrive/urbansound/spectrograms/5/128160-5-0-2.png\n",
            "/content/drive/MyDrive/urbansound/spectrograms/5/128160-5-0-3.png\n",
            "/content/drive/MyDrive/urbansound/spectrograms/5/128160-5-0-4.png\n",
            "/content/drive/MyDrive/urbansound/spectrograms/5/128160-5-0-5.png\n",
            "/content/drive/MyDrive/urbansound/spectrograms/5/128160-5-0-6.png\n",
            "/content/drive/MyDrive/urbansound/spectrograms/5/128160-5-0-7.png\n",
            "/content/drive/MyDrive/urbansound/spectrograms/5/128160-5-0-8.png\n",
            "/content/drive/MyDrive/urbansound/spectrograms/5/128160-5-0-9.png\n",
            "/content/drive/MyDrive/urbansound/spectrograms/3/128240-3-0-1.png\n",
            "/content/drive/MyDrive/urbansound/spectrograms/3/128240-3-0-20.png\n"
          ]
        },
        {
          "output_type": "stream",
          "name": "stderr",
          "text": [
            "1218it [00:13, 93.37it/s]"
          ]
        },
        {
          "output_type": "stream",
          "name": "stdout",
          "text": [
            "/content/drive/MyDrive/urbansound/spectrograms/3/128240-3-0-39.png\n",
            "/content/drive/MyDrive/urbansound/spectrograms/3/128240-3-0-42.png\n",
            "/content/drive/MyDrive/urbansound/spectrograms/1/128465-1-0-0.png\n",
            "/content/drive/MyDrive/urbansound/spectrograms/1/128465-1-0-1.png\n",
            "/content/drive/MyDrive/urbansound/spectrograms/1/128465-1-0-2.png\n",
            "/content/drive/MyDrive/urbansound/spectrograms/1/128465-1-0-3.png\n",
            "/content/drive/MyDrive/urbansound/spectrograms/1/128465-1-0-4.png\n",
            "/content/drive/MyDrive/urbansound/spectrograms/1/128465-1-0-5.png\n",
            "/content/drive/MyDrive/urbansound/spectrograms/1/128465-1-0-6.png\n",
            "/content/drive/MyDrive/urbansound/spectrograms/1/128465-1-0-7.png\n",
            "/content/drive/MyDrive/urbansound/spectrograms/1/128465-1-0-8.png\n",
            "/content/drive/MyDrive/urbansound/spectrograms/3/128470-3-0-0.png\n",
            "/content/drive/MyDrive/urbansound/spectrograms/3/128470-3-0-1.png\n",
            "/content/drive/MyDrive/urbansound/spectrograms/3/128470-3-0-5.png\n",
            "/content/drive/MyDrive/urbansound/spectrograms/3/128470-3-0-8.png\n",
            "/content/drive/MyDrive/urbansound/spectrograms/4/128607-4-0-0.png\n",
            "/content/drive/MyDrive/urbansound/spectrograms/4/128607-4-0-1.png\n",
            "/content/drive/MyDrive/urbansound/spectrograms/4/128607-4-0-2.png\n",
            "/content/drive/MyDrive/urbansound/spectrograms/4/128607-4-0-3.png\n",
            "/content/drive/MyDrive/urbansound/spectrograms/4/128607-4-0-4.png\n"
          ]
        },
        {
          "output_type": "stream",
          "name": "stderr",
          "text": [
            "1238it [00:13, 91.63it/s]"
          ]
        },
        {
          "output_type": "stream",
          "name": "stdout",
          "text": [
            "/content/drive/MyDrive/urbansound/spectrograms/4/128607-4-1-0.png\n",
            "/content/drive/MyDrive/urbansound/spectrograms/4/128607-4-1-1.png\n",
            "/content/drive/MyDrive/urbansound/spectrograms/4/128607-4-1-2.png\n",
            "/content/drive/MyDrive/urbansound/spectrograms/4/128607-4-1-3.png\n",
            "/content/drive/MyDrive/urbansound/spectrograms/3/128891-3-0-2.png\n",
            "/content/drive/MyDrive/urbansound/spectrograms/3/128891-3-0-4.png\n",
            "/content/drive/MyDrive/urbansound/spectrograms/3/128891-3-0-5.png\n",
            "/content/drive/MyDrive/urbansound/spectrograms/2/129356-2-0-101.png\n",
            "/content/drive/MyDrive/urbansound/spectrograms/2/129356-2-0-115.png\n",
            "/content/drive/MyDrive/urbansound/spectrograms/2/129356-2-0-118.png\n",
            "/content/drive/MyDrive/urbansound/spectrograms/2/129356-2-0-129.png\n",
            "/content/drive/MyDrive/urbansound/spectrograms/2/129356-2-0-199.png\n",
            "/content/drive/MyDrive/urbansound/spectrograms/2/129356-2-0-48.png\n",
            "/content/drive/MyDrive/urbansound/spectrograms/2/129356-2-0-98.png\n",
            "/content/drive/MyDrive/urbansound/spectrograms/2/129750-2-0-3.png\n",
            "/content/drive/MyDrive/urbansound/spectrograms/2/129750-2-0-34.png\n",
            "/content/drive/MyDrive/urbansound/spectrograms/2/129750-2-0-36.png\n",
            "/content/drive/MyDrive/urbansound/spectrograms/2/129750-2-0-37.png\n",
            "/content/drive/MyDrive/urbansound/spectrograms/2/129750-2-0-4.png\n"
          ]
        },
        {
          "output_type": "stream",
          "name": "stderr",
          "text": [
            "1257it [00:13, 88.60it/s]"
          ]
        },
        {
          "output_type": "stream",
          "name": "stdout",
          "text": [
            "/content/drive/MyDrive/urbansound/spectrograms/2/129750-2-0-45.png\n",
            "/content/drive/MyDrive/urbansound/spectrograms/2/129750-2-0-46.png\n",
            "/content/drive/MyDrive/urbansound/spectrograms/2/129750-2-0-48.png\n",
            "/content/drive/MyDrive/urbansound/spectrograms/3/130030-3-0-0.png\n",
            "/content/drive/MyDrive/urbansound/spectrograms/4/130961-4-0-0.png\n",
            "/content/drive/MyDrive/urbansound/spectrograms/4/130961-4-1-1.png\n",
            "/content/drive/MyDrive/urbansound/spectrograms/4/130961-4-1-2.png\n",
            "/content/drive/MyDrive/urbansound/spectrograms/4/130961-4-1-3.png\n",
            "/content/drive/MyDrive/urbansound/spectrograms/4/130961-4-1-4.png\n",
            "/content/drive/MyDrive/urbansound/spectrograms/4/130961-4-2-1.png\n",
            "/content/drive/MyDrive/urbansound/spectrograms/4/130961-4-2-2.png\n",
            "/content/drive/MyDrive/urbansound/spectrograms/4/130961-4-3-0.png\n",
            "/content/drive/MyDrive/urbansound/spectrograms/4/130961-4-3-1.png\n",
            "/content/drive/MyDrive/urbansound/spectrograms/4/130961-4-3-2.png\n",
            "/content/drive/MyDrive/urbansound/spectrograms/4/130961-4-4-0.png\n",
            "/content/drive/MyDrive/urbansound/spectrograms/4/130961-4-5-0.png\n",
            "/content/drive/MyDrive/urbansound/spectrograms/4/130961-4-5-1.png\n",
            "/content/drive/MyDrive/urbansound/spectrograms/4/130961-4-5-2.png\n"
          ]
        },
        {
          "output_type": "stream",
          "name": "stderr",
          "text": [
            "1276it [00:14, 87.83it/s]"
          ]
        },
        {
          "output_type": "stream",
          "name": "stdout",
          "text": [
            "/content/drive/MyDrive/urbansound/spectrograms/4/130961-4-5-3.png\n",
            "/content/drive/MyDrive/urbansound/spectrograms/4/130961-4-5-4.png\n",
            "/content/drive/MyDrive/urbansound/spectrograms/4/130961-4-5-5.png\n",
            "/content/drive/MyDrive/urbansound/spectrograms/3/131199-3-0-0.png\n",
            "/content/drive/MyDrive/urbansound/spectrograms/9/131428-9-0-3.png\n",
            "/content/drive/MyDrive/urbansound/spectrograms/9/131428-9-0-5.png\n",
            "/content/drive/MyDrive/urbansound/spectrograms/9/131428-9-1-0.png\n",
            "/content/drive/MyDrive/urbansound/spectrograms/9/131428-9-1-19.png\n",
            "/content/drive/MyDrive/urbansound/spectrograms/9/131428-9-1-8.png\n",
            "/content/drive/MyDrive/urbansound/spectrograms/9/131428-9-1-9.png\n",
            "/content/drive/MyDrive/urbansound/spectrograms/6/131571-6-0-0.png\n",
            "/content/drive/MyDrive/urbansound/spectrograms/7/131918-7-0-0.png\n",
            "/content/drive/MyDrive/urbansound/spectrograms/7/131918-7-0-1.png\n",
            "/content/drive/MyDrive/urbansound/spectrograms/7/131918-7-0-2.png\n",
            "/content/drive/MyDrive/urbansound/spectrograms/7/131918-7-0-3.png\n",
            "/content/drive/MyDrive/urbansound/spectrograms/7/131918-7-0-4.png\n",
            "/content/drive/MyDrive/urbansound/spectrograms/7/131918-7-0-5.png\n",
            "/content/drive/MyDrive/urbansound/spectrograms/7/131918-7-0-6.png\n"
          ]
        },
        {
          "output_type": "stream",
          "name": "stderr",
          "text": [
            "\r1285it [00:14, 87.27it/s]"
          ]
        },
        {
          "output_type": "stream",
          "name": "stdout",
          "text": [
            "/content/drive/MyDrive/urbansound/spectrograms/7/131918-7-0-7.png\n",
            "/content/drive/MyDrive/urbansound/spectrograms/7/131918-7-0-8.png\n",
            "/content/drive/MyDrive/urbansound/spectrograms/7/132016-7-0-0.png\n",
            "/content/drive/MyDrive/urbansound/spectrograms/7/132016-7-0-1.png\n",
            "/content/drive/MyDrive/urbansound/spectrograms/7/132016-7-0-2.png\n",
            "/content/drive/MyDrive/urbansound/spectrograms/7/132016-7-0-3.png\n",
            "/content/drive/MyDrive/urbansound/spectrograms/7/132016-7-0-4.png\n",
            "/content/drive/MyDrive/urbansound/spectrograms/7/132016-7-0-5.png\n",
            "/content/drive/MyDrive/urbansound/spectrograms/7/132016-7-0-6.png\n",
            "/content/drive/MyDrive/urbansound/spectrograms/7/132016-7-0-7.png\n",
            "/content/drive/MyDrive/urbansound/spectrograms/7/132016-7-0-8.png\n",
            "/content/drive/MyDrive/urbansound/spectrograms/9/132016-9-0-0.png\n",
            "/content/drive/MyDrive/urbansound/spectrograms/9/132016-9-0-11.png\n",
            "/content/drive/MyDrive/urbansound/spectrograms/9/132016-9-0-14.png\n",
            "/content/drive/MyDrive/urbansound/spectrograms/9/132016-9-0-16.png\n",
            "/content/drive/MyDrive/urbansound/spectrograms/9/132016-9-0-20.png\n",
            "/content/drive/MyDrive/urbansound/spectrograms/9/132016-9-0-6.png\n",
            "/content/drive/MyDrive/urbansound/spectrograms/7/132021-7-0-0.png\n",
            "/content/drive/MyDrive/urbansound/spectrograms/7/132021-7-0-1.png\n",
            "/content/drive/MyDrive/urbansound/spectrograms/7/132021-7-0-10.png\n"
          ]
        },
        {
          "output_type": "stream",
          "name": "stderr",
          "text": [
            "1305it [00:14, 88.90it/s]"
          ]
        },
        {
          "output_type": "stream",
          "name": "stdout",
          "text": [
            "/content/drive/MyDrive/urbansound/spectrograms/7/132021-7-0-11.png\n",
            "/content/drive/MyDrive/urbansound/spectrograms/7/132021-7-0-12.png\n",
            "/content/drive/MyDrive/urbansound/spectrograms/7/132021-7-0-2.png\n",
            "/content/drive/MyDrive/urbansound/spectrograms/7/132021-7-0-3.png\n",
            "/content/drive/MyDrive/urbansound/spectrograms/7/132021-7-0-4.png\n",
            "/content/drive/MyDrive/urbansound/spectrograms/7/132021-7-0-5.png\n",
            "/content/drive/MyDrive/urbansound/spectrograms/7/132021-7-0-6.png\n",
            "/content/drive/MyDrive/urbansound/spectrograms/7/132021-7-0-7.png\n",
            "/content/drive/MyDrive/urbansound/spectrograms/7/132021-7-0-8.png\n",
            "/content/drive/MyDrive/urbansound/spectrograms/7/132021-7-0-9.png\n",
            "/content/drive/MyDrive/urbansound/spectrograms/7/132021-7-1-0.png\n",
            "/content/drive/MyDrive/urbansound/spectrograms/1/132073-1-0-0.png\n",
            "/content/drive/MyDrive/urbansound/spectrograms/1/132073-1-1-0.png\n",
            "/content/drive/MyDrive/urbansound/spectrograms/1/132073-1-2-0.png\n",
            "/content/drive/MyDrive/urbansound/spectrograms/1/132073-1-3-0.png\n",
            "/content/drive/MyDrive/urbansound/spectrograms/1/132073-1-4-0.png\n",
            "/content/drive/MyDrive/urbansound/spectrograms/1/132073-1-5-0.png\n",
            "/content/drive/MyDrive/urbansound/spectrograms/1/132073-1-6-0.png\n",
            "/content/drive/MyDrive/urbansound/spectrograms/9/132108-9-0-12.png\n"
          ]
        },
        {
          "output_type": "stream",
          "name": "stderr",
          "text": [
            "1325it [00:14, 89.57it/s]"
          ]
        },
        {
          "output_type": "stream",
          "name": "stdout",
          "text": [
            "/content/drive/MyDrive/urbansound/spectrograms/9/132108-9-0-21.png\n",
            "/content/drive/MyDrive/urbansound/spectrograms/9/132108-9-1-1.png\n",
            "/content/drive/MyDrive/urbansound/spectrograms/9/132108-9-1-24.png\n",
            "/content/drive/MyDrive/urbansound/spectrograms/9/132108-9-1-26.png\n",
            "/content/drive/MyDrive/urbansound/spectrograms/9/132108-9-1-27.png\n",
            "/content/drive/MyDrive/urbansound/spectrograms/9/132162-9-1-3.png\n",
            "/content/drive/MyDrive/urbansound/spectrograms/9/132162-9-1-58.png\n",
            "/content/drive/MyDrive/urbansound/spectrograms/9/132162-9-1-63.png\n",
            "/content/drive/MyDrive/urbansound/spectrograms/9/132162-9-1-67.png\n",
            "/content/drive/MyDrive/urbansound/spectrograms/9/132162-9-1-68.png\n",
            "/content/drive/MyDrive/urbansound/spectrograms/9/132162-9-1-73.png\n",
            "/content/drive/MyDrive/urbansound/spectrograms/0/13230-0-0-1.png\n",
            "/content/drive/MyDrive/urbansound/spectrograms/0/13230-0-0-10.png\n",
            "/content/drive/MyDrive/urbansound/spectrograms/0/13230-0-0-11.png\n",
            "/content/drive/MyDrive/urbansound/spectrograms/0/13230-0-0-12.png\n",
            "/content/drive/MyDrive/urbansound/spectrograms/0/13230-0-0-13.png\n",
            "/content/drive/MyDrive/urbansound/spectrograms/0/13230-0-0-14.png\n",
            "/content/drive/MyDrive/urbansound/spectrograms/0/13230-0-0-16.png\n"
          ]
        },
        {
          "output_type": "stream",
          "name": "stderr",
          "text": [
            "1344it [00:14, 89.68it/s]"
          ]
        },
        {
          "output_type": "stream",
          "name": "stdout",
          "text": [
            "/content/drive/MyDrive/urbansound/spectrograms/0/13230-0-0-17.png\n",
            "/content/drive/MyDrive/urbansound/spectrograms/0/13230-0-0-18.png\n",
            "/content/drive/MyDrive/urbansound/spectrograms/0/13230-0-0-19.png\n",
            "/content/drive/MyDrive/urbansound/spectrograms/0/13230-0-0-20.png\n",
            "/content/drive/MyDrive/urbansound/spectrograms/0/13230-0-0-22.png\n",
            "/content/drive/MyDrive/urbansound/spectrograms/0/13230-0-0-23.png\n",
            "/content/drive/MyDrive/urbansound/spectrograms/0/13230-0-0-24.png\n",
            "/content/drive/MyDrive/urbansound/spectrograms/0/13230-0-0-25.png\n",
            "/content/drive/MyDrive/urbansound/spectrograms/0/13230-0-0-26.png\n",
            "/content/drive/MyDrive/urbansound/spectrograms/0/13230-0-0-27.png\n",
            "/content/drive/MyDrive/urbansound/spectrograms/0/13230-0-0-28.png\n",
            "/content/drive/MyDrive/urbansound/spectrograms/0/13230-0-0-3.png\n",
            "/content/drive/MyDrive/urbansound/spectrograms/0/13230-0-0-5.png\n",
            "/content/drive/MyDrive/urbansound/spectrograms/0/13230-0-0-6.png\n",
            "/content/drive/MyDrive/urbansound/spectrograms/0/13230-0-0-7.png\n",
            "/content/drive/MyDrive/urbansound/spectrograms/0/13230-0-0-8.png\n",
            "/content/drive/MyDrive/urbansound/spectrograms/0/13230-0-0-9.png\n",
            "/content/drive/MyDrive/urbansound/spectrograms/2/132855-2-0-113.png\n",
            "/content/drive/MyDrive/urbansound/spectrograms/2/132855-2-0-41.png\n"
          ]
        },
        {
          "output_type": "stream",
          "name": "stderr",
          "text": [
            "1362it [00:15, 86.43it/s]"
          ]
        },
        {
          "output_type": "stream",
          "name": "stdout",
          "text": [
            "/content/drive/MyDrive/urbansound/spectrograms/2/132855-2-0-58.png\n",
            "/content/drive/MyDrive/urbansound/spectrograms/2/132855-2-0-70.png\n",
            "/content/drive/MyDrive/urbansound/spectrograms/2/132855-2-0-77.png\n",
            "/content/drive/MyDrive/urbansound/spectrograms/2/132855-2-0-88.png\n",
            "/content/drive/MyDrive/urbansound/spectrograms/2/132855-2-0-90.png\n",
            "/content/drive/MyDrive/urbansound/spectrograms/2/132855-2-0-99.png\n",
            "/content/drive/MyDrive/urbansound/spectrograms/2/133090-2-0-14.png\n",
            "/content/drive/MyDrive/urbansound/spectrograms/2/133090-2-0-20.png\n",
            "/content/drive/MyDrive/urbansound/spectrograms/2/133090-2-0-28.png\n",
            "/content/drive/MyDrive/urbansound/spectrograms/2/133090-2-0-37.png\n",
            "/content/drive/MyDrive/urbansound/spectrograms/2/133090-2-0-38.png\n",
            "/content/drive/MyDrive/urbansound/spectrograms/2/133090-2-0-64.png\n",
            "/content/drive/MyDrive/urbansound/spectrograms/2/133090-2-0-70.png\n",
            "/content/drive/MyDrive/urbansound/spectrograms/2/133090-2-0-76.png\n",
            "/content/drive/MyDrive/urbansound/spectrograms/8/133473-8-0-0.png\n",
            "/content/drive/MyDrive/urbansound/spectrograms/8/133473-8-0-1.png\n",
            "/content/drive/MyDrive/urbansound/spectrograms/8/133473-8-0-2.png\n",
            "/content/drive/MyDrive/urbansound/spectrograms/8/133473-8-0-3.png\n"
          ]
        },
        {
          "output_type": "stream",
          "name": "stderr",
          "text": [
            "1381it [00:15, 87.36it/s]"
          ]
        },
        {
          "output_type": "stream",
          "name": "stdout",
          "text": [
            "/content/drive/MyDrive/urbansound/spectrograms/8/133473-8-0-4.png\n",
            "/content/drive/MyDrive/urbansound/spectrograms/8/133473-8-0-5.png\n",
            "/content/drive/MyDrive/urbansound/spectrograms/2/133494-2-0-18.png\n",
            "/content/drive/MyDrive/urbansound/spectrograms/2/133494-2-0-19.png\n",
            "/content/drive/MyDrive/urbansound/spectrograms/2/133494-2-0-22.png\n",
            "/content/drive/MyDrive/urbansound/spectrograms/2/133494-2-0-25.png\n",
            "/content/drive/MyDrive/urbansound/spectrograms/2/133494-2-0-26.png\n",
            "/content/drive/MyDrive/urbansound/spectrograms/2/133494-2-0-31.png\n",
            "/content/drive/MyDrive/urbansound/spectrograms/2/133494-2-0-37.png\n",
            "/content/drive/MyDrive/urbansound/spectrograms/2/133494-2-0-45.png\n",
            "/content/drive/MyDrive/urbansound/spectrograms/6/133797-6-0-0.png\n",
            "/content/drive/MyDrive/urbansound/spectrograms/6/133797-6-1-0.png\n",
            "/content/drive/MyDrive/urbansound/spectrograms/6/133797-6-2-0.png\n",
            "/content/drive/MyDrive/urbansound/spectrograms/0/134717-0-0-0.png\n",
            "/content/drive/MyDrive/urbansound/spectrograms/0/134717-0-0-1.png\n",
            "/content/drive/MyDrive/urbansound/spectrograms/0/134717-0-0-12.png\n",
            "/content/drive/MyDrive/urbansound/spectrograms/0/134717-0-0-13.png\n",
            "/content/drive/MyDrive/urbansound/spectrograms/0/134717-0-0-14.png\n",
            "/content/drive/MyDrive/urbansound/spectrograms/0/134717-0-0-15.png\n"
          ]
        },
        {
          "output_type": "stream",
          "name": "stderr",
          "text": [
            "1399it [00:15, 86.97it/s]"
          ]
        },
        {
          "output_type": "stream",
          "name": "stdout",
          "text": [
            "/content/drive/MyDrive/urbansound/spectrograms/0/134717-0-0-16.png\n",
            "/content/drive/MyDrive/urbansound/spectrograms/0/134717-0-0-18.png\n",
            "/content/drive/MyDrive/urbansound/spectrograms/0/134717-0-0-19.png\n",
            "/content/drive/MyDrive/urbansound/spectrograms/0/134717-0-0-2.png\n",
            "/content/drive/MyDrive/urbansound/spectrograms/0/134717-0-0-20.png\n",
            "/content/drive/MyDrive/urbansound/spectrograms/0/134717-0-0-21.png\n",
            "/content/drive/MyDrive/urbansound/spectrograms/0/134717-0-0-22.png\n",
            "/content/drive/MyDrive/urbansound/spectrograms/0/134717-0-0-23.png\n",
            "/content/drive/MyDrive/urbansound/spectrograms/0/134717-0-0-24.png\n",
            "/content/drive/MyDrive/urbansound/spectrograms/0/134717-0-0-25.png\n",
            "/content/drive/MyDrive/urbansound/spectrograms/0/134717-0-0-26.png\n",
            "/content/drive/MyDrive/urbansound/spectrograms/0/134717-0-0-27.png\n",
            "/content/drive/MyDrive/urbansound/spectrograms/0/134717-0-0-28.png\n",
            "/content/drive/MyDrive/urbansound/spectrograms/0/134717-0-0-4.png\n",
            "/content/drive/MyDrive/urbansound/spectrograms/0/134717-0-0-5.png\n",
            "/content/drive/MyDrive/urbansound/spectrograms/0/134717-0-0-6.png\n",
            "/content/drive/MyDrive/urbansound/spectrograms/0/134717-0-0-7.png\n",
            "/content/drive/MyDrive/urbansound/spectrograms/0/134717-0-0-8.png\n",
            "/content/drive/MyDrive/urbansound/spectrograms/0/134717-0-0-9.png\n"
          ]
        },
        {
          "output_type": "stream",
          "name": "stderr",
          "text": [
            "1418it [00:15, 87.58it/s]"
          ]
        },
        {
          "output_type": "stream",
          "name": "stdout",
          "text": [
            "/content/drive/MyDrive/urbansound/spectrograms/8/135160-8-0-0.png\n",
            "/content/drive/MyDrive/urbansound/spectrograms/8/135160-8-0-1.png\n",
            "/content/drive/MyDrive/urbansound/spectrograms/8/135160-8-0-10.png\n",
            "/content/drive/MyDrive/urbansound/spectrograms/8/135160-8-0-11.png\n",
            "/content/drive/MyDrive/urbansound/spectrograms/8/135160-8-0-2.png\n",
            "/content/drive/MyDrive/urbansound/spectrograms/8/135160-8-0-3.png\n",
            "/content/drive/MyDrive/urbansound/spectrograms/8/135160-8-0-4.png\n",
            "/content/drive/MyDrive/urbansound/spectrograms/8/135160-8-0-5.png\n",
            "/content/drive/MyDrive/urbansound/spectrograms/8/135160-8-0-6.png\n",
            "/content/drive/MyDrive/urbansound/spectrograms/8/135160-8-0-7.png\n",
            "/content/drive/MyDrive/urbansound/spectrograms/8/135160-8-0-8.png\n",
            "/content/drive/MyDrive/urbansound/spectrograms/8/135160-8-0-9.png\n",
            "/content/drive/MyDrive/urbansound/spectrograms/6/135526-6-0-0.png\n",
            "/content/drive/MyDrive/urbansound/spectrograms/6/135526-6-1-0.png\n",
            "/content/drive/MyDrive/urbansound/spectrograms/6/135526-6-10-0.png\n",
            "/content/drive/MyDrive/urbansound/spectrograms/6/135526-6-11-0.png\n",
            "/content/drive/MyDrive/urbansound/spectrograms/6/135526-6-12-0.png\n"
          ]
        },
        {
          "output_type": "stream",
          "name": "stderr",
          "text": [
            "1437it [00:15, 89.37it/s]"
          ]
        },
        {
          "output_type": "stream",
          "name": "stdout",
          "text": [
            "/content/drive/MyDrive/urbansound/spectrograms/6/135526-6-13-0.png\n",
            "/content/drive/MyDrive/urbansound/spectrograms/6/135526-6-2-0.png\n",
            "/content/drive/MyDrive/urbansound/spectrograms/6/135526-6-3-0.png\n",
            "/content/drive/MyDrive/urbansound/spectrograms/6/135526-6-4-0.png\n",
            "/content/drive/MyDrive/urbansound/spectrograms/6/135526-6-5-0.png\n",
            "/content/drive/MyDrive/urbansound/spectrograms/6/135526-6-6-0.png\n",
            "/content/drive/MyDrive/urbansound/spectrograms/6/135526-6-7-0.png\n",
            "/content/drive/MyDrive/urbansound/spectrograms/6/135526-6-8-0.png\n",
            "/content/drive/MyDrive/urbansound/spectrograms/6/135526-6-9-0.png\n",
            "/content/drive/MyDrive/urbansound/spectrograms/6/135527-6-0-0.png\n",
            "/content/drive/MyDrive/urbansound/spectrograms/6/135527-6-1-0.png\n",
            "/content/drive/MyDrive/urbansound/spectrograms/6/135527-6-10-0.png\n",
            "/content/drive/MyDrive/urbansound/spectrograms/6/135527-6-11-0.png\n",
            "/content/drive/MyDrive/urbansound/spectrograms/6/135527-6-12-0.png\n",
            "/content/drive/MyDrive/urbansound/spectrograms/6/135527-6-13-0.png\n",
            "/content/drive/MyDrive/urbansound/spectrograms/6/135527-6-14-0.png\n",
            "/content/drive/MyDrive/urbansound/spectrograms/6/135527-6-14-1.png\n",
            "/content/drive/MyDrive/urbansound/spectrograms/6/135527-6-14-10.png\n",
            "/content/drive/MyDrive/urbansound/spectrograms/6/135527-6-14-2.png\n",
            "/content/drive/MyDrive/urbansound/spectrograms/6/135527-6-14-3.png\n"
          ]
        },
        {
          "output_type": "stream",
          "name": "stderr",
          "text": [
            "1456it [00:16, 89.98it/s]"
          ]
        },
        {
          "output_type": "stream",
          "name": "stdout",
          "text": [
            "/content/drive/MyDrive/urbansound/spectrograms/6/135527-6-14-4.png\n",
            "/content/drive/MyDrive/urbansound/spectrograms/6/135527-6-14-5.png\n",
            "/content/drive/MyDrive/urbansound/spectrograms/6/135527-6-14-6.png\n",
            "/content/drive/MyDrive/urbansound/spectrograms/6/135527-6-14-7.png\n",
            "/content/drive/MyDrive/urbansound/spectrograms/6/135527-6-14-8.png\n",
            "/content/drive/MyDrive/urbansound/spectrograms/6/135527-6-14-9.png\n",
            "/content/drive/MyDrive/urbansound/spectrograms/6/135527-6-2-0.png\n",
            "/content/drive/MyDrive/urbansound/spectrograms/6/135527-6-3-0.png\n",
            "/content/drive/MyDrive/urbansound/spectrograms/6/135527-6-4-0.png\n",
            "/content/drive/MyDrive/urbansound/spectrograms/6/135527-6-5-0.png\n",
            "/content/drive/MyDrive/urbansound/spectrograms/6/135527-6-6-0.png\n",
            "/content/drive/MyDrive/urbansound/spectrograms/6/135527-6-7-0.png\n",
            "/content/drive/MyDrive/urbansound/spectrograms/6/135527-6-8-0.png\n",
            "/content/drive/MyDrive/urbansound/spectrograms/6/135527-6-9-0.png\n",
            "/content/drive/MyDrive/urbansound/spectrograms/6/135528-6-0-0.png\n",
            "/content/drive/MyDrive/urbansound/spectrograms/6/135528-6-1-0.png\n",
            "/content/drive/MyDrive/urbansound/spectrograms/6/135528-6-10-0.png\n",
            "/content/drive/MyDrive/urbansound/spectrograms/6/135528-6-11-0.png\n"
          ]
        },
        {
          "output_type": "stream",
          "name": "stderr",
          "text": [
            "1475it [00:16, 90.83it/s]"
          ]
        },
        {
          "output_type": "stream",
          "name": "stdout",
          "text": [
            "/content/drive/MyDrive/urbansound/spectrograms/6/135528-6-12-0.png\n",
            "/content/drive/MyDrive/urbansound/spectrograms/6/135528-6-2-0.png\n",
            "/content/drive/MyDrive/urbansound/spectrograms/6/135528-6-3-0.png\n",
            "/content/drive/MyDrive/urbansound/spectrograms/6/135528-6-4-0.png\n",
            "/content/drive/MyDrive/urbansound/spectrograms/6/135528-6-4-1.png\n",
            "/content/drive/MyDrive/urbansound/spectrograms/6/135528-6-4-2.png\n",
            "/content/drive/MyDrive/urbansound/spectrograms/6/135528-6-5-0.png\n",
            "/content/drive/MyDrive/urbansound/spectrograms/6/135528-6-6-0.png\n",
            "/content/drive/MyDrive/urbansound/spectrograms/6/135528-6-7-0.png\n",
            "/content/drive/MyDrive/urbansound/spectrograms/6/135528-6-8-0.png\n",
            "/content/drive/MyDrive/urbansound/spectrograms/6/135528-6-9-0.png\n",
            "/content/drive/MyDrive/urbansound/spectrograms/6/135544-6-0-0.png\n",
            "/content/drive/MyDrive/urbansound/spectrograms/6/135544-6-1-0.png\n",
            "/content/drive/MyDrive/urbansound/spectrograms/6/135544-6-10-0.png\n",
            "/content/drive/MyDrive/urbansound/spectrograms/6/135544-6-11-0.png\n",
            "/content/drive/MyDrive/urbansound/spectrograms/6/135544-6-12-0.png\n",
            "/content/drive/MyDrive/urbansound/spectrograms/6/135544-6-13-0.png\n",
            "/content/drive/MyDrive/urbansound/spectrograms/6/135544-6-14-0.png\n"
          ]
        },
        {
          "output_type": "stream",
          "name": "stderr",
          "text": [
            "1495it [00:16, 90.25it/s]"
          ]
        },
        {
          "output_type": "stream",
          "name": "stdout",
          "text": [
            "/content/drive/MyDrive/urbansound/spectrograms/6/135544-6-15-0.png\n",
            "/content/drive/MyDrive/urbansound/spectrograms/6/135544-6-16-0.png\n",
            "/content/drive/MyDrive/urbansound/spectrograms/6/135544-6-17-0.png\n",
            "/content/drive/MyDrive/urbansound/spectrograms/6/135544-6-18-0.png\n",
            "/content/drive/MyDrive/urbansound/spectrograms/6/135544-6-19-0.png\n",
            "/content/drive/MyDrive/urbansound/spectrograms/6/135544-6-2-0.png\n",
            "/content/drive/MyDrive/urbansound/spectrograms/6/135544-6-3-0.png\n",
            "/content/drive/MyDrive/urbansound/spectrograms/6/135544-6-4-0.png\n",
            "/content/drive/MyDrive/urbansound/spectrograms/6/135544-6-5-0.png\n",
            "/content/drive/MyDrive/urbansound/spectrograms/6/135544-6-6-0.png\n",
            "/content/drive/MyDrive/urbansound/spectrograms/6/135544-6-7-0.png\n",
            "/content/drive/MyDrive/urbansound/spectrograms/6/135544-6-8-0.png\n",
            "/content/drive/MyDrive/urbansound/spectrograms/6/135544-6-9-0.png\n",
            "/content/drive/MyDrive/urbansound/spectrograms/3/13577-3-0-0.png\n",
            "/content/drive/MyDrive/urbansound/spectrograms/3/13577-3-0-2.png\n",
            "/content/drive/MyDrive/urbansound/spectrograms/3/13577-3-5-0.png\n",
            "/content/drive/MyDrive/urbansound/spectrograms/2/135776-2-0-32.png\n",
            "/content/drive/MyDrive/urbansound/spectrograms/2/135776-2-0-37.png\n",
            "/content/drive/MyDrive/urbansound/spectrograms/2/135776-2-0-40.png\n"
          ]
        },
        {
          "output_type": "stream",
          "name": "stderr",
          "text": [
            "1515it [00:16, 89.89it/s]"
          ]
        },
        {
          "output_type": "stream",
          "name": "stdout",
          "text": [
            "/content/drive/MyDrive/urbansound/spectrograms/2/135776-2-0-49.png\n",
            "/content/drive/MyDrive/urbansound/spectrograms/2/135776-2-0-50.png\n",
            "/content/drive/MyDrive/urbansound/spectrograms/2/135776-2-0-65.png\n",
            "/content/drive/MyDrive/urbansound/spectrograms/2/135776-2-0-85.png\n",
            "/content/drive/MyDrive/urbansound/spectrograms/2/135776-2-0-90.png\n",
            "/content/drive/MyDrive/urbansound/spectrograms/2/13579-2-0-15.png\n",
            "/content/drive/MyDrive/urbansound/spectrograms/2/13579-2-0-16.png\n",
            "/content/drive/MyDrive/urbansound/spectrograms/2/13579-2-0-17.png\n",
            "/content/drive/MyDrive/urbansound/spectrograms/2/13579-2-0-2.png\n",
            "/content/drive/MyDrive/urbansound/spectrograms/2/13579-2-0-38.png\n",
            "/content/drive/MyDrive/urbansound/spectrograms/2/13579-2-0-48.png\n",
            "/content/drive/MyDrive/urbansound/spectrograms/2/13579-2-0-53.png\n",
            "/content/drive/MyDrive/urbansound/spectrograms/2/13579-2-0-62.png\n",
            "/content/drive/MyDrive/urbansound/spectrograms/4/135849-4-0-0.png\n",
            "/content/drive/MyDrive/urbansound/spectrograms/6/136399-6-0-0.png\n",
            "/content/drive/MyDrive/urbansound/spectrograms/6/136399-6-1-0.png\n",
            "/content/drive/MyDrive/urbansound/spectrograms/6/136399-6-2-0.png\n",
            "/content/drive/MyDrive/urbansound/spectrograms/6/136399-6-3-0.png\n",
            "/content/drive/MyDrive/urbansound/spectrograms/6/136399-6-4-0.png\n"
          ]
        },
        {
          "output_type": "stream",
          "name": "stderr",
          "text": [
            "1535it [00:16, 93.93it/s]"
          ]
        },
        {
          "output_type": "stream",
          "name": "stdout",
          "text": [
            "/content/drive/MyDrive/urbansound/spectrograms/6/136399-6-5-0.png\n",
            "/content/drive/MyDrive/urbansound/spectrograms/6/136399-6-6-0.png\n",
            "/content/drive/MyDrive/urbansound/spectrograms/6/136399-6-7-0.png\n",
            "/content/drive/MyDrive/urbansound/spectrograms/6/136399-6-8-0.png\n",
            "/content/drive/MyDrive/urbansound/spectrograms/6/136399-6-9-0.png\n",
            "/content/drive/MyDrive/urbansound/spectrograms/9/136558-9-0-1.png\n",
            "/content/drive/MyDrive/urbansound/spectrograms/9/136558-9-0-2.png\n",
            "/content/drive/MyDrive/urbansound/spectrograms/9/136558-9-1-10.png\n",
            "/content/drive/MyDrive/urbansound/spectrograms/9/136558-9-1-21.png\n",
            "/content/drive/MyDrive/urbansound/spectrograms/9/136558-9-1-26.png\n",
            "/content/drive/MyDrive/urbansound/spectrograms/9/136558-9-1-39.png\n",
            "/content/drive/MyDrive/urbansound/spectrograms/9/137156-9-0-28.png\n",
            "/content/drive/MyDrive/urbansound/spectrograms/9/137156-9-0-30.png\n",
            "/content/drive/MyDrive/urbansound/spectrograms/9/137156-9-0-31.png\n",
            "/content/drive/MyDrive/urbansound/spectrograms/9/137156-9-0-5.png\n",
            "/content/drive/MyDrive/urbansound/spectrograms/9/137156-9-0-73.png\n",
            "/content/drive/MyDrive/urbansound/spectrograms/9/137156-9-0-79.png\n",
            "/content/drive/MyDrive/urbansound/spectrograms/3/137803-3-0-0.png\n",
            "/content/drive/MyDrive/urbansound/spectrograms/3/137803-3-0-1.png\n",
            "/content/drive/MyDrive/urbansound/spectrograms/3/137803-3-0-2.png\n"
          ]
        },
        {
          "output_type": "stream",
          "name": "stderr",
          "text": [
            "1555it [00:17, 91.77it/s]"
          ]
        },
        {
          "output_type": "stream",
          "name": "stdout",
          "text": [
            "/content/drive/MyDrive/urbansound/spectrograms/4/137815-4-0-0.png\n",
            "/content/drive/MyDrive/urbansound/spectrograms/4/137815-4-0-1.png\n",
            "/content/drive/MyDrive/urbansound/spectrograms/4/137815-4-0-10.png\n",
            "/content/drive/MyDrive/urbansound/spectrograms/4/137815-4-0-2.png\n",
            "/content/drive/MyDrive/urbansound/spectrograms/4/137815-4-0-3.png\n",
            "/content/drive/MyDrive/urbansound/spectrograms/4/137815-4-0-4.png\n",
            "/content/drive/MyDrive/urbansound/spectrograms/4/137815-4-0-5.png\n",
            "/content/drive/MyDrive/urbansound/spectrograms/4/137815-4-0-6.png\n",
            "/content/drive/MyDrive/urbansound/spectrograms/4/137815-4-0-7.png\n",
            "/content/drive/MyDrive/urbansound/spectrograms/4/137815-4-0-8.png\n",
            "/content/drive/MyDrive/urbansound/spectrograms/4/137815-4-0-9.png\n",
            "/content/drive/MyDrive/urbansound/spectrograms/2/137969-2-0-18.png\n",
            "/content/drive/MyDrive/urbansound/spectrograms/2/137969-2-0-20.png\n",
            "/content/drive/MyDrive/urbansound/spectrograms/2/137969-2-0-37.png\n",
            "/content/drive/MyDrive/urbansound/spectrograms/2/137969-2-0-4.png\n",
            "/content/drive/MyDrive/urbansound/spectrograms/2/137969-2-0-41.png\n",
            "/content/drive/MyDrive/urbansound/spectrograms/2/137969-2-0-55.png\n",
            "/content/drive/MyDrive/urbansound/spectrograms/2/137969-2-0-56.png\n",
            "/content/drive/MyDrive/urbansound/spectrograms/2/137971-2-0-0.png\n"
          ]
        },
        {
          "output_type": "stream",
          "name": "stderr",
          "text": [
            "1575it [00:17, 93.77it/s]"
          ]
        },
        {
          "output_type": "stream",
          "name": "stdout",
          "text": [
            "/content/drive/MyDrive/urbansound/spectrograms/2/137971-2-0-2.png\n",
            "/content/drive/MyDrive/urbansound/spectrograms/2/137971-2-0-3.png\n",
            "/content/drive/MyDrive/urbansound/spectrograms/2/137971-2-0-4.png\n",
            "/content/drive/MyDrive/urbansound/spectrograms/2/137971-2-0-5.png\n",
            "/content/drive/MyDrive/urbansound/spectrograms/2/137971-2-0-6.png\n",
            "/content/drive/MyDrive/urbansound/spectrograms/2/137971-2-0-8.png\n",
            "/content/drive/MyDrive/urbansound/spectrograms/3/138015-3-0-1.png\n",
            "/content/drive/MyDrive/urbansound/spectrograms/3/138015-3-0-5.png\n",
            "/content/drive/MyDrive/urbansound/spectrograms/3/138015-3-0-7.png\n",
            "/content/drive/MyDrive/urbansound/spectrograms/9/138017-9-0-2.png\n",
            "/content/drive/MyDrive/urbansound/spectrograms/9/138017-9-0-9.png\n",
            "/content/drive/MyDrive/urbansound/spectrograms/9/138017-9-1-10.png\n",
            "/content/drive/MyDrive/urbansound/spectrograms/9/138017-9-1-16.png\n",
            "/content/drive/MyDrive/urbansound/spectrograms/9/138017-9-1-4.png\n",
            "/content/drive/MyDrive/urbansound/spectrograms/9/138017-9-1-6.png\n",
            "/content/drive/MyDrive/urbansound/spectrograms/2/138031-2-0-13.png\n",
            "/content/drive/MyDrive/urbansound/spectrograms/2/138031-2-0-2.png\n",
            "/content/drive/MyDrive/urbansound/spectrograms/2/138031-2-0-22.png\n",
            "/content/drive/MyDrive/urbansound/spectrograms/2/138031-2-0-23.png\n",
            "/content/drive/MyDrive/urbansound/spectrograms/2/138031-2-0-28.png\n"
          ]
        },
        {
          "output_type": "stream",
          "name": "stderr",
          "text": [
            "1595it [00:17, 92.71it/s]"
          ]
        },
        {
          "output_type": "stream",
          "name": "stdout",
          "text": [
            "/content/drive/MyDrive/urbansound/spectrograms/2/138031-2-0-45.png\n",
            "/content/drive/MyDrive/urbansound/spectrograms/2/138031-2-0-47.png\n",
            "/content/drive/MyDrive/urbansound/spectrograms/2/138031-2-0-7.png\n",
            "/content/drive/MyDrive/urbansound/spectrograms/1/138465-1-0-0.png\n",
            "/content/drive/MyDrive/urbansound/spectrograms/1/138468-1-0-0.png\n",
            "/content/drive/MyDrive/urbansound/spectrograms/9/138473-9-0-12.png\n",
            "/content/drive/MyDrive/urbansound/spectrograms/9/138473-9-0-29.png\n",
            "/content/drive/MyDrive/urbansound/spectrograms/9/138473-9-0-35.png\n",
            "/content/drive/MyDrive/urbansound/spectrograms/9/138473-9-0-38.png\n",
            "/content/drive/MyDrive/urbansound/spectrograms/9/138473-9-0-5.png\n",
            "/content/drive/MyDrive/urbansound/spectrograms/9/138473-9-0-6.png\n",
            "/content/drive/MyDrive/urbansound/spectrograms/4/139000-4-0-0.png\n",
            "/content/drive/MyDrive/urbansound/spectrograms/4/139000-4-0-1.png\n",
            "/content/drive/MyDrive/urbansound/spectrograms/4/139000-4-0-2.png\n",
            "/content/drive/MyDrive/urbansound/spectrograms/9/139665-9-0-19.png\n",
            "/content/drive/MyDrive/urbansound/spectrograms/9/139665-9-0-23.png\n",
            "/content/drive/MyDrive/urbansound/spectrograms/9/139665-9-0-25.png\n",
            "/content/drive/MyDrive/urbansound/spectrograms/9/139665-9-0-32.png\n",
            "/content/drive/MyDrive/urbansound/spectrograms/9/139665-9-0-8.png\n"
          ]
        },
        {
          "output_type": "stream",
          "name": "stderr",
          "text": [
            "1615it [00:17, 90.12it/s]"
          ]
        },
        {
          "output_type": "stream",
          "name": "stdout",
          "text": [
            "/content/drive/MyDrive/urbansound/spectrograms/9/139665-9-0-9.png\n",
            "/content/drive/MyDrive/urbansound/spectrograms/3/139948-3-0-0.png\n",
            "/content/drive/MyDrive/urbansound/spectrograms/3/139948-3-1-0.png\n",
            "/content/drive/MyDrive/urbansound/spectrograms/3/139948-3-2-0.png\n",
            "/content/drive/MyDrive/urbansound/spectrograms/3/139948-3-4-0.png\n",
            "/content/drive/MyDrive/urbansound/spectrograms/9/139951-9-0-13.png\n",
            "/content/drive/MyDrive/urbansound/spectrograms/9/139951-9-0-17.png\n",
            "/content/drive/MyDrive/urbansound/spectrograms/9/139951-9-0-29.png\n",
            "/content/drive/MyDrive/urbansound/spectrograms/9/139951-9-0-33.png\n",
            "/content/drive/MyDrive/urbansound/spectrograms/9/139951-9-0-45.png\n",
            "/content/drive/MyDrive/urbansound/spectrograms/9/139951-9-0-9.png\n",
            "/content/drive/MyDrive/urbansound/spectrograms/4/140824-4-0-0.png\n",
            "/content/drive/MyDrive/urbansound/spectrograms/4/14110-4-0-0.png\n",
            "/content/drive/MyDrive/urbansound/spectrograms/4/14110-4-0-1.png\n",
            "/content/drive/MyDrive/urbansound/spectrograms/4/14110-4-0-2.png\n",
            "/content/drive/MyDrive/urbansound/spectrograms/4/14111-4-0-0.png\n",
            "/content/drive/MyDrive/urbansound/spectrograms/4/14111-4-0-1.png\n",
            "/content/drive/MyDrive/urbansound/spectrograms/4/14111-4-0-2.png\n",
            "/content/drive/MyDrive/urbansound/spectrograms/4/14111-4-0-3.png\n"
          ]
        },
        {
          "output_type": "stream",
          "name": "stderr",
          "text": [
            "\r1625it [00:17, 88.12it/s]"
          ]
        },
        {
          "output_type": "stream",
          "name": "stdout",
          "text": [
            "/content/drive/MyDrive/urbansound/spectrograms/4/14111-4-0-4.png\n",
            "/content/drive/MyDrive/urbansound/spectrograms/4/14111-4-0-5.png\n",
            "/content/drive/MyDrive/urbansound/spectrograms/4/14111-4-0-6.png\n",
            "/content/drive/MyDrive/urbansound/spectrograms/4/14111-4-0-7.png\n",
            "/content/drive/MyDrive/urbansound/spectrograms/4/14113-4-0-0.png\n",
            "/content/drive/MyDrive/urbansound/spectrograms/4/14113-4-0-1.png\n",
            "/content/drive/MyDrive/urbansound/spectrograms/4/14114-4-0-0.png\n",
            "/content/drive/MyDrive/urbansound/spectrograms/4/14114-4-0-1.png\n",
            "/content/drive/MyDrive/urbansound/spectrograms/4/14114-4-0-2.png\n",
            "/content/drive/MyDrive/urbansound/spectrograms/4/14114-4-0-3.png\n",
            "/content/drive/MyDrive/urbansound/spectrograms/4/14115-4-0-0.png\n",
            "/content/drive/MyDrive/urbansound/spectrograms/5/141240-5-0-0.png\n",
            "/content/drive/MyDrive/urbansound/spectrograms/5/141240-5-1-0.png\n",
            "/content/drive/MyDrive/urbansound/spectrograms/2/142003-2-0-0.png\n",
            "/content/drive/MyDrive/urbansound/spectrograms/2/142003-2-0-1.png\n",
            "/content/drive/MyDrive/urbansound/spectrograms/2/142003-2-0-19.png\n",
            "/content/drive/MyDrive/urbansound/spectrograms/2/142003-2-0-20.png\n",
            "/content/drive/MyDrive/urbansound/spectrograms/2/142003-2-0-21.png\n",
            "/content/drive/MyDrive/urbansound/spectrograms/2/142003-2-0-24.png\n",
            "/content/drive/MyDrive/urbansound/spectrograms/2/142003-2-0-30.png\n"
          ]
        },
        {
          "output_type": "stream",
          "name": "stderr",
          "text": [
            "1647it [00:18, 94.47it/s]"
          ]
        },
        {
          "output_type": "stream",
          "name": "stdout",
          "text": [
            "/content/drive/MyDrive/urbansound/spectrograms/2/142003-2-0-8.png\n",
            "/content/drive/MyDrive/urbansound/spectrograms/3/142641-3-0-0.png\n",
            "/content/drive/MyDrive/urbansound/spectrograms/1/143115-1-0-0.png\n",
            "/content/drive/MyDrive/urbansound/spectrograms/1/143115-1-1-0.png\n",
            "/content/drive/MyDrive/urbansound/spectrograms/1/143115-1-2-0.png\n",
            "/content/drive/MyDrive/urbansound/spectrograms/1/143115-1-3-0.png\n",
            "/content/drive/MyDrive/urbansound/spectrograms/1/143115-1-4-0.png\n",
            "/content/drive/MyDrive/urbansound/spectrograms/3/14358-3-0-26.png\n",
            "/content/drive/MyDrive/urbansound/spectrograms/3/14358-3-0-7.png\n",
            "/content/drive/MyDrive/urbansound/spectrograms/3/14358-3-0-85.png\n",
            "/content/drive/MyDrive/urbansound/spectrograms/3/14358-3-0-90.png\n",
            "/content/drive/MyDrive/urbansound/spectrograms/5/143604-5-0-0.png\n",
            "/content/drive/MyDrive/urbansound/spectrograms/2/143651-2-0-0.png\n",
            "/content/drive/MyDrive/urbansound/spectrograms/2/143651-2-0-16.png\n",
            "/content/drive/MyDrive/urbansound/spectrograms/2/143651-2-0-20.png\n",
            "/content/drive/MyDrive/urbansound/spectrograms/2/143651-2-0-22.png\n",
            "/content/drive/MyDrive/urbansound/spectrograms/2/143651-2-0-39.png\n",
            "/content/drive/MyDrive/urbansound/spectrograms/2/143651-2-0-55.png\n",
            "/content/drive/MyDrive/urbansound/spectrograms/2/143651-2-0-59.png\n",
            "/content/drive/MyDrive/urbansound/spectrograms/2/143651-2-0-63.png\n",
            "/content/drive/MyDrive/urbansound/spectrograms/9/14385-9-0-10.png\n"
          ]
        },
        {
          "output_type": "stream",
          "name": "stderr",
          "text": [
            "1667it [00:18, 92.36it/s]"
          ]
        },
        {
          "output_type": "stream",
          "name": "stdout",
          "text": [
            "/content/drive/MyDrive/urbansound/spectrograms/9/14385-9-0-11.png\n",
            "/content/drive/MyDrive/urbansound/spectrograms/9/14385-9-0-13.png\n",
            "/content/drive/MyDrive/urbansound/spectrograms/9/14385-9-0-14.png\n",
            "/content/drive/MyDrive/urbansound/spectrograms/9/14385-9-0-17.png\n",
            "/content/drive/MyDrive/urbansound/spectrograms/9/14385-9-0-21.png\n",
            "/content/drive/MyDrive/urbansound/spectrograms/9/14386-9-0-11.png\n",
            "/content/drive/MyDrive/urbansound/spectrograms/9/14386-9-0-16.png\n",
            "/content/drive/MyDrive/urbansound/spectrograms/9/14386-9-0-17.png\n",
            "/content/drive/MyDrive/urbansound/spectrograms/9/14386-9-0-2.png\n",
            "/content/drive/MyDrive/urbansound/spectrograms/9/14386-9-0-20.png\n",
            "/content/drive/MyDrive/urbansound/spectrograms/9/14386-9-0-6.png\n",
            "/content/drive/MyDrive/urbansound/spectrograms/9/14387-9-0-11.png\n",
            "/content/drive/MyDrive/urbansound/spectrograms/9/14387-9-0-12.png\n",
            "/content/drive/MyDrive/urbansound/spectrograms/9/14387-9-0-15.png\n",
            "/content/drive/MyDrive/urbansound/spectrograms/9/14387-9-0-16.png\n",
            "/content/drive/MyDrive/urbansound/spectrograms/9/14387-9-0-19.png\n",
            "/content/drive/MyDrive/urbansound/spectrograms/9/14387-9-0-7.png\n"
          ]
        },
        {
          "output_type": "stream",
          "name": "stderr",
          "text": [
            "1687it [00:18, 91.11it/s]"
          ]
        },
        {
          "output_type": "stream",
          "name": "stdout",
          "text": [
            "/content/drive/MyDrive/urbansound/spectrograms/5/143970-5-0-0.png\n",
            "/content/drive/MyDrive/urbansound/spectrograms/5/143970-5-0-1.png\n",
            "/content/drive/MyDrive/urbansound/spectrograms/5/143970-5-0-2.png\n",
            "/content/drive/MyDrive/urbansound/spectrograms/5/143970-5-0-3.png\n",
            "/content/drive/MyDrive/urbansound/spectrograms/5/144007-5-0-0.png\n",
            "/content/drive/MyDrive/urbansound/spectrograms/5/144007-5-0-1.png\n",
            "/content/drive/MyDrive/urbansound/spectrograms/5/144007-5-0-10.png\n",
            "/content/drive/MyDrive/urbansound/spectrograms/5/144007-5-0-11.png\n",
            "/content/drive/MyDrive/urbansound/spectrograms/5/144007-5-0-12.png\n",
            "/content/drive/MyDrive/urbansound/spectrograms/5/144007-5-0-13.png\n",
            "/content/drive/MyDrive/urbansound/spectrograms/5/144007-5-0-14.png\n",
            "/content/drive/MyDrive/urbansound/spectrograms/5/144007-5-0-15.png\n",
            "/content/drive/MyDrive/urbansound/spectrograms/5/144007-5-0-16.png\n",
            "/content/drive/MyDrive/urbansound/spectrograms/5/144007-5-0-17.png\n",
            "/content/drive/MyDrive/urbansound/spectrograms/5/144007-5-0-18.png\n",
            "/content/drive/MyDrive/urbansound/spectrograms/5/144007-5-0-19.png\n",
            "/content/drive/MyDrive/urbansound/spectrograms/5/144007-5-0-2.png\n",
            "/content/drive/MyDrive/urbansound/spectrograms/5/144007-5-0-20.png\n"
          ]
        },
        {
          "output_type": "stream",
          "name": "stderr",
          "text": [
            "1707it [00:18, 87.26it/s]"
          ]
        },
        {
          "output_type": "stream",
          "name": "stdout",
          "text": [
            "/content/drive/MyDrive/urbansound/spectrograms/5/144007-5-0-21.png\n",
            "/content/drive/MyDrive/urbansound/spectrograms/5/144007-5-0-3.png\n",
            "/content/drive/MyDrive/urbansound/spectrograms/5/144007-5-0-4.png\n",
            "/content/drive/MyDrive/urbansound/spectrograms/5/144007-5-0-5.png\n",
            "/content/drive/MyDrive/urbansound/spectrograms/5/144007-5-0-6.png\n",
            "/content/drive/MyDrive/urbansound/spectrograms/5/144007-5-0-7.png\n",
            "/content/drive/MyDrive/urbansound/spectrograms/5/144007-5-0-8.png\n",
            "/content/drive/MyDrive/urbansound/spectrograms/5/144007-5-0-9.png\n",
            "/content/drive/MyDrive/urbansound/spectrograms/5/144007-5-1-0.png\n",
            "/content/drive/MyDrive/urbansound/spectrograms/5/144007-5-1-1.png\n",
            "/content/drive/MyDrive/urbansound/spectrograms/5/144007-5-1-10.png\n",
            "/content/drive/MyDrive/urbansound/spectrograms/5/144007-5-1-11.png\n",
            "/content/drive/MyDrive/urbansound/spectrograms/5/144007-5-1-2.png\n",
            "/content/drive/MyDrive/urbansound/spectrograms/5/144007-5-1-3.png\n",
            "/content/drive/MyDrive/urbansound/spectrograms/5/144007-5-1-4.png\n",
            "/content/drive/MyDrive/urbansound/spectrograms/5/144007-5-1-5.png\n",
            "/content/drive/MyDrive/urbansound/spectrograms/5/144007-5-1-6.png\n",
            "/content/drive/MyDrive/urbansound/spectrograms/5/144007-5-1-7.png\n"
          ]
        },
        {
          "output_type": "stream",
          "name": "stderr",
          "text": [
            "1725it [00:19, 87.28it/s]"
          ]
        },
        {
          "output_type": "stream",
          "name": "stdout",
          "text": [
            "/content/drive/MyDrive/urbansound/spectrograms/5/144007-5-1-8.png\n",
            "/content/drive/MyDrive/urbansound/spectrograms/5/144007-5-1-9.png\n",
            "/content/drive/MyDrive/urbansound/spectrograms/3/144028-3-0-0.png\n",
            "/content/drive/MyDrive/urbansound/spectrograms/3/144028-3-1-0.png\n",
            "/content/drive/MyDrive/urbansound/spectrograms/3/144028-3-1-1.png\n",
            "/content/drive/MyDrive/urbansound/spectrograms/5/144068-5-0-0.png\n",
            "/content/drive/MyDrive/urbansound/spectrograms/5/144068-5-0-1.png\n",
            "/content/drive/MyDrive/urbansound/spectrograms/5/144068-5-0-10.png\n",
            "/content/drive/MyDrive/urbansound/spectrograms/5/144068-5-0-11.png\n",
            "/content/drive/MyDrive/urbansound/spectrograms/5/144068-5-0-12.png\n",
            "/content/drive/MyDrive/urbansound/spectrograms/5/144068-5-0-13.png\n",
            "/content/drive/MyDrive/urbansound/spectrograms/5/144068-5-0-14.png\n",
            "/content/drive/MyDrive/urbansound/spectrograms/5/144068-5-0-15.png\n",
            "/content/drive/MyDrive/urbansound/spectrograms/5/144068-5-0-16.png\n",
            "/content/drive/MyDrive/urbansound/spectrograms/5/144068-5-0-17.png\n",
            "/content/drive/MyDrive/urbansound/spectrograms/5/144068-5-0-18.png\n",
            "/content/drive/MyDrive/urbansound/spectrograms/5/144068-5-0-2.png\n",
            "/content/drive/MyDrive/urbansound/spectrograms/5/144068-5-0-3.png\n",
            "/content/drive/MyDrive/urbansound/spectrograms/5/144068-5-0-4.png\n"
          ]
        },
        {
          "output_type": "stream",
          "name": "stderr",
          "text": [
            "1744it [00:19, 89.15it/s]"
          ]
        },
        {
          "output_type": "stream",
          "name": "stdout",
          "text": [
            "/content/drive/MyDrive/urbansound/spectrograms/5/144068-5-0-5.png\n",
            "/content/drive/MyDrive/urbansound/spectrograms/5/144068-5-0-6.png\n",
            "/content/drive/MyDrive/urbansound/spectrograms/5/144068-5-0-7.png\n",
            "/content/drive/MyDrive/urbansound/spectrograms/5/144068-5-0-8.png\n",
            "/content/drive/MyDrive/urbansound/spectrograms/5/144068-5-0-9.png\n",
            "/content/drive/MyDrive/urbansound/spectrograms/5/144068-5-1-0.png\n",
            "/content/drive/MyDrive/urbansound/spectrograms/5/144068-5-2-0.png\n",
            "/content/drive/MyDrive/urbansound/spectrograms/5/144068-5-3-0.png\n",
            "/content/drive/MyDrive/urbansound/spectrograms/5/144068-5-4-0.png\n",
            "/content/drive/MyDrive/urbansound/spectrograms/5/144068-5-4-1.png\n",
            "/content/drive/MyDrive/urbansound/spectrograms/5/144068-5-4-2.png\n",
            "/content/drive/MyDrive/urbansound/spectrograms/5/144068-5-4-3.png\n",
            "/content/drive/MyDrive/urbansound/spectrograms/5/144068-5-4-4.png\n",
            "/content/drive/MyDrive/urbansound/spectrograms/5/144068-5-4-5.png\n",
            "/content/drive/MyDrive/urbansound/spectrograms/5/144068-5-4-6.png\n",
            "/content/drive/MyDrive/urbansound/spectrograms/5/144068-5-4-7.png\n",
            "/content/drive/MyDrive/urbansound/spectrograms/5/144068-5-4-8.png\n",
            "/content/drive/MyDrive/urbansound/spectrograms/5/144068-5-5-0.png\n",
            "/content/drive/MyDrive/urbansound/spectrograms/5/144068-5-5-1.png\n"
          ]
        },
        {
          "output_type": "stream",
          "name": "stderr",
          "text": [
            "1762it [00:19, 81.04it/s]"
          ]
        },
        {
          "output_type": "stream",
          "name": "stdout",
          "text": [
            "/content/drive/MyDrive/urbansound/spectrograms/5/144068-5-5-2.png\n",
            "/content/drive/MyDrive/urbansound/spectrograms/4/144351-4-0-0.png\n",
            "/content/drive/MyDrive/urbansound/spectrograms/4/144351-4-0-1.png\n",
            "/content/drive/MyDrive/urbansound/spectrograms/4/144351-4-0-2.png\n",
            "/content/drive/MyDrive/urbansound/spectrograms/4/144351-4-1-1.png\n",
            "/content/drive/MyDrive/urbansound/spectrograms/4/144351-4-2-0.png\n",
            "/content/drive/MyDrive/urbansound/spectrograms/4/144351-4-2-2.png\n",
            "/content/drive/MyDrive/urbansound/spectrograms/4/144351-4-2-4.png\n",
            "/content/drive/MyDrive/urbansound/spectrograms/4/144351-4-2-5.png\n",
            "/content/drive/MyDrive/urbansound/spectrograms/4/144351-4-2-6.png\n",
            "/content/drive/MyDrive/urbansound/spectrograms/4/144351-4-3-1.png\n",
            "/content/drive/MyDrive/urbansound/spectrograms/4/144351-4-3-10.png\n",
            "/content/drive/MyDrive/urbansound/spectrograms/4/144351-4-3-11.png\n",
            "/content/drive/MyDrive/urbansound/spectrograms/4/144351-4-3-12.png\n",
            "/content/drive/MyDrive/urbansound/spectrograms/4/144351-4-3-14.png\n"
          ]
        },
        {
          "output_type": "stream",
          "name": "stderr",
          "text": [
            "1782it [00:19, 88.21it/s]"
          ]
        },
        {
          "output_type": "stream",
          "name": "stdout",
          "text": [
            "/content/drive/MyDrive/urbansound/spectrograms/4/144351-4-3-15.png\n",
            "/content/drive/MyDrive/urbansound/spectrograms/4/144351-4-3-2.png\n",
            "/content/drive/MyDrive/urbansound/spectrograms/4/144351-4-3-3.png\n",
            "/content/drive/MyDrive/urbansound/spectrograms/4/144351-4-3-4.png\n",
            "/content/drive/MyDrive/urbansound/spectrograms/4/144351-4-3-5.png\n",
            "/content/drive/MyDrive/urbansound/spectrograms/4/144351-4-3-7.png\n",
            "/content/drive/MyDrive/urbansound/spectrograms/3/14468-3-0-2.png\n",
            "/content/drive/MyDrive/urbansound/spectrograms/3/14468-3-0-3.png\n",
            "/content/drive/MyDrive/urbansound/spectrograms/3/14468-3-1-0.png\n",
            "/content/drive/MyDrive/urbansound/spectrograms/3/14468-3-5-0.png\n",
            "/content/drive/MyDrive/urbansound/spectrograms/2/14470-2-0-10.png\n",
            "/content/drive/MyDrive/urbansound/spectrograms/2/14470-2-0-14.png\n",
            "/content/drive/MyDrive/urbansound/spectrograms/2/14470-2-0-21.png\n",
            "/content/drive/MyDrive/urbansound/spectrograms/2/14470-2-0-4.png\n",
            "/content/drive/MyDrive/urbansound/spectrograms/2/14470-2-0-56.png\n",
            "/content/drive/MyDrive/urbansound/spectrograms/2/14470-2-0-65.png\n",
            "/content/drive/MyDrive/urbansound/spectrograms/2/14470-2-0-70.png\n",
            "/content/drive/MyDrive/urbansound/spectrograms/2/14470-2-0-72.png\n",
            "/content/drive/MyDrive/urbansound/spectrograms/3/144885-3-0-0.png\n",
            "/content/drive/MyDrive/urbansound/spectrograms/6/145206-6-0-0.png\n"
          ]
        },
        {
          "output_type": "stream",
          "name": "stderr",
          "text": [
            "\r1792it [00:19, 90.15it/s]"
          ]
        },
        {
          "output_type": "stream",
          "name": "stdout",
          "text": [
            "/content/drive/MyDrive/urbansound/spectrograms/6/145206-6-1-0.png\n",
            "/content/drive/MyDrive/urbansound/spectrograms/6/145206-6-2-0.png\n",
            "/content/drive/MyDrive/urbansound/spectrograms/6/145206-6-3-0.png\n",
            "/content/drive/MyDrive/urbansound/spectrograms/6/145206-6-4-0.png\n",
            "/content/drive/MyDrive/urbansound/spectrograms/6/145206-6-5-0.png\n",
            "/content/drive/MyDrive/urbansound/spectrograms/1/14524-1-0-0.png\n",
            "/content/drive/MyDrive/urbansound/spectrograms/9/14527-9-0-0.png\n",
            "/content/drive/MyDrive/urbansound/spectrograms/9/14527-9-0-2.png\n",
            "/content/drive/MyDrive/urbansound/spectrograms/9/14527-9-0-3.png\n",
            "/content/drive/MyDrive/urbansound/spectrograms/9/14527-9-0-4.png\n",
            "/content/drive/MyDrive/urbansound/spectrograms/9/14527-9-0-5.png\n",
            "/content/drive/MyDrive/urbansound/spectrograms/9/14527-9-0-6.png\n",
            "/content/drive/MyDrive/urbansound/spectrograms/9/14527-9-0-7.png\n",
            "/content/drive/MyDrive/urbansound/spectrograms/9/145390-9-0-13.png\n",
            "/content/drive/MyDrive/urbansound/spectrograms/9/145390-9-0-15.png\n",
            "/content/drive/MyDrive/urbansound/spectrograms/9/145390-9-0-22.png\n",
            "/content/drive/MyDrive/urbansound/spectrograms/9/145390-9-0-26.png\n",
            "/content/drive/MyDrive/urbansound/spectrograms/9/145390-9-0-3.png\n",
            "/content/drive/MyDrive/urbansound/spectrograms/9/145390-9-0-34.png\n"
          ]
        },
        {
          "output_type": "stream",
          "name": "stderr",
          "text": [
            "1822it [00:20, 91.13it/s]"
          ]
        },
        {
          "output_type": "stream",
          "name": "stdout",
          "text": [
            "/content/drive/MyDrive/urbansound/spectrograms/9/145390-9-0-7.png\n",
            "/content/drive/MyDrive/urbansound/spectrograms/1/145577-1-0-0.png\n",
            "/content/drive/MyDrive/urbansound/spectrograms/6/145608-6-0-0.png\n",
            "/content/drive/MyDrive/urbansound/spectrograms/6/145608-6-1-0.png\n",
            "/content/drive/MyDrive/urbansound/spectrograms/6/145608-6-2-0.png\n",
            "/content/drive/MyDrive/urbansound/spectrograms/6/145608-6-3-0.png\n",
            "/content/drive/MyDrive/urbansound/spectrograms/6/145609-6-0-0.png\n",
            "/content/drive/MyDrive/urbansound/spectrograms/6/145609-6-1-0.png\n",
            "/content/drive/MyDrive/urbansound/spectrograms/6/145611-6-0-0.png\n",
            "/content/drive/MyDrive/urbansound/spectrograms/6/145611-6-1-0.png\n",
            "/content/drive/MyDrive/urbansound/spectrograms/6/145611-6-2-0.png\n",
            "/content/drive/MyDrive/urbansound/spectrograms/6/145611-6-3-0.png\n",
            "/content/drive/MyDrive/urbansound/spectrograms/6/145611-6-4-0.png\n",
            "/content/drive/MyDrive/urbansound/spectrograms/6/145612-6-0-0.png\n",
            "/content/drive/MyDrive/urbansound/spectrograms/6/145612-6-1-0.png\n",
            "/content/drive/MyDrive/urbansound/spectrograms/6/145612-6-2-0.png\n",
            "/content/drive/MyDrive/urbansound/spectrograms/6/145612-6-3-0.png\n",
            "/content/drive/MyDrive/urbansound/spectrograms/6/145683-6-0-0.png\n",
            "/content/drive/MyDrive/urbansound/spectrograms/6/145683-6-1-0.png\n",
            "/content/drive/MyDrive/urbansound/spectrograms/6/145683-6-2-0.png\n"
          ]
        },
        {
          "output_type": "stream",
          "name": "stderr",
          "text": [
            "1843it [00:20, 95.96it/s]"
          ]
        },
        {
          "output_type": "stream",
          "name": "stdout",
          "text": [
            "/content/drive/MyDrive/urbansound/spectrograms/6/145683-6-3-0.png\n",
            "/content/drive/MyDrive/urbansound/spectrograms/6/145683-6-4-0.png\n",
            "/content/drive/MyDrive/urbansound/spectrograms/6/145683-6-5-0.png\n",
            "/content/drive/MyDrive/urbansound/spectrograms/5/146186-5-0-0.png\n",
            "/content/drive/MyDrive/urbansound/spectrograms/5/146186-5-0-1.png\n",
            "/content/drive/MyDrive/urbansound/spectrograms/5/146186-5-0-10.png\n",
            "/content/drive/MyDrive/urbansound/spectrograms/5/146186-5-0-11.png\n",
            "/content/drive/MyDrive/urbansound/spectrograms/5/146186-5-0-12.png\n",
            "/content/drive/MyDrive/urbansound/spectrograms/5/146186-5-0-13.png\n",
            "/content/drive/MyDrive/urbansound/spectrograms/5/146186-5-0-2.png\n",
            "/content/drive/MyDrive/urbansound/spectrograms/5/146186-5-0-3.png\n",
            "/content/drive/MyDrive/urbansound/spectrograms/5/146186-5-0-4.png\n",
            "/content/drive/MyDrive/urbansound/spectrograms/5/146186-5-0-5.png\n",
            "/content/drive/MyDrive/urbansound/spectrograms/5/146186-5-0-6.png\n",
            "/content/drive/MyDrive/urbansound/spectrograms/5/146186-5-0-7.png\n",
            "/content/drive/MyDrive/urbansound/spectrograms/5/146186-5-0-8.png\n",
            "/content/drive/MyDrive/urbansound/spectrograms/5/146186-5-0-9.png\n",
            "/content/drive/MyDrive/urbansound/spectrograms/4/146244-4-0-0.png\n",
            "/content/drive/MyDrive/urbansound/spectrograms/4/146249-4-0-0.png\n",
            "/content/drive/MyDrive/urbansound/spectrograms/3/146343-3-0-0.png\n",
            "/content/drive/MyDrive/urbansound/spectrograms/0/146690-0-0-100.png\n"
          ]
        },
        {
          "output_type": "stream",
          "name": "stderr",
          "text": [
            "\r1853it [00:20, 94.54it/s]"
          ]
        },
        {
          "output_type": "stream",
          "name": "stdout",
          "text": [
            "/content/drive/MyDrive/urbansound/spectrograms/0/146690-0-0-112.png\n",
            "/content/drive/MyDrive/urbansound/spectrograms/0/146690-0-0-115.png\n",
            "/content/drive/MyDrive/urbansound/spectrograms/0/146690-0-0-116.png\n",
            "/content/drive/MyDrive/urbansound/spectrograms/0/146690-0-0-117.png\n",
            "/content/drive/MyDrive/urbansound/spectrograms/0/146690-0-0-125.png\n",
            "/content/drive/MyDrive/urbansound/spectrograms/0/146690-0-0-137.png\n",
            "/content/drive/MyDrive/urbansound/spectrograms/0/146690-0-0-140.png\n",
            "/content/drive/MyDrive/urbansound/spectrograms/0/146690-0-0-151.png\n",
            "/content/drive/MyDrive/urbansound/spectrograms/0/146690-0-0-154.png\n",
            "/content/drive/MyDrive/urbansound/spectrograms/0/146690-0-0-155.png\n",
            "/content/drive/MyDrive/urbansound/spectrograms/0/146690-0-0-165.png\n",
            "/content/drive/MyDrive/urbansound/spectrograms/0/146690-0-0-17.png\n",
            "/content/drive/MyDrive/urbansound/spectrograms/0/146690-0-0-18.png\n",
            "/content/drive/MyDrive/urbansound/spectrograms/0/146690-0-0-25.png\n",
            "/content/drive/MyDrive/urbansound/spectrograms/0/146690-0-0-35.png\n",
            "/content/drive/MyDrive/urbansound/spectrograms/0/146690-0-0-38.png\n",
            "/content/drive/MyDrive/urbansound/spectrograms/0/146690-0-0-43.png\n",
            "/content/drive/MyDrive/urbansound/spectrograms/0/146690-0-0-47.png\n",
            "/content/drive/MyDrive/urbansound/spectrograms/0/146690-0-0-64.png\n",
            "/content/drive/MyDrive/urbansound/spectrograms/0/146690-0-0-8.png\n"
          ]
        },
        {
          "output_type": "stream",
          "name": "stderr",
          "text": [
            "1874it [00:20, 97.16it/s]"
          ]
        },
        {
          "output_type": "stream",
          "name": "stdout",
          "text": [
            "/content/drive/MyDrive/urbansound/spectrograms/0/146690-0-0-80.png\n",
            "/content/drive/MyDrive/urbansound/spectrograms/0/146690-0-0-86.png\n",
            "/content/drive/MyDrive/urbansound/spectrograms/0/146690-0-0-87.png\n",
            "/content/drive/MyDrive/urbansound/spectrograms/0/146690-0-0-93.png\n",
            "/content/drive/MyDrive/urbansound/spectrograms/0/146709-0-0-1.png\n",
            "/content/drive/MyDrive/urbansound/spectrograms/0/146709-0-0-11.png\n",
            "/content/drive/MyDrive/urbansound/spectrograms/0/146709-0-0-12.png\n",
            "/content/drive/MyDrive/urbansound/spectrograms/0/146709-0-0-17.png\n",
            "/content/drive/MyDrive/urbansound/spectrograms/0/146709-0-0-18.png\n",
            "/content/drive/MyDrive/urbansound/spectrograms/0/146709-0-0-19.png\n",
            "/content/drive/MyDrive/urbansound/spectrograms/0/146709-0-0-20.png\n",
            "/content/drive/MyDrive/urbansound/spectrograms/0/146709-0-0-22.png\n",
            "/content/drive/MyDrive/urbansound/spectrograms/0/146709-0-0-25.png\n",
            "/content/drive/MyDrive/urbansound/spectrograms/0/146709-0-0-26.png\n",
            "/content/drive/MyDrive/urbansound/spectrograms/0/146709-0-0-3.png\n",
            "/content/drive/MyDrive/urbansound/spectrograms/0/146709-0-0-30.png\n",
            "/content/drive/MyDrive/urbansound/spectrograms/0/146709-0-0-33.png\n",
            "/content/drive/MyDrive/urbansound/spectrograms/0/146709-0-0-34.png\n",
            "/content/drive/MyDrive/urbansound/spectrograms/0/146709-0-0-37.png\n",
            "/content/drive/MyDrive/urbansound/spectrograms/0/146709-0-0-44.png\n",
            "/content/drive/MyDrive/urbansound/spectrograms/0/146709-0-0-48.png\n"
          ]
        },
        {
          "output_type": "stream",
          "name": "stderr",
          "text": [
            "1894it [00:20, 93.78it/s]"
          ]
        },
        {
          "output_type": "stream",
          "name": "stdout",
          "text": [
            "/content/drive/MyDrive/urbansound/spectrograms/0/146709-0-0-53.png\n",
            "/content/drive/MyDrive/urbansound/spectrograms/0/146709-0-0-59.png\n",
            "/content/drive/MyDrive/urbansound/spectrograms/0/146709-0-0-63.png\n",
            "/content/drive/MyDrive/urbansound/spectrograms/0/146709-0-0-65.png\n",
            "/content/drive/MyDrive/urbansound/spectrograms/0/146709-0-0-66.png\n",
            "/content/drive/MyDrive/urbansound/spectrograms/0/146709-0-0-68.png\n",
            "/content/drive/MyDrive/urbansound/spectrograms/0/146709-0-0-7.png\n",
            "/content/drive/MyDrive/urbansound/spectrograms/0/146714-0-0-0.png\n",
            "/content/drive/MyDrive/urbansound/spectrograms/0/146714-0-0-12.png\n",
            "/content/drive/MyDrive/urbansound/spectrograms/0/146714-0-0-13.png\n",
            "/content/drive/MyDrive/urbansound/spectrograms/0/146714-0-0-17.png\n",
            "/content/drive/MyDrive/urbansound/spectrograms/0/146714-0-0-18.png\n",
            "/content/drive/MyDrive/urbansound/spectrograms/0/146714-0-0-2.png\n",
            "/content/drive/MyDrive/urbansound/spectrograms/0/146714-0-0-21.png\n",
            "/content/drive/MyDrive/urbansound/spectrograms/0/146714-0-0-22.png\n",
            "/content/drive/MyDrive/urbansound/spectrograms/0/146714-0-0-27.png\n",
            "/content/drive/MyDrive/urbansound/spectrograms/0/146714-0-0-33.png\n",
            "/content/drive/MyDrive/urbansound/spectrograms/0/146714-0-0-35.png\n",
            "/content/drive/MyDrive/urbansound/spectrograms/0/146714-0-0-36.png\n"
          ]
        },
        {
          "output_type": "stream",
          "name": "stderr",
          "text": [
            "1914it [00:21, 89.91it/s]"
          ]
        },
        {
          "output_type": "stream",
          "name": "stdout",
          "text": [
            "/content/drive/MyDrive/urbansound/spectrograms/0/146714-0-0-38.png\n",
            "/content/drive/MyDrive/urbansound/spectrograms/0/146714-0-0-41.png\n",
            "/content/drive/MyDrive/urbansound/spectrograms/0/146714-0-0-43.png\n",
            "/content/drive/MyDrive/urbansound/spectrograms/0/146714-0-0-45.png\n",
            "/content/drive/MyDrive/urbansound/spectrograms/0/146714-0-0-47.png\n",
            "/content/drive/MyDrive/urbansound/spectrograms/0/146714-0-0-49.png\n",
            "/content/drive/MyDrive/urbansound/spectrograms/0/146714-0-0-50.png\n",
            "/content/drive/MyDrive/urbansound/spectrograms/0/146714-0-0-53.png\n",
            "/content/drive/MyDrive/urbansound/spectrograms/0/146714-0-0-55.png\n",
            "/content/drive/MyDrive/urbansound/spectrograms/0/146714-0-0-56.png\n",
            "/content/drive/MyDrive/urbansound/spectrograms/0/146714-0-0-58.png\n",
            "/content/drive/MyDrive/urbansound/spectrograms/0/146714-0-0-6.png\n",
            "/content/drive/MyDrive/urbansound/spectrograms/0/146845-0-0-0.png\n",
            "/content/drive/MyDrive/urbansound/spectrograms/0/146845-0-0-1.png\n",
            "/content/drive/MyDrive/urbansound/spectrograms/0/146845-0-0-10.png\n",
            "/content/drive/MyDrive/urbansound/spectrograms/0/146845-0-0-11.png\n",
            "/content/drive/MyDrive/urbansound/spectrograms/0/146845-0-0-12.png\n",
            "/content/drive/MyDrive/urbansound/spectrograms/0/146845-0-0-13.png\n"
          ]
        },
        {
          "output_type": "stream",
          "name": "stderr",
          "text": [
            "1935it [00:21, 91.81it/s]"
          ]
        },
        {
          "output_type": "stream",
          "name": "stdout",
          "text": [
            "/content/drive/MyDrive/urbansound/spectrograms/0/146845-0-0-14.png\n",
            "/content/drive/MyDrive/urbansound/spectrograms/0/146845-0-0-15.png\n",
            "/content/drive/MyDrive/urbansound/spectrograms/0/146845-0-0-16.png\n",
            "/content/drive/MyDrive/urbansound/spectrograms/0/146845-0-0-17.png\n",
            "/content/drive/MyDrive/urbansound/spectrograms/0/146845-0-0-18.png\n",
            "/content/drive/MyDrive/urbansound/spectrograms/0/146845-0-0-19.png\n",
            "/content/drive/MyDrive/urbansound/spectrograms/0/146845-0-0-2.png\n",
            "/content/drive/MyDrive/urbansound/spectrograms/0/146845-0-0-20.png\n",
            "/content/drive/MyDrive/urbansound/spectrograms/0/146845-0-0-21.png\n",
            "/content/drive/MyDrive/urbansound/spectrograms/0/146845-0-0-22.png\n",
            "/content/drive/MyDrive/urbansound/spectrograms/0/146845-0-0-24.png\n",
            "/content/drive/MyDrive/urbansound/spectrograms/0/146845-0-0-25.png\n",
            "/content/drive/MyDrive/urbansound/spectrograms/0/146845-0-0-26.png\n",
            "/content/drive/MyDrive/urbansound/spectrograms/0/146845-0-0-27.png\n",
            "/content/drive/MyDrive/urbansound/spectrograms/0/146845-0-0-3.png\n",
            "/content/drive/MyDrive/urbansound/spectrograms/0/146845-0-0-30.png\n",
            "/content/drive/MyDrive/urbansound/spectrograms/0/146845-0-0-31.png\n",
            "/content/drive/MyDrive/urbansound/spectrograms/0/146845-0-0-32.png\n",
            "/content/drive/MyDrive/urbansound/spectrograms/0/146845-0-0-33.png\n",
            "/content/drive/MyDrive/urbansound/spectrograms/0/146845-0-0-35.png\n"
          ]
        },
        {
          "output_type": "stream",
          "name": "stderr",
          "text": [
            "1956it [00:21, 94.40it/s]"
          ]
        },
        {
          "output_type": "stream",
          "name": "stdout",
          "text": [
            "/content/drive/MyDrive/urbansound/spectrograms/0/146845-0-0-36.png\n",
            "/content/drive/MyDrive/urbansound/spectrograms/0/146845-0-0-5.png\n",
            "/content/drive/MyDrive/urbansound/spectrograms/0/146845-0-0-6.png\n",
            "/content/drive/MyDrive/urbansound/spectrograms/0/146845-0-0-7.png\n",
            "/content/drive/MyDrive/urbansound/spectrograms/0/146845-0-0-8.png\n",
            "/content/drive/MyDrive/urbansound/spectrograms/0/146845-0-0-9.png\n",
            "/content/drive/MyDrive/urbansound/spectrograms/4/147019-4-0-0.png\n",
            "/content/drive/MyDrive/urbansound/spectrograms/6/147317-6-0-0.png\n",
            "/content/drive/MyDrive/urbansound/spectrograms/9/147491-9-0-0.png\n",
            "/content/drive/MyDrive/urbansound/spectrograms/9/147491-9-0-5.png\n",
            "/content/drive/MyDrive/urbansound/spectrograms/9/147491-9-2-10.png\n",
            "/content/drive/MyDrive/urbansound/spectrograms/9/147491-9-2-25.png\n",
            "/content/drive/MyDrive/urbansound/spectrograms/9/147491-9-2-32.png\n",
            "/content/drive/MyDrive/urbansound/spectrograms/9/147491-9-2-6.png\n",
            "/content/drive/MyDrive/urbansound/spectrograms/3/147672-3-0-0.png\n",
            "/content/drive/MyDrive/urbansound/spectrograms/3/147672-3-1-0.png\n",
            "/content/drive/MyDrive/urbansound/spectrograms/3/147672-3-2-0.png\n",
            "/content/drive/MyDrive/urbansound/spectrograms/7/14772-7-0-0.png\n",
            "/content/drive/MyDrive/urbansound/spectrograms/7/14772-7-1-0.png\n",
            "/content/drive/MyDrive/urbansound/spectrograms/7/14772-7-2-0.png"
          ]
        },
        {
          "output_type": "stream",
          "name": "stderr",
          "text": [
            "1976it [00:21, 92.76it/s]"
          ]
        },
        {
          "output_type": "stream",
          "name": "stdout",
          "text": [
            "\n",
            "/content/drive/MyDrive/urbansound/spectrograms/7/14772-7-3-0.png\n",
            "/content/drive/MyDrive/urbansound/spectrograms/7/14772-7-4-0.png\n",
            "/content/drive/MyDrive/urbansound/spectrograms/7/14772-7-5-0.png\n",
            "/content/drive/MyDrive/urbansound/spectrograms/7/14772-7-6-0.png\n",
            "/content/drive/MyDrive/urbansound/spectrograms/7/14772-7-7-0.png\n",
            "/content/drive/MyDrive/urbansound/spectrograms/7/14772-7-8-0.png\n",
            "/content/drive/MyDrive/urbansound/spectrograms/7/14772-7-9-0.png\n",
            "/content/drive/MyDrive/urbansound/spectrograms/4/147764-4-0-0.png\n",
            "/content/drive/MyDrive/urbansound/spectrograms/4/147764-4-1-0.png\n",
            "/content/drive/MyDrive/urbansound/spectrograms/4/147764-4-2-0.png\n",
            "/content/drive/MyDrive/urbansound/spectrograms/4/147764-4-3-0.png\n",
            "/content/drive/MyDrive/urbansound/spectrograms/4/147764-4-4-0.png\n",
            "/content/drive/MyDrive/urbansound/spectrograms/4/147764-4-4-1.png\n",
            "/content/drive/MyDrive/urbansound/spectrograms/4/147764-4-4-2.png\n",
            "/content/drive/MyDrive/urbansound/spectrograms/4/147764-4-5-0.png\n",
            "/content/drive/MyDrive/urbansound/spectrograms/4/147764-4-6-0.png\n",
            "/content/drive/MyDrive/urbansound/spectrograms/4/147764-4-7-0.png\n"
          ]
        },
        {
          "output_type": "stream",
          "name": "stderr",
          "text": [
            "1997it [00:22, 92.42it/s]"
          ]
        },
        {
          "output_type": "stream",
          "name": "stdout",
          "text": [
            "/content/drive/MyDrive/urbansound/spectrograms/4/147764-4-8-0.png\n",
            "/content/drive/MyDrive/urbansound/spectrograms/9/14780-9-0-0.png\n",
            "/content/drive/MyDrive/urbansound/spectrograms/9/14780-9-0-1.png\n",
            "/content/drive/MyDrive/urbansound/spectrograms/9/14780-9-0-2.png\n",
            "/content/drive/MyDrive/urbansound/spectrograms/0/147926-0-0-10.png\n",
            "/content/drive/MyDrive/urbansound/spectrograms/0/147926-0-0-11.png\n",
            "/content/drive/MyDrive/urbansound/spectrograms/0/147926-0-0-12.png\n",
            "/content/drive/MyDrive/urbansound/spectrograms/0/147926-0-0-16.png\n",
            "/content/drive/MyDrive/urbansound/spectrograms/0/147926-0-0-17.png\n",
            "/content/drive/MyDrive/urbansound/spectrograms/0/147926-0-0-2.png\n",
            "/content/drive/MyDrive/urbansound/spectrograms/0/147926-0-0-20.png\n",
            "/content/drive/MyDrive/urbansound/spectrograms/0/147926-0-0-21.png\n",
            "/content/drive/MyDrive/urbansound/spectrograms/0/147926-0-0-27.png\n",
            "/content/drive/MyDrive/urbansound/spectrograms/0/147926-0-0-28.png\n",
            "/content/drive/MyDrive/urbansound/spectrograms/0/147926-0-0-34.png\n",
            "/content/drive/MyDrive/urbansound/spectrograms/0/147926-0-0-35.png\n",
            "/content/drive/MyDrive/urbansound/spectrograms/0/147926-0-0-36.png\n",
            "/content/drive/MyDrive/urbansound/spectrograms/0/147926-0-0-37.png\n",
            "/content/drive/MyDrive/urbansound/spectrograms/0/147926-0-0-39.png\n",
            "/content/drive/MyDrive/urbansound/spectrograms/0/147926-0-0-4.png\n"
          ]
        },
        {
          "output_type": "stream",
          "name": "stderr",
          "text": [
            "2018it [00:22, 95.91it/s]"
          ]
        },
        {
          "output_type": "stream",
          "name": "stdout",
          "text": [
            "/content/drive/MyDrive/urbansound/spectrograms/0/147926-0-0-41.png\n",
            "/content/drive/MyDrive/urbansound/spectrograms/0/147926-0-0-42.png\n",
            "/content/drive/MyDrive/urbansound/spectrograms/0/147926-0-0-44.png\n",
            "/content/drive/MyDrive/urbansound/spectrograms/0/147926-0-0-5.png\n",
            "/content/drive/MyDrive/urbansound/spectrograms/0/147926-0-0-50.png\n",
            "/content/drive/MyDrive/urbansound/spectrograms/0/147926-0-0-52.png\n",
            "/content/drive/MyDrive/urbansound/spectrograms/0/147926-0-0-54.png\n",
            "/content/drive/MyDrive/urbansound/spectrograms/0/147926-0-0-7.png\n",
            "/content/drive/MyDrive/urbansound/spectrograms/6/148166-6-0-0.png\n",
            "/content/drive/MyDrive/urbansound/spectrograms/7/148463-7-2-0.png\n",
            "/content/drive/MyDrive/urbansound/spectrograms/7/148463-7-2-1.png\n",
            "/content/drive/MyDrive/urbansound/spectrograms/7/148463-7-2-2.png\n",
            "/content/drive/MyDrive/urbansound/spectrograms/7/148463-7-3-0.png\n",
            "/content/drive/MyDrive/urbansound/spectrograms/7/148463-7-3-1.png\n",
            "/content/drive/MyDrive/urbansound/spectrograms/7/148463-7-3-10.png\n",
            "/content/drive/MyDrive/urbansound/spectrograms/7/148463-7-3-2.png\n",
            "/content/drive/MyDrive/urbansound/spectrograms/7/148463-7-3-3.png\n",
            "/content/drive/MyDrive/urbansound/spectrograms/7/148463-7-3-4.png\n",
            "/content/drive/MyDrive/urbansound/spectrograms/7/148463-7-3-5.png\n",
            "/content/drive/MyDrive/urbansound/spectrograms/7/148463-7-3-6.png\n",
            "/content/drive/MyDrive/urbansound/spectrograms/7/148463-7-3-7.png\n"
          ]
        },
        {
          "output_type": "stream",
          "name": "stderr",
          "text": [
            "\r2028it [00:22, 92.76it/s]"
          ]
        },
        {
          "output_type": "stream",
          "name": "stdout",
          "text": [
            "/content/drive/MyDrive/urbansound/spectrograms/7/148463-7-3-8.png\n",
            "/content/drive/MyDrive/urbansound/spectrograms/7/148463-7-3-9.png\n",
            "/content/drive/MyDrive/urbansound/spectrograms/8/148632-8-0-0.png\n",
            "/content/drive/MyDrive/urbansound/spectrograms/8/148632-8-0-1.png\n",
            "/content/drive/MyDrive/urbansound/spectrograms/8/148632-8-0-10.png\n",
            "/content/drive/MyDrive/urbansound/spectrograms/8/148632-8-0-11.png\n",
            "/content/drive/MyDrive/urbansound/spectrograms/8/148632-8-0-12.png\n",
            "/content/drive/MyDrive/urbansound/spectrograms/8/148632-8-0-13.png\n",
            "/content/drive/MyDrive/urbansound/spectrograms/8/148632-8-0-14.png\n",
            "/content/drive/MyDrive/urbansound/spectrograms/8/148632-8-0-15.png\n",
            "/content/drive/MyDrive/urbansound/spectrograms/8/148632-8-0-16.png\n",
            "/content/drive/MyDrive/urbansound/spectrograms/8/148632-8-0-17.png\n",
            "/content/drive/MyDrive/urbansound/spectrograms/8/148632-8-0-18.png\n",
            "/content/drive/MyDrive/urbansound/spectrograms/8/148632-8-0-2.png\n",
            "/content/drive/MyDrive/urbansound/spectrograms/8/148632-8-0-3.png\n",
            "/content/drive/MyDrive/urbansound/spectrograms/8/148632-8-0-4.png\n",
            "/content/drive/MyDrive/urbansound/spectrograms/8/148632-8-0-5.png\n",
            "/content/drive/MyDrive/urbansound/spectrograms/8/148632-8-0-6.png\n",
            "/content/drive/MyDrive/urbansound/spectrograms/8/148632-8-0-7.png\n"
          ]
        },
        {
          "output_type": "stream",
          "name": "stderr",
          "text": [
            "2049it [00:22, 93.92it/s]"
          ]
        },
        {
          "output_type": "stream",
          "name": "stdout",
          "text": [
            "/content/drive/MyDrive/urbansound/spectrograms/8/148632-8-0-8.png\n",
            "/content/drive/MyDrive/urbansound/spectrograms/8/148632-8-0-9.png\n",
            "/content/drive/MyDrive/urbansound/spectrograms/6/148827-6-0-0.png\n",
            "/content/drive/MyDrive/urbansound/spectrograms/6/148827-6-1-0.png\n",
            "/content/drive/MyDrive/urbansound/spectrograms/6/148827-6-2-0.png\n",
            "/content/drive/MyDrive/urbansound/spectrograms/6/148827-6-3-0.png\n",
            "/content/drive/MyDrive/urbansound/spectrograms/6/148827-6-4-0.png\n",
            "/content/drive/MyDrive/urbansound/spectrograms/6/148828-6-0-0.png\n",
            "/content/drive/MyDrive/urbansound/spectrograms/6/148828-6-1-0.png\n",
            "/content/drive/MyDrive/urbansound/spectrograms/6/148833-6-0-0.png\n",
            "/content/drive/MyDrive/urbansound/spectrograms/6/148833-6-1-0.png\n",
            "/content/drive/MyDrive/urbansound/spectrograms/6/148834-6-0-0.png\n",
            "/content/drive/MyDrive/urbansound/spectrograms/6/148835-6-0-0.png\n",
            "/content/drive/MyDrive/urbansound/spectrograms/6/148835-6-1-0.png\n",
            "/content/drive/MyDrive/urbansound/spectrograms/6/148835-6-2-0.png\n",
            "/content/drive/MyDrive/urbansound/spectrograms/6/148835-6-3-0.png\n",
            "/content/drive/MyDrive/urbansound/spectrograms/6/148835-6-4-0.png\n",
            "/content/drive/MyDrive/urbansound/spectrograms/6/148837-6-0-0.png\n",
            "/content/drive/MyDrive/urbansound/spectrograms/6/148837-6-1-0.png\n",
            "/content/drive/MyDrive/urbansound/spectrograms/6/148837-6-2-0.png\n",
            "/content/drive/MyDrive/urbansound/spectrograms/6/148838-6-0-0.png\n"
          ]
        },
        {
          "output_type": "stream",
          "name": "stderr",
          "text": [
            "2069it [00:22, 93.38it/s]"
          ]
        },
        {
          "output_type": "stream",
          "name": "stdout",
          "text": [
            "/content/drive/MyDrive/urbansound/spectrograms/6/148838-6-1-0.png\n",
            "/content/drive/MyDrive/urbansound/spectrograms/6/148838-6-2-0.png\n",
            "/content/drive/MyDrive/urbansound/spectrograms/6/148841-6-0-0.png\n",
            "/content/drive/MyDrive/urbansound/spectrograms/6/148841-6-1-0.png\n",
            "/content/drive/MyDrive/urbansound/spectrograms/6/148841-6-2-0.png\n",
            "/content/drive/MyDrive/urbansound/spectrograms/6/149177-6-0-0.png\n",
            "/content/drive/MyDrive/urbansound/spectrograms/5/149193-5-0-0.png\n",
            "/content/drive/MyDrive/urbansound/spectrograms/5/149193-5-0-1.png\n",
            "/content/drive/MyDrive/urbansound/spectrograms/5/149193-5-0-2.png\n",
            "/content/drive/MyDrive/urbansound/spectrograms/5/149193-5-0-3.png\n",
            "/content/drive/MyDrive/urbansound/spectrograms/5/149193-5-0-4.png\n",
            "/content/drive/MyDrive/urbansound/spectrograms/5/149193-5-0-5.png\n",
            "/content/drive/MyDrive/urbansound/spectrograms/9/149254-9-0-25.png\n",
            "/content/drive/MyDrive/urbansound/spectrograms/9/149254-9-0-29.png\n",
            "/content/drive/MyDrive/urbansound/spectrograms/9/149254-9-0-30.png\n",
            "/content/drive/MyDrive/urbansound/spectrograms/9/149254-9-0-42.png\n",
            "/content/drive/MyDrive/urbansound/spectrograms/9/149254-9-0-51.png\n",
            "/content/drive/MyDrive/urbansound/spectrograms/9/149254-9-0-56.png\n",
            "/content/drive/MyDrive/urbansound/spectrograms/9/149255-9-0-0.png\n"
          ]
        },
        {
          "output_type": "stream",
          "name": "stderr",
          "text": [
            "2089it [00:23, 91.63it/s]"
          ]
        },
        {
          "output_type": "stream",
          "name": "stdout",
          "text": [
            "/content/drive/MyDrive/urbansound/spectrograms/9/149255-9-0-13.png\n",
            "/content/drive/MyDrive/urbansound/spectrograms/9/149255-9-0-3.png\n",
            "/content/drive/MyDrive/urbansound/spectrograms/9/149255-9-0-4.png\n",
            "/content/drive/MyDrive/urbansound/spectrograms/9/149255-9-0-5.png\n",
            "/content/drive/MyDrive/urbansound/spectrograms/9/149255-9-0-7.png\n",
            "/content/drive/MyDrive/urbansound/spectrograms/9/149370-9-0-15.png\n",
            "/content/drive/MyDrive/urbansound/spectrograms/9/149370-9-0-19.png\n",
            "/content/drive/MyDrive/urbansound/spectrograms/9/149370-9-0-21.png\n",
            "/content/drive/MyDrive/urbansound/spectrograms/9/149370-9-0-22.png\n",
            "/content/drive/MyDrive/urbansound/spectrograms/9/149370-9-0-32.png\n",
            "/content/drive/MyDrive/urbansound/spectrograms/9/149370-9-0-37.png\n",
            "/content/drive/MyDrive/urbansound/spectrograms/9/149929-9-0-0.png\n",
            "/content/drive/MyDrive/urbansound/spectrograms/9/149929-9-0-2.png\n",
            "/content/drive/MyDrive/urbansound/spectrograms/9/149929-9-0-5.png\n",
            "/content/drive/MyDrive/urbansound/spectrograms/9/149929-9-1-0.png\n",
            "/content/drive/MyDrive/urbansound/spectrograms/9/149929-9-1-1.png\n",
            "/content/drive/MyDrive/urbansound/spectrograms/9/149929-9-1-4.png\n",
            "/content/drive/MyDrive/urbansound/spectrograms/3/150341-3-0-0.png\n",
            "/content/drive/MyDrive/urbansound/spectrograms/3/150341-3-1-0.png\n",
            "/content/drive/MyDrive/urbansound/spectrograms/4/151005-4-0-0.png\n"
          ]
        },
        {
          "output_type": "stream",
          "name": "stderr",
          "text": [
            "2109it [00:23, 92.83it/s]"
          ]
        },
        {
          "output_type": "stream",
          "name": "stdout",
          "text": [
            "/content/drive/MyDrive/urbansound/spectrograms/4/151005-4-0-1.png\n",
            "/content/drive/MyDrive/urbansound/spectrograms/4/151005-4-0-2.png\n",
            "/content/drive/MyDrive/urbansound/spectrograms/4/151005-4-0-3.png\n",
            "/content/drive/MyDrive/urbansound/spectrograms/4/151005-4-1-0.png\n",
            "/content/drive/MyDrive/urbansound/spectrograms/4/151005-4-1-1.png\n",
            "/content/drive/MyDrive/urbansound/spectrograms/4/151005-4-1-2.png\n",
            "/content/drive/MyDrive/urbansound/spectrograms/4/151005-4-2-0.png\n",
            "/content/drive/MyDrive/urbansound/spectrograms/4/151005-4-2-1.png\n",
            "/content/drive/MyDrive/urbansound/spectrograms/4/151005-4-3-0.png\n",
            "/content/drive/MyDrive/urbansound/spectrograms/4/151005-4-3-1.png\n",
            "/content/drive/MyDrive/urbansound/spectrograms/4/151005-4-3-2.png\n",
            "/content/drive/MyDrive/urbansound/spectrograms/6/151065-6-0-0.png\n",
            "/content/drive/MyDrive/urbansound/spectrograms/6/151069-6-0-0.png\n",
            "/content/drive/MyDrive/urbansound/spectrograms/6/151071-6-0-0.png\n",
            "/content/drive/MyDrive/urbansound/spectrograms/2/151149-2-0-11.png\n",
            "/content/drive/MyDrive/urbansound/spectrograms/2/151149-2-0-12.png\n",
            "/content/drive/MyDrive/urbansound/spectrograms/2/151149-2-0-15.png\n",
            "/content/drive/MyDrive/urbansound/spectrograms/2/151149-2-0-22.png\n",
            "/content/drive/MyDrive/urbansound/spectrograms/2/151149-2-0-3.png\n",
            "/content/drive/MyDrive/urbansound/spectrograms/2/151149-2-0-4.png\n"
          ]
        },
        {
          "output_type": "stream",
          "name": "stderr",
          "text": [
            "2129it [00:23, 95.93it/s]"
          ]
        },
        {
          "output_type": "stream",
          "name": "stdout",
          "text": [
            "/content/drive/MyDrive/urbansound/spectrograms/2/151149-2-0-54.png\n",
            "/content/drive/MyDrive/urbansound/spectrograms/2/151149-2-0-56.png\n",
            "/content/drive/MyDrive/urbansound/spectrograms/1/151359-1-0-0.png\n",
            "/content/drive/MyDrive/urbansound/spectrograms/1/151359-1-1-0.png\n",
            "/content/drive/MyDrive/urbansound/spectrograms/1/151359-1-2-0.png\n",
            "/content/drive/MyDrive/urbansound/spectrograms/1/151359-1-3-0.png\n",
            "/content/drive/MyDrive/urbansound/spectrograms/5/151877-5-0-0.png\n",
            "/content/drive/MyDrive/urbansound/spectrograms/5/151877-5-1-0.png\n",
            "/content/drive/MyDrive/urbansound/spectrograms/0/151977-0-0-0.png\n",
            "/content/drive/MyDrive/urbansound/spectrograms/0/151977-0-0-1.png\n",
            "/content/drive/MyDrive/urbansound/spectrograms/0/151977-0-0-10.png\n",
            "/content/drive/MyDrive/urbansound/spectrograms/0/151977-0-0-11.png\n",
            "/content/drive/MyDrive/urbansound/spectrograms/0/151977-0-0-12.png\n",
            "/content/drive/MyDrive/urbansound/spectrograms/0/151977-0-0-13.png\n",
            "/content/drive/MyDrive/urbansound/spectrograms/0/151977-0-0-2.png\n",
            "/content/drive/MyDrive/urbansound/spectrograms/0/151977-0-0-3.png\n",
            "/content/drive/MyDrive/urbansound/spectrograms/0/151977-0-0-4.png\n",
            "/content/drive/MyDrive/urbansound/spectrograms/0/151977-0-0-5.png\n",
            "/content/drive/MyDrive/urbansound/spectrograms/0/151977-0-0-6.png\n"
          ]
        },
        {
          "output_type": "stream",
          "name": "stderr",
          "text": [
            "2149it [00:23, 91.77it/s]"
          ]
        },
        {
          "output_type": "stream",
          "name": "stdout",
          "text": [
            "/content/drive/MyDrive/urbansound/spectrograms/0/151977-0-0-7.png\n",
            "/content/drive/MyDrive/urbansound/spectrograms/0/151977-0-0-8.png\n",
            "/content/drive/MyDrive/urbansound/spectrograms/0/151977-0-0-9.png\n",
            "/content/drive/MyDrive/urbansound/spectrograms/9/152570-9-0-0.png\n",
            "/content/drive/MyDrive/urbansound/spectrograms/9/152570-9-1-41.png\n",
            "/content/drive/MyDrive/urbansound/spectrograms/9/152570-9-1-42.png\n",
            "/content/drive/MyDrive/urbansound/spectrograms/9/152570-9-1-61.png\n",
            "/content/drive/MyDrive/urbansound/spectrograms/9/152570-9-1-63.png\n",
            "/content/drive/MyDrive/urbansound/spectrograms/9/152570-9-1-81.png\n",
            "/content/drive/MyDrive/urbansound/spectrograms/3/152588-3-0-0.png\n",
            "/content/drive/MyDrive/urbansound/spectrograms/3/152588-3-1-0.png\n",
            "/content/drive/MyDrive/urbansound/spectrograms/3/152588-3-2-0.png\n",
            "/content/drive/MyDrive/urbansound/spectrograms/3/152588-3-3-0.png\n",
            "/content/drive/MyDrive/urbansound/spectrograms/5/152908-5-0-0.png\n",
            "/content/drive/MyDrive/urbansound/spectrograms/5/152908-5-0-1.png\n",
            "/content/drive/MyDrive/urbansound/spectrograms/5/152908-5-0-10.png\n",
            "/content/drive/MyDrive/urbansound/spectrograms/5/152908-5-0-11.png\n",
            "/content/drive/MyDrive/urbansound/spectrograms/5/152908-5-0-12.png\n",
            "/content/drive/MyDrive/urbansound/spectrograms/5/152908-5-0-13.png\n"
          ]
        },
        {
          "output_type": "stream",
          "name": "stderr",
          "text": [
            "2169it [00:23, 91.52it/s]"
          ]
        },
        {
          "output_type": "stream",
          "name": "stdout",
          "text": [
            "/content/drive/MyDrive/urbansound/spectrograms/5/152908-5-0-2.png\n",
            "/content/drive/MyDrive/urbansound/spectrograms/5/152908-5-0-3.png\n",
            "/content/drive/MyDrive/urbansound/spectrograms/5/152908-5-0-4.png\n",
            "/content/drive/MyDrive/urbansound/spectrograms/5/152908-5-0-5.png\n",
            "/content/drive/MyDrive/urbansound/spectrograms/5/152908-5-0-6.png\n",
            "/content/drive/MyDrive/urbansound/spectrograms/5/152908-5-0-7.png\n",
            "/content/drive/MyDrive/urbansound/spectrograms/5/152908-5-0-8.png\n",
            "/content/drive/MyDrive/urbansound/spectrograms/5/152908-5-0-9.png\n",
            "/content/drive/MyDrive/urbansound/spectrograms/1/153057-1-0-0.png\n",
            "/content/drive/MyDrive/urbansound/spectrograms/0/153261-0-0-0.png\n",
            "/content/drive/MyDrive/urbansound/spectrograms/0/153261-0-0-1.png\n",
            "/content/drive/MyDrive/urbansound/spectrograms/0/153261-0-0-2.png\n",
            "/content/drive/MyDrive/urbansound/spectrograms/0/153261-0-0-3.png\n",
            "/content/drive/MyDrive/urbansound/spectrograms/2/15356-2-0-0.png\n",
            "/content/drive/MyDrive/urbansound/spectrograms/2/15356-2-0-1.png\n",
            "/content/drive/MyDrive/urbansound/spectrograms/2/15356-2-0-2.png\n",
            "/content/drive/MyDrive/urbansound/spectrograms/2/15356-2-0-3.png\n",
            "/content/drive/MyDrive/urbansound/spectrograms/2/15356-2-0-4.png\n",
            "/content/drive/MyDrive/urbansound/spectrograms/5/154758-5-0-0.png\n"
          ]
        },
        {
          "output_type": "stream",
          "name": "stderr",
          "text": [
            "2188it [00:24, 86.84it/s]"
          ]
        },
        {
          "output_type": "stream",
          "name": "stdout",
          "text": [
            "/content/drive/MyDrive/urbansound/spectrograms/5/154758-5-0-1.png\n",
            "/content/drive/MyDrive/urbansound/spectrograms/5/154758-5-0-10.png\n",
            "/content/drive/MyDrive/urbansound/spectrograms/5/154758-5-0-11.png\n",
            "/content/drive/MyDrive/urbansound/spectrograms/5/154758-5-0-12.png\n",
            "/content/drive/MyDrive/urbansound/spectrograms/5/154758-5-0-13.png\n",
            "/content/drive/MyDrive/urbansound/spectrograms/5/154758-5-0-14.png\n",
            "/content/drive/MyDrive/urbansound/spectrograms/5/154758-5-0-15.png\n",
            "/content/drive/MyDrive/urbansound/spectrograms/5/154758-5-0-16.png\n",
            "/content/drive/MyDrive/urbansound/spectrograms/5/154758-5-0-17.png\n",
            "/content/drive/MyDrive/urbansound/spectrograms/5/154758-5-0-18.png\n",
            "/content/drive/MyDrive/urbansound/spectrograms/5/154758-5-0-19.png\n",
            "/content/drive/MyDrive/urbansound/spectrograms/5/154758-5-0-2.png\n",
            "/content/drive/MyDrive/urbansound/spectrograms/5/154758-5-0-20.png\n",
            "/content/drive/MyDrive/urbansound/spectrograms/5/154758-5-0-21.png\n",
            "/content/drive/MyDrive/urbansound/spectrograms/5/154758-5-0-3.png\n",
            "/content/drive/MyDrive/urbansound/spectrograms/5/154758-5-0-4.png\n",
            "/content/drive/MyDrive/urbansound/spectrograms/5/154758-5-0-5.png\n",
            "/content/drive/MyDrive/urbansound/spectrograms/5/154758-5-0-6.png\n"
          ]
        },
        {
          "output_type": "stream",
          "name": "stderr",
          "text": [
            "2208it [00:24, 91.35it/s]"
          ]
        },
        {
          "output_type": "stream",
          "name": "stdout",
          "text": [
            "/content/drive/MyDrive/urbansound/spectrograms/5/154758-5-0-7.png\n",
            "/content/drive/MyDrive/urbansound/spectrograms/5/154758-5-0-8.png\n",
            "/content/drive/MyDrive/urbansound/spectrograms/5/154758-5-0-9.png\n",
            "/content/drive/MyDrive/urbansound/spectrograms/9/155044-9-0-11.png\n",
            "/content/drive/MyDrive/urbansound/spectrograms/9/155044-9-0-15.png\n",
            "/content/drive/MyDrive/urbansound/spectrograms/9/155044-9-0-19.png\n",
            "/content/drive/MyDrive/urbansound/spectrograms/9/155044-9-0-3.png\n",
            "/content/drive/MyDrive/urbansound/spectrograms/9/155044-9-0-37.png\n",
            "/content/drive/MyDrive/urbansound/spectrograms/9/155044-9-0-38.png\n",
            "/content/drive/MyDrive/urbansound/spectrograms/9/155127-9-0-2.png\n",
            "/content/drive/MyDrive/urbansound/spectrograms/9/155127-9-1-2.png\n",
            "/content/drive/MyDrive/urbansound/spectrograms/9/155127-9-1-23.png\n",
            "/content/drive/MyDrive/urbansound/spectrograms/9/155127-9-1-24.png\n",
            "/content/drive/MyDrive/urbansound/spectrograms/9/155127-9-1-25.png\n",
            "/content/drive/MyDrive/urbansound/spectrograms/9/155127-9-1-27.png\n",
            "/content/drive/MyDrive/urbansound/spectrograms/1/155129-1-0-0.png\n",
            "/content/drive/MyDrive/urbansound/spectrograms/1/155129-1-1-0.png\n",
            "/content/drive/MyDrive/urbansound/spectrograms/1/155129-1-2-0.png\n",
            "/content/drive/MyDrive/urbansound/spectrograms/1/155130-1-0-0.png\n",
            "/content/drive/MyDrive/urbansound/spectrograms/1/155130-1-1-0.png\n"
          ]
        },
        {
          "output_type": "stream",
          "name": "stderr",
          "text": [
            "2228it [00:24, 92.05it/s]"
          ]
        },
        {
          "output_type": "stream",
          "name": "stdout",
          "text": [
            "/content/drive/MyDrive/urbansound/spectrograms/9/155202-9-0-124.png\n",
            "/content/drive/MyDrive/urbansound/spectrograms/9/155202-9-0-126.png\n",
            "/content/drive/MyDrive/urbansound/spectrograms/9/155202-9-0-135.png\n",
            "/content/drive/MyDrive/urbansound/spectrograms/9/155202-9-0-38.png\n",
            "/content/drive/MyDrive/urbansound/spectrograms/9/155202-9-0-42.png\n",
            "/content/drive/MyDrive/urbansound/spectrograms/9/155202-9-0-6.png\n",
            "/content/drive/MyDrive/urbansound/spectrograms/9/155212-9-0-13.png\n",
            "/content/drive/MyDrive/urbansound/spectrograms/9/155212-9-1-14.png\n",
            "/content/drive/MyDrive/urbansound/spectrograms/9/155212-9-1-49.png\n",
            "/content/drive/MyDrive/urbansound/spectrograms/9/155212-9-1-75.png\n",
            "/content/drive/MyDrive/urbansound/spectrograms/9/155212-9-1-85.png\n",
            "/content/drive/MyDrive/urbansound/spectrograms/9/155212-9-1-88.png\n",
            "/content/drive/MyDrive/urbansound/spectrograms/9/155217-9-0-27.png\n",
            "/content/drive/MyDrive/urbansound/spectrograms/9/155217-9-0-39.png\n",
            "/content/drive/MyDrive/urbansound/spectrograms/9/155217-9-0-57.png\n",
            "/content/drive/MyDrive/urbansound/spectrograms/9/155217-9-0-85.png\n",
            "/content/drive/MyDrive/urbansound/spectrograms/9/155217-9-1-24.png\n",
            "/content/drive/MyDrive/urbansound/spectrograms/9/155217-9-1-58.png\n",
            "/content/drive/MyDrive/urbansound/spectrograms/2/155219-2-0-0.png\n"
          ]
        },
        {
          "output_type": "stream",
          "name": "stderr",
          "text": [
            "2247it [00:24, 88.22it/s]"
          ]
        },
        {
          "output_type": "stream",
          "name": "stdout",
          "text": [
            "/content/drive/MyDrive/urbansound/spectrograms/2/155219-2-0-1.png\n",
            "/content/drive/MyDrive/urbansound/spectrograms/2/155219-2-0-22.png\n",
            "/content/drive/MyDrive/urbansound/spectrograms/2/155219-2-0-24.png\n",
            "/content/drive/MyDrive/urbansound/spectrograms/2/155219-2-0-25.png\n",
            "/content/drive/MyDrive/urbansound/spectrograms/2/155219-2-0-26.png\n",
            "/content/drive/MyDrive/urbansound/spectrograms/2/155219-2-0-51.png\n",
            "/content/drive/MyDrive/urbansound/spectrograms/2/155219-2-0-57.png\n",
            "/content/drive/MyDrive/urbansound/spectrograms/9/155227-9-0-2.png\n",
            "/content/drive/MyDrive/urbansound/spectrograms/9/155227-9-0-20.png\n",
            "/content/drive/MyDrive/urbansound/spectrograms/9/155227-9-0-23.png\n",
            "/content/drive/MyDrive/urbansound/spectrograms/9/155227-9-0-24.png\n",
            "/content/drive/MyDrive/urbansound/spectrograms/9/155227-9-0-27.png\n",
            "/content/drive/MyDrive/urbansound/spectrograms/9/155227-9-0-3.png\n",
            "/content/drive/MyDrive/urbansound/spectrograms/1/155234-1-0-0.png\n",
            "/content/drive/MyDrive/urbansound/spectrograms/2/155238-2-0-17.png\n",
            "/content/drive/MyDrive/urbansound/spectrograms/2/155238-2-0-3.png\n",
            "/content/drive/MyDrive/urbansound/spectrograms/2/155238-2-0-31.png\n",
            "/content/drive/MyDrive/urbansound/spectrograms/2/155238-2-0-36.png\n"
          ]
        },
        {
          "output_type": "stream",
          "name": "stderr",
          "text": [
            "2266it [00:25, 89.69it/s]"
          ]
        },
        {
          "output_type": "stream",
          "name": "stdout",
          "text": [
            "/content/drive/MyDrive/urbansound/spectrograms/2/155238-2-0-47.png\n",
            "/content/drive/MyDrive/urbansound/spectrograms/2/155238-2-0-67.png\n",
            "/content/drive/MyDrive/urbansound/spectrograms/2/155238-2-0-75.png\n",
            "/content/drive/MyDrive/urbansound/spectrograms/2/155238-2-0-97.png\n",
            "/content/drive/MyDrive/urbansound/spectrograms/9/155241-9-0-50.png\n",
            "/content/drive/MyDrive/urbansound/spectrograms/9/155241-9-0-56.png\n",
            "/content/drive/MyDrive/urbansound/spectrograms/9/155241-9-0-69.png\n",
            "/content/drive/MyDrive/urbansound/spectrograms/9/155241-9-0-79.png\n",
            "/content/drive/MyDrive/urbansound/spectrograms/9/155241-9-0-8.png\n",
            "/content/drive/MyDrive/urbansound/spectrograms/9/155241-9-0-88.png\n",
            "/content/drive/MyDrive/urbansound/spectrograms/9/155242-9-0-12.png\n",
            "/content/drive/MyDrive/urbansound/spectrograms/9/155242-9-0-15.png\n",
            "/content/drive/MyDrive/urbansound/spectrograms/9/155242-9-0-27.png\n",
            "/content/drive/MyDrive/urbansound/spectrograms/9/155242-9-0-35.png\n",
            "/content/drive/MyDrive/urbansound/spectrograms/9/155242-9-0-4.png\n",
            "/content/drive/MyDrive/urbansound/spectrograms/9/155242-9-0-44.png\n",
            "/content/drive/MyDrive/urbansound/spectrograms/9/155243-9-0-18.png\n",
            "/content/drive/MyDrive/urbansound/spectrograms/9/155243-9-0-24.png\n",
            "/content/drive/MyDrive/urbansound/spectrograms/9/155243-9-0-32.png\n",
            "/content/drive/MyDrive/urbansound/spectrograms/9/155243-9-0-42.png\n"
          ]
        },
        {
          "output_type": "stream",
          "name": "stderr",
          "text": [
            "2286it [00:25, 94.26it/s]"
          ]
        },
        {
          "output_type": "stream",
          "name": "stdout",
          "text": [
            "/content/drive/MyDrive/urbansound/spectrograms/9/155243-9-0-53.png\n",
            "/content/drive/MyDrive/urbansound/spectrograms/9/155243-9-0-55.png\n",
            "/content/drive/MyDrive/urbansound/spectrograms/2/155262-2-0-101.png\n",
            "/content/drive/MyDrive/urbansound/spectrograms/2/155262-2-0-11.png\n",
            "/content/drive/MyDrive/urbansound/spectrograms/2/155262-2-0-15.png\n",
            "/content/drive/MyDrive/urbansound/spectrograms/2/155262-2-0-2.png\n",
            "/content/drive/MyDrive/urbansound/spectrograms/2/155262-2-0-21.png\n",
            "/content/drive/MyDrive/urbansound/spectrograms/2/155262-2-0-48.png\n",
            "/content/drive/MyDrive/urbansound/spectrograms/2/155262-2-0-58.png\n",
            "/content/drive/MyDrive/urbansound/spectrograms/2/155262-2-0-63.png\n",
            "/content/drive/MyDrive/urbansound/spectrograms/2/155263-2-0-12.png\n",
            "/content/drive/MyDrive/urbansound/spectrograms/2/155263-2-0-22.png\n",
            "/content/drive/MyDrive/urbansound/spectrograms/2/155263-2-0-23.png\n",
            "/content/drive/MyDrive/urbansound/spectrograms/2/155263-2-0-34.png\n",
            "/content/drive/MyDrive/urbansound/spectrograms/2/155263-2-0-43.png\n",
            "/content/drive/MyDrive/urbansound/spectrograms/2/155263-2-0-50.png\n",
            "/content/drive/MyDrive/urbansound/spectrograms/2/155263-2-0-57.png\n",
            "/content/drive/MyDrive/urbansound/spectrograms/2/155263-2-0-61.png\n",
            "/content/drive/MyDrive/urbansound/spectrograms/2/155280-2-0-10.png\n",
            "/content/drive/MyDrive/urbansound/spectrograms/2/155280-2-0-11.png\n"
          ]
        },
        {
          "output_type": "stream",
          "name": "stderr",
          "text": [
            "2307it [00:25, 96.33it/s]"
          ]
        },
        {
          "output_type": "stream",
          "name": "stdout",
          "text": [
            "/content/drive/MyDrive/urbansound/spectrograms/2/155280-2-0-13.png\n",
            "/content/drive/MyDrive/urbansound/spectrograms/2/155280-2-0-15.png\n",
            "/content/drive/MyDrive/urbansound/spectrograms/2/155280-2-0-3.png\n",
            "/content/drive/MyDrive/urbansound/spectrograms/2/155280-2-0-5.png\n",
            "/content/drive/MyDrive/urbansound/spectrograms/2/155280-2-0-6.png\n",
            "/content/drive/MyDrive/urbansound/spectrograms/2/155280-2-0-7.png\n",
            "/content/drive/MyDrive/urbansound/spectrograms/1/155283-1-0-0.png\n",
            "/content/drive/MyDrive/urbansound/spectrograms/1/155283-1-1-0.png\n",
            "/content/drive/MyDrive/urbansound/spectrograms/3/155294-3-0-0.png\n",
            "/content/drive/MyDrive/urbansound/spectrograms/3/155299-3-0-1.png\n",
            "/content/drive/MyDrive/urbansound/spectrograms/3/155299-3-1-0.png\n",
            "/content/drive/MyDrive/urbansound/spectrograms/3/155299-3-1-1.png\n",
            "/content/drive/MyDrive/urbansound/spectrograms/3/155299-3-1-2.png\n",
            "/content/drive/MyDrive/urbansound/spectrograms/3/155309-3-0-0.png\n",
            "/content/drive/MyDrive/urbansound/spectrograms/3/155310-3-0-0.png\n",
            "/content/drive/MyDrive/urbansound/spectrograms/3/155311-3-0-0.png\n",
            "/content/drive/MyDrive/urbansound/spectrograms/3/155312-3-0-0.png\n",
            "/content/drive/MyDrive/urbansound/spectrograms/3/155313-3-0-0.png\n",
            "/content/drive/MyDrive/urbansound/spectrograms/3/155314-3-0-1.png\n",
            "/content/drive/MyDrive/urbansound/spectrograms/3/155314-3-0-2.png\n",
            "/content/drive/MyDrive/urbansound/spectrograms/3/155314-3-0-5.png\n"
          ]
        },
        {
          "output_type": "stream",
          "name": "stderr",
          "text": [
            "2327it [00:25, 92.74it/s]"
          ]
        },
        {
          "output_type": "stream",
          "name": "stdout",
          "text": [
            "/content/drive/MyDrive/urbansound/spectrograms/3/155315-3-0-0.png\n",
            "/content/drive/MyDrive/urbansound/spectrograms/3/155317-3-0-0.png\n",
            "/content/drive/MyDrive/urbansound/spectrograms/3/155320-3-0-0.png\n",
            "/content/drive/MyDrive/urbansound/spectrograms/5/15544-5-0-0.png\n",
            "/content/drive/MyDrive/urbansound/spectrograms/5/15544-5-0-1.png\n",
            "/content/drive/MyDrive/urbansound/spectrograms/5/15544-5-0-10.png\n",
            "/content/drive/MyDrive/urbansound/spectrograms/5/15544-5-0-11.png\n",
            "/content/drive/MyDrive/urbansound/spectrograms/5/15544-5-0-12.png\n",
            "/content/drive/MyDrive/urbansound/spectrograms/5/15544-5-0-13.png\n",
            "/content/drive/MyDrive/urbansound/spectrograms/5/15544-5-0-14.png\n",
            "/content/drive/MyDrive/urbansound/spectrograms/5/15544-5-0-15.png\n",
            "/content/drive/MyDrive/urbansound/spectrograms/5/15544-5-0-16.png\n",
            "/content/drive/MyDrive/urbansound/spectrograms/5/15544-5-0-17.png\n",
            "/content/drive/MyDrive/urbansound/spectrograms/5/15544-5-0-18.png\n",
            "/content/drive/MyDrive/urbansound/spectrograms/5/15544-5-0-19.png\n",
            "/content/drive/MyDrive/urbansound/spectrograms/5/15544-5-0-2.png\n",
            "/content/drive/MyDrive/urbansound/spectrograms/5/15544-5-0-3.png\n",
            "/content/drive/MyDrive/urbansound/spectrograms/5/15544-5-0-4.png\n",
            "/content/drive/MyDrive/urbansound/spectrograms/5/15544-5-0-5.png\n"
          ]
        },
        {
          "output_type": "stream",
          "name": "stderr",
          "text": [
            "2346it [00:25, 88.57it/s]"
          ]
        },
        {
          "output_type": "stream",
          "name": "stdout",
          "text": [
            "/content/drive/MyDrive/urbansound/spectrograms/5/15544-5-0-6.png\n",
            "/content/drive/MyDrive/urbansound/spectrograms/5/15544-5-0-7.png\n",
            "/content/drive/MyDrive/urbansound/spectrograms/5/15544-5-0-8.png\n",
            "/content/drive/MyDrive/urbansound/spectrograms/5/15544-5-0-9.png\n",
            "/content/drive/MyDrive/urbansound/spectrograms/3/155488-3-0-6.png\n",
            "/content/drive/MyDrive/urbansound/spectrograms/3/155488-3-2-0.png\n",
            "/content/drive/MyDrive/urbansound/spectrograms/3/155488-3-3-0.png\n",
            "/content/drive/MyDrive/urbansound/spectrograms/3/155488-3-3-1.png\n",
            "/content/drive/MyDrive/urbansound/spectrograms/2/15564-2-0-0.png\n",
            "/content/drive/MyDrive/urbansound/spectrograms/2/15564-2-0-1.png\n",
            "/content/drive/MyDrive/urbansound/spectrograms/2/15564-2-0-2.png\n",
            "/content/drive/MyDrive/urbansound/spectrograms/1/156091-1-0-0.png\n",
            "/content/drive/MyDrive/urbansound/spectrograms/1/156194-1-0-0.png\n",
            "/content/drive/MyDrive/urbansound/spectrograms/2/156200-2-0-0.png\n",
            "/content/drive/MyDrive/urbansound/spectrograms/5/156358-5-0-0.png\n",
            "/content/drive/MyDrive/urbansound/spectrograms/5/156358-5-0-1.png\n",
            "/content/drive/MyDrive/urbansound/spectrograms/5/156358-5-0-2.png\n"
          ]
        },
        {
          "output_type": "stream",
          "name": "stderr",
          "text": [
            "2364it [00:26, 87.26it/s]"
          ]
        },
        {
          "output_type": "stream",
          "name": "stdout",
          "text": [
            "/content/drive/MyDrive/urbansound/spectrograms/5/156358-5-0-3.png\n",
            "/content/drive/MyDrive/urbansound/spectrograms/5/156358-5-0-4.png\n",
            "/content/drive/MyDrive/urbansound/spectrograms/5/156358-5-0-5.png\n",
            "/content/drive/MyDrive/urbansound/spectrograms/5/156358-5-0-6.png\n",
            "/content/drive/MyDrive/urbansound/spectrograms/4/156362-4-0-0.png\n",
            "/content/drive/MyDrive/urbansound/spectrograms/4/156362-4-0-1.png\n",
            "/content/drive/MyDrive/urbansound/spectrograms/4/156362-4-0-2.png\n",
            "/content/drive/MyDrive/urbansound/spectrograms/4/156362-4-0-3.png\n",
            "/content/drive/MyDrive/urbansound/spectrograms/4/156362-4-1-0.png\n",
            "/content/drive/MyDrive/urbansound/spectrograms/4/156362-4-2-0.png\n",
            "/content/drive/MyDrive/urbansound/spectrograms/4/156362-4-2-1.png\n",
            "/content/drive/MyDrive/urbansound/spectrograms/4/156362-4-3-0.png\n",
            "/content/drive/MyDrive/urbansound/spectrograms/4/156362-4-3-1.png\n",
            "/content/drive/MyDrive/urbansound/spectrograms/4/156362-4-3-2.png\n",
            "/content/drive/MyDrive/urbansound/spectrograms/4/156362-4-3-3.png\n",
            "/content/drive/MyDrive/urbansound/spectrograms/4/156362-4-3-4.png\n",
            "/content/drive/MyDrive/urbansound/spectrograms/4/156362-4-3-5.png\n",
            "/content/drive/MyDrive/urbansound/spectrograms/4/156362-4-3-6.png\n"
          ]
        },
        {
          "output_type": "stream",
          "name": "stderr",
          "text": [
            "2384it [00:26, 90.01it/s]"
          ]
        },
        {
          "output_type": "stream",
          "name": "stdout",
          "text": [
            "/content/drive/MyDrive/urbansound/spectrograms/4/156362-4-3-7.png\n",
            "/content/drive/MyDrive/urbansound/spectrograms/4/156362-4-3-8.png\n",
            "/content/drive/MyDrive/urbansound/spectrograms/3/156418-3-0-0.png\n",
            "/content/drive/MyDrive/urbansound/spectrograms/3/156418-3-0-1.png\n",
            "/content/drive/MyDrive/urbansound/spectrograms/3/156418-3-1-0.png\n",
            "/content/drive/MyDrive/urbansound/spectrograms/3/156418-3-2-0.png\n",
            "/content/drive/MyDrive/urbansound/spectrograms/5/156634-5-0-0.png\n",
            "/content/drive/MyDrive/urbansound/spectrograms/5/156634-5-0-1.png\n",
            "/content/drive/MyDrive/urbansound/spectrograms/5/156634-5-0-10.png\n",
            "/content/drive/MyDrive/urbansound/spectrograms/5/156634-5-0-11.png\n",
            "/content/drive/MyDrive/urbansound/spectrograms/5/156634-5-0-12.png\n",
            "/content/drive/MyDrive/urbansound/spectrograms/5/156634-5-0-2.png\n",
            "/content/drive/MyDrive/urbansound/spectrograms/5/156634-5-0-3.png\n",
            "/content/drive/MyDrive/urbansound/spectrograms/5/156634-5-0-4.png\n",
            "/content/drive/MyDrive/urbansound/spectrograms/5/156634-5-0-5.png\n",
            "/content/drive/MyDrive/urbansound/spectrograms/5/156634-5-0-6.png\n",
            "/content/drive/MyDrive/urbansound/spectrograms/5/156634-5-0-7.png\n",
            "/content/drive/MyDrive/urbansound/spectrograms/5/156634-5-0-8.png\n",
            "/content/drive/MyDrive/urbansound/spectrograms/5/156634-5-0-9.png\n",
            "/content/drive/MyDrive/urbansound/spectrograms/5/156634-5-1-0.png\n"
          ]
        },
        {
          "output_type": "stream",
          "name": "stderr",
          "text": [
            "2404it [00:26, 91.65it/s]"
          ]
        },
        {
          "output_type": "stream",
          "name": "stdout",
          "text": [
            "/content/drive/MyDrive/urbansound/spectrograms/5/156634-5-2-0.png\n",
            "/content/drive/MyDrive/urbansound/spectrograms/5/156634-5-2-1.png\n",
            "/content/drive/MyDrive/urbansound/spectrograms/5/156634-5-2-2.png\n",
            "/content/drive/MyDrive/urbansound/spectrograms/5/156634-5-2-3.png\n",
            "/content/drive/MyDrive/urbansound/spectrograms/5/156634-5-2-4.png\n",
            "/content/drive/MyDrive/urbansound/spectrograms/5/156634-5-2-5.png\n",
            "/content/drive/MyDrive/urbansound/spectrograms/5/156634-5-2-6.png\n",
            "/content/drive/MyDrive/urbansound/spectrograms/5/156634-5-2-7.png\n",
            "/content/drive/MyDrive/urbansound/spectrograms/5/156634-5-2-8.png\n",
            "/content/drive/MyDrive/urbansound/spectrograms/8/156868-8-0-0.png\n",
            "/content/drive/MyDrive/urbansound/spectrograms/8/156868-8-1-0.png\n",
            "/content/drive/MyDrive/urbansound/spectrograms/8/156868-8-2-0.png\n",
            "/content/drive/MyDrive/urbansound/spectrograms/8/156868-8-3-0.png\n",
            "/content/drive/MyDrive/urbansound/spectrograms/8/156868-8-4-0.png\n",
            "/content/drive/MyDrive/urbansound/spectrograms/8/156869-8-0-0.png\n",
            "/content/drive/MyDrive/urbansound/spectrograms/8/156869-8-0-1.png\n",
            "/content/drive/MyDrive/urbansound/spectrograms/8/156869-8-0-10.png\n",
            "/content/drive/MyDrive/urbansound/spectrograms/8/156869-8-0-11.png\n",
            "/content/drive/MyDrive/urbansound/spectrograms/8/156869-8-0-2.png\n",
            "/content/drive/MyDrive/urbansound/spectrograms/8/156869-8-0-3.png\n"
          ]
        },
        {
          "output_type": "stream",
          "name": "stderr",
          "text": [
            "\r2414it [00:26, 87.34it/s]"
          ]
        },
        {
          "output_type": "stream",
          "name": "stdout",
          "text": [
            "/content/drive/MyDrive/urbansound/spectrograms/8/156869-8-0-4.png\n",
            "/content/drive/MyDrive/urbansound/spectrograms/8/156869-8-0-5.png\n",
            "/content/drive/MyDrive/urbansound/spectrograms/8/156869-8-0-6.png\n",
            "/content/drive/MyDrive/urbansound/spectrograms/8/156869-8-0-7.png\n",
            "/content/drive/MyDrive/urbansound/spectrograms/8/156869-8-0-8.png\n",
            "/content/drive/MyDrive/urbansound/spectrograms/8/156869-8-0-9.png\n",
            "/content/drive/MyDrive/urbansound/spectrograms/7/156893-7-0-0.png\n",
            "/content/drive/MyDrive/urbansound/spectrograms/7/156893-7-1-0.png\n",
            "/content/drive/MyDrive/urbansound/spectrograms/7/156893-7-10-0.png\n",
            "/content/drive/MyDrive/urbansound/spectrograms/7/156893-7-11-0.png\n",
            "/content/drive/MyDrive/urbansound/spectrograms/7/156893-7-2-0.png\n",
            "/content/drive/MyDrive/urbansound/spectrograms/7/156893-7-3-0.png\n",
            "/content/drive/MyDrive/urbansound/spectrograms/7/156893-7-4-0.png\n",
            "/content/drive/MyDrive/urbansound/spectrograms/7/156893-7-5-0.png\n",
            "/content/drive/MyDrive/urbansound/spectrograms/7/156893-7-6-0.png\n",
            "/content/drive/MyDrive/urbansound/spectrograms/7/156893-7-7-0.png\n",
            "/content/drive/MyDrive/urbansound/spectrograms/7/156893-7-8-0.png\n",
            "/content/drive/MyDrive/urbansound/spectrograms/7/156893-7-9-0.png\n",
            "/content/drive/MyDrive/urbansound/spectrograms/6/156897-6-0-0.png\n"
          ]
        },
        {
          "output_type": "stream",
          "name": "stderr",
          "text": [
            "2433it [00:26, 84.27it/s]"
          ]
        },
        {
          "output_type": "stream",
          "name": "stdout",
          "text": [
            "/content/drive/MyDrive/urbansound/spectrograms/6/157207-6-0-0.png\n",
            "/content/drive/MyDrive/urbansound/spectrograms/6/157207-6-1-0.png\n",
            "/content/drive/MyDrive/urbansound/spectrograms/6/157207-6-10-0.png\n",
            "/content/drive/MyDrive/urbansound/spectrograms/6/157207-6-2-0.png\n",
            "/content/drive/MyDrive/urbansound/spectrograms/6/157207-6-3-0.png\n",
            "/content/drive/MyDrive/urbansound/spectrograms/6/157207-6-4-0.png\n",
            "/content/drive/MyDrive/urbansound/spectrograms/6/157207-6-5-0.png\n",
            "/content/drive/MyDrive/urbansound/spectrograms/6/157207-6-6-0.png\n",
            "/content/drive/MyDrive/urbansound/spectrograms/6/157207-6-7-0.png\n",
            "/content/drive/MyDrive/urbansound/spectrograms/6/157207-6-8-0.png\n",
            "/content/drive/MyDrive/urbansound/spectrograms/6/157207-6-9-0.png\n",
            "/content/drive/MyDrive/urbansound/spectrograms/3/157322-3-0-3.png\n",
            "/content/drive/MyDrive/urbansound/spectrograms/3/157322-3-0-4.png\n",
            "/content/drive/MyDrive/urbansound/spectrograms/3/157322-3-0-5.png\n",
            "/content/drive/MyDrive/urbansound/spectrograms/3/157322-3-0-6.png\n",
            "/content/drive/MyDrive/urbansound/spectrograms/8/157648-8-0-0.png\n",
            "/content/drive/MyDrive/urbansound/spectrograms/3/157649-3-0-0.png\n"
          ]
        },
        {
          "output_type": "stream",
          "name": "stderr",
          "text": [
            "2452it [00:27, 87.60it/s]"
          ]
        },
        {
          "output_type": "stream",
          "name": "stdout",
          "text": [
            "/content/drive/MyDrive/urbansound/spectrograms/3/157649-3-0-1.png\n",
            "/content/drive/MyDrive/urbansound/spectrograms/3/157649-3-1-1.png\n",
            "/content/drive/MyDrive/urbansound/spectrograms/3/157649-3-2-0.png\n",
            "/content/drive/MyDrive/urbansound/spectrograms/3/157695-3-0-19.png\n",
            "/content/drive/MyDrive/urbansound/spectrograms/3/157695-3-0-2.png\n",
            "/content/drive/MyDrive/urbansound/spectrograms/3/157695-3-0-27.png\n",
            "/content/drive/MyDrive/urbansound/spectrograms/3/157695-3-0-8.png\n",
            "/content/drive/MyDrive/urbansound/spectrograms/6/157799-6-0-0.png\n",
            "/content/drive/MyDrive/urbansound/spectrograms/6/157800-6-0-0.png\n",
            "/content/drive/MyDrive/urbansound/spectrograms/6/157801-6-0-0.png\n",
            "/content/drive/MyDrive/urbansound/spectrograms/8/157866-8-0-0.png\n",
            "/content/drive/MyDrive/urbansound/spectrograms/8/157866-8-0-1.png\n",
            "/content/drive/MyDrive/urbansound/spectrograms/8/157866-8-0-10.png\n",
            "/content/drive/MyDrive/urbansound/spectrograms/8/157866-8-0-11.png\n",
            "/content/drive/MyDrive/urbansound/spectrograms/8/157866-8-0-12.png\n",
            "/content/drive/MyDrive/urbansound/spectrograms/8/157866-8-0-13.png\n",
            "/content/drive/MyDrive/urbansound/spectrograms/8/157866-8-0-14.png\n",
            "/content/drive/MyDrive/urbansound/spectrograms/8/157866-8-0-15.png\n"
          ]
        },
        {
          "output_type": "stream",
          "name": "stderr",
          "text": [
            "2472it [00:27, 91.69it/s]"
          ]
        },
        {
          "output_type": "stream",
          "name": "stdout",
          "text": [
            "/content/drive/MyDrive/urbansound/spectrograms/8/157866-8-0-16.png\n",
            "/content/drive/MyDrive/urbansound/spectrograms/8/157866-8-0-17.png\n",
            "/content/drive/MyDrive/urbansound/spectrograms/8/157866-8-0-18.png\n",
            "/content/drive/MyDrive/urbansound/spectrograms/8/157866-8-0-19.png\n",
            "/content/drive/MyDrive/urbansound/spectrograms/8/157866-8-0-2.png\n",
            "/content/drive/MyDrive/urbansound/spectrograms/8/157866-8-0-20.png\n",
            "/content/drive/MyDrive/urbansound/spectrograms/8/157866-8-0-21.png\n",
            "/content/drive/MyDrive/urbansound/spectrograms/8/157866-8-0-22.png\n",
            "/content/drive/MyDrive/urbansound/spectrograms/8/157866-8-0-23.png\n",
            "/content/drive/MyDrive/urbansound/spectrograms/8/157866-8-0-24.png\n",
            "/content/drive/MyDrive/urbansound/spectrograms/8/157866-8-0-25.png\n",
            "/content/drive/MyDrive/urbansound/spectrograms/8/157866-8-0-26.png\n",
            "/content/drive/MyDrive/urbansound/spectrograms/8/157866-8-0-27.png\n",
            "/content/drive/MyDrive/urbansound/spectrograms/8/157866-8-0-3.png\n",
            "/content/drive/MyDrive/urbansound/spectrograms/8/157866-8-0-4.png\n",
            "/content/drive/MyDrive/urbansound/spectrograms/8/157866-8-0-5.png\n",
            "/content/drive/MyDrive/urbansound/spectrograms/8/157866-8-0-6.png\n",
            "/content/drive/MyDrive/urbansound/spectrograms/8/157866-8-0-7.png\n",
            "/content/drive/MyDrive/urbansound/spectrograms/8/157866-8-0-8.png\n",
            "/content/drive/MyDrive/urbansound/spectrograms/8/157866-8-0-9.png\n"
          ]
        },
        {
          "output_type": "stream",
          "name": "stderr",
          "text": [
            "2492it [00:27, 92.90it/s]"
          ]
        },
        {
          "output_type": "stream",
          "name": "stdout",
          "text": [
            "/content/drive/MyDrive/urbansound/spectrograms/8/157867-8-0-0.png\n",
            "/content/drive/MyDrive/urbansound/spectrograms/8/157867-8-0-1.png\n",
            "/content/drive/MyDrive/urbansound/spectrograms/8/157867-8-0-10.png\n",
            "/content/drive/MyDrive/urbansound/spectrograms/8/157867-8-0-11.png\n",
            "/content/drive/MyDrive/urbansound/spectrograms/8/157867-8-0-12.png\n",
            "/content/drive/MyDrive/urbansound/spectrograms/8/157867-8-0-13.png\n",
            "/content/drive/MyDrive/urbansound/spectrograms/8/157867-8-0-14.png\n",
            "/content/drive/MyDrive/urbansound/spectrograms/8/157867-8-0-15.png\n",
            "/content/drive/MyDrive/urbansound/spectrograms/8/157867-8-0-16.png\n",
            "/content/drive/MyDrive/urbansound/spectrograms/8/157867-8-0-17.png\n",
            "/content/drive/MyDrive/urbansound/spectrograms/8/157867-8-0-18.png\n",
            "/content/drive/MyDrive/urbansound/spectrograms/8/157867-8-0-19.png\n",
            "/content/drive/MyDrive/urbansound/spectrograms/8/157867-8-0-2.png\n",
            "/content/drive/MyDrive/urbansound/spectrograms/8/157867-8-0-20.png\n",
            "/content/drive/MyDrive/urbansound/spectrograms/8/157867-8-0-21.png\n",
            "/content/drive/MyDrive/urbansound/spectrograms/8/157867-8-0-22.png\n",
            "/content/drive/MyDrive/urbansound/spectrograms/8/157867-8-0-23.png\n",
            "/content/drive/MyDrive/urbansound/spectrograms/8/157867-8-0-24.png\n",
            "/content/drive/MyDrive/urbansound/spectrograms/8/157867-8-0-25.png\n",
            "/content/drive/MyDrive/urbansound/spectrograms/8/157867-8-0-26.png\n",
            "/content/drive/MyDrive/urbansound/spectrograms/8/157867-8-0-27.png\n"
          ]
        },
        {
          "output_type": "stream",
          "name": "stderr",
          "text": [
            "2512it [00:27, 90.97it/s]"
          ]
        },
        {
          "output_type": "stream",
          "name": "stdout",
          "text": [
            "/content/drive/MyDrive/urbansound/spectrograms/8/157867-8-0-28.png\n",
            "/content/drive/MyDrive/urbansound/spectrograms/8/157867-8-0-3.png\n",
            "/content/drive/MyDrive/urbansound/spectrograms/8/157867-8-0-4.png\n",
            "/content/drive/MyDrive/urbansound/spectrograms/8/157867-8-0-5.png\n",
            "/content/drive/MyDrive/urbansound/spectrograms/8/157867-8-0-6.png\n",
            "/content/drive/MyDrive/urbansound/spectrograms/8/157867-8-0-7.png\n",
            "/content/drive/MyDrive/urbansound/spectrograms/8/157867-8-0-8.png\n",
            "/content/drive/MyDrive/urbansound/spectrograms/8/157867-8-0-9.png\n",
            "/content/drive/MyDrive/urbansound/spectrograms/8/157868-8-0-0.png\n",
            "/content/drive/MyDrive/urbansound/spectrograms/8/157868-8-0-1.png\n",
            "/content/drive/MyDrive/urbansound/spectrograms/8/157868-8-0-10.png\n",
            "/content/drive/MyDrive/urbansound/spectrograms/8/157868-8-0-11.png\n",
            "/content/drive/MyDrive/urbansound/spectrograms/8/157868-8-0-12.png\n",
            "/content/drive/MyDrive/urbansound/spectrograms/8/157868-8-0-13.png\n",
            "/content/drive/MyDrive/urbansound/spectrograms/8/157868-8-0-14.png\n",
            "/content/drive/MyDrive/urbansound/spectrograms/8/157868-8-0-15.png\n",
            "/content/drive/MyDrive/urbansound/spectrograms/8/157868-8-0-16.png\n",
            "/content/drive/MyDrive/urbansound/spectrograms/8/157868-8-0-17.png\n",
            "/content/drive/MyDrive/urbansound/spectrograms/8/157868-8-0-18.png\n"
          ]
        },
        {
          "output_type": "stream",
          "name": "stderr",
          "text": [
            "2532it [00:27, 92.93it/s]"
          ]
        },
        {
          "output_type": "stream",
          "name": "stdout",
          "text": [
            "/content/drive/MyDrive/urbansound/spectrograms/8/157868-8-0-19.png\n",
            "/content/drive/MyDrive/urbansound/spectrograms/8/157868-8-0-2.png\n",
            "/content/drive/MyDrive/urbansound/spectrograms/8/157868-8-0-20.png\n",
            "/content/drive/MyDrive/urbansound/spectrograms/8/157868-8-0-21.png\n",
            "/content/drive/MyDrive/urbansound/spectrograms/8/157868-8-0-22.png\n",
            "/content/drive/MyDrive/urbansound/spectrograms/8/157868-8-0-23.png\n",
            "/content/drive/MyDrive/urbansound/spectrograms/8/157868-8-0-24.png\n",
            "/content/drive/MyDrive/urbansound/spectrograms/8/157868-8-0-25.png\n",
            "/content/drive/MyDrive/urbansound/spectrograms/8/157868-8-0-26.png\n",
            "/content/drive/MyDrive/urbansound/spectrograms/8/157868-8-0-27.png\n",
            "/content/drive/MyDrive/urbansound/spectrograms/8/157868-8-0-3.png\n",
            "/content/drive/MyDrive/urbansound/spectrograms/8/157868-8-0-4.png\n",
            "/content/drive/MyDrive/urbansound/spectrograms/8/157868-8-0-5.png\n",
            "/content/drive/MyDrive/urbansound/spectrograms/8/157868-8-0-6.png\n",
            "/content/drive/MyDrive/urbansound/spectrograms/8/157868-8-0-7.png\n",
            "/content/drive/MyDrive/urbansound/spectrograms/8/157868-8-0-8.png\n",
            "/content/drive/MyDrive/urbansound/spectrograms/8/157868-8-0-9.png\n",
            "/content/drive/MyDrive/urbansound/spectrograms/9/157940-9-0-0.png\n",
            "/content/drive/MyDrive/urbansound/spectrograms/9/157940-9-0-2.png\n",
            "/content/drive/MyDrive/urbansound/spectrograms/9/157940-9-0-3.png\n"
          ]
        },
        {
          "output_type": "stream",
          "name": "stderr",
          "text": [
            "2552it [00:28, 91.20it/s]"
          ]
        },
        {
          "output_type": "stream",
          "name": "stdout",
          "text": [
            "/content/drive/MyDrive/urbansound/spectrograms/9/157940-9-0-4.png\n",
            "/content/drive/MyDrive/urbansound/spectrograms/9/157940-9-0-5.png\n",
            "/content/drive/MyDrive/urbansound/spectrograms/9/157940-9-0-6.png\n",
            "/content/drive/MyDrive/urbansound/spectrograms/3/157950-3-0-0.png\n",
            "/content/drive/MyDrive/urbansound/spectrograms/2/158593-2-0-0.png\n",
            "/content/drive/MyDrive/urbansound/spectrograms/2/158593-2-0-31.png\n",
            "/content/drive/MyDrive/urbansound/spectrograms/2/158593-2-0-43.png\n",
            "/content/drive/MyDrive/urbansound/spectrograms/2/158593-2-0-47.png\n",
            "/content/drive/MyDrive/urbansound/spectrograms/2/158593-2-0-52.png\n",
            "/content/drive/MyDrive/urbansound/spectrograms/2/158593-2-0-54.png\n",
            "/content/drive/MyDrive/urbansound/spectrograms/2/158593-2-0-8.png\n",
            "/content/drive/MyDrive/urbansound/spectrograms/2/158597-2-0-16.png\n",
            "/content/drive/MyDrive/urbansound/spectrograms/2/158597-2-0-2.png\n",
            "/content/drive/MyDrive/urbansound/spectrograms/2/158597-2-0-3.png\n",
            "/content/drive/MyDrive/urbansound/spectrograms/2/158597-2-0-30.png\n",
            "/content/drive/MyDrive/urbansound/spectrograms/2/158597-2-0-33.png\n",
            "/content/drive/MyDrive/urbansound/spectrograms/2/158597-2-0-41.png\n",
            "/content/drive/MyDrive/urbansound/spectrograms/2/158597-2-0-57.png\n",
            "/content/drive/MyDrive/urbansound/spectrograms/2/158597-2-0-85.png\n"
          ]
        },
        {
          "output_type": "stream",
          "name": "stderr",
          "text": [
            "2572it [00:28, 94.60it/s]"
          ]
        },
        {
          "output_type": "stream",
          "name": "stdout",
          "text": [
            "/content/drive/MyDrive/urbansound/spectrograms/3/158607-3-0-0.png\n",
            "/content/drive/MyDrive/urbansound/spectrograms/3/158607-3-1-0.png\n",
            "/content/drive/MyDrive/urbansound/spectrograms/3/158607-3-2-0.png\n",
            "/content/drive/MyDrive/urbansound/spectrograms/8/158608-8-0-0.png\n",
            "/content/drive/MyDrive/urbansound/spectrograms/8/158608-8-0-1.png\n",
            "/content/drive/MyDrive/urbansound/spectrograms/8/158608-8-0-10.png\n",
            "/content/drive/MyDrive/urbansound/spectrograms/8/158608-8-0-2.png\n",
            "/content/drive/MyDrive/urbansound/spectrograms/8/158608-8-0-3.png\n",
            "/content/drive/MyDrive/urbansound/spectrograms/8/158608-8-0-4.png\n",
            "/content/drive/MyDrive/urbansound/spectrograms/8/158608-8-0-5.png\n",
            "/content/drive/MyDrive/urbansound/spectrograms/8/158608-8-0-6.png\n",
            "/content/drive/MyDrive/urbansound/spectrograms/8/158608-8-0-7.png\n",
            "/content/drive/MyDrive/urbansound/spectrograms/8/158608-8-0-8.png\n",
            "/content/drive/MyDrive/urbansound/spectrograms/8/158608-8-0-9.png\n",
            "/content/drive/MyDrive/urbansound/spectrograms/6/158977-6-0-0.png\n",
            "/content/drive/MyDrive/urbansound/spectrograms/6/158978-6-0-0.png\n",
            "/content/drive/MyDrive/urbansound/spectrograms/6/158979-6-0-0.png\n",
            "/content/drive/MyDrive/urbansound/spectrograms/3/159176-3-0-0.png\n",
            "/content/drive/MyDrive/urbansound/spectrograms/2/159439-2-0-0.png\n",
            "/content/drive/MyDrive/urbansound/spectrograms/2/159439-2-0-10.png\n"
          ]
        },
        {
          "output_type": "stream",
          "name": "stderr",
          "text": [
            "2593it [00:28, 95.07it/s]"
          ]
        },
        {
          "output_type": "stream",
          "name": "stdout",
          "text": [
            "/content/drive/MyDrive/urbansound/spectrograms/2/159439-2-0-11.png\n",
            "/content/drive/MyDrive/urbansound/spectrograms/2/159439-2-0-19.png\n",
            "/content/drive/MyDrive/urbansound/spectrograms/2/159439-2-0-21.png\n",
            "/content/drive/MyDrive/urbansound/spectrograms/2/159439-2-0-29.png\n",
            "/content/drive/MyDrive/urbansound/spectrograms/2/159439-2-0-30.png\n",
            "/content/drive/MyDrive/urbansound/spectrograms/6/159701-6-0-0.png\n",
            "/content/drive/MyDrive/urbansound/spectrograms/6/159701-6-1-0.png\n",
            "/content/drive/MyDrive/urbansound/spectrograms/6/159701-6-2-0.png\n",
            "/content/drive/MyDrive/urbansound/spectrograms/6/159701-6-3-0.png\n",
            "/content/drive/MyDrive/urbansound/spectrograms/6/159701-6-4-0.png\n",
            "/content/drive/MyDrive/urbansound/spectrograms/6/159701-6-5-0.png\n",
            "/content/drive/MyDrive/urbansound/spectrograms/6/159701-6-6-0.png\n",
            "/content/drive/MyDrive/urbansound/spectrograms/6/159702-6-0-0.png\n",
            "/content/drive/MyDrive/urbansound/spectrograms/6/159702-6-1-0.png\n",
            "/content/drive/MyDrive/urbansound/spectrograms/6/159702-6-2-0.png\n",
            "/content/drive/MyDrive/urbansound/spectrograms/6/159702-6-3-0.png\n",
            "/content/drive/MyDrive/urbansound/spectrograms/6/159702-6-4-0.png\n",
            "/content/drive/MyDrive/urbansound/spectrograms/6/159702-6-5-0.png\n"
          ]
        },
        {
          "output_type": "stream",
          "name": "stderr",
          "text": [
            "2613it [00:28, 88.87it/s]"
          ]
        },
        {
          "output_type": "stream",
          "name": "stdout",
          "text": [
            "/content/drive/MyDrive/urbansound/spectrograms/6/159702-6-6-0.png\n",
            "/content/drive/MyDrive/urbansound/spectrograms/6/159703-6-0-0.png\n",
            "/content/drive/MyDrive/urbansound/spectrograms/6/159704-6-0-0.png\n",
            "/content/drive/MyDrive/urbansound/spectrograms/6/159705-6-0-0.png\n",
            "/content/drive/MyDrive/urbansound/spectrograms/6/159706-6-0-0.png\n",
            "/content/drive/MyDrive/urbansound/spectrograms/6/159707-6-0-0.png\n",
            "/content/drive/MyDrive/urbansound/spectrograms/6/159708-6-0-0.png\n",
            "/content/drive/MyDrive/urbansound/spectrograms/6/159708-6-1-0.png\n",
            "/content/drive/MyDrive/urbansound/spectrograms/6/159708-6-2-0.png\n",
            "/content/drive/MyDrive/urbansound/spectrograms/6/159708-6-3-0.png\n",
            "/content/drive/MyDrive/urbansound/spectrograms/6/159708-6-4-0.png\n",
            "/content/drive/MyDrive/urbansound/spectrograms/6/159708-6-5-0.png\n",
            "/content/drive/MyDrive/urbansound/spectrograms/6/159708-6-6-0.png\n",
            "/content/drive/MyDrive/urbansound/spectrograms/6/159709-6-0-0.png\n",
            "/content/drive/MyDrive/urbansound/spectrograms/6/159710-6-0-0.png\n",
            "/content/drive/MyDrive/urbansound/spectrograms/3/159726-3-0-0.png\n",
            "/content/drive/MyDrive/urbansound/spectrograms/3/159726-3-1-0.png\n",
            "/content/drive/MyDrive/urbansound/spectrograms/2/159735-2-0-11.png\n"
          ]
        },
        {
          "output_type": "stream",
          "name": "stderr",
          "text": [
            "2633it [00:29, 92.65it/s]"
          ]
        },
        {
          "output_type": "stream",
          "name": "stdout",
          "text": [
            "/content/drive/MyDrive/urbansound/spectrograms/2/159735-2-0-121.png\n",
            "/content/drive/MyDrive/urbansound/spectrograms/2/159735-2-0-17.png\n",
            "/content/drive/MyDrive/urbansound/spectrograms/2/159735-2-0-22.png\n",
            "/content/drive/MyDrive/urbansound/spectrograms/2/159735-2-0-34.png\n",
            "/content/drive/MyDrive/urbansound/spectrograms/2/159735-2-0-80.png\n",
            "/content/drive/MyDrive/urbansound/spectrograms/2/159735-2-0-9.png\n",
            "/content/drive/MyDrive/urbansound/spectrograms/2/159735-2-0-99.png\n",
            "/content/drive/MyDrive/urbansound/spectrograms/8/159738-8-0-0.png\n",
            "/content/drive/MyDrive/urbansound/spectrograms/8/159738-8-0-1.png\n",
            "/content/drive/MyDrive/urbansound/spectrograms/8/159738-8-0-10.png\n",
            "/content/drive/MyDrive/urbansound/spectrograms/8/159738-8-0-11.png\n",
            "/content/drive/MyDrive/urbansound/spectrograms/8/159738-8-0-12.png\n",
            "/content/drive/MyDrive/urbansound/spectrograms/8/159738-8-0-13.png\n",
            "/content/drive/MyDrive/urbansound/spectrograms/8/159738-8-0-14.png\n",
            "/content/drive/MyDrive/urbansound/spectrograms/8/159738-8-0-15.png\n",
            "/content/drive/MyDrive/urbansound/spectrograms/8/159738-8-0-16.png\n",
            "/content/drive/MyDrive/urbansound/spectrograms/8/159738-8-0-17.png\n",
            "/content/drive/MyDrive/urbansound/spectrograms/8/159738-8-0-18.png\n",
            "/content/drive/MyDrive/urbansound/spectrograms/8/159738-8-0-19.png\n",
            "/content/drive/MyDrive/urbansound/spectrograms/8/159738-8-0-2.png\n"
          ]
        },
        {
          "output_type": "stream",
          "name": "stderr",
          "text": [
            "2653it [00:29, 94.85it/s]"
          ]
        },
        {
          "output_type": "stream",
          "name": "stdout",
          "text": [
            "/content/drive/MyDrive/urbansound/spectrograms/8/159738-8-0-3.png\n",
            "/content/drive/MyDrive/urbansound/spectrograms/8/159738-8-0-4.png\n",
            "/content/drive/MyDrive/urbansound/spectrograms/8/159738-8-0-5.png\n",
            "/content/drive/MyDrive/urbansound/spectrograms/8/159738-8-0-6.png\n",
            "/content/drive/MyDrive/urbansound/spectrograms/8/159738-8-0-7.png\n",
            "/content/drive/MyDrive/urbansound/spectrograms/8/159738-8-0-8.png\n",
            "/content/drive/MyDrive/urbansound/spectrograms/8/159738-8-0-9.png\n",
            "/content/drive/MyDrive/urbansound/spectrograms/8/159742-8-0-0.png\n",
            "/content/drive/MyDrive/urbansound/spectrograms/8/159742-8-0-1.png\n",
            "/content/drive/MyDrive/urbansound/spectrograms/8/159742-8-0-10.png\n",
            "/content/drive/MyDrive/urbansound/spectrograms/8/159742-8-0-11.png\n",
            "/content/drive/MyDrive/urbansound/spectrograms/8/159742-8-0-12.png\n",
            "/content/drive/MyDrive/urbansound/spectrograms/8/159742-8-0-13.png\n",
            "/content/drive/MyDrive/urbansound/spectrograms/8/159742-8-0-14.png\n",
            "/content/drive/MyDrive/urbansound/spectrograms/8/159742-8-0-2.png\n",
            "/content/drive/MyDrive/urbansound/spectrograms/8/159742-8-0-3.png\n",
            "/content/drive/MyDrive/urbansound/spectrograms/8/159742-8-0-4.png\n",
            "/content/drive/MyDrive/urbansound/spectrograms/8/159742-8-0-5.png\n",
            "/content/drive/MyDrive/urbansound/spectrograms/8/159742-8-0-6.png\n",
            "/content/drive/MyDrive/urbansound/spectrograms/8/159742-8-0-7.png\n",
            "/content/drive/MyDrive/urbansound/spectrograms/8/159742-8-0-8.png"
          ]
        },
        {
          "output_type": "stream",
          "name": "stderr",
          "text": [
            "2673it [00:29, 96.24it/s]"
          ]
        },
        {
          "output_type": "stream",
          "name": "stdout",
          "text": [
            "\n",
            "/content/drive/MyDrive/urbansound/spectrograms/8/159742-8-0-9.png\n",
            "/content/drive/MyDrive/urbansound/spectrograms/8/159743-8-0-0.png\n",
            "/content/drive/MyDrive/urbansound/spectrograms/8/159744-8-0-0.png\n",
            "/content/drive/MyDrive/urbansound/spectrograms/8/159744-8-0-1.png\n",
            "/content/drive/MyDrive/urbansound/spectrograms/8/159744-8-0-10.png\n",
            "/content/drive/MyDrive/urbansound/spectrograms/8/159744-8-0-11.png\n",
            "/content/drive/MyDrive/urbansound/spectrograms/8/159744-8-0-12.png\n",
            "/content/drive/MyDrive/urbansound/spectrograms/8/159744-8-0-13.png\n",
            "/content/drive/MyDrive/urbansound/spectrograms/8/159744-8-0-2.png\n",
            "/content/drive/MyDrive/urbansound/spectrograms/8/159744-8-0-3.png\n",
            "/content/drive/MyDrive/urbansound/spectrograms/8/159744-8-0-4.png\n",
            "/content/drive/MyDrive/urbansound/spectrograms/8/159744-8-0-5.png\n",
            "/content/drive/MyDrive/urbansound/spectrograms/8/159744-8-0-6.png\n",
            "/content/drive/MyDrive/urbansound/spectrograms/8/159744-8-0-7.png\n",
            "/content/drive/MyDrive/urbansound/spectrograms/8/159744-8-0-8.png\n",
            "/content/drive/MyDrive/urbansound/spectrograms/8/159744-8-0-9.png\n",
            "/content/drive/MyDrive/urbansound/spectrograms/8/159745-8-0-0.png\n",
            "/content/drive/MyDrive/urbansound/spectrograms/8/159745-8-1-0.png\n",
            "/content/drive/MyDrive/urbansound/spectrograms/8/159745-8-1-1.png\n"
          ]
        },
        {
          "output_type": "stream",
          "name": "stderr",
          "text": [
            "2693it [00:29, 92.61it/s]"
          ]
        },
        {
          "output_type": "stream",
          "name": "stdout",
          "text": [
            "/content/drive/MyDrive/urbansound/spectrograms/8/159745-8-1-2.png\n",
            "/content/drive/MyDrive/urbansound/spectrograms/8/159745-8-1-3.png\n",
            "/content/drive/MyDrive/urbansound/spectrograms/8/159745-8-1-4.png\n",
            "/content/drive/MyDrive/urbansound/spectrograms/8/159745-8-1-5.png\n",
            "/content/drive/MyDrive/urbansound/spectrograms/8/159745-8-1-6.png\n",
            "/content/drive/MyDrive/urbansound/spectrograms/8/159745-8-1-7.png\n",
            "/content/drive/MyDrive/urbansound/spectrograms/8/159747-8-0-0.png\n",
            "/content/drive/MyDrive/urbansound/spectrograms/8/159747-8-0-1.png\n",
            "/content/drive/MyDrive/urbansound/spectrograms/8/159747-8-0-10.png\n",
            "/content/drive/MyDrive/urbansound/spectrograms/8/159747-8-0-11.png\n",
            "/content/drive/MyDrive/urbansound/spectrograms/8/159747-8-0-12.png\n",
            "/content/drive/MyDrive/urbansound/spectrograms/8/159747-8-0-13.png\n",
            "/content/drive/MyDrive/urbansound/spectrograms/8/159747-8-0-14.png\n",
            "/content/drive/MyDrive/urbansound/spectrograms/8/159747-8-0-15.png\n",
            "/content/drive/MyDrive/urbansound/spectrograms/8/159747-8-0-16.png\n",
            "/content/drive/MyDrive/urbansound/spectrograms/8/159747-8-0-17.png\n",
            "/content/drive/MyDrive/urbansound/spectrograms/8/159747-8-0-18.png\n",
            "/content/drive/MyDrive/urbansound/spectrograms/8/159747-8-0-19.png\n",
            "/content/drive/MyDrive/urbansound/spectrograms/8/159747-8-0-2.png\n",
            "/content/drive/MyDrive/urbansound/spectrograms/8/159747-8-0-20.png\n"
          ]
        },
        {
          "output_type": "stream",
          "name": "stderr",
          "text": [
            "\r2703it [00:29, 90.25it/s]"
          ]
        },
        {
          "output_type": "stream",
          "name": "stdout",
          "text": [
            "/content/drive/MyDrive/urbansound/spectrograms/8/159747-8-0-21.png\n",
            "/content/drive/MyDrive/urbansound/spectrograms/8/159747-8-0-3.png\n",
            "/content/drive/MyDrive/urbansound/spectrograms/8/159747-8-0-4.png\n",
            "/content/drive/MyDrive/urbansound/spectrograms/8/159747-8-0-5.png\n",
            "/content/drive/MyDrive/urbansound/spectrograms/8/159747-8-0-6.png\n",
            "/content/drive/MyDrive/urbansound/spectrograms/8/159747-8-0-7.png\n",
            "/content/drive/MyDrive/urbansound/spectrograms/8/159747-8-0-8.png\n",
            "/content/drive/MyDrive/urbansound/spectrograms/8/159747-8-0-9.png\n",
            "/content/drive/MyDrive/urbansound/spectrograms/8/159748-8-0-0.png\n",
            "/content/drive/MyDrive/urbansound/spectrograms/8/159748-8-0-1.png\n",
            "/content/drive/MyDrive/urbansound/spectrograms/8/159748-8-0-2.png\n",
            "/content/drive/MyDrive/urbansound/spectrograms/8/159748-8-0-3.png\n",
            "/content/drive/MyDrive/urbansound/spectrograms/8/159748-8-0-4.png\n",
            "/content/drive/MyDrive/urbansound/spectrograms/8/159748-8-0-5.png\n",
            "/content/drive/MyDrive/urbansound/spectrograms/8/159748-8-0-6.png\n",
            "/content/drive/MyDrive/urbansound/spectrograms/8/159748-8-0-7.png\n",
            "/content/drive/MyDrive/urbansound/spectrograms/8/159748-8-0-8.png\n",
            "/content/drive/MyDrive/urbansound/spectrograms/8/159748-8-0-9.png\n"
          ]
        },
        {
          "output_type": "stream",
          "name": "stderr",
          "text": [
            "2724it [00:30, 94.19it/s]"
          ]
        },
        {
          "output_type": "stream",
          "name": "stdout",
          "text": [
            "/content/drive/MyDrive/urbansound/spectrograms/8/159748-8-1-0.png\n",
            "/content/drive/MyDrive/urbansound/spectrograms/8/159748-8-2-0.png\n",
            "/content/drive/MyDrive/urbansound/spectrograms/8/159748-8-2-1.png\n",
            "/content/drive/MyDrive/urbansound/spectrograms/8/159748-8-2-2.png\n",
            "/content/drive/MyDrive/urbansound/spectrograms/8/159748-8-2-3.png\n",
            "/content/drive/MyDrive/urbansound/spectrograms/8/159748-8-2-4.png\n",
            "/content/drive/MyDrive/urbansound/spectrograms/8/159748-8-2-5.png\n",
            "/content/drive/MyDrive/urbansound/spectrograms/8/159748-8-2-6.png\n",
            "/content/drive/MyDrive/urbansound/spectrograms/8/159748-8-2-7.png\n",
            "/content/drive/MyDrive/urbansound/spectrograms/8/159748-8-2-8.png\n",
            "/content/drive/MyDrive/urbansound/spectrograms/8/159750-8-0-0.png\n",
            "/content/drive/MyDrive/urbansound/spectrograms/8/159750-8-0-1.png\n",
            "/content/drive/MyDrive/urbansound/spectrograms/8/159750-8-0-2.png\n",
            "/content/drive/MyDrive/urbansound/spectrograms/8/159750-8-0-3.png\n",
            "/content/drive/MyDrive/urbansound/spectrograms/8/159750-8-0-4.png\n",
            "/content/drive/MyDrive/urbansound/spectrograms/8/159750-8-0-5.png\n",
            "/content/drive/MyDrive/urbansound/spectrograms/8/159750-8-0-6.png\n",
            "/content/drive/MyDrive/urbansound/spectrograms/8/159750-8-0-7.png\n",
            "/content/drive/MyDrive/urbansound/spectrograms/8/159750-8-0-8.png\n",
            "/content/drive/MyDrive/urbansound/spectrograms/8/159751-8-0-0.png\n",
            "/content/drive/MyDrive/urbansound/spectrograms/8/159751-8-0-1.png\n"
          ]
        },
        {
          "output_type": "stream",
          "name": "stderr",
          "text": [
            "2745it [00:30, 98.21it/s]"
          ]
        },
        {
          "output_type": "stream",
          "name": "stdout",
          "text": [
            "/content/drive/MyDrive/urbansound/spectrograms/8/159751-8-0-10.png\n",
            "/content/drive/MyDrive/urbansound/spectrograms/8/159751-8-0-11.png\n",
            "/content/drive/MyDrive/urbansound/spectrograms/8/159751-8-0-12.png\n",
            "/content/drive/MyDrive/urbansound/spectrograms/8/159751-8-0-13.png\n",
            "/content/drive/MyDrive/urbansound/spectrograms/8/159751-8-0-14.png\n",
            "/content/drive/MyDrive/urbansound/spectrograms/8/159751-8-0-15.png\n",
            "/content/drive/MyDrive/urbansound/spectrograms/8/159751-8-0-16.png\n",
            "/content/drive/MyDrive/urbansound/spectrograms/8/159751-8-0-17.png\n",
            "/content/drive/MyDrive/urbansound/spectrograms/8/159751-8-0-18.png\n",
            "/content/drive/MyDrive/urbansound/spectrograms/8/159751-8-0-19.png\n",
            "/content/drive/MyDrive/urbansound/spectrograms/8/159751-8-0-2.png\n",
            "/content/drive/MyDrive/urbansound/spectrograms/8/159751-8-0-20.png\n",
            "/content/drive/MyDrive/urbansound/spectrograms/8/159751-8-0-21.png\n",
            "/content/drive/MyDrive/urbansound/spectrograms/8/159751-8-0-3.png\n",
            "/content/drive/MyDrive/urbansound/spectrograms/8/159751-8-0-4.png\n",
            "/content/drive/MyDrive/urbansound/spectrograms/8/159751-8-0-5.png\n",
            "/content/drive/MyDrive/urbansound/spectrograms/8/159751-8-0-6.png\n",
            "/content/drive/MyDrive/urbansound/spectrograms/8/159751-8-0-7.png\n",
            "/content/drive/MyDrive/urbansound/spectrograms/8/159751-8-0-8.png\n",
            "/content/drive/MyDrive/urbansound/spectrograms/8/159751-8-0-9.png\n",
            "/content/drive/MyDrive/urbansound/spectrograms/8/159752-8-0-0.png\n",
            "/content/drive/MyDrive/urbansound/spectrograms/8/159752-8-0-1.png\n"
          ]
        },
        {
          "output_type": "stream",
          "name": "stderr",
          "text": [
            "2765it [00:30, 97.60it/s]"
          ]
        },
        {
          "output_type": "stream",
          "name": "stdout",
          "text": [
            "/content/drive/MyDrive/urbansound/spectrograms/8/159752-8-0-10.png\n",
            "/content/drive/MyDrive/urbansound/spectrograms/8/159752-8-0-11.png\n",
            "/content/drive/MyDrive/urbansound/spectrograms/8/159752-8-0-12.png\n",
            "/content/drive/MyDrive/urbansound/spectrograms/8/159752-8-0-2.png\n",
            "/content/drive/MyDrive/urbansound/spectrograms/8/159752-8-0-3.png\n",
            "/content/drive/MyDrive/urbansound/spectrograms/8/159752-8-0-4.png\n",
            "/content/drive/MyDrive/urbansound/spectrograms/8/159752-8-0-5.png\n",
            "/content/drive/MyDrive/urbansound/spectrograms/8/159752-8-0-6.png\n",
            "/content/drive/MyDrive/urbansound/spectrograms/8/159752-8-0-7.png\n",
            "/content/drive/MyDrive/urbansound/spectrograms/8/159752-8-0-8.png\n",
            "/content/drive/MyDrive/urbansound/spectrograms/8/159752-8-0-9.png\n",
            "/content/drive/MyDrive/urbansound/spectrograms/8/159752-8-1-0.png\n",
            "/content/drive/MyDrive/urbansound/spectrograms/8/159752-8-2-0.png\n",
            "/content/drive/MyDrive/urbansound/spectrograms/8/159752-8-2-1.png\n",
            "/content/drive/MyDrive/urbansound/spectrograms/8/159752-8-2-2.png\n",
            "/content/drive/MyDrive/urbansound/spectrograms/8/159752-8-2-3.png\n",
            "/content/drive/MyDrive/urbansound/spectrograms/8/159753-8-0-0.png\n",
            "/content/drive/MyDrive/urbansound/spectrograms/8/159753-8-0-1.png\n",
            "/content/drive/MyDrive/urbansound/spectrograms/8/159753-8-0-2.png\n",
            "/content/drive/MyDrive/urbansound/spectrograms/8/159753-8-0-3.png\n",
            "/content/drive/MyDrive/urbansound/spectrograms/8/159753-8-0-4.png\n"
          ]
        },
        {
          "output_type": "stream",
          "name": "stderr",
          "text": [
            "2786it [00:30, 98.45it/s]"
          ]
        },
        {
          "output_type": "stream",
          "name": "stdout",
          "text": [
            "/content/drive/MyDrive/urbansound/spectrograms/8/159753-8-0-5.png\n",
            "/content/drive/MyDrive/urbansound/spectrograms/8/159753-8-0-6.png\n",
            "/content/drive/MyDrive/urbansound/spectrograms/8/159754-8-0-0.png\n",
            "/content/drive/MyDrive/urbansound/spectrograms/8/159754-8-1-0.png\n",
            "/content/drive/MyDrive/urbansound/spectrograms/8/159754-8-2-0.png\n",
            "/content/drive/MyDrive/urbansound/spectrograms/8/159754-8-3-0.png\n",
            "/content/drive/MyDrive/urbansound/spectrograms/8/159754-8-4-0.png\n",
            "/content/drive/MyDrive/urbansound/spectrograms/8/159755-8-0-0.png\n",
            "/content/drive/MyDrive/urbansound/spectrograms/8/159755-8-0-1.png\n",
            "/content/drive/MyDrive/urbansound/spectrograms/8/159755-8-0-2.png\n",
            "/content/drive/MyDrive/urbansound/spectrograms/8/159755-8-0-3.png\n",
            "/content/drive/MyDrive/urbansound/spectrograms/0/159761-0-0-0.png\n",
            "/content/drive/MyDrive/urbansound/spectrograms/0/159761-0-0-1.png\n",
            "/content/drive/MyDrive/urbansound/spectrograms/0/159761-0-0-2.png\n",
            "/content/drive/MyDrive/urbansound/spectrograms/0/159761-0-0-3.png\n",
            "/content/drive/MyDrive/urbansound/spectrograms/0/159761-0-0-4.png\n",
            "/content/drive/MyDrive/urbansound/spectrograms/0/159761-0-0-5.png\n",
            "/content/drive/MyDrive/urbansound/spectrograms/0/159761-0-0-6.png\n",
            "/content/drive/MyDrive/urbansound/spectrograms/0/159761-0-0-7.png\n",
            "/content/drive/MyDrive/urbansound/spectrograms/0/159761-0-0-8.png"
          ]
        },
        {
          "output_type": "stream",
          "name": "stderr",
          "text": [
            "2806it [00:30, 94.29it/s]"
          ]
        },
        {
          "output_type": "stream",
          "name": "stdout",
          "text": [
            "\n",
            "/content/drive/MyDrive/urbansound/spectrograms/2/160009-2-0-1.png\n",
            "/content/drive/MyDrive/urbansound/spectrograms/2/160009-2-0-11.png\n",
            "/content/drive/MyDrive/urbansound/spectrograms/2/160009-2-0-22.png\n",
            "/content/drive/MyDrive/urbansound/spectrograms/2/160009-2-0-30.png\n",
            "/content/drive/MyDrive/urbansound/spectrograms/2/160009-2-0-31.png\n",
            "/content/drive/MyDrive/urbansound/spectrograms/2/160009-2-0-47.png\n",
            "/content/drive/MyDrive/urbansound/spectrograms/2/160009-2-0-5.png\n",
            "/content/drive/MyDrive/urbansound/spectrograms/2/160009-2-0-50.png\n",
            "/content/drive/MyDrive/urbansound/spectrograms/2/160010-2-0-19.png\n",
            "/content/drive/MyDrive/urbansound/spectrograms/2/160010-2-0-21.png\n",
            "/content/drive/MyDrive/urbansound/spectrograms/2/160010-2-0-30.png\n",
            "/content/drive/MyDrive/urbansound/spectrograms/2/160010-2-0-32.png\n",
            "/content/drive/MyDrive/urbansound/spectrograms/2/160010-2-0-33.png\n",
            "/content/drive/MyDrive/urbansound/spectrograms/2/160010-2-0-37.png\n",
            "/content/drive/MyDrive/urbansound/spectrograms/2/160010-2-0-38.png\n",
            "/content/drive/MyDrive/urbansound/spectrograms/2/160010-2-0-49.png\n",
            "/content/drive/MyDrive/urbansound/spectrograms/2/160011-2-0-0.png\n",
            "/content/drive/MyDrive/urbansound/spectrograms/2/160011-2-0-1.png\n",
            "/content/drive/MyDrive/urbansound/spectrograms/2/160011-2-0-12.png\n"
          ]
        },
        {
          "output_type": "stream",
          "name": "stderr",
          "text": [
            "2826it [00:31, 95.00it/s]"
          ]
        },
        {
          "output_type": "stream",
          "name": "stdout",
          "text": [
            "/content/drive/MyDrive/urbansound/spectrograms/2/160011-2-0-3.png\n",
            "/content/drive/MyDrive/urbansound/spectrograms/2/160011-2-0-34.png\n",
            "/content/drive/MyDrive/urbansound/spectrograms/2/160011-2-0-5.png\n",
            "/content/drive/MyDrive/urbansound/spectrograms/2/160011-2-0-7.png\n",
            "/content/drive/MyDrive/urbansound/spectrograms/2/160011-2-0-9.png\n",
            "/content/drive/MyDrive/urbansound/spectrograms/2/160016-2-0-13.png\n",
            "/content/drive/MyDrive/urbansound/spectrograms/2/160016-2-0-25.png\n",
            "/content/drive/MyDrive/urbansound/spectrograms/2/160016-2-0-26.png\n",
            "/content/drive/MyDrive/urbansound/spectrograms/2/160016-2-0-37.png\n",
            "/content/drive/MyDrive/urbansound/spectrograms/2/160016-2-0-40.png\n",
            "/content/drive/MyDrive/urbansound/spectrograms/2/160016-2-0-5.png\n",
            "/content/drive/MyDrive/urbansound/spectrograms/2/160016-2-0-8.png\n",
            "/content/drive/MyDrive/urbansound/spectrograms/3/160092-3-0-0.png\n",
            "/content/drive/MyDrive/urbansound/spectrograms/3/160093-3-0-0.png\n",
            "/content/drive/MyDrive/urbansound/spectrograms/3/160094-3-0-0.png\n",
            "/content/drive/MyDrive/urbansound/spectrograms/3/160366-3-0-13.png\n",
            "/content/drive/MyDrive/urbansound/spectrograms/3/160366-3-0-4.png\n",
            "/content/drive/MyDrive/urbansound/spectrograms/3/160366-3-0-7.png\n",
            "/content/drive/MyDrive/urbansound/spectrograms/3/160366-3-0-8.png\n",
            "/content/drive/MyDrive/urbansound/spectrograms/3/160575-3-0-0.png\n"
          ]
        },
        {
          "output_type": "stream",
          "name": "stderr",
          "text": [
            "2846it [00:31, 93.84it/s]"
          ]
        },
        {
          "output_type": "stream",
          "name": "stdout",
          "text": [
            "/content/drive/MyDrive/urbansound/spectrograms/3/160575-3-1-0.png\n",
            "/content/drive/MyDrive/urbansound/spectrograms/3/160575-3-4-0.png\n",
            "/content/drive/MyDrive/urbansound/spectrograms/3/160575-3-7-0.png\n",
            "/content/drive/MyDrive/urbansound/spectrograms/2/161005-2-0-0.png\n",
            "/content/drive/MyDrive/urbansound/spectrograms/2/161005-2-0-12.png\n",
            "/content/drive/MyDrive/urbansound/spectrograms/2/161005-2-0-14.png\n",
            "/content/drive/MyDrive/urbansound/spectrograms/2/161005-2-0-19.png\n",
            "/content/drive/MyDrive/urbansound/spectrograms/2/161005-2-0-27.png\n",
            "/content/drive/MyDrive/urbansound/spectrograms/2/161005-2-0-28.png\n",
            "/content/drive/MyDrive/urbansound/spectrograms/2/161005-2-0-4.png\n",
            "/content/drive/MyDrive/urbansound/spectrograms/2/161005-2-0-6.png\n",
            "/content/drive/MyDrive/urbansound/spectrograms/1/161010-1-0-0.png\n",
            "/content/drive/MyDrive/urbansound/spectrograms/1/161010-1-1-0.png\n",
            "/content/drive/MyDrive/urbansound/spectrograms/1/161010-1-2-0.png\n",
            "/content/drive/MyDrive/urbansound/spectrograms/1/161010-1-3-0.png\n",
            "/content/drive/MyDrive/urbansound/spectrograms/4/161129-4-0-1.png\n",
            "/content/drive/MyDrive/urbansound/spectrograms/4/161129-4-0-10.png\n",
            "/content/drive/MyDrive/urbansound/spectrograms/4/161129-4-0-11.png\n",
            "/content/drive/MyDrive/urbansound/spectrograms/4/161129-4-0-12.png\n"
          ]
        },
        {
          "output_type": "stream",
          "name": "stderr",
          "text": [
            "2866it [00:31, 93.00it/s]"
          ]
        },
        {
          "output_type": "stream",
          "name": "stdout",
          "text": [
            "/content/drive/MyDrive/urbansound/spectrograms/4/161129-4-0-13.png\n",
            "/content/drive/MyDrive/urbansound/spectrograms/4/161129-4-0-15.png\n",
            "/content/drive/MyDrive/urbansound/spectrograms/4/161129-4-0-16.png\n",
            "/content/drive/MyDrive/urbansound/spectrograms/4/161129-4-0-19.png\n",
            "/content/drive/MyDrive/urbansound/spectrograms/4/161129-4-0-2.png\n",
            "/content/drive/MyDrive/urbansound/spectrograms/4/161129-4-0-20.png\n",
            "/content/drive/MyDrive/urbansound/spectrograms/4/161129-4-0-3.png\n",
            "/content/drive/MyDrive/urbansound/spectrograms/4/161129-4-0-4.png\n",
            "/content/drive/MyDrive/urbansound/spectrograms/4/161129-4-0-5.png\n",
            "/content/drive/MyDrive/urbansound/spectrograms/4/161129-4-0-6.png\n",
            "/content/drive/MyDrive/urbansound/spectrograms/4/161129-4-0-7.png\n",
            "/content/drive/MyDrive/urbansound/spectrograms/4/161129-4-0-8.png\n",
            "/content/drive/MyDrive/urbansound/spectrograms/4/161129-4-0-9.png\n",
            "/content/drive/MyDrive/urbansound/spectrograms/6/161195-6-0-0.png\n",
            "/content/drive/MyDrive/urbansound/spectrograms/9/161702-9-0-26.png\n",
            "/content/drive/MyDrive/urbansound/spectrograms/9/161702-9-0-30.png\n",
            "/content/drive/MyDrive/urbansound/spectrograms/9/161702-9-0-37.png\n",
            "/content/drive/MyDrive/urbansound/spectrograms/9/161702-9-0-45.png\n",
            "/content/drive/MyDrive/urbansound/spectrograms/9/161702-9-0-6.png\n"
          ]
        },
        {
          "output_type": "stream",
          "name": "stderr",
          "text": [
            "2886it [00:31, 93.15it/s]"
          ]
        },
        {
          "output_type": "stream",
          "name": "stdout",
          "text": [
            "/content/drive/MyDrive/urbansound/spectrograms/9/161702-9-0-8.png\n",
            "/content/drive/MyDrive/urbansound/spectrograms/3/161922-3-1-4.png\n",
            "/content/drive/MyDrive/urbansound/spectrograms/3/161922-3-1-5.png\n",
            "/content/drive/MyDrive/urbansound/spectrograms/3/161922-3-1-6.png\n",
            "/content/drive/MyDrive/urbansound/spectrograms/3/161922-3-2-0.png\n",
            "/content/drive/MyDrive/urbansound/spectrograms/3/161923-3-0-0.png\n",
            "/content/drive/MyDrive/urbansound/spectrograms/3/161923-3-0-12.png\n",
            "/content/drive/MyDrive/urbansound/spectrograms/3/161923-3-0-19.png\n",
            "/content/drive/MyDrive/urbansound/spectrograms/3/161923-3-0-5.png\n",
            "/content/drive/MyDrive/urbansound/spectrograms/0/162103-0-0-0.png\n",
            "/content/drive/MyDrive/urbansound/spectrograms/0/162103-0-0-1.png\n",
            "/content/drive/MyDrive/urbansound/spectrograms/0/162103-0-0-10.png\n",
            "/content/drive/MyDrive/urbansound/spectrograms/0/162103-0-0-11.png\n",
            "/content/drive/MyDrive/urbansound/spectrograms/0/162103-0-0-12.png\n",
            "/content/drive/MyDrive/urbansound/spectrograms/0/162103-0-0-13.png\n",
            "/content/drive/MyDrive/urbansound/spectrograms/0/162103-0-0-14.png\n",
            "/content/drive/MyDrive/urbansound/spectrograms/0/162103-0-0-15.png\n",
            "/content/drive/MyDrive/urbansound/spectrograms/0/162103-0-0-16.png\n",
            "/content/drive/MyDrive/urbansound/spectrograms/0/162103-0-0-17.png\n",
            "/content/drive/MyDrive/urbansound/spectrograms/0/162103-0-0-2.png\n"
          ]
        },
        {
          "output_type": "stream",
          "name": "stderr",
          "text": [
            "2906it [00:31, 90.20it/s]"
          ]
        },
        {
          "output_type": "stream",
          "name": "stdout",
          "text": [
            "/content/drive/MyDrive/urbansound/spectrograms/0/162103-0-0-3.png\n",
            "/content/drive/MyDrive/urbansound/spectrograms/0/162103-0-0-4.png\n",
            "/content/drive/MyDrive/urbansound/spectrograms/0/162103-0-0-5.png\n",
            "/content/drive/MyDrive/urbansound/spectrograms/0/162103-0-0-6.png\n",
            "/content/drive/MyDrive/urbansound/spectrograms/0/162103-0-0-7.png\n",
            "/content/drive/MyDrive/urbansound/spectrograms/0/162103-0-0-8.png\n",
            "/content/drive/MyDrive/urbansound/spectrograms/0/162103-0-0-9.png\n",
            "/content/drive/MyDrive/urbansound/spectrograms/7/162134-7-0-0.png\n",
            "/content/drive/MyDrive/urbansound/spectrograms/7/162134-7-0-1.png\n",
            "/content/drive/MyDrive/urbansound/spectrograms/7/162134-7-0-2.png\n",
            "/content/drive/MyDrive/urbansound/spectrograms/7/162134-7-1-0.png\n",
            "/content/drive/MyDrive/urbansound/spectrograms/7/162134-7-10-0.png\n",
            "/content/drive/MyDrive/urbansound/spectrograms/7/162134-7-10-1.png\n",
            "/content/drive/MyDrive/urbansound/spectrograms/7/162134-7-10-2.png\n",
            "/content/drive/MyDrive/urbansound/spectrograms/7/162134-7-10-3.png\n",
            "/content/drive/MyDrive/urbansound/spectrograms/7/162134-7-11-0.png\n",
            "/content/drive/MyDrive/urbansound/spectrograms/7/162134-7-11-1.png\n",
            "/content/drive/MyDrive/urbansound/spectrograms/7/162134-7-11-2.png\n"
          ]
        },
        {
          "output_type": "stream",
          "name": "stderr",
          "text": [
            "2925it [00:32, 86.55it/s]"
          ]
        },
        {
          "output_type": "stream",
          "name": "stdout",
          "text": [
            "/content/drive/MyDrive/urbansound/spectrograms/7/162134-7-11-3.png\n",
            "/content/drive/MyDrive/urbansound/spectrograms/7/162134-7-11-4.png\n",
            "/content/drive/MyDrive/urbansound/spectrograms/7/162134-7-11-5.png\n",
            "/content/drive/MyDrive/urbansound/spectrograms/7/162134-7-11-6.png\n",
            "/content/drive/MyDrive/urbansound/spectrograms/7/162134-7-11-7.png\n",
            "/content/drive/MyDrive/urbansound/spectrograms/7/162134-7-12-0.png\n",
            "/content/drive/MyDrive/urbansound/spectrograms/7/162134-7-12-1.png\n",
            "/content/drive/MyDrive/urbansound/spectrograms/7/162134-7-12-2.png\n",
            "/content/drive/MyDrive/urbansound/spectrograms/7/162134-7-12-3.png\n",
            "/content/drive/MyDrive/urbansound/spectrograms/7/162134-7-12-4.png\n",
            "/content/drive/MyDrive/urbansound/spectrograms/7/162134-7-13-0.png\n",
            "/content/drive/MyDrive/urbansound/spectrograms/7/162134-7-13-1.png\n",
            "/content/drive/MyDrive/urbansound/spectrograms/7/162134-7-13-2.png\n",
            "/content/drive/MyDrive/urbansound/spectrograms/7/162134-7-13-3.png\n",
            "/content/drive/MyDrive/urbansound/spectrograms/7/162134-7-13-4.png\n",
            "/content/drive/MyDrive/urbansound/spectrograms/7/162134-7-14-0.png\n",
            "/content/drive/MyDrive/urbansound/spectrograms/7/162134-7-14-1.png\n",
            "/content/drive/MyDrive/urbansound/spectrograms/7/162134-7-14-2.png\n"
          ]
        },
        {
          "output_type": "stream",
          "name": "stderr",
          "text": [
            "2943it [00:32, 86.74it/s]"
          ]
        },
        {
          "output_type": "stream",
          "name": "stdout",
          "text": [
            "/content/drive/MyDrive/urbansound/spectrograms/7/162134-7-15-0.png\n",
            "/content/drive/MyDrive/urbansound/spectrograms/7/162134-7-15-1.png\n",
            "/content/drive/MyDrive/urbansound/spectrograms/7/162134-7-15-2.png\n",
            "/content/drive/MyDrive/urbansound/spectrograms/7/162134-7-15-3.png\n",
            "/content/drive/MyDrive/urbansound/spectrograms/7/162134-7-15-4.png\n",
            "/content/drive/MyDrive/urbansound/spectrograms/7/162134-7-16-0.png\n",
            "/content/drive/MyDrive/urbansound/spectrograms/7/162134-7-16-1.png\n",
            "/content/drive/MyDrive/urbansound/spectrograms/7/162134-7-17-0.png\n",
            "/content/drive/MyDrive/urbansound/spectrograms/7/162134-7-17-1.png\n",
            "/content/drive/MyDrive/urbansound/spectrograms/7/162134-7-17-2.png\n",
            "/content/drive/MyDrive/urbansound/spectrograms/7/162134-7-17-3.png\n",
            "/content/drive/MyDrive/urbansound/spectrograms/7/162134-7-17-4.png\n",
            "/content/drive/MyDrive/urbansound/spectrograms/7/162134-7-2-0.png\n",
            "/content/drive/MyDrive/urbansound/spectrograms/7/162134-7-3-0.png\n",
            "/content/drive/MyDrive/urbansound/spectrograms/7/162134-7-4-0.png\n",
            "/content/drive/MyDrive/urbansound/spectrograms/7/162134-7-5-0.png\n",
            "/content/drive/MyDrive/urbansound/spectrograms/7/162134-7-6-0.png\n",
            "/content/drive/MyDrive/urbansound/spectrograms/7/162134-7-7-0.png\n",
            "/content/drive/MyDrive/urbansound/spectrograms/7/162134-7-7-1.png"
          ]
        },
        {
          "output_type": "stream",
          "name": "stderr",
          "text": [
            "2961it [00:32, 86.60it/s]"
          ]
        },
        {
          "output_type": "stream",
          "name": "stdout",
          "text": [
            "\n",
            "/content/drive/MyDrive/urbansound/spectrograms/7/162134-7-8-0.png\n",
            "/content/drive/MyDrive/urbansound/spectrograms/7/162134-7-8-1.png\n",
            "/content/drive/MyDrive/urbansound/spectrograms/7/162134-7-8-2.png\n",
            "/content/drive/MyDrive/urbansound/spectrograms/7/162134-7-8-3.png\n",
            "/content/drive/MyDrive/urbansound/spectrograms/7/162134-7-8-4.png\n",
            "/content/drive/MyDrive/urbansound/spectrograms/7/162134-7-8-5.png\n",
            "/content/drive/MyDrive/urbansound/spectrograms/7/162134-7-8-6.png\n",
            "/content/drive/MyDrive/urbansound/spectrograms/7/162134-7-8-7.png\n",
            "/content/drive/MyDrive/urbansound/spectrograms/7/162134-7-9-0.png\n",
            "/content/drive/MyDrive/urbansound/spectrograms/7/162134-7-9-1.png\n",
            "/content/drive/MyDrive/urbansound/spectrograms/7/162134-7-9-2.png\n",
            "/content/drive/MyDrive/urbansound/spectrograms/7/162134-7-9-3.png\n",
            "/content/drive/MyDrive/urbansound/spectrograms/7/162134-7-9-4.png\n",
            "/content/drive/MyDrive/urbansound/spectrograms/3/162148-3-0-0.png\n",
            "/content/drive/MyDrive/urbansound/spectrograms/2/162318-2-0-17.png\n",
            "/content/drive/MyDrive/urbansound/spectrograms/2/162318-2-0-25.png\n"
          ]
        },
        {
          "output_type": "stream",
          "name": "stderr",
          "text": [
            "2980it [00:32, 87.51it/s]"
          ]
        },
        {
          "output_type": "stream",
          "name": "stdout",
          "text": [
            "/content/drive/MyDrive/urbansound/spectrograms/2/162318-2-0-34.png\n",
            "/content/drive/MyDrive/urbansound/spectrograms/2/162318-2-0-38.png\n",
            "/content/drive/MyDrive/urbansound/spectrograms/2/162318-2-0-39.png\n",
            "/content/drive/MyDrive/urbansound/spectrograms/2/162318-2-0-40.png\n",
            "/content/drive/MyDrive/urbansound/spectrograms/2/162318-2-0-55.png\n",
            "/content/drive/MyDrive/urbansound/spectrograms/2/162318-2-0-7.png\n",
            "/content/drive/MyDrive/urbansound/spectrograms/6/162431-6-0-0.png\n",
            "/content/drive/MyDrive/urbansound/spectrograms/6/162431-6-1-0.png\n",
            "/content/drive/MyDrive/urbansound/spectrograms/6/162431-6-2-0.png\n",
            "/content/drive/MyDrive/urbansound/spectrograms/6/162431-6-3-0.png\n",
            "/content/drive/MyDrive/urbansound/spectrograms/6/162432-6-0-0.png\n",
            "/content/drive/MyDrive/urbansound/spectrograms/6/162432-6-1-0.png\n",
            "/content/drive/MyDrive/urbansound/spectrograms/6/162432-6-10-0.png\n",
            "/content/drive/MyDrive/urbansound/spectrograms/6/162432-6-11-0.png\n",
            "/content/drive/MyDrive/urbansound/spectrograms/6/162432-6-12-0.png\n",
            "/content/drive/MyDrive/urbansound/spectrograms/6/162432-6-13-0.png\n",
            "/content/drive/MyDrive/urbansound/spectrograms/6/162432-6-14-0.png\n",
            "/content/drive/MyDrive/urbansound/spectrograms/6/162432-6-2-0.png\n",
            "/content/drive/MyDrive/urbansound/spectrograms/6/162432-6-3-0.png\n"
          ]
        },
        {
          "output_type": "stream",
          "name": "stderr",
          "text": [
            "3001it [00:33, 93.05it/s]"
          ]
        },
        {
          "output_type": "stream",
          "name": "stdout",
          "text": [
            "/content/drive/MyDrive/urbansound/spectrograms/6/162432-6-4-0.png\n",
            "/content/drive/MyDrive/urbansound/spectrograms/6/162432-6-5-0.png\n",
            "/content/drive/MyDrive/urbansound/spectrograms/6/162432-6-6-0.png\n",
            "/content/drive/MyDrive/urbansound/spectrograms/6/162432-6-7-0.png\n",
            "/content/drive/MyDrive/urbansound/spectrograms/6/162432-6-8-0.png\n",
            "/content/drive/MyDrive/urbansound/spectrograms/6/162432-6-9-0.png\n",
            "/content/drive/MyDrive/urbansound/spectrograms/6/162433-6-0-0.png\n",
            "/content/drive/MyDrive/urbansound/spectrograms/6/162433-6-1-0.png\n",
            "/content/drive/MyDrive/urbansound/spectrograms/6/162433-6-2-0.png\n",
            "/content/drive/MyDrive/urbansound/spectrograms/6/162433-6-3-0.png\n",
            "/content/drive/MyDrive/urbansound/spectrograms/6/162433-6-4-0.png\n",
            "/content/drive/MyDrive/urbansound/spectrograms/6/162433-6-5-0.png\n",
            "/content/drive/MyDrive/urbansound/spectrograms/6/162433-6-6-0.png\n",
            "/content/drive/MyDrive/urbansound/spectrograms/6/162433-6-7-0.png\n",
            "/content/drive/MyDrive/urbansound/spectrograms/6/162433-6-8-0.png\n",
            "/content/drive/MyDrive/urbansound/spectrograms/6/162434-6-0-0.png\n",
            "/content/drive/MyDrive/urbansound/spectrograms/6/162434-6-1-0.png\n",
            "/content/drive/MyDrive/urbansound/spectrograms/6/162434-6-2-0.png\n",
            "/content/drive/MyDrive/urbansound/spectrograms/6/162435-6-0-0.png\n",
            "/content/drive/MyDrive/urbansound/spectrograms/6/162435-6-1-0.png\n"
          ]
        },
        {
          "output_type": "stream",
          "name": "stderr",
          "text": [
            "3022it [00:33, 96.67it/s]"
          ]
        },
        {
          "output_type": "stream",
          "name": "stdout",
          "text": [
            "/content/drive/MyDrive/urbansound/spectrograms/6/162435-6-2-0.png\n",
            "/content/drive/MyDrive/urbansound/spectrograms/6/162435-6-3-0.png\n",
            "/content/drive/MyDrive/urbansound/spectrograms/6/162436-6-0-0.png\n",
            "/content/drive/MyDrive/urbansound/spectrograms/1/162540-1-0-0.png\n",
            "/content/drive/MyDrive/urbansound/spectrograms/1/162540-1-1-0.png\n",
            "/content/drive/MyDrive/urbansound/spectrograms/1/162540-1-2-0.png\n",
            "/content/drive/MyDrive/urbansound/spectrograms/1/162541-1-0-0.png\n",
            "/content/drive/MyDrive/urbansound/spectrograms/1/162541-1-1-0.png\n",
            "/content/drive/MyDrive/urbansound/spectrograms/1/162541-1-2-0.png\n",
            "/content/drive/MyDrive/urbansound/spectrograms/1/162702-1-0-0.png\n",
            "/content/drive/MyDrive/urbansound/spectrograms/1/162702-1-1-0.png\n",
            "/content/drive/MyDrive/urbansound/spectrograms/1/162703-1-0-0.png\n",
            "/content/drive/MyDrive/urbansound/spectrograms/1/162728-1-0-0.png\n",
            "/content/drive/MyDrive/urbansound/spectrograms/3/163459-3-0-0.png\n",
            "/content/drive/MyDrive/urbansound/spectrograms/6/163460-6-0-0.png\n",
            "/content/drive/MyDrive/urbansound/spectrograms/8/164053-8-0-0.png\n",
            "/content/drive/MyDrive/urbansound/spectrograms/8/164053-8-1-0.png\n",
            "/content/drive/MyDrive/urbansound/spectrograms/8/164053-8-2-0.png\n",
            "/content/drive/MyDrive/urbansound/spectrograms/8/164053-8-2-1.png\n",
            "/content/drive/MyDrive/urbansound/spectrograms/8/164053-8-2-2.png\n",
            "/content/drive/MyDrive/urbansound/spectrograms/8/164053-8-2-3.png\n",
            "/content/drive/MyDrive/urbansound/spectrograms/8/164053-8-3-0.png\n"
          ]
        },
        {
          "output_type": "stream",
          "name": "stderr",
          "text": [
            "3042it [00:33, 95.36it/s]"
          ]
        },
        {
          "output_type": "stream",
          "name": "stdout",
          "text": [
            "/content/drive/MyDrive/urbansound/spectrograms/2/164194-2-0-10.png\n",
            "/content/drive/MyDrive/urbansound/spectrograms/2/164194-2-0-11.png\n",
            "/content/drive/MyDrive/urbansound/spectrograms/2/164194-2-0-14.png\n",
            "/content/drive/MyDrive/urbansound/spectrograms/2/164194-2-0-18.png\n",
            "/content/drive/MyDrive/urbansound/spectrograms/2/164194-2-0-24.png\n",
            "/content/drive/MyDrive/urbansound/spectrograms/2/164194-2-0-26.png\n",
            "/content/drive/MyDrive/urbansound/spectrograms/2/164194-2-0-29.png\n",
            "/content/drive/MyDrive/urbansound/spectrograms/2/164194-2-0-7.png\n",
            "/content/drive/MyDrive/urbansound/spectrograms/3/164311-3-0-0.png\n",
            "/content/drive/MyDrive/urbansound/spectrograms/3/164311-3-1-0.png\n",
            "/content/drive/MyDrive/urbansound/spectrograms/3/164312-3-0-0.png\n",
            "/content/drive/MyDrive/urbansound/spectrograms/3/164312-3-1-0.png\n",
            "/content/drive/MyDrive/urbansound/spectrograms/3/164312-3-3-0.png\n",
            "/content/drive/MyDrive/urbansound/spectrograms/3/164312-3-4-0.png\n",
            "/content/drive/MyDrive/urbansound/spectrograms/9/164344-9-0-0.png\n",
            "/content/drive/MyDrive/urbansound/spectrograms/9/164344-9-0-26.png\n",
            "/content/drive/MyDrive/urbansound/spectrograms/9/164344-9-0-38.png\n",
            "/content/drive/MyDrive/urbansound/spectrograms/9/164344-9-0-39.png\n",
            "/content/drive/MyDrive/urbansound/spectrograms/9/164344-9-0-40.png\n",
            "/content/drive/MyDrive/urbansound/spectrograms/9/164344-9-0-44.png"
          ]
        },
        {
          "output_type": "stream",
          "name": "stderr",
          "text": [
            "3062it [00:33, 92.62it/s]"
          ]
        },
        {
          "output_type": "stream",
          "name": "stdout",
          "text": [
            "\n",
            "/content/drive/MyDrive/urbansound/spectrograms/9/164377-9-0-16.png\n",
            "/content/drive/MyDrive/urbansound/spectrograms/9/164377-9-1-15.png\n",
            "/content/drive/MyDrive/urbansound/spectrograms/9/164377-9-1-3.png\n",
            "/content/drive/MyDrive/urbansound/spectrograms/9/164377-9-1-36.png\n",
            "/content/drive/MyDrive/urbansound/spectrograms/9/164377-9-1-43.png\n",
            "/content/drive/MyDrive/urbansound/spectrograms/9/164377-9-1-50.png\n",
            "/content/drive/MyDrive/urbansound/spectrograms/9/164377-9-1-92.png\n",
            "/content/drive/MyDrive/urbansound/spectrograms/1/164625-1-0-0.png\n",
            "/content/drive/MyDrive/urbansound/spectrograms/1/164626-1-0-0.png\n",
            "/content/drive/MyDrive/urbansound/spectrograms/1/164627-1-0-0.png\n",
            "/content/drive/MyDrive/urbansound/spectrograms/6/164646-6-0-0.png\n",
            "/content/drive/MyDrive/urbansound/spectrograms/6/164667-6-0-0.png\n",
            "/content/drive/MyDrive/urbansound/spectrograms/8/164782-8-0-0.png\n",
            "/content/drive/MyDrive/urbansound/spectrograms/8/164782-8-0-1.png\n",
            "/content/drive/MyDrive/urbansound/spectrograms/8/164782-8-0-2.png\n",
            "/content/drive/MyDrive/urbansound/spectrograms/8/164782-8-0-3.png\n",
            "/content/drive/MyDrive/urbansound/spectrograms/8/164782-8-0-4.png\n",
            "/content/drive/MyDrive/urbansound/spectrograms/8/164782-8-0-5.png\n"
          ]
        },
        {
          "output_type": "stream",
          "name": "stderr",
          "text": [
            "\r3072it [00:33, 90.28it/s]"
          ]
        },
        {
          "output_type": "stream",
          "name": "stdout",
          "text": [
            "/content/drive/MyDrive/urbansound/spectrograms/8/164782-8-0-6.png\n",
            "/content/drive/MyDrive/urbansound/spectrograms/8/164782-8-0-7.png\n",
            "/content/drive/MyDrive/urbansound/spectrograms/2/164797-2-0-16.png\n",
            "/content/drive/MyDrive/urbansound/spectrograms/2/164797-2-0-29.png\n",
            "/content/drive/MyDrive/urbansound/spectrograms/2/164797-2-0-32.png\n",
            "/content/drive/MyDrive/urbansound/spectrograms/2/164797-2-0-44.png\n",
            "/content/drive/MyDrive/urbansound/spectrograms/2/164797-2-0-47.png\n",
            "/content/drive/MyDrive/urbansound/spectrograms/2/164797-2-0-50.png\n",
            "/content/drive/MyDrive/urbansound/spectrograms/2/164797-2-0-8.png\n",
            "/content/drive/MyDrive/urbansound/spectrograms/7/165039-7-0-0.png\n",
            "/content/drive/MyDrive/urbansound/spectrograms/7/165039-7-1-0.png\n",
            "/content/drive/MyDrive/urbansound/spectrograms/7/165039-7-10-0.png\n",
            "/content/drive/MyDrive/urbansound/spectrograms/7/165039-7-10-1.png\n",
            "/content/drive/MyDrive/urbansound/spectrograms/7/165039-7-11-0.png\n",
            "/content/drive/MyDrive/urbansound/spectrograms/7/165039-7-12-0.png\n",
            "/content/drive/MyDrive/urbansound/spectrograms/7/165039-7-12-1.png\n",
            "/content/drive/MyDrive/urbansound/spectrograms/7/165039-7-13-0.png\n",
            "/content/drive/MyDrive/urbansound/spectrograms/7/165039-7-14-0.png\n"
          ]
        },
        {
          "output_type": "stream",
          "name": "stderr",
          "text": [
            "3091it [00:34, 87.36it/s]"
          ]
        },
        {
          "output_type": "stream",
          "name": "stdout",
          "text": [
            "/content/drive/MyDrive/urbansound/spectrograms/7/165039-7-15-0.png\n",
            "/content/drive/MyDrive/urbansound/spectrograms/7/165039-7-15-1.png\n",
            "/content/drive/MyDrive/urbansound/spectrograms/7/165039-7-16-0.png\n",
            "/content/drive/MyDrive/urbansound/spectrograms/7/165039-7-17-0.png\n",
            "/content/drive/MyDrive/urbansound/spectrograms/7/165039-7-17-1.png\n",
            "/content/drive/MyDrive/urbansound/spectrograms/7/165039-7-2-0.png\n",
            "/content/drive/MyDrive/urbansound/spectrograms/7/165039-7-2-1.png\n",
            "/content/drive/MyDrive/urbansound/spectrograms/7/165039-7-3-0.png\n",
            "/content/drive/MyDrive/urbansound/spectrograms/7/165039-7-4-0.png\n",
            "/content/drive/MyDrive/urbansound/spectrograms/7/165039-7-4-1.png\n",
            "/content/drive/MyDrive/urbansound/spectrograms/7/165039-7-4-2.png\n",
            "/content/drive/MyDrive/urbansound/spectrograms/7/165039-7-5-0.png\n",
            "/content/drive/MyDrive/urbansound/spectrograms/7/165039-7-5-1.png\n",
            "/content/drive/MyDrive/urbansound/spectrograms/7/165039-7-6-0.png\n",
            "/content/drive/MyDrive/urbansound/spectrograms/7/165039-7-6-1.png\n",
            "/content/drive/MyDrive/urbansound/spectrograms/7/165039-7-7-0.png\n",
            "/content/drive/MyDrive/urbansound/spectrograms/7/165039-7-8-0.png\n",
            "/content/drive/MyDrive/urbansound/spectrograms/7/165039-7-8-1.png\n"
          ]
        },
        {
          "output_type": "stream",
          "name": "stderr",
          "text": [
            "3110it [00:34, 87.03it/s]"
          ]
        },
        {
          "output_type": "stream",
          "name": "stdout",
          "text": [
            "/content/drive/MyDrive/urbansound/spectrograms/7/165039-7-8-2.png\n",
            "/content/drive/MyDrive/urbansound/spectrograms/7/165039-7-9-0.png\n",
            "/content/drive/MyDrive/urbansound/spectrograms/2/165067-2-0-111.png\n",
            "/content/drive/MyDrive/urbansound/spectrograms/2/165067-2-0-112.png\n",
            "/content/drive/MyDrive/urbansound/spectrograms/2/165067-2-0-35.png\n",
            "/content/drive/MyDrive/urbansound/spectrograms/2/165067-2-0-56.png\n",
            "/content/drive/MyDrive/urbansound/spectrograms/2/165067-2-0-72.png\n",
            "/content/drive/MyDrive/urbansound/spectrograms/2/165067-2-0-9.png\n",
            "/content/drive/MyDrive/urbansound/spectrograms/2/165067-2-0-91.png\n",
            "/content/drive/MyDrive/urbansound/spectrograms/8/165166-8-0-0.png\n",
            "/content/drive/MyDrive/urbansound/spectrograms/8/165166-8-0-1.png\n",
            "/content/drive/MyDrive/urbansound/spectrograms/8/165166-8-0-2.png\n",
            "/content/drive/MyDrive/urbansound/spectrograms/8/165166-8-0-3.png\n",
            "/content/drive/MyDrive/urbansound/spectrograms/8/165166-8-0-4.png\n",
            "/content/drive/MyDrive/urbansound/spectrograms/8/165166-8-0-5.png\n",
            "/content/drive/MyDrive/urbansound/spectrograms/8/165166-8-0-6.png\n",
            "/content/drive/MyDrive/urbansound/spectrograms/8/165166-8-0-7.png\n",
            "/content/drive/MyDrive/urbansound/spectrograms/8/165166-8-0-8.png\n",
            "/content/drive/MyDrive/urbansound/spectrograms/9/165192-9-0-118.png\n"
          ]
        },
        {
          "output_type": "stream",
          "name": "stderr",
          "text": [
            "3129it [00:34, 88.38it/s]"
          ]
        },
        {
          "output_type": "stream",
          "name": "stdout",
          "text": [
            "/content/drive/MyDrive/urbansound/spectrograms/9/165192-9-0-146.png\n",
            "/content/drive/MyDrive/urbansound/spectrograms/9/165192-9-0-160.png\n",
            "/content/drive/MyDrive/urbansound/spectrograms/9/165192-9-0-5.png\n",
            "/content/drive/MyDrive/urbansound/spectrograms/9/165192-9-0-76.png\n",
            "/content/drive/MyDrive/urbansound/spectrograms/9/165192-9-0-87.png\n",
            "/content/drive/MyDrive/urbansound/spectrograms/0/165454-0-0-0.png\n",
            "/content/drive/MyDrive/urbansound/spectrograms/0/165454-0-0-1.png\n",
            "/content/drive/MyDrive/urbansound/spectrograms/0/165454-0-0-10.png\n",
            "/content/drive/MyDrive/urbansound/spectrograms/0/165454-0-0-11.png\n",
            "/content/drive/MyDrive/urbansound/spectrograms/0/165454-0-0-12.png\n",
            "/content/drive/MyDrive/urbansound/spectrograms/0/165454-0-0-2.png\n",
            "/content/drive/MyDrive/urbansound/spectrograms/0/165454-0-0-3.png\n",
            "/content/drive/MyDrive/urbansound/spectrograms/0/165454-0-0-4.png\n",
            "/content/drive/MyDrive/urbansound/spectrograms/0/165454-0-0-5.png\n",
            "/content/drive/MyDrive/urbansound/spectrograms/0/165454-0-0-6.png\n",
            "/content/drive/MyDrive/urbansound/spectrograms/0/165454-0-0-7.png\n",
            "/content/drive/MyDrive/urbansound/spectrograms/0/165454-0-0-8.png\n",
            "/content/drive/MyDrive/urbansound/spectrograms/0/165454-0-0-9.png\n",
            "/content/drive/MyDrive/urbansound/spectrograms/2/165529-2-0-18.png\n",
            "/content/drive/MyDrive/urbansound/spectrograms/2/165529-2-0-3.png\n"
          ]
        },
        {
          "output_type": "stream",
          "name": "stderr",
          "text": [
            "3150it [00:34, 93.02it/s]"
          ]
        },
        {
          "output_type": "stream",
          "name": "stdout",
          "text": [
            "/content/drive/MyDrive/urbansound/spectrograms/2/165529-2-0-6.png\n",
            "/content/drive/MyDrive/urbansound/spectrograms/2/165529-2-0-70.png\n",
            "/content/drive/MyDrive/urbansound/spectrograms/2/165529-2-0-73.png\n",
            "/content/drive/MyDrive/urbansound/spectrograms/2/165529-2-0-8.png\n",
            "/content/drive/MyDrive/urbansound/spectrograms/2/165529-2-0-90.png\n",
            "/content/drive/MyDrive/urbansound/spectrograms/3/165567-3-0-0.png\n",
            "/content/drive/MyDrive/urbansound/spectrograms/3/165567-3-2-0.png\n",
            "/content/drive/MyDrive/urbansound/spectrograms/3/165567-3-3-0.png\n",
            "/content/drive/MyDrive/urbansound/spectrograms/3/165567-3-4-0.png\n",
            "/content/drive/MyDrive/urbansound/spectrograms/4/165640-4-0-0.png\n",
            "/content/drive/MyDrive/urbansound/spectrograms/4/165640-4-0-1.png\n",
            "/content/drive/MyDrive/urbansound/spectrograms/4/165640-4-0-2.png\n",
            "/content/drive/MyDrive/urbansound/spectrograms/4/165641-4-0-0.png\n",
            "/content/drive/MyDrive/urbansound/spectrograms/4/165641-4-0-1.png\n",
            "/content/drive/MyDrive/urbansound/spectrograms/4/165642-4-0-0.png\n",
            "/content/drive/MyDrive/urbansound/spectrograms/4/165643-4-0-0.png\n",
            "/content/drive/MyDrive/urbansound/spectrograms/4/165644-4-0-0.png\n",
            "/content/drive/MyDrive/urbansound/spectrograms/4/165644-4-0-1.png\n",
            "/content/drive/MyDrive/urbansound/spectrograms/4/165645-4-0-0.png\n"
          ]
        },
        {
          "output_type": "stream",
          "name": "stderr",
          "text": [
            "3170it [00:34, 91.16it/s]"
          ]
        },
        {
          "output_type": "stream",
          "name": "stdout",
          "text": [
            "/content/drive/MyDrive/urbansound/spectrograms/4/165645-4-1-0.png\n",
            "/content/drive/MyDrive/urbansound/spectrograms/4/165645-4-2-0.png\n",
            "/content/drive/MyDrive/urbansound/spectrograms/4/165645-4-3-0.png\n",
            "/content/drive/MyDrive/urbansound/spectrograms/4/165645-4-4-0.png\n",
            "/content/drive/MyDrive/urbansound/spectrograms/4/165645-4-5-0.png\n",
            "/content/drive/MyDrive/urbansound/spectrograms/7/165774-7-0-0.png\n",
            "/content/drive/MyDrive/urbansound/spectrograms/7/165774-7-1-0.png\n",
            "/content/drive/MyDrive/urbansound/spectrograms/7/165774-7-2-0.png\n",
            "/content/drive/MyDrive/urbansound/spectrograms/7/165774-7-3-0.png\n",
            "/content/drive/MyDrive/urbansound/spectrograms/7/165774-7-4-0.png\n",
            "/content/drive/MyDrive/urbansound/spectrograms/7/165774-7-5-0.png\n",
            "/content/drive/MyDrive/urbansound/spectrograms/7/165774-7-6-0.png\n",
            "/content/drive/MyDrive/urbansound/spectrograms/7/165774-7-7-0.png\n",
            "/content/drive/MyDrive/urbansound/spectrograms/7/165774-7-8-0.png\n",
            "/content/drive/MyDrive/urbansound/spectrograms/7/165775-7-0-0.png\n",
            "/content/drive/MyDrive/urbansound/spectrograms/7/165775-7-1-0.png\n",
            "/content/drive/MyDrive/urbansound/spectrograms/4/165785-4-0-0.png\n",
            "/content/drive/MyDrive/urbansound/spectrograms/4/165785-4-1-0.png\n",
            "/content/drive/MyDrive/urbansound/spectrograms/4/165785-4-2-0.png\n",
            "/content/drive/MyDrive/urbansound/spectrograms/4/165785-4-3-0.png\n"
          ]
        },
        {
          "output_type": "stream",
          "name": "stderr",
          "text": [
            "3190it [00:35, 92.45it/s]"
          ]
        },
        {
          "output_type": "stream",
          "name": "stdout",
          "text": [
            "/content/drive/MyDrive/urbansound/spectrograms/4/165785-4-4-0.png\n",
            "/content/drive/MyDrive/urbansound/spectrograms/4/165786-4-0-0.png\n",
            "/content/drive/MyDrive/urbansound/spectrograms/5/166101-5-0-0.png\n",
            "/content/drive/MyDrive/urbansound/spectrograms/5/166101-5-0-1.png\n",
            "/content/drive/MyDrive/urbansound/spectrograms/5/166101-5-0-2.png\n",
            "/content/drive/MyDrive/urbansound/spectrograms/5/166101-5-0-3.png\n",
            "/content/drive/MyDrive/urbansound/spectrograms/5/166101-5-1-0.png\n",
            "/content/drive/MyDrive/urbansound/spectrograms/5/166101-5-2-0.png\n",
            "/content/drive/MyDrive/urbansound/spectrograms/5/166101-5-2-1.png\n",
            "/content/drive/MyDrive/urbansound/spectrograms/5/166101-5-2-2.png\n",
            "/content/drive/MyDrive/urbansound/spectrograms/5/166101-5-2-3.png\n",
            "/content/drive/MyDrive/urbansound/spectrograms/5/166101-5-2-4.png\n",
            "/content/drive/MyDrive/urbansound/spectrograms/5/166101-5-3-0.png\n",
            "/content/drive/MyDrive/urbansound/spectrograms/3/166268-3-0-0.png\n",
            "/content/drive/MyDrive/urbansound/spectrograms/3/166268-3-1-0.png\n",
            "/content/drive/MyDrive/urbansound/spectrograms/3/166268-3-2-0.png\n",
            "/content/drive/MyDrive/urbansound/spectrograms/3/166421-3-0-29.png\n",
            "/content/drive/MyDrive/urbansound/spectrograms/3/166421-3-0-31.png\n",
            "/content/drive/MyDrive/urbansound/spectrograms/3/166421-3-0-5.png\n"
          ]
        },
        {
          "output_type": "stream",
          "name": "stderr",
          "text": [
            "3211it [00:35, 97.78it/s]"
          ]
        },
        {
          "output_type": "stream",
          "name": "stdout",
          "text": [
            "/content/drive/MyDrive/urbansound/spectrograms/3/166489-3-0-1.png\n",
            "/content/drive/MyDrive/urbansound/spectrograms/3/166489-3-0-2.png\n",
            "/content/drive/MyDrive/urbansound/spectrograms/3/166489-3-0-4.png\n",
            "/content/drive/MyDrive/urbansound/spectrograms/5/16692-5-0-0.png\n",
            "/content/drive/MyDrive/urbansound/spectrograms/5/16692-5-0-1.png\n",
            "/content/drive/MyDrive/urbansound/spectrograms/5/16692-5-0-10.png\n",
            "/content/drive/MyDrive/urbansound/spectrograms/5/16692-5-0-2.png\n",
            "/content/drive/MyDrive/urbansound/spectrograms/5/16692-5-0-3.png\n",
            "/content/drive/MyDrive/urbansound/spectrograms/5/16692-5-0-4.png\n",
            "/content/drive/MyDrive/urbansound/spectrograms/5/16692-5-0-5.png\n",
            "/content/drive/MyDrive/urbansound/spectrograms/5/16692-5-0-6.png\n",
            "/content/drive/MyDrive/urbansound/spectrograms/5/16692-5-0-7.png\n",
            "/content/drive/MyDrive/urbansound/spectrograms/5/16692-5-0-8.png\n",
            "/content/drive/MyDrive/urbansound/spectrograms/5/16692-5-0-9.png\n",
            "/content/drive/MyDrive/urbansound/spectrograms/4/166931-4-0-0.png\n",
            "/content/drive/MyDrive/urbansound/spectrograms/4/166931-4-0-1.png\n",
            "/content/drive/MyDrive/urbansound/spectrograms/4/166931-4-1-2.png\n",
            "/content/drive/MyDrive/urbansound/spectrograms/4/166931-4-1-4.png\n",
            "/content/drive/MyDrive/urbansound/spectrograms/4/166931-4-1-5.png\n",
            "/content/drive/MyDrive/urbansound/spectrograms/4/166931-4-1-6.png\n",
            "/content/drive/MyDrive/urbansound/spectrograms/4/166931-4-2-0.png\n"
          ]
        },
        {
          "output_type": "stream",
          "name": "stderr",
          "text": [
            "3231it [00:35, 92.30it/s]"
          ]
        },
        {
          "output_type": "stream",
          "name": "stdout",
          "text": [
            "/content/drive/MyDrive/urbansound/spectrograms/4/166931-4-2-12.png\n",
            "/content/drive/MyDrive/urbansound/spectrograms/4/166931-4-2-13.png\n",
            "/content/drive/MyDrive/urbansound/spectrograms/4/166931-4-2-3.png\n",
            "/content/drive/MyDrive/urbansound/spectrograms/4/166931-4-2-7.png\n",
            "/content/drive/MyDrive/urbansound/spectrograms/4/166931-4-2-8.png\n",
            "/content/drive/MyDrive/urbansound/spectrograms/4/166931-4-3-1.png\n",
            "/content/drive/MyDrive/urbansound/spectrograms/4/166931-4-3-2.png\n",
            "/content/drive/MyDrive/urbansound/spectrograms/4/166931-4-4-0.png\n",
            "/content/drive/MyDrive/urbansound/spectrograms/4/166931-4-4-2.png\n",
            "/content/drive/MyDrive/urbansound/spectrograms/4/166931-4-4-3.png\n",
            "/content/drive/MyDrive/urbansound/spectrograms/0/166942-0-0-0.png\n",
            "/content/drive/MyDrive/urbansound/spectrograms/0/166942-0-0-1.png\n",
            "/content/drive/MyDrive/urbansound/spectrograms/0/166942-0-0-10.png\n",
            "/content/drive/MyDrive/urbansound/spectrograms/0/166942-0-0-11.png\n",
            "/content/drive/MyDrive/urbansound/spectrograms/0/166942-0-0-12.png\n",
            "/content/drive/MyDrive/urbansound/spectrograms/0/166942-0-0-13.png\n",
            "/content/drive/MyDrive/urbansound/spectrograms/0/166942-0-0-14.png\n"
          ]
        },
        {
          "output_type": "stream",
          "name": "stderr",
          "text": [
            "3250it [00:35, 87.88it/s]"
          ]
        },
        {
          "output_type": "stream",
          "name": "stdout",
          "text": [
            "/content/drive/MyDrive/urbansound/spectrograms/0/166942-0-0-15.png\n",
            "/content/drive/MyDrive/urbansound/spectrograms/0/166942-0-0-2.png\n",
            "/content/drive/MyDrive/urbansound/spectrograms/0/166942-0-0-3.png\n",
            "/content/drive/MyDrive/urbansound/spectrograms/0/166942-0-0-4.png\n",
            "/content/drive/MyDrive/urbansound/spectrograms/0/166942-0-0-5.png\n",
            "/content/drive/MyDrive/urbansound/spectrograms/0/166942-0-0-6.png\n",
            "/content/drive/MyDrive/urbansound/spectrograms/0/166942-0-0-7.png\n",
            "/content/drive/MyDrive/urbansound/spectrograms/0/166942-0-0-8.png\n",
            "/content/drive/MyDrive/urbansound/spectrograms/0/166942-0-0-9.png\n",
            "/content/drive/MyDrive/urbansound/spectrograms/0/167464-0-0-0.png\n",
            "/content/drive/MyDrive/urbansound/spectrograms/0/167464-0-0-1.png\n",
            "/content/drive/MyDrive/urbansound/spectrograms/0/167464-0-0-10.png\n",
            "/content/drive/MyDrive/urbansound/spectrograms/0/167464-0-0-11.png\n",
            "/content/drive/MyDrive/urbansound/spectrograms/0/167464-0-0-12.png\n",
            "/content/drive/MyDrive/urbansound/spectrograms/0/167464-0-0-13.png\n",
            "/content/drive/MyDrive/urbansound/spectrograms/0/167464-0-0-14.png\n",
            "/content/drive/MyDrive/urbansound/spectrograms/0/167464-0-0-15.png\n",
            "/content/drive/MyDrive/urbansound/spectrograms/0/167464-0-0-16.png\n"
          ]
        },
        {
          "output_type": "stream",
          "name": "stderr",
          "text": [
            "3269it [00:35, 90.92it/s]"
          ]
        },
        {
          "output_type": "stream",
          "name": "stdout",
          "text": [
            "/content/drive/MyDrive/urbansound/spectrograms/0/167464-0-0-17.png\n",
            "/content/drive/MyDrive/urbansound/spectrograms/0/167464-0-0-18.png\n",
            "/content/drive/MyDrive/urbansound/spectrograms/0/167464-0-0-19.png\n",
            "/content/drive/MyDrive/urbansound/spectrograms/0/167464-0-0-2.png\n",
            "/content/drive/MyDrive/urbansound/spectrograms/0/167464-0-0-20.png\n",
            "/content/drive/MyDrive/urbansound/spectrograms/0/167464-0-0-21.png\n",
            "/content/drive/MyDrive/urbansound/spectrograms/0/167464-0-0-22.png\n",
            "/content/drive/MyDrive/urbansound/spectrograms/0/167464-0-0-23.png\n",
            "/content/drive/MyDrive/urbansound/spectrograms/0/167464-0-0-24.png\n",
            "/content/drive/MyDrive/urbansound/spectrograms/0/167464-0-0-3.png\n",
            "/content/drive/MyDrive/urbansound/spectrograms/0/167464-0-0-4.png\n",
            "/content/drive/MyDrive/urbansound/spectrograms/0/167464-0-0-5.png\n",
            "/content/drive/MyDrive/urbansound/spectrograms/0/167464-0-0-6.png\n",
            "/content/drive/MyDrive/urbansound/spectrograms/0/167464-0-0-7.png\n",
            "/content/drive/MyDrive/urbansound/spectrograms/0/167464-0-0-8.png\n",
            "/content/drive/MyDrive/urbansound/spectrograms/0/167464-0-0-9.png\n",
            "/content/drive/MyDrive/urbansound/spectrograms/4/167701-4-0-0.png\n",
            "/content/drive/MyDrive/urbansound/spectrograms/4/167701-4-1-0.png\n",
            "/content/drive/MyDrive/urbansound/spectrograms/4/167701-4-10-0.png\n",
            "/content/drive/MyDrive/urbansound/spectrograms/4/167701-4-11-0.png\n"
          ]
        },
        {
          "output_type": "stream",
          "name": "stderr",
          "text": [
            "3289it [00:36, 91.60it/s]"
          ]
        },
        {
          "output_type": "stream",
          "name": "stdout",
          "text": [
            "/content/drive/MyDrive/urbansound/spectrograms/4/167701-4-12-0.png\n",
            "/content/drive/MyDrive/urbansound/spectrograms/4/167701-4-2-0.png\n",
            "/content/drive/MyDrive/urbansound/spectrograms/4/167701-4-3-0.png\n",
            "/content/drive/MyDrive/urbansound/spectrograms/4/167701-4-4-0.png\n",
            "/content/drive/MyDrive/urbansound/spectrograms/4/167701-4-5-0.png\n",
            "/content/drive/MyDrive/urbansound/spectrograms/4/167701-4-6-0.png\n",
            "/content/drive/MyDrive/urbansound/spectrograms/4/167701-4-6-1.png\n",
            "/content/drive/MyDrive/urbansound/spectrograms/4/167701-4-6-2.png\n",
            "/content/drive/MyDrive/urbansound/spectrograms/4/167701-4-6-3.png\n",
            "/content/drive/MyDrive/urbansound/spectrograms/4/167701-4-6-4.png\n",
            "/content/drive/MyDrive/urbansound/spectrograms/4/167701-4-7-0.png\n",
            "/content/drive/MyDrive/urbansound/spectrograms/4/167701-4-9-0.png\n",
            "/content/drive/MyDrive/urbansound/spectrograms/4/167701-4-9-1.png\n",
            "/content/drive/MyDrive/urbansound/spectrograms/4/167702-4-0-0.png\n",
            "/content/drive/MyDrive/urbansound/spectrograms/4/167702-4-1-0.png\n",
            "/content/drive/MyDrive/urbansound/spectrograms/4/167702-4-2-0.png\n",
            "/content/drive/MyDrive/urbansound/spectrograms/4/167702-4-3-0.png\n",
            "/content/drive/MyDrive/urbansound/spectrograms/4/167702-4-4-0.png\n",
            "/content/drive/MyDrive/urbansound/spectrograms/4/167702-4-5-0.png\n",
            "/content/drive/MyDrive/urbansound/spectrograms/4/167702-4-6-0.png"
          ]
        },
        {
          "output_type": "stream",
          "name": "stderr",
          "text": [
            "3309it [00:36, 94.04it/s]"
          ]
        },
        {
          "output_type": "stream",
          "name": "stdout",
          "text": [
            "\n",
            "/content/drive/MyDrive/urbansound/spectrograms/4/167702-4-7-0.png\n",
            "/content/drive/MyDrive/urbansound/spectrograms/4/167702-4-7-1.png\n",
            "/content/drive/MyDrive/urbansound/spectrograms/4/167702-4-8-0.png\n",
            "/content/drive/MyDrive/urbansound/spectrograms/4/167702-4-9-0.png\n",
            "/content/drive/MyDrive/urbansound/spectrograms/8/16772-8-0-0.png\n",
            "/content/drive/MyDrive/urbansound/spectrograms/4/167750-4-0-0.png\n",
            "/content/drive/MyDrive/urbansound/spectrograms/4/167750-4-1-0.png\n",
            "/content/drive/MyDrive/urbansound/spectrograms/4/167750-4-2-0.png\n",
            "/content/drive/MyDrive/urbansound/spectrograms/4/167750-4-3-0.png\n",
            "/content/drive/MyDrive/urbansound/spectrograms/4/168037-4-0-0.png\n",
            "/content/drive/MyDrive/urbansound/spectrograms/4/168037-4-1-0.png\n",
            "/content/drive/MyDrive/urbansound/spectrograms/4/168037-4-10-0.png\n",
            "/content/drive/MyDrive/urbansound/spectrograms/4/168037-4-11-0.png\n",
            "/content/drive/MyDrive/urbansound/spectrograms/4/168037-4-12-0.png\n",
            "/content/drive/MyDrive/urbansound/spectrograms/4/168037-4-13-0.png\n",
            "/content/drive/MyDrive/urbansound/spectrograms/4/168037-4-2-0.png\n",
            "/content/drive/MyDrive/urbansound/spectrograms/4/168037-4-3-0.png\n",
            "/content/drive/MyDrive/urbansound/spectrograms/4/168037-4-4-0.png\n",
            "/content/drive/MyDrive/urbansound/spectrograms/4/168037-4-5-0.png\n"
          ]
        },
        {
          "output_type": "stream",
          "name": "stderr",
          "text": [
            "3329it [00:36, 93.41it/s]"
          ]
        },
        {
          "output_type": "stream",
          "name": "stdout",
          "text": [
            "/content/drive/MyDrive/urbansound/spectrograms/4/168037-4-6-0.png\n",
            "/content/drive/MyDrive/urbansound/spectrograms/4/168037-4-7-0.png\n",
            "/content/drive/MyDrive/urbansound/spectrograms/4/168037-4-8-0.png\n",
            "/content/drive/MyDrive/urbansound/spectrograms/4/168037-4-9-0.png\n",
            "/content/drive/MyDrive/urbansound/spectrograms/9/16860-9-0-26.png\n",
            "/content/drive/MyDrive/urbansound/spectrograms/9/16860-9-0-28.png\n",
            "/content/drive/MyDrive/urbansound/spectrograms/9/16860-9-0-30.png\n",
            "/content/drive/MyDrive/urbansound/spectrograms/9/16860-9-0-45.png\n",
            "/content/drive/MyDrive/urbansound/spectrograms/9/16860-9-0-50.png\n",
            "/content/drive/MyDrive/urbansound/spectrograms/9/16860-9-0-8.png\n",
            "/content/drive/MyDrive/urbansound/spectrograms/9/168713-9-0-32.png\n",
            "/content/drive/MyDrive/urbansound/spectrograms/9/168713-9-0-33.png\n",
            "/content/drive/MyDrive/urbansound/spectrograms/9/168713-9-0-38.png\n",
            "/content/drive/MyDrive/urbansound/spectrograms/9/168713-9-0-46.png\n",
            "/content/drive/MyDrive/urbansound/spectrograms/9/168713-9-0-62.png\n",
            "/content/drive/MyDrive/urbansound/spectrograms/9/168713-9-0-82.png\n",
            "/content/drive/MyDrive/urbansound/spectrograms/5/168846-5-0-0.png\n",
            "/content/drive/MyDrive/urbansound/spectrograms/5/168846-5-0-1.png\n",
            "/content/drive/MyDrive/urbansound/spectrograms/5/168846-5-0-2.png\n"
          ]
        },
        {
          "output_type": "stream",
          "name": "stderr",
          "text": [
            "\r3339it [00:36, 73.50it/s]"
          ]
        },
        {
          "output_type": "stream",
          "name": "stdout",
          "text": [
            "/content/drive/MyDrive/urbansound/spectrograms/5/168846-5-1-0.png\n",
            "/content/drive/MyDrive/urbansound/spectrograms/5/168846-5-1-1.png\n",
            "/content/drive/MyDrive/urbansound/spectrograms/5/168846-5-1-10.png\n",
            "/content/drive/MyDrive/urbansound/spectrograms/5/168846-5-1-11.png\n",
            "/content/drive/MyDrive/urbansound/spectrograms/5/168846-5-1-12.png\n",
            "/content/drive/MyDrive/urbansound/spectrograms/5/168846-5-1-13.png\n",
            "/content/drive/MyDrive/urbansound/spectrograms/5/168846-5-1-14.png\n",
            "/content/drive/MyDrive/urbansound/spectrograms/5/168846-5-1-2.png\n",
            "/content/drive/MyDrive/urbansound/spectrograms/5/168846-5-1-3.png\n",
            "/content/drive/MyDrive/urbansound/spectrograms/5/168846-5-1-4.png\n"
          ]
        },
        {
          "output_type": "stream",
          "name": "stderr",
          "text": [
            "\r3348it [00:37, 65.50it/s]"
          ]
        },
        {
          "output_type": "stream",
          "name": "stdout",
          "text": [
            "/content/drive/MyDrive/urbansound/spectrograms/5/168846-5-1-5.png\n",
            "/content/drive/MyDrive/urbansound/spectrograms/5/168846-5-1-6.png\n",
            "/content/drive/MyDrive/urbansound/spectrograms/5/168846-5-1-7.png\n",
            "/content/drive/MyDrive/urbansound/spectrograms/5/168846-5-1-8.png\n",
            "/content/drive/MyDrive/urbansound/spectrograms/5/168846-5-1-9.png\n",
            "/content/drive/MyDrive/urbansound/spectrograms/9/168906-9-0-114.png\n",
            "/content/drive/MyDrive/urbansound/spectrograms/9/168906-9-0-128.png\n",
            "/content/drive/MyDrive/urbansound/spectrograms/9/168906-9-0-28.png\n",
            "/content/drive/MyDrive/urbansound/spectrograms/9/168906-9-0-47.png\n",
            "/content/drive/MyDrive/urbansound/spectrograms/9/168906-9-0-73.png\n",
            "/content/drive/MyDrive/urbansound/spectrograms/9/168906-9-0-95.png\n",
            "/content/drive/MyDrive/urbansound/spectrograms/2/169043-2-0-10.png\n",
            "/content/drive/MyDrive/urbansound/spectrograms/2/169043-2-0-13.png\n",
            "/content/drive/MyDrive/urbansound/spectrograms/2/169043-2-0-15.png\n",
            "/content/drive/MyDrive/urbansound/spectrograms/2/169043-2-0-21.png\n"
          ]
        },
        {
          "output_type": "stream",
          "name": "stderr",
          "text": [
            "\r3356it [00:37, 66.56it/s]"
          ]
        },
        {
          "output_type": "stream",
          "name": "stdout",
          "text": [
            "/content/drive/MyDrive/urbansound/spectrograms/2/169043-2-0-24.png\n",
            "/content/drive/MyDrive/urbansound/spectrograms/2/169043-2-0-28.png\n",
            "/content/drive/MyDrive/urbansound/spectrograms/2/169043-2-0-3.png\n",
            "/content/drive/MyDrive/urbansound/spectrograms/2/169044-2-0-10.png\n",
            "/content/drive/MyDrive/urbansound/spectrograms/2/169044-2-0-13.png\n",
            "/content/drive/MyDrive/urbansound/spectrograms/2/169044-2-0-18.png\n",
            "/content/drive/MyDrive/urbansound/spectrograms/2/169044-2-0-21.png\n",
            "/content/drive/MyDrive/urbansound/spectrograms/2/169044-2-0-25.png\n"
          ]
        },
        {
          "output_type": "stream",
          "name": "stderr",
          "text": [
            "3372it [00:37, 59.03it/s]"
          ]
        },
        {
          "output_type": "stream",
          "name": "stdout",
          "text": [
            "/content/drive/MyDrive/urbansound/spectrograms/2/169044-2-0-3.png\n",
            "/content/drive/MyDrive/urbansound/spectrograms/2/169044-2-0-5.png\n",
            "/content/drive/MyDrive/urbansound/spectrograms/2/169045-2-0-0.png\n",
            "/content/drive/MyDrive/urbansound/spectrograms/2/169045-2-0-1.png\n",
            "/content/drive/MyDrive/urbansound/spectrograms/2/169045-2-0-14.png\n",
            "/content/drive/MyDrive/urbansound/spectrograms/2/169045-2-0-16.png\n",
            "/content/drive/MyDrive/urbansound/spectrograms/2/169045-2-0-20.png\n",
            "/content/drive/MyDrive/urbansound/spectrograms/2/169045-2-0-3.png\n",
            "/content/drive/MyDrive/urbansound/spectrograms/2/169045-2-0-8.png\n",
            "/content/drive/MyDrive/urbansound/spectrograms/7/169098-7-0-0.png\n",
            "/content/drive/MyDrive/urbansound/spectrograms/7/169098-7-0-1.png\n",
            "/content/drive/MyDrive/urbansound/spectrograms/7/169098-7-0-2.png\n",
            "/content/drive/MyDrive/urbansound/spectrograms/7/169098-7-0-3.png\n",
            "/content/drive/MyDrive/urbansound/spectrograms/7/169098-7-0-4.png\n"
          ]
        },
        {
          "output_type": "stream",
          "name": "stderr",
          "text": [
            "\r3379it [00:37, 51.83it/s]"
          ]
        },
        {
          "output_type": "stream",
          "name": "stdout",
          "text": [
            "/content/drive/MyDrive/urbansound/spectrograms/7/169098-7-0-5.png\n",
            "/content/drive/MyDrive/urbansound/spectrograms/7/169098-7-0-6.png\n",
            "/content/drive/MyDrive/urbansound/spectrograms/7/169098-7-0-7.png\n",
            "/content/drive/MyDrive/urbansound/spectrograms/7/169098-7-0-8.png\n",
            "/content/drive/MyDrive/urbansound/spectrograms/7/169098-7-0-9.png\n",
            "/content/drive/MyDrive/urbansound/spectrograms/7/169098-7-1-0.png\n",
            "/content/drive/MyDrive/urbansound/spectrograms/7/169098-7-2-0.png\n",
            "/content/drive/MyDrive/urbansound/spectrograms/7/169098-7-3-0.png\n"
          ]
        },
        {
          "output_type": "stream",
          "name": "stderr",
          "text": [
            "3393it [00:37, 55.15it/s]"
          ]
        },
        {
          "output_type": "stream",
          "name": "stdout",
          "text": [
            "/content/drive/MyDrive/urbansound/spectrograms/7/169098-7-3-1.png\n",
            "/content/drive/MyDrive/urbansound/spectrograms/7/169098-7-4-0.png\n",
            "/content/drive/MyDrive/urbansound/spectrograms/7/169098-7-4-1.png\n",
            "/content/drive/MyDrive/urbansound/spectrograms/7/169098-7-4-10.png\n",
            "/content/drive/MyDrive/urbansound/spectrograms/7/169098-7-4-11.png\n",
            "/content/drive/MyDrive/urbansound/spectrograms/7/169098-7-4-2.png\n",
            "/content/drive/MyDrive/urbansound/spectrograms/7/169098-7-4-3.png\n",
            "/content/drive/MyDrive/urbansound/spectrograms/7/169098-7-4-4.png\n",
            "/content/drive/MyDrive/urbansound/spectrograms/7/169098-7-4-5.png\n",
            "/content/drive/MyDrive/urbansound/spectrograms/7/169098-7-4-6.png\n",
            "/content/drive/MyDrive/urbansound/spectrograms/7/169098-7-4-7.png\n"
          ]
        },
        {
          "output_type": "stream",
          "name": "stderr",
          "text": [
            "\r3399it [00:38, 43.78it/s]"
          ]
        },
        {
          "output_type": "stream",
          "name": "stdout",
          "text": [
            "/content/drive/MyDrive/urbansound/spectrograms/7/169098-7-4-8.png\n",
            "/content/drive/MyDrive/urbansound/spectrograms/7/169098-7-4-9.png\n",
            "/content/drive/MyDrive/urbansound/spectrograms/6/169261-6-0-0.png\n",
            "/content/drive/MyDrive/urbansound/spectrograms/4/169466-4-0-12.png\n",
            "/content/drive/MyDrive/urbansound/spectrograms/4/169466-4-0-7.png\n",
            "/content/drive/MyDrive/urbansound/spectrograms/4/169466-4-0-8.png\n",
            "/content/drive/MyDrive/urbansound/spectrograms/4/169466-4-1-3.png\n",
            "/content/drive/MyDrive/urbansound/spectrograms/4/169466-4-1-5.png\n",
            "/content/drive/MyDrive/urbansound/spectrograms/4/169466-4-1-8.png\n",
            "/content/drive/MyDrive/urbansound/spectrograms/4/169466-4-2-17.png\n",
            "/content/drive/MyDrive/urbansound/spectrograms/4/169466-4-2-18.png\n"
          ]
        },
        {
          "output_type": "stream",
          "name": "stderr",
          "text": [
            "3413it [00:38, 47.13it/s]"
          ]
        },
        {
          "output_type": "stream",
          "name": "stdout",
          "text": [
            "/content/drive/MyDrive/urbansound/spectrograms/4/169466-4-2-2.png\n",
            "/content/drive/MyDrive/urbansound/spectrograms/4/169466-4-2-21.png\n",
            "/content/drive/MyDrive/urbansound/spectrograms/4/169466-4-2-4.png\n",
            "/content/drive/MyDrive/urbansound/spectrograms/4/169466-4-2-6.png\n",
            "/content/drive/MyDrive/urbansound/spectrograms/4/169466-4-2-8.png\n",
            "/content/drive/MyDrive/urbansound/spectrograms/4/169466-4-3-1.png\n",
            "/content/drive/MyDrive/urbansound/spectrograms/4/169466-4-3-10.png\n",
            "/content/drive/MyDrive/urbansound/spectrograms/4/169466-4-3-12.png\n",
            "/content/drive/MyDrive/urbansound/spectrograms/4/169466-4-3-14.png\n",
            "/content/drive/MyDrive/urbansound/spectrograms/4/169466-4-3-3.png\n",
            "/content/drive/MyDrive/urbansound/spectrograms/4/169466-4-3-7.png\n",
            "/content/drive/MyDrive/urbansound/spectrograms/4/169466-4-3-8.png\n",
            "/content/drive/MyDrive/urbansound/spectrograms/4/169466-4-3-9.png\n"
          ]
        },
        {
          "output_type": "stream",
          "name": "stderr",
          "text": [
            "3427it [00:38, 53.63it/s]"
          ]
        },
        {
          "output_type": "stream",
          "name": "stdout",
          "text": [
            "/content/drive/MyDrive/urbansound/spectrograms/3/170015-3-0-0.png\n",
            "/content/drive/MyDrive/urbansound/spectrograms/0/170022-0-0-0.png\n",
            "/content/drive/MyDrive/urbansound/spectrograms/0/170022-0-0-1.png\n",
            "/content/drive/MyDrive/urbansound/spectrograms/2/17009-2-0-0.png\n",
            "/content/drive/MyDrive/urbansound/spectrograms/2/17009-2-0-1.png\n",
            "/content/drive/MyDrive/urbansound/spectrograms/2/17009-2-0-10.png\n",
            "/content/drive/MyDrive/urbansound/spectrograms/2/17009-2-0-3.png\n",
            "/content/drive/MyDrive/urbansound/spectrograms/2/17009-2-0-4.png\n",
            "/content/drive/MyDrive/urbansound/spectrograms/2/17009-2-0-6.png\n",
            "/content/drive/MyDrive/urbansound/spectrograms/2/17009-2-0-9.png\n",
            "/content/drive/MyDrive/urbansound/spectrograms/1/170243-1-0-0.png\n",
            "/content/drive/MyDrive/urbansound/spectrograms/0/170245-0-0-0.png\n"
          ]
        },
        {
          "output_type": "stream",
          "name": "stderr",
          "text": [
            "3440it [00:38, 58.69it/s]"
          ]
        },
        {
          "output_type": "stream",
          "name": "stdout",
          "text": [
            "/content/drive/MyDrive/urbansound/spectrograms/2/170564-2-0-0.png\n",
            "/content/drive/MyDrive/urbansound/spectrograms/2/170564-2-0-3.png\n",
            "/content/drive/MyDrive/urbansound/spectrograms/2/170564-2-1-22.png\n",
            "/content/drive/MyDrive/urbansound/spectrograms/2/170564-2-1-27.png\n",
            "/content/drive/MyDrive/urbansound/spectrograms/2/170564-2-1-31.png\n",
            "/content/drive/MyDrive/urbansound/spectrograms/2/170564-2-1-32.png\n",
            "/content/drive/MyDrive/urbansound/spectrograms/2/170564-2-1-34.png\n",
            "/content/drive/MyDrive/urbansound/spectrograms/2/170564-2-1-9.png\n",
            "/content/drive/MyDrive/urbansound/spectrograms/1/17074-1-0-0.png\n",
            "/content/drive/MyDrive/urbansound/spectrograms/9/171165-9-0-103.png\n",
            "/content/drive/MyDrive/urbansound/spectrograms/9/171165-9-0-15.png\n",
            "/content/drive/MyDrive/urbansound/spectrograms/9/171165-9-0-19.png\n",
            "/content/drive/MyDrive/urbansound/spectrograms/9/171165-9-0-54.png\n",
            "/content/drive/MyDrive/urbansound/spectrograms/9/171165-9-0-70.png\n",
            "/content/drive/MyDrive/urbansound/spectrograms/9/171165-9-0-84.png\n"
          ]
        },
        {
          "output_type": "stream",
          "name": "stderr",
          "text": [
            "3454it [00:39, 60.26it/s]"
          ]
        },
        {
          "output_type": "stream",
          "name": "stdout",
          "text": [
            "/content/drive/MyDrive/urbansound/spectrograms/9/171184-9-0-17.png\n",
            "/content/drive/MyDrive/urbansound/spectrograms/9/171184-9-0-18.png\n",
            "/content/drive/MyDrive/urbansound/spectrograms/9/171184-9-0-19.png\n",
            "/content/drive/MyDrive/urbansound/spectrograms/9/171184-9-0-23.png\n",
            "/content/drive/MyDrive/urbansound/spectrograms/9/171184-9-0-6.png\n",
            "/content/drive/MyDrive/urbansound/spectrograms/9/171184-9-0-7.png\n",
            "/content/drive/MyDrive/urbansound/spectrograms/1/17124-1-0-0.png\n",
            "/content/drive/MyDrive/urbansound/spectrograms/9/171243-9-0-11.png\n",
            "/content/drive/MyDrive/urbansound/spectrograms/9/171243-9-0-123.png\n",
            "/content/drive/MyDrive/urbansound/spectrograms/9/171243-9-0-31.png\n",
            "/content/drive/MyDrive/urbansound/spectrograms/9/171243-9-0-49.png\n",
            "/content/drive/MyDrive/urbansound/spectrograms/9/171243-9-0-81.png\n",
            "/content/drive/MyDrive/urbansound/spectrograms/9/171243-9-0-85.png\n",
            "/content/drive/MyDrive/urbansound/spectrograms/9/171243-9-0-91.png\n"
          ]
        },
        {
          "output_type": "stream",
          "name": "stderr",
          "text": [
            "3468it [00:39, 61.80it/s]"
          ]
        },
        {
          "output_type": "stream",
          "name": "stdout",
          "text": [
            "/content/drive/MyDrive/urbansound/spectrograms/1/171249-1-0-0.png\n",
            "/content/drive/MyDrive/urbansound/spectrograms/1/171249-1-1-0.png\n",
            "/content/drive/MyDrive/urbansound/spectrograms/1/171249-1-2-0.png\n",
            "/content/drive/MyDrive/urbansound/spectrograms/7/171305-7-0-0.png\n",
            "/content/drive/MyDrive/urbansound/spectrograms/7/171305-7-1-0.png\n",
            "/content/drive/MyDrive/urbansound/spectrograms/7/171305-7-10-0.png\n",
            "/content/drive/MyDrive/urbansound/spectrograms/7/171305-7-11-0.png\n",
            "/content/drive/MyDrive/urbansound/spectrograms/7/171305-7-12-0.png\n",
            "/content/drive/MyDrive/urbansound/spectrograms/7/171305-7-13-0.png\n",
            "/content/drive/MyDrive/urbansound/spectrograms/7/171305-7-14-0.png\n",
            "/content/drive/MyDrive/urbansound/spectrograms/7/171305-7-15-0.png\n",
            "/content/drive/MyDrive/urbansound/spectrograms/7/171305-7-16-0.png\n",
            "/content/drive/MyDrive/urbansound/spectrograms/7/171305-7-17-0.png\n",
            "/content/drive/MyDrive/urbansound/spectrograms/7/171305-7-18-0.png\n"
          ]
        },
        {
          "output_type": "stream",
          "name": "stderr",
          "text": [
            "3482it [00:39, 64.00it/s]"
          ]
        },
        {
          "output_type": "stream",
          "name": "stdout",
          "text": [
            "/content/drive/MyDrive/urbansound/spectrograms/7/171305-7-19-0.png\n",
            "/content/drive/MyDrive/urbansound/spectrograms/7/171305-7-2-0.png\n",
            "/content/drive/MyDrive/urbansound/spectrograms/7/171305-7-20-0.png\n",
            "/content/drive/MyDrive/urbansound/spectrograms/7/171305-7-21-0.png\n",
            "/content/drive/MyDrive/urbansound/spectrograms/7/171305-7-22-0.png\n",
            "/content/drive/MyDrive/urbansound/spectrograms/7/171305-7-23-0.png\n",
            "/content/drive/MyDrive/urbansound/spectrograms/7/171305-7-24-0.png\n",
            "/content/drive/MyDrive/urbansound/spectrograms/7/171305-7-25-0.png\n",
            "/content/drive/MyDrive/urbansound/spectrograms/7/171305-7-26-0.png\n",
            "/content/drive/MyDrive/urbansound/spectrograms/7/171305-7-27-0.png\n",
            "/content/drive/MyDrive/urbansound/spectrograms/7/171305-7-28-0.png\n",
            "/content/drive/MyDrive/urbansound/spectrograms/7/171305-7-29-0.png\n",
            "/content/drive/MyDrive/urbansound/spectrograms/7/171305-7-3-0.png\n",
            "/content/drive/MyDrive/urbansound/spectrograms/7/171305-7-4-0.png\n"
          ]
        },
        {
          "output_type": "stream",
          "name": "stderr",
          "text": [
            "3503it [00:39, 65.51it/s]"
          ]
        },
        {
          "output_type": "stream",
          "name": "stdout",
          "text": [
            "/content/drive/MyDrive/urbansound/spectrograms/7/171305-7-5-0.png\n",
            "/content/drive/MyDrive/urbansound/spectrograms/7/171305-7-6-0.png\n",
            "/content/drive/MyDrive/urbansound/spectrograms/7/171305-7-7-0.png\n",
            "/content/drive/MyDrive/urbansound/spectrograms/7/171305-7-8-0.png\n",
            "/content/drive/MyDrive/urbansound/spectrograms/7/171305-7-8-1.png\n",
            "/content/drive/MyDrive/urbansound/spectrograms/7/171305-7-9-0.png\n",
            "/content/drive/MyDrive/urbansound/spectrograms/9/171388-9-0-202.png\n",
            "/content/drive/MyDrive/urbansound/spectrograms/9/171388-9-0-225.png\n",
            "/content/drive/MyDrive/urbansound/spectrograms/9/171388-9-0-246.png\n",
            "/content/drive/MyDrive/urbansound/spectrograms/9/171388-9-0-253.png\n",
            "/content/drive/MyDrive/urbansound/spectrograms/9/171388-9-0-43.png\n",
            "/content/drive/MyDrive/urbansound/spectrograms/9/171388-9-0-88.png\n",
            "/content/drive/MyDrive/urbansound/spectrograms/9/171406-9-0-124.png\n",
            "/content/drive/MyDrive/urbansound/spectrograms/9/171406-9-0-183.png\n"
          ]
        },
        {
          "output_type": "stream",
          "name": "stderr",
          "text": [
            "\r3510it [00:39, 64.10it/s]"
          ]
        },
        {
          "output_type": "stream",
          "name": "stdout",
          "text": [
            "/content/drive/MyDrive/urbansound/spectrograms/9/171406-9-0-23.png\n",
            "/content/drive/MyDrive/urbansound/spectrograms/9/171406-9-0-57.png\n",
            "/content/drive/MyDrive/urbansound/spectrograms/9/171406-9-0-7.png\n",
            "/content/drive/MyDrive/urbansound/spectrograms/9/171406-9-0-90.png\n",
            "/content/drive/MyDrive/urbansound/spectrograms/3/171464-3-0-0.png\n",
            "/content/drive/MyDrive/urbansound/spectrograms/3/171464-3-1-0.png\n",
            "/content/drive/MyDrive/urbansound/spectrograms/3/171464-3-2-0.png\n",
            "/content/drive/MyDrive/urbansound/spectrograms/9/171478-9-0-26.png\n",
            "/content/drive/MyDrive/urbansound/spectrograms/9/171478-9-0-28.png\n",
            "/content/drive/MyDrive/urbansound/spectrograms/9/171478-9-0-38.png\n",
            "/content/drive/MyDrive/urbansound/spectrograms/9/171478-9-0-4.png\n",
            "/content/drive/MyDrive/urbansound/spectrograms/9/171478-9-0-55.png\n",
            "/content/drive/MyDrive/urbansound/spectrograms/9/171478-9-0-57.png\n",
            "/content/drive/MyDrive/urbansound/spectrograms/9/171478-9-0-58.png\n",
            "/content/drive/MyDrive/urbansound/spectrograms/9/172314-9-0-22.png\n"
          ]
        },
        {
          "output_type": "stream",
          "name": "stderr",
          "text": [
            "3525it [00:40, 64.35it/s]"
          ]
        },
        {
          "output_type": "stream",
          "name": "stdout",
          "text": [
            "/content/drive/MyDrive/urbansound/spectrograms/9/172314-9-0-40.png\n",
            "/content/drive/MyDrive/urbansound/spectrograms/9/172314-9-0-51.png\n",
            "/content/drive/MyDrive/urbansound/spectrograms/9/172314-9-0-52.png\n",
            "/content/drive/MyDrive/urbansound/spectrograms/9/172314-9-0-72.png\n",
            "/content/drive/MyDrive/urbansound/spectrograms/9/172314-9-0-80.png\n",
            "/content/drive/MyDrive/urbansound/spectrograms/9/172315-9-0-105.png\n",
            "/content/drive/MyDrive/urbansound/spectrograms/9/172315-9-0-113.png\n",
            "/content/drive/MyDrive/urbansound/spectrograms/9/172315-9-0-203.png\n",
            "/content/drive/MyDrive/urbansound/spectrograms/9/172315-9-0-211.png\n",
            "/content/drive/MyDrive/urbansound/spectrograms/9/172315-9-0-212.png\n",
            "/content/drive/MyDrive/urbansound/spectrograms/9/172315-9-0-224.png\n",
            "/content/drive/MyDrive/urbansound/spectrograms/9/172338-9-0-1.png"
          ]
        },
        {
          "output_type": "stream",
          "name": "stderr",
          "text": [
            "3540it [00:40, 60.12it/s]"
          ]
        },
        {
          "output_type": "stream",
          "name": "stdout",
          "text": [
            "\n",
            "/content/drive/MyDrive/urbansound/spectrograms/9/172338-9-0-20.png\n",
            "/content/drive/MyDrive/urbansound/spectrograms/9/172338-9-0-21.png\n",
            "/content/drive/MyDrive/urbansound/spectrograms/9/172338-9-0-39.png\n",
            "/content/drive/MyDrive/urbansound/spectrograms/9/172338-9-0-6.png\n",
            "/content/drive/MyDrive/urbansound/spectrograms/9/172338-9-0-7.png\n",
            "/content/drive/MyDrive/urbansound/spectrograms/9/172460-9-0-100.png\n",
            "/content/drive/MyDrive/urbansound/spectrograms/9/172460-9-0-101.png\n",
            "/content/drive/MyDrive/urbansound/spectrograms/9/172460-9-0-24.png\n",
            "/content/drive/MyDrive/urbansound/spectrograms/9/172460-9-0-31.png\n",
            "/content/drive/MyDrive/urbansound/spectrograms/9/172460-9-0-91.png\n",
            "/content/drive/MyDrive/urbansound/spectrograms/9/172460-9-0-94.png\n",
            "/content/drive/MyDrive/urbansound/spectrograms/9/172519-9-0-10.png\n"
          ]
        },
        {
          "output_type": "stream",
          "name": "stderr",
          "text": [
            "3554it [00:40, 62.93it/s]"
          ]
        },
        {
          "output_type": "stream",
          "name": "stdout",
          "text": [
            "/content/drive/MyDrive/urbansound/spectrograms/9/172519-9-0-13.png\n",
            "/content/drive/MyDrive/urbansound/spectrograms/9/172519-9-0-49.png\n",
            "/content/drive/MyDrive/urbansound/spectrograms/9/172519-9-0-53.png\n",
            "/content/drive/MyDrive/urbansound/spectrograms/9/172519-9-0-67.png\n",
            "/content/drive/MyDrive/urbansound/spectrograms/9/172519-9-0-8.png\n",
            "/content/drive/MyDrive/urbansound/spectrograms/2/172593-2-0-10.png\n",
            "/content/drive/MyDrive/urbansound/spectrograms/2/172593-2-0-13.png\n",
            "/content/drive/MyDrive/urbansound/spectrograms/2/172593-2-0-14.png\n",
            "/content/drive/MyDrive/urbansound/spectrograms/2/172593-2-0-18.png\n",
            "/content/drive/MyDrive/urbansound/spectrograms/2/172593-2-0-22.png\n",
            "/content/drive/MyDrive/urbansound/spectrograms/2/172593-2-0-27.png\n",
            "/content/drive/MyDrive/urbansound/spectrograms/2/172593-2-0-28.png\n",
            "/content/drive/MyDrive/urbansound/spectrograms/2/172593-2-0-29.png\n",
            "/content/drive/MyDrive/urbansound/spectrograms/1/17307-1-0-0.png\n"
          ]
        },
        {
          "output_type": "stream",
          "name": "stderr",
          "text": [
            "3568it [00:40, 65.29it/s]"
          ]
        },
        {
          "output_type": "stream",
          "name": "stdout",
          "text": [
            "/content/drive/MyDrive/urbansound/spectrograms/9/173891-9-0-1.png\n",
            "/content/drive/MyDrive/urbansound/spectrograms/9/173891-9-0-10.png\n",
            "/content/drive/MyDrive/urbansound/spectrograms/9/173891-9-0-11.png\n",
            "/content/drive/MyDrive/urbansound/spectrograms/9/173891-9-0-17.png\n",
            "/content/drive/MyDrive/urbansound/spectrograms/9/173891-9-0-2.png\n",
            "/content/drive/MyDrive/urbansound/spectrograms/9/173891-9-0-7.png\n",
            "/content/drive/MyDrive/urbansound/spectrograms/3/173993-3-0-25.png\n",
            "/content/drive/MyDrive/urbansound/spectrograms/3/173993-3-0-39.png\n",
            "/content/drive/MyDrive/urbansound/spectrograms/3/173993-3-0-51.png\n",
            "/content/drive/MyDrive/urbansound/spectrograms/3/173993-3-0-52.png\n",
            "/content/drive/MyDrive/urbansound/spectrograms/3/173994-3-0-14.png\n",
            "/content/drive/MyDrive/urbansound/spectrograms/3/173994-3-0-3.png\n",
            "/content/drive/MyDrive/urbansound/spectrograms/3/173994-3-0-44.png\n",
            "/content/drive/MyDrive/urbansound/spectrograms/3/173994-3-0-45.png\n",
            "/content/drive/MyDrive/urbansound/spectrograms/3/173995-3-0-0.png\n"
          ]
        },
        {
          "output_type": "stream",
          "name": "stderr",
          "text": [
            "3582it [00:41, 65.52it/s]"
          ]
        },
        {
          "output_type": "stream",
          "name": "stdout",
          "text": [
            "/content/drive/MyDrive/urbansound/spectrograms/3/173995-3-0-11.png\n",
            "/content/drive/MyDrive/urbansound/spectrograms/3/173995-3-0-27.png\n",
            "/content/drive/MyDrive/urbansound/spectrograms/3/173995-3-0-3.png\n",
            "/content/drive/MyDrive/urbansound/spectrograms/3/174026-3-1-0.png\n",
            "/content/drive/MyDrive/urbansound/spectrograms/3/174026-3-1-1.png\n",
            "/content/drive/MyDrive/urbansound/spectrograms/3/174026-3-1-5.png\n",
            "/content/drive/MyDrive/urbansound/spectrograms/3/174026-3-2-2.png\n",
            "/content/drive/MyDrive/urbansound/spectrograms/2/174032-2-0-1.png\n",
            "/content/drive/MyDrive/urbansound/spectrograms/2/174032-2-0-11.png\n",
            "/content/drive/MyDrive/urbansound/spectrograms/2/174032-2-0-17.png\n",
            "/content/drive/MyDrive/urbansound/spectrograms/2/174032-2-0-18.png\n",
            "/content/drive/MyDrive/urbansound/spectrograms/2/174032-2-0-22.png\n",
            "/content/drive/MyDrive/urbansound/spectrograms/2/174032-2-0-26.png\n",
            "/content/drive/MyDrive/urbansound/spectrograms/2/174032-2-0-4.png\n"
          ]
        },
        {
          "output_type": "stream",
          "name": "stderr",
          "text": [
            "3597it [00:41, 65.20it/s]"
          ]
        },
        {
          "output_type": "stream",
          "name": "stdout",
          "text": [
            "/content/drive/MyDrive/urbansound/spectrograms/7/174276-7-0-0.png\n",
            "/content/drive/MyDrive/urbansound/spectrograms/7/174276-7-1-0.png\n",
            "/content/drive/MyDrive/urbansound/spectrograms/7/174276-7-2-0.png\n",
            "/content/drive/MyDrive/urbansound/spectrograms/7/174276-7-3-0.png\n",
            "/content/drive/MyDrive/urbansound/spectrograms/7/174276-7-4-0.png\n",
            "/content/drive/MyDrive/urbansound/spectrograms/7/174276-7-5-0.png\n",
            "/content/drive/MyDrive/urbansound/spectrograms/7/174276-7-6-0.png\n",
            "/content/drive/MyDrive/urbansound/spectrograms/6/174282-6-0-0.png\n",
            "/content/drive/MyDrive/urbansound/spectrograms/6/174282-6-1-0.png\n",
            "/content/drive/MyDrive/urbansound/spectrograms/6/174282-6-2-0.png\n",
            "/content/drive/MyDrive/urbansound/spectrograms/6/174284-6-0-0.png\n",
            "/content/drive/MyDrive/urbansound/spectrograms/6/174284-6-1-0.png\n",
            "/content/drive/MyDrive/urbansound/spectrograms/6/174284-6-2-0.png\n",
            "/content/drive/MyDrive/urbansound/spectrograms/6/174285-6-0-0.png\n"
          ]
        },
        {
          "output_type": "stream",
          "name": "stderr",
          "text": [
            "3613it [00:41, 67.03it/s]"
          ]
        },
        {
          "output_type": "stream",
          "name": "stdout",
          "text": [
            "/content/drive/MyDrive/urbansound/spectrograms/6/174285-6-1-0.png\n",
            "/content/drive/MyDrive/urbansound/spectrograms/6/174285-6-2-0.png\n",
            "/content/drive/MyDrive/urbansound/spectrograms/6/174287-6-0-0.png\n",
            "/content/drive/MyDrive/urbansound/spectrograms/6/174287-6-1-0.png\n",
            "/content/drive/MyDrive/urbansound/spectrograms/6/174287-6-2-0.png\n",
            "/content/drive/MyDrive/urbansound/spectrograms/6/174287-6-3-0.png\n",
            "/content/drive/MyDrive/urbansound/spectrograms/6/174289-6-0-0.png\n",
            "/content/drive/MyDrive/urbansound/spectrograms/6/174289-6-1-0.png\n",
            "/content/drive/MyDrive/urbansound/spectrograms/6/174289-6-2-0.png\n",
            "/content/drive/MyDrive/urbansound/spectrograms/6/174289-6-3-0.png\n",
            "/content/drive/MyDrive/urbansound/spectrograms/6/174290-6-0-0.png\n",
            "/content/drive/MyDrive/urbansound/spectrograms/6/174290-6-1-0.png\n",
            "/content/drive/MyDrive/urbansound/spectrograms/6/174290-6-2-0.png\n",
            "/content/drive/MyDrive/urbansound/spectrograms/6/174290-6-3-0.png\n",
            "/content/drive/MyDrive/urbansound/spectrograms/6/174292-6-0-0.png\n"
          ]
        },
        {
          "output_type": "stream",
          "name": "stderr",
          "text": [
            "3627it [00:41, 66.44it/s]"
          ]
        },
        {
          "output_type": "stream",
          "name": "stdout",
          "text": [
            "/content/drive/MyDrive/urbansound/spectrograms/6/174292-6-1-0.png\n",
            "/content/drive/MyDrive/urbansound/spectrograms/6/174292-6-2-0.png\n",
            "/content/drive/MyDrive/urbansound/spectrograms/6/174293-6-0-0.png\n",
            "/content/drive/MyDrive/urbansound/spectrograms/6/174293-6-1-0.png\n",
            "/content/drive/MyDrive/urbansound/spectrograms/6/174293-6-2-0.png\n",
            "/content/drive/MyDrive/urbansound/spectrograms/6/174294-6-0-0.png\n",
            "/content/drive/MyDrive/urbansound/spectrograms/6/174294-6-1-0.png\n",
            "/content/drive/MyDrive/urbansound/spectrograms/6/174294-6-2-0.png\n",
            "/content/drive/MyDrive/urbansound/spectrograms/2/174786-2-0-18.png\n",
            "/content/drive/MyDrive/urbansound/spectrograms/2/174786-2-0-19.png\n",
            "/content/drive/MyDrive/urbansound/spectrograms/2/174786-2-0-27.png\n",
            "/content/drive/MyDrive/urbansound/spectrograms/2/174786-2-0-30.png\n",
            "/content/drive/MyDrive/urbansound/spectrograms/2/174786-2-0-39.png\n",
            "/content/drive/MyDrive/urbansound/spectrograms/2/174786-2-0-60.png\n"
          ]
        },
        {
          "output_type": "stream",
          "name": "stderr",
          "text": [
            "3642it [00:41, 67.51it/s]"
          ]
        },
        {
          "output_type": "stream",
          "name": "stdout",
          "text": [
            "/content/drive/MyDrive/urbansound/spectrograms/2/174786-2-0-75.png\n",
            "/content/drive/MyDrive/urbansound/spectrograms/2/174786-2-0-89.png\n",
            "/content/drive/MyDrive/urbansound/spectrograms/2/17480-2-0-11.png\n",
            "/content/drive/MyDrive/urbansound/spectrograms/2/17480-2-0-24.png\n",
            "/content/drive/MyDrive/urbansound/spectrograms/2/17480-2-0-25.png\n",
            "/content/drive/MyDrive/urbansound/spectrograms/2/17480-2-0-30.png\n",
            "/content/drive/MyDrive/urbansound/spectrograms/2/17480-2-0-35.png\n",
            "/content/drive/MyDrive/urbansound/spectrograms/2/17480-2-0-5.png\n",
            "/content/drive/MyDrive/urbansound/spectrograms/2/17480-2-0-6.png\n",
            "/content/drive/MyDrive/urbansound/spectrograms/2/17480-2-0-9.png\n",
            "/content/drive/MyDrive/urbansound/spectrograms/1/174840-1-0-0.png\n",
            "/content/drive/MyDrive/urbansound/spectrograms/1/174841-1-0-0.png\n",
            "/content/drive/MyDrive/urbansound/spectrograms/3/17486-3-0-0.png\n",
            "/content/drive/MyDrive/urbansound/spectrograms/3/17486-3-1-0.png\n",
            "/content/drive/MyDrive/urbansound/spectrograms/3/17486-3-2-0.png\n"
          ]
        },
        {
          "output_type": "stream",
          "name": "stderr",
          "text": [
            "3656it [00:42, 67.10it/s]"
          ]
        },
        {
          "output_type": "stream",
          "name": "stdout",
          "text": [
            "/content/drive/MyDrive/urbansound/spectrograms/3/174873-3-5-1.png\n",
            "/content/drive/MyDrive/urbansound/spectrograms/3/174873-3-5-10.png\n",
            "/content/drive/MyDrive/urbansound/spectrograms/3/174873-3-5-12.png\n",
            "/content/drive/MyDrive/urbansound/spectrograms/3/174873-3-5-13.png\n",
            "/content/drive/MyDrive/urbansound/spectrograms/2/174906-2-0-10.png\n",
            "/content/drive/MyDrive/urbansound/spectrograms/2/174906-2-0-11.png\n",
            "/content/drive/MyDrive/urbansound/spectrograms/2/174906-2-0-14.png\n",
            "/content/drive/MyDrive/urbansound/spectrograms/2/174906-2-0-18.png\n",
            "/content/drive/MyDrive/urbansound/spectrograms/2/174906-2-0-20.png\n",
            "/content/drive/MyDrive/urbansound/spectrograms/2/174906-2-0-21.png\n",
            "/content/drive/MyDrive/urbansound/spectrograms/2/174906-2-0-6.png\n",
            "/content/drive/MyDrive/urbansound/spectrograms/2/174906-2-0-8.png\n",
            "/content/drive/MyDrive/urbansound/spectrograms/3/174994-3-0-0.png\n",
            "/content/drive/MyDrive/urbansound/spectrograms/3/174994-3-0-1.png\n"
          ]
        },
        {
          "output_type": "stream",
          "name": "stderr",
          "text": [
            "\r3663it [00:42, 64.04it/s]"
          ]
        },
        {
          "output_type": "stream",
          "name": "stdout",
          "text": [
            "/content/drive/MyDrive/urbansound/spectrograms/3/174994-3-0-2.png\n",
            "/content/drive/MyDrive/urbansound/spectrograms/3/174994-3-0-4.png\n",
            "/content/drive/MyDrive/urbansound/spectrograms/2/175296-2-0-123.png\n",
            "/content/drive/MyDrive/urbansound/spectrograms/2/175296-2-0-128.png\n",
            "/content/drive/MyDrive/urbansound/spectrograms/2/175296-2-0-140.png\n",
            "/content/drive/MyDrive/urbansound/spectrograms/2/175296-2-0-212.png\n",
            "/content/drive/MyDrive/urbansound/spectrograms/2/175296-2-0-3.png\n",
            "/content/drive/MyDrive/urbansound/spectrograms/2/175296-2-0-54.png\n",
            "/content/drive/MyDrive/urbansound/spectrograms/2/175296-2-0-76.png\n",
            "/content/drive/MyDrive/urbansound/spectrograms/2/175296-2-0-86.png\n",
            "/content/drive/MyDrive/urbansound/spectrograms/5/17578-5-0-0.png\n"
          ]
        },
        {
          "output_type": "stream",
          "name": "stderr",
          "text": [
            "\r3670it [00:42, 51.25it/s]"
          ]
        },
        {
          "output_type": "stream",
          "name": "stdout",
          "text": [
            "/content/drive/MyDrive/urbansound/spectrograms/5/17578-5-0-1.png\n",
            "/content/drive/MyDrive/urbansound/spectrograms/5/17578-5-0-10.png\n",
            "/content/drive/MyDrive/urbansound/spectrograms/5/17578-5-0-11.png\n",
            "/content/drive/MyDrive/urbansound/spectrograms/5/17578-5-0-12.png\n",
            "/content/drive/MyDrive/urbansound/spectrograms/5/17578-5-0-14.png\n"
          ]
        },
        {
          "output_type": "stream",
          "name": "stderr",
          "text": [
            "\r3676it [00:42, 40.76it/s]"
          ]
        },
        {
          "output_type": "stream",
          "name": "stdout",
          "text": [
            "/content/drive/MyDrive/urbansound/spectrograms/5/17578-5-0-15.png\n",
            "/content/drive/MyDrive/urbansound/spectrograms/5/17578-5-0-16.png\n",
            "/content/drive/MyDrive/urbansound/spectrograms/5/17578-5-0-18.png\n",
            "/content/drive/MyDrive/urbansound/spectrograms/5/17578-5-0-2.png\n",
            "/content/drive/MyDrive/urbansound/spectrograms/5/17578-5-0-21.png\n",
            "/content/drive/MyDrive/urbansound/spectrograms/5/17578-5-0-22.png\n"
          ]
        },
        {
          "output_type": "stream",
          "name": "stderr",
          "text": [
            "\r3681it [00:42, 35.51it/s]"
          ]
        },
        {
          "output_type": "stream",
          "name": "stdout",
          "text": [
            "/content/drive/MyDrive/urbansound/spectrograms/5/17578-5-0-23.png\n",
            "/content/drive/MyDrive/urbansound/spectrograms/5/17578-5-0-24.png\n",
            "/content/drive/MyDrive/urbansound/spectrograms/5/17578-5-0-25.png\n",
            "/content/drive/MyDrive/urbansound/spectrograms/5/17578-5-0-26.png\n",
            "/content/drive/MyDrive/urbansound/spectrograms/5/17578-5-0-27.png\n"
          ]
        },
        {
          "output_type": "stream",
          "name": "stderr",
          "text": [
            "\r3686it [00:43, 30.10it/s]"
          ]
        },
        {
          "output_type": "stream",
          "name": "stdout",
          "text": [
            "/content/drive/MyDrive/urbansound/spectrograms/5/17578-5-0-28.png\n",
            "/content/drive/MyDrive/urbansound/spectrograms/5/17578-5-0-29.png\n",
            "/content/drive/MyDrive/urbansound/spectrograms/5/17578-5-0-3.png\n",
            "/content/drive/MyDrive/urbansound/spectrograms/5/17578-5-0-30.png\n",
            "/content/drive/MyDrive/urbansound/spectrograms/5/17578-5-0-31.png\n",
            "/content/drive/MyDrive/urbansound/spectrograms/5/17578-5-0-32.png\n",
            "/content/drive/MyDrive/urbansound/spectrograms/5/17578-5-0-33.png\n"
          ]
        },
        {
          "output_type": "stream",
          "name": "stderr",
          "text": [
            "3695it [00:43, 29.28it/s]"
          ]
        },
        {
          "output_type": "stream",
          "name": "stdout",
          "text": [
            "/content/drive/MyDrive/urbansound/spectrograms/5/17578-5-0-34.png\n",
            "/content/drive/MyDrive/urbansound/spectrograms/5/17578-5-0-35.png\n",
            "/content/drive/MyDrive/urbansound/spectrograms/5/17578-5-0-4.png\n",
            "/content/drive/MyDrive/urbansound/spectrograms/5/17578-5-0-5.png\n",
            "/content/drive/MyDrive/urbansound/spectrograms/5/17578-5-0-6.png\n",
            "/content/drive/MyDrive/urbansound/spectrograms/5/17578-5-0-7.png\n",
            "/content/drive/MyDrive/urbansound/spectrograms/5/17578-5-0-8.png"
          ]
        },
        {
          "output_type": "stream",
          "name": "stderr",
          "text": [
            "\r3699it [00:43, 28.66it/s]"
          ]
        },
        {
          "output_type": "stream",
          "name": "stdout",
          "text": [
            "\n",
            "/content/drive/MyDrive/urbansound/spectrograms/5/17578-5-0-9.png\n",
            "/content/drive/MyDrive/urbansound/spectrograms/1/175842-1-0-0.png\n",
            "/content/drive/MyDrive/urbansound/spectrograms/1/175843-1-0-0.png\n",
            "/content/drive/MyDrive/urbansound/spectrograms/1/175844-1-0-0.png\n",
            "/content/drive/MyDrive/urbansound/spectrograms/1/175845-1-0-0.png\n"
          ]
        },
        {
          "output_type": "stream",
          "name": "stderr",
          "text": [
            "3707it [00:43, 29.76it/s]"
          ]
        },
        {
          "output_type": "stream",
          "name": "stdout",
          "text": [
            "/content/drive/MyDrive/urbansound/spectrograms/1/175846-1-0-0.png\n",
            "/content/drive/MyDrive/urbansound/spectrograms/1/175847-1-0-0.png\n",
            "/content/drive/MyDrive/urbansound/spectrograms/1/175848-1-0-0.png\n",
            "/content/drive/MyDrive/urbansound/spectrograms/1/175849-1-0-0.png\n",
            "/content/drive/MyDrive/urbansound/spectrograms/1/175850-1-0-0.png\n",
            "/content/drive/MyDrive/urbansound/spectrograms/1/175851-1-0-0.png\n",
            "/content/drive/MyDrive/urbansound/spectrograms/1/175852-1-0-0.png\n"
          ]
        },
        {
          "output_type": "stream",
          "name": "stderr",
          "text": [
            "3718it [00:44, 37.94it/s]"
          ]
        },
        {
          "output_type": "stream",
          "name": "stdout",
          "text": [
            "/content/drive/MyDrive/urbansound/spectrograms/1/175853-1-0-0.png\n",
            "/content/drive/MyDrive/urbansound/spectrograms/1/175854-1-0-0.png\n",
            "/content/drive/MyDrive/urbansound/spectrograms/1/175855-1-0-0.png\n",
            "/content/drive/MyDrive/urbansound/spectrograms/1/175856-1-0-0.png\n",
            "/content/drive/MyDrive/urbansound/spectrograms/1/175856-1-1-0.png\n",
            "/content/drive/MyDrive/urbansound/spectrograms/1/175856-1-2-0.png\n",
            "/content/drive/MyDrive/urbansound/spectrograms/2/175904-2-0-11.png\n",
            "/content/drive/MyDrive/urbansound/spectrograms/2/175904-2-0-12.png\n",
            "/content/drive/MyDrive/urbansound/spectrograms/2/175904-2-0-124.png\n",
            "/content/drive/MyDrive/urbansound/spectrograms/2/175904-2-0-24.png\n",
            "/content/drive/MyDrive/urbansound/spectrograms/2/175904-2-0-41.png\n",
            "/content/drive/MyDrive/urbansound/spectrograms/2/175904-2-0-64.png\n",
            "/content/drive/MyDrive/urbansound/spectrograms/2/175904-2-0-76.png\n"
          ]
        },
        {
          "output_type": "stream",
          "name": "stderr",
          "text": [
            "3731it [00:44, 48.99it/s]"
          ]
        },
        {
          "output_type": "stream",
          "name": "stdout",
          "text": [
            "/content/drive/MyDrive/urbansound/spectrograms/2/175904-2-0-98.png\n",
            "/content/drive/MyDrive/urbansound/spectrograms/3/175915-3-0-0.png\n",
            "/content/drive/MyDrive/urbansound/spectrograms/3/175915-3-0-1.png\n",
            "/content/drive/MyDrive/urbansound/spectrograms/3/175915-3-0-3.png\n",
            "/content/drive/MyDrive/urbansound/spectrograms/3/175915-3-1-8.png\n",
            "/content/drive/MyDrive/urbansound/spectrograms/3/175917-3-0-3.png\n",
            "/content/drive/MyDrive/urbansound/spectrograms/3/175917-3-1-1.png\n",
            "/content/drive/MyDrive/urbansound/spectrograms/3/175917-3-2-2.png\n",
            "/content/drive/MyDrive/urbansound/spectrograms/3/175917-3-4-1.png\n",
            "/content/drive/MyDrive/urbansound/spectrograms/5/17592-5-0-0.png\n",
            "/content/drive/MyDrive/urbansound/spectrograms/5/17592-5-1-0.png\n",
            "/content/drive/MyDrive/urbansound/spectrograms/5/17592-5-1-1.png\n",
            "/content/drive/MyDrive/urbansound/spectrograms/5/17592-5-1-2.png\n",
            "/content/drive/MyDrive/urbansound/spectrograms/5/17592-5-1-3.png\n"
          ]
        },
        {
          "output_type": "stream",
          "name": "stderr",
          "text": [
            "3744it [00:44, 55.30it/s]"
          ]
        },
        {
          "output_type": "stream",
          "name": "stdout",
          "text": [
            "/content/drive/MyDrive/urbansound/spectrograms/1/176003-1-0-0.png\n",
            "/content/drive/MyDrive/urbansound/spectrograms/3/17615-3-0-0.png\n",
            "/content/drive/MyDrive/urbansound/spectrograms/3/17615-3-0-3.png\n",
            "/content/drive/MyDrive/urbansound/spectrograms/3/17615-3-0-4.png\n",
            "/content/drive/MyDrive/urbansound/spectrograms/3/17615-3-0-6.png\n",
            "/content/drive/MyDrive/urbansound/spectrograms/3/176257-3-0-0.png\n",
            "/content/drive/MyDrive/urbansound/spectrograms/3/176258-3-1-12.png\n",
            "/content/drive/MyDrive/urbansound/spectrograms/3/176258-3-1-13.png\n",
            "/content/drive/MyDrive/urbansound/spectrograms/3/176258-3-1-18.png\n",
            "/content/drive/MyDrive/urbansound/spectrograms/3/176258-3-1-2.png\n",
            "/content/drive/MyDrive/urbansound/spectrograms/1/176631-1-0-0.png\n",
            "/content/drive/MyDrive/urbansound/spectrograms/1/176634-1-0-0.png\n",
            "/content/drive/MyDrive/urbansound/spectrograms/1/176638-1-0-0.png\n",
            "/content/drive/MyDrive/urbansound/spectrograms/1/176638-1-1-0.png\n"
          ]
        },
        {
          "output_type": "stream",
          "name": "stderr",
          "text": [
            "3758it [00:44, 59.83it/s]"
          ]
        },
        {
          "output_type": "stream",
          "name": "stdout",
          "text": [
            "/content/drive/MyDrive/urbansound/spectrograms/5/176638-5-0-0.png\n",
            "/content/drive/MyDrive/urbansound/spectrograms/5/176638-5-0-1.png\n",
            "/content/drive/MyDrive/urbansound/spectrograms/5/176638-5-0-2.png\n",
            "/content/drive/MyDrive/urbansound/spectrograms/2/176714-2-0-18.png\n",
            "/content/drive/MyDrive/urbansound/spectrograms/2/176714-2-0-23.png\n",
            "/content/drive/MyDrive/urbansound/spectrograms/2/176714-2-0-26.png\n",
            "/content/drive/MyDrive/urbansound/spectrograms/2/176714-2-0-33.png\n",
            "/content/drive/MyDrive/urbansound/spectrograms/2/176714-2-0-40.png\n",
            "/content/drive/MyDrive/urbansound/spectrograms/2/176714-2-0-51.png\n",
            "/content/drive/MyDrive/urbansound/spectrograms/2/176714-2-0-55.png\n",
            "/content/drive/MyDrive/urbansound/spectrograms/2/176714-2-0-77.png\n",
            "/content/drive/MyDrive/urbansound/spectrograms/3/176783-3-0-11.png\n",
            "/content/drive/MyDrive/urbansound/spectrograms/3/176783-3-0-3.png\n"
          ]
        },
        {
          "output_type": "stream",
          "name": "stderr",
          "text": [
            "3772it [00:44, 58.41it/s]"
          ]
        },
        {
          "output_type": "stream",
          "name": "stdout",
          "text": [
            "/content/drive/MyDrive/urbansound/spectrograms/3/176783-3-0-5.png\n",
            "/content/drive/MyDrive/urbansound/spectrograms/3/176783-3-1-0.png\n",
            "/content/drive/MyDrive/urbansound/spectrograms/5/176787-5-0-0.png\n",
            "/content/drive/MyDrive/urbansound/spectrograms/5/176787-5-0-1.png\n",
            "/content/drive/MyDrive/urbansound/spectrograms/5/176787-5-0-10.png\n",
            "/content/drive/MyDrive/urbansound/spectrograms/5/176787-5-0-11.png\n",
            "/content/drive/MyDrive/urbansound/spectrograms/5/176787-5-0-12.png\n",
            "/content/drive/MyDrive/urbansound/spectrograms/5/176787-5-0-13.png\n",
            "/content/drive/MyDrive/urbansound/spectrograms/5/176787-5-0-14.png\n",
            "/content/drive/MyDrive/urbansound/spectrograms/5/176787-5-0-15.png\n",
            "/content/drive/MyDrive/urbansound/spectrograms/5/176787-5-0-16.png\n",
            "/content/drive/MyDrive/urbansound/spectrograms/5/176787-5-0-17.png\n"
          ]
        },
        {
          "output_type": "stream",
          "name": "stderr",
          "text": [
            "3784it [00:45, 56.74it/s]"
          ]
        },
        {
          "output_type": "stream",
          "name": "stdout",
          "text": [
            "/content/drive/MyDrive/urbansound/spectrograms/5/176787-5-0-18.png\n",
            "/content/drive/MyDrive/urbansound/spectrograms/5/176787-5-0-19.png\n",
            "/content/drive/MyDrive/urbansound/spectrograms/5/176787-5-0-2.png\n",
            "/content/drive/MyDrive/urbansound/spectrograms/5/176787-5-0-20.png\n",
            "/content/drive/MyDrive/urbansound/spectrograms/5/176787-5-0-21.png\n",
            "/content/drive/MyDrive/urbansound/spectrograms/5/176787-5-0-22.png\n",
            "/content/drive/MyDrive/urbansound/spectrograms/5/176787-5-0-23.png\n",
            "/content/drive/MyDrive/urbansound/spectrograms/5/176787-5-0-24.png\n",
            "/content/drive/MyDrive/urbansound/spectrograms/5/176787-5-0-25.png\n",
            "/content/drive/MyDrive/urbansound/spectrograms/5/176787-5-0-26.png\n",
            "/content/drive/MyDrive/urbansound/spectrograms/5/176787-5-0-27.png\n"
          ]
        },
        {
          "output_type": "stream",
          "name": "stderr",
          "text": [
            "3796it [00:45, 51.59it/s]"
          ]
        },
        {
          "output_type": "stream",
          "name": "stdout",
          "text": [
            "/content/drive/MyDrive/urbansound/spectrograms/5/176787-5-0-28.png\n",
            "/content/drive/MyDrive/urbansound/spectrograms/5/176787-5-0-29.png\n",
            "/content/drive/MyDrive/urbansound/spectrograms/5/176787-5-0-3.png\n",
            "/content/drive/MyDrive/urbansound/spectrograms/5/176787-5-0-30.png\n",
            "/content/drive/MyDrive/urbansound/spectrograms/5/176787-5-0-4.png\n",
            "/content/drive/MyDrive/urbansound/spectrograms/5/176787-5-0-5.png\n",
            "/content/drive/MyDrive/urbansound/spectrograms/5/176787-5-0-6.png\n",
            "/content/drive/MyDrive/urbansound/spectrograms/5/176787-5-0-7.png\n",
            "/content/drive/MyDrive/urbansound/spectrograms/5/176787-5-0-8.png\n",
            "/content/drive/MyDrive/urbansound/spectrograms/5/176787-5-0-9.png\n",
            "/content/drive/MyDrive/urbansound/spectrograms/7/177537-7-0-0.png\n"
          ]
        },
        {
          "output_type": "stream",
          "name": "stderr",
          "text": [
            "3808it [00:45, 52.90it/s]"
          ]
        },
        {
          "output_type": "stream",
          "name": "stdout",
          "text": [
            "/content/drive/MyDrive/urbansound/spectrograms/7/177537-7-0-1.png\n",
            "/content/drive/MyDrive/urbansound/spectrograms/7/177537-7-0-10.png\n",
            "/content/drive/MyDrive/urbansound/spectrograms/7/177537-7-0-11.png\n",
            "/content/drive/MyDrive/urbansound/spectrograms/7/177537-7-0-12.png\n",
            "/content/drive/MyDrive/urbansound/spectrograms/7/177537-7-0-13.png\n",
            "/content/drive/MyDrive/urbansound/spectrograms/7/177537-7-0-14.png\n",
            "/content/drive/MyDrive/urbansound/spectrograms/7/177537-7-0-15.png\n",
            "/content/drive/MyDrive/urbansound/spectrograms/7/177537-7-0-16.png\n",
            "/content/drive/MyDrive/urbansound/spectrograms/7/177537-7-0-17.png\n",
            "/content/drive/MyDrive/urbansound/spectrograms/7/177537-7-0-18.png\n",
            "/content/drive/MyDrive/urbansound/spectrograms/7/177537-7-0-19.png\n",
            "/content/drive/MyDrive/urbansound/spectrograms/7/177537-7-0-2.png\n"
          ]
        },
        {
          "output_type": "stream",
          "name": "stderr",
          "text": [
            "3820it [00:45, 53.53it/s]"
          ]
        },
        {
          "output_type": "stream",
          "name": "stdout",
          "text": [
            "/content/drive/MyDrive/urbansound/spectrograms/7/177537-7-0-20.png\n",
            "/content/drive/MyDrive/urbansound/spectrograms/7/177537-7-0-21.png\n",
            "/content/drive/MyDrive/urbansound/spectrograms/7/177537-7-0-22.png\n",
            "/content/drive/MyDrive/urbansound/spectrograms/7/177537-7-0-23.png\n",
            "/content/drive/MyDrive/urbansound/spectrograms/7/177537-7-0-24.png\n",
            "/content/drive/MyDrive/urbansound/spectrograms/7/177537-7-0-25.png\n",
            "/content/drive/MyDrive/urbansound/spectrograms/7/177537-7-0-26.png\n",
            "/content/drive/MyDrive/urbansound/spectrograms/7/177537-7-0-27.png\n",
            "/content/drive/MyDrive/urbansound/spectrograms/7/177537-7-0-28.png\n",
            "/content/drive/MyDrive/urbansound/spectrograms/7/177537-7-0-29.png\n",
            "/content/drive/MyDrive/urbansound/spectrograms/7/177537-7-0-3.png\n",
            "/content/drive/MyDrive/urbansound/spectrograms/7/177537-7-0-30.png\n",
            "/content/drive/MyDrive/urbansound/spectrograms/7/177537-7-0-31.png"
          ]
        },
        {
          "output_type": "stream",
          "name": "stderr",
          "text": [
            "3837it [00:46, 67.59it/s]"
          ]
        },
        {
          "output_type": "stream",
          "name": "stdout",
          "text": [
            "\n",
            "/content/drive/MyDrive/urbansound/spectrograms/7/177537-7-0-4.png\n",
            "/content/drive/MyDrive/urbansound/spectrograms/7/177537-7-0-5.png\n",
            "/content/drive/MyDrive/urbansound/spectrograms/7/177537-7-0-6.png\n",
            "/content/drive/MyDrive/urbansound/spectrograms/7/177537-7-0-7.png\n",
            "/content/drive/MyDrive/urbansound/spectrograms/7/177537-7-0-8.png\n",
            "/content/drive/MyDrive/urbansound/spectrograms/7/177537-7-0-9.png\n",
            "/content/drive/MyDrive/urbansound/spectrograms/7/177537-7-1-0.png\n",
            "/content/drive/MyDrive/urbansound/spectrograms/7/177537-7-1-1.png\n",
            "/content/drive/MyDrive/urbansound/spectrograms/7/177537-7-1-10.png\n",
            "/content/drive/MyDrive/urbansound/spectrograms/7/177537-7-1-2.png\n",
            "/content/drive/MyDrive/urbansound/spectrograms/7/177537-7-1-3.png\n",
            "/content/drive/MyDrive/urbansound/spectrograms/7/177537-7-1-4.png\n",
            "/content/drive/MyDrive/urbansound/spectrograms/7/177537-7-1-5.png\n",
            "/content/drive/MyDrive/urbansound/spectrograms/7/177537-7-1-6.png\n",
            "/content/drive/MyDrive/urbansound/spectrograms/7/177537-7-1-7.png\n"
          ]
        },
        {
          "output_type": "stream",
          "name": "stderr",
          "text": [
            "3854it [00:46, 75.32it/s]"
          ]
        },
        {
          "output_type": "stream",
          "name": "stdout",
          "text": [
            "/content/drive/MyDrive/urbansound/spectrograms/7/177537-7-1-8.png\n",
            "/content/drive/MyDrive/urbansound/spectrograms/7/177537-7-1-9.png\n",
            "/content/drive/MyDrive/urbansound/spectrograms/7/177537-7-2-0.png\n",
            "/content/drive/MyDrive/urbansound/spectrograms/7/177537-7-2-1.png\n",
            "/content/drive/MyDrive/urbansound/spectrograms/5/177592-5-0-0.png\n",
            "/content/drive/MyDrive/urbansound/spectrograms/5/177592-5-0-1.png\n",
            "/content/drive/MyDrive/urbansound/spectrograms/5/177592-5-0-10.png\n",
            "/content/drive/MyDrive/urbansound/spectrograms/5/177592-5-0-2.png\n",
            "/content/drive/MyDrive/urbansound/spectrograms/5/177592-5-0-3.png\n",
            "/content/drive/MyDrive/urbansound/spectrograms/5/177592-5-0-4.png\n",
            "/content/drive/MyDrive/urbansound/spectrograms/5/177592-5-0-5.png\n",
            "/content/drive/MyDrive/urbansound/spectrograms/5/177592-5-0-6.png\n",
            "/content/drive/MyDrive/urbansound/spectrograms/5/177592-5-0-7.png\n",
            "/content/drive/MyDrive/urbansound/spectrograms/5/177592-5-0-8.png\n",
            "/content/drive/MyDrive/urbansound/spectrograms/5/177592-5-0-9.png\n",
            "/content/drive/MyDrive/urbansound/spectrograms/3/177620-3-0-20.png\n",
            "/content/drive/MyDrive/urbansound/spectrograms/3/177620-3-0-21.png\n"
          ]
        },
        {
          "output_type": "stream",
          "name": "stderr",
          "text": [
            "3872it [00:46, 80.36it/s]"
          ]
        },
        {
          "output_type": "stream",
          "name": "stdout",
          "text": [
            "/content/drive/MyDrive/urbansound/spectrograms/3/177620-3-0-25.png\n",
            "/content/drive/MyDrive/urbansound/spectrograms/3/177620-3-0-8.png\n",
            "/content/drive/MyDrive/urbansound/spectrograms/0/177621-0-0-0.png\n",
            "/content/drive/MyDrive/urbansound/spectrograms/0/177621-0-0-100.png\n",
            "/content/drive/MyDrive/urbansound/spectrograms/0/177621-0-0-104.png\n",
            "/content/drive/MyDrive/urbansound/spectrograms/0/177621-0-0-105.png\n",
            "/content/drive/MyDrive/urbansound/spectrograms/0/177621-0-0-109.png\n",
            "/content/drive/MyDrive/urbansound/spectrograms/0/177621-0-0-117.png\n",
            "/content/drive/MyDrive/urbansound/spectrograms/0/177621-0-0-120.png\n",
            "/content/drive/MyDrive/urbansound/spectrograms/0/177621-0-0-126.png\n",
            "/content/drive/MyDrive/urbansound/spectrograms/0/177621-0-0-127.png\n",
            "/content/drive/MyDrive/urbansound/spectrograms/0/177621-0-0-128.png\n",
            "/content/drive/MyDrive/urbansound/spectrograms/0/177621-0-0-145.png\n",
            "/content/drive/MyDrive/urbansound/spectrograms/0/177621-0-0-147.png\n",
            "/content/drive/MyDrive/urbansound/spectrograms/0/177621-0-0-2.png\n",
            "/content/drive/MyDrive/urbansound/spectrograms/0/177621-0-0-27.png\n",
            "/content/drive/MyDrive/urbansound/spectrograms/0/177621-0-0-31.png\n",
            "/content/drive/MyDrive/urbansound/spectrograms/0/177621-0-0-35.png\n"
          ]
        },
        {
          "output_type": "stream",
          "name": "stderr",
          "text": [
            "3890it [00:46, 81.45it/s]"
          ]
        },
        {
          "output_type": "stream",
          "name": "stdout",
          "text": [
            "/content/drive/MyDrive/urbansound/spectrograms/0/177621-0-0-46.png\n",
            "/content/drive/MyDrive/urbansound/spectrograms/0/177621-0-0-47.png\n",
            "/content/drive/MyDrive/urbansound/spectrograms/0/177621-0-0-48.png\n",
            "/content/drive/MyDrive/urbansound/spectrograms/0/177621-0-0-54.png\n",
            "/content/drive/MyDrive/urbansound/spectrograms/0/177621-0-0-57.png\n",
            "/content/drive/MyDrive/urbansound/spectrograms/0/177621-0-0-80.png\n",
            "/content/drive/MyDrive/urbansound/spectrograms/0/177621-0-0-88.png\n",
            "/content/drive/MyDrive/urbansound/spectrograms/0/177621-0-0-91.png\n",
            "/content/drive/MyDrive/urbansound/spectrograms/0/177621-0-0-93.png\n",
            "/content/drive/MyDrive/urbansound/spectrograms/0/177726-0-0-1.png\n",
            "/content/drive/MyDrive/urbansound/spectrograms/0/177726-0-0-10.png\n",
            "/content/drive/MyDrive/urbansound/spectrograms/0/177726-0-0-11.png\n",
            "/content/drive/MyDrive/urbansound/spectrograms/0/177726-0-0-12.png\n",
            "/content/drive/MyDrive/urbansound/spectrograms/0/177726-0-0-13.png\n",
            "/content/drive/MyDrive/urbansound/spectrograms/0/177726-0-0-14.png\n",
            "/content/drive/MyDrive/urbansound/spectrograms/0/177726-0-0-15.png\n",
            "/content/drive/MyDrive/urbansound/spectrograms/0/177726-0-0-17.png\n",
            "/content/drive/MyDrive/urbansound/spectrograms/0/177726-0-0-18.png\n"
          ]
        },
        {
          "output_type": "stream",
          "name": "stderr",
          "text": [
            "3909it [00:46, 86.22it/s]"
          ]
        },
        {
          "output_type": "stream",
          "name": "stdout",
          "text": [
            "/content/drive/MyDrive/urbansound/spectrograms/0/177726-0-0-19.png\n",
            "/content/drive/MyDrive/urbansound/spectrograms/0/177726-0-0-2.png\n",
            "/content/drive/MyDrive/urbansound/spectrograms/0/177726-0-0-21.png\n",
            "/content/drive/MyDrive/urbansound/spectrograms/0/177726-0-0-22.png\n",
            "/content/drive/MyDrive/urbansound/spectrograms/0/177726-0-0-23.png\n",
            "/content/drive/MyDrive/urbansound/spectrograms/0/177726-0-0-25.png\n",
            "/content/drive/MyDrive/urbansound/spectrograms/0/177726-0-0-26.png\n",
            "/content/drive/MyDrive/urbansound/spectrograms/0/177726-0-0-27.png\n",
            "/content/drive/MyDrive/urbansound/spectrograms/0/177726-0-0-28.png\n",
            "/content/drive/MyDrive/urbansound/spectrograms/0/177726-0-0-29.png\n",
            "/content/drive/MyDrive/urbansound/spectrograms/0/177726-0-0-3.png\n",
            "/content/drive/MyDrive/urbansound/spectrograms/0/177726-0-0-30.png\n",
            "/content/drive/MyDrive/urbansound/spectrograms/0/177726-0-0-31.png\n",
            "/content/drive/MyDrive/urbansound/spectrograms/0/177726-0-0-32.png\n",
            "/content/drive/MyDrive/urbansound/spectrograms/0/177726-0-0-33.png\n",
            "/content/drive/MyDrive/urbansound/spectrograms/0/177726-0-0-34.png\n",
            "/content/drive/MyDrive/urbansound/spectrograms/0/177726-0-0-36.png\n",
            "/content/drive/MyDrive/urbansound/spectrograms/0/177726-0-0-37.png\n",
            "/content/drive/MyDrive/urbansound/spectrograms/0/177726-0-0-5.png\n"
          ]
        },
        {
          "output_type": "stream",
          "name": "stderr",
          "text": [
            "3927it [00:47, 86.03it/s]"
          ]
        },
        {
          "output_type": "stream",
          "name": "stdout",
          "text": [
            "/content/drive/MyDrive/urbansound/spectrograms/0/177726-0-0-6.png\n",
            "/content/drive/MyDrive/urbansound/spectrograms/0/177726-0-0-7.png\n",
            "/content/drive/MyDrive/urbansound/spectrograms/0/177726-0-0-8.png\n",
            "/content/drive/MyDrive/urbansound/spectrograms/0/177726-0-0-9.png\n",
            "/content/drive/MyDrive/urbansound/spectrograms/0/177729-0-0-1.png\n",
            "/content/drive/MyDrive/urbansound/spectrograms/0/177729-0-0-106.png\n",
            "/content/drive/MyDrive/urbansound/spectrograms/0/177729-0-0-108.png\n",
            "/content/drive/MyDrive/urbansound/spectrograms/0/177729-0-0-111.png\n",
            "/content/drive/MyDrive/urbansound/spectrograms/0/177729-0-0-120.png\n",
            "/content/drive/MyDrive/urbansound/spectrograms/0/177729-0-0-128.png\n",
            "/content/drive/MyDrive/urbansound/spectrograms/0/177729-0-0-20.png\n",
            "/content/drive/MyDrive/urbansound/spectrograms/0/177729-0-0-22.png\n",
            "/content/drive/MyDrive/urbansound/spectrograms/0/177729-0-0-27.png\n",
            "/content/drive/MyDrive/urbansound/spectrograms/0/177729-0-0-28.png\n",
            "/content/drive/MyDrive/urbansound/spectrograms/0/177729-0-0-3.png\n",
            "/content/drive/MyDrive/urbansound/spectrograms/0/177729-0-0-38.png\n",
            "/content/drive/MyDrive/urbansound/spectrograms/0/177729-0-0-40.png\n",
            "/content/drive/MyDrive/urbansound/spectrograms/0/177729-0-0-42.png\n"
          ]
        },
        {
          "output_type": "stream",
          "name": "stderr",
          "text": [
            "3945it [00:47, 84.99it/s]"
          ]
        },
        {
          "output_type": "stream",
          "name": "stdout",
          "text": [
            "/content/drive/MyDrive/urbansound/spectrograms/0/177729-0-0-50.png\n",
            "/content/drive/MyDrive/urbansound/spectrograms/0/177729-0-0-51.png\n",
            "/content/drive/MyDrive/urbansound/spectrograms/0/177729-0-0-53.png\n",
            "/content/drive/MyDrive/urbansound/spectrograms/0/177729-0-0-58.png\n",
            "/content/drive/MyDrive/urbansound/spectrograms/0/177729-0-0-63.png\n",
            "/content/drive/MyDrive/urbansound/spectrograms/0/177729-0-0-67.png\n",
            "/content/drive/MyDrive/urbansound/spectrograms/0/177729-0-0-68.png\n",
            "/content/drive/MyDrive/urbansound/spectrograms/0/177729-0-0-69.png\n",
            "/content/drive/MyDrive/urbansound/spectrograms/0/177729-0-0-73.png\n",
            "/content/drive/MyDrive/urbansound/spectrograms/0/177729-0-0-74.png\n",
            "/content/drive/MyDrive/urbansound/spectrograms/0/177729-0-0-80.png\n",
            "/content/drive/MyDrive/urbansound/spectrograms/0/177729-0-0-82.png\n",
            "/content/drive/MyDrive/urbansound/spectrograms/0/177729-0-0-83.png\n",
            "/content/drive/MyDrive/urbansound/spectrograms/0/177729-0-0-89.png\n",
            "/content/drive/MyDrive/urbansound/spectrograms/0/177729-0-0-91.png\n",
            "/content/drive/MyDrive/urbansound/spectrograms/0/177729-0-0-97.png\n",
            "/content/drive/MyDrive/urbansound/spectrograms/0/177729-0-0-98.png\n",
            "/content/drive/MyDrive/urbansound/spectrograms/0/177742-0-0-10.png\n"
          ]
        },
        {
          "output_type": "stream",
          "name": "stderr",
          "text": [
            "\r3954it [00:47, 79.98it/s]"
          ]
        },
        {
          "output_type": "stream",
          "name": "stdout",
          "text": [
            "/content/drive/MyDrive/urbansound/spectrograms/0/177742-0-0-102.png\n",
            "/content/drive/MyDrive/urbansound/spectrograms/0/177742-0-0-111.png\n",
            "/content/drive/MyDrive/urbansound/spectrograms/0/177742-0-0-149.png\n",
            "/content/drive/MyDrive/urbansound/spectrograms/0/177742-0-0-161.png\n",
            "/content/drive/MyDrive/urbansound/spectrograms/0/177742-0-0-164.png\n",
            "/content/drive/MyDrive/urbansound/spectrograms/0/177742-0-0-165.png\n",
            "/content/drive/MyDrive/urbansound/spectrograms/0/177742-0-0-17.png\n",
            "/content/drive/MyDrive/urbansound/spectrograms/0/177742-0-0-178.png\n",
            "/content/drive/MyDrive/urbansound/spectrograms/0/177742-0-0-196.png\n",
            "/content/drive/MyDrive/urbansound/spectrograms/0/177742-0-0-202.png\n",
            "/content/drive/MyDrive/urbansound/spectrograms/0/177742-0-0-203.png\n",
            "/content/drive/MyDrive/urbansound/spectrograms/0/177742-0-0-204.png\n",
            "/content/drive/MyDrive/urbansound/spectrograms/0/177742-0-0-205.png\n",
            "/content/drive/MyDrive/urbansound/spectrograms/0/177742-0-0-211.png\n",
            "/content/drive/MyDrive/urbansound/spectrograms/0/177742-0-0-214.png\n",
            "/content/drive/MyDrive/urbansound/spectrograms/0/177742-0-0-3.png\n",
            "/content/drive/MyDrive/urbansound/spectrograms/0/177742-0-0-36.png\n"
          ]
        },
        {
          "output_type": "stream",
          "name": "stderr",
          "text": [
            "3972it [00:47, 80.02it/s]"
          ]
        },
        {
          "output_type": "stream",
          "name": "stdout",
          "text": [
            "/content/drive/MyDrive/urbansound/spectrograms/0/177742-0-0-49.png\n",
            "/content/drive/MyDrive/urbansound/spectrograms/0/177742-0-0-58.png\n",
            "/content/drive/MyDrive/urbansound/spectrograms/0/177742-0-0-67.png\n",
            "/content/drive/MyDrive/urbansound/spectrograms/0/177742-0-0-73.png\n",
            "/content/drive/MyDrive/urbansound/spectrograms/0/177742-0-0-84.png\n",
            "/content/drive/MyDrive/urbansound/spectrograms/0/177742-0-0-99.png\n",
            "/content/drive/MyDrive/urbansound/spectrograms/2/177756-2-0-10.png\n",
            "/content/drive/MyDrive/urbansound/spectrograms/2/177756-2-0-12.png\n",
            "/content/drive/MyDrive/urbansound/spectrograms/2/177756-2-0-16.png\n",
            "/content/drive/MyDrive/urbansound/spectrograms/2/177756-2-0-17.png\n",
            "/content/drive/MyDrive/urbansound/spectrograms/2/177756-2-0-19.png\n",
            "/content/drive/MyDrive/urbansound/spectrograms/2/177756-2-0-4.png\n",
            "/content/drive/MyDrive/urbansound/spectrograms/2/177756-2-0-5.png\n",
            "/content/drive/MyDrive/urbansound/spectrograms/2/177756-2-0-7.png\n",
            "/content/drive/MyDrive/urbansound/spectrograms/9/178099-9-0-0.png\n",
            "/content/drive/MyDrive/urbansound/spectrograms/9/178099-9-0-1.png\n",
            "/content/drive/MyDrive/urbansound/spectrograms/9/178099-9-0-10.png\n",
            "/content/drive/MyDrive/urbansound/spectrograms/9/178099-9-0-12.png\n"
          ]
        },
        {
          "output_type": "stream",
          "name": "stderr",
          "text": [
            "3991it [00:47, 85.72it/s]"
          ]
        },
        {
          "output_type": "stream",
          "name": "stdout",
          "text": [
            "/content/drive/MyDrive/urbansound/spectrograms/9/178099-9-0-6.png\n",
            "/content/drive/MyDrive/urbansound/spectrograms/9/178099-9-0-7.png\n",
            "/content/drive/MyDrive/urbansound/spectrograms/3/17810-3-0-0.png\n",
            "/content/drive/MyDrive/urbansound/spectrograms/3/17810-3-1-0.png\n",
            "/content/drive/MyDrive/urbansound/spectrograms/1/178115-1-0-0.png\n",
            "/content/drive/MyDrive/urbansound/spectrograms/3/178118-3-0-0.png\n",
            "/content/drive/MyDrive/urbansound/spectrograms/3/178118-3-1-0.png\n",
            "/content/drive/MyDrive/urbansound/spectrograms/3/178118-3-2-0.png\n",
            "/content/drive/MyDrive/urbansound/spectrograms/7/178260-7-0-0.png\n",
            "/content/drive/MyDrive/urbansound/spectrograms/7/178260-7-1-0.png\n",
            "/content/drive/MyDrive/urbansound/spectrograms/7/178260-7-1-1.png\n",
            "/content/drive/MyDrive/urbansound/spectrograms/7/178260-7-1-10.png\n",
            "/content/drive/MyDrive/urbansound/spectrograms/7/178260-7-1-2.png\n",
            "/content/drive/MyDrive/urbansound/spectrograms/7/178260-7-1-3.png\n",
            "/content/drive/MyDrive/urbansound/spectrograms/7/178260-7-1-4.png\n",
            "/content/drive/MyDrive/urbansound/spectrograms/7/178260-7-1-5.png\n",
            "/content/drive/MyDrive/urbansound/spectrograms/7/178260-7-1-6.png\n",
            "/content/drive/MyDrive/urbansound/spectrograms/7/178260-7-1-7.png\n"
          ]
        },
        {
          "output_type": "stream",
          "name": "stderr",
          "text": [
            "4009it [00:48, 83.38it/s]"
          ]
        },
        {
          "output_type": "stream",
          "name": "stdout",
          "text": [
            "/content/drive/MyDrive/urbansound/spectrograms/7/178260-7-1-8.png\n",
            "/content/drive/MyDrive/urbansound/spectrograms/7/178260-7-1-9.png\n",
            "/content/drive/MyDrive/urbansound/spectrograms/7/178260-7-2-0.png\n",
            "/content/drive/MyDrive/urbansound/spectrograms/7/178260-7-2-1.png\n",
            "/content/drive/MyDrive/urbansound/spectrograms/7/178260-7-2-2.png\n",
            "/content/drive/MyDrive/urbansound/spectrograms/7/178260-7-3-0.png\n",
            "/content/drive/MyDrive/urbansound/spectrograms/7/178260-7-3-1.png\n",
            "/content/drive/MyDrive/urbansound/spectrograms/7/178260-7-3-10.png\n",
            "/content/drive/MyDrive/urbansound/spectrograms/7/178260-7-3-11.png\n",
            "/content/drive/MyDrive/urbansound/spectrograms/7/178260-7-3-12.png\n",
            "/content/drive/MyDrive/urbansound/spectrograms/7/178260-7-3-2.png\n",
            "/content/drive/MyDrive/urbansound/spectrograms/7/178260-7-3-3.png\n",
            "/content/drive/MyDrive/urbansound/spectrograms/7/178260-7-3-4.png\n",
            "/content/drive/MyDrive/urbansound/spectrograms/7/178260-7-3-5.png\n",
            "/content/drive/MyDrive/urbansound/spectrograms/7/178260-7-3-6.png\n",
            "/content/drive/MyDrive/urbansound/spectrograms/7/178260-7-3-7.png\n",
            "/content/drive/MyDrive/urbansound/spectrograms/7/178260-7-3-8.png\n",
            "/content/drive/MyDrive/urbansound/spectrograms/7/178260-7-3-9.png\n"
          ]
        },
        {
          "output_type": "stream",
          "name": "stderr",
          "text": [
            "4028it [00:48, 84.48it/s]"
          ]
        },
        {
          "output_type": "stream",
          "name": "stdout",
          "text": [
            "/content/drive/MyDrive/urbansound/spectrograms/7/178260-7-4-0.png\n",
            "/content/drive/MyDrive/urbansound/spectrograms/7/178260-7-4-1.png\n",
            "/content/drive/MyDrive/urbansound/spectrograms/7/178260-7-5-0.png\n",
            "/content/drive/MyDrive/urbansound/spectrograms/7/178260-7-6-0.png\n",
            "/content/drive/MyDrive/urbansound/spectrograms/7/178260-7-7-0.png\n",
            "/content/drive/MyDrive/urbansound/spectrograms/7/178261-7-0-0.png\n",
            "/content/drive/MyDrive/urbansound/spectrograms/7/178261-7-1-0.png\n",
            "/content/drive/MyDrive/urbansound/spectrograms/7/178261-7-2-0.png\n",
            "/content/drive/MyDrive/urbansound/spectrograms/7/178261-7-3-0.png\n",
            "/content/drive/MyDrive/urbansound/spectrograms/7/178261-7-3-1.png\n",
            "/content/drive/MyDrive/urbansound/spectrograms/7/178261-7-3-2.png\n",
            "/content/drive/MyDrive/urbansound/spectrograms/7/178261-7-3-3.png\n",
            "/content/drive/MyDrive/urbansound/spectrograms/7/178261-7-3-4.png\n",
            "/content/drive/MyDrive/urbansound/spectrograms/7/178261-7-3-5.png\n",
            "/content/drive/MyDrive/urbansound/spectrograms/7/178261-7-3-6.png\n",
            "/content/drive/MyDrive/urbansound/spectrograms/1/178402-1-0-0.png\n",
            "/content/drive/MyDrive/urbansound/spectrograms/3/178497-3-0-1.png\n"
          ]
        },
        {
          "output_type": "stream",
          "name": "stderr",
          "text": [
            "4046it [00:48, 84.26it/s]"
          ]
        },
        {
          "output_type": "stream",
          "name": "stdout",
          "text": [
            "/content/drive/MyDrive/urbansound/spectrograms/3/178497-3-0-3.png\n",
            "/content/drive/MyDrive/urbansound/spectrograms/3/178497-3-0-4.png\n",
            "/content/drive/MyDrive/urbansound/spectrograms/3/178497-3-0-6.png\n",
            "/content/drive/MyDrive/urbansound/spectrograms/2/178520-2-0-11.png\n",
            "/content/drive/MyDrive/urbansound/spectrograms/2/178520-2-0-23.png\n",
            "/content/drive/MyDrive/urbansound/spectrograms/2/178520-2-0-27.png\n",
            "/content/drive/MyDrive/urbansound/spectrograms/2/178520-2-0-28.png\n",
            "/content/drive/MyDrive/urbansound/spectrograms/2/178520-2-0-29.png\n",
            "/content/drive/MyDrive/urbansound/spectrograms/2/178520-2-0-38.png\n",
            "/content/drive/MyDrive/urbansound/spectrograms/2/178520-2-0-39.png\n",
            "/content/drive/MyDrive/urbansound/spectrograms/2/178520-2-0-42.png\n",
            "/content/drive/MyDrive/urbansound/spectrograms/2/178521-2-0-18.png\n",
            "/content/drive/MyDrive/urbansound/spectrograms/2/178521-2-0-2.png\n",
            "/content/drive/MyDrive/urbansound/spectrograms/2/178521-2-0-22.png\n",
            "/content/drive/MyDrive/urbansound/spectrograms/2/178521-2-0-69.png\n",
            "/content/drive/MyDrive/urbansound/spectrograms/2/178521-2-0-7.png\n",
            "/content/drive/MyDrive/urbansound/spectrograms/2/178521-2-0-70.png\n",
            "/content/drive/MyDrive/urbansound/spectrograms/2/178521-2-0-86.png\n",
            "/content/drive/MyDrive/urbansound/spectrograms/2/178521-2-0-93.png\n"
          ]
        },
        {
          "output_type": "stream",
          "name": "stderr",
          "text": [
            "4065it [00:48, 88.52it/s]"
          ]
        },
        {
          "output_type": "stream",
          "name": "stdout",
          "text": [
            "/content/drive/MyDrive/urbansound/spectrograms/5/17853-5-0-0.png\n",
            "/content/drive/MyDrive/urbansound/spectrograms/5/17853-5-0-1.png\n",
            "/content/drive/MyDrive/urbansound/spectrograms/5/17853-5-0-10.png\n",
            "/content/drive/MyDrive/urbansound/spectrograms/5/17853-5-0-11.png\n",
            "/content/drive/MyDrive/urbansound/spectrograms/5/17853-5-0-12.png\n",
            "/content/drive/MyDrive/urbansound/spectrograms/5/17853-5-0-13.png\n",
            "/content/drive/MyDrive/urbansound/spectrograms/5/17853-5-0-14.png\n",
            "/content/drive/MyDrive/urbansound/spectrograms/5/17853-5-0-15.png\n",
            "/content/drive/MyDrive/urbansound/spectrograms/5/17853-5-0-2.png\n",
            "/content/drive/MyDrive/urbansound/spectrograms/5/17853-5-0-3.png\n",
            "/content/drive/MyDrive/urbansound/spectrograms/5/17853-5-0-4.png\n",
            "/content/drive/MyDrive/urbansound/spectrograms/5/17853-5-0-5.png\n",
            "/content/drive/MyDrive/urbansound/spectrograms/5/17853-5-0-6.png\n",
            "/content/drive/MyDrive/urbansound/spectrograms/5/17853-5-0-7.png\n",
            "/content/drive/MyDrive/urbansound/spectrograms/5/17853-5-0-8.png\n",
            "/content/drive/MyDrive/urbansound/spectrograms/5/17853-5-0-9.png\n",
            "/content/drive/MyDrive/urbansound/spectrograms/0/178686-0-0-1.png\n",
            "/content/drive/MyDrive/urbansound/spectrograms/0/178686-0-0-11.png\n",
            "/content/drive/MyDrive/urbansound/spectrograms/0/178686-0-0-12.png\n"
          ]
        },
        {
          "output_type": "stream",
          "name": "stderr",
          "text": [
            "4085it [00:49, 92.62it/s]"
          ]
        },
        {
          "output_type": "stream",
          "name": "stdout",
          "text": [
            "/content/drive/MyDrive/urbansound/spectrograms/0/178686-0-0-14.png\n",
            "/content/drive/MyDrive/urbansound/spectrograms/0/178686-0-0-15.png\n",
            "/content/drive/MyDrive/urbansound/spectrograms/0/178686-0-0-16.png\n",
            "/content/drive/MyDrive/urbansound/spectrograms/0/178686-0-0-17.png\n",
            "/content/drive/MyDrive/urbansound/spectrograms/0/178686-0-0-18.png\n",
            "/content/drive/MyDrive/urbansound/spectrograms/0/178686-0-0-19.png\n",
            "/content/drive/MyDrive/urbansound/spectrograms/0/178686-0-0-2.png\n",
            "/content/drive/MyDrive/urbansound/spectrograms/0/178686-0-0-21.png\n",
            "/content/drive/MyDrive/urbansound/spectrograms/0/178686-0-0-23.png\n",
            "/content/drive/MyDrive/urbansound/spectrograms/0/178686-0-0-3.png\n",
            "/content/drive/MyDrive/urbansound/spectrograms/0/178686-0-0-31.png\n",
            "/content/drive/MyDrive/urbansound/spectrograms/0/178686-0-0-33.png\n",
            "/content/drive/MyDrive/urbansound/spectrograms/0/178686-0-0-34.png\n",
            "/content/drive/MyDrive/urbansound/spectrograms/0/178686-0-0-38.png\n",
            "/content/drive/MyDrive/urbansound/spectrograms/0/178686-0-0-39.png\n",
            "/content/drive/MyDrive/urbansound/spectrograms/0/178686-0-0-42.png\n",
            "/content/drive/MyDrive/urbansound/spectrograms/0/178686-0-0-43.png\n",
            "/content/drive/MyDrive/urbansound/spectrograms/0/178686-0-0-44.png\n",
            "/content/drive/MyDrive/urbansound/spectrograms/0/178686-0-0-45.png\n",
            "/content/drive/MyDrive/urbansound/spectrograms/0/178686-0-0-46.png\n"
          ]
        },
        {
          "output_type": "stream",
          "name": "stderr",
          "text": [
            "4104it [00:49, 88.95it/s]"
          ]
        },
        {
          "output_type": "stream",
          "name": "stdout",
          "text": [
            "/content/drive/MyDrive/urbansound/spectrograms/0/178686-0-0-53.png\n",
            "/content/drive/MyDrive/urbansound/spectrograms/0/178686-0-0-55.png\n",
            "/content/drive/MyDrive/urbansound/spectrograms/0/178686-0-0-57.png\n",
            "/content/drive/MyDrive/urbansound/spectrograms/0/178686-0-0-6.png\n",
            "/content/drive/MyDrive/urbansound/spectrograms/0/178686-0-0-60.png\n",
            "/content/drive/MyDrive/urbansound/spectrograms/0/178686-0-0-63.png\n",
            "/content/drive/MyDrive/urbansound/spectrograms/0/178686-0-0-64.png\n",
            "/content/drive/MyDrive/urbansound/spectrograms/0/178686-0-0-65.png\n",
            "/content/drive/MyDrive/urbansound/spectrograms/0/178686-0-0-66.png\n",
            "/content/drive/MyDrive/urbansound/spectrograms/0/178686-0-0-67.png\n",
            "/content/drive/MyDrive/urbansound/spectrograms/0/178686-0-0-68.png\n",
            "/content/drive/MyDrive/urbansound/spectrograms/0/178686-0-0-7.png\n",
            "/content/drive/MyDrive/urbansound/spectrograms/0/178686-0-0-72.png\n",
            "/content/drive/MyDrive/urbansound/spectrograms/0/178686-0-0-8.png\n",
            "/content/drive/MyDrive/urbansound/spectrograms/0/178686-0-0-9.png\n",
            "/content/drive/MyDrive/urbansound/spectrograms/2/178825-2-0-4.png\n",
            "/content/drive/MyDrive/urbansound/spectrograms/2/178825-2-0-53.png\n"
          ]
        },
        {
          "output_type": "stream",
          "name": "stderr",
          "text": [
            "4122it [00:49, 86.50it/s]"
          ]
        },
        {
          "output_type": "stream",
          "name": "stdout",
          "text": [
            "/content/drive/MyDrive/urbansound/spectrograms/2/178825-2-0-62.png\n",
            "/content/drive/MyDrive/urbansound/spectrograms/2/178825-2-0-70.png\n",
            "/content/drive/MyDrive/urbansound/spectrograms/2/178825-2-0-74.png\n",
            "/content/drive/MyDrive/urbansound/spectrograms/2/178825-2-0-9.png\n",
            "/content/drive/MyDrive/urbansound/spectrograms/2/178825-2-0-95.png\n",
            "/content/drive/MyDrive/urbansound/spectrograms/2/178826-2-0-10.png\n",
            "/content/drive/MyDrive/urbansound/spectrograms/2/178826-2-0-12.png\n",
            "/content/drive/MyDrive/urbansound/spectrograms/2/178826-2-0-14.png\n",
            "/content/drive/MyDrive/urbansound/spectrograms/2/178826-2-0-16.png\n",
            "/content/drive/MyDrive/urbansound/spectrograms/2/178826-2-0-17.png\n",
            "/content/drive/MyDrive/urbansound/spectrograms/2/178826-2-0-20.png\n",
            "/content/drive/MyDrive/urbansound/spectrograms/2/178826-2-0-28.png\n",
            "/content/drive/MyDrive/urbansound/spectrograms/2/178826-2-0-39.png\n",
            "/content/drive/MyDrive/urbansound/spectrograms/9/179039-9-0-22.png\n",
            "/content/drive/MyDrive/urbansound/spectrograms/9/179039-9-0-23.png\n",
            "/content/drive/MyDrive/urbansound/spectrograms/9/179039-9-0-30.png\n",
            "/content/drive/MyDrive/urbansound/spectrograms/9/179039-9-0-38.png\n"
          ]
        },
        {
          "output_type": "stream",
          "name": "stderr",
          "text": [
            "4140it [00:49, 85.69it/s]"
          ]
        },
        {
          "output_type": "stream",
          "name": "stdout",
          "text": [
            "/content/drive/MyDrive/urbansound/spectrograms/9/179039-9-0-4.png\n",
            "/content/drive/MyDrive/urbansound/spectrograms/9/179039-9-0-40.png\n",
            "/content/drive/MyDrive/urbansound/spectrograms/3/179096-3-0-1.png\n",
            "/content/drive/MyDrive/urbansound/spectrograms/3/179096-3-0-10.png\n",
            "/content/drive/MyDrive/urbansound/spectrograms/3/179096-3-0-5.png\n",
            "/content/drive/MyDrive/urbansound/spectrograms/3/179096-3-0-9.png\n",
            "/content/drive/MyDrive/urbansound/spectrograms/4/17913-4-0-0.png\n",
            "/content/drive/MyDrive/urbansound/spectrograms/4/17913-4-0-1.png\n",
            "/content/drive/MyDrive/urbansound/spectrograms/4/17913-4-0-2.png\n",
            "/content/drive/MyDrive/urbansound/spectrograms/4/17913-4-1-0.png\n",
            "/content/drive/MyDrive/urbansound/spectrograms/4/17913-4-2-0.png\n",
            "/content/drive/MyDrive/urbansound/spectrograms/4/179212-4-0-0.png\n",
            "/content/drive/MyDrive/urbansound/spectrograms/3/179386-3-0-0.png\n",
            "/content/drive/MyDrive/urbansound/spectrograms/3/179386-3-0-1.png\n",
            "/content/drive/MyDrive/urbansound/spectrograms/3/179386-3-0-2.png\n",
            "/content/drive/MyDrive/urbansound/spectrograms/3/179386-3-0-3.png\n",
            "/content/drive/MyDrive/urbansound/spectrograms/4/179725-4-0-0.png\n",
            "/content/drive/MyDrive/urbansound/spectrograms/2/17973-2-0-17.png\n",
            "/content/drive/MyDrive/urbansound/spectrograms/2/17973-2-0-21.png"
          ]
        },
        {
          "output_type": "stream",
          "name": "stderr",
          "text": [
            "4159it [00:49, 87.76it/s]"
          ]
        },
        {
          "output_type": "stream",
          "name": "stdout",
          "text": [
            "\n",
            "/content/drive/MyDrive/urbansound/spectrograms/2/17973-2-0-22.png\n",
            "/content/drive/MyDrive/urbansound/spectrograms/2/17973-2-0-29.png\n",
            "/content/drive/MyDrive/urbansound/spectrograms/2/17973-2-0-31.png\n",
            "/content/drive/MyDrive/urbansound/spectrograms/2/17973-2-0-32.png\n",
            "/content/drive/MyDrive/urbansound/spectrograms/2/17973-2-0-8.png\n",
            "/content/drive/MyDrive/urbansound/spectrograms/2/17973-2-0-9.png\n",
            "/content/drive/MyDrive/urbansound/spectrograms/1/179858-1-0-0.png\n",
            "/content/drive/MyDrive/urbansound/spectrograms/1/179860-1-0-0.png\n",
            "/content/drive/MyDrive/urbansound/spectrograms/1/179861-1-0-0.png\n",
            "/content/drive/MyDrive/urbansound/spectrograms/1/179862-1-0-0.png\n",
            "/content/drive/MyDrive/urbansound/spectrograms/1/179863-1-0-0.png\n",
            "/content/drive/MyDrive/urbansound/spectrograms/1/179864-1-0-0.png\n",
            "/content/drive/MyDrive/urbansound/spectrograms/1/179865-1-0-0.png\n",
            "/content/drive/MyDrive/urbansound/spectrograms/1/179866-1-0-0.png\n",
            "/content/drive/MyDrive/urbansound/spectrograms/1/179866-1-1-0.png\n",
            "/content/drive/MyDrive/urbansound/spectrograms/1/179867-1-0-0.png\n",
            "/content/drive/MyDrive/urbansound/spectrograms/1/179868-1-0-0.png\n",
            "/content/drive/MyDrive/urbansound/spectrograms/4/180029-4-1-0.png\n"
          ]
        },
        {
          "output_type": "stream",
          "name": "stderr",
          "text": [
            "4177it [00:50, 88.59it/s]"
          ]
        },
        {
          "output_type": "stream",
          "name": "stdout",
          "text": [
            "/content/drive/MyDrive/urbansound/spectrograms/4/180029-4-10-0.png\n",
            "/content/drive/MyDrive/urbansound/spectrograms/4/180029-4-11-0.png\n",
            "/content/drive/MyDrive/urbansound/spectrograms/4/180029-4-12-0.png\n",
            "/content/drive/MyDrive/urbansound/spectrograms/4/180029-4-13-0.png\n",
            "/content/drive/MyDrive/urbansound/spectrograms/4/180029-4-14-0.png\n",
            "/content/drive/MyDrive/urbansound/spectrograms/4/180029-4-15-0.png\n",
            "/content/drive/MyDrive/urbansound/spectrograms/4/180029-4-16-0.png\n",
            "/content/drive/MyDrive/urbansound/spectrograms/4/180029-4-19-0.png\n",
            "/content/drive/MyDrive/urbansound/spectrograms/4/180029-4-2-0.png\n",
            "/content/drive/MyDrive/urbansound/spectrograms/4/180029-4-20-0.png\n",
            "/content/drive/MyDrive/urbansound/spectrograms/4/180029-4-4-0.png\n",
            "/content/drive/MyDrive/urbansound/spectrograms/4/180029-4-5-0.png\n",
            "/content/drive/MyDrive/urbansound/spectrograms/4/180029-4-6-0.png\n",
            "/content/drive/MyDrive/urbansound/spectrograms/4/180029-4-7-0.png\n",
            "/content/drive/MyDrive/urbansound/spectrograms/4/180029-4-8-0.png\n",
            "/content/drive/MyDrive/urbansound/spectrograms/4/180029-4-9-0.png\n",
            "/content/drive/MyDrive/urbansound/spectrograms/3/180052-3-0-0.png\n",
            "/content/drive/MyDrive/urbansound/spectrograms/3/180052-3-0-1.png\n",
            "/content/drive/MyDrive/urbansound/spectrograms/3/180052-3-0-3.png\n"
          ]
        },
        {
          "output_type": "stream",
          "name": "stderr",
          "text": [
            "4195it [00:50, 86.12it/s]"
          ]
        },
        {
          "output_type": "stream",
          "name": "stdout",
          "text": [
            "/content/drive/MyDrive/urbansound/spectrograms/3/180052-3-0-4.png\n",
            "/content/drive/MyDrive/urbansound/spectrograms/9/180057-9-0-11.png\n",
            "/content/drive/MyDrive/urbansound/spectrograms/9/180057-9-0-20.png\n",
            "/content/drive/MyDrive/urbansound/spectrograms/9/180057-9-0-34.png\n",
            "/content/drive/MyDrive/urbansound/spectrograms/9/180057-9-0-36.png\n",
            "/content/drive/MyDrive/urbansound/spectrograms/9/180057-9-0-5.png\n",
            "/content/drive/MyDrive/urbansound/spectrograms/9/180057-9-0-7.png\n",
            "/content/drive/MyDrive/urbansound/spectrograms/4/180125-4-0-16.png\n",
            "/content/drive/MyDrive/urbansound/spectrograms/4/180125-4-0-17.png\n",
            "/content/drive/MyDrive/urbansound/spectrograms/4/180125-4-1-3.png\n",
            "/content/drive/MyDrive/urbansound/spectrograms/4/180125-4-1-5.png\n",
            "/content/drive/MyDrive/urbansound/spectrograms/4/180125-4-1-7.png\n",
            "/content/drive/MyDrive/urbansound/spectrograms/4/180125-4-1-8.png\n",
            "/content/drive/MyDrive/urbansound/spectrograms/4/180125-4-2-1.png\n",
            "/content/drive/MyDrive/urbansound/spectrograms/4/180125-4-2-13.png\n",
            "/content/drive/MyDrive/urbansound/spectrograms/4/180125-4-2-14.png\n",
            "/content/drive/MyDrive/urbansound/spectrograms/4/180125-4-2-15.png\n"
          ]
        },
        {
          "output_type": "stream",
          "name": "stderr",
          "text": [
            "4213it [00:50, 77.14it/s]"
          ]
        },
        {
          "output_type": "stream",
          "name": "stdout",
          "text": [
            "/content/drive/MyDrive/urbansound/spectrograms/4/180125-4-2-17.png\n",
            "/content/drive/MyDrive/urbansound/spectrograms/4/180125-4-3-0.png\n",
            "/content/drive/MyDrive/urbansound/spectrograms/4/180125-4-3-1.png\n",
            "/content/drive/MyDrive/urbansound/spectrograms/4/180125-4-3-10.png\n",
            "/content/drive/MyDrive/urbansound/spectrograms/4/180125-4-3-2.png\n",
            "/content/drive/MyDrive/urbansound/spectrograms/4/180125-4-3-22.png\n",
            "/content/drive/MyDrive/urbansound/spectrograms/4/180125-4-3-24.png\n",
            "/content/drive/MyDrive/urbansound/spectrograms/4/180125-4-3-4.png\n",
            "/content/drive/MyDrive/urbansound/spectrograms/4/180126-4-0-0.png\n",
            "/content/drive/MyDrive/urbansound/spectrograms/4/180126-4-1-0.png\n",
            "/content/drive/MyDrive/urbansound/spectrograms/4/180126-4-1-1.png\n",
            "/content/drive/MyDrive/urbansound/spectrograms/4/180126-4-1-2.png\n",
            "/content/drive/MyDrive/urbansound/spectrograms/4/180126-4-2-0.png\n",
            "/content/drive/MyDrive/urbansound/spectrograms/4/180126-4-3-0.png\n",
            "/content/drive/MyDrive/urbansound/spectrograms/4/180126-4-4-0.png\n"
          ]
        },
        {
          "output_type": "stream",
          "name": "stderr",
          "text": [
            "4230it [00:50, 80.63it/s]"
          ]
        },
        {
          "output_type": "stream",
          "name": "stdout",
          "text": [
            "/content/drive/MyDrive/urbansound/spectrograms/4/180126-4-4-1.png\n",
            "/content/drive/MyDrive/urbansound/spectrograms/4/180126-4-4-2.png\n",
            "/content/drive/MyDrive/urbansound/spectrograms/4/180127-4-0-0.png\n",
            "/content/drive/MyDrive/urbansound/spectrograms/4/180127-4-0-1.png\n",
            "/content/drive/MyDrive/urbansound/spectrograms/4/180127-4-0-10.png\n",
            "/content/drive/MyDrive/urbansound/spectrograms/4/180127-4-0-11.png\n",
            "/content/drive/MyDrive/urbansound/spectrograms/4/180127-4-0-12.png\n",
            "/content/drive/MyDrive/urbansound/spectrograms/4/180127-4-0-13.png\n",
            "/content/drive/MyDrive/urbansound/spectrograms/4/180127-4-0-14.png\n",
            "/content/drive/MyDrive/urbansound/spectrograms/4/180127-4-0-15.png\n",
            "/content/drive/MyDrive/urbansound/spectrograms/4/180127-4-0-16.png\n",
            "/content/drive/MyDrive/urbansound/spectrograms/4/180127-4-0-17.png\n",
            "/content/drive/MyDrive/urbansound/spectrograms/4/180127-4-0-18.png\n",
            "/content/drive/MyDrive/urbansound/spectrograms/4/180127-4-0-19.png\n",
            "/content/drive/MyDrive/urbansound/spectrograms/4/180127-4-0-2.png\n",
            "/content/drive/MyDrive/urbansound/spectrograms/4/180127-4-0-20.png\n",
            "/content/drive/MyDrive/urbansound/spectrograms/4/180127-4-0-21.png\n"
          ]
        },
        {
          "output_type": "stream",
          "name": "stderr",
          "text": [
            "4249it [00:51, 83.76it/s]"
          ]
        },
        {
          "output_type": "stream",
          "name": "stdout",
          "text": [
            "/content/drive/MyDrive/urbansound/spectrograms/4/180127-4-0-3.png\n",
            "/content/drive/MyDrive/urbansound/spectrograms/4/180127-4-0-4.png\n",
            "/content/drive/MyDrive/urbansound/spectrograms/4/180127-4-0-5.png\n",
            "/content/drive/MyDrive/urbansound/spectrograms/4/180127-4-0-6.png\n",
            "/content/drive/MyDrive/urbansound/spectrograms/4/180127-4-0-7.png\n",
            "/content/drive/MyDrive/urbansound/spectrograms/4/180127-4-0-8.png\n",
            "/content/drive/MyDrive/urbansound/spectrograms/4/180127-4-0-9.png\n",
            "/content/drive/MyDrive/urbansound/spectrograms/4/180128-4-0-0.png\n",
            "/content/drive/MyDrive/urbansound/spectrograms/4/180128-4-11-0.png\n",
            "/content/drive/MyDrive/urbansound/spectrograms/4/180128-4-11-1.png\n",
            "/content/drive/MyDrive/urbansound/spectrograms/4/180128-4-12-0.png\n",
            "/content/drive/MyDrive/urbansound/spectrograms/4/180128-4-13-0.png\n",
            "/content/drive/MyDrive/urbansound/spectrograms/4/180128-4-14-0.png\n",
            "/content/drive/MyDrive/urbansound/spectrograms/4/180128-4-16-1.png\n",
            "/content/drive/MyDrive/urbansound/spectrograms/4/180128-4-17-0.png\n",
            "/content/drive/MyDrive/urbansound/spectrograms/4/180128-4-4-0.png\n",
            "/content/drive/MyDrive/urbansound/spectrograms/4/180128-4-5-0.png\n",
            "/content/drive/MyDrive/urbansound/spectrograms/4/180128-4-6-0.png\n",
            "/content/drive/MyDrive/urbansound/spectrograms/4/180128-4-6-1.png\n"
          ]
        },
        {
          "output_type": "stream",
          "name": "stderr",
          "text": [
            "4267it [00:51, 83.01it/s]"
          ]
        },
        {
          "output_type": "stream",
          "name": "stdout",
          "text": [
            "/content/drive/MyDrive/urbansound/spectrograms/4/180128-4-6-2.png\n",
            "/content/drive/MyDrive/urbansound/spectrograms/4/180128-4-7-0.png\n",
            "/content/drive/MyDrive/urbansound/spectrograms/4/180128-4-7-2.png\n",
            "/content/drive/MyDrive/urbansound/spectrograms/4/180128-4-7-3.png\n",
            "/content/drive/MyDrive/urbansound/spectrograms/4/180128-4-7-4.png\n",
            "/content/drive/MyDrive/urbansound/spectrograms/4/180128-4-7-5.png\n",
            "/content/drive/MyDrive/urbansound/spectrograms/4/180128-4-9-0.png\n",
            "/content/drive/MyDrive/urbansound/spectrograms/4/180132-4-0-0.png\n",
            "/content/drive/MyDrive/urbansound/spectrograms/4/180132-4-1-0.png\n",
            "/content/drive/MyDrive/urbansound/spectrograms/4/180132-4-2-0.png\n",
            "/content/drive/MyDrive/urbansound/spectrograms/4/180132-4-3-0.png\n",
            "/content/drive/MyDrive/urbansound/spectrograms/4/180134-4-1-3.png\n",
            "/content/drive/MyDrive/urbansound/spectrograms/4/180134-4-1-7.png\n",
            "/content/drive/MyDrive/urbansound/spectrograms/4/180134-4-1-8.png\n",
            "/content/drive/MyDrive/urbansound/spectrograms/4/180134-4-1-9.png\n",
            "/content/drive/MyDrive/urbansound/spectrograms/4/180134-4-2-0.png\n",
            "/content/drive/MyDrive/urbansound/spectrograms/4/180134-4-2-1.png\n",
            "/content/drive/MyDrive/urbansound/spectrograms/4/180134-4-2-11.png\n"
          ]
        },
        {
          "output_type": "stream",
          "name": "stderr",
          "text": [
            "4287it [00:51, 88.50it/s]"
          ]
        },
        {
          "output_type": "stream",
          "name": "stdout",
          "text": [
            "/content/drive/MyDrive/urbansound/spectrograms/4/180134-4-2-13.png\n",
            "/content/drive/MyDrive/urbansound/spectrograms/4/180134-4-2-15.png\n",
            "/content/drive/MyDrive/urbansound/spectrograms/4/180134-4-2-16.png\n",
            "/content/drive/MyDrive/urbansound/spectrograms/4/180134-4-2-17.png\n",
            "/content/drive/MyDrive/urbansound/spectrograms/4/180134-4-2-19.png\n",
            "/content/drive/MyDrive/urbansound/spectrograms/4/180134-4-2-3.png\n",
            "/content/drive/MyDrive/urbansound/spectrograms/4/180134-4-2-4.png\n",
            "/content/drive/MyDrive/urbansound/spectrograms/4/180134-4-2-5.png\n",
            "/content/drive/MyDrive/urbansound/spectrograms/4/180134-4-2-6.png\n",
            "/content/drive/MyDrive/urbansound/spectrograms/4/180134-4-2-9.png\n",
            "/content/drive/MyDrive/urbansound/spectrograms/1/180156-1-0-0.png\n",
            "/content/drive/MyDrive/urbansound/spectrograms/1/180156-1-1-0.png\n",
            "/content/drive/MyDrive/urbansound/spectrograms/1/180156-1-10-0.png\n",
            "/content/drive/MyDrive/urbansound/spectrograms/1/180156-1-11-0.png\n",
            "/content/drive/MyDrive/urbansound/spectrograms/1/180156-1-12-0.png\n",
            "/content/drive/MyDrive/urbansound/spectrograms/1/180156-1-2-0.png\n",
            "/content/drive/MyDrive/urbansound/spectrograms/1/180156-1-3-0.png\n",
            "/content/drive/MyDrive/urbansound/spectrograms/1/180156-1-4-0.png\n",
            "/content/drive/MyDrive/urbansound/spectrograms/1/180156-1-5-0.png\n",
            "/content/drive/MyDrive/urbansound/spectrograms/1/180156-1-6-0.png\n"
          ]
        },
        {
          "output_type": "stream",
          "name": "stderr",
          "text": [
            "4307it [00:51, 88.95it/s]"
          ]
        },
        {
          "output_type": "stream",
          "name": "stdout",
          "text": [
            "/content/drive/MyDrive/urbansound/spectrograms/1/180156-1-7-0.png\n",
            "/content/drive/MyDrive/urbansound/spectrograms/1/180156-1-8-0.png\n",
            "/content/drive/MyDrive/urbansound/spectrograms/1/180156-1-9-0.png\n",
            "/content/drive/MyDrive/urbansound/spectrograms/3/180256-3-0-0.png\n",
            "/content/drive/MyDrive/urbansound/spectrograms/3/180256-3-0-1.png\n",
            "/content/drive/MyDrive/urbansound/spectrograms/3/180256-3-0-2.png\n",
            "/content/drive/MyDrive/urbansound/spectrograms/3/180256-3-0-3.png\n",
            "/content/drive/MyDrive/urbansound/spectrograms/3/180257-3-0-1.png\n",
            "/content/drive/MyDrive/urbansound/spectrograms/3/180257-3-0-3.png\n",
            "/content/drive/MyDrive/urbansound/spectrograms/3/180257-3-0-4.png\n",
            "/content/drive/MyDrive/urbansound/spectrograms/3/180257-3-0-5.png\n",
            "/content/drive/MyDrive/urbansound/spectrograms/4/180937-4-0-11.png\n",
            "/content/drive/MyDrive/urbansound/spectrograms/4/180937-4-0-13.png\n",
            "/content/drive/MyDrive/urbansound/spectrograms/4/180937-4-0-14.png\n",
            "/content/drive/MyDrive/urbansound/spectrograms/4/180937-4-0-19.png\n",
            "/content/drive/MyDrive/urbansound/spectrograms/4/180937-4-0-20.png\n",
            "/content/drive/MyDrive/urbansound/spectrograms/4/180937-4-1-12.png\n",
            "/content/drive/MyDrive/urbansound/spectrograms/4/180937-4-1-20.png\n",
            "/content/drive/MyDrive/urbansound/spectrograms/4/180937-4-1-27.png\n",
            "/content/drive/MyDrive/urbansound/spectrograms/4/180937-4-1-30.png"
          ]
        },
        {
          "output_type": "stream",
          "name": "stderr",
          "text": [
            "\r4316it [00:51, 87.23it/s]"
          ]
        },
        {
          "output_type": "stream",
          "name": "stdout",
          "text": [
            "\n",
            "/content/drive/MyDrive/urbansound/spectrograms/4/180937-4-1-46.png\n",
            "/content/drive/MyDrive/urbansound/spectrograms/4/180937-4-1-47.png\n",
            "/content/drive/MyDrive/urbansound/spectrograms/4/180937-4-1-54.png\n",
            "/content/drive/MyDrive/urbansound/spectrograms/4/180937-4-2-1.png\n",
            "/content/drive/MyDrive/urbansound/spectrograms/4/180937-4-2-2.png\n",
            "/content/drive/MyDrive/urbansound/spectrograms/4/180937-4-3-12.png\n",
            "/content/drive/MyDrive/urbansound/spectrograms/4/180937-4-3-9.png\n",
            "/content/drive/MyDrive/urbansound/spectrograms/7/180937-7-0-0.png\n",
            "/content/drive/MyDrive/urbansound/spectrograms/7/180937-7-0-1.png\n",
            "/content/drive/MyDrive/urbansound/spectrograms/7/180937-7-0-2.png\n",
            "/content/drive/MyDrive/urbansound/spectrograms/7/180937-7-0-4.png\n",
            "/content/drive/MyDrive/urbansound/spectrograms/7/180937-7-0-5.png\n",
            "/content/drive/MyDrive/urbansound/spectrograms/7/180937-7-0-6.png\n",
            "/content/drive/MyDrive/urbansound/spectrograms/7/180937-7-1-0.png\n",
            "/content/drive/MyDrive/urbansound/spectrograms/7/180937-7-1-1.png\n",
            "/content/drive/MyDrive/urbansound/spectrograms/7/180937-7-1-10.png\n"
          ]
        },
        {
          "output_type": "stream",
          "name": "stderr",
          "text": [
            "4335it [00:52, 86.61it/s]"
          ]
        },
        {
          "output_type": "stream",
          "name": "stdout",
          "text": [
            "/content/drive/MyDrive/urbansound/spectrograms/7/180937-7-1-11.png\n",
            "/content/drive/MyDrive/urbansound/spectrograms/7/180937-7-1-12.png\n",
            "/content/drive/MyDrive/urbansound/spectrograms/7/180937-7-1-13.png\n",
            "/content/drive/MyDrive/urbansound/spectrograms/7/180937-7-1-14.png\n",
            "/content/drive/MyDrive/urbansound/spectrograms/7/180937-7-1-15.png\n",
            "/content/drive/MyDrive/urbansound/spectrograms/7/180937-7-1-2.png\n",
            "/content/drive/MyDrive/urbansound/spectrograms/7/180937-7-1-3.png\n",
            "/content/drive/MyDrive/urbansound/spectrograms/7/180937-7-1-4.png\n",
            "/content/drive/MyDrive/urbansound/spectrograms/7/180937-7-1-5.png\n",
            "/content/drive/MyDrive/urbansound/spectrograms/7/180937-7-1-6.png\n",
            "/content/drive/MyDrive/urbansound/spectrograms/7/180937-7-1-7.png\n",
            "/content/drive/MyDrive/urbansound/spectrograms/7/180937-7-1-8.png\n",
            "/content/drive/MyDrive/urbansound/spectrograms/7/180937-7-1-9.png\n",
            "/content/drive/MyDrive/urbansound/spectrograms/7/180937-7-2-0.png\n",
            "/content/drive/MyDrive/urbansound/spectrograms/7/180937-7-2-1.png\n",
            "/content/drive/MyDrive/urbansound/spectrograms/7/180937-7-2-10.png\n",
            "/content/drive/MyDrive/urbansound/spectrograms/7/180937-7-2-2.png\n",
            "/content/drive/MyDrive/urbansound/spectrograms/7/180937-7-2-3.png\n",
            "/content/drive/MyDrive/urbansound/spectrograms/7/180937-7-2-4.png\n"
          ]
        },
        {
          "output_type": "stream",
          "name": "stderr",
          "text": [
            "4354it [00:52, 86.62it/s]"
          ]
        },
        {
          "output_type": "stream",
          "name": "stdout",
          "text": [
            "/content/drive/MyDrive/urbansound/spectrograms/7/180937-7-2-5.png\n",
            "/content/drive/MyDrive/urbansound/spectrograms/7/180937-7-2-6.png\n",
            "/content/drive/MyDrive/urbansound/spectrograms/7/180937-7-2-7.png\n",
            "/content/drive/MyDrive/urbansound/spectrograms/7/180937-7-2-8.png\n",
            "/content/drive/MyDrive/urbansound/spectrograms/7/180937-7-2-9.png\n",
            "/content/drive/MyDrive/urbansound/spectrograms/7/180937-7-3-0.png\n",
            "/content/drive/MyDrive/urbansound/spectrograms/7/180937-7-3-1.png\n",
            "/content/drive/MyDrive/urbansound/spectrograms/7/180937-7-3-10.png\n",
            "/content/drive/MyDrive/urbansound/spectrograms/7/180937-7-3-11.png\n",
            "/content/drive/MyDrive/urbansound/spectrograms/7/180937-7-3-12.png\n",
            "/content/drive/MyDrive/urbansound/spectrograms/7/180937-7-3-13.png\n",
            "/content/drive/MyDrive/urbansound/spectrograms/7/180937-7-3-14.png\n",
            "/content/drive/MyDrive/urbansound/spectrograms/7/180937-7-3-15.png\n",
            "/content/drive/MyDrive/urbansound/spectrograms/7/180937-7-3-17.png\n",
            "/content/drive/MyDrive/urbansound/spectrograms/7/180937-7-3-18.png\n",
            "/content/drive/MyDrive/urbansound/spectrograms/7/180937-7-3-19.png\n",
            "/content/drive/MyDrive/urbansound/spectrograms/7/180937-7-3-2.png\n",
            "/content/drive/MyDrive/urbansound/spectrograms/7/180937-7-3-20.png\n"
          ]
        },
        {
          "output_type": "stream",
          "name": "stderr",
          "text": [
            "4372it [00:52, 84.55it/s]"
          ]
        },
        {
          "output_type": "stream",
          "name": "stdout",
          "text": [
            "/content/drive/MyDrive/urbansound/spectrograms/7/180937-7-3-21.png\n",
            "/content/drive/MyDrive/urbansound/spectrograms/7/180937-7-3-22.png\n",
            "/content/drive/MyDrive/urbansound/spectrograms/7/180937-7-3-23.png\n",
            "/content/drive/MyDrive/urbansound/spectrograms/7/180937-7-3-24.png\n",
            "/content/drive/MyDrive/urbansound/spectrograms/7/180937-7-3-26.png\n",
            "/content/drive/MyDrive/urbansound/spectrograms/7/180937-7-3-27.png\n",
            "/content/drive/MyDrive/urbansound/spectrograms/7/180937-7-3-28.png\n",
            "/content/drive/MyDrive/urbansound/spectrograms/7/180937-7-3-29.png\n",
            "/content/drive/MyDrive/urbansound/spectrograms/7/180937-7-3-3.png\n",
            "/content/drive/MyDrive/urbansound/spectrograms/7/180937-7-3-30.png\n",
            "/content/drive/MyDrive/urbansound/spectrograms/7/180937-7-3-31.png\n",
            "/content/drive/MyDrive/urbansound/spectrograms/7/180937-7-3-32.png\n",
            "/content/drive/MyDrive/urbansound/spectrograms/7/180937-7-3-33.png\n",
            "/content/drive/MyDrive/urbansound/spectrograms/7/180937-7-3-4.png\n",
            "/content/drive/MyDrive/urbansound/spectrograms/7/180937-7-3-5.png\n",
            "/content/drive/MyDrive/urbansound/spectrograms/7/180937-7-3-6.png\n",
            "/content/drive/MyDrive/urbansound/spectrograms/7/180937-7-3-7.png\n"
          ]
        },
        {
          "output_type": "stream",
          "name": "stderr",
          "text": [
            "4390it [00:52, 82.35it/s]"
          ]
        },
        {
          "output_type": "stream",
          "name": "stdout",
          "text": [
            "/content/drive/MyDrive/urbansound/spectrograms/7/180937-7-3-8.png\n",
            "/content/drive/MyDrive/urbansound/spectrograms/7/180937-7-3-9.png\n",
            "/content/drive/MyDrive/urbansound/spectrograms/7/180937-7-4-0.png\n",
            "/content/drive/MyDrive/urbansound/spectrograms/7/180937-7-4-10.png\n",
            "/content/drive/MyDrive/urbansound/spectrograms/7/180937-7-4-11.png\n",
            "/content/drive/MyDrive/urbansound/spectrograms/7/180937-7-4-12.png\n",
            "/content/drive/MyDrive/urbansound/spectrograms/7/180937-7-4-13.png\n",
            "/content/drive/MyDrive/urbansound/spectrograms/7/180937-7-4-14.png\n",
            "/content/drive/MyDrive/urbansound/spectrograms/7/180937-7-4-2.png\n",
            "/content/drive/MyDrive/urbansound/spectrograms/7/180937-7-4-3.png\n",
            "/content/drive/MyDrive/urbansound/spectrograms/7/180937-7-4-4.png\n",
            "/content/drive/MyDrive/urbansound/spectrograms/7/180937-7-4-5.png\n",
            "/content/drive/MyDrive/urbansound/spectrograms/7/180937-7-4-6.png\n",
            "/content/drive/MyDrive/urbansound/spectrograms/7/180937-7-4-7.png\n",
            "/content/drive/MyDrive/urbansound/spectrograms/7/180937-7-4-8.png\n",
            "/content/drive/MyDrive/urbansound/spectrograms/7/180937-7-4-9.png\n",
            "/content/drive/MyDrive/urbansound/spectrograms/6/180960-6-0-0.png\n",
            "/content/drive/MyDrive/urbansound/spectrograms/3/180977-3-1-0.png\n"
          ]
        },
        {
          "output_type": "stream",
          "name": "stderr",
          "text": [
            "4409it [00:52, 85.37it/s]"
          ]
        },
        {
          "output_type": "stream",
          "name": "stdout",
          "text": [
            "/content/drive/MyDrive/urbansound/spectrograms/3/180977-3-1-1.png\n",
            "/content/drive/MyDrive/urbansound/spectrograms/3/180977-3-1-5.png\n",
            "/content/drive/MyDrive/urbansound/spectrograms/9/181102-9-0-111.png\n",
            "/content/drive/MyDrive/urbansound/spectrograms/9/181102-9-0-117.png\n",
            "/content/drive/MyDrive/urbansound/spectrograms/9/181102-9-0-23.png\n",
            "/content/drive/MyDrive/urbansound/spectrograms/9/181102-9-0-26.png\n",
            "/content/drive/MyDrive/urbansound/spectrograms/9/181102-9-0-50.png\n",
            "/content/drive/MyDrive/urbansound/spectrograms/9/181102-9-0-97.png\n",
            "/content/drive/MyDrive/urbansound/spectrograms/4/181624-4-0-0.png\n",
            "/content/drive/MyDrive/urbansound/spectrograms/4/181624-4-1-0.png\n",
            "/content/drive/MyDrive/urbansound/spectrograms/4/181624-4-10-0.png\n",
            "/content/drive/MyDrive/urbansound/spectrograms/4/181624-4-2-0.png\n",
            "/content/drive/MyDrive/urbansound/spectrograms/4/181624-4-3-0.png\n",
            "/content/drive/MyDrive/urbansound/spectrograms/4/181624-4-4-0.png\n",
            "/content/drive/MyDrive/urbansound/spectrograms/4/181624-4-5-0.png\n",
            "/content/drive/MyDrive/urbansound/spectrograms/4/181624-4-6-0.png\n",
            "/content/drive/MyDrive/urbansound/spectrograms/4/181624-4-7-0.png\n",
            "/content/drive/MyDrive/urbansound/spectrograms/4/181624-4-8-0.png\n"
          ]
        },
        {
          "output_type": "stream",
          "name": "stderr",
          "text": [
            "4427it [00:53, 83.41it/s]"
          ]
        },
        {
          "output_type": "stream",
          "name": "stdout",
          "text": [
            "/content/drive/MyDrive/urbansound/spectrograms/4/181624-4-9-0.png\n",
            "/content/drive/MyDrive/urbansound/spectrograms/3/181725-3-0-16.png\n",
            "/content/drive/MyDrive/urbansound/spectrograms/3/181725-3-0-22.png\n",
            "/content/drive/MyDrive/urbansound/spectrograms/3/181725-3-0-37.png\n",
            "/content/drive/MyDrive/urbansound/spectrograms/9/182103-9-0-0.png\n",
            "/content/drive/MyDrive/urbansound/spectrograms/9/182103-9-0-22.png\n",
            "/content/drive/MyDrive/urbansound/spectrograms/9/182103-9-0-26.png\n",
            "/content/drive/MyDrive/urbansound/spectrograms/9/182103-9-0-47.png\n",
            "/content/drive/MyDrive/urbansound/spectrograms/9/182103-9-0-53.png\n",
            "/content/drive/MyDrive/urbansound/spectrograms/9/182103-9-0-8.png\n",
            "/content/drive/MyDrive/urbansound/spectrograms/1/182474-1-0-0.png\n",
            "/content/drive/MyDrive/urbansound/spectrograms/2/182739-2-0-13.png\n",
            "/content/drive/MyDrive/urbansound/spectrograms/2/182739-2-0-17.png\n",
            "/content/drive/MyDrive/urbansound/spectrograms/2/182739-2-0-24.png\n",
            "/content/drive/MyDrive/urbansound/spectrograms/2/182739-2-0-35.png\n",
            "/content/drive/MyDrive/urbansound/spectrograms/2/182739-2-0-56.png\n",
            "/content/drive/MyDrive/urbansound/spectrograms/2/182739-2-0-62.png\n"
          ]
        },
        {
          "output_type": "stream",
          "name": "stderr",
          "text": [
            "4445it [00:53, 82.62it/s]"
          ]
        },
        {
          "output_type": "stream",
          "name": "stdout",
          "text": [
            "/content/drive/MyDrive/urbansound/spectrograms/2/182739-2-0-78.png\n",
            "/content/drive/MyDrive/urbansound/spectrograms/2/182739-2-0-85.png\n",
            "/content/drive/MyDrive/urbansound/spectrograms/2/182800-2-0-0.png\n",
            "/content/drive/MyDrive/urbansound/spectrograms/2/182800-2-1-0.png\n",
            "/content/drive/MyDrive/urbansound/spectrograms/2/182800-2-2-0.png\n",
            "/content/drive/MyDrive/urbansound/spectrograms/2/182800-2-2-1.png\n",
            "/content/drive/MyDrive/urbansound/spectrograms/2/182800-2-2-2.png\n",
            "/content/drive/MyDrive/urbansound/spectrograms/2/182800-2-2-3.png\n",
            "/content/drive/MyDrive/urbansound/spectrograms/2/182800-2-3-0.png\n",
            "/content/drive/MyDrive/urbansound/spectrograms/2/182800-2-3-1.png\n",
            "/content/drive/MyDrive/urbansound/spectrograms/1/183894-1-5-0.png\n",
            "/content/drive/MyDrive/urbansound/spectrograms/1/183894-1-6-0.png\n",
            "/content/drive/MyDrive/urbansound/spectrograms/1/183894-1-7-0.png\n",
            "/content/drive/MyDrive/urbansound/spectrograms/1/183894-1-8-0.png\n",
            "/content/drive/MyDrive/urbansound/spectrograms/1/183894-1-9-0.png\n",
            "/content/drive/MyDrive/urbansound/spectrograms/3/183989-3-1-18.png\n",
            "/content/drive/MyDrive/urbansound/spectrograms/3/183989-3-1-21.png\n",
            "/content/drive/MyDrive/urbansound/spectrograms/3/183989-3-1-23.png\n"
          ]
        },
        {
          "output_type": "stream",
          "name": "stderr",
          "text": [
            "4463it [00:53, 82.48it/s]"
          ]
        },
        {
          "output_type": "stream",
          "name": "stdout",
          "text": [
            "/content/drive/MyDrive/urbansound/spectrograms/3/183989-3-1-25.png\n",
            "/content/drive/MyDrive/urbansound/spectrograms/3/183992-3-0-10.png\n",
            "/content/drive/MyDrive/urbansound/spectrograms/3/183992-3-0-3.png\n",
            "/content/drive/MyDrive/urbansound/spectrograms/3/183992-3-0-6.png\n",
            "/content/drive/MyDrive/urbansound/spectrograms/3/183992-3-0-9.png\n",
            "/content/drive/MyDrive/urbansound/spectrograms/1/184355-1-0-0.png\n",
            "/content/drive/MyDrive/urbansound/spectrograms/2/184449-2-0-12.png\n",
            "/content/drive/MyDrive/urbansound/spectrograms/2/184449-2-0-13.png\n",
            "/content/drive/MyDrive/urbansound/spectrograms/2/184449-2-0-15.png\n",
            "/content/drive/MyDrive/urbansound/spectrograms/2/184449-2-0-16.png\n",
            "/content/drive/MyDrive/urbansound/spectrograms/2/184449-2-0-19.png\n",
            "/content/drive/MyDrive/urbansound/spectrograms/2/184449-2-0-24.png\n",
            "/content/drive/MyDrive/urbansound/spectrograms/2/184449-2-0-28.png\n",
            "/content/drive/MyDrive/urbansound/spectrograms/2/184449-2-0-33.png\n",
            "/content/drive/MyDrive/urbansound/spectrograms/3/18453-3-0-0.png\n",
            "/content/drive/MyDrive/urbansound/spectrograms/3/184575-3-0-0.png\n",
            "/content/drive/MyDrive/urbansound/spectrograms/3/184575-3-0-1.png\n",
            "/content/drive/MyDrive/urbansound/spectrograms/3/184575-3-0-2.png\n"
          ]
        },
        {
          "output_type": "stream",
          "name": "stderr",
          "text": [
            "4482it [00:53, 86.51it/s]"
          ]
        },
        {
          "output_type": "stream",
          "name": "stdout",
          "text": [
            "/content/drive/MyDrive/urbansound/spectrograms/3/184575-3-0-3.png\n",
            "/content/drive/MyDrive/urbansound/spectrograms/8/184623-8-0-0.png\n",
            "/content/drive/MyDrive/urbansound/spectrograms/8/184623-8-0-1.png\n",
            "/content/drive/MyDrive/urbansound/spectrograms/8/184623-8-0-2.png\n",
            "/content/drive/MyDrive/urbansound/spectrograms/8/184623-8-0-3.png\n",
            "/content/drive/MyDrive/urbansound/spectrograms/8/184623-8-1-0.png\n",
            "/content/drive/MyDrive/urbansound/spectrograms/3/184725-3-0-1.png\n",
            "/content/drive/MyDrive/urbansound/spectrograms/3/184725-3-0-2.png\n",
            "/content/drive/MyDrive/urbansound/spectrograms/3/184725-3-0-4.png\n",
            "/content/drive/MyDrive/urbansound/spectrograms/3/184725-3-0-5.png\n",
            "/content/drive/MyDrive/urbansound/spectrograms/0/184805-0-0-101.png\n",
            "/content/drive/MyDrive/urbansound/spectrograms/0/184805-0-0-103.png\n",
            "/content/drive/MyDrive/urbansound/spectrograms/0/184805-0-0-104.png\n",
            "/content/drive/MyDrive/urbansound/spectrograms/0/184805-0-0-112.png\n",
            "/content/drive/MyDrive/urbansound/spectrograms/0/184805-0-0-121.png\n",
            "/content/drive/MyDrive/urbansound/spectrograms/0/184805-0-0-13.png\n",
            "/content/drive/MyDrive/urbansound/spectrograms/0/184805-0-0-16.png\n",
            "/content/drive/MyDrive/urbansound/spectrograms/0/184805-0-0-2.png\n",
            "/content/drive/MyDrive/urbansound/spectrograms/0/184805-0-0-27.png\n"
          ]
        },
        {
          "output_type": "stream",
          "name": "stderr",
          "text": [
            "4502it [00:53, 90.70it/s]"
          ]
        },
        {
          "output_type": "stream",
          "name": "stdout",
          "text": [
            "/content/drive/MyDrive/urbansound/spectrograms/0/184805-0-0-32.png\n",
            "/content/drive/MyDrive/urbansound/spectrograms/0/184805-0-0-34.png\n",
            "/content/drive/MyDrive/urbansound/spectrograms/0/184805-0-0-4.png\n",
            "/content/drive/MyDrive/urbansound/spectrograms/0/184805-0-0-40.png\n",
            "/content/drive/MyDrive/urbansound/spectrograms/0/184805-0-0-45.png\n",
            "/content/drive/MyDrive/urbansound/spectrograms/0/184805-0-0-47.png\n",
            "/content/drive/MyDrive/urbansound/spectrograms/0/184805-0-0-48.png\n",
            "/content/drive/MyDrive/urbansound/spectrograms/0/184805-0-0-49.png\n",
            "/content/drive/MyDrive/urbansound/spectrograms/0/184805-0-0-5.png\n",
            "/content/drive/MyDrive/urbansound/spectrograms/0/184805-0-0-51.png\n",
            "/content/drive/MyDrive/urbansound/spectrograms/0/184805-0-0-54.png\n",
            "/content/drive/MyDrive/urbansound/spectrograms/0/184805-0-0-57.png\n",
            "/content/drive/MyDrive/urbansound/spectrograms/0/184805-0-0-58.png\n",
            "/content/drive/MyDrive/urbansound/spectrograms/0/184805-0-0-61.png\n",
            "/content/drive/MyDrive/urbansound/spectrograms/0/184805-0-0-63.png\n",
            "/content/drive/MyDrive/urbansound/spectrograms/0/184805-0-0-64.png\n",
            "/content/drive/MyDrive/urbansound/spectrograms/0/184805-0-0-74.png\n",
            "/content/drive/MyDrive/urbansound/spectrograms/0/184805-0-0-75.png\n",
            "/content/drive/MyDrive/urbansound/spectrograms/0/184805-0-0-77.png\n",
            "/content/drive/MyDrive/urbansound/spectrograms/0/184805-0-0-81.png\n"
          ]
        },
        {
          "output_type": "stream",
          "name": "stderr",
          "text": [
            "4521it [00:54, 89.45it/s]"
          ]
        },
        {
          "output_type": "stream",
          "name": "stdout",
          "text": [
            "/content/drive/MyDrive/urbansound/spectrograms/0/184805-0-0-82.png\n",
            "/content/drive/MyDrive/urbansound/spectrograms/0/184805-0-0-88.png\n",
            "/content/drive/MyDrive/urbansound/spectrograms/0/184805-0-0-90.png\n",
            "/content/drive/MyDrive/urbansound/spectrograms/0/184805-0-0-99.png\n",
            "/content/drive/MyDrive/urbansound/spectrograms/9/185373-9-0-21.png\n",
            "/content/drive/MyDrive/urbansound/spectrograms/9/185373-9-0-6.png\n",
            "/content/drive/MyDrive/urbansound/spectrograms/9/185373-9-1-17.png\n",
            "/content/drive/MyDrive/urbansound/spectrograms/9/185373-9-1-46.png\n",
            "/content/drive/MyDrive/urbansound/spectrograms/9/185373-9-1-7.png\n",
            "/content/drive/MyDrive/urbansound/spectrograms/9/185373-9-1-70.png\n",
            "/content/drive/MyDrive/urbansound/spectrograms/9/185374-9-0-16.png\n",
            "/content/drive/MyDrive/urbansound/spectrograms/9/185374-9-0-18.png\n",
            "/content/drive/MyDrive/urbansound/spectrograms/9/185374-9-0-23.png\n",
            "/content/drive/MyDrive/urbansound/spectrograms/9/185374-9-0-30.png\n",
            "/content/drive/MyDrive/urbansound/spectrograms/9/185374-9-0-33.png\n",
            "/content/drive/MyDrive/urbansound/spectrograms/9/185374-9-0-35.png\n",
            "/content/drive/MyDrive/urbansound/spectrograms/9/185374-9-0-60.png\n",
            "/content/drive/MyDrive/urbansound/spectrograms/9/185375-9-0-23.png\n",
            "/content/drive/MyDrive/urbansound/spectrograms/9/185375-9-0-26.png\n"
          ]
        },
        {
          "output_type": "stream",
          "name": "stderr",
          "text": [
            "4540it [00:54, 88.94it/s]"
          ]
        },
        {
          "output_type": "stream",
          "name": "stdout",
          "text": [
            "/content/drive/MyDrive/urbansound/spectrograms/9/185375-9-0-33.png\n",
            "/content/drive/MyDrive/urbansound/spectrograms/9/185375-9-0-60.png\n",
            "/content/drive/MyDrive/urbansound/spectrograms/9/185375-9-0-61.png\n",
            "/content/drive/MyDrive/urbansound/spectrograms/9/185375-9-0-84.png\n",
            "/content/drive/MyDrive/urbansound/spectrograms/1/185436-1-0-0.png\n",
            "/content/drive/MyDrive/urbansound/spectrograms/1/185436-1-1-0.png\n",
            "/content/drive/MyDrive/urbansound/spectrograms/1/185436-1-2-0.png\n",
            "/content/drive/MyDrive/urbansound/spectrograms/1/185436-1-3-0.png\n",
            "/content/drive/MyDrive/urbansound/spectrograms/1/185436-1-4-0.png\n",
            "/content/drive/MyDrive/urbansound/spectrograms/1/185436-1-5-0.png\n",
            "/content/drive/MyDrive/urbansound/spectrograms/1/185436-1-6-0.png\n",
            "/content/drive/MyDrive/urbansound/spectrograms/1/185436-1-7-0.png\n",
            "/content/drive/MyDrive/urbansound/spectrograms/0/185709-0-0-0.png\n",
            "/content/drive/MyDrive/urbansound/spectrograms/0/185709-0-0-1.png\n",
            "/content/drive/MyDrive/urbansound/spectrograms/0/185709-0-0-2.png\n",
            "/content/drive/MyDrive/urbansound/spectrograms/0/185709-0-0-3.png\n",
            "/content/drive/MyDrive/urbansound/spectrograms/0/185709-0-0-4.png\n",
            "/content/drive/MyDrive/urbansound/spectrograms/0/185709-0-0-5.png\n",
            "/content/drive/MyDrive/urbansound/spectrograms/0/185709-0-0-6.png\n"
          ]
        },
        {
          "output_type": "stream",
          "name": "stderr",
          "text": [
            "4558it [00:54, 87.47it/s]"
          ]
        },
        {
          "output_type": "stream",
          "name": "stdout",
          "text": [
            "/content/drive/MyDrive/urbansound/spectrograms/0/185709-0-0-7.png\n",
            "/content/drive/MyDrive/urbansound/spectrograms/0/185709-0-0-8.png\n",
            "/content/drive/MyDrive/urbansound/spectrograms/4/185800-4-0-0.png\n",
            "/content/drive/MyDrive/urbansound/spectrograms/4/185800-4-0-1.png\n",
            "/content/drive/MyDrive/urbansound/spectrograms/4/185800-4-1-0.png\n",
            "/content/drive/MyDrive/urbansound/spectrograms/4/185800-4-2-0.png\n",
            "/content/drive/MyDrive/urbansound/spectrograms/4/185800-4-2-1.png\n",
            "/content/drive/MyDrive/urbansound/spectrograms/4/185800-4-2-2.png\n",
            "/content/drive/MyDrive/urbansound/spectrograms/4/185801-4-0-0.png\n",
            "/content/drive/MyDrive/urbansound/spectrograms/4/185801-4-0-1.png\n",
            "/content/drive/MyDrive/urbansound/spectrograms/4/185801-4-0-2.png\n",
            "/content/drive/MyDrive/urbansound/spectrograms/3/18581-3-0-0.png\n",
            "/content/drive/MyDrive/urbansound/spectrograms/3/18581-3-0-5.png\n",
            "/content/drive/MyDrive/urbansound/spectrograms/3/18581-3-1-1.png\n",
            "/content/drive/MyDrive/urbansound/spectrograms/3/18581-3-1-3.png\n",
            "/content/drive/MyDrive/urbansound/spectrograms/2/185909-2-0-102.png\n",
            "/content/drive/MyDrive/urbansound/spectrograms/2/185909-2-0-116.png\n",
            "/content/drive/MyDrive/urbansound/spectrograms/2/185909-2-0-13.png\n"
          ]
        },
        {
          "output_type": "stream",
          "name": "stderr",
          "text": [
            "4578it [00:54, 90.70it/s]"
          ]
        },
        {
          "output_type": "stream",
          "name": "stdout",
          "text": [
            "/content/drive/MyDrive/urbansound/spectrograms/2/185909-2-0-17.png\n",
            "/content/drive/MyDrive/urbansound/spectrograms/2/185909-2-0-22.png\n",
            "/content/drive/MyDrive/urbansound/spectrograms/2/185909-2-0-34.png\n",
            "/content/drive/MyDrive/urbansound/spectrograms/2/185909-2-0-86.png\n",
            "/content/drive/MyDrive/urbansound/spectrograms/2/185909-2-0-87.png\n",
            "/content/drive/MyDrive/urbansound/spectrograms/5/18592-5-0-0.png\n",
            "/content/drive/MyDrive/urbansound/spectrograms/5/18592-5-0-1.png\n",
            "/content/drive/MyDrive/urbansound/spectrograms/5/18592-5-0-2.png\n",
            "/content/drive/MyDrive/urbansound/spectrograms/5/18592-5-0-3.png\n",
            "/content/drive/MyDrive/urbansound/spectrograms/5/18592-5-0-4.png\n",
            "/content/drive/MyDrive/urbansound/spectrograms/1/18594-1-0-0.png\n",
            "/content/drive/MyDrive/urbansound/spectrograms/1/18594-1-1-0.png\n",
            "/content/drive/MyDrive/urbansound/spectrograms/1/18594-1-2-0.png\n",
            "/content/drive/MyDrive/urbansound/spectrograms/1/18594-1-3-0.png\n",
            "/content/drive/MyDrive/urbansound/spectrograms/1/18594-1-4-0.png\n",
            "/content/drive/MyDrive/urbansound/spectrograms/1/18594-1-5-0.png\n",
            "/content/drive/MyDrive/urbansound/spectrograms/1/18594-1-6-0.png\n",
            "/content/drive/MyDrive/urbansound/spectrograms/2/186334-2-0-1.png\n",
            "/content/drive/MyDrive/urbansound/spectrograms/2/186334-2-0-11.png\n",
            "/content/drive/MyDrive/urbansound/spectrograms/2/186334-2-0-20.png\n"
          ]
        },
        {
          "output_type": "stream",
          "name": "stderr",
          "text": [
            "4598it [00:55, 90.93it/s]"
          ]
        },
        {
          "output_type": "stream",
          "name": "stdout",
          "text": [
            "/content/drive/MyDrive/urbansound/spectrograms/2/186334-2-0-33.png\n",
            "/content/drive/MyDrive/urbansound/spectrograms/2/186334-2-0-35.png\n",
            "/content/drive/MyDrive/urbansound/spectrograms/2/186334-2-0-36.png\n",
            "/content/drive/MyDrive/urbansound/spectrograms/2/186334-2-0-37.png\n",
            "/content/drive/MyDrive/urbansound/spectrograms/2/186334-2-0-44.png\n",
            "/content/drive/MyDrive/urbansound/spectrograms/9/186336-9-0-0.png\n",
            "/content/drive/MyDrive/urbansound/spectrograms/9/186336-9-0-1.png\n",
            "/content/drive/MyDrive/urbansound/spectrograms/9/186336-9-0-2.png\n",
            "/content/drive/MyDrive/urbansound/spectrograms/9/186336-9-0-3.png\n",
            "/content/drive/MyDrive/urbansound/spectrograms/9/186336-9-0-4.png\n",
            "/content/drive/MyDrive/urbansound/spectrograms/9/186339-9-0-1.png\n",
            "/content/drive/MyDrive/urbansound/spectrograms/9/186339-9-0-12.png\n",
            "/content/drive/MyDrive/urbansound/spectrograms/9/186339-9-0-17.png\n",
            "/content/drive/MyDrive/urbansound/spectrograms/9/186339-9-0-18.png\n",
            "/content/drive/MyDrive/urbansound/spectrograms/9/186339-9-0-3.png\n",
            "/content/drive/MyDrive/urbansound/spectrograms/9/186339-9-0-7.png\n",
            "/content/drive/MyDrive/urbansound/spectrograms/5/186935-5-0-0.png\n",
            "/content/drive/MyDrive/urbansound/spectrograms/5/186935-5-0-1.png\n",
            "/content/drive/MyDrive/urbansound/spectrograms/5/186936-5-0-0.png\n"
          ]
        },
        {
          "output_type": "stream",
          "name": "stderr",
          "text": [
            "4618it [00:55, 90.03it/s]"
          ]
        },
        {
          "output_type": "stream",
          "name": "stdout",
          "text": [
            "/content/drive/MyDrive/urbansound/spectrograms/5/186936-5-0-1.png\n",
            "/content/drive/MyDrive/urbansound/spectrograms/5/186938-5-0-0.png\n",
            "/content/drive/MyDrive/urbansound/spectrograms/5/186940-5-0-0.png\n",
            "/content/drive/MyDrive/urbansound/spectrograms/5/187075-5-0-0.png\n",
            "/content/drive/MyDrive/urbansound/spectrograms/5/187075-5-0-1.png\n",
            "/content/drive/MyDrive/urbansound/spectrograms/5/187075-5-0-2.png\n",
            "/content/drive/MyDrive/urbansound/spectrograms/5/187075-5-0-3.png\n",
            "/content/drive/MyDrive/urbansound/spectrograms/5/187075-5-0-4.png\n",
            "/content/drive/MyDrive/urbansound/spectrograms/5/187075-5-0-5.png\n",
            "/content/drive/MyDrive/urbansound/spectrograms/5/187075-5-0-6.png\n",
            "/content/drive/MyDrive/urbansound/spectrograms/5/187075-5-0-7.png\n",
            "/content/drive/MyDrive/urbansound/spectrograms/5/187075-5-0-8.png\n",
            "/content/drive/MyDrive/urbansound/spectrograms/2/187110-2-0-1.png\n",
            "/content/drive/MyDrive/urbansound/spectrograms/2/187110-2-0-10.png\n",
            "/content/drive/MyDrive/urbansound/spectrograms/2/187110-2-0-12.png\n",
            "/content/drive/MyDrive/urbansound/spectrograms/2/187110-2-0-27.png\n",
            "/content/drive/MyDrive/urbansound/spectrograms/2/187110-2-0-30.png\n",
            "/content/drive/MyDrive/urbansound/spectrograms/2/187110-2-0-34.png\n",
            "/content/drive/MyDrive/urbansound/spectrograms/2/187110-2-0-6.png\n"
          ]
        },
        {
          "output_type": "stream",
          "name": "stderr",
          "text": [
            "4639it [00:55, 90.13it/s]"
          ]
        },
        {
          "output_type": "stream",
          "name": "stdout",
          "text": [
            "/content/drive/MyDrive/urbansound/spectrograms/2/187110-2-0-8.png\n",
            "/content/drive/MyDrive/urbansound/spectrograms/1/187356-1-0-0.png\n",
            "/content/drive/MyDrive/urbansound/spectrograms/1/187356-1-1-0.png\n",
            "/content/drive/MyDrive/urbansound/spectrograms/1/187356-1-2-0.png\n",
            "/content/drive/MyDrive/urbansound/spectrograms/1/187356-1-3-0.png\n",
            "/content/drive/MyDrive/urbansound/spectrograms/1/187356-1-4-0.png\n",
            "/content/drive/MyDrive/urbansound/spectrograms/1/187356-1-5-0.png\n",
            "/content/drive/MyDrive/urbansound/spectrograms/1/187356-1-6-0.png\n",
            "/content/drive/MyDrive/urbansound/spectrograms/4/187377-4-0-0.png\n",
            "/content/drive/MyDrive/urbansound/spectrograms/4/187377-4-0-1.png\n",
            "/content/drive/MyDrive/urbansound/spectrograms/3/187378-3-0-12.png\n",
            "/content/drive/MyDrive/urbansound/spectrograms/3/187378-3-0-19.png\n",
            "/content/drive/MyDrive/urbansound/spectrograms/3/187378-3-0-30.png\n",
            "/content/drive/MyDrive/urbansound/spectrograms/3/187378-3-0-7.png\n",
            "/content/drive/MyDrive/urbansound/spectrograms/4/187863-4-0-0.png\n",
            "/content/drive/MyDrive/urbansound/spectrograms/4/187863-4-0-1.png\n",
            "/content/drive/MyDrive/urbansound/spectrograms/4/187863-4-0-2.png\n",
            "/content/drive/MyDrive/urbansound/spectrograms/4/187863-4-0-3.png\n",
            "/content/drive/MyDrive/urbansound/spectrograms/4/187863-4-0-4.png\n"
          ]
        },
        {
          "output_type": "stream",
          "name": "stderr",
          "text": [
            "\r4649it [00:55, 88.91it/s]"
          ]
        },
        {
          "output_type": "stream",
          "name": "stdout",
          "text": [
            "/content/drive/MyDrive/urbansound/spectrograms/4/187863-4-0-5.png\n",
            "/content/drive/MyDrive/urbansound/spectrograms/7/187920-7-0-0.png\n",
            "/content/drive/MyDrive/urbansound/spectrograms/7/187920-7-1-0.png\n",
            "/content/drive/MyDrive/urbansound/spectrograms/7/187920-7-1-1.png\n",
            "/content/drive/MyDrive/urbansound/spectrograms/7/187920-7-1-2.png\n",
            "/content/drive/MyDrive/urbansound/spectrograms/7/187920-7-2-0.png\n",
            "/content/drive/MyDrive/urbansound/spectrograms/8/188004-8-0-0.png\n",
            "/content/drive/MyDrive/urbansound/spectrograms/8/188004-8-0-1.png\n",
            "/content/drive/MyDrive/urbansound/spectrograms/8/188004-8-0-2.png\n",
            "/content/drive/MyDrive/urbansound/spectrograms/2/188497-2-0-0.png\n",
            "/content/drive/MyDrive/urbansound/spectrograms/2/188497-2-0-1.png\n",
            "/content/drive/MyDrive/urbansound/spectrograms/2/188497-2-0-11.png\n",
            "/content/drive/MyDrive/urbansound/spectrograms/2/188497-2-0-17.png\n",
            "/content/drive/MyDrive/urbansound/spectrograms/2/188497-2-0-19.png\n",
            "/content/drive/MyDrive/urbansound/spectrograms/2/188497-2-0-2.png\n",
            "/content/drive/MyDrive/urbansound/spectrograms/2/188497-2-0-23.png\n",
            "/content/drive/MyDrive/urbansound/spectrograms/2/188497-2-0-8.png\n"
          ]
        },
        {
          "output_type": "stream",
          "name": "stderr",
          "text": [
            "4667it [00:55, 83.54it/s]"
          ]
        },
        {
          "output_type": "stream",
          "name": "stdout",
          "text": [
            "/content/drive/MyDrive/urbansound/spectrograms/7/188813-7-0-0.png\n",
            "/content/drive/MyDrive/urbansound/spectrograms/7/188813-7-1-0.png\n",
            "/content/drive/MyDrive/urbansound/spectrograms/7/188813-7-10-0.png\n",
            "/content/drive/MyDrive/urbansound/spectrograms/7/188813-7-10-1.png\n",
            "/content/drive/MyDrive/urbansound/spectrograms/7/188813-7-10-2.png\n",
            "/content/drive/MyDrive/urbansound/spectrograms/7/188813-7-10-3.png\n",
            "/content/drive/MyDrive/urbansound/spectrograms/7/188813-7-11-0.png\n",
            "/content/drive/MyDrive/urbansound/spectrograms/7/188813-7-11-1.png\n",
            "/content/drive/MyDrive/urbansound/spectrograms/7/188813-7-12-0.png\n",
            "/content/drive/MyDrive/urbansound/spectrograms/7/188813-7-13-0.png\n",
            "/content/drive/MyDrive/urbansound/spectrograms/7/188813-7-2-0.png\n",
            "/content/drive/MyDrive/urbansound/spectrograms/7/188813-7-3-0.png\n",
            "/content/drive/MyDrive/urbansound/spectrograms/7/188813-7-4-0.png\n",
            "/content/drive/MyDrive/urbansound/spectrograms/7/188813-7-5-0.png\n",
            "/content/drive/MyDrive/urbansound/spectrograms/7/188813-7-6-0.png\n",
            "/content/drive/MyDrive/urbansound/spectrograms/7/188813-7-7-0.png\n",
            "/content/drive/MyDrive/urbansound/spectrograms/7/188813-7-8-0.png\n"
          ]
        },
        {
          "output_type": "stream",
          "name": "stderr",
          "text": [
            "4685it [00:56, 83.31it/s]"
          ]
        },
        {
          "output_type": "stream",
          "name": "stdout",
          "text": [
            "/content/drive/MyDrive/urbansound/spectrograms/7/188813-7-9-0.png\n",
            "/content/drive/MyDrive/urbansound/spectrograms/7/188823-7-0-0.png\n",
            "/content/drive/MyDrive/urbansound/spectrograms/7/188823-7-0-1.png\n",
            "/content/drive/MyDrive/urbansound/spectrograms/7/188823-7-0-2.png\n",
            "/content/drive/MyDrive/urbansound/spectrograms/7/188823-7-0-3.png\n",
            "/content/drive/MyDrive/urbansound/spectrograms/7/188823-7-0-4.png\n",
            "/content/drive/MyDrive/urbansound/spectrograms/7/188823-7-1-0.png\n",
            "/content/drive/MyDrive/urbansound/spectrograms/7/188823-7-1-1.png\n",
            "/content/drive/MyDrive/urbansound/spectrograms/7/188823-7-1-2.png\n",
            "/content/drive/MyDrive/urbansound/spectrograms/7/188823-7-1-3.png\n",
            "/content/drive/MyDrive/urbansound/spectrograms/7/188823-7-2-0.png\n",
            "/content/drive/MyDrive/urbansound/spectrograms/7/188823-7-2-1.png\n",
            "/content/drive/MyDrive/urbansound/spectrograms/7/188823-7-2-2.png\n",
            "/content/drive/MyDrive/urbansound/spectrograms/7/188823-7-2-3.png\n",
            "/content/drive/MyDrive/urbansound/spectrograms/7/188823-7-3-0.png\n",
            "/content/drive/MyDrive/urbansound/spectrograms/7/188823-7-4-0.png\n",
            "/content/drive/MyDrive/urbansound/spectrograms/7/188823-7-5-0.png\n"
          ]
        },
        {
          "output_type": "stream",
          "name": "stderr",
          "text": [
            "4703it [00:56, 84.87it/s]"
          ]
        },
        {
          "output_type": "stream",
          "name": "stdout",
          "text": [
            "/content/drive/MyDrive/urbansound/spectrograms/7/188823-7-6-0.png\n",
            "/content/drive/MyDrive/urbansound/spectrograms/7/188824-7-0-0.png\n",
            "/content/drive/MyDrive/urbansound/spectrograms/7/188824-7-1-0.png\n",
            "/content/drive/MyDrive/urbansound/spectrograms/7/188824-7-10-0.png\n",
            "/content/drive/MyDrive/urbansound/spectrograms/7/188824-7-11-0.png\n",
            "/content/drive/MyDrive/urbansound/spectrograms/7/188824-7-12-0.png\n",
            "/content/drive/MyDrive/urbansound/spectrograms/7/188824-7-2-0.png\n",
            "/content/drive/MyDrive/urbansound/spectrograms/7/188824-7-3-0.png\n",
            "/content/drive/MyDrive/urbansound/spectrograms/7/188824-7-4-0.png\n",
            "/content/drive/MyDrive/urbansound/spectrograms/7/188824-7-5-0.png\n",
            "/content/drive/MyDrive/urbansound/spectrograms/7/188824-7-6-0.png\n",
            "/content/drive/MyDrive/urbansound/spectrograms/7/188824-7-7-0.png\n",
            "/content/drive/MyDrive/urbansound/spectrograms/7/188824-7-8-0.png\n",
            "/content/drive/MyDrive/urbansound/spectrograms/7/188824-7-9-0.png\n",
            "/content/drive/MyDrive/urbansound/spectrograms/0/189023-0-0-0.png\n",
            "/content/drive/MyDrive/urbansound/spectrograms/0/189023-0-0-1.png\n",
            "/content/drive/MyDrive/urbansound/spectrograms/0/189023-0-0-10.png\n",
            "/content/drive/MyDrive/urbansound/spectrograms/0/189023-0-0-11.png\n",
            "/content/drive/MyDrive/urbansound/spectrograms/0/189023-0-0-12.png\n"
          ]
        },
        {
          "output_type": "stream",
          "name": "stderr",
          "text": [
            "4721it [00:56, 84.46it/s]"
          ]
        },
        {
          "output_type": "stream",
          "name": "stdout",
          "text": [
            "/content/drive/MyDrive/urbansound/spectrograms/0/189023-0-0-13.png\n",
            "/content/drive/MyDrive/urbansound/spectrograms/0/189023-0-0-2.png\n",
            "/content/drive/MyDrive/urbansound/spectrograms/0/189023-0-0-3.png\n",
            "/content/drive/MyDrive/urbansound/spectrograms/0/189023-0-0-4.png\n",
            "/content/drive/MyDrive/urbansound/spectrograms/0/189023-0-0-5.png\n",
            "/content/drive/MyDrive/urbansound/spectrograms/0/189023-0-0-6.png\n",
            "/content/drive/MyDrive/urbansound/spectrograms/0/189023-0-0-7.png\n",
            "/content/drive/MyDrive/urbansound/spectrograms/0/189023-0-0-8.png\n",
            "/content/drive/MyDrive/urbansound/spectrograms/0/189023-0-0-9.png\n",
            "/content/drive/MyDrive/urbansound/spectrograms/1/18933-1-0-0.png\n",
            "/content/drive/MyDrive/urbansound/spectrograms/9/189825-9-0-0.png\n",
            "/content/drive/MyDrive/urbansound/spectrograms/9/189825-9-0-1.png\n",
            "/content/drive/MyDrive/urbansound/spectrograms/9/189825-9-0-2.png\n",
            "/content/drive/MyDrive/urbansound/spectrograms/9/189825-9-0-3.png\n",
            "/content/drive/MyDrive/urbansound/spectrograms/9/189825-9-0-5.png\n",
            "/content/drive/MyDrive/urbansound/spectrograms/9/189825-9-0-7.png\n"
          ]
        },
        {
          "output_type": "stream",
          "name": "stderr",
          "text": [
            "4739it [00:56, 81.92it/s]"
          ]
        },
        {
          "output_type": "stream",
          "name": "stdout",
          "text": [
            "/content/drive/MyDrive/urbansound/spectrograms/3/189846-3-0-0.png\n",
            "/content/drive/MyDrive/urbansound/spectrograms/3/189846-3-1-0.png\n",
            "/content/drive/MyDrive/urbansound/spectrograms/3/189846-3-3-0.png\n",
            "/content/drive/MyDrive/urbansound/spectrograms/3/189846-3-4-0.png\n",
            "/content/drive/MyDrive/urbansound/spectrograms/3/189895-3-0-0.png\n",
            "/content/drive/MyDrive/urbansound/spectrograms/0/189981-0-0-0.png\n",
            "/content/drive/MyDrive/urbansound/spectrograms/0/189981-0-0-1.png\n",
            "/content/drive/MyDrive/urbansound/spectrograms/0/189981-0-0-10.png\n",
            "/content/drive/MyDrive/urbansound/spectrograms/0/189981-0-0-11.png\n",
            "/content/drive/MyDrive/urbansound/spectrograms/0/189981-0-0-12.png\n",
            "/content/drive/MyDrive/urbansound/spectrograms/0/189981-0-0-13.png\n",
            "/content/drive/MyDrive/urbansound/spectrograms/0/189981-0-0-14.png\n",
            "/content/drive/MyDrive/urbansound/spectrograms/0/189981-0-0-15.png\n",
            "/content/drive/MyDrive/urbansound/spectrograms/0/189981-0-0-16.png\n",
            "/content/drive/MyDrive/urbansound/spectrograms/0/189981-0-0-17.png\n",
            "/content/drive/MyDrive/urbansound/spectrograms/0/189981-0-0-2.png\n",
            "/content/drive/MyDrive/urbansound/spectrograms/0/189981-0-0-3.png\n"
          ]
        },
        {
          "output_type": "stream",
          "name": "stderr",
          "text": [
            "4757it [00:56, 81.09it/s]"
          ]
        },
        {
          "output_type": "stream",
          "name": "stdout",
          "text": [
            "/content/drive/MyDrive/urbansound/spectrograms/0/189981-0-0-4.png\n",
            "/content/drive/MyDrive/urbansound/spectrograms/0/189981-0-0-5.png\n",
            "/content/drive/MyDrive/urbansound/spectrograms/0/189981-0-0-6.png\n",
            "/content/drive/MyDrive/urbansound/spectrograms/0/189981-0-0-7.png\n",
            "/content/drive/MyDrive/urbansound/spectrograms/0/189981-0-0-8.png\n",
            "/content/drive/MyDrive/urbansound/spectrograms/0/189981-0-0-9.png\n",
            "/content/drive/MyDrive/urbansound/spectrograms/0/189982-0-0-11.png\n",
            "/content/drive/MyDrive/urbansound/spectrograms/0/189982-0-0-13.png\n",
            "/content/drive/MyDrive/urbansound/spectrograms/0/189982-0-0-16.png\n",
            "/content/drive/MyDrive/urbansound/spectrograms/0/189982-0-0-17.png\n",
            "/content/drive/MyDrive/urbansound/spectrograms/0/189982-0-0-18.png\n",
            "/content/drive/MyDrive/urbansound/spectrograms/0/189982-0-0-19.png\n",
            "/content/drive/MyDrive/urbansound/spectrograms/0/189982-0-0-2.png\n",
            "/content/drive/MyDrive/urbansound/spectrograms/0/189982-0-0-20.png\n",
            "/content/drive/MyDrive/urbansound/spectrograms/0/189982-0-0-23.png\n",
            "/content/drive/MyDrive/urbansound/spectrograms/0/189982-0-0-27.png\n",
            "/content/drive/MyDrive/urbansound/spectrograms/0/189982-0-0-28.png\n"
          ]
        },
        {
          "output_type": "stream",
          "name": "stderr",
          "text": [
            "4775it [00:57, 81.86it/s]"
          ]
        },
        {
          "output_type": "stream",
          "name": "stdout",
          "text": [
            "/content/drive/MyDrive/urbansound/spectrograms/0/189982-0-0-3.png\n",
            "/content/drive/MyDrive/urbansound/spectrograms/0/189982-0-0-30.png\n",
            "/content/drive/MyDrive/urbansound/spectrograms/0/189982-0-0-33.png\n",
            "/content/drive/MyDrive/urbansound/spectrograms/0/189982-0-0-35.png\n",
            "/content/drive/MyDrive/urbansound/spectrograms/0/189982-0-0-36.png\n",
            "/content/drive/MyDrive/urbansound/spectrograms/0/189982-0-0-38.png\n",
            "/content/drive/MyDrive/urbansound/spectrograms/0/189982-0-0-39.png\n",
            "/content/drive/MyDrive/urbansound/spectrograms/0/189982-0-0-4.png\n",
            "/content/drive/MyDrive/urbansound/spectrograms/0/189982-0-0-42.png\n",
            "/content/drive/MyDrive/urbansound/spectrograms/0/189982-0-0-43.png\n",
            "/content/drive/MyDrive/urbansound/spectrograms/0/189982-0-0-44.png\n",
            "/content/drive/MyDrive/urbansound/spectrograms/0/189982-0-0-45.png\n",
            "/content/drive/MyDrive/urbansound/spectrograms/0/189982-0-0-6.png\n",
            "/content/drive/MyDrive/urbansound/spectrograms/0/189982-0-0-7.png\n",
            "/content/drive/MyDrive/urbansound/spectrograms/0/189985-0-0-0.png\n",
            "/content/drive/MyDrive/urbansound/spectrograms/0/189985-0-0-1.png\n",
            "/content/drive/MyDrive/urbansound/spectrograms/0/189985-0-0-2.png\n",
            "/content/drive/MyDrive/urbansound/spectrograms/0/189985-0-0-3.png\n"
          ]
        },
        {
          "output_type": "stream",
          "name": "stderr",
          "text": [
            "4793it [00:57, 85.45it/s]"
          ]
        },
        {
          "output_type": "stream",
          "name": "stdout",
          "text": [
            "/content/drive/MyDrive/urbansound/spectrograms/0/189985-0-0-4.png\n",
            "/content/drive/MyDrive/urbansound/spectrograms/0/189985-0-0-5.png\n",
            "/content/drive/MyDrive/urbansound/spectrograms/0/189985-0-0-6.png\n",
            "/content/drive/MyDrive/urbansound/spectrograms/0/189986-0-0-0.png\n",
            "/content/drive/MyDrive/urbansound/spectrograms/0/189987-0-0-0.png\n",
            "/content/drive/MyDrive/urbansound/spectrograms/0/189987-0-0-1.png\n",
            "/content/drive/MyDrive/urbansound/spectrograms/0/189987-0-0-2.png\n",
            "/content/drive/MyDrive/urbansound/spectrograms/0/189987-0-0-3.png\n",
            "/content/drive/MyDrive/urbansound/spectrograms/0/189987-0-0-4.png\n",
            "/content/drive/MyDrive/urbansound/spectrograms/0/189988-0-0-0.png\n",
            "/content/drive/MyDrive/urbansound/spectrograms/0/189988-0-0-1.png\n",
            "/content/drive/MyDrive/urbansound/spectrograms/0/189988-0-0-2.png\n",
            "/content/drive/MyDrive/urbansound/spectrograms/0/189988-0-0-3.png\n",
            "/content/drive/MyDrive/urbansound/spectrograms/0/189988-0-0-4.png\n",
            "/content/drive/MyDrive/urbansound/spectrograms/0/189988-0-0-5.png\n",
            "/content/drive/MyDrive/urbansound/spectrograms/0/189989-0-0-0.png\n",
            "/content/drive/MyDrive/urbansound/spectrograms/0/189989-0-0-1.png\n",
            "/content/drive/MyDrive/urbansound/spectrograms/0/189989-0-0-2.png\n"
          ]
        },
        {
          "output_type": "stream",
          "name": "stderr",
          "text": [
            "4812it [00:57, 87.39it/s]"
          ]
        },
        {
          "output_type": "stream",
          "name": "stdout",
          "text": [
            "/content/drive/MyDrive/urbansound/spectrograms/0/189991-0-0-0.png\n",
            "/content/drive/MyDrive/urbansound/spectrograms/0/189991-0-0-1.png\n",
            "/content/drive/MyDrive/urbansound/spectrograms/0/189991-0-0-2.png\n",
            "/content/drive/MyDrive/urbansound/spectrograms/0/189991-0-0-3.png\n",
            "/content/drive/MyDrive/urbansound/spectrograms/0/189991-0-0-4.png\n",
            "/content/drive/MyDrive/urbansound/spectrograms/0/189991-0-0-5.png\n",
            "/content/drive/MyDrive/urbansound/spectrograms/0/189991-0-0-6.png\n",
            "/content/drive/MyDrive/urbansound/spectrograms/0/189991-0-0-7.png\n",
            "/content/drive/MyDrive/urbansound/spectrograms/4/19007-4-0-0.png\n",
            "/content/drive/MyDrive/urbansound/spectrograms/1/19026-1-0-0.png\n",
            "/content/drive/MyDrive/urbansound/spectrograms/3/190680-3-1-0.png\n",
            "/content/drive/MyDrive/urbansound/spectrograms/3/190680-3-4-0.png\n",
            "/content/drive/MyDrive/urbansound/spectrograms/3/190680-3-6-0.png\n",
            "/content/drive/MyDrive/urbansound/spectrograms/2/190893-2-0-10.png\n",
            "/content/drive/MyDrive/urbansound/spectrograms/2/190893-2-0-11.png\n",
            "/content/drive/MyDrive/urbansound/spectrograms/2/190893-2-0-12.png\n",
            "/content/drive/MyDrive/urbansound/spectrograms/2/190893-2-0-21.png\n",
            "/content/drive/MyDrive/urbansound/spectrograms/2/190893-2-0-23.png\n",
            "/content/drive/MyDrive/urbansound/spectrograms/2/190893-2-0-27.png\n"
          ]
        },
        {
          "output_type": "stream",
          "name": "stderr",
          "text": [
            "4830it [00:57, 85.08it/s]"
          ]
        },
        {
          "output_type": "stream",
          "name": "stdout",
          "text": [
            "/content/drive/MyDrive/urbansound/spectrograms/2/190893-2-0-28.png\n",
            "/content/drive/MyDrive/urbansound/spectrograms/2/190893-2-0-7.png\n",
            "/content/drive/MyDrive/urbansound/spectrograms/2/190894-2-0-0.png\n",
            "/content/drive/MyDrive/urbansound/spectrograms/2/190894-2-0-2.png\n",
            "/content/drive/MyDrive/urbansound/spectrograms/2/190894-2-0-3.png\n",
            "/content/drive/MyDrive/urbansound/spectrograms/2/190894-2-0-4.png\n",
            "/content/drive/MyDrive/urbansound/spectrograms/2/190894-2-0-5.png\n",
            "/content/drive/MyDrive/urbansound/spectrograms/2/190894-2-0-6.png\n",
            "/content/drive/MyDrive/urbansound/spectrograms/2/190894-2-0-7.png\n",
            "/content/drive/MyDrive/urbansound/spectrograms/2/190894-2-0-8.png\n",
            "/content/drive/MyDrive/urbansound/spectrograms/3/190996-3-0-0.png\n",
            "/content/drive/MyDrive/urbansound/spectrograms/3/190996-3-0-1.png\n",
            "/content/drive/MyDrive/urbansound/spectrograms/3/190996-3-0-8.png\n",
            "/content/drive/MyDrive/urbansound/spectrograms/3/191382-3-0-0.png\n",
            "/content/drive/MyDrive/urbansound/spectrograms/3/191382-3-0-5.png\n",
            "/content/drive/MyDrive/urbansound/spectrograms/3/191382-3-1-0.png\n",
            "/content/drive/MyDrive/urbansound/spectrograms/3/191382-3-1-1.png\n",
            "/content/drive/MyDrive/urbansound/spectrograms/9/191431-9-0-26.png\n"
          ]
        },
        {
          "output_type": "stream",
          "name": "stderr",
          "text": [
            "4849it [00:58, 84.57it/s]"
          ]
        },
        {
          "output_type": "stream",
          "name": "stdout",
          "text": [
            "/content/drive/MyDrive/urbansound/spectrograms/9/191431-9-0-30.png\n",
            "/content/drive/MyDrive/urbansound/spectrograms/9/191431-9-0-61.png\n",
            "/content/drive/MyDrive/urbansound/spectrograms/9/191431-9-0-66.png\n",
            "/content/drive/MyDrive/urbansound/spectrograms/9/191431-9-0-73.png\n",
            "/content/drive/MyDrive/urbansound/spectrograms/9/191431-9-0-8.png\n",
            "/content/drive/MyDrive/urbansound/spectrograms/6/191449-6-0-0.png\n",
            "/content/drive/MyDrive/urbansound/spectrograms/3/191687-3-0-0.png\n",
            "/content/drive/MyDrive/urbansound/spectrograms/3/191687-3-0-11.png\n",
            "/content/drive/MyDrive/urbansound/spectrograms/3/191687-3-0-15.png\n",
            "/content/drive/MyDrive/urbansound/spectrograms/3/191687-3-0-5.png\n",
            "/content/drive/MyDrive/urbansound/spectrograms/2/192123-2-0-0.png\n",
            "/content/drive/MyDrive/urbansound/spectrograms/2/192123-2-0-10.png\n",
            "/content/drive/MyDrive/urbansound/spectrograms/2/192123-2-0-11.png\n",
            "/content/drive/MyDrive/urbansound/spectrograms/2/192123-2-0-17.png\n",
            "/content/drive/MyDrive/urbansound/spectrograms/2/192123-2-0-18.png\n",
            "/content/drive/MyDrive/urbansound/spectrograms/2/192123-2-0-22.png\n",
            "/content/drive/MyDrive/urbansound/spectrograms/2/192123-2-0-23.png\n",
            "/content/drive/MyDrive/urbansound/spectrograms/2/192123-2-0-4.png\n"
          ]
        },
        {
          "output_type": "stream",
          "name": "stderr",
          "text": [
            "4868it [00:58, 89.07it/s]"
          ]
        },
        {
          "output_type": "stream",
          "name": "stdout",
          "text": [
            "/content/drive/MyDrive/urbansound/spectrograms/2/192124-2-0-0.png\n",
            "/content/drive/MyDrive/urbansound/spectrograms/2/192124-2-0-11.png\n",
            "/content/drive/MyDrive/urbansound/spectrograms/2/192124-2-0-12.png\n",
            "/content/drive/MyDrive/urbansound/spectrograms/2/192124-2-0-15.png\n",
            "/content/drive/MyDrive/urbansound/spectrograms/2/192124-2-0-3.png\n",
            "/content/drive/MyDrive/urbansound/spectrograms/2/192124-2-0-4.png\n",
            "/content/drive/MyDrive/urbansound/spectrograms/2/192124-2-0-5.png\n",
            "/content/drive/MyDrive/urbansound/spectrograms/2/192124-2-0-7.png\n",
            "/content/drive/MyDrive/urbansound/spectrograms/3/19218-3-0-0.png\n",
            "/content/drive/MyDrive/urbansound/spectrograms/3/192236-3-0-2.png\n",
            "/content/drive/MyDrive/urbansound/spectrograms/3/192236-3-0-4.png\n",
            "/content/drive/MyDrive/urbansound/spectrograms/3/192236-3-0-6.png\n",
            "/content/drive/MyDrive/urbansound/spectrograms/3/192236-3-0-8.png\n",
            "/content/drive/MyDrive/urbansound/spectrograms/2/192269-2-0-1.png\n",
            "/content/drive/MyDrive/urbansound/spectrograms/2/192269-2-0-11.png\n",
            "/content/drive/MyDrive/urbansound/spectrograms/2/192269-2-0-18.png\n",
            "/content/drive/MyDrive/urbansound/spectrograms/2/192269-2-0-24.png\n",
            "/content/drive/MyDrive/urbansound/spectrograms/2/192269-2-0-35.png\n",
            "/content/drive/MyDrive/urbansound/spectrograms/2/192269-2-0-37.png\n",
            "/content/drive/MyDrive/urbansound/spectrograms/2/192269-2-0-54.png\n"
          ]
        },
        {
          "output_type": "stream",
          "name": "stderr",
          "text": [
            "4887it [00:58, 89.31it/s]"
          ]
        },
        {
          "output_type": "stream",
          "name": "stdout",
          "text": [
            "/content/drive/MyDrive/urbansound/spectrograms/2/192269-2-0-56.png\n",
            "/content/drive/MyDrive/urbansound/spectrograms/2/192382-2-0-105.png\n",
            "/content/drive/MyDrive/urbansound/spectrograms/2/192382-2-0-12.png\n",
            "/content/drive/MyDrive/urbansound/spectrograms/2/192382-2-0-18.png\n",
            "/content/drive/MyDrive/urbansound/spectrograms/2/192382-2-0-36.png\n",
            "/content/drive/MyDrive/urbansound/spectrograms/2/192382-2-0-66.png\n",
            "/content/drive/MyDrive/urbansound/spectrograms/2/192382-2-0-67.png\n",
            "/content/drive/MyDrive/urbansound/spectrograms/2/192382-2-0-8.png\n",
            "/content/drive/MyDrive/urbansound/spectrograms/2/192382-2-0-9.png\n",
            "/content/drive/MyDrive/urbansound/spectrograms/5/19338-5-0-0.png\n",
            "/content/drive/MyDrive/urbansound/spectrograms/5/19338-5-1-0.png\n",
            "/content/drive/MyDrive/urbansound/spectrograms/5/19338-5-2-0.png\n",
            "/content/drive/MyDrive/urbansound/spectrograms/5/19338-5-3-0.png\n",
            "/content/drive/MyDrive/urbansound/spectrograms/3/193394-3-0-10.png\n",
            "/content/drive/MyDrive/urbansound/spectrograms/3/193394-3-0-11.png\n",
            "/content/drive/MyDrive/urbansound/spectrograms/3/193394-3-0-4.png\n",
            "/content/drive/MyDrive/urbansound/spectrograms/3/193394-3-0-7.png\n",
            "/content/drive/MyDrive/urbansound/spectrograms/2/193697-2-0-103.png\n",
            "/content/drive/MyDrive/urbansound/spectrograms/2/193697-2-0-107.png\n",
            "/content/drive/MyDrive/urbansound/spectrograms/2/193697-2-0-110.png\n"
          ]
        },
        {
          "output_type": "stream",
          "name": "stderr",
          "text": [
            "4905it [00:58, 86.35it/s]"
          ]
        },
        {
          "output_type": "stream",
          "name": "stdout",
          "text": [
            "/content/drive/MyDrive/urbansound/spectrograms/2/193697-2-0-135.png\n",
            "/content/drive/MyDrive/urbansound/spectrograms/2/193697-2-0-5.png\n",
            "/content/drive/MyDrive/urbansound/spectrograms/2/193697-2-0-90.png\n",
            "/content/drive/MyDrive/urbansound/spectrograms/2/193697-2-0-99.png\n",
            "/content/drive/MyDrive/urbansound/spectrograms/2/193698-2-0-112.png\n",
            "/content/drive/MyDrive/urbansound/spectrograms/2/193698-2-0-113.png\n",
            "/content/drive/MyDrive/urbansound/spectrograms/2/193698-2-0-114.png\n",
            "/content/drive/MyDrive/urbansound/spectrograms/2/193698-2-0-140.png\n",
            "/content/drive/MyDrive/urbansound/spectrograms/2/193698-2-0-42.png\n",
            "/content/drive/MyDrive/urbansound/spectrograms/2/193698-2-0-58.png\n",
            "/content/drive/MyDrive/urbansound/spectrograms/2/193698-2-0-64.png\n",
            "/content/drive/MyDrive/urbansound/spectrograms/2/193698-2-0-89.png\n",
            "/content/drive/MyDrive/urbansound/spectrograms/2/193699-2-0-109.png\n",
            "/content/drive/MyDrive/urbansound/spectrograms/2/193699-2-0-3.png\n",
            "/content/drive/MyDrive/urbansound/spectrograms/2/193699-2-0-32.png\n",
            "/content/drive/MyDrive/urbansound/spectrograms/2/193699-2-0-33.png\n",
            "/content/drive/MyDrive/urbansound/spectrograms/2/193699-2-0-46.png\n",
            "/content/drive/MyDrive/urbansound/spectrograms/2/193699-2-0-54.png\n"
          ]
        },
        {
          "output_type": "stream",
          "name": "stderr",
          "text": [
            "4924it [00:58, 84.90it/s]"
          ]
        },
        {
          "output_type": "stream",
          "name": "stdout",
          "text": [
            "/content/drive/MyDrive/urbansound/spectrograms/2/193699-2-0-62.png\n",
            "/content/drive/MyDrive/urbansound/spectrograms/2/193699-2-0-69.png\n",
            "/content/drive/MyDrive/urbansound/spectrograms/9/194310-9-0-15.png\n",
            "/content/drive/MyDrive/urbansound/spectrograms/9/194310-9-0-3.png\n",
            "/content/drive/MyDrive/urbansound/spectrograms/9/194310-9-0-35.png\n",
            "/content/drive/MyDrive/urbansound/spectrograms/9/194310-9-0-7.png\n",
            "/content/drive/MyDrive/urbansound/spectrograms/9/194310-9-0-73.png\n",
            "/content/drive/MyDrive/urbansound/spectrograms/9/194310-9-0-8.png\n",
            "/content/drive/MyDrive/urbansound/spectrograms/9/194321-9-0-100.png\n",
            "/content/drive/MyDrive/urbansound/spectrograms/9/194321-9-0-126.png\n",
            "/content/drive/MyDrive/urbansound/spectrograms/9/194321-9-0-150.png\n",
            "/content/drive/MyDrive/urbansound/spectrograms/9/194321-9-0-241.png\n",
            "/content/drive/MyDrive/urbansound/spectrograms/9/194321-9-0-6.png\n",
            "/content/drive/MyDrive/urbansound/spectrograms/9/194321-9-0-61.png\n",
            "/content/drive/MyDrive/urbansound/spectrograms/9/194458-9-0-2.png\n",
            "/content/drive/MyDrive/urbansound/spectrograms/9/194458-9-0-34.png\n",
            "/content/drive/MyDrive/urbansound/spectrograms/9/194458-9-1-122.png\n"
          ]
        },
        {
          "output_type": "stream",
          "name": "stderr",
          "text": [
            "4943it [00:59, 88.54it/s]"
          ]
        },
        {
          "output_type": "stream",
          "name": "stdout",
          "text": [
            "/content/drive/MyDrive/urbansound/spectrograms/9/194458-9-1-75.png\n",
            "/content/drive/MyDrive/urbansound/spectrograms/9/194458-9-1-91.png\n",
            "/content/drive/MyDrive/urbansound/spectrograms/9/194732-9-0-126.png\n",
            "/content/drive/MyDrive/urbansound/spectrograms/9/194732-9-0-163.png\n",
            "/content/drive/MyDrive/urbansound/spectrograms/9/194732-9-0-171.png\n",
            "/content/drive/MyDrive/urbansound/spectrograms/9/194732-9-0-175.png\n",
            "/content/drive/MyDrive/urbansound/spectrograms/9/194732-9-0-191.png\n",
            "/content/drive/MyDrive/urbansound/spectrograms/9/194732-9-0-41.png\n",
            "/content/drive/MyDrive/urbansound/spectrograms/9/194732-9-0-95.png\n",
            "/content/drive/MyDrive/urbansound/spectrograms/9/194733-9-0-1.png\n",
            "/content/drive/MyDrive/urbansound/spectrograms/9/194733-9-0-10.png\n",
            "/content/drive/MyDrive/urbansound/spectrograms/9/194733-9-0-11.png\n",
            "/content/drive/MyDrive/urbansound/spectrograms/9/194733-9-0-12.png\n",
            "/content/drive/MyDrive/urbansound/spectrograms/9/194733-9-0-14.png\n",
            "/content/drive/MyDrive/urbansound/spectrograms/9/194733-9-0-16.png\n",
            "/content/drive/MyDrive/urbansound/spectrograms/9/194733-9-0-7.png\n",
            "/content/drive/MyDrive/urbansound/spectrograms/3/194753-3-0-0.png\n",
            "/content/drive/MyDrive/urbansound/spectrograms/3/194753-3-1-0.png\n",
            "/content/drive/MyDrive/urbansound/spectrograms/3/194753-3-2-0.png\n",
            "/content/drive/MyDrive/urbansound/spectrograms/3/194753-3-3-0.png\n"
          ]
        },
        {
          "output_type": "stream",
          "name": "stderr",
          "text": [
            "4963it [00:59, 92.25it/s]"
          ]
        },
        {
          "output_type": "stream",
          "name": "stdout",
          "text": [
            "/content/drive/MyDrive/urbansound/spectrograms/3/194754-3-0-0.png\n",
            "/content/drive/MyDrive/urbansound/spectrograms/3/194754-3-0-1.png\n",
            "/content/drive/MyDrive/urbansound/spectrograms/3/194754-3-0-2.png\n",
            "/content/drive/MyDrive/urbansound/spectrograms/9/194841-9-0-130.png\n",
            "/content/drive/MyDrive/urbansound/spectrograms/9/194841-9-0-144.png\n",
            "/content/drive/MyDrive/urbansound/spectrograms/9/194841-9-0-164.png\n",
            "/content/drive/MyDrive/urbansound/spectrograms/9/194841-9-0-178.png\n",
            "/content/drive/MyDrive/urbansound/spectrograms/9/194841-9-0-222.png\n",
            "/content/drive/MyDrive/urbansound/spectrograms/9/194841-9-0-48.png\n",
            "/content/drive/MyDrive/urbansound/spectrograms/9/194910-9-0-108.png\n",
            "/content/drive/MyDrive/urbansound/spectrograms/9/194910-9-0-26.png\n",
            "/content/drive/MyDrive/urbansound/spectrograms/9/194910-9-0-5.png\n",
            "/content/drive/MyDrive/urbansound/spectrograms/9/194910-9-0-63.png\n",
            "/content/drive/MyDrive/urbansound/spectrograms/9/194910-9-0-65.png\n",
            "/content/drive/MyDrive/urbansound/spectrograms/3/19496-3-0-0.png\n",
            "/content/drive/MyDrive/urbansound/spectrograms/3/19496-3-1-0.png\n",
            "/content/drive/MyDrive/urbansound/spectrograms/3/19496-3-1-1.png\n",
            "/content/drive/MyDrive/urbansound/spectrograms/5/194962-5-0-0.png\n",
            "/content/drive/MyDrive/urbansound/spectrograms/5/194962-5-0-1.png\n",
            "/content/drive/MyDrive/urbansound/spectrograms/5/194962-5-0-2.png\n"
          ]
        },
        {
          "output_type": "stream",
          "name": "stderr",
          "text": [
            "4983it [00:59, 90.17it/s]"
          ]
        },
        {
          "output_type": "stream",
          "name": "stdout",
          "text": [
            "/content/drive/MyDrive/urbansound/spectrograms/3/19503-3-0-0.png\n",
            "/content/drive/MyDrive/urbansound/spectrograms/3/19503-3-1-0.png\n",
            "/content/drive/MyDrive/urbansound/spectrograms/3/19503-3-2-0.png\n",
            "/content/drive/MyDrive/urbansound/spectrograms/4/195063-4-0-0.png\n",
            "/content/drive/MyDrive/urbansound/spectrograms/4/195063-4-1-0.png\n",
            "/content/drive/MyDrive/urbansound/spectrograms/5/195451-5-0-0.png\n",
            "/content/drive/MyDrive/urbansound/spectrograms/5/195451-5-0-1.png\n",
            "/content/drive/MyDrive/urbansound/spectrograms/5/195451-5-0-10.png\n",
            "/content/drive/MyDrive/urbansound/spectrograms/5/195451-5-0-11.png\n",
            "/content/drive/MyDrive/urbansound/spectrograms/5/195451-5-0-12.png\n",
            "/content/drive/MyDrive/urbansound/spectrograms/5/195451-5-0-13.png\n",
            "/content/drive/MyDrive/urbansound/spectrograms/5/195451-5-0-14.png\n",
            "/content/drive/MyDrive/urbansound/spectrograms/5/195451-5-0-15.png\n",
            "/content/drive/MyDrive/urbansound/spectrograms/5/195451-5-0-16.png\n",
            "/content/drive/MyDrive/urbansound/spectrograms/5/195451-5-0-17.png\n",
            "/content/drive/MyDrive/urbansound/spectrograms/5/195451-5-0-18.png\n",
            "/content/drive/MyDrive/urbansound/spectrograms/5/195451-5-0-19.png\n",
            "/content/drive/MyDrive/urbansound/spectrograms/5/195451-5-0-2.png\n",
            "/content/drive/MyDrive/urbansound/spectrograms/5/195451-5-0-20.png\n"
          ]
        },
        {
          "output_type": "stream",
          "name": "stderr",
          "text": [
            "\r4993it [00:59, 89.56it/s]"
          ]
        },
        {
          "output_type": "stream",
          "name": "stdout",
          "text": [
            "/content/drive/MyDrive/urbansound/spectrograms/5/195451-5-0-21.png\n",
            "/content/drive/MyDrive/urbansound/spectrograms/5/195451-5-0-3.png\n",
            "/content/drive/MyDrive/urbansound/spectrograms/5/195451-5-0-4.png\n",
            "/content/drive/MyDrive/urbansound/spectrograms/5/195451-5-0-5.png\n",
            "/content/drive/MyDrive/urbansound/spectrograms/5/195451-5-0-6.png\n",
            "/content/drive/MyDrive/urbansound/spectrograms/5/195451-5-0-7.png\n",
            "/content/drive/MyDrive/urbansound/spectrograms/5/195451-5-0-8.png\n",
            "/content/drive/MyDrive/urbansound/spectrograms/5/195451-5-0-9.png\n",
            "/content/drive/MyDrive/urbansound/spectrograms/0/195969-0-0-1.png\n",
            "/content/drive/MyDrive/urbansound/spectrograms/0/195969-0-0-10.png\n",
            "/content/drive/MyDrive/urbansound/spectrograms/0/195969-0-0-12.png\n",
            "/content/drive/MyDrive/urbansound/spectrograms/0/195969-0-0-13.png\n",
            "/content/drive/MyDrive/urbansound/spectrograms/0/195969-0-0-14.png\n",
            "/content/drive/MyDrive/urbansound/spectrograms/0/195969-0-0-15.png\n",
            "/content/drive/MyDrive/urbansound/spectrograms/0/195969-0-0-17.png\n",
            "/content/drive/MyDrive/urbansound/spectrograms/0/195969-0-0-18.png\n",
            "/content/drive/MyDrive/urbansound/spectrograms/0/195969-0-0-19.png\n",
            "/content/drive/MyDrive/urbansound/spectrograms/0/195969-0-0-2.png\n"
          ]
        },
        {
          "output_type": "stream",
          "name": "stderr",
          "text": [
            "5021it [01:00, 88.64it/s]"
          ]
        },
        {
          "output_type": "stream",
          "name": "stdout",
          "text": [
            "/content/drive/MyDrive/urbansound/spectrograms/0/195969-0-0-20.png\n",
            "/content/drive/MyDrive/urbansound/spectrograms/0/195969-0-0-21.png\n",
            "/content/drive/MyDrive/urbansound/spectrograms/0/195969-0-0-22.png\n",
            "/content/drive/MyDrive/urbansound/spectrograms/0/195969-0-0-24.png\n",
            "/content/drive/MyDrive/urbansound/spectrograms/0/195969-0-0-25.png\n",
            "/content/drive/MyDrive/urbansound/spectrograms/0/195969-0-0-26.png\n",
            "/content/drive/MyDrive/urbansound/spectrograms/0/195969-0-0-28.png\n",
            "/content/drive/MyDrive/urbansound/spectrograms/0/195969-0-0-4.png\n",
            "/content/drive/MyDrive/urbansound/spectrograms/0/195969-0-0-5.png\n",
            "/content/drive/MyDrive/urbansound/spectrograms/0/195969-0-0-6.png\n",
            "/content/drive/MyDrive/urbansound/spectrograms/0/195969-0-0-7.png\n",
            "/content/drive/MyDrive/urbansound/spectrograms/0/195969-0-0-8.png\n",
            "/content/drive/MyDrive/urbansound/spectrograms/0/195969-0-0-9.png\n",
            "/content/drive/MyDrive/urbansound/spectrograms/2/196057-2-0-0.png\n",
            "/content/drive/MyDrive/urbansound/spectrograms/2/196058-2-0-0.png\n",
            "/content/drive/MyDrive/urbansound/spectrograms/2/196059-2-0-0.png\n",
            "/content/drive/MyDrive/urbansound/spectrograms/2/196059-2-0-1.png\n",
            "/content/drive/MyDrive/urbansound/spectrograms/2/196060-2-0-0.png\n",
            "/content/drive/MyDrive/urbansound/spectrograms/2/196061-2-0-0.png\n",
            "/content/drive/MyDrive/urbansound/spectrograms/2/196062-2-0-0.png\n"
          ]
        },
        {
          "output_type": "stream",
          "name": "stderr",
          "text": [
            "5041it [01:00, 92.58it/s]"
          ]
        },
        {
          "output_type": "stream",
          "name": "stdout",
          "text": [
            "/content/drive/MyDrive/urbansound/spectrograms/2/196063-2-0-0.png\n",
            "/content/drive/MyDrive/urbansound/spectrograms/2/196063-2-0-1.png\n",
            "/content/drive/MyDrive/urbansound/spectrograms/2/196063-2-0-2.png\n",
            "/content/drive/MyDrive/urbansound/spectrograms/2/196064-2-0-0.png\n",
            "/content/drive/MyDrive/urbansound/spectrograms/2/196065-2-0-0.png\n",
            "/content/drive/MyDrive/urbansound/spectrograms/2/196066-2-0-0.png\n",
            "/content/drive/MyDrive/urbansound/spectrograms/2/196066-2-0-1.png\n",
            "/content/drive/MyDrive/urbansound/spectrograms/2/196067-2-0-0.png\n",
            "/content/drive/MyDrive/urbansound/spectrograms/2/196068-2-0-0.png\n",
            "/content/drive/MyDrive/urbansound/spectrograms/2/196068-2-0-1.png\n",
            "/content/drive/MyDrive/urbansound/spectrograms/2/196069-2-0-0.png\n",
            "/content/drive/MyDrive/urbansound/spectrograms/2/196070-2-0-0.png\n",
            "/content/drive/MyDrive/urbansound/spectrograms/2/196070-2-0-1.png\n",
            "/content/drive/MyDrive/urbansound/spectrograms/2/196070-2-0-2.png\n",
            "/content/drive/MyDrive/urbansound/spectrograms/2/196070-2-0-3.png\n",
            "/content/drive/MyDrive/urbansound/spectrograms/2/196070-2-0-4.png\n",
            "/content/drive/MyDrive/urbansound/spectrograms/2/196070-2-0-5.png\n",
            "/content/drive/MyDrive/urbansound/spectrograms/2/196071-2-0-0.png\n",
            "/content/drive/MyDrive/urbansound/spectrograms/2/196072-2-0-0.png\n",
            "/content/drive/MyDrive/urbansound/spectrograms/2/196073-2-0-0.png\n"
          ]
        },
        {
          "output_type": "stream",
          "name": "stderr",
          "text": [
            "5062it [01:00, 93.37it/s]"
          ]
        },
        {
          "output_type": "stream",
          "name": "stdout",
          "text": [
            "/content/drive/MyDrive/urbansound/spectrograms/2/196074-2-0-0.png\n",
            "/content/drive/MyDrive/urbansound/spectrograms/2/196075-2-0-0.png\n",
            "/content/drive/MyDrive/urbansound/spectrograms/2/196076-2-0-0.png\n",
            "/content/drive/MyDrive/urbansound/spectrograms/2/196077-2-0-0.png\n",
            "/content/drive/MyDrive/urbansound/spectrograms/2/196077-2-0-1.png\n",
            "/content/drive/MyDrive/urbansound/spectrograms/2/196078-2-0-0.png\n",
            "/content/drive/MyDrive/urbansound/spectrograms/2/196079-2-0-0.png\n",
            "/content/drive/MyDrive/urbansound/spectrograms/2/196080-2-0-0.png\n",
            "/content/drive/MyDrive/urbansound/spectrograms/2/196081-2-0-0.png\n",
            "/content/drive/MyDrive/urbansound/spectrograms/2/196082-2-0-0.png\n",
            "/content/drive/MyDrive/urbansound/spectrograms/2/196083-2-0-0.png\n",
            "/content/drive/MyDrive/urbansound/spectrograms/2/196084-2-0-0.png\n",
            "/content/drive/MyDrive/urbansound/spectrograms/2/196084-2-0-1.png\n",
            "/content/drive/MyDrive/urbansound/spectrograms/2/196084-2-0-2.png\n",
            "/content/drive/MyDrive/urbansound/spectrograms/2/196085-2-0-0.png\n",
            "/content/drive/MyDrive/urbansound/spectrograms/2/196085-2-0-1.png\n",
            "/content/drive/MyDrive/urbansound/spectrograms/2/196085-2-0-2.png\n",
            "/content/drive/MyDrive/urbansound/spectrograms/2/196085-2-0-3.png\n",
            "/content/drive/MyDrive/urbansound/spectrograms/2/196085-2-0-4.png\n",
            "/content/drive/MyDrive/urbansound/spectrograms/2/196086-2-0-0.png\n"
          ]
        },
        {
          "output_type": "stream",
          "name": "stderr",
          "text": [
            "5083it [01:00, 97.71it/s]"
          ]
        },
        {
          "output_type": "stream",
          "name": "stdout",
          "text": [
            "/content/drive/MyDrive/urbansound/spectrograms/2/196087-2-0-0.png\n",
            "/content/drive/MyDrive/urbansound/spectrograms/2/196088-2-0-0.png\n",
            "/content/drive/MyDrive/urbansound/spectrograms/3/196127-3-0-0.png\n",
            "/content/drive/MyDrive/urbansound/spectrograms/3/196127-3-0-1.png\n",
            "/content/drive/MyDrive/urbansound/spectrograms/3/196127-3-0-3.png\n",
            "/content/drive/MyDrive/urbansound/spectrograms/3/196127-3-0-4.png\n",
            "/content/drive/MyDrive/urbansound/spectrograms/9/196384-9-0-11.png\n",
            "/content/drive/MyDrive/urbansound/spectrograms/9/196384-9-0-15.png\n",
            "/content/drive/MyDrive/urbansound/spectrograms/9/196384-9-0-16.png\n",
            "/content/drive/MyDrive/urbansound/spectrograms/9/196384-9-0-18.png\n",
            "/content/drive/MyDrive/urbansound/spectrograms/9/196384-9-0-2.png\n",
            "/content/drive/MyDrive/urbansound/spectrograms/9/196384-9-0-27.png\n",
            "/content/drive/MyDrive/urbansound/spectrograms/6/196400-6-0-0.png\n",
            "/content/drive/MyDrive/urbansound/spectrograms/3/196561-3-0-16.png\n",
            "/content/drive/MyDrive/urbansound/spectrograms/3/196561-3-0-29.png\n",
            "/content/drive/MyDrive/urbansound/spectrograms/3/196561-3-0-44.png\n",
            "/content/drive/MyDrive/urbansound/spectrograms/3/196561-3-0-9.png\n",
            "/content/drive/MyDrive/urbansound/spectrograms/3/197073-3-0-0.png\n",
            "/content/drive/MyDrive/urbansound/spectrograms/3/197073-3-3-0.png\n",
            "/content/drive/MyDrive/urbansound/spectrograms/3/197073-3-4-3.png\n",
            "/content/drive/MyDrive/urbansound/spectrograms/3/197073-3-7-0.png\n",
            "/content/drive/MyDrive/urbansound/spectrograms/3/197074-3-0-4.png\n"
          ]
        },
        {
          "output_type": "stream",
          "name": "stderr",
          "text": [
            "\r5093it [01:00, 91.82it/s]"
          ]
        },
        {
          "output_type": "stream",
          "name": "stdout",
          "text": [
            "/content/drive/MyDrive/urbansound/spectrograms/3/197074-3-0-5.png\n",
            "/content/drive/MyDrive/urbansound/spectrograms/3/197074-3-0-6.png\n",
            "/content/drive/MyDrive/urbansound/spectrograms/3/197075-3-1-1.png\n",
            "/content/drive/MyDrive/urbansound/spectrograms/3/197075-3-4-1.png\n",
            "/content/drive/MyDrive/urbansound/spectrograms/3/197075-3-6-0.png\n",
            "/content/drive/MyDrive/urbansound/spectrograms/3/197075-3-7-5.png\n",
            "/content/drive/MyDrive/urbansound/spectrograms/3/197080-3-0-1.png\n",
            "/content/drive/MyDrive/urbansound/spectrograms/3/197080-3-0-6.png\n",
            "/content/drive/MyDrive/urbansound/spectrograms/3/197080-3-0-7.png\n",
            "/content/drive/MyDrive/urbansound/spectrograms/3/197080-3-1-0.png\n",
            "/content/drive/MyDrive/urbansound/spectrograms/3/197243-3-0-0.png\n",
            "/content/drive/MyDrive/urbansound/spectrograms/3/197243-3-1-0.png\n",
            "/content/drive/MyDrive/urbansound/spectrograms/6/197318-6-0-0.png\n",
            "/content/drive/MyDrive/urbansound/spectrograms/6/197318-6-1-0.png\n",
            "/content/drive/MyDrive/urbansound/spectrograms/6/197318-6-10-0.png\n",
            "/content/drive/MyDrive/urbansound/spectrograms/6/197318-6-11-0.png\n",
            "/content/drive/MyDrive/urbansound/spectrograms/6/197318-6-12-0.png\n",
            "/content/drive/MyDrive/urbansound/spectrograms/6/197318-6-2-0.png\n"
          ]
        },
        {
          "output_type": "stream",
          "name": "stderr",
          "text": [
            "5112it [01:00, 86.08it/s]"
          ]
        },
        {
          "output_type": "stream",
          "name": "stdout",
          "text": [
            "/content/drive/MyDrive/urbansound/spectrograms/6/197318-6-3-0.png\n",
            "/content/drive/MyDrive/urbansound/spectrograms/6/197318-6-4-0.png\n",
            "/content/drive/MyDrive/urbansound/spectrograms/6/197318-6-5-0.png\n",
            "/content/drive/MyDrive/urbansound/spectrograms/6/197318-6-6-0.png\n",
            "/content/drive/MyDrive/urbansound/spectrograms/6/197318-6-7-0.png\n",
            "/content/drive/MyDrive/urbansound/spectrograms/6/197318-6-8-0.png\n",
            "/content/drive/MyDrive/urbansound/spectrograms/6/197318-6-9-0.png\n",
            "/content/drive/MyDrive/urbansound/spectrograms/6/197320-6-0-0.png\n",
            "/content/drive/MyDrive/urbansound/spectrograms/6/197320-6-1-0.png\n",
            "/content/drive/MyDrive/urbansound/spectrograms/6/197320-6-10-0.png\n",
            "/content/drive/MyDrive/urbansound/spectrograms/6/197320-6-11-0.png\n",
            "/content/drive/MyDrive/urbansound/spectrograms/6/197320-6-12-0.png\n",
            "/content/drive/MyDrive/urbansound/spectrograms/6/197320-6-2-0.png\n",
            "/content/drive/MyDrive/urbansound/spectrograms/6/197320-6-3-0.png\n",
            "/content/drive/MyDrive/urbansound/spectrograms/6/197320-6-4-0.png\n",
            "/content/drive/MyDrive/urbansound/spectrograms/6/197320-6-5-0.png\n",
            "/content/drive/MyDrive/urbansound/spectrograms/6/197320-6-6-0.png\n"
          ]
        },
        {
          "output_type": "stream",
          "name": "stderr",
          "text": [
            "5130it [01:01, 87.04it/s]"
          ]
        },
        {
          "output_type": "stream",
          "name": "stdout",
          "text": [
            "/content/drive/MyDrive/urbansound/spectrograms/6/197320-6-7-0.png\n",
            "/content/drive/MyDrive/urbansound/spectrograms/6/197320-6-8-0.png\n",
            "/content/drive/MyDrive/urbansound/spectrograms/6/197320-6-9-0.png\n",
            "/content/drive/MyDrive/urbansound/spectrograms/2/197554-2-0-23.png\n",
            "/content/drive/MyDrive/urbansound/spectrograms/2/197554-2-0-26.png\n",
            "/content/drive/MyDrive/urbansound/spectrograms/2/197554-2-0-28.png\n",
            "/content/drive/MyDrive/urbansound/spectrograms/2/197554-2-0-3.png\n",
            "/content/drive/MyDrive/urbansound/spectrograms/2/197554-2-0-60.png\n",
            "/content/drive/MyDrive/urbansound/spectrograms/2/197554-2-0-69.png\n",
            "/content/drive/MyDrive/urbansound/spectrograms/2/197554-2-0-74.png\n",
            "/content/drive/MyDrive/urbansound/spectrograms/2/197554-2-0-82.png\n",
            "/content/drive/MyDrive/urbansound/spectrograms/3/199261-3-0-0.png\n",
            "/content/drive/MyDrive/urbansound/spectrograms/3/199261-3-0-1.png\n",
            "/content/drive/MyDrive/urbansound/spectrograms/3/199261-3-0-2.png\n",
            "/content/drive/MyDrive/urbansound/spectrograms/3/199261-3-0-4.png\n",
            "/content/drive/MyDrive/urbansound/spectrograms/1/199769-1-0-0.png\n",
            "/content/drive/MyDrive/urbansound/spectrograms/1/199769-1-0-1.png\n",
            "/content/drive/MyDrive/urbansound/spectrograms/1/199769-1-0-10.png\n"
          ]
        },
        {
          "output_type": "stream",
          "name": "stderr",
          "text": [
            "5149it [01:01, 90.10it/s]"
          ]
        },
        {
          "output_type": "stream",
          "name": "stdout",
          "text": [
            "/content/drive/MyDrive/urbansound/spectrograms/1/199769-1-0-11.png\n",
            "/content/drive/MyDrive/urbansound/spectrograms/1/199769-1-0-12.png\n",
            "/content/drive/MyDrive/urbansound/spectrograms/1/199769-1-0-13.png\n",
            "/content/drive/MyDrive/urbansound/spectrograms/1/199769-1-0-14.png\n",
            "/content/drive/MyDrive/urbansound/spectrograms/1/199769-1-0-15.png\n",
            "/content/drive/MyDrive/urbansound/spectrograms/1/199769-1-0-16.png\n",
            "/content/drive/MyDrive/urbansound/spectrograms/1/199769-1-0-17.png\n",
            "/content/drive/MyDrive/urbansound/spectrograms/1/199769-1-0-18.png\n",
            "/content/drive/MyDrive/urbansound/spectrograms/1/199769-1-0-2.png\n",
            "/content/drive/MyDrive/urbansound/spectrograms/1/199769-1-0-3.png\n",
            "/content/drive/MyDrive/urbansound/spectrograms/1/199769-1-0-4.png\n",
            "/content/drive/MyDrive/urbansound/spectrograms/1/199769-1-0-5.png\n",
            "/content/drive/MyDrive/urbansound/spectrograms/1/199769-1-0-6.png\n",
            "/content/drive/MyDrive/urbansound/spectrograms/1/199769-1-0-7.png\n",
            "/content/drive/MyDrive/urbansound/spectrograms/1/199769-1-0-8.png\n",
            "/content/drive/MyDrive/urbansound/spectrograms/1/199769-1-0-9.png\n",
            "/content/drive/MyDrive/urbansound/spectrograms/4/199929-4-0-0.png\n",
            "/content/drive/MyDrive/urbansound/spectrograms/4/199929-4-1-0.png\n",
            "/content/drive/MyDrive/urbansound/spectrograms/4/199929-4-2-0.png\n"
          ]
        },
        {
          "output_type": "stream",
          "name": "stderr",
          "text": [
            "5169it [01:01, 91.19it/s]"
          ]
        },
        {
          "output_type": "stream",
          "name": "stdout",
          "text": [
            "/content/drive/MyDrive/urbansound/spectrograms/3/20015-3-0-12.png\n",
            "/content/drive/MyDrive/urbansound/spectrograms/3/20015-3-0-14.png\n",
            "/content/drive/MyDrive/urbansound/spectrograms/3/20015-3-0-19.png\n",
            "/content/drive/MyDrive/urbansound/spectrograms/3/20015-3-0-4.png\n",
            "/content/drive/MyDrive/urbansound/spectrograms/3/200161-3-6-0.png\n",
            "/content/drive/MyDrive/urbansound/spectrograms/3/200161-3-6-3.png\n",
            "/content/drive/MyDrive/urbansound/spectrograms/3/200161-3-6-4.png\n",
            "/content/drive/MyDrive/urbansound/spectrograms/3/200161-3-7-0.png\n",
            "/content/drive/MyDrive/urbansound/spectrograms/6/200460-6-0-0.png\n",
            "/content/drive/MyDrive/urbansound/spectrograms/6/200460-6-1-0.png\n",
            "/content/drive/MyDrive/urbansound/spectrograms/6/200460-6-2-0.png\n",
            "/content/drive/MyDrive/urbansound/spectrograms/6/200460-6-3-0.png\n",
            "/content/drive/MyDrive/urbansound/spectrograms/6/200460-6-4-0.png\n",
            "/content/drive/MyDrive/urbansound/spectrograms/6/200460-6-5-0.png\n",
            "/content/drive/MyDrive/urbansound/spectrograms/5/200786-5-0-0.png\n",
            "/content/drive/MyDrive/urbansound/spectrograms/5/200786-5-1-0.png\n",
            "/content/drive/MyDrive/urbansound/spectrograms/5/200786-5-1-1.png\n",
            "/content/drive/MyDrive/urbansound/spectrograms/5/200786-5-1-2.png\n",
            "/content/drive/MyDrive/urbansound/spectrograms/5/200786-5-1-3.png\n",
            "/content/drive/MyDrive/urbansound/spectrograms/5/200786-5-1-4.png\n"
          ]
        },
        {
          "output_type": "stream",
          "name": "stderr",
          "text": [
            "5189it [01:01, 90.76it/s]"
          ]
        },
        {
          "output_type": "stream",
          "name": "stdout",
          "text": [
            "/content/drive/MyDrive/urbansound/spectrograms/5/200786-5-1-5.png\n",
            "/content/drive/MyDrive/urbansound/spectrograms/3/201207-3-0-0.png\n",
            "/content/drive/MyDrive/urbansound/spectrograms/3/201207-3-13-0.png\n",
            "/content/drive/MyDrive/urbansound/spectrograms/3/201207-3-21-0.png\n",
            "/content/drive/MyDrive/urbansound/spectrograms/3/201207-3-29-0.png\n",
            "/content/drive/MyDrive/urbansound/spectrograms/5/201652-5-0-0.png\n",
            "/content/drive/MyDrive/urbansound/spectrograms/5/201652-5-0-1.png\n",
            "/content/drive/MyDrive/urbansound/spectrograms/5/201652-5-0-2.png\n",
            "/content/drive/MyDrive/urbansound/spectrograms/5/201652-5-0-3.png\n",
            "/content/drive/MyDrive/urbansound/spectrograms/5/201652-5-1-0.png\n",
            "/content/drive/MyDrive/urbansound/spectrograms/5/201652-5-2-0.png\n",
            "/content/drive/MyDrive/urbansound/spectrograms/5/201652-5-2-1.png\n",
            "/content/drive/MyDrive/urbansound/spectrograms/5/201652-5-2-2.png\n",
            "/content/drive/MyDrive/urbansound/spectrograms/5/201652-5-2-3.png\n",
            "/content/drive/MyDrive/urbansound/spectrograms/5/201652-5-2-4.png\n",
            "/content/drive/MyDrive/urbansound/spectrograms/5/201652-5-2-5.png\n",
            "/content/drive/MyDrive/urbansound/spectrograms/5/201652-5-3-0.png\n",
            "/content/drive/MyDrive/urbansound/spectrograms/5/201652-5-3-1.png\n"
          ]
        },
        {
          "output_type": "stream",
          "name": "stderr",
          "text": [
            "5210it [01:02, 93.50it/s]"
          ]
        },
        {
          "output_type": "stream",
          "name": "stdout",
          "text": [
            "/content/drive/MyDrive/urbansound/spectrograms/5/201652-5-3-2.png\n",
            "/content/drive/MyDrive/urbansound/spectrograms/5/201652-5-3-3.png\n",
            "/content/drive/MyDrive/urbansound/spectrograms/5/201652-5-3-4.png\n",
            "/content/drive/MyDrive/urbansound/spectrograms/5/201652-5-4-0.png\n",
            "/content/drive/MyDrive/urbansound/spectrograms/5/201652-5-4-1.png\n",
            "/content/drive/MyDrive/urbansound/spectrograms/5/201652-5-4-2.png\n",
            "/content/drive/MyDrive/urbansound/spectrograms/5/201652-5-4-3.png\n",
            "/content/drive/MyDrive/urbansound/spectrograms/5/201652-5-4-4.png\n",
            "/content/drive/MyDrive/urbansound/spectrograms/5/201652-5-4-5.png\n",
            "/content/drive/MyDrive/urbansound/spectrograms/5/201652-5-4-6.png\n",
            "/content/drive/MyDrive/urbansound/spectrograms/5/201652-5-4-7.png\n",
            "/content/drive/MyDrive/urbansound/spectrograms/5/201652-5-4-8.png\n",
            "/content/drive/MyDrive/urbansound/spectrograms/5/201652-5-4-9.png\n",
            "/content/drive/MyDrive/urbansound/spectrograms/5/201652-5-5-0.png\n",
            "/content/drive/MyDrive/urbansound/spectrograms/5/201652-5-5-1.png\n",
            "/content/drive/MyDrive/urbansound/spectrograms/5/201652-5-5-2.png\n",
            "/content/drive/MyDrive/urbansound/spectrograms/5/201652-5-5-3.png\n",
            "/content/drive/MyDrive/urbansound/spectrograms/5/201652-5-5-4.png\n",
            "/content/drive/MyDrive/urbansound/spectrograms/5/201652-5-5-5.png\n",
            "/content/drive/MyDrive/urbansound/spectrograms/5/201988-5-0-0.png\n"
          ]
        },
        {
          "output_type": "stream",
          "name": "stderr",
          "text": [
            "5230it [01:02, 93.87it/s]"
          ]
        },
        {
          "output_type": "stream",
          "name": "stdout",
          "text": [
            "/content/drive/MyDrive/urbansound/spectrograms/5/201988-5-0-1.png\n",
            "/content/drive/MyDrive/urbansound/spectrograms/5/201988-5-0-10.png\n",
            "/content/drive/MyDrive/urbansound/spectrograms/5/201988-5-0-11.png\n",
            "/content/drive/MyDrive/urbansound/spectrograms/5/201988-5-0-12.png\n",
            "/content/drive/MyDrive/urbansound/spectrograms/5/201988-5-0-13.png\n",
            "/content/drive/MyDrive/urbansound/spectrograms/5/201988-5-0-14.png\n",
            "/content/drive/MyDrive/urbansound/spectrograms/5/201988-5-0-15.png\n",
            "/content/drive/MyDrive/urbansound/spectrograms/5/201988-5-0-16.png\n",
            "/content/drive/MyDrive/urbansound/spectrograms/5/201988-5-0-17.png\n",
            "/content/drive/MyDrive/urbansound/spectrograms/5/201988-5-0-18.png\n",
            "/content/drive/MyDrive/urbansound/spectrograms/5/201988-5-0-19.png\n",
            "/content/drive/MyDrive/urbansound/spectrograms/5/201988-5-0-2.png\n",
            "/content/drive/MyDrive/urbansound/spectrograms/5/201988-5-0-20.png\n",
            "/content/drive/MyDrive/urbansound/spectrograms/5/201988-5-0-21.png\n",
            "/content/drive/MyDrive/urbansound/spectrograms/5/201988-5-0-22.png\n",
            "/content/drive/MyDrive/urbansound/spectrograms/5/201988-5-0-3.png\n",
            "/content/drive/MyDrive/urbansound/spectrograms/5/201988-5-0-4.png\n",
            "/content/drive/MyDrive/urbansound/spectrograms/5/201988-5-0-5.png\n",
            "/content/drive/MyDrive/urbansound/spectrograms/5/201988-5-0-6.png\n",
            "/content/drive/MyDrive/urbansound/spectrograms/5/201988-5-0-7.png\n"
          ]
        },
        {
          "output_type": "stream",
          "name": "stderr",
          "text": [
            "5250it [01:02, 94.68it/s]"
          ]
        },
        {
          "output_type": "stream",
          "name": "stdout",
          "text": [
            "/content/drive/MyDrive/urbansound/spectrograms/5/201988-5-0-8.png\n",
            "/content/drive/MyDrive/urbansound/spectrograms/5/201988-5-0-9.png\n",
            "/content/drive/MyDrive/urbansound/spectrograms/5/201988-5-1-0.png\n",
            "/content/drive/MyDrive/urbansound/spectrograms/9/202334-9-0-105.png\n",
            "/content/drive/MyDrive/urbansound/spectrograms/9/202334-9-0-106.png\n",
            "/content/drive/MyDrive/urbansound/spectrograms/9/202334-9-0-137.png\n",
            "/content/drive/MyDrive/urbansound/spectrograms/9/202334-9-0-202.png\n",
            "/content/drive/MyDrive/urbansound/spectrograms/9/202334-9-0-63.png\n",
            "/content/drive/MyDrive/urbansound/spectrograms/9/202334-9-0-88.png\n",
            "/content/drive/MyDrive/urbansound/spectrograms/0/202516-0-0-0.png\n",
            "/content/drive/MyDrive/urbansound/spectrograms/0/202516-0-0-1.png\n",
            "/content/drive/MyDrive/urbansound/spectrograms/0/202516-0-0-10.png\n",
            "/content/drive/MyDrive/urbansound/spectrograms/0/202516-0-0-11.png\n",
            "/content/drive/MyDrive/urbansound/spectrograms/0/202516-0-0-2.png\n",
            "/content/drive/MyDrive/urbansound/spectrograms/0/202516-0-0-3.png\n",
            "/content/drive/MyDrive/urbansound/spectrograms/0/202516-0-0-4.png\n",
            "/content/drive/MyDrive/urbansound/spectrograms/0/202516-0-0-5.png\n",
            "/content/drive/MyDrive/urbansound/spectrograms/0/202516-0-0-6.png\n",
            "/content/drive/MyDrive/urbansound/spectrograms/0/202516-0-0-7.png\n",
            "/content/drive/MyDrive/urbansound/spectrograms/0/202516-0-0-8.png\n"
          ]
        },
        {
          "output_type": "stream",
          "name": "stderr",
          "text": [
            "5270it [01:02, 91.51it/s]"
          ]
        },
        {
          "output_type": "stream",
          "name": "stdout",
          "text": [
            "/content/drive/MyDrive/urbansound/spectrograms/0/202516-0-0-9.png\n",
            "/content/drive/MyDrive/urbansound/spectrograms/0/202517-0-0-0.png\n",
            "/content/drive/MyDrive/urbansound/spectrograms/3/20285-3-0-0.png\n",
            "/content/drive/MyDrive/urbansound/spectrograms/3/20285-3-1-0.png\n",
            "/content/drive/MyDrive/urbansound/spectrograms/3/20285-3-1-1.png\n",
            "/content/drive/MyDrive/urbansound/spectrograms/3/20285-3-2-0.png\n",
            "/content/drive/MyDrive/urbansound/spectrograms/3/203128-3-1-0.png\n",
            "/content/drive/MyDrive/urbansound/spectrograms/3/203128-3-3-0.png\n",
            "/content/drive/MyDrive/urbansound/spectrograms/3/203128-3-6-0.png\n",
            "/content/drive/MyDrive/urbansound/spectrograms/3/203128-3-9-0.png\n",
            "/content/drive/MyDrive/urbansound/spectrograms/3/203355-3-0-0.png\n",
            "/content/drive/MyDrive/urbansound/spectrograms/3/203355-3-1-0.png\n",
            "/content/drive/MyDrive/urbansound/spectrograms/3/203356-3-0-0.png\n",
            "/content/drive/MyDrive/urbansound/spectrograms/3/203356-3-0-1.png\n",
            "/content/drive/MyDrive/urbansound/spectrograms/3/203356-3-0-2.png\n",
            "/content/drive/MyDrive/urbansound/spectrograms/3/203356-3-0-3.png\n",
            "/content/drive/MyDrive/urbansound/spectrograms/9/203424-9-0-15.png\n",
            "/content/drive/MyDrive/urbansound/spectrograms/9/203424-9-0-18.png\n"
          ]
        },
        {
          "output_type": "stream",
          "name": "stderr",
          "text": [
            "5289it [01:02, 87.43it/s]"
          ]
        },
        {
          "output_type": "stream",
          "name": "stdout",
          "text": [
            "/content/drive/MyDrive/urbansound/spectrograms/9/203424-9-0-26.png\n",
            "/content/drive/MyDrive/urbansound/spectrograms/9/203424-9-0-34.png\n",
            "/content/drive/MyDrive/urbansound/spectrograms/9/203424-9-0-4.png\n",
            "/content/drive/MyDrive/urbansound/spectrograms/9/203424-9-0-46.png\n",
            "/content/drive/MyDrive/urbansound/spectrograms/3/203440-3-0-0.png\n",
            "/content/drive/MyDrive/urbansound/spectrograms/3/203440-3-0-1.png\n",
            "/content/drive/MyDrive/urbansound/spectrograms/3/203440-3-0-5.png\n",
            "/content/drive/MyDrive/urbansound/spectrograms/3/203440-3-0-6.png\n",
            "/content/drive/MyDrive/urbansound/spectrograms/3/203516-3-0-0.png\n",
            "/content/drive/MyDrive/urbansound/spectrograms/9/203654-9-0-15.png\n",
            "/content/drive/MyDrive/urbansound/spectrograms/9/203654-9-0-28.png\n",
            "/content/drive/MyDrive/urbansound/spectrograms/9/203654-9-0-39.png\n",
            "/content/drive/MyDrive/urbansound/spectrograms/9/203654-9-0-42.png\n",
            "/content/drive/MyDrive/urbansound/spectrograms/9/203654-9-0-60.png\n",
            "/content/drive/MyDrive/urbansound/spectrograms/9/203654-9-0-8.png\n",
            "/content/drive/MyDrive/urbansound/spectrograms/8/203913-8-0-0.png\n",
            "/content/drive/MyDrive/urbansound/spectrograms/8/203913-8-0-1.png\n",
            "/content/drive/MyDrive/urbansound/spectrograms/8/203913-8-0-10.png\n"
          ]
        },
        {
          "output_type": "stream",
          "name": "stderr",
          "text": [
            "5308it [01:03, 88.56it/s]"
          ]
        },
        {
          "output_type": "stream",
          "name": "stdout",
          "text": [
            "/content/drive/MyDrive/urbansound/spectrograms/8/203913-8-0-11.png\n",
            "/content/drive/MyDrive/urbansound/spectrograms/8/203913-8-0-12.png\n",
            "/content/drive/MyDrive/urbansound/spectrograms/8/203913-8-0-2.png\n",
            "/content/drive/MyDrive/urbansound/spectrograms/8/203913-8-0-3.png\n",
            "/content/drive/MyDrive/urbansound/spectrograms/8/203913-8-0-4.png\n",
            "/content/drive/MyDrive/urbansound/spectrograms/8/203913-8-0-5.png\n",
            "/content/drive/MyDrive/urbansound/spectrograms/8/203913-8-0-6.png\n",
            "/content/drive/MyDrive/urbansound/spectrograms/8/203913-8-0-7.png\n",
            "/content/drive/MyDrive/urbansound/spectrograms/8/203913-8-0-8.png\n",
            "/content/drive/MyDrive/urbansound/spectrograms/8/203913-8-0-9.png\n",
            "/content/drive/MyDrive/urbansound/spectrograms/8/203913-8-1-0.png\n",
            "/content/drive/MyDrive/urbansound/spectrograms/8/203913-8-1-1.png\n",
            "/content/drive/MyDrive/urbansound/spectrograms/8/203913-8-1-2.png\n",
            "/content/drive/MyDrive/urbansound/spectrograms/8/203913-8-1-3.png\n",
            "/content/drive/MyDrive/urbansound/spectrograms/8/203913-8-1-4.png\n",
            "/content/drive/MyDrive/urbansound/spectrograms/8/203913-8-1-5.png\n",
            "/content/drive/MyDrive/urbansound/spectrograms/7/203929-7-1-0.png\n",
            "/content/drive/MyDrive/urbansound/spectrograms/7/203929-7-1-1.png\n",
            "/content/drive/MyDrive/urbansound/spectrograms/7/203929-7-1-2.png\n"
          ]
        },
        {
          "output_type": "stream",
          "name": "stderr",
          "text": [
            "5327it [01:03, 88.26it/s]"
          ]
        },
        {
          "output_type": "stream",
          "name": "stdout",
          "text": [
            "/content/drive/MyDrive/urbansound/spectrograms/7/203929-7-1-3.png\n",
            "/content/drive/MyDrive/urbansound/spectrograms/7/203929-7-1-6.png\n",
            "/content/drive/MyDrive/urbansound/spectrograms/7/203929-7-1-7.png\n",
            "/content/drive/MyDrive/urbansound/spectrograms/7/203929-7-1-8.png\n",
            "/content/drive/MyDrive/urbansound/spectrograms/7/203929-7-10-0.png\n",
            "/content/drive/MyDrive/urbansound/spectrograms/7/203929-7-10-1.png\n",
            "/content/drive/MyDrive/urbansound/spectrograms/7/203929-7-10-2.png\n",
            "/content/drive/MyDrive/urbansound/spectrograms/7/203929-7-2-0.png\n",
            "/content/drive/MyDrive/urbansound/spectrograms/7/203929-7-2-11.png\n",
            "/content/drive/MyDrive/urbansound/spectrograms/7/203929-7-2-2.png\n",
            "/content/drive/MyDrive/urbansound/spectrograms/7/203929-7-2-3.png\n",
            "/content/drive/MyDrive/urbansound/spectrograms/7/203929-7-2-5.png\n",
            "/content/drive/MyDrive/urbansound/spectrograms/7/203929-7-2-6.png\n",
            "/content/drive/MyDrive/urbansound/spectrograms/7/203929-7-2-8.png\n",
            "/content/drive/MyDrive/urbansound/spectrograms/7/203929-7-2-9.png\n",
            "/content/drive/MyDrive/urbansound/spectrograms/7/203929-7-3-1.png\n",
            "/content/drive/MyDrive/urbansound/spectrograms/7/203929-7-3-10.png\n",
            "/content/drive/MyDrive/urbansound/spectrograms/7/203929-7-3-2.png\n",
            "/content/drive/MyDrive/urbansound/spectrograms/7/203929-7-3-3.png\n"
          ]
        },
        {
          "output_type": "stream",
          "name": "stderr",
          "text": [
            "5347it [01:03, 90.13it/s]"
          ]
        },
        {
          "output_type": "stream",
          "name": "stdout",
          "text": [
            "/content/drive/MyDrive/urbansound/spectrograms/7/203929-7-3-5.png\n",
            "/content/drive/MyDrive/urbansound/spectrograms/7/203929-7-3-9.png\n",
            "/content/drive/MyDrive/urbansound/spectrograms/7/203929-7-4-0.png\n",
            "/content/drive/MyDrive/urbansound/spectrograms/7/203929-7-4-1.png\n",
            "/content/drive/MyDrive/urbansound/spectrograms/7/203929-7-4-10.png\n",
            "/content/drive/MyDrive/urbansound/spectrograms/7/203929-7-4-11.png\n",
            "/content/drive/MyDrive/urbansound/spectrograms/7/203929-7-4-12.png\n",
            "/content/drive/MyDrive/urbansound/spectrograms/7/203929-7-4-2.png\n",
            "/content/drive/MyDrive/urbansound/spectrograms/7/203929-7-4-4.png\n",
            "/content/drive/MyDrive/urbansound/spectrograms/7/203929-7-4-6.png\n",
            "/content/drive/MyDrive/urbansound/spectrograms/7/203929-7-4-7.png\n",
            "/content/drive/MyDrive/urbansound/spectrograms/7/203929-7-4-8.png\n",
            "/content/drive/MyDrive/urbansound/spectrograms/7/203929-7-5-0.png\n",
            "/content/drive/MyDrive/urbansound/spectrograms/7/203929-7-5-1.png\n",
            "/content/drive/MyDrive/urbansound/spectrograms/7/203929-7-5-10.png\n",
            "/content/drive/MyDrive/urbansound/spectrograms/7/203929-7-5-11.png\n",
            "/content/drive/MyDrive/urbansound/spectrograms/7/203929-7-5-6.png\n",
            "/content/drive/MyDrive/urbansound/spectrograms/7/203929-7-5-7.png\n",
            "/content/drive/MyDrive/urbansound/spectrograms/7/203929-7-6-1.png\n",
            "/content/drive/MyDrive/urbansound/spectrograms/7/203929-7-6-10.png\n"
          ]
        },
        {
          "output_type": "stream",
          "name": "stderr",
          "text": [
            "\r5357it [01:03, 90.38it/s]"
          ]
        },
        {
          "output_type": "stream",
          "name": "stdout",
          "text": [
            "/content/drive/MyDrive/urbansound/spectrograms/7/203929-7-6-11.png\n",
            "/content/drive/MyDrive/urbansound/spectrograms/7/203929-7-6-2.png\n",
            "/content/drive/MyDrive/urbansound/spectrograms/7/203929-7-6-3.png\n",
            "/content/drive/MyDrive/urbansound/spectrograms/7/203929-7-6-8.png\n",
            "/content/drive/MyDrive/urbansound/spectrograms/7/203929-7-6-9.png\n",
            "/content/drive/MyDrive/urbansound/spectrograms/7/203929-7-7-0.png\n",
            "/content/drive/MyDrive/urbansound/spectrograms/7/203929-7-7-10.png\n",
            "/content/drive/MyDrive/urbansound/spectrograms/7/203929-7-7-12.png\n",
            "/content/drive/MyDrive/urbansound/spectrograms/7/203929-7-7-13.png\n",
            "/content/drive/MyDrive/urbansound/spectrograms/7/203929-7-7-14.png\n",
            "/content/drive/MyDrive/urbansound/spectrograms/7/203929-7-7-15.png\n",
            "/content/drive/MyDrive/urbansound/spectrograms/7/203929-7-7-16.png\n",
            "/content/drive/MyDrive/urbansound/spectrograms/7/203929-7-7-2.png\n",
            "/content/drive/MyDrive/urbansound/spectrograms/7/203929-7-7-3.png\n",
            "/content/drive/MyDrive/urbansound/spectrograms/7/203929-7-7-4.png\n",
            "/content/drive/MyDrive/urbansound/spectrograms/7/203929-7-7-9.png\n",
            "/content/drive/MyDrive/urbansound/spectrograms/7/203929-7-8-0.png\n",
            "/content/drive/MyDrive/urbansound/spectrograms/7/203929-7-9-0.png\n"
          ]
        },
        {
          "output_type": "stream",
          "name": "stderr",
          "text": [
            "5376it [01:03, 84.66it/s]"
          ]
        },
        {
          "output_type": "stream",
          "name": "stdout",
          "text": [
            "/content/drive/MyDrive/urbansound/spectrograms/7/203929-7-9-11.png\n",
            "/content/drive/MyDrive/urbansound/spectrograms/7/203929-7-9-12.png\n",
            "/content/drive/MyDrive/urbansound/spectrograms/7/203929-7-9-15.png\n",
            "/content/drive/MyDrive/urbansound/spectrograms/7/203929-7-9-17.png\n",
            "/content/drive/MyDrive/urbansound/spectrograms/7/203929-7-9-18.png\n",
            "/content/drive/MyDrive/urbansound/spectrograms/7/203929-7-9-19.png\n",
            "/content/drive/MyDrive/urbansound/spectrograms/7/203929-7-9-20.png\n",
            "/content/drive/MyDrive/urbansound/spectrograms/7/203929-7-9-24.png\n",
            "/content/drive/MyDrive/urbansound/spectrograms/7/203929-7-9-4.png\n",
            "/content/drive/MyDrive/urbansound/spectrograms/7/203929-7-9-6.png\n",
            "/content/drive/MyDrive/urbansound/spectrograms/7/203929-7-9-8.png\n",
            "/content/drive/MyDrive/urbansound/spectrograms/7/203929-7-9-9.png\n",
            "/content/drive/MyDrive/urbansound/spectrograms/1/203956-1-0-0.png\n",
            "/content/drive/MyDrive/urbansound/spectrograms/5/203962-5-0-0.png\n",
            "/content/drive/MyDrive/urbansound/spectrograms/5/203962-5-0-1.png\n",
            "/content/drive/MyDrive/urbansound/spectrograms/2/204067-2-0-1.png\n",
            "/content/drive/MyDrive/urbansound/spectrograms/2/204067-2-0-20.png\n"
          ]
        },
        {
          "output_type": "stream",
          "name": "stderr",
          "text": [
            "5396it [01:04, 89.80it/s]"
          ]
        },
        {
          "output_type": "stream",
          "name": "stdout",
          "text": [
            "/content/drive/MyDrive/urbansound/spectrograms/2/204067-2-0-29.png\n",
            "/content/drive/MyDrive/urbansound/spectrograms/2/204067-2-0-3.png\n",
            "/content/drive/MyDrive/urbansound/spectrograms/2/204067-2-0-30.png\n",
            "/content/drive/MyDrive/urbansound/spectrograms/2/204067-2-0-32.png\n",
            "/content/drive/MyDrive/urbansound/spectrograms/2/204067-2-0-35.png\n",
            "/content/drive/MyDrive/urbansound/spectrograms/2/204067-2-0-39.png\n",
            "/content/drive/MyDrive/urbansound/spectrograms/0/204240-0-0-0.png\n",
            "/content/drive/MyDrive/urbansound/spectrograms/0/204240-0-0-1.png\n",
            "/content/drive/MyDrive/urbansound/spectrograms/0/204240-0-0-10.png\n",
            "/content/drive/MyDrive/urbansound/spectrograms/0/204240-0-0-11.png\n",
            "/content/drive/MyDrive/urbansound/spectrograms/0/204240-0-0-12.png\n",
            "/content/drive/MyDrive/urbansound/spectrograms/0/204240-0-0-13.png\n",
            "/content/drive/MyDrive/urbansound/spectrograms/0/204240-0-0-14.png\n",
            "/content/drive/MyDrive/urbansound/spectrograms/0/204240-0-0-15.png\n",
            "/content/drive/MyDrive/urbansound/spectrograms/0/204240-0-0-16.png\n",
            "/content/drive/MyDrive/urbansound/spectrograms/0/204240-0-0-17.png\n",
            "/content/drive/MyDrive/urbansound/spectrograms/0/204240-0-0-18.png\n",
            "/content/drive/MyDrive/urbansound/spectrograms/0/204240-0-0-19.png\n",
            "/content/drive/MyDrive/urbansound/spectrograms/0/204240-0-0-2.png\n",
            "/content/drive/MyDrive/urbansound/spectrograms/0/204240-0-0-20.png\n"
          ]
        },
        {
          "output_type": "stream",
          "name": "stderr",
          "text": [
            "5416it [01:04, 93.27it/s]"
          ]
        },
        {
          "output_type": "stream",
          "name": "stdout",
          "text": [
            "/content/drive/MyDrive/urbansound/spectrograms/0/204240-0-0-21.png\n",
            "/content/drive/MyDrive/urbansound/spectrograms/0/204240-0-0-22.png\n",
            "/content/drive/MyDrive/urbansound/spectrograms/0/204240-0-0-23.png\n",
            "/content/drive/MyDrive/urbansound/spectrograms/0/204240-0-0-25.png\n",
            "/content/drive/MyDrive/urbansound/spectrograms/0/204240-0-0-26.png\n",
            "/content/drive/MyDrive/urbansound/spectrograms/0/204240-0-0-27.png\n",
            "/content/drive/MyDrive/urbansound/spectrograms/0/204240-0-0-28.png\n",
            "/content/drive/MyDrive/urbansound/spectrograms/0/204240-0-0-29.png\n",
            "/content/drive/MyDrive/urbansound/spectrograms/0/204240-0-0-3.png\n",
            "/content/drive/MyDrive/urbansound/spectrograms/0/204240-0-0-30.png\n",
            "/content/drive/MyDrive/urbansound/spectrograms/0/204240-0-0-31.png\n",
            "/content/drive/MyDrive/urbansound/spectrograms/0/204240-0-0-32.png\n",
            "/content/drive/MyDrive/urbansound/spectrograms/0/204240-0-0-33.png\n",
            "/content/drive/MyDrive/urbansound/spectrograms/0/204240-0-0-34.png\n",
            "/content/drive/MyDrive/urbansound/spectrograms/0/204240-0-0-35.png\n",
            "/content/drive/MyDrive/urbansound/spectrograms/0/204240-0-0-5.png\n",
            "/content/drive/MyDrive/urbansound/spectrograms/0/204240-0-0-6.png\n",
            "/content/drive/MyDrive/urbansound/spectrograms/0/204240-0-0-7.png\n",
            "/content/drive/MyDrive/urbansound/spectrograms/0/204240-0-0-8.png\n",
            "/content/drive/MyDrive/urbansound/spectrograms/0/204240-0-0-9.png\n"
          ]
        },
        {
          "output_type": "stream",
          "name": "stderr",
          "text": [
            "5436it [01:04, 93.09it/s]"
          ]
        },
        {
          "output_type": "stream",
          "name": "stdout",
          "text": [
            "/content/drive/MyDrive/urbansound/spectrograms/2/204408-2-0-19.png\n",
            "/content/drive/MyDrive/urbansound/spectrograms/2/204408-2-0-2.png\n",
            "/content/drive/MyDrive/urbansound/spectrograms/2/204408-2-0-21.png\n",
            "/content/drive/MyDrive/urbansound/spectrograms/2/204408-2-0-36.png\n",
            "/content/drive/MyDrive/urbansound/spectrograms/2/204408-2-0-54.png\n",
            "/content/drive/MyDrive/urbansound/spectrograms/2/204408-2-0-8.png\n",
            "/content/drive/MyDrive/urbansound/spectrograms/2/204408-2-0-83.png\n",
            "/content/drive/MyDrive/urbansound/spectrograms/2/204408-2-0-9.png\n",
            "/content/drive/MyDrive/urbansound/spectrograms/2/204526-2-0-121.png\n",
            "/content/drive/MyDrive/urbansound/spectrograms/2/204526-2-0-134.png\n",
            "/content/drive/MyDrive/urbansound/spectrograms/2/204526-2-0-153.png\n",
            "/content/drive/MyDrive/urbansound/spectrograms/2/204526-2-0-160.png\n",
            "/content/drive/MyDrive/urbansound/spectrograms/2/204526-2-0-166.png\n",
            "/content/drive/MyDrive/urbansound/spectrograms/2/204526-2-0-193.png\n",
            "/content/drive/MyDrive/urbansound/spectrograms/2/204526-2-0-71.png\n",
            "/content/drive/MyDrive/urbansound/spectrograms/1/204765-1-0-0.png\n",
            "/content/drive/MyDrive/urbansound/spectrograms/3/204773-3-7-1.png\n",
            "/content/drive/MyDrive/urbansound/spectrograms/3/204773-3-8-0.png\n",
            "/content/drive/MyDrive/urbansound/spectrograms/3/204773-3-9-0.png\n"
          ]
        },
        {
          "output_type": "stream",
          "name": "stderr",
          "text": [
            "5456it [01:04, 90.92it/s]"
          ]
        },
        {
          "output_type": "stream",
          "name": "stdout",
          "text": [
            "/content/drive/MyDrive/urbansound/spectrograms/3/204773-3-9-1.png\n",
            "/content/drive/MyDrive/urbansound/spectrograms/3/204919-3-0-0.png\n",
            "/content/drive/MyDrive/urbansound/spectrograms/3/204919-3-1-0.png\n",
            "/content/drive/MyDrive/urbansound/spectrograms/3/204919-3-3-0.png\n",
            "/content/drive/MyDrive/urbansound/spectrograms/3/204919-3-4-0.png\n",
            "/content/drive/MyDrive/urbansound/spectrograms/6/205013-6-0-0.png\n",
            "/content/drive/MyDrive/urbansound/spectrograms/4/205610-4-0-0.png\n",
            "/content/drive/MyDrive/urbansound/spectrograms/4/205610-4-0-1.png\n",
            "/content/drive/MyDrive/urbansound/spectrograms/4/205610-4-0-2.png\n",
            "/content/drive/MyDrive/urbansound/spectrograms/4/205610-4-0-3.png\n",
            "/content/drive/MyDrive/urbansound/spectrograms/4/205610-4-0-4.png\n",
            "/content/drive/MyDrive/urbansound/spectrograms/4/205610-4-0-5.png\n",
            "/content/drive/MyDrive/urbansound/spectrograms/3/20571-3-0-0.png\n",
            "/content/drive/MyDrive/urbansound/spectrograms/3/20571-3-1-0.png\n",
            "/content/drive/MyDrive/urbansound/spectrograms/4/205874-4-0-0.png\n",
            "/content/drive/MyDrive/urbansound/spectrograms/4/205874-4-1-0.png\n",
            "/content/drive/MyDrive/urbansound/spectrograms/4/205874-4-10-0.png\n",
            "/content/drive/MyDrive/urbansound/spectrograms/4/205874-4-11-0.png\n",
            "/content/drive/MyDrive/urbansound/spectrograms/4/205874-4-2-0.png\n"
          ]
        },
        {
          "output_type": "stream",
          "name": "stderr",
          "text": [
            "5476it [01:05, 89.91it/s]"
          ]
        },
        {
          "output_type": "stream",
          "name": "stdout",
          "text": [
            "/content/drive/MyDrive/urbansound/spectrograms/4/205874-4-3-0.png\n",
            "/content/drive/MyDrive/urbansound/spectrograms/4/205874-4-4-0.png\n",
            "/content/drive/MyDrive/urbansound/spectrograms/4/205874-4-5-0.png\n",
            "/content/drive/MyDrive/urbansound/spectrograms/4/205874-4-6-0.png\n",
            "/content/drive/MyDrive/urbansound/spectrograms/4/205874-4-7-0.png\n",
            "/content/drive/MyDrive/urbansound/spectrograms/4/205874-4-8-0.png\n",
            "/content/drive/MyDrive/urbansound/spectrograms/4/205874-4-9-0.png\n",
            "/content/drive/MyDrive/urbansound/spectrograms/4/205878-4-0-0.png\n",
            "/content/drive/MyDrive/urbansound/spectrograms/2/206037-2-0-11.png\n",
            "/content/drive/MyDrive/urbansound/spectrograms/2/206037-2-0-21.png\n",
            "/content/drive/MyDrive/urbansound/spectrograms/2/206037-2-0-22.png\n",
            "/content/drive/MyDrive/urbansound/spectrograms/2/206037-2-0-25.png\n",
            "/content/drive/MyDrive/urbansound/spectrograms/2/206037-2-0-3.png\n",
            "/content/drive/MyDrive/urbansound/spectrograms/2/206037-2-0-38.png\n",
            "/content/drive/MyDrive/urbansound/spectrograms/2/206037-2-0-4.png\n",
            "/content/drive/MyDrive/urbansound/spectrograms/2/206037-2-0-40.png\n",
            "/content/drive/MyDrive/urbansound/spectrograms/2/20688-2-0-0.png\n",
            "/content/drive/MyDrive/urbansound/spectrograms/2/20688-2-0-1.png\n"
          ]
        },
        {
          "output_type": "stream",
          "name": "stderr",
          "text": [
            "5496it [01:05, 91.27it/s]"
          ]
        },
        {
          "output_type": "stream",
          "name": "stdout",
          "text": [
            "/content/drive/MyDrive/urbansound/spectrograms/2/20688-2-0-2.png\n",
            "/content/drive/MyDrive/urbansound/spectrograms/2/20688-2-0-3.png\n",
            "/content/drive/MyDrive/urbansound/spectrograms/2/20688-2-0-4.png\n",
            "/content/drive/MyDrive/urbansound/spectrograms/3/207124-3-0-0.png\n",
            "/content/drive/MyDrive/urbansound/spectrograms/3/207124-3-1-0.png\n",
            "/content/drive/MyDrive/urbansound/spectrograms/3/207124-3-2-0.png\n",
            "/content/drive/MyDrive/urbansound/spectrograms/2/207211-2-0-100.png\n",
            "/content/drive/MyDrive/urbansound/spectrograms/2/207211-2-0-11.png\n",
            "/content/drive/MyDrive/urbansound/spectrograms/2/207211-2-0-141.png\n",
            "/content/drive/MyDrive/urbansound/spectrograms/2/207211-2-0-58.png\n",
            "/content/drive/MyDrive/urbansound/spectrograms/2/207211-2-0-72.png\n",
            "/content/drive/MyDrive/urbansound/spectrograms/2/207211-2-0-82.png\n",
            "/content/drive/MyDrive/urbansound/spectrograms/2/207211-2-0-88.png\n",
            "/content/drive/MyDrive/urbansound/spectrograms/2/207211-2-0-89.png\n",
            "/content/drive/MyDrive/urbansound/spectrograms/2/207213-2-0-109.png\n",
            "/content/drive/MyDrive/urbansound/spectrograms/2/207213-2-0-130.png\n",
            "/content/drive/MyDrive/urbansound/spectrograms/2/207213-2-0-134.png\n",
            "/content/drive/MyDrive/urbansound/spectrograms/2/207213-2-0-41.png\n",
            "/content/drive/MyDrive/urbansound/spectrograms/2/207213-2-0-52.png\n"
          ]
        },
        {
          "output_type": "stream",
          "name": "stderr",
          "text": [
            "\r5506it [01:05, 90.36it/s]"
          ]
        },
        {
          "output_type": "stream",
          "name": "stdout",
          "text": [
            "/content/drive/MyDrive/urbansound/spectrograms/2/207213-2-0-73.png\n",
            "/content/drive/MyDrive/urbansound/spectrograms/2/207213-2-0-81.png\n",
            "/content/drive/MyDrive/urbansound/spectrograms/2/207213-2-0-85.png\n",
            "/content/drive/MyDrive/urbansound/spectrograms/2/207214-2-0-126.png\n",
            "/content/drive/MyDrive/urbansound/spectrograms/2/207214-2-0-26.png\n",
            "/content/drive/MyDrive/urbansound/spectrograms/2/207214-2-0-3.png\n",
            "/content/drive/MyDrive/urbansound/spectrograms/2/207214-2-0-31.png\n",
            "/content/drive/MyDrive/urbansound/spectrograms/2/207214-2-0-54.png\n",
            "/content/drive/MyDrive/urbansound/spectrograms/2/207214-2-0-62.png\n",
            "/content/drive/MyDrive/urbansound/spectrograms/2/207214-2-0-63.png\n",
            "/content/drive/MyDrive/urbansound/spectrograms/2/207214-2-0-68.png\n",
            "/content/drive/MyDrive/urbansound/spectrograms/2/207216-2-0-112.png\n",
            "/content/drive/MyDrive/urbansound/spectrograms/2/207216-2-0-119.png\n",
            "/content/drive/MyDrive/urbansound/spectrograms/2/207216-2-0-128.png\n",
            "/content/drive/MyDrive/urbansound/spectrograms/2/207216-2-0-130.png\n",
            "/content/drive/MyDrive/urbansound/spectrograms/2/207216-2-0-137.png\n",
            "/content/drive/MyDrive/urbansound/spectrograms/2/207216-2-0-22.png\n"
          ]
        },
        {
          "output_type": "stream",
          "name": "stderr",
          "text": [
            "5526it [01:05, 85.24it/s]"
          ]
        },
        {
          "output_type": "stream",
          "name": "stdout",
          "text": [
            "/content/drive/MyDrive/urbansound/spectrograms/2/207216-2-0-43.png\n",
            "/content/drive/MyDrive/urbansound/spectrograms/2/207216-2-0-66.png\n",
            "/content/drive/MyDrive/urbansound/spectrograms/3/207369-3-0-0.png\n",
            "/content/drive/MyDrive/urbansound/spectrograms/3/207962-3-0-0.png\n",
            "/content/drive/MyDrive/urbansound/spectrograms/3/207962-3-1-0.png\n",
            "/content/drive/MyDrive/urbansound/spectrograms/3/207962-3-2-0.png\n",
            "/content/drive/MyDrive/urbansound/spectrograms/3/208030-3-0-0.png\n",
            "/content/drive/MyDrive/urbansound/spectrograms/3/208030-3-1-0.png\n",
            "/content/drive/MyDrive/urbansound/spectrograms/3/208030-3-2-0.png\n",
            "/content/drive/MyDrive/urbansound/spectrograms/3/208030-3-4-0.png\n",
            "/content/drive/MyDrive/urbansound/spectrograms/3/20841-3-2-0.png\n",
            "/content/drive/MyDrive/urbansound/spectrograms/3/20841-3-3-0.png\n",
            "/content/drive/MyDrive/urbansound/spectrograms/3/20841-3-4-0.png\n",
            "/content/drive/MyDrive/urbansound/spectrograms/3/20841-3-6-0.png\n",
            "/content/drive/MyDrive/urbansound/spectrograms/8/208652-8-0-0.png\n",
            "/content/drive/MyDrive/urbansound/spectrograms/8/208652-8-2-0.png\n",
            "/content/drive/MyDrive/urbansound/spectrograms/8/208652-8-4-0.png\n",
            "/content/drive/MyDrive/urbansound/spectrograms/8/208652-8-6-0.png\n"
          ]
        },
        {
          "output_type": "stream",
          "name": "stderr",
          "text": [
            "5545it [01:05, 88.50it/s]"
          ]
        },
        {
          "output_type": "stream",
          "name": "stdout",
          "text": [
            "/content/drive/MyDrive/urbansound/spectrograms/3/209672-3-0-0.png\n",
            "/content/drive/MyDrive/urbansound/spectrograms/3/209672-3-3-0.png\n",
            "/content/drive/MyDrive/urbansound/spectrograms/3/209672-3-6-0.png\n",
            "/content/drive/MyDrive/urbansound/spectrograms/3/209672-3-8-0.png\n",
            "/content/drive/MyDrive/urbansound/spectrograms/5/209864-5-0-0.png\n",
            "/content/drive/MyDrive/urbansound/spectrograms/5/209864-5-0-1.png\n",
            "/content/drive/MyDrive/urbansound/spectrograms/5/209864-5-0-2.png\n",
            "/content/drive/MyDrive/urbansound/spectrograms/5/209864-5-0-3.png\n",
            "/content/drive/MyDrive/urbansound/spectrograms/5/209992-5-0-0.png\n",
            "/content/drive/MyDrive/urbansound/spectrograms/5/209992-5-1-4.png\n",
            "/content/drive/MyDrive/urbansound/spectrograms/5/209992-5-1-7.png\n",
            "/content/drive/MyDrive/urbansound/spectrograms/5/209992-5-2-100.png\n",
            "/content/drive/MyDrive/urbansound/spectrograms/5/209992-5-2-114.png\n",
            "/content/drive/MyDrive/urbansound/spectrograms/5/209992-5-2-115.png\n",
            "/content/drive/MyDrive/urbansound/spectrograms/5/209992-5-2-116.png\n",
            "/content/drive/MyDrive/urbansound/spectrograms/5/209992-5-2-131.png\n",
            "/content/drive/MyDrive/urbansound/spectrograms/5/209992-5-2-137.png\n",
            "/content/drive/MyDrive/urbansound/spectrograms/5/209992-5-2-138.png\n"
          ]
        },
        {
          "output_type": "stream",
          "name": "stderr",
          "text": [
            "5564it [01:06, 84.85it/s]"
          ]
        },
        {
          "output_type": "stream",
          "name": "stdout",
          "text": [
            "/content/drive/MyDrive/urbansound/spectrograms/5/209992-5-2-26.png\n",
            "/content/drive/MyDrive/urbansound/spectrograms/5/209992-5-2-42.png\n",
            "/content/drive/MyDrive/urbansound/spectrograms/5/209992-5-2-43.png\n",
            "/content/drive/MyDrive/urbansound/spectrograms/5/209992-5-2-77.png\n",
            "/content/drive/MyDrive/urbansound/spectrograms/5/209992-5-2-79.png\n",
            "/content/drive/MyDrive/urbansound/spectrograms/5/209992-5-2-8.png\n",
            "/content/drive/MyDrive/urbansound/spectrograms/5/209992-5-2-81.png\n",
            "/content/drive/MyDrive/urbansound/spectrograms/5/209992-5-2-82.png\n",
            "/content/drive/MyDrive/urbansound/spectrograms/5/209992-5-2-87.png\n",
            "/content/drive/MyDrive/urbansound/spectrograms/5/209992-5-2-91.png\n",
            "/content/drive/MyDrive/urbansound/spectrograms/5/209992-5-3-22.png\n",
            "/content/drive/MyDrive/urbansound/spectrograms/5/209992-5-3-5.png\n",
            "/content/drive/MyDrive/urbansound/spectrograms/5/209992-5-3-6.png\n",
            "/content/drive/MyDrive/urbansound/spectrograms/5/209992-5-4-1.png\n",
            "/content/drive/MyDrive/urbansound/spectrograms/5/209992-5-4-15.png\n",
            "/content/drive/MyDrive/urbansound/spectrograms/5/209992-5-4-17.png\n",
            "/content/drive/MyDrive/urbansound/spectrograms/5/209992-5-4-3.png\n",
            "/content/drive/MyDrive/urbansound/spectrograms/5/21187-5-0-0.png\n"
          ]
        },
        {
          "output_type": "stream",
          "name": "stderr",
          "text": [
            "5583it [01:06, 87.48it/s]"
          ]
        },
        {
          "output_type": "stream",
          "name": "stdout",
          "text": [
            "/content/drive/MyDrive/urbansound/spectrograms/9/21683-9-0-15.png\n",
            "/content/drive/MyDrive/urbansound/spectrograms/9/21683-9-0-18.png\n",
            "/content/drive/MyDrive/urbansound/spectrograms/9/21683-9-0-3.png\n",
            "/content/drive/MyDrive/urbansound/spectrograms/9/21683-9-0-30.png\n",
            "/content/drive/MyDrive/urbansound/spectrograms/9/21683-9-0-34.png\n",
            "/content/drive/MyDrive/urbansound/spectrograms/9/21683-9-0-39.png\n",
            "/content/drive/MyDrive/urbansound/spectrograms/9/21683-9-0-45.png\n",
            "/content/drive/MyDrive/urbansound/spectrograms/9/21684-9-0-12.png\n",
            "/content/drive/MyDrive/urbansound/spectrograms/9/21684-9-0-25.png\n",
            "/content/drive/MyDrive/urbansound/spectrograms/9/21684-9-0-30.png\n",
            "/content/drive/MyDrive/urbansound/spectrograms/9/21684-9-0-39.png\n",
            "/content/drive/MyDrive/urbansound/spectrograms/9/21684-9-0-5.png\n",
            "/content/drive/MyDrive/urbansound/spectrograms/9/21684-9-0-50.png\n",
            "/content/drive/MyDrive/urbansound/spectrograms/9/21684-9-0-7.png\n",
            "/content/drive/MyDrive/urbansound/spectrograms/3/22347-3-0-0.png\n",
            "/content/drive/MyDrive/urbansound/spectrograms/3/22347-3-1-1.png\n",
            "/content/drive/MyDrive/urbansound/spectrograms/3/22347-3-1-2.png\n",
            "/content/drive/MyDrive/urbansound/spectrograms/3/22347-3-3-0.png\n",
            "/content/drive/MyDrive/urbansound/spectrograms/8/22601-8-0-0.png\n",
            "/content/drive/MyDrive/urbansound/spectrograms/8/22601-8-0-1.png\n"
          ]
        },
        {
          "output_type": "stream",
          "name": "stderr",
          "text": [
            "5602it [01:06, 86.82it/s]"
          ]
        },
        {
          "output_type": "stream",
          "name": "stdout",
          "text": [
            "/content/drive/MyDrive/urbansound/spectrograms/8/22601-8-0-10.png\n",
            "/content/drive/MyDrive/urbansound/spectrograms/8/22601-8-0-11.png\n",
            "/content/drive/MyDrive/urbansound/spectrograms/8/22601-8-0-12.png\n",
            "/content/drive/MyDrive/urbansound/spectrograms/8/22601-8-0-13.png\n",
            "/content/drive/MyDrive/urbansound/spectrograms/8/22601-8-0-14.png\n",
            "/content/drive/MyDrive/urbansound/spectrograms/8/22601-8-0-15.png\n",
            "/content/drive/MyDrive/urbansound/spectrograms/8/22601-8-0-16.png\n",
            "/content/drive/MyDrive/urbansound/spectrograms/8/22601-8-0-17.png\n",
            "/content/drive/MyDrive/urbansound/spectrograms/8/22601-8-0-18.png\n",
            "/content/drive/MyDrive/urbansound/spectrograms/8/22601-8-0-19.png\n",
            "/content/drive/MyDrive/urbansound/spectrograms/8/22601-8-0-2.png\n",
            "/content/drive/MyDrive/urbansound/spectrograms/8/22601-8-0-20.png\n",
            "/content/drive/MyDrive/urbansound/spectrograms/8/22601-8-0-21.png\n",
            "/content/drive/MyDrive/urbansound/spectrograms/8/22601-8-0-22.png\n",
            "/content/drive/MyDrive/urbansound/spectrograms/8/22601-8-0-23.png\n",
            "/content/drive/MyDrive/urbansound/spectrograms/8/22601-8-0-24.png\n",
            "/content/drive/MyDrive/urbansound/spectrograms/8/22601-8-0-25.png\n",
            "/content/drive/MyDrive/urbansound/spectrograms/8/22601-8-0-26.png\n"
          ]
        },
        {
          "output_type": "stream",
          "name": "stderr",
          "text": [
            "5621it [01:06, 89.05it/s]"
          ]
        },
        {
          "output_type": "stream",
          "name": "stdout",
          "text": [
            "/content/drive/MyDrive/urbansound/spectrograms/8/22601-8-0-27.png\n",
            "/content/drive/MyDrive/urbansound/spectrograms/8/22601-8-0-28.png\n",
            "/content/drive/MyDrive/urbansound/spectrograms/8/22601-8-0-29.png\n",
            "/content/drive/MyDrive/urbansound/spectrograms/8/22601-8-0-3.png\n",
            "/content/drive/MyDrive/urbansound/spectrograms/8/22601-8-0-30.png\n",
            "/content/drive/MyDrive/urbansound/spectrograms/8/22601-8-0-31.png\n",
            "/content/drive/MyDrive/urbansound/spectrograms/8/22601-8-0-32.png\n",
            "/content/drive/MyDrive/urbansound/spectrograms/8/22601-8-0-33.png\n",
            "/content/drive/MyDrive/urbansound/spectrograms/8/22601-8-0-34.png\n",
            "/content/drive/MyDrive/urbansound/spectrograms/8/22601-8-0-35.png\n",
            "/content/drive/MyDrive/urbansound/spectrograms/8/22601-8-0-36.png\n",
            "/content/drive/MyDrive/urbansound/spectrograms/8/22601-8-0-37.png\n",
            "/content/drive/MyDrive/urbansound/spectrograms/8/22601-8-0-38.png\n",
            "/content/drive/MyDrive/urbansound/spectrograms/8/22601-8-0-39.png\n",
            "/content/drive/MyDrive/urbansound/spectrograms/8/22601-8-0-4.png\n",
            "/content/drive/MyDrive/urbansound/spectrograms/8/22601-8-0-40.png\n",
            "/content/drive/MyDrive/urbansound/spectrograms/8/22601-8-0-41.png\n",
            "/content/drive/MyDrive/urbansound/spectrograms/8/22601-8-0-42.png\n",
            "/content/drive/MyDrive/urbansound/spectrograms/8/22601-8-0-43.png\n"
          ]
        },
        {
          "output_type": "stream",
          "name": "stderr",
          "text": [
            "5639it [01:06, 87.64it/s]"
          ]
        },
        {
          "output_type": "stream",
          "name": "stdout",
          "text": [
            "/content/drive/MyDrive/urbansound/spectrograms/8/22601-8-0-44.png\n",
            "/content/drive/MyDrive/urbansound/spectrograms/8/22601-8-0-45.png\n",
            "/content/drive/MyDrive/urbansound/spectrograms/8/22601-8-0-46.png\n",
            "/content/drive/MyDrive/urbansound/spectrograms/8/22601-8-0-47.png\n",
            "/content/drive/MyDrive/urbansound/spectrograms/8/22601-8-0-48.png\n",
            "/content/drive/MyDrive/urbansound/spectrograms/8/22601-8-0-49.png\n",
            "/content/drive/MyDrive/urbansound/spectrograms/8/22601-8-0-5.png\n",
            "/content/drive/MyDrive/urbansound/spectrograms/8/22601-8-0-50.png\n",
            "/content/drive/MyDrive/urbansound/spectrograms/8/22601-8-0-51.png\n",
            "/content/drive/MyDrive/urbansound/spectrograms/8/22601-8-0-52.png\n",
            "/content/drive/MyDrive/urbansound/spectrograms/8/22601-8-0-53.png\n",
            "/content/drive/MyDrive/urbansound/spectrograms/8/22601-8-0-54.png\n",
            "/content/drive/MyDrive/urbansound/spectrograms/8/22601-8-0-6.png\n",
            "/content/drive/MyDrive/urbansound/spectrograms/8/22601-8-0-7.png\n",
            "/content/drive/MyDrive/urbansound/spectrograms/8/22601-8-0-8.png\n",
            "/content/drive/MyDrive/urbansound/spectrograms/8/22601-8-0-9.png\n",
            "/content/drive/MyDrive/urbansound/spectrograms/5/22882-5-0-0.png\n",
            "/content/drive/MyDrive/urbansound/spectrograms/5/22882-5-0-1.png\n"
          ]
        },
        {
          "output_type": "stream",
          "name": "stderr",
          "text": [
            "5657it [01:07, 86.53it/s]"
          ]
        },
        {
          "output_type": "stream",
          "name": "stdout",
          "text": [
            "/content/drive/MyDrive/urbansound/spectrograms/7/22883-7-1-0.png\n",
            "/content/drive/MyDrive/urbansound/spectrograms/7/22883-7-10-0.png\n",
            "/content/drive/MyDrive/urbansound/spectrograms/7/22883-7-100-0.png\n",
            "/content/drive/MyDrive/urbansound/spectrograms/7/22883-7-11-0.png\n",
            "/content/drive/MyDrive/urbansound/spectrograms/7/22883-7-110-1.png\n",
            "/content/drive/MyDrive/urbansound/spectrograms/7/22883-7-17-2.png\n",
            "/content/drive/MyDrive/urbansound/spectrograms/7/22883-7-17-4.png\n",
            "/content/drive/MyDrive/urbansound/spectrograms/7/22883-7-17-5.png\n",
            "/content/drive/MyDrive/urbansound/spectrograms/7/22883-7-18-0.png\n",
            "/content/drive/MyDrive/urbansound/spectrograms/7/22883-7-19-0.png\n",
            "/content/drive/MyDrive/urbansound/spectrograms/7/22883-7-21-0.png\n",
            "/content/drive/MyDrive/urbansound/spectrograms/7/22883-7-23-0.png\n",
            "/content/drive/MyDrive/urbansound/spectrograms/7/22883-7-24-0.png\n",
            "/content/drive/MyDrive/urbansound/spectrograms/7/22883-7-27-0.png\n",
            "/content/drive/MyDrive/urbansound/spectrograms/7/22883-7-28-0.png\n",
            "/content/drive/MyDrive/urbansound/spectrograms/7/22883-7-29-2.png\n",
            "/content/drive/MyDrive/urbansound/spectrograms/7/22883-7-3-0.png\n",
            "/content/drive/MyDrive/urbansound/spectrograms/7/22883-7-33-0.png\n"
          ]
        },
        {
          "output_type": "stream",
          "name": "stderr",
          "text": [
            "5675it [01:07, 85.71it/s]"
          ]
        },
        {
          "output_type": "stream",
          "name": "stdout",
          "text": [
            "/content/drive/MyDrive/urbansound/spectrograms/7/22883-7-34-0.png\n",
            "/content/drive/MyDrive/urbansound/spectrograms/7/22883-7-35-2.png\n",
            "/content/drive/MyDrive/urbansound/spectrograms/7/22883-7-35-3.png\n",
            "/content/drive/MyDrive/urbansound/spectrograms/7/22883-7-36-0.png\n",
            "/content/drive/MyDrive/urbansound/spectrograms/7/22883-7-36-1.png\n",
            "/content/drive/MyDrive/urbansound/spectrograms/7/22883-7-36-2.png\n",
            "/content/drive/MyDrive/urbansound/spectrograms/7/22883-7-37-0.png\n",
            "/content/drive/MyDrive/urbansound/spectrograms/7/22883-7-39-0.png\n",
            "/content/drive/MyDrive/urbansound/spectrograms/7/22883-7-39-1.png\n",
            "/content/drive/MyDrive/urbansound/spectrograms/7/22883-7-40-0.png\n",
            "/content/drive/MyDrive/urbansound/spectrograms/7/22883-7-43-2.png\n",
            "/content/drive/MyDrive/urbansound/spectrograms/7/22883-7-44-0.png\n",
            "/content/drive/MyDrive/urbansound/spectrograms/7/22883-7-47-2.png\n",
            "/content/drive/MyDrive/urbansound/spectrograms/7/22883-7-48-0.png\n",
            "/content/drive/MyDrive/urbansound/spectrograms/7/22883-7-49-1.png\n",
            "/content/drive/MyDrive/urbansound/spectrograms/7/22883-7-49-3.png\n",
            "/content/drive/MyDrive/urbansound/spectrograms/7/22883-7-51-0.png\n",
            "/content/drive/MyDrive/urbansound/spectrograms/7/22883-7-53-0.png\n"
          ]
        },
        {
          "output_type": "stream",
          "name": "stderr",
          "text": [
            "5694it [01:07, 86.18it/s]"
          ]
        },
        {
          "output_type": "stream",
          "name": "stdout",
          "text": [
            "/content/drive/MyDrive/urbansound/spectrograms/7/22883-7-54-0.png\n",
            "/content/drive/MyDrive/urbansound/spectrograms/7/22883-7-58-0.png\n",
            "/content/drive/MyDrive/urbansound/spectrograms/7/22883-7-61-0.png\n",
            "/content/drive/MyDrive/urbansound/spectrograms/7/22883-7-61-1.png\n",
            "/content/drive/MyDrive/urbansound/spectrograms/7/22883-7-62-0.png\n",
            "/content/drive/MyDrive/urbansound/spectrograms/7/22883-7-63-0.png\n",
            "/content/drive/MyDrive/urbansound/spectrograms/7/22883-7-64-0.png\n",
            "/content/drive/MyDrive/urbansound/spectrograms/7/22883-7-67-0.png\n",
            "/content/drive/MyDrive/urbansound/spectrograms/7/22883-7-69-0.png\n",
            "/content/drive/MyDrive/urbansound/spectrograms/7/22883-7-7-0.png\n",
            "/content/drive/MyDrive/urbansound/spectrograms/7/22883-7-71-0.png\n",
            "/content/drive/MyDrive/urbansound/spectrograms/7/22883-7-72-0.png\n",
            "/content/drive/MyDrive/urbansound/spectrograms/7/22883-7-74-0.png\n",
            "/content/drive/MyDrive/urbansound/spectrograms/7/22883-7-77-0.png\n",
            "/content/drive/MyDrive/urbansound/spectrograms/7/22883-7-78-2.png\n",
            "/content/drive/MyDrive/urbansound/spectrograms/7/22883-7-81-0.png\n",
            "/content/drive/MyDrive/urbansound/spectrograms/7/22883-7-83-0.png\n"
          ]
        },
        {
          "output_type": "stream",
          "name": "stderr",
          "text": [
            "5713it [01:07, 85.30it/s]"
          ]
        },
        {
          "output_type": "stream",
          "name": "stdout",
          "text": [
            "/content/drive/MyDrive/urbansound/spectrograms/7/22883-7-86-0.png\n",
            "/content/drive/MyDrive/urbansound/spectrograms/7/22883-7-87-0.png\n",
            "/content/drive/MyDrive/urbansound/spectrograms/7/22883-7-9-0.png\n",
            "/content/drive/MyDrive/urbansound/spectrograms/7/22883-7-91-0.png\n",
            "/content/drive/MyDrive/urbansound/spectrograms/7/22883-7-92-0.png\n",
            "/content/drive/MyDrive/urbansound/spectrograms/7/22883-7-93-0.png\n",
            "/content/drive/MyDrive/urbansound/spectrograms/7/22883-7-98-1.png\n",
            "/content/drive/MyDrive/urbansound/spectrograms/7/22883-7-99-2.png\n",
            "/content/drive/MyDrive/urbansound/spectrograms/7/22883-7-99-3.png\n",
            "/content/drive/MyDrive/urbansound/spectrograms/5/22885-5-0-0.png\n",
            "/content/drive/MyDrive/urbansound/spectrograms/4/22962-4-0-0.png\n",
            "/content/drive/MyDrive/urbansound/spectrograms/4/22962-4-0-1.png\n",
            "/content/drive/MyDrive/urbansound/spectrograms/4/22962-4-0-2.png\n",
            "/content/drive/MyDrive/urbansound/spectrograms/3/22973-3-0-0.png\n",
            "/content/drive/MyDrive/urbansound/spectrograms/3/22973-3-0-1.png\n",
            "/content/drive/MyDrive/urbansound/spectrograms/3/22973-3-0-2.png\n",
            "/content/drive/MyDrive/urbansound/spectrograms/3/23131-3-0-0.png\n",
            "/content/drive/MyDrive/urbansound/spectrograms/3/23131-3-2-0.png\n",
            "/content/drive/MyDrive/urbansound/spectrograms/3/23131-3-4-0.png\n"
          ]
        },
        {
          "output_type": "stream",
          "name": "stderr",
          "text": [
            "5731it [01:08, 84.84it/s]"
          ]
        },
        {
          "output_type": "stream",
          "name": "stdout",
          "text": [
            "/content/drive/MyDrive/urbansound/spectrograms/3/23131-3-5-0.png\n",
            "/content/drive/MyDrive/urbansound/spectrograms/6/23161-6-0-0.png\n",
            "/content/drive/MyDrive/urbansound/spectrograms/6/23161-6-1-0.png\n",
            "/content/drive/MyDrive/urbansound/spectrograms/5/23218-5-0-0.png\n",
            "/content/drive/MyDrive/urbansound/spectrograms/5/23219-5-0-0.png\n",
            "/content/drive/MyDrive/urbansound/spectrograms/5/23219-5-0-1.png\n",
            "/content/drive/MyDrive/urbansound/spectrograms/5/23219-5-0-10.png\n",
            "/content/drive/MyDrive/urbansound/spectrograms/5/23219-5-0-11.png\n",
            "/content/drive/MyDrive/urbansound/spectrograms/5/23219-5-0-12.png\n",
            "/content/drive/MyDrive/urbansound/spectrograms/5/23219-5-0-13.png\n",
            "/content/drive/MyDrive/urbansound/spectrograms/5/23219-5-0-2.png\n",
            "/content/drive/MyDrive/urbansound/spectrograms/5/23219-5-0-3.png\n",
            "/content/drive/MyDrive/urbansound/spectrograms/5/23219-5-0-4.png\n",
            "/content/drive/MyDrive/urbansound/spectrograms/5/23219-5-0-5.png\n",
            "/content/drive/MyDrive/urbansound/spectrograms/5/23219-5-0-6.png\n",
            "/content/drive/MyDrive/urbansound/spectrograms/5/23219-5-0-7.png\n"
          ]
        },
        {
          "output_type": "stream",
          "name": "stderr",
          "text": [
            "5751it [01:08, 87.89it/s]"
          ]
        },
        {
          "output_type": "stream",
          "name": "stdout",
          "text": [
            "/content/drive/MyDrive/urbansound/spectrograms/5/23219-5-0-8.png\n",
            "/content/drive/MyDrive/urbansound/spectrograms/5/23219-5-0-9.png\n",
            "/content/drive/MyDrive/urbansound/spectrograms/5/23219-5-1-0.png\n",
            "/content/drive/MyDrive/urbansound/spectrograms/5/23219-5-1-1.png\n",
            "/content/drive/MyDrive/urbansound/spectrograms/5/23219-5-1-2.png\n",
            "/content/drive/MyDrive/urbansound/spectrograms/1/24074-1-0-0.png\n",
            "/content/drive/MyDrive/urbansound/spectrograms/1/24074-1-0-1.png\n",
            "/content/drive/MyDrive/urbansound/spectrograms/1/24074-1-0-10.png\n",
            "/content/drive/MyDrive/urbansound/spectrograms/1/24074-1-0-11.png\n",
            "/content/drive/MyDrive/urbansound/spectrograms/1/24074-1-0-12.png\n",
            "/content/drive/MyDrive/urbansound/spectrograms/1/24074-1-0-13.png\n",
            "/content/drive/MyDrive/urbansound/spectrograms/1/24074-1-0-2.png\n",
            "/content/drive/MyDrive/urbansound/spectrograms/1/24074-1-0-3.png\n",
            "/content/drive/MyDrive/urbansound/spectrograms/1/24074-1-0-4.png\n",
            "/content/drive/MyDrive/urbansound/spectrograms/1/24074-1-0-5.png\n",
            "/content/drive/MyDrive/urbansound/spectrograms/1/24074-1-0-6.png\n",
            "/content/drive/MyDrive/urbansound/spectrograms/1/24074-1-0-7.png\n",
            "/content/drive/MyDrive/urbansound/spectrograms/1/24074-1-0-8.png\n",
            "/content/drive/MyDrive/urbansound/spectrograms/1/24074-1-0-9.png\n",
            "/content/drive/MyDrive/urbansound/spectrograms/1/24076-1-0-0.png\n"
          ]
        },
        {
          "output_type": "stream",
          "name": "stderr",
          "text": [
            "5771it [01:08, 92.14it/s]"
          ]
        },
        {
          "output_type": "stream",
          "name": "stdout",
          "text": [
            "/content/drive/MyDrive/urbansound/spectrograms/1/24076-1-1-0.png\n",
            "/content/drive/MyDrive/urbansound/spectrograms/8/24347-8-0-0.png\n",
            "/content/drive/MyDrive/urbansound/spectrograms/8/24347-8-0-1.png\n",
            "/content/drive/MyDrive/urbansound/spectrograms/8/24347-8-0-10.png\n",
            "/content/drive/MyDrive/urbansound/spectrograms/8/24347-8-0-11.png\n",
            "/content/drive/MyDrive/urbansound/spectrograms/8/24347-8-0-12.png\n",
            "/content/drive/MyDrive/urbansound/spectrograms/8/24347-8-0-13.png\n",
            "/content/drive/MyDrive/urbansound/spectrograms/8/24347-8-0-14.png\n",
            "/content/drive/MyDrive/urbansound/spectrograms/8/24347-8-0-15.png\n",
            "/content/drive/MyDrive/urbansound/spectrograms/8/24347-8-0-16.png\n",
            "/content/drive/MyDrive/urbansound/spectrograms/8/24347-8-0-17.png\n",
            "/content/drive/MyDrive/urbansound/spectrograms/8/24347-8-0-18.png\n",
            "/content/drive/MyDrive/urbansound/spectrograms/8/24347-8-0-19.png\n",
            "/content/drive/MyDrive/urbansound/spectrograms/8/24347-8-0-2.png\n",
            "/content/drive/MyDrive/urbansound/spectrograms/8/24347-8-0-20.png\n",
            "/content/drive/MyDrive/urbansound/spectrograms/8/24347-8-0-21.png\n",
            "/content/drive/MyDrive/urbansound/spectrograms/8/24347-8-0-22.png\n",
            "/content/drive/MyDrive/urbansound/spectrograms/8/24347-8-0-23.png\n",
            "/content/drive/MyDrive/urbansound/spectrograms/8/24347-8-0-24.png\n",
            "/content/drive/MyDrive/urbansound/spectrograms/8/24347-8-0-25.png\n"
          ]
        },
        {
          "output_type": "stream",
          "name": "stderr",
          "text": [
            "5791it [01:08, 90.22it/s]"
          ]
        },
        {
          "output_type": "stream",
          "name": "stdout",
          "text": [
            "/content/drive/MyDrive/urbansound/spectrograms/8/24347-8-0-26.png\n",
            "/content/drive/MyDrive/urbansound/spectrograms/8/24347-8-0-27.png\n",
            "/content/drive/MyDrive/urbansound/spectrograms/8/24347-8-0-28.png\n",
            "/content/drive/MyDrive/urbansound/spectrograms/8/24347-8-0-29.png\n",
            "/content/drive/MyDrive/urbansound/spectrograms/8/24347-8-0-3.png\n",
            "/content/drive/MyDrive/urbansound/spectrograms/8/24347-8-0-30.png\n",
            "/content/drive/MyDrive/urbansound/spectrograms/8/24347-8-0-31.png\n",
            "/content/drive/MyDrive/urbansound/spectrograms/8/24347-8-0-32.png\n",
            "/content/drive/MyDrive/urbansound/spectrograms/8/24347-8-0-33.png\n",
            "/content/drive/MyDrive/urbansound/spectrograms/8/24347-8-0-34.png\n",
            "/content/drive/MyDrive/urbansound/spectrograms/8/24347-8-0-35.png\n",
            "/content/drive/MyDrive/urbansound/spectrograms/8/24347-8-0-36.png\n",
            "/content/drive/MyDrive/urbansound/spectrograms/8/24347-8-0-37.png\n",
            "/content/drive/MyDrive/urbansound/spectrograms/8/24347-8-0-38.png\n",
            "/content/drive/MyDrive/urbansound/spectrograms/8/24347-8-0-39.png\n",
            "/content/drive/MyDrive/urbansound/spectrograms/8/24347-8-0-4.png\n",
            "/content/drive/MyDrive/urbansound/spectrograms/8/24347-8-0-40.png\n",
            "/content/drive/MyDrive/urbansound/spectrograms/8/24347-8-0-41.png\n",
            "/content/drive/MyDrive/urbansound/spectrograms/8/24347-8-0-42.png\n",
            "/content/drive/MyDrive/urbansound/spectrograms/8/24347-8-0-43.png\n"
          ]
        },
        {
          "output_type": "stream",
          "name": "stderr",
          "text": [
            "\r5801it [01:08, 88.07it/s]"
          ]
        },
        {
          "output_type": "stream",
          "name": "stdout",
          "text": [
            "/content/drive/MyDrive/urbansound/spectrograms/8/24347-8-0-44.png\n",
            "/content/drive/MyDrive/urbansound/spectrograms/8/24347-8-0-45.png\n",
            "/content/drive/MyDrive/urbansound/spectrograms/8/24347-8-0-46.png\n",
            "/content/drive/MyDrive/urbansound/spectrograms/8/24347-8-0-47.png\n",
            "/content/drive/MyDrive/urbansound/spectrograms/8/24347-8-0-48.png\n",
            "/content/drive/MyDrive/urbansound/spectrograms/8/24347-8-0-49.png\n",
            "/content/drive/MyDrive/urbansound/spectrograms/8/24347-8-0-5.png\n",
            "/content/drive/MyDrive/urbansound/spectrograms/8/24347-8-0-50.png\n",
            "/content/drive/MyDrive/urbansound/spectrograms/8/24347-8-0-51.png\n",
            "/content/drive/MyDrive/urbansound/spectrograms/8/24347-8-0-52.png\n",
            "/content/drive/MyDrive/urbansound/spectrograms/8/24347-8-0-53.png\n",
            "/content/drive/MyDrive/urbansound/spectrograms/8/24347-8-0-54.png\n",
            "/content/drive/MyDrive/urbansound/spectrograms/8/24347-8-0-55.png\n",
            "/content/drive/MyDrive/urbansound/spectrograms/8/24347-8-0-56.png\n",
            "/content/drive/MyDrive/urbansound/spectrograms/8/24347-8-0-57.png\n",
            "/content/drive/MyDrive/urbansound/spectrograms/8/24347-8-0-58.png\n",
            "/content/drive/MyDrive/urbansound/spectrograms/8/24347-8-0-59.png\n",
            "/content/drive/MyDrive/urbansound/spectrograms/8/24347-8-0-6.png\n",
            "/content/drive/MyDrive/urbansound/spectrograms/8/24347-8-0-60.png\n"
          ]
        },
        {
          "output_type": "stream",
          "name": "stderr",
          "text": [
            "5829it [01:09, 88.76it/s]"
          ]
        },
        {
          "output_type": "stream",
          "name": "stdout",
          "text": [
            "/content/drive/MyDrive/urbansound/spectrograms/8/24347-8-0-61.png\n",
            "/content/drive/MyDrive/urbansound/spectrograms/8/24347-8-0-62.png\n",
            "/content/drive/MyDrive/urbansound/spectrograms/8/24347-8-0-63.png\n",
            "/content/drive/MyDrive/urbansound/spectrograms/8/24347-8-0-64.png\n",
            "/content/drive/MyDrive/urbansound/spectrograms/8/24347-8-0-65.png\n",
            "/content/drive/MyDrive/urbansound/spectrograms/8/24347-8-0-66.png\n",
            "/content/drive/MyDrive/urbansound/spectrograms/8/24347-8-0-67.png\n",
            "/content/drive/MyDrive/urbansound/spectrograms/8/24347-8-0-68.png\n",
            "/content/drive/MyDrive/urbansound/spectrograms/8/24347-8-0-69.png\n",
            "/content/drive/MyDrive/urbansound/spectrograms/8/24347-8-0-7.png\n",
            "/content/drive/MyDrive/urbansound/spectrograms/8/24347-8-0-70.png\n",
            "/content/drive/MyDrive/urbansound/spectrograms/8/24347-8-0-71.png\n",
            "/content/drive/MyDrive/urbansound/spectrograms/8/24347-8-0-72.png\n",
            "/content/drive/MyDrive/urbansound/spectrograms/8/24347-8-0-73.png\n",
            "/content/drive/MyDrive/urbansound/spectrograms/8/24347-8-0-74.png\n",
            "/content/drive/MyDrive/urbansound/spectrograms/8/24347-8-0-75.png\n",
            "/content/drive/MyDrive/urbansound/spectrograms/8/24347-8-0-76.png\n",
            "/content/drive/MyDrive/urbansound/spectrograms/8/24347-8-0-77.png\n"
          ]
        },
        {
          "output_type": "stream",
          "name": "stderr",
          "text": [
            "\r5839it [01:09, 89.80it/s]"
          ]
        },
        {
          "output_type": "stream",
          "name": "stdout",
          "text": [
            "/content/drive/MyDrive/urbansound/spectrograms/8/24347-8-0-78.png\n",
            "/content/drive/MyDrive/urbansound/spectrograms/8/24347-8-0-79.png\n",
            "/content/drive/MyDrive/urbansound/spectrograms/8/24347-8-0-8.png\n",
            "/content/drive/MyDrive/urbansound/spectrograms/8/24347-8-0-80.png\n",
            "/content/drive/MyDrive/urbansound/spectrograms/8/24347-8-0-81.png\n",
            "/content/drive/MyDrive/urbansound/spectrograms/8/24347-8-0-82.png\n",
            "/content/drive/MyDrive/urbansound/spectrograms/8/24347-8-0-83.png\n",
            "/content/drive/MyDrive/urbansound/spectrograms/8/24347-8-0-84.png\n",
            "/content/drive/MyDrive/urbansound/spectrograms/8/24347-8-0-85.png\n",
            "/content/drive/MyDrive/urbansound/spectrograms/8/24347-8-0-86.png\n",
            "/content/drive/MyDrive/urbansound/spectrograms/8/24347-8-0-87.png\n",
            "/content/drive/MyDrive/urbansound/spectrograms/8/24347-8-0-88.png\n",
            "/content/drive/MyDrive/urbansound/spectrograms/8/24347-8-0-89.png\n",
            "/content/drive/MyDrive/urbansound/spectrograms/8/24347-8-0-9.png\n",
            "/content/drive/MyDrive/urbansound/spectrograms/8/24347-8-0-90.png\n",
            "/content/drive/MyDrive/urbansound/spectrograms/8/24347-8-0-91.png\n",
            "/content/drive/MyDrive/urbansound/spectrograms/8/24347-8-0-92.png\n",
            "/content/drive/MyDrive/urbansound/spectrograms/8/24347-8-0-93.png\n",
            "/content/drive/MyDrive/urbansound/spectrograms/8/24347-8-0-94.png\n"
          ]
        },
        {
          "output_type": "stream",
          "name": "stderr",
          "text": [
            "5857it [01:09, 87.71it/s]"
          ]
        },
        {
          "output_type": "stream",
          "name": "stdout",
          "text": [
            "/content/drive/MyDrive/urbansound/spectrograms/8/24347-8-0-95.png\n",
            "/content/drive/MyDrive/urbansound/spectrograms/8/24347-8-0-96.png\n",
            "/content/drive/MyDrive/urbansound/spectrograms/8/24347-8-0-97.png\n",
            "/content/drive/MyDrive/urbansound/spectrograms/8/24347-8-0-98.png\n",
            "/content/drive/MyDrive/urbansound/spectrograms/8/24347-8-0-99.png\n",
            "/content/drive/MyDrive/urbansound/spectrograms/4/24364-4-0-0.png\n",
            "/content/drive/MyDrive/urbansound/spectrograms/4/24364-4-0-1.png\n",
            "/content/drive/MyDrive/urbansound/spectrograms/4/24364-4-0-10.png\n",
            "/content/drive/MyDrive/urbansound/spectrograms/4/24364-4-0-11.png\n",
            "/content/drive/MyDrive/urbansound/spectrograms/4/24364-4-0-12.png\n",
            "/content/drive/MyDrive/urbansound/spectrograms/4/24364-4-0-2.png\n",
            "/content/drive/MyDrive/urbansound/spectrograms/4/24364-4-0-3.png\n",
            "/content/drive/MyDrive/urbansound/spectrograms/4/24364-4-0-4.png\n",
            "/content/drive/MyDrive/urbansound/spectrograms/4/24364-4-0-5.png\n",
            "/content/drive/MyDrive/urbansound/spectrograms/4/24364-4-0-6.png\n",
            "/content/drive/MyDrive/urbansound/spectrograms/4/24364-4-0-7.png\n",
            "/content/drive/MyDrive/urbansound/spectrograms/4/24364-4-0-8.png\n",
            "/content/drive/MyDrive/urbansound/spectrograms/4/24364-4-0-9.png"
          ]
        },
        {
          "output_type": "stream",
          "name": "stderr",
          "text": [
            "5876it [01:09, 88.97it/s]"
          ]
        },
        {
          "output_type": "stream",
          "name": "stdout",
          "text": [
            "\n",
            "/content/drive/MyDrive/urbansound/spectrograms/6/24631-6-0-0.png\n",
            "/content/drive/MyDrive/urbansound/spectrograms/6/24632-6-0-0.png\n",
            "/content/drive/MyDrive/urbansound/spectrograms/6/24632-6-1-0.png\n",
            "/content/drive/MyDrive/urbansound/spectrograms/6/24652-6-0-0.png\n",
            "/content/drive/MyDrive/urbansound/spectrograms/7/24728-7-0-0.png\n",
            "/content/drive/MyDrive/urbansound/spectrograms/7/24728-7-1-0.png\n",
            "/content/drive/MyDrive/urbansound/spectrograms/7/24728-7-2-0.png\n",
            "/content/drive/MyDrive/urbansound/spectrograms/7/24728-7-3-0.png\n",
            "/content/drive/MyDrive/urbansound/spectrograms/7/24728-7-4-0.png\n",
            "/content/drive/MyDrive/urbansound/spectrograms/7/24728-7-5-0.png\n",
            "/content/drive/MyDrive/urbansound/spectrograms/3/24965-3-0-0.png\n",
            "/content/drive/MyDrive/urbansound/spectrograms/3/24965-3-1-0.png\n",
            "/content/drive/MyDrive/urbansound/spectrograms/3/24965-3-2-0.png\n",
            "/content/drive/MyDrive/urbansound/spectrograms/3/24965-3-3-0.png\n",
            "/content/drive/MyDrive/urbansound/spectrograms/6/25037-6-0-0.png\n",
            "/content/drive/MyDrive/urbansound/spectrograms/6/25037-6-1-0.png\n",
            "/content/drive/MyDrive/urbansound/spectrograms/6/25038-6-0-0.png\n",
            "/content/drive/MyDrive/urbansound/spectrograms/6/25038-6-1-0.png\n"
          ]
        },
        {
          "output_type": "stream",
          "name": "stderr",
          "text": [
            "5895it [01:09, 91.19it/s]"
          ]
        },
        {
          "output_type": "stream",
          "name": "stdout",
          "text": [
            "/content/drive/MyDrive/urbansound/spectrograms/6/25039-6-0-0.png\n",
            "/content/drive/MyDrive/urbansound/spectrograms/6/25039-6-1-0.png\n",
            "/content/drive/MyDrive/urbansound/spectrograms/8/26173-8-0-0.png\n",
            "/content/drive/MyDrive/urbansound/spectrograms/1/26176-1-0-0.png\n",
            "/content/drive/MyDrive/urbansound/spectrograms/1/26177-1-0-0.png\n",
            "/content/drive/MyDrive/urbansound/spectrograms/1/26177-1-1-0.png\n",
            "/content/drive/MyDrive/urbansound/spectrograms/1/26177-1-2-0.png\n",
            "/content/drive/MyDrive/urbansound/spectrograms/5/26184-5-0-0.png\n",
            "/content/drive/MyDrive/urbansound/spectrograms/5/26184-5-1-0.png\n",
            "/content/drive/MyDrive/urbansound/spectrograms/5/26184-5-2-0.png\n",
            "/content/drive/MyDrive/urbansound/spectrograms/5/26184-5-3-0.png\n",
            "/content/drive/MyDrive/urbansound/spectrograms/5/26184-5-4-0.png\n",
            "/content/drive/MyDrive/urbansound/spectrograms/5/26184-5-4-1.png\n",
            "/content/drive/MyDrive/urbansound/spectrograms/5/26184-5-4-2.png\n",
            "/content/drive/MyDrive/urbansound/spectrograms/5/26184-5-4-3.png\n",
            "/content/drive/MyDrive/urbansound/spectrograms/1/26185-1-0-0.png\n",
            "/content/drive/MyDrive/urbansound/spectrograms/1/26185-1-1-0.png\n",
            "/content/drive/MyDrive/urbansound/spectrograms/1/26186-1-0-0.png\n",
            "/content/drive/MyDrive/urbansound/spectrograms/3/26255-3-0-0.png\n",
            "/content/drive/MyDrive/urbansound/spectrograms/3/26255-3-13-1.png\n"
          ]
        },
        {
          "output_type": "stream",
          "name": "stderr",
          "text": [
            "5915it [01:10, 90.92it/s]"
          ]
        },
        {
          "output_type": "stream",
          "name": "stdout",
          "text": [
            "/content/drive/MyDrive/urbansound/spectrograms/3/26255-3-6-0.png\n",
            "/content/drive/MyDrive/urbansound/spectrograms/3/26255-3-8-0.png\n",
            "/content/drive/MyDrive/urbansound/spectrograms/3/26256-3-4-0.png\n",
            "/content/drive/MyDrive/urbansound/spectrograms/3/26256-3-5-22.png\n",
            "/content/drive/MyDrive/urbansound/spectrograms/3/26256-3-6-6.png\n",
            "/content/drive/MyDrive/urbansound/spectrograms/3/26256-3-7-36.png\n",
            "/content/drive/MyDrive/urbansound/spectrograms/9/26270-9-0-19.png\n",
            "/content/drive/MyDrive/urbansound/spectrograms/9/26270-9-0-23.png\n",
            "/content/drive/MyDrive/urbansound/spectrograms/9/26270-9-0-3.png\n",
            "/content/drive/MyDrive/urbansound/spectrograms/9/26270-9-0-30.png\n",
            "/content/drive/MyDrive/urbansound/spectrograms/9/26270-9-0-32.png\n",
            "/content/drive/MyDrive/urbansound/spectrograms/9/26270-9-0-35.png\n",
            "/content/drive/MyDrive/urbansound/spectrograms/4/26344-4-0-0.png\n",
            "/content/drive/MyDrive/urbansound/spectrograms/4/26344-4-1-0.png\n",
            "/content/drive/MyDrive/urbansound/spectrograms/1/27068-1-0-0.png\n",
            "/content/drive/MyDrive/urbansound/spectrograms/2/27070-2-0-0.png\n",
            "/content/drive/MyDrive/urbansound/spectrograms/2/27070-2-0-2.png\n",
            "/content/drive/MyDrive/urbansound/spectrograms/2/27070-2-0-3.png\n"
          ]
        },
        {
          "output_type": "stream",
          "name": "stderr",
          "text": [
            "5935it [01:10, 91.30it/s]"
          ]
        },
        {
          "output_type": "stream",
          "name": "stdout",
          "text": [
            "/content/drive/MyDrive/urbansound/spectrograms/2/27070-2-0-4.png\n",
            "/content/drive/MyDrive/urbansound/spectrograms/2/27070-2-0-5.png\n",
            "/content/drive/MyDrive/urbansound/spectrograms/2/27070-2-0-7.png\n",
            "/content/drive/MyDrive/urbansound/spectrograms/2/27070-2-0-8.png\n",
            "/content/drive/MyDrive/urbansound/spectrograms/3/27216-3-0-18.png\n",
            "/content/drive/MyDrive/urbansound/spectrograms/3/27216-3-0-21.png\n",
            "/content/drive/MyDrive/urbansound/spectrograms/3/27216-3-0-24.png\n",
            "/content/drive/MyDrive/urbansound/spectrograms/3/27216-3-0-9.png\n",
            "/content/drive/MyDrive/urbansound/spectrograms/3/27217-3-0-13.png\n",
            "/content/drive/MyDrive/urbansound/spectrograms/3/27217-3-0-22.png\n",
            "/content/drive/MyDrive/urbansound/spectrograms/3/27217-3-0-6.png\n",
            "/content/drive/MyDrive/urbansound/spectrograms/3/27349-3-0-2.png\n",
            "/content/drive/MyDrive/urbansound/spectrograms/3/27349-3-0-6.png\n",
            "/content/drive/MyDrive/urbansound/spectrograms/3/27349-3-1-2.png\n",
            "/content/drive/MyDrive/urbansound/spectrograms/3/27349-3-2-1.png\n",
            "/content/drive/MyDrive/urbansound/spectrograms/3/28284-3-0-0.png\n",
            "/content/drive/MyDrive/urbansound/spectrograms/3/28284-3-0-1.png\n",
            "/content/drive/MyDrive/urbansound/spectrograms/3/28284-3-1-0.png\n",
            "/content/drive/MyDrive/urbansound/spectrograms/9/28385-9-0-32.png\n",
            "/content/drive/MyDrive/urbansound/spectrograms/9/28385-9-0-33.png\n"
          ]
        },
        {
          "output_type": "stream",
          "name": "stderr",
          "text": [
            "5955it [01:10, 88.23it/s]"
          ]
        },
        {
          "output_type": "stream",
          "name": "stdout",
          "text": [
            "/content/drive/MyDrive/urbansound/spectrograms/9/28385-9-0-44.png\n",
            "/content/drive/MyDrive/urbansound/spectrograms/9/28385-9-0-46.png\n",
            "/content/drive/MyDrive/urbansound/spectrograms/9/28385-9-0-57.png\n",
            "/content/drive/MyDrive/urbansound/spectrograms/9/28385-9-0-65.png\n",
            "/content/drive/MyDrive/urbansound/spectrograms/9/28385-9-0-9.png\n",
            "/content/drive/MyDrive/urbansound/spectrograms/8/28426-8-0-0.png\n",
            "/content/drive/MyDrive/urbansound/spectrograms/8/28426-8-1-0.png\n",
            "/content/drive/MyDrive/urbansound/spectrograms/8/28426-8-2-0.png\n",
            "/content/drive/MyDrive/urbansound/spectrograms/1/28808-1-0-0.png\n",
            "/content/drive/MyDrive/urbansound/spectrograms/1/28808-1-0-1.png\n",
            "/content/drive/MyDrive/urbansound/spectrograms/1/28808-1-0-10.png\n",
            "/content/drive/MyDrive/urbansound/spectrograms/1/28808-1-0-11.png\n",
            "/content/drive/MyDrive/urbansound/spectrograms/1/28808-1-0-2.png\n",
            "/content/drive/MyDrive/urbansound/spectrograms/1/28808-1-0-3.png\n",
            "/content/drive/MyDrive/urbansound/spectrograms/1/28808-1-0-4.png\n",
            "/content/drive/MyDrive/urbansound/spectrograms/1/28808-1-0-5.png\n",
            "/content/drive/MyDrive/urbansound/spectrograms/1/28808-1-0-6.png\n"
          ]
        },
        {
          "output_type": "stream",
          "name": "stderr",
          "text": [
            "5973it [01:10, 87.27it/s]"
          ]
        },
        {
          "output_type": "stream",
          "name": "stdout",
          "text": [
            "/content/drive/MyDrive/urbansound/spectrograms/1/28808-1-0-7.png\n",
            "/content/drive/MyDrive/urbansound/spectrograms/1/28808-1-0-8.png\n",
            "/content/drive/MyDrive/urbansound/spectrograms/1/28808-1-0-9.png\n",
            "/content/drive/MyDrive/urbansound/spectrograms/1/28808-1-1-0.png\n",
            "/content/drive/MyDrive/urbansound/spectrograms/1/28808-1-1-1.png\n",
            "/content/drive/MyDrive/urbansound/spectrograms/1/2937-1-0-0.png\n",
            "/content/drive/MyDrive/urbansound/spectrograms/4/29721-4-0-0.png\n",
            "/content/drive/MyDrive/urbansound/spectrograms/4/29721-4-0-1.png\n",
            "/content/drive/MyDrive/urbansound/spectrograms/4/29721-4-0-10.png\n",
            "/content/drive/MyDrive/urbansound/spectrograms/4/29721-4-0-11.png\n",
            "/content/drive/MyDrive/urbansound/spectrograms/4/29721-4-0-12.png\n",
            "/content/drive/MyDrive/urbansound/spectrograms/4/29721-4-0-13.png\n",
            "/content/drive/MyDrive/urbansound/spectrograms/4/29721-4-0-14.png\n",
            "/content/drive/MyDrive/urbansound/spectrograms/4/29721-4-0-2.png\n",
            "/content/drive/MyDrive/urbansound/spectrograms/4/29721-4-0-3.png\n",
            "/content/drive/MyDrive/urbansound/spectrograms/4/29721-4-0-4.png\n",
            "/content/drive/MyDrive/urbansound/spectrograms/4/29721-4-0-5.png\n"
          ]
        },
        {
          "output_type": "stream",
          "name": "stderr",
          "text": [
            "5991it [01:10, 84.83it/s]"
          ]
        },
        {
          "output_type": "stream",
          "name": "stdout",
          "text": [
            "/content/drive/MyDrive/urbansound/spectrograms/4/29721-4-0-6.png\n",
            "/content/drive/MyDrive/urbansound/spectrograms/4/29721-4-0-7.png\n",
            "/content/drive/MyDrive/urbansound/spectrograms/4/29721-4-0-8.png\n",
            "/content/drive/MyDrive/urbansound/spectrograms/4/29721-4-0-9.png\n",
            "/content/drive/MyDrive/urbansound/spectrograms/4/29722-4-0-0.png\n",
            "/content/drive/MyDrive/urbansound/spectrograms/4/29722-4-0-1.png\n",
            "/content/drive/MyDrive/urbansound/spectrograms/4/29722-4-0-2.png\n",
            "/content/drive/MyDrive/urbansound/spectrograms/4/29722-4-0-3.png\n",
            "/content/drive/MyDrive/urbansound/spectrograms/4/29722-4-0-4.png\n",
            "/content/drive/MyDrive/urbansound/spectrograms/4/29722-4-0-5.png\n",
            "/content/drive/MyDrive/urbansound/spectrograms/4/29722-4-0-6.png\n",
            "/content/drive/MyDrive/urbansound/spectrograms/1/29932-1-0-0.png\n",
            "/content/drive/MyDrive/urbansound/spectrograms/1/29932-1-1-0.png\n",
            "/content/drive/MyDrive/urbansound/spectrograms/3/29936-3-0-0.png\n",
            "/content/drive/MyDrive/urbansound/spectrograms/3/29936-3-1-0.png\n",
            "/content/drive/MyDrive/urbansound/spectrograms/3/29936-3-2-0.png\n",
            "/content/drive/MyDrive/urbansound/spectrograms/3/29936-3-3-0.png\n",
            "/content/drive/MyDrive/urbansound/spectrograms/3/29937-3-0-14.png\n"
          ]
        },
        {
          "output_type": "stream",
          "name": "stderr",
          "text": [
            "\r6000it [01:11, 81.28it/s]"
          ]
        },
        {
          "output_type": "stream",
          "name": "stdout",
          "text": [
            "/content/drive/MyDrive/urbansound/spectrograms/3/29937-3-0-4.png\n",
            "/content/drive/MyDrive/urbansound/spectrograms/3/29937-3-0-6.png\n",
            "/content/drive/MyDrive/urbansound/spectrograms/3/29937-3-0-8.png\n",
            "/content/drive/MyDrive/urbansound/spectrograms/0/30204-0-0-0.png\n",
            "/content/drive/MyDrive/urbansound/spectrograms/0/30204-0-0-1.png\n",
            "/content/drive/MyDrive/urbansound/spectrograms/0/30204-0-0-10.png\n",
            "/content/drive/MyDrive/urbansound/spectrograms/0/30204-0-0-11.png\n",
            "/content/drive/MyDrive/urbansound/spectrograms/0/30204-0-0-12.png\n",
            "/content/drive/MyDrive/urbansound/spectrograms/0/30204-0-0-13.png\n",
            "/content/drive/MyDrive/urbansound/spectrograms/0/30204-0-0-2.png\n",
            "/content/drive/MyDrive/urbansound/spectrograms/0/30204-0-0-3.png\n",
            "/content/drive/MyDrive/urbansound/spectrograms/0/30204-0-0-4.png\n",
            "/content/drive/MyDrive/urbansound/spectrograms/0/30204-0-0-5.png\n"
          ]
        },
        {
          "output_type": "stream",
          "name": "stderr",
          "text": [
            "6017it [01:11, 71.60it/s]"
          ]
        },
        {
          "output_type": "stream",
          "name": "stdout",
          "text": [
            "/content/drive/MyDrive/urbansound/spectrograms/0/30204-0-0-6.png\n",
            "/content/drive/MyDrive/urbansound/spectrograms/0/30204-0-0-7.png\n",
            "/content/drive/MyDrive/urbansound/spectrograms/0/30204-0-0-8.png\n",
            "/content/drive/MyDrive/urbansound/spectrograms/0/30204-0-0-9.png\n",
            "/content/drive/MyDrive/urbansound/spectrograms/7/30206-7-0-0.png\n",
            "/content/drive/MyDrive/urbansound/spectrograms/7/30206-7-0-1.png\n",
            "/content/drive/MyDrive/urbansound/spectrograms/7/30206-7-0-10.png\n",
            "/content/drive/MyDrive/urbansound/spectrograms/7/30206-7-0-11.png\n",
            "/content/drive/MyDrive/urbansound/spectrograms/7/30206-7-0-12.png\n",
            "/content/drive/MyDrive/urbansound/spectrograms/7/30206-7-0-13.png\n",
            "/content/drive/MyDrive/urbansound/spectrograms/7/30206-7-0-14.png\n",
            "/content/drive/MyDrive/urbansound/spectrograms/7/30206-7-0-15.png\n",
            "/content/drive/MyDrive/urbansound/spectrograms/7/30206-7-0-16.png\n",
            "/content/drive/MyDrive/urbansound/spectrograms/7/30206-7-0-17.png\n",
            "/content/drive/MyDrive/urbansound/spectrograms/7/30206-7-0-18.png\n",
            "/content/drive/MyDrive/urbansound/spectrograms/7/30206-7-0-19.png\n"
          ]
        },
        {
          "output_type": "stream",
          "name": "stderr",
          "text": [
            "6034it [01:11, 77.26it/s]"
          ]
        },
        {
          "output_type": "stream",
          "name": "stdout",
          "text": [
            "/content/drive/MyDrive/urbansound/spectrograms/7/30206-7-0-2.png\n",
            "/content/drive/MyDrive/urbansound/spectrograms/7/30206-7-0-20.png\n",
            "/content/drive/MyDrive/urbansound/spectrograms/7/30206-7-0-21.png\n",
            "/content/drive/MyDrive/urbansound/spectrograms/7/30206-7-0-22.png\n",
            "/content/drive/MyDrive/urbansound/spectrograms/7/30206-7-0-23.png\n",
            "/content/drive/MyDrive/urbansound/spectrograms/7/30206-7-0-24.png\n",
            "/content/drive/MyDrive/urbansound/spectrograms/7/30206-7-0-25.png\n",
            "/content/drive/MyDrive/urbansound/spectrograms/7/30206-7-0-26.png\n",
            "/content/drive/MyDrive/urbansound/spectrograms/7/30206-7-0-27.png\n",
            "/content/drive/MyDrive/urbansound/spectrograms/7/30206-7-0-28.png\n",
            "/content/drive/MyDrive/urbansound/spectrograms/7/30206-7-0-29.png\n",
            "/content/drive/MyDrive/urbansound/spectrograms/7/30206-7-0-3.png\n",
            "/content/drive/MyDrive/urbansound/spectrograms/7/30206-7-0-30.png\n",
            "/content/drive/MyDrive/urbansound/spectrograms/7/30206-7-0-31.png\n",
            "/content/drive/MyDrive/urbansound/spectrograms/7/30206-7-0-32.png\n",
            "/content/drive/MyDrive/urbansound/spectrograms/7/30206-7-0-33.png\n",
            "/content/drive/MyDrive/urbansound/spectrograms/7/30206-7-0-34.png\n",
            "/content/drive/MyDrive/urbansound/spectrograms/7/30206-7-0-35.png"
          ]
        },
        {
          "output_type": "stream",
          "name": "stderr",
          "text": [
            "6051it [01:11, 78.90it/s]"
          ]
        },
        {
          "output_type": "stream",
          "name": "stdout",
          "text": [
            "\n",
            "/content/drive/MyDrive/urbansound/spectrograms/7/30206-7-0-36.png\n",
            "/content/drive/MyDrive/urbansound/spectrograms/7/30206-7-0-37.png\n",
            "/content/drive/MyDrive/urbansound/spectrograms/7/30206-7-0-38.png\n",
            "/content/drive/MyDrive/urbansound/spectrograms/7/30206-7-0-39.png\n",
            "/content/drive/MyDrive/urbansound/spectrograms/7/30206-7-0-4.png\n",
            "/content/drive/MyDrive/urbansound/spectrograms/7/30206-7-0-5.png\n",
            "/content/drive/MyDrive/urbansound/spectrograms/7/30206-7-0-6.png\n",
            "/content/drive/MyDrive/urbansound/spectrograms/7/30206-7-0-7.png\n",
            "/content/drive/MyDrive/urbansound/spectrograms/7/30206-7-0-8.png\n",
            "/content/drive/MyDrive/urbansound/spectrograms/7/30206-7-0-9.png\n",
            "/content/drive/MyDrive/urbansound/spectrograms/3/30226-3-1-0.png\n",
            "/content/drive/MyDrive/urbansound/spectrograms/3/30226-3-1-1.png\n",
            "/content/drive/MyDrive/urbansound/spectrograms/3/30226-3-1-3.png\n",
            "/content/drive/MyDrive/urbansound/spectrograms/3/30226-3-1-5.png\n",
            "/content/drive/MyDrive/urbansound/spectrograms/3/30344-3-0-0.png\n",
            "/content/drive/MyDrive/urbansound/spectrograms/3/30344-3-0-1.png\n"
          ]
        },
        {
          "output_type": "stream",
          "name": "stderr",
          "text": [
            "6071it [01:11, 87.87it/s]"
          ]
        },
        {
          "output_type": "stream",
          "name": "stdout",
          "text": [
            "/content/drive/MyDrive/urbansound/spectrograms/3/30344-3-0-3.png\n",
            "/content/drive/MyDrive/urbansound/spectrograms/3/30344-3-0-4.png\n",
            "/content/drive/MyDrive/urbansound/spectrograms/8/30823-8-0-0.png\n",
            "/content/drive/MyDrive/urbansound/spectrograms/3/30832-3-1-0.png\n",
            "/content/drive/MyDrive/urbansound/spectrograms/3/30832-3-12-0.png\n",
            "/content/drive/MyDrive/urbansound/spectrograms/3/30832-3-5-1.png\n",
            "/content/drive/MyDrive/urbansound/spectrograms/3/30832-3-7-0.png\n",
            "/content/drive/MyDrive/urbansound/spectrograms/2/31150-2-0-1.png\n",
            "/content/drive/MyDrive/urbansound/spectrograms/2/31150-2-0-14.png\n",
            "/content/drive/MyDrive/urbansound/spectrograms/2/31150-2-0-17.png\n",
            "/content/drive/MyDrive/urbansound/spectrograms/2/31150-2-0-2.png\n",
            "/content/drive/MyDrive/urbansound/spectrograms/2/31150-2-0-24.png\n",
            "/content/drive/MyDrive/urbansound/spectrograms/2/31150-2-0-34.png\n",
            "/content/drive/MyDrive/urbansound/spectrograms/2/31150-2-0-6.png\n",
            "/content/drive/MyDrive/urbansound/spectrograms/3/31323-3-0-1.png\n",
            "/content/drive/MyDrive/urbansound/spectrograms/3/31323-3-0-2.png\n",
            "/content/drive/MyDrive/urbansound/spectrograms/3/31323-3-0-20.png\n",
            "/content/drive/MyDrive/urbansound/spectrograms/3/31323-3-0-22.png\n",
            "/content/drive/MyDrive/urbansound/spectrograms/3/31325-3-1-0.png\n",
            "/content/drive/MyDrive/urbansound/spectrograms/3/31325-3-1-1.png\n",
            "/content/drive/MyDrive/urbansound/spectrograms/3/31325-3-3-6.png\n"
          ]
        },
        {
          "output_type": "stream",
          "name": "stderr",
          "text": [
            "6090it [01:12, 87.84it/s]"
          ]
        },
        {
          "output_type": "stream",
          "name": "stdout",
          "text": [
            "/content/drive/MyDrive/urbansound/spectrograms/3/31325-3-4-0.png\n",
            "/content/drive/MyDrive/urbansound/spectrograms/3/31840-3-0-0.png\n",
            "/content/drive/MyDrive/urbansound/spectrograms/3/31840-3-1-0.png\n",
            "/content/drive/MyDrive/urbansound/spectrograms/7/31884-7-0-0.png\n",
            "/content/drive/MyDrive/urbansound/spectrograms/7/31884-7-0-1.png\n",
            "/content/drive/MyDrive/urbansound/spectrograms/7/31884-7-0-2.png\n",
            "/content/drive/MyDrive/urbansound/spectrograms/7/31884-7-0-3.png\n",
            "/content/drive/MyDrive/urbansound/spectrograms/7/31884-7-1-0.png\n",
            "/content/drive/MyDrive/urbansound/spectrograms/7/31884-7-1-1.png\n",
            "/content/drive/MyDrive/urbansound/spectrograms/7/31884-7-1-2.png\n",
            "/content/drive/MyDrive/urbansound/spectrograms/7/31884-7-1-3.png\n",
            "/content/drive/MyDrive/urbansound/spectrograms/7/31884-7-1-4.png\n",
            "/content/drive/MyDrive/urbansound/spectrograms/9/31973-9-0-43.png\n",
            "/content/drive/MyDrive/urbansound/spectrograms/9/31973-9-0-51.png\n",
            "/content/drive/MyDrive/urbansound/spectrograms/9/31973-9-0-56.png\n",
            "/content/drive/MyDrive/urbansound/spectrograms/9/31973-9-0-57.png\n",
            "/content/drive/MyDrive/urbansound/spectrograms/9/31973-9-0-64.png\n"
          ]
        },
        {
          "output_type": "stream",
          "name": "stderr",
          "text": [
            "6108it [01:12, 85.36it/s]"
          ]
        },
        {
          "output_type": "stream",
          "name": "stdout",
          "text": [
            "/content/drive/MyDrive/urbansound/spectrograms/9/31973-9-0-71.png\n",
            "/content/drive/MyDrive/urbansound/spectrograms/3/32318-3-0-0.png\n",
            "/content/drive/MyDrive/urbansound/spectrograms/3/32318-3-0-1.png\n",
            "/content/drive/MyDrive/urbansound/spectrograms/1/32417-1-0-0.png\n",
            "/content/drive/MyDrive/urbansound/spectrograms/7/33340-7-0-0.png\n",
            "/content/drive/MyDrive/urbansound/spectrograms/7/33340-7-1-0.png\n",
            "/content/drive/MyDrive/urbansound/spectrograms/7/33340-7-10-0.png\n",
            "/content/drive/MyDrive/urbansound/spectrograms/7/33340-7-11-0.png\n",
            "/content/drive/MyDrive/urbansound/spectrograms/7/33340-7-12-0.png\n",
            "/content/drive/MyDrive/urbansound/spectrograms/7/33340-7-13-0.png\n",
            "/content/drive/MyDrive/urbansound/spectrograms/7/33340-7-14-0.png\n",
            "/content/drive/MyDrive/urbansound/spectrograms/7/33340-7-15-0.png\n",
            "/content/drive/MyDrive/urbansound/spectrograms/7/33340-7-16-0.png\n",
            "/content/drive/MyDrive/urbansound/spectrograms/7/33340-7-2-0.png\n",
            "/content/drive/MyDrive/urbansound/spectrograms/7/33340-7-3-0.png\n",
            "/content/drive/MyDrive/urbansound/spectrograms/7/33340-7-4-0.png\n",
            "/content/drive/MyDrive/urbansound/spectrograms/7/33340-7-5-0.png\n"
          ]
        },
        {
          "output_type": "stream",
          "name": "stderr",
          "text": [
            "6128it [01:12, 90.22it/s]"
          ]
        },
        {
          "output_type": "stream",
          "name": "stdout",
          "text": [
            "/content/drive/MyDrive/urbansound/spectrograms/7/33340-7-6-0.png\n",
            "/content/drive/MyDrive/urbansound/spectrograms/7/33340-7-7-0.png\n",
            "/content/drive/MyDrive/urbansound/spectrograms/7/33340-7-8-0.png\n",
            "/content/drive/MyDrive/urbansound/spectrograms/7/33340-7-9-0.png\n",
            "/content/drive/MyDrive/urbansound/spectrograms/3/33641-3-1-0.png\n",
            "/content/drive/MyDrive/urbansound/spectrograms/3/33641-3-7-0.png\n",
            "/content/drive/MyDrive/urbansound/spectrograms/3/33641-3-8-0.png\n",
            "/content/drive/MyDrive/urbansound/spectrograms/3/33641-3-9-0.png\n",
            "/content/drive/MyDrive/urbansound/spectrograms/3/33696-3-0-0.png\n",
            "/content/drive/MyDrive/urbansound/spectrograms/3/33696-3-4-0.png\n",
            "/content/drive/MyDrive/urbansound/spectrograms/3/33696-3-4-1.png\n",
            "/content/drive/MyDrive/urbansound/spectrograms/3/33696-3-6-1.png\n",
            "/content/drive/MyDrive/urbansound/spectrograms/3/33849-3-0-0.png\n",
            "/content/drive/MyDrive/urbansound/spectrograms/3/33849-3-2-0.png\n",
            "/content/drive/MyDrive/urbansound/spectrograms/3/33849-3-3-0.png\n",
            "/content/drive/MyDrive/urbansound/spectrograms/3/33849-3-4-0.png\n",
            "/content/drive/MyDrive/urbansound/spectrograms/7/34050-7-0-0.png\n",
            "/content/drive/MyDrive/urbansound/spectrograms/7/34050-7-1-0.png\n",
            "/content/drive/MyDrive/urbansound/spectrograms/7/34050-7-2-0.png\n",
            "/content/drive/MyDrive/urbansound/spectrograms/7/34050-7-3-0.png\n"
          ]
        },
        {
          "output_type": "stream",
          "name": "stderr",
          "text": [
            "6148it [01:12, 91.31it/s]"
          ]
        },
        {
          "output_type": "stream",
          "name": "stdout",
          "text": [
            "/content/drive/MyDrive/urbansound/spectrograms/7/34050-7-4-0.png\n",
            "/content/drive/MyDrive/urbansound/spectrograms/7/34050-7-5-0.png\n",
            "/content/drive/MyDrive/urbansound/spectrograms/7/34050-7-6-0.png\n",
            "/content/drive/MyDrive/urbansound/spectrograms/2/34056-2-0-2.png\n",
            "/content/drive/MyDrive/urbansound/spectrograms/2/34056-2-0-22.png\n",
            "/content/drive/MyDrive/urbansound/spectrograms/2/34056-2-0-40.png\n",
            "/content/drive/MyDrive/urbansound/spectrograms/2/34056-2-0-42.png\n",
            "/content/drive/MyDrive/urbansound/spectrograms/2/34056-2-0-48.png\n",
            "/content/drive/MyDrive/urbansound/spectrograms/2/34056-2-0-61.png\n",
            "/content/drive/MyDrive/urbansound/spectrograms/2/34056-2-0-80.png\n",
            "/content/drive/MyDrive/urbansound/spectrograms/1/34241-1-0-0.png\n",
            "/content/drive/MyDrive/urbansound/spectrograms/1/34241-1-1-0.png\n",
            "/content/drive/MyDrive/urbansound/spectrograms/1/34241-1-2-0.png\n",
            "/content/drive/MyDrive/urbansound/spectrograms/3/344-3-0-0.png\n",
            "/content/drive/MyDrive/urbansound/spectrograms/3/344-3-1-0.png\n",
            "/content/drive/MyDrive/urbansound/spectrograms/3/344-3-4-0.png\n",
            "/content/drive/MyDrive/urbansound/spectrograms/3/344-3-5-0.png\n",
            "/content/drive/MyDrive/urbansound/spectrograms/4/34621-4-0-0.png\n",
            "/content/drive/MyDrive/urbansound/spectrograms/4/34621-4-1-0.png\n"
          ]
        },
        {
          "output_type": "stream",
          "name": "stderr",
          "text": [
            "6168it [01:13, 91.61it/s]"
          ]
        },
        {
          "output_type": "stream",
          "name": "stdout",
          "text": [
            "/content/drive/MyDrive/urbansound/spectrograms/4/34621-4-11-0.png\n",
            "/content/drive/MyDrive/urbansound/spectrograms/4/34621-4-12-0.png\n",
            "/content/drive/MyDrive/urbansound/spectrograms/4/34621-4-13-0.png\n",
            "/content/drive/MyDrive/urbansound/spectrograms/4/34621-4-14-0.png\n",
            "/content/drive/MyDrive/urbansound/spectrograms/4/34621-4-15-0.png\n",
            "/content/drive/MyDrive/urbansound/spectrograms/4/34621-4-16-0.png\n",
            "/content/drive/MyDrive/urbansound/spectrograms/4/34621-4-17-0.png\n",
            "/content/drive/MyDrive/urbansound/spectrograms/4/34621-4-18-0.png\n",
            "/content/drive/MyDrive/urbansound/spectrograms/4/34621-4-2-0.png\n",
            "/content/drive/MyDrive/urbansound/spectrograms/4/34621-4-20-0.png\n",
            "/content/drive/MyDrive/urbansound/spectrograms/4/34621-4-21-0.png\n",
            "/content/drive/MyDrive/urbansound/spectrograms/4/34621-4-22-0.png\n",
            "/content/drive/MyDrive/urbansound/spectrograms/4/34621-4-24-0.png\n",
            "/content/drive/MyDrive/urbansound/spectrograms/4/34621-4-25-0.png\n",
            "/content/drive/MyDrive/urbansound/spectrograms/4/34621-4-26-0.png\n",
            "/content/drive/MyDrive/urbansound/spectrograms/4/34621-4-27-0.png\n",
            "/content/drive/MyDrive/urbansound/spectrograms/4/34621-4-4-0.png\n",
            "/content/drive/MyDrive/urbansound/spectrograms/4/34621-4-5-0.png\n",
            "/content/drive/MyDrive/urbansound/spectrograms/4/34621-4-7-0.png\n",
            "/content/drive/MyDrive/urbansound/spectrograms/4/34621-4-8-0.png\n"
          ]
        },
        {
          "output_type": "stream",
          "name": "stderr",
          "text": [
            "6188it [01:13, 89.75it/s]"
          ]
        },
        {
          "output_type": "stream",
          "name": "stdout",
          "text": [
            "/content/drive/MyDrive/urbansound/spectrograms/4/34643-4-0-0.png\n",
            "/content/drive/MyDrive/urbansound/spectrograms/4/34643-4-1-0.png\n",
            "/content/drive/MyDrive/urbansound/spectrograms/4/34643-4-1-1.png\n",
            "/content/drive/MyDrive/urbansound/spectrograms/4/34643-4-2-0.png\n",
            "/content/drive/MyDrive/urbansound/spectrograms/4/34643-4-2-1.png\n",
            "/content/drive/MyDrive/urbansound/spectrograms/4/34643-4-2-2.png\n",
            "/content/drive/MyDrive/urbansound/spectrograms/6/34708-6-0-0.png\n",
            "/content/drive/MyDrive/urbansound/spectrograms/6/34708-6-1-0.png\n",
            "/content/drive/MyDrive/urbansound/spectrograms/6/34708-6-2-0.png\n",
            "/content/drive/MyDrive/urbansound/spectrograms/6/34708-6-3-0.png\n",
            "/content/drive/MyDrive/urbansound/spectrograms/6/34708-6-4-0.png\n",
            "/content/drive/MyDrive/urbansound/spectrograms/6/34708-6-5-0.png\n",
            "/content/drive/MyDrive/urbansound/spectrograms/3/34771-3-0-10.png\n",
            "/content/drive/MyDrive/urbansound/spectrograms/3/34771-3-0-14.png\n",
            "/content/drive/MyDrive/urbansound/spectrograms/3/34771-3-0-4.png\n",
            "/content/drive/MyDrive/urbansound/spectrograms/3/34771-3-0-5.png\n",
            "/content/drive/MyDrive/urbansound/spectrograms/9/34866-9-0-10.png\n",
            "/content/drive/MyDrive/urbansound/spectrograms/9/34866-9-0-11.png\n"
          ]
        },
        {
          "output_type": "stream",
          "name": "stderr",
          "text": [
            "6208it [01:13, 90.66it/s]"
          ]
        },
        {
          "output_type": "stream",
          "name": "stdout",
          "text": [
            "/content/drive/MyDrive/urbansound/spectrograms/9/34866-9-0-13.png\n",
            "/content/drive/MyDrive/urbansound/spectrograms/9/34866-9-0-3.png\n",
            "/content/drive/MyDrive/urbansound/spectrograms/9/34866-9-0-5.png\n",
            "/content/drive/MyDrive/urbansound/spectrograms/9/34866-9-0-9.png\n",
            "/content/drive/MyDrive/urbansound/spectrograms/3/34871-3-11-0.png\n",
            "/content/drive/MyDrive/urbansound/spectrograms/3/34871-3-6-0.png\n",
            "/content/drive/MyDrive/urbansound/spectrograms/3/34871-3-8-0.png\n",
            "/content/drive/MyDrive/urbansound/spectrograms/3/34871-3-9-0.png\n",
            "/content/drive/MyDrive/urbansound/spectrograms/3/34872-3-0-0.png\n",
            "/content/drive/MyDrive/urbansound/spectrograms/3/34872-3-0-1.png\n",
            "/content/drive/MyDrive/urbansound/spectrograms/3/34872-3-0-2.png\n",
            "/content/drive/MyDrive/urbansound/spectrograms/3/34931-3-0-0.png\n",
            "/content/drive/MyDrive/urbansound/spectrograms/8/34952-8-0-0.png\n",
            "/content/drive/MyDrive/urbansound/spectrograms/8/34952-8-0-1.png\n",
            "/content/drive/MyDrive/urbansound/spectrograms/8/34952-8-0-2.png\n",
            "/content/drive/MyDrive/urbansound/spectrograms/8/34952-8-0-3.png\n",
            "/content/drive/MyDrive/urbansound/spectrograms/8/34952-8-0-4.png\n",
            "/content/drive/MyDrive/urbansound/spectrograms/8/34952-8-0-5.png\n",
            "/content/drive/MyDrive/urbansound/spectrograms/8/34952-8-0-6.png\n"
          ]
        },
        {
          "output_type": "stream",
          "name": "stderr",
          "text": [
            "\r6218it [01:13, 88.37it/s]"
          ]
        },
        {
          "output_type": "stream",
          "name": "stdout",
          "text": [
            "/content/drive/MyDrive/urbansound/spectrograms/8/34952-8-0-7.png\n",
            "/content/drive/MyDrive/urbansound/spectrograms/3/35296-3-0-0.png\n",
            "/content/drive/MyDrive/urbansound/spectrograms/3/35296-3-1-0.png\n",
            "/content/drive/MyDrive/urbansound/spectrograms/3/35296-3-2-0.png\n",
            "/content/drive/MyDrive/urbansound/spectrograms/0/35382-0-0-0.png\n",
            "/content/drive/MyDrive/urbansound/spectrograms/0/35382-0-0-1.png\n",
            "/content/drive/MyDrive/urbansound/spectrograms/9/35548-9-0-10.png\n",
            "/content/drive/MyDrive/urbansound/spectrograms/9/35548-9-0-21.png\n",
            "/content/drive/MyDrive/urbansound/spectrograms/9/35548-9-0-23.png\n",
            "/content/drive/MyDrive/urbansound/spectrograms/9/35548-9-1-14.png\n",
            "/content/drive/MyDrive/urbansound/spectrograms/9/35548-9-2-7.png\n",
            "/content/drive/MyDrive/urbansound/spectrograms/9/35548-9-2-9.png\n",
            "/content/drive/MyDrive/urbansound/spectrograms/9/35549-9-0-14.png\n",
            "/content/drive/MyDrive/urbansound/spectrograms/9/35549-9-0-2.png\n",
            "/content/drive/MyDrive/urbansound/spectrograms/9/35549-9-0-28.png\n",
            "/content/drive/MyDrive/urbansound/spectrograms/9/35549-9-0-47.png\n",
            "/content/drive/MyDrive/urbansound/spectrograms/9/35549-9-0-51.png\n",
            "/content/drive/MyDrive/urbansound/spectrograms/9/35549-9-0-58.png\n"
          ]
        },
        {
          "output_type": "stream",
          "name": "stderr",
          "text": [
            "6237it [01:13, 90.47it/s]"
          ]
        },
        {
          "output_type": "stream",
          "name": "stdout",
          "text": [
            "/content/drive/MyDrive/urbansound/spectrograms/3/35628-3-0-0.png\n",
            "/content/drive/MyDrive/urbansound/spectrograms/3/35629-3-0-0.png\n",
            "/content/drive/MyDrive/urbansound/spectrograms/3/35629-3-1-0.png\n",
            "/content/drive/MyDrive/urbansound/spectrograms/3/35629-3-2-0.png\n",
            "/content/drive/MyDrive/urbansound/spectrograms/3/35629-3-3-0.png\n",
            "/content/drive/MyDrive/urbansound/spectrograms/6/35799-6-0-0.png\n",
            "/content/drive/MyDrive/urbansound/spectrograms/6/35800-6-0-0.png\n",
            "/content/drive/MyDrive/urbansound/spectrograms/9/36263-9-0-12.png\n",
            "/content/drive/MyDrive/urbansound/spectrograms/9/36263-9-0-13.png\n",
            "/content/drive/MyDrive/urbansound/spectrograms/9/36263-9-0-17.png\n",
            "/content/drive/MyDrive/urbansound/spectrograms/9/36263-9-0-2.png\n",
            "/content/drive/MyDrive/urbansound/spectrograms/9/36263-9-0-3.png\n",
            "/content/drive/MyDrive/urbansound/spectrograms/9/36263-9-0-5.png\n",
            "/content/drive/MyDrive/urbansound/spectrograms/9/36264-9-0-0.png\n",
            "/content/drive/MyDrive/urbansound/spectrograms/9/36264-9-0-1.png\n",
            "/content/drive/MyDrive/urbansound/spectrograms/9/36264-9-0-10.png\n",
            "/content/drive/MyDrive/urbansound/spectrograms/9/36264-9-0-2.png\n",
            "/content/drive/MyDrive/urbansound/spectrograms/9/36264-9-0-5.png\n",
            "/content/drive/MyDrive/urbansound/spectrograms/9/36264-9-0-7.png\n"
          ]
        },
        {
          "output_type": "stream",
          "name": "stderr",
          "text": [
            "6257it [01:14, 88.73it/s]"
          ]
        },
        {
          "output_type": "stream",
          "name": "stdout",
          "text": [
            "/content/drive/MyDrive/urbansound/spectrograms/6/36403-6-0-0.png\n",
            "/content/drive/MyDrive/urbansound/spectrograms/2/36429-2-0-13.png\n",
            "/content/drive/MyDrive/urbansound/spectrograms/2/36429-2-0-14.png\n",
            "/content/drive/MyDrive/urbansound/spectrograms/2/36429-2-0-15.png\n",
            "/content/drive/MyDrive/urbansound/spectrograms/2/36429-2-0-18.png\n",
            "/content/drive/MyDrive/urbansound/spectrograms/2/36429-2-0-23.png\n",
            "/content/drive/MyDrive/urbansound/spectrograms/2/36429-2-0-6.png\n",
            "/content/drive/MyDrive/urbansound/spectrograms/2/36429-2-0-7.png\n",
            "/content/drive/MyDrive/urbansound/spectrograms/3/36902-3-0-0.png\n",
            "/content/drive/MyDrive/urbansound/spectrograms/3/36902-3-1-0.png\n",
            "/content/drive/MyDrive/urbansound/spectrograms/3/36902-3-2-0.png\n",
            "/content/drive/MyDrive/urbansound/spectrograms/6/37236-6-0-0.png\n",
            "/content/drive/MyDrive/urbansound/spectrograms/4/37560-4-0-0.png\n",
            "/content/drive/MyDrive/urbansound/spectrograms/4/37560-4-0-1.png\n",
            "/content/drive/MyDrive/urbansound/spectrograms/4/37560-4-0-2.png\n",
            "/content/drive/MyDrive/urbansound/spectrograms/4/37560-4-0-3.png\n",
            "/content/drive/MyDrive/urbansound/spectrograms/4/37560-4-0-4.png\n",
            "/content/drive/MyDrive/urbansound/spectrograms/4/37560-4-0-5.png\n"
          ]
        },
        {
          "output_type": "stream",
          "name": "stderr",
          "text": [
            "6277it [01:14, 89.76it/s]"
          ]
        },
        {
          "output_type": "stream",
          "name": "stdout",
          "text": [
            "/content/drive/MyDrive/urbansound/spectrograms/3/37869-3-0-0.png\n",
            "/content/drive/MyDrive/urbansound/spectrograms/3/37869-3-1-0.png\n",
            "/content/drive/MyDrive/urbansound/spectrograms/3/37869-3-3-0.png\n",
            "/content/drive/MyDrive/urbansound/spectrograms/3/37869-3-5-0.png\n",
            "/content/drive/MyDrive/urbansound/spectrograms/3/38121-3-0-0.png\n",
            "/content/drive/MyDrive/urbansound/spectrograms/3/38231-3-0-0.png\n",
            "/content/drive/MyDrive/urbansound/spectrograms/3/38231-3-2-0.png\n",
            "/content/drive/MyDrive/urbansound/spectrograms/3/38231-3-3-0.png\n",
            "/content/drive/MyDrive/urbansound/spectrograms/3/38231-3-4-0.png\n",
            "/content/drive/MyDrive/urbansound/spectrograms/3/38236-3-2-2.png\n",
            "/content/drive/MyDrive/urbansound/spectrograms/3/38236-3-2-3.png\n",
            "/content/drive/MyDrive/urbansound/spectrograms/3/38236-3-3-0.png\n",
            "/content/drive/MyDrive/urbansound/spectrograms/4/39532-4-0-0.png\n",
            "/content/drive/MyDrive/urbansound/spectrograms/4/39532-4-1-0.png\n",
            "/content/drive/MyDrive/urbansound/spectrograms/4/39532-4-2-0.png\n",
            "/content/drive/MyDrive/urbansound/spectrograms/4/39532-4-3-0.png\n",
            "/content/drive/MyDrive/urbansound/spectrograms/4/39533-4-0-0.png\n",
            "/content/drive/MyDrive/urbansound/spectrograms/4/39533-4-1-0.png\n",
            "/content/drive/MyDrive/urbansound/spectrograms/5/39847-5-0-0.png\n"
          ]
        },
        {
          "output_type": "stream",
          "name": "stderr",
          "text": [
            "6296it [01:14, 86.64it/s]"
          ]
        },
        {
          "output_type": "stream",
          "name": "stdout",
          "text": [
            "/content/drive/MyDrive/urbansound/spectrograms/5/39847-5-0-1.png\n",
            "/content/drive/MyDrive/urbansound/spectrograms/5/39847-5-0-10.png\n",
            "/content/drive/MyDrive/urbansound/spectrograms/5/39847-5-0-11.png\n",
            "/content/drive/MyDrive/urbansound/spectrograms/5/39847-5-0-12.png\n",
            "/content/drive/MyDrive/urbansound/spectrograms/5/39847-5-0-2.png\n",
            "/content/drive/MyDrive/urbansound/spectrograms/5/39847-5-0-3.png\n",
            "/content/drive/MyDrive/urbansound/spectrograms/5/39847-5-0-4.png\n",
            "/content/drive/MyDrive/urbansound/spectrograms/5/39847-5-0-5.png\n",
            "/content/drive/MyDrive/urbansound/spectrograms/5/39847-5-0-6.png\n",
            "/content/drive/MyDrive/urbansound/spectrograms/5/39847-5-0-7.png\n",
            "/content/drive/MyDrive/urbansound/spectrograms/5/39847-5-0-8.png\n",
            "/content/drive/MyDrive/urbansound/spectrograms/5/39847-5-0-9.png\n",
            "/content/drive/MyDrive/urbansound/spectrograms/5/39847-5-1-0.png\n",
            "/content/drive/MyDrive/urbansound/spectrograms/5/39852-5-0-0.png\n",
            "/content/drive/MyDrive/urbansound/spectrograms/5/39852-5-0-1.png\n",
            "/content/drive/MyDrive/urbansound/spectrograms/5/39854-5-0-0.png\n",
            "/content/drive/MyDrive/urbansound/spectrograms/5/39854-5-1-0.png\n"
          ]
        },
        {
          "output_type": "stream",
          "name": "stderr",
          "text": [
            "6314it [01:14, 79.80it/s]"
          ]
        },
        {
          "output_type": "stream",
          "name": "stdout",
          "text": [
            "/content/drive/MyDrive/urbansound/spectrograms/5/39854-5-1-1.png\n",
            "/content/drive/MyDrive/urbansound/spectrograms/5/39854-5-1-2.png\n",
            "/content/drive/MyDrive/urbansound/spectrograms/5/39854-5-1-3.png\n",
            "/content/drive/MyDrive/urbansound/spectrograms/5/39854-5-1-4.png\n",
            "/content/drive/MyDrive/urbansound/spectrograms/5/39856-5-0-0.png\n",
            "/content/drive/MyDrive/urbansound/spectrograms/5/39856-5-0-1.png\n",
            "/content/drive/MyDrive/urbansound/spectrograms/5/39856-5-0-10.png\n",
            "/content/drive/MyDrive/urbansound/spectrograms/5/39856-5-0-11.png\n",
            "/content/drive/MyDrive/urbansound/spectrograms/5/39856-5-0-12.png\n",
            "/content/drive/MyDrive/urbansound/spectrograms/5/39856-5-0-13.png\n",
            "/content/drive/MyDrive/urbansound/spectrograms/5/39856-5-0-14.png\n",
            "/content/drive/MyDrive/urbansound/spectrograms/5/39856-5-0-15.png\n",
            "/content/drive/MyDrive/urbansound/spectrograms/5/39856-5-0-16.png\n",
            "/content/drive/MyDrive/urbansound/spectrograms/5/39856-5-0-17.png\n",
            "/content/drive/MyDrive/urbansound/spectrograms/5/39856-5-0-18.png\n",
            "/content/drive/MyDrive/urbansound/spectrograms/5/39856-5-0-19.png\n"
          ]
        },
        {
          "output_type": "stream",
          "name": "stderr",
          "text": [
            "6332it [01:15, 79.31it/s]"
          ]
        },
        {
          "output_type": "stream",
          "name": "stdout",
          "text": [
            "/content/drive/MyDrive/urbansound/spectrograms/5/39856-5-0-2.png\n",
            "/content/drive/MyDrive/urbansound/spectrograms/5/39856-5-0-20.png\n",
            "/content/drive/MyDrive/urbansound/spectrograms/5/39856-5-0-21.png\n",
            "/content/drive/MyDrive/urbansound/spectrograms/5/39856-5-0-22.png\n",
            "/content/drive/MyDrive/urbansound/spectrograms/5/39856-5-0-23.png\n",
            "/content/drive/MyDrive/urbansound/spectrograms/5/39856-5-0-24.png\n",
            "/content/drive/MyDrive/urbansound/spectrograms/5/39856-5-0-25.png\n",
            "/content/drive/MyDrive/urbansound/spectrograms/5/39856-5-0-26.png\n",
            "/content/drive/MyDrive/urbansound/spectrograms/5/39856-5-0-27.png\n",
            "/content/drive/MyDrive/urbansound/spectrograms/5/39856-5-0-28.png\n",
            "/content/drive/MyDrive/urbansound/spectrograms/5/39856-5-0-3.png\n",
            "/content/drive/MyDrive/urbansound/spectrograms/5/39856-5-0-4.png\n",
            "/content/drive/MyDrive/urbansound/spectrograms/5/39856-5-0-5.png\n",
            "/content/drive/MyDrive/urbansound/spectrograms/5/39856-5-0-6.png\n",
            "/content/drive/MyDrive/urbansound/spectrograms/5/39856-5-0-7.png\n",
            "/content/drive/MyDrive/urbansound/spectrograms/5/39856-5-0-8.png\n",
            "/content/drive/MyDrive/urbansound/spectrograms/5/39856-5-0-9.png\n",
            "/content/drive/MyDrive/urbansound/spectrograms/5/39857-5-0-0.png\n"
          ]
        },
        {
          "output_type": "stream",
          "name": "stderr",
          "text": [
            "6350it [01:15, 82.05it/s]"
          ]
        },
        {
          "output_type": "stream",
          "name": "stdout",
          "text": [
            "/content/drive/MyDrive/urbansound/spectrograms/5/39857-5-0-1.png\n",
            "/content/drive/MyDrive/urbansound/spectrograms/5/39857-5-0-2.png\n",
            "/content/drive/MyDrive/urbansound/spectrograms/5/39857-5-1-0.png\n",
            "/content/drive/MyDrive/urbansound/spectrograms/5/39857-5-1-1.png\n",
            "/content/drive/MyDrive/urbansound/spectrograms/5/39857-5-1-2.png\n",
            "/content/drive/MyDrive/urbansound/spectrograms/5/39857-5-1-3.png\n",
            "/content/drive/MyDrive/urbansound/spectrograms/5/39857-5-2-0.png\n",
            "/content/drive/MyDrive/urbansound/spectrograms/5/39857-5-3-0.png\n",
            "/content/drive/MyDrive/urbansound/spectrograms/5/39857-5-4-0.png\n",
            "/content/drive/MyDrive/urbansound/spectrograms/5/39857-5-5-0.png\n",
            "/content/drive/MyDrive/urbansound/spectrograms/5/39857-5-5-1.png\n",
            "/content/drive/MyDrive/urbansound/spectrograms/5/39884-5-0-0.png\n",
            "/content/drive/MyDrive/urbansound/spectrograms/5/39884-5-0-1.png\n",
            "/content/drive/MyDrive/urbansound/spectrograms/5/39884-5-0-2.png\n",
            "/content/drive/MyDrive/urbansound/spectrograms/5/39884-5-0-3.png\n",
            "/content/drive/MyDrive/urbansound/spectrograms/5/39884-5-0-4.png\n",
            "/content/drive/MyDrive/urbansound/spectrograms/5/39884-5-0-5.png\n",
            "/content/drive/MyDrive/urbansound/spectrograms/5/39884-5-0-6.png\n"
          ]
        },
        {
          "output_type": "stream",
          "name": "stderr",
          "text": [
            "6368it [01:15, 83.15it/s]"
          ]
        },
        {
          "output_type": "stream",
          "name": "stdout",
          "text": [
            "/content/drive/MyDrive/urbansound/spectrograms/5/39884-5-0-7.png\n",
            "/content/drive/MyDrive/urbansound/spectrograms/9/39967-9-0-0.png\n",
            "/content/drive/MyDrive/urbansound/spectrograms/9/39967-9-0-100.png\n",
            "/content/drive/MyDrive/urbansound/spectrograms/9/39967-9-0-44.png\n",
            "/content/drive/MyDrive/urbansound/spectrograms/9/39967-9-0-56.png\n",
            "/content/drive/MyDrive/urbansound/spectrograms/9/39967-9-0-78.png\n",
            "/content/drive/MyDrive/urbansound/spectrograms/9/39967-9-0-99.png\n",
            "/content/drive/MyDrive/urbansound/spectrograms/9/39968-9-0-144.png\n",
            "/content/drive/MyDrive/urbansound/spectrograms/9/39968-9-0-173.png\n",
            "/content/drive/MyDrive/urbansound/spectrograms/9/39968-9-0-181.png\n",
            "/content/drive/MyDrive/urbansound/spectrograms/9/39968-9-0-227.png\n",
            "/content/drive/MyDrive/urbansound/spectrograms/9/39968-9-0-69.png\n",
            "/content/drive/MyDrive/urbansound/spectrograms/9/39968-9-0-81.png\n",
            "/content/drive/MyDrive/urbansound/spectrograms/9/39970-9-0-108.png\n",
            "/content/drive/MyDrive/urbansound/spectrograms/9/39970-9-0-142.png\n",
            "/content/drive/MyDrive/urbansound/spectrograms/9/39970-9-0-41.png\n",
            "/content/drive/MyDrive/urbansound/spectrograms/9/39970-9-0-46.png\n",
            "/content/drive/MyDrive/urbansound/spectrograms/9/39970-9-0-54.png\n"
          ]
        },
        {
          "output_type": "stream",
          "name": "stderr",
          "text": [
            "6387it [01:15, 85.83it/s]"
          ]
        },
        {
          "output_type": "stream",
          "name": "stdout",
          "text": [
            "/content/drive/MyDrive/urbansound/spectrograms/9/39970-9-0-98.png\n",
            "/content/drive/MyDrive/urbansound/spectrograms/8/40717-8-0-0.png\n",
            "/content/drive/MyDrive/urbansound/spectrograms/8/40717-8-0-1.png\n",
            "/content/drive/MyDrive/urbansound/spectrograms/8/40717-8-0-2.png\n",
            "/content/drive/MyDrive/urbansound/spectrograms/8/40717-8-0-3.png\n",
            "/content/drive/MyDrive/urbansound/spectrograms/8/40717-8-0-4.png\n",
            "/content/drive/MyDrive/urbansound/spectrograms/8/40717-8-0-5.png\n",
            "/content/drive/MyDrive/urbansound/spectrograms/8/40717-8-0-6.png\n",
            "/content/drive/MyDrive/urbansound/spectrograms/8/40722-8-0-0.png\n",
            "/content/drive/MyDrive/urbansound/spectrograms/8/40722-8-0-1.png\n",
            "/content/drive/MyDrive/urbansound/spectrograms/8/40722-8-0-2.png\n",
            "/content/drive/MyDrive/urbansound/spectrograms/8/40722-8-0-3.png\n",
            "/content/drive/MyDrive/urbansound/spectrograms/8/40722-8-0-4.png\n",
            "/content/drive/MyDrive/urbansound/spectrograms/8/40722-8-0-5.png\n",
            "/content/drive/MyDrive/urbansound/spectrograms/8/40722-8-0-6.png\n",
            "/content/drive/MyDrive/urbansound/spectrograms/8/40722-8-0-7.png\n",
            "/content/drive/MyDrive/urbansound/spectrograms/8/40722-8-0-8.png\n",
            "/content/drive/MyDrive/urbansound/spectrograms/3/41306-3-0-10.png\n",
            "/content/drive/MyDrive/urbansound/spectrograms/3/41306-3-0-13.png\n"
          ]
        },
        {
          "output_type": "stream",
          "name": "stderr",
          "text": [
            "\r6396it [01:15, 83.98it/s]"
          ]
        },
        {
          "output_type": "stream",
          "name": "stdout",
          "text": [
            "/content/drive/MyDrive/urbansound/spectrograms/3/41306-3-0-4.png\n",
            "/content/drive/MyDrive/urbansound/spectrograms/9/41364-9-0-11.png\n",
            "/content/drive/MyDrive/urbansound/spectrograms/9/41364-9-0-18.png\n",
            "/content/drive/MyDrive/urbansound/spectrograms/9/41364-9-0-22.png\n",
            "/content/drive/MyDrive/urbansound/spectrograms/9/41364-9-0-23.png\n",
            "/content/drive/MyDrive/urbansound/spectrograms/9/41364-9-0-24.png\n",
            "/content/drive/MyDrive/urbansound/spectrograms/9/41364-9-0-27.png\n",
            "/content/drive/MyDrive/urbansound/spectrograms/3/41372-3-0-25.png\n",
            "/content/drive/MyDrive/urbansound/spectrograms/3/41372-3-0-36.png\n",
            "/content/drive/MyDrive/urbansound/spectrograms/3/41372-3-0-39.png\n",
            "/content/drive/MyDrive/urbansound/spectrograms/3/41372-3-0-51.png\n",
            "/content/drive/MyDrive/urbansound/spectrograms/3/41918-3-0-0.png\n",
            "/content/drive/MyDrive/urbansound/spectrograms/3/41918-3-0-1.png\n",
            "/content/drive/MyDrive/urbansound/spectrograms/3/4201-3-0-0.png\n",
            "/content/drive/MyDrive/urbansound/spectrograms/3/4201-3-1-0.png\n",
            "/content/drive/MyDrive/urbansound/spectrograms/3/4201-3-2-0.png\n",
            "/content/drive/MyDrive/urbansound/spectrograms/3/4201-3-3-0.png\n"
          ]
        },
        {
          "output_type": "stream",
          "name": "stderr",
          "text": [
            "6414it [01:15, 83.12it/s]"
          ]
        },
        {
          "output_type": "stream",
          "name": "stdout",
          "text": [
            "/content/drive/MyDrive/urbansound/spectrograms/7/42097-7-0-0.png\n",
            "/content/drive/MyDrive/urbansound/spectrograms/7/42097-7-0-1.png\n",
            "/content/drive/MyDrive/urbansound/spectrograms/7/42097-7-0-2.png\n",
            "/content/drive/MyDrive/urbansound/spectrograms/1/42101-1-1-0.png\n",
            "/content/drive/MyDrive/urbansound/spectrograms/8/42117-8-0-0.png\n",
            "/content/drive/MyDrive/urbansound/spectrograms/8/42117-8-0-1.png\n",
            "/content/drive/MyDrive/urbansound/spectrograms/8/42117-8-0-10.png\n",
            "/content/drive/MyDrive/urbansound/spectrograms/8/42117-8-0-11.png\n",
            "/content/drive/MyDrive/urbansound/spectrograms/8/42117-8-0-12.png\n",
            "/content/drive/MyDrive/urbansound/spectrograms/8/42117-8-0-13.png\n",
            "/content/drive/MyDrive/urbansound/spectrograms/8/42117-8-0-14.png\n",
            "/content/drive/MyDrive/urbansound/spectrograms/8/42117-8-0-2.png\n",
            "/content/drive/MyDrive/urbansound/spectrograms/8/42117-8-0-3.png\n",
            "/content/drive/MyDrive/urbansound/spectrograms/8/42117-8-0-4.png\n",
            "/content/drive/MyDrive/urbansound/spectrograms/8/42117-8-0-5.png\n",
            "/content/drive/MyDrive/urbansound/spectrograms/8/42117-8-0-6.png\n",
            "/content/drive/MyDrive/urbansound/spectrograms/8/42117-8-0-7.png\n",
            "/content/drive/MyDrive/urbansound/spectrograms/8/42117-8-0-8.png\n"
          ]
        },
        {
          "output_type": "stream",
          "name": "stderr",
          "text": [
            "6432it [01:16, 82.71it/s]"
          ]
        },
        {
          "output_type": "stream",
          "name": "stdout",
          "text": [
            "/content/drive/MyDrive/urbansound/spectrograms/8/42117-8-0-9.png\n",
            "/content/drive/MyDrive/urbansound/spectrograms/8/42117-8-1-0.png\n",
            "/content/drive/MyDrive/urbansound/spectrograms/4/42324-4-0-0.png\n",
            "/content/drive/MyDrive/urbansound/spectrograms/4/42324-4-1-0.png\n",
            "/content/drive/MyDrive/urbansound/spectrograms/4/42324-4-2-0.png\n",
            "/content/drive/MyDrive/urbansound/spectrograms/4/42324-4-2-1.png\n",
            "/content/drive/MyDrive/urbansound/spectrograms/4/42324-4-2-2.png\n",
            "/content/drive/MyDrive/urbansound/spectrograms/4/42324-4-2-3.png\n",
            "/content/drive/MyDrive/urbansound/spectrograms/4/42324-4-2-4.png\n",
            "/content/drive/MyDrive/urbansound/spectrograms/3/42371-3-0-0.png\n",
            "/content/drive/MyDrive/urbansound/spectrograms/4/42937-4-0-0.png\n",
            "/content/drive/MyDrive/urbansound/spectrograms/4/42937-4-0-1.png\n",
            "/content/drive/MyDrive/urbansound/spectrograms/4/42937-4-0-2.png\n",
            "/content/drive/MyDrive/urbansound/spectrograms/9/42953-9-0-16.png\n",
            "/content/drive/MyDrive/urbansound/spectrograms/9/42953-9-0-21.png\n",
            "/content/drive/MyDrive/urbansound/spectrograms/9/42953-9-0-28.png\n",
            "/content/drive/MyDrive/urbansound/spectrograms/9/42953-9-0-37.png\n"
          ]
        },
        {
          "output_type": "stream",
          "name": "stderr",
          "text": [
            "6450it [01:16, 84.45it/s]"
          ]
        },
        {
          "output_type": "stream",
          "name": "stdout",
          "text": [
            "/content/drive/MyDrive/urbansound/spectrograms/9/42953-9-0-49.png\n",
            "/content/drive/MyDrive/urbansound/spectrograms/9/42953-9-0-50.png\n",
            "/content/drive/MyDrive/urbansound/spectrograms/9/42954-9-0-12.png\n",
            "/content/drive/MyDrive/urbansound/spectrograms/9/42954-9-0-18.png\n",
            "/content/drive/MyDrive/urbansound/spectrograms/9/42954-9-0-2.png\n",
            "/content/drive/MyDrive/urbansound/spectrograms/9/42954-9-0-20.png\n",
            "/content/drive/MyDrive/urbansound/spectrograms/9/42954-9-0-22.png\n",
            "/content/drive/MyDrive/urbansound/spectrograms/9/42954-9-0-5.png\n",
            "/content/drive/MyDrive/urbansound/spectrograms/9/42955-9-0-12.png\n",
            "/content/drive/MyDrive/urbansound/spectrograms/9/42955-9-0-14.png\n",
            "/content/drive/MyDrive/urbansound/spectrograms/9/42955-9-0-18.png\n",
            "/content/drive/MyDrive/urbansound/spectrograms/9/42955-9-0-19.png\n",
            "/content/drive/MyDrive/urbansound/spectrograms/9/42955-9-0-22.png\n",
            "/content/drive/MyDrive/urbansound/spectrograms/3/43784-3-0-0.png\n",
            "/content/drive/MyDrive/urbansound/spectrograms/3/43784-3-1-0.png\n",
            "/content/drive/MyDrive/urbansound/spectrograms/3/43786-3-0-0.png\n",
            "/content/drive/MyDrive/urbansound/spectrograms/3/43786-3-1-0.png\n"
          ]
        },
        {
          "output_type": "stream",
          "name": "stderr",
          "text": [
            "6470it [01:16, 89.13it/s]"
          ]
        },
        {
          "output_type": "stream",
          "name": "stdout",
          "text": [
            "/content/drive/MyDrive/urbansound/spectrograms/3/43787-3-0-0.png\n",
            "/content/drive/MyDrive/urbansound/spectrograms/3/43787-3-1-0.png\n",
            "/content/drive/MyDrive/urbansound/spectrograms/3/43787-3-2-0.png\n",
            "/content/drive/MyDrive/urbansound/spectrograms/3/43787-3-3-0.png\n",
            "/content/drive/MyDrive/urbansound/spectrograms/1/43802-1-0-0.png\n",
            "/content/drive/MyDrive/urbansound/spectrograms/1/43802-1-1-0.png\n",
            "/content/drive/MyDrive/urbansound/spectrograms/1/43802-1-2-0.png\n",
            "/content/drive/MyDrive/urbansound/spectrograms/1/43803-1-0-0.png\n",
            "/content/drive/MyDrive/urbansound/spectrograms/8/43805-8-0-0.png\n",
            "/content/drive/MyDrive/urbansound/spectrograms/8/43805-8-1-0.png\n",
            "/content/drive/MyDrive/urbansound/spectrograms/8/43805-8-2-0.png\n",
            "/content/drive/MyDrive/urbansound/spectrograms/8/43805-8-3-0.png\n",
            "/content/drive/MyDrive/urbansound/spectrograms/8/43805-8-4-0.png\n",
            "/content/drive/MyDrive/urbansound/spectrograms/8/43806-8-0-0.png\n",
            "/content/drive/MyDrive/urbansound/spectrograms/3/44110-3-0-0.png\n",
            "/content/drive/MyDrive/urbansound/spectrograms/3/44110-3-1-0.png\n",
            "/content/drive/MyDrive/urbansound/spectrograms/3/44110-3-3-0.png\n",
            "/content/drive/MyDrive/urbansound/spectrograms/3/44110-3-4-0.png\n",
            "/content/drive/MyDrive/urbansound/spectrograms/1/44278-1-0-0.png\n",
            "/content/drive/MyDrive/urbansound/spectrograms/1/44278-1-1-0.png\n",
            "/content/drive/MyDrive/urbansound/spectrograms/9/44325-9-0-18.png\n"
          ]
        },
        {
          "output_type": "stream",
          "name": "stderr",
          "text": [
            "6490it [01:16, 89.30it/s]"
          ]
        },
        {
          "output_type": "stream",
          "name": "stdout",
          "text": [
            "/content/drive/MyDrive/urbansound/spectrograms/9/44325-9-0-21.png\n",
            "/content/drive/MyDrive/urbansound/spectrograms/9/44325-9-0-35.png\n",
            "/content/drive/MyDrive/urbansound/spectrograms/9/44325-9-0-67.png\n",
            "/content/drive/MyDrive/urbansound/spectrograms/9/44325-9-0-72.png\n",
            "/content/drive/MyDrive/urbansound/spectrograms/9/44325-9-0-78.png\n",
            "/content/drive/MyDrive/urbansound/spectrograms/5/44735-5-0-0.png\n",
            "/content/drive/MyDrive/urbansound/spectrograms/5/44735-5-0-1.png\n",
            "/content/drive/MyDrive/urbansound/spectrograms/5/44736-5-0-0.png\n",
            "/content/drive/MyDrive/urbansound/spectrograms/5/44736-5-0-1.png\n",
            "/content/drive/MyDrive/urbansound/spectrograms/5/44737-5-0-0.png\n",
            "/content/drive/MyDrive/urbansound/spectrograms/5/44737-5-0-1.png\n",
            "/content/drive/MyDrive/urbansound/spectrograms/5/44737-5-0-2.png\n",
            "/content/drive/MyDrive/urbansound/spectrograms/5/44737-5-0-3.png\n",
            "/content/drive/MyDrive/urbansound/spectrograms/3/44831-3-0-0.png\n",
            "/content/drive/MyDrive/urbansound/spectrograms/3/44831-3-1-0.png\n",
            "/content/drive/MyDrive/urbansound/spectrograms/3/44831-3-2-0.png\n",
            "/content/drive/MyDrive/urbansound/spectrograms/1/45256-1-0-0.png\n"
          ]
        },
        {
          "output_type": "stream",
          "name": "stderr",
          "text": [
            "6510it [01:17, 88.47it/s]"
          ]
        },
        {
          "output_type": "stream",
          "name": "stdout",
          "text": [
            "/content/drive/MyDrive/urbansound/spectrograms/2/46299-2-0-0.png\n",
            "/content/drive/MyDrive/urbansound/spectrograms/2/46299-2-0-16.png\n",
            "/content/drive/MyDrive/urbansound/spectrograms/2/46299-2-0-21.png\n",
            "/content/drive/MyDrive/urbansound/spectrograms/2/46299-2-0-22.png\n",
            "/content/drive/MyDrive/urbansound/spectrograms/2/46299-2-0-36.png\n",
            "/content/drive/MyDrive/urbansound/spectrograms/2/46299-2-0-48.png\n",
            "/content/drive/MyDrive/urbansound/spectrograms/2/46299-2-0-8.png\n",
            "/content/drive/MyDrive/urbansound/spectrograms/2/46299-2-0-9.png\n",
            "/content/drive/MyDrive/urbansound/spectrograms/1/46391-1-0-0.png\n",
            "/content/drive/MyDrive/urbansound/spectrograms/1/46391-1-1-0.png\n",
            "/content/drive/MyDrive/urbansound/spectrograms/6/46654-6-0-0.png\n",
            "/content/drive/MyDrive/urbansound/spectrograms/6/46655-6-0-0.png\n",
            "/content/drive/MyDrive/urbansound/spectrograms/6/46656-6-0-0.png\n",
            "/content/drive/MyDrive/urbansound/spectrograms/6/46656-6-1-0.png\n",
            "/content/drive/MyDrive/urbansound/spectrograms/6/46656-6-2-0.png\n",
            "/content/drive/MyDrive/urbansound/spectrograms/6/46656-6-3-0.png\n",
            "/content/drive/MyDrive/urbansound/spectrograms/6/46656-6-4-0.png\n",
            "/content/drive/MyDrive/urbansound/spectrograms/6/46656-6-5-0.png\n",
            "/content/drive/MyDrive/urbansound/spectrograms/4/46668-4-0-0.png\n"
          ]
        },
        {
          "output_type": "stream",
          "name": "stderr",
          "text": [
            "6528it [01:17, 83.27it/s]"
          ]
        },
        {
          "output_type": "stream",
          "name": "stdout",
          "text": [
            "/content/drive/MyDrive/urbansound/spectrograms/4/46668-4-0-1.png\n",
            "/content/drive/MyDrive/urbansound/spectrograms/4/46668-4-0-2.png\n",
            "/content/drive/MyDrive/urbansound/spectrograms/4/46669-4-0-0.png\n",
            "/content/drive/MyDrive/urbansound/spectrograms/4/46669-4-0-10.png\n",
            "/content/drive/MyDrive/urbansound/spectrograms/4/46669-4-0-2.png\n",
            "/content/drive/MyDrive/urbansound/spectrograms/4/46669-4-0-24.png\n",
            "/content/drive/MyDrive/urbansound/spectrograms/4/46669-4-0-26.png\n",
            "/content/drive/MyDrive/urbansound/spectrograms/4/46669-4-0-3.png\n",
            "/content/drive/MyDrive/urbansound/spectrograms/4/46669-4-0-30.png\n",
            "/content/drive/MyDrive/urbansound/spectrograms/4/46669-4-0-31.png\n",
            "/content/drive/MyDrive/urbansound/spectrograms/4/46669-4-0-32.png\n",
            "/content/drive/MyDrive/urbansound/spectrograms/4/46669-4-0-33.png\n",
            "/content/drive/MyDrive/urbansound/spectrograms/4/46669-4-0-35.png\n",
            "/content/drive/MyDrive/urbansound/spectrograms/4/46669-4-0-36.png\n",
            "/content/drive/MyDrive/urbansound/spectrograms/4/46669-4-0-37.png\n",
            "/content/drive/MyDrive/urbansound/spectrograms/4/46669-4-0-39.png\n"
          ]
        },
        {
          "output_type": "stream",
          "name": "stderr",
          "text": [
            "6546it [01:17, 82.36it/s]"
          ]
        },
        {
          "output_type": "stream",
          "name": "stdout",
          "text": [
            "/content/drive/MyDrive/urbansound/spectrograms/4/46669-4-0-4.png\n",
            "/content/drive/MyDrive/urbansound/spectrograms/4/46669-4-0-45.png\n",
            "/content/drive/MyDrive/urbansound/spectrograms/4/46669-4-0-48.png\n",
            "/content/drive/MyDrive/urbansound/spectrograms/4/46669-4-0-49.png\n",
            "/content/drive/MyDrive/urbansound/spectrograms/4/46669-4-0-54.png\n",
            "/content/drive/MyDrive/urbansound/spectrograms/4/46669-4-0-61.png\n",
            "/content/drive/MyDrive/urbansound/spectrograms/4/46669-4-0-63.png\n",
            "/content/drive/MyDrive/urbansound/spectrograms/4/46669-4-0-8.png\n",
            "/content/drive/MyDrive/urbansound/spectrograms/4/46669-4-0-9.png\n",
            "/content/drive/MyDrive/urbansound/spectrograms/5/46918-5-0-0.png\n",
            "/content/drive/MyDrive/urbansound/spectrograms/5/46918-5-0-1.png\n",
            "/content/drive/MyDrive/urbansound/spectrograms/5/46918-5-0-2.png\n",
            "/content/drive/MyDrive/urbansound/spectrograms/2/47019-2-0-42.png\n",
            "/content/drive/MyDrive/urbansound/spectrograms/2/47019-2-0-44.png\n",
            "/content/drive/MyDrive/urbansound/spectrograms/2/47019-2-0-55.png\n",
            "/content/drive/MyDrive/urbansound/spectrograms/2/47019-2-0-65.png\n",
            "/content/drive/MyDrive/urbansound/spectrograms/2/47019-2-0-66.png\n"
          ]
        },
        {
          "output_type": "stream",
          "name": "stderr",
          "text": [
            "6565it [01:17, 86.75it/s]"
          ]
        },
        {
          "output_type": "stream",
          "name": "stdout",
          "text": [
            "/content/drive/MyDrive/urbansound/spectrograms/2/47019-2-0-69.png\n",
            "/content/drive/MyDrive/urbansound/spectrograms/2/47019-2-0-73.png\n",
            "/content/drive/MyDrive/urbansound/spectrograms/0/47160-0-0-0.png\n",
            "/content/drive/MyDrive/urbansound/spectrograms/0/47160-0-0-1.png\n",
            "/content/drive/MyDrive/urbansound/spectrograms/0/47160-0-0-2.png\n",
            "/content/drive/MyDrive/urbansound/spectrograms/0/47160-0-0-3.png\n",
            "/content/drive/MyDrive/urbansound/spectrograms/0/47160-0-0-4.png\n",
            "/content/drive/MyDrive/urbansound/spectrograms/3/47926-3-0-0.png\n",
            "/content/drive/MyDrive/urbansound/spectrograms/3/47926-3-1-0.png\n",
            "/content/drive/MyDrive/urbansound/spectrograms/3/47926-3-2-0.png\n",
            "/content/drive/MyDrive/urbansound/spectrograms/3/47926-3-3-0.png\n",
            "/content/drive/MyDrive/urbansound/spectrograms/3/4910-3-0-0.png\n",
            "/content/drive/MyDrive/urbansound/spectrograms/3/4911-3-0-0.png\n",
            "/content/drive/MyDrive/urbansound/spectrograms/3/4912-3-0-0.png\n",
            "/content/drive/MyDrive/urbansound/spectrograms/3/4912-3-1-0.png\n",
            "/content/drive/MyDrive/urbansound/spectrograms/3/4912-3-2-0.png\n",
            "/content/drive/MyDrive/urbansound/spectrograms/3/4912-3-3-0.png\n",
            "/content/drive/MyDrive/urbansound/spectrograms/3/4918-3-0-0.png\n",
            "/content/drive/MyDrive/urbansound/spectrograms/3/4918-3-1-0.png\n"
          ]
        },
        {
          "output_type": "stream",
          "name": "stderr",
          "text": [
            "6583it [01:17, 86.52it/s]"
          ]
        },
        {
          "output_type": "stream",
          "name": "stdout",
          "text": [
            "/content/drive/MyDrive/urbansound/spectrograms/3/4918-3-3-0.png\n",
            "/content/drive/MyDrive/urbansound/spectrograms/3/4918-3-4-0.png\n",
            "/content/drive/MyDrive/urbansound/spectrograms/2/49312-2-0-1.png\n",
            "/content/drive/MyDrive/urbansound/spectrograms/2/49312-2-0-10.png\n",
            "/content/drive/MyDrive/urbansound/spectrograms/2/49312-2-0-16.png\n",
            "/content/drive/MyDrive/urbansound/spectrograms/2/49312-2-0-17.png\n",
            "/content/drive/MyDrive/urbansound/spectrograms/2/49312-2-0-2.png\n",
            "/content/drive/MyDrive/urbansound/spectrograms/2/49312-2-0-5.png\n",
            "/content/drive/MyDrive/urbansound/spectrograms/2/49312-2-0-7.png\n",
            "/content/drive/MyDrive/urbansound/spectrograms/2/49313-2-0-1.png\n",
            "/content/drive/MyDrive/urbansound/spectrograms/2/49313-2-0-10.png\n",
            "/content/drive/MyDrive/urbansound/spectrograms/2/49313-2-0-13.png\n",
            "/content/drive/MyDrive/urbansound/spectrograms/2/49313-2-0-20.png\n",
            "/content/drive/MyDrive/urbansound/spectrograms/2/49313-2-0-30.png\n",
            "/content/drive/MyDrive/urbansound/spectrograms/2/49313-2-0-4.png\n",
            "/content/drive/MyDrive/urbansound/spectrograms/2/49313-2-0-9.png\n",
            "/content/drive/MyDrive/urbansound/spectrograms/9/49485-9-0-138.png\n",
            "/content/drive/MyDrive/urbansound/spectrograms/9/49485-9-0-142.png\n"
          ]
        },
        {
          "output_type": "stream",
          "name": "stderr",
          "text": [
            "6602it [01:18, 87.21it/s]"
          ]
        },
        {
          "output_type": "stream",
          "name": "stdout",
          "text": [
            "/content/drive/MyDrive/urbansound/spectrograms/9/49485-9-0-154.png\n",
            "/content/drive/MyDrive/urbansound/spectrograms/9/49485-9-0-24.png\n",
            "/content/drive/MyDrive/urbansound/spectrograms/9/49485-9-0-28.png\n",
            "/content/drive/MyDrive/urbansound/spectrograms/9/49485-9-0-91.png\n",
            "/content/drive/MyDrive/urbansound/spectrograms/5/49769-5-0-0.png\n",
            "/content/drive/MyDrive/urbansound/spectrograms/5/49769-5-1-0.png\n",
            "/content/drive/MyDrive/urbansound/spectrograms/3/49808-3-0-6.png\n",
            "/content/drive/MyDrive/urbansound/spectrograms/3/49808-3-1-22.png\n",
            "/content/drive/MyDrive/urbansound/spectrograms/3/49808-3-1-8.png\n",
            "/content/drive/MyDrive/urbansound/spectrograms/3/49809-3-0-0.png\n",
            "/content/drive/MyDrive/urbansound/spectrograms/3/49809-3-3-0.png\n",
            "/content/drive/MyDrive/urbansound/spectrograms/3/49809-3-4-0.png\n",
            "/content/drive/MyDrive/urbansound/spectrograms/1/49974-1-0-0.png\n",
            "/content/drive/MyDrive/urbansound/spectrograms/3/50223-3-0-1.png\n",
            "/content/drive/MyDrive/urbansound/spectrograms/3/50223-3-0-10.png\n",
            "/content/drive/MyDrive/urbansound/spectrograms/3/50223-3-0-3.png\n",
            "/content/drive/MyDrive/urbansound/spectrograms/3/50223-3-0-6.png\n",
            "/content/drive/MyDrive/urbansound/spectrograms/4/50413-4-0-0.png\n",
            "/content/drive/MyDrive/urbansound/spectrograms/4/50413-4-0-1.png\n"
          ]
        },
        {
          "output_type": "stream",
          "name": "stderr",
          "text": [
            "\r6611it [01:18, 81.11it/s]"
          ]
        },
        {
          "output_type": "stream",
          "name": "stdout",
          "text": [
            "/content/drive/MyDrive/urbansound/spectrograms/4/50413-4-0-2.png\n",
            "/content/drive/MyDrive/urbansound/spectrograms/4/50413-4-0-3.png\n",
            "/content/drive/MyDrive/urbansound/spectrograms/4/50414-4-0-0.png\n",
            "/content/drive/MyDrive/urbansound/spectrograms/4/50414-4-0-1.png\n",
            "/content/drive/MyDrive/urbansound/spectrograms/4/50415-4-0-0.png\n",
            "/content/drive/MyDrive/urbansound/spectrograms/4/50415-4-0-1.png\n",
            "/content/drive/MyDrive/urbansound/spectrograms/4/50416-4-0-0.png\n",
            "/content/drive/MyDrive/urbansound/spectrograms/4/50416-4-0-1.png\n",
            "/content/drive/MyDrive/urbansound/spectrograms/4/50416-4-0-2.png\n",
            "/content/drive/MyDrive/urbansound/spectrograms/5/50454-5-0-0.png\n",
            "/content/drive/MyDrive/urbansound/spectrograms/5/50455-5-0-0.png\n",
            "/content/drive/MyDrive/urbansound/spectrograms/3/50612-3-0-0.png\n",
            "/content/drive/MyDrive/urbansound/spectrograms/3/50613-3-0-0.png\n",
            "/content/drive/MyDrive/urbansound/spectrograms/3/50614-3-0-0.png\n",
            "/content/drive/MyDrive/urbansound/spectrograms/6/50618-6-0-0.png\n",
            "/content/drive/MyDrive/urbansound/spectrograms/4/50629-4-0-0.png\n",
            "/content/drive/MyDrive/urbansound/spectrograms/4/50629-4-0-1.png\n",
            "/content/drive/MyDrive/urbansound/spectrograms/4/50629-4-1-0.png\n"
          ]
        },
        {
          "output_type": "stream",
          "name": "stderr",
          "text": [
            "6631it [01:18, 84.57it/s]"
          ]
        },
        {
          "output_type": "stream",
          "name": "stdout",
          "text": [
            "/content/drive/MyDrive/urbansound/spectrograms/4/50629-4-1-1.png\n",
            "/content/drive/MyDrive/urbansound/spectrograms/4/50629-4-1-11.png\n",
            "/content/drive/MyDrive/urbansound/spectrograms/4/50629-4-1-13.png\n",
            "/content/drive/MyDrive/urbansound/spectrograms/4/50629-4-1-2.png\n",
            "/content/drive/MyDrive/urbansound/spectrograms/4/50629-4-1-3.png\n",
            "/content/drive/MyDrive/urbansound/spectrograms/4/50629-4-1-4.png\n",
            "/content/drive/MyDrive/urbansound/spectrograms/4/50629-4-1-8.png\n",
            "/content/drive/MyDrive/urbansound/spectrograms/4/50629-4-1-9.png\n",
            "/content/drive/MyDrive/urbansound/spectrograms/4/50629-4-2-0.png\n",
            "/content/drive/MyDrive/urbansound/spectrograms/4/50629-4-3-0.png\n",
            "/content/drive/MyDrive/urbansound/spectrograms/4/50629-4-4-0.png\n",
            "/content/drive/MyDrive/urbansound/spectrograms/4/50629-4-4-3.png\n",
            "/content/drive/MyDrive/urbansound/spectrograms/4/50629-4-4-8.png\n",
            "/content/drive/MyDrive/urbansound/spectrograms/4/50629-4-4-9.png\n",
            "/content/drive/MyDrive/urbansound/spectrograms/5/50661-5-0-0.png\n",
            "/content/drive/MyDrive/urbansound/spectrograms/5/50661-5-0-1.png\n",
            "/content/drive/MyDrive/urbansound/spectrograms/5/50661-5-0-2.png\n",
            "/content/drive/MyDrive/urbansound/spectrograms/5/50661-5-0-3.png\n"
          ]
        },
        {
          "output_type": "stream",
          "name": "stderr",
          "text": [
            "6649it [01:18, 84.24it/s]"
          ]
        },
        {
          "output_type": "stream",
          "name": "stdout",
          "text": [
            "/content/drive/MyDrive/urbansound/spectrograms/5/50661-5-0-4.png\n",
            "/content/drive/MyDrive/urbansound/spectrograms/5/50661-5-0-5.png\n",
            "/content/drive/MyDrive/urbansound/spectrograms/5/50668-5-0-0.png\n",
            "/content/drive/MyDrive/urbansound/spectrograms/5/50668-5-0-1.png\n",
            "/content/drive/MyDrive/urbansound/spectrograms/5/50668-5-0-2.png\n",
            "/content/drive/MyDrive/urbansound/spectrograms/5/50668-5-1-0.png\n",
            "/content/drive/MyDrive/urbansound/spectrograms/5/50668-5-2-0.png\n",
            "/content/drive/MyDrive/urbansound/spectrograms/5/50668-5-3-0.png\n",
            "/content/drive/MyDrive/urbansound/spectrograms/5/50668-5-4-0.png\n",
            "/content/drive/MyDrive/urbansound/spectrograms/5/50668-5-5-0.png\n",
            "/content/drive/MyDrive/urbansound/spectrograms/5/50668-5-5-1.png\n",
            "/content/drive/MyDrive/urbansound/spectrograms/5/50668-5-5-2.png\n",
            "/content/drive/MyDrive/urbansound/spectrograms/5/50668-5-6-0.png\n",
            "/content/drive/MyDrive/urbansound/spectrograms/5/50668-5-7-0.png\n",
            "/content/drive/MyDrive/urbansound/spectrograms/3/50885-3-0-2.png\n"
          ]
        },
        {
          "output_type": "stream",
          "name": "stderr",
          "text": [
            "6668it [01:18, 83.52it/s]"
          ]
        },
        {
          "output_type": "stream",
          "name": "stdout",
          "text": [
            "/content/drive/MyDrive/urbansound/spectrograms/3/50885-3-0-3.png\n",
            "/content/drive/MyDrive/urbansound/spectrograms/3/50885-3-0-4.png\n",
            "/content/drive/MyDrive/urbansound/spectrograms/3/50885-3-0-5.png\n",
            "/content/drive/MyDrive/urbansound/spectrograms/5/50898-5-0-0.png\n",
            "/content/drive/MyDrive/urbansound/spectrograms/0/50901-0-0-0.png\n",
            "/content/drive/MyDrive/urbansound/spectrograms/0/50901-0-1-0.png\n",
            "/content/drive/MyDrive/urbansound/spectrograms/0/50901-0-1-1.png\n",
            "/content/drive/MyDrive/urbansound/spectrograms/3/51022-3-13-0.png\n",
            "/content/drive/MyDrive/urbansound/spectrograms/3/51022-3-29-0.png\n",
            "/content/drive/MyDrive/urbansound/spectrograms/3/51022-3-30-4.png\n",
            "/content/drive/MyDrive/urbansound/spectrograms/3/51022-3-7-0.png\n",
            "/content/drive/MyDrive/urbansound/spectrograms/3/51024-3-0-16.png\n",
            "/content/drive/MyDrive/urbansound/spectrograms/3/51024-3-0-2.png\n",
            "/content/drive/MyDrive/urbansound/spectrograms/3/51024-3-0-23.png\n",
            "/content/drive/MyDrive/urbansound/spectrograms/3/51024-3-0-3.png\n",
            "/content/drive/MyDrive/urbansound/spectrograms/3/51027-3-0-7.png\n",
            "/content/drive/MyDrive/urbansound/spectrograms/3/51027-3-0-9.png\n",
            "/content/drive/MyDrive/urbansound/spectrograms/3/51027-3-1-1.png\n",
            "/content/drive/MyDrive/urbansound/spectrograms/3/51027-3-1-4.png\n"
          ]
        },
        {
          "output_type": "stream",
          "name": "stderr",
          "text": [
            "6687it [01:19, 86.73it/s]"
          ]
        },
        {
          "output_type": "stream",
          "name": "stdout",
          "text": [
            "/content/drive/MyDrive/urbansound/spectrograms/4/518-4-0-0.png\n",
            "/content/drive/MyDrive/urbansound/spectrograms/4/518-4-0-1.png\n",
            "/content/drive/MyDrive/urbansound/spectrograms/4/518-4-0-2.png\n",
            "/content/drive/MyDrive/urbansound/spectrograms/4/518-4-0-3.png\n",
            "/content/drive/MyDrive/urbansound/spectrograms/3/52077-3-0-13.png\n",
            "/content/drive/MyDrive/urbansound/spectrograms/3/52077-3-0-17.png\n",
            "/content/drive/MyDrive/urbansound/spectrograms/3/52077-3-0-3.png\n",
            "/content/drive/MyDrive/urbansound/spectrograms/3/52077-3-0-8.png\n",
            "/content/drive/MyDrive/urbansound/spectrograms/1/52102-1-0-0.png\n",
            "/content/drive/MyDrive/urbansound/spectrograms/3/52171-3-2-0.png\n",
            "/content/drive/MyDrive/urbansound/spectrograms/3/52171-3-3-0.png\n",
            "/content/drive/MyDrive/urbansound/spectrograms/3/52171-3-6-0.png\n",
            "/content/drive/MyDrive/urbansound/spectrograms/3/52171-3-6-1.png\n",
            "/content/drive/MyDrive/urbansound/spectrograms/6/52284-6-0-0.png\n",
            "/content/drive/MyDrive/urbansound/spectrograms/6/52357-6-0-0.png\n",
            "/content/drive/MyDrive/urbansound/spectrograms/9/52411-9-0-4.png\n",
            "/content/drive/MyDrive/urbansound/spectrograms/9/52411-9-0-52.png\n",
            "/content/drive/MyDrive/urbansound/spectrograms/9/52411-9-0-6.png\n",
            "/content/drive/MyDrive/urbansound/spectrograms/9/52411-9-0-64.png\n"
          ]
        },
        {
          "output_type": "stream",
          "name": "stderr",
          "text": [
            "6707it [01:19, 88.99it/s]"
          ]
        },
        {
          "output_type": "stream",
          "name": "stdout",
          "text": [
            "/content/drive/MyDrive/urbansound/spectrograms/9/52411-9-0-66.png\n",
            "/content/drive/MyDrive/urbansound/spectrograms/9/52411-9-0-79.png\n",
            "/content/drive/MyDrive/urbansound/spectrograms/3/52441-3-0-0.png\n",
            "/content/drive/MyDrive/urbansound/spectrograms/3/52441-3-0-13.png\n",
            "/content/drive/MyDrive/urbansound/spectrograms/3/52441-3-0-8.png\n",
            "/content/drive/MyDrive/urbansound/spectrograms/3/52441-3-1-2.png\n",
            "/content/drive/MyDrive/urbansound/spectrograms/3/52633-3-0-1.png\n",
            "/content/drive/MyDrive/urbansound/spectrograms/3/52633-3-0-2.png\n",
            "/content/drive/MyDrive/urbansound/spectrograms/3/52633-3-0-8.png\n",
            "/content/drive/MyDrive/urbansound/spectrograms/3/52633-3-0-9.png\n",
            "/content/drive/MyDrive/urbansound/spectrograms/3/52740-3-0-0.png\n",
            "/content/drive/MyDrive/urbansound/spectrograms/3/52740-3-0-1.png\n",
            "/content/drive/MyDrive/urbansound/spectrograms/3/52740-3-0-2.png\n",
            "/content/drive/MyDrive/urbansound/spectrograms/3/52740-3-0-3.png\n",
            "/content/drive/MyDrive/urbansound/spectrograms/2/52882-2-0-0.png\n",
            "/content/drive/MyDrive/urbansound/spectrograms/2/52882-2-0-11.png\n",
            "/content/drive/MyDrive/urbansound/spectrograms/2/52882-2-0-3.png\n",
            "/content/drive/MyDrive/urbansound/spectrograms/2/52882-2-0-4.png\n"
          ]
        },
        {
          "output_type": "stream",
          "name": "stderr",
          "text": [
            "6726it [01:19, 87.77it/s]"
          ]
        },
        {
          "output_type": "stream",
          "name": "stdout",
          "text": [
            "/content/drive/MyDrive/urbansound/spectrograms/2/52882-2-0-6.png\n",
            "/content/drive/MyDrive/urbansound/spectrograms/2/52882-2-0-7.png\n",
            "/content/drive/MyDrive/urbansound/spectrograms/2/52882-2-0-8.png\n",
            "/content/drive/MyDrive/urbansound/spectrograms/2/54067-2-0-23.png\n",
            "/content/drive/MyDrive/urbansound/spectrograms/2/54067-2-0-33.png\n",
            "/content/drive/MyDrive/urbansound/spectrograms/2/54067-2-0-48.png\n",
            "/content/drive/MyDrive/urbansound/spectrograms/2/54067-2-0-60.png\n",
            "/content/drive/MyDrive/urbansound/spectrograms/2/54067-2-0-70.png\n",
            "/content/drive/MyDrive/urbansound/spectrograms/2/54067-2-0-71.png\n",
            "/content/drive/MyDrive/urbansound/spectrograms/2/54067-2-0-80.png\n",
            "/content/drive/MyDrive/urbansound/spectrograms/9/54081-9-0-24.png\n",
            "/content/drive/MyDrive/urbansound/spectrograms/9/54081-9-0-47.png\n",
            "/content/drive/MyDrive/urbansound/spectrograms/9/54081-9-0-56.png\n",
            "/content/drive/MyDrive/urbansound/spectrograms/9/54081-9-0-87.png\n",
            "/content/drive/MyDrive/urbansound/spectrograms/9/54081-9-0-93.png\n",
            "/content/drive/MyDrive/urbansound/spectrograms/1/54086-1-0-0.png\n",
            "/content/drive/MyDrive/urbansound/spectrograms/1/54086-1-1-0.png\n",
            "/content/drive/MyDrive/urbansound/spectrograms/1/54086-1-2-0.png\n"
          ]
        },
        {
          "output_type": "stream",
          "name": "stderr",
          "text": [
            "6745it [01:19, 87.96it/s]"
          ]
        },
        {
          "output_type": "stream",
          "name": "stdout",
          "text": [
            "/content/drive/MyDrive/urbansound/spectrograms/2/54173-2-0-18.png\n",
            "/content/drive/MyDrive/urbansound/spectrograms/2/54173-2-0-2.png\n",
            "/content/drive/MyDrive/urbansound/spectrograms/2/54173-2-0-21.png\n",
            "/content/drive/MyDrive/urbansound/spectrograms/2/54173-2-0-26.png\n",
            "/content/drive/MyDrive/urbansound/spectrograms/2/54173-2-0-28.png\n",
            "/content/drive/MyDrive/urbansound/spectrograms/2/54173-2-0-4.png\n",
            "/content/drive/MyDrive/urbansound/spectrograms/2/54173-2-0-5.png\n",
            "/content/drive/MyDrive/urbansound/spectrograms/2/54173-2-0-9.png\n",
            "/content/drive/MyDrive/urbansound/spectrograms/1/54187-1-0-0.png\n",
            "/content/drive/MyDrive/urbansound/spectrograms/1/54187-1-0-1.png\n",
            "/content/drive/MyDrive/urbansound/spectrograms/1/54187-1-0-2.png\n",
            "/content/drive/MyDrive/urbansound/spectrograms/1/54187-1-0-3.png\n",
            "/content/drive/MyDrive/urbansound/spectrograms/1/54187-1-0-4.png\n",
            "/content/drive/MyDrive/urbansound/spectrograms/0/54383-0-0-0.png\n",
            "/content/drive/MyDrive/urbansound/spectrograms/0/54383-0-0-1.png\n",
            "/content/drive/MyDrive/urbansound/spectrograms/0/54383-0-0-10.png\n",
            "/content/drive/MyDrive/urbansound/spectrograms/0/54383-0-0-11.png\n",
            "/content/drive/MyDrive/urbansound/spectrograms/0/54383-0-0-2.png\n"
          ]
        },
        {
          "output_type": "stream",
          "name": "stderr",
          "text": [
            "6763it [01:20, 85.31it/s]"
          ]
        },
        {
          "output_type": "stream",
          "name": "stdout",
          "text": [
            "/content/drive/MyDrive/urbansound/spectrograms/0/54383-0-0-3.png\n",
            "/content/drive/MyDrive/urbansound/spectrograms/0/54383-0-0-4.png\n",
            "/content/drive/MyDrive/urbansound/spectrograms/0/54383-0-0-5.png\n",
            "/content/drive/MyDrive/urbansound/spectrograms/0/54383-0-0-6.png\n",
            "/content/drive/MyDrive/urbansound/spectrograms/0/54383-0-0-7.png\n",
            "/content/drive/MyDrive/urbansound/spectrograms/0/54383-0-0-8.png\n",
            "/content/drive/MyDrive/urbansound/spectrograms/0/54383-0-0-9.png\n",
            "/content/drive/MyDrive/urbansound/spectrograms/3/54545-3-0-0.png\n",
            "/content/drive/MyDrive/urbansound/spectrograms/3/54545-3-0-1.png\n",
            "/content/drive/MyDrive/urbansound/spectrograms/3/54545-3-0-2.png\n",
            "/content/drive/MyDrive/urbansound/spectrograms/7/54697-7-0-0.png\n",
            "/content/drive/MyDrive/urbansound/spectrograms/7/54697-7-0-1.png\n",
            "/content/drive/MyDrive/urbansound/spectrograms/7/54697-7-0-2.png\n",
            "/content/drive/MyDrive/urbansound/spectrograms/7/54697-7-0-3.png\n",
            "/content/drive/MyDrive/urbansound/spectrograms/7/54697-7-0-4.png\n",
            "/content/drive/MyDrive/urbansound/spectrograms/3/54823-3-0-0.png\n",
            "/content/drive/MyDrive/urbansound/spectrograms/3/54823-3-1-0.png\n",
            "/content/drive/MyDrive/urbansound/spectrograms/3/54823-3-2-1.png\n"
          ]
        },
        {
          "output_type": "stream",
          "name": "stderr",
          "text": [
            "6781it [01:20, 83.06it/s]"
          ]
        },
        {
          "output_type": "stream",
          "name": "stdout",
          "text": [
            "/content/drive/MyDrive/urbansound/spectrograms/3/54858-3-0-0.png\n",
            "/content/drive/MyDrive/urbansound/spectrograms/3/54858-3-1-2.png\n",
            "/content/drive/MyDrive/urbansound/spectrograms/3/54858-3-2-0.png\n",
            "/content/drive/MyDrive/urbansound/spectrograms/8/54898-8-0-0.png\n",
            "/content/drive/MyDrive/urbansound/spectrograms/8/54898-8-0-1.png\n",
            "/content/drive/MyDrive/urbansound/spectrograms/8/54898-8-0-10.png\n",
            "/content/drive/MyDrive/urbansound/spectrograms/8/54898-8-0-2.png\n",
            "/content/drive/MyDrive/urbansound/spectrograms/8/54898-8-0-3.png\n",
            "/content/drive/MyDrive/urbansound/spectrograms/8/54898-8-0-4.png\n",
            "/content/drive/MyDrive/urbansound/spectrograms/8/54898-8-0-5.png\n",
            "/content/drive/MyDrive/urbansound/spectrograms/8/54898-8-0-6.png\n",
            "/content/drive/MyDrive/urbansound/spectrograms/8/54898-8-0-7.png\n",
            "/content/drive/MyDrive/urbansound/spectrograms/8/54898-8-0-8.png\n",
            "/content/drive/MyDrive/urbansound/spectrograms/8/54898-8-0-9.png\n",
            "/content/drive/MyDrive/urbansound/spectrograms/2/54914-2-0-23.png\n",
            "/content/drive/MyDrive/urbansound/spectrograms/2/54914-2-0-26.png\n",
            "/content/drive/MyDrive/urbansound/spectrograms/2/54914-2-0-27.png\n",
            "/content/drive/MyDrive/urbansound/spectrograms/2/54914-2-0-3.png\n"
          ]
        },
        {
          "output_type": "stream",
          "name": "stderr",
          "text": [
            "\r6790it [01:20, 83.42it/s]"
          ]
        },
        {
          "output_type": "stream",
          "name": "stdout",
          "text": [
            "/content/drive/MyDrive/urbansound/spectrograms/2/54914-2-0-34.png\n",
            "/content/drive/MyDrive/urbansound/spectrograms/2/54914-2-0-35.png\n",
            "/content/drive/MyDrive/urbansound/spectrograms/2/54914-2-0-48.png\n",
            "/content/drive/MyDrive/urbansound/spectrograms/4/54976-4-0-0.png\n",
            "/content/drive/MyDrive/urbansound/spectrograms/4/54976-4-0-1.png\n",
            "/content/drive/MyDrive/urbansound/spectrograms/4/54976-4-0-2.png\n",
            "/content/drive/MyDrive/urbansound/spectrograms/4/54976-4-0-3.png\n",
            "/content/drive/MyDrive/urbansound/spectrograms/4/54976-4-0-4.png\n",
            "/content/drive/MyDrive/urbansound/spectrograms/4/54976-4-0-5.png\n",
            "/content/drive/MyDrive/urbansound/spectrograms/4/54976-4-0-6.png\n",
            "/content/drive/MyDrive/urbansound/spectrograms/4/54976-4-0-7.png\n",
            "/content/drive/MyDrive/urbansound/spectrograms/4/54976-4-0-8.png\n",
            "/content/drive/MyDrive/urbansound/spectrograms/4/54976-4-0-9.png\n",
            "/content/drive/MyDrive/urbansound/spectrograms/4/54976-4-1-0.png\n",
            "/content/drive/MyDrive/urbansound/spectrograms/4/54976-4-1-1.png\n",
            "/content/drive/MyDrive/urbansound/spectrograms/4/54976-4-1-2.png\n",
            "/content/drive/MyDrive/urbansound/spectrograms/4/54976-4-1-3.png\n"
          ]
        },
        {
          "output_type": "stream",
          "name": "stderr",
          "text": [
            "6809it [01:20, 83.46it/s]"
          ]
        },
        {
          "output_type": "stream",
          "name": "stdout",
          "text": [
            "/content/drive/MyDrive/urbansound/spectrograms/3/55013-3-0-1.png\n",
            "/content/drive/MyDrive/urbansound/spectrograms/3/55013-3-0-3.png\n",
            "/content/drive/MyDrive/urbansound/spectrograms/3/55013-3-0-4.png\n",
            "/content/drive/MyDrive/urbansound/spectrograms/3/55013-3-0-7.png\n",
            "/content/drive/MyDrive/urbansound/spectrograms/0/55018-0-0-102.png\n",
            "/content/drive/MyDrive/urbansound/spectrograms/0/55018-0-0-106.png\n",
            "/content/drive/MyDrive/urbansound/spectrograms/0/55018-0-0-110.png\n",
            "/content/drive/MyDrive/urbansound/spectrograms/0/55018-0-0-116.png\n",
            "/content/drive/MyDrive/urbansound/spectrograms/0/55018-0-0-121.png\n",
            "/content/drive/MyDrive/urbansound/spectrograms/0/55018-0-0-145.png\n",
            "/content/drive/MyDrive/urbansound/spectrograms/0/55018-0-0-146.png\n",
            "/content/drive/MyDrive/urbansound/spectrograms/0/55018-0-0-148.png\n",
            "/content/drive/MyDrive/urbansound/spectrograms/0/55018-0-0-162.png\n",
            "/content/drive/MyDrive/urbansound/spectrograms/0/55018-0-0-194.png\n",
            "/content/drive/MyDrive/urbansound/spectrograms/0/55018-0-0-2.png\n",
            "/content/drive/MyDrive/urbansound/spectrograms/0/55018-0-0-209.png\n",
            "/content/drive/MyDrive/urbansound/spectrograms/0/55018-0-0-246.png\n",
            "/content/drive/MyDrive/urbansound/spectrograms/0/55018-0-0-248.png\n",
            "/content/drive/MyDrive/urbansound/spectrograms/0/55018-0-0-26.png\n"
          ]
        },
        {
          "output_type": "stream",
          "name": "stderr",
          "text": [
            "6827it [01:20, 83.41it/s]"
          ]
        },
        {
          "output_type": "stream",
          "name": "stdout",
          "text": [
            "/content/drive/MyDrive/urbansound/spectrograms/0/55018-0-0-37.png\n",
            "/content/drive/MyDrive/urbansound/spectrograms/0/55018-0-0-44.png\n",
            "/content/drive/MyDrive/urbansound/spectrograms/0/55018-0-0-49.png\n",
            "/content/drive/MyDrive/urbansound/spectrograms/0/55018-0-0-8.png\n",
            "/content/drive/MyDrive/urbansound/spectrograms/0/55018-0-0-84.png\n",
            "/content/drive/MyDrive/urbansound/spectrograms/0/55018-0-0-87.png\n",
            "/content/drive/MyDrive/urbansound/spectrograms/0/55018-0-0-92.png\n",
            "/content/drive/MyDrive/urbansound/spectrograms/0/55018-0-0-93.png\n",
            "/content/drive/MyDrive/urbansound/spectrograms/4/55020-4-0-0.png\n",
            "/content/drive/MyDrive/urbansound/spectrograms/4/55020-4-0-1.png\n",
            "/content/drive/MyDrive/urbansound/spectrograms/4/55020-4-0-10.png\n",
            "/content/drive/MyDrive/urbansound/spectrograms/4/55020-4-0-11.png\n",
            "/content/drive/MyDrive/urbansound/spectrograms/4/55020-4-0-12.png\n",
            "/content/drive/MyDrive/urbansound/spectrograms/4/55020-4-0-13.png\n",
            "/content/drive/MyDrive/urbansound/spectrograms/4/55020-4-0-14.png\n",
            "/content/drive/MyDrive/urbansound/spectrograms/4/55020-4-0-2.png\n",
            "/content/drive/MyDrive/urbansound/spectrograms/4/55020-4-0-3.png\n",
            "/content/drive/MyDrive/urbansound/spectrograms/4/55020-4-0-4.png\n"
          ]
        },
        {
          "output_type": "stream",
          "name": "stderr",
          "text": [
            "6845it [01:21, 84.87it/s]"
          ]
        },
        {
          "output_type": "stream",
          "name": "stdout",
          "text": [
            "/content/drive/MyDrive/urbansound/spectrograms/4/55020-4-0-5.png\n",
            "/content/drive/MyDrive/urbansound/spectrograms/4/55020-4-0-6.png\n",
            "/content/drive/MyDrive/urbansound/spectrograms/4/55020-4-0-7.png\n",
            "/content/drive/MyDrive/urbansound/spectrograms/4/55020-4-0-8.png\n",
            "/content/drive/MyDrive/urbansound/spectrograms/4/55020-4-0-9.png\n",
            "/content/drive/MyDrive/urbansound/spectrograms/9/55728-9-0-14.png\n",
            "/content/drive/MyDrive/urbansound/spectrograms/9/55728-9-0-28.png\n",
            "/content/drive/MyDrive/urbansound/spectrograms/9/55728-9-0-30.png\n",
            "/content/drive/MyDrive/urbansound/spectrograms/9/55728-9-0-34.png\n",
            "/content/drive/MyDrive/urbansound/spectrograms/9/55728-9-0-67.png\n",
            "/content/drive/MyDrive/urbansound/spectrograms/9/55728-9-0-8.png\n",
            "/content/drive/MyDrive/urbansound/spectrograms/0/56385-0-0-0.png\n",
            "/content/drive/MyDrive/urbansound/spectrograms/0/56385-0-0-1.png\n",
            "/content/drive/MyDrive/urbansound/spectrograms/0/56385-0-0-2.png\n",
            "/content/drive/MyDrive/urbansound/spectrograms/3/57105-3-0-1.png\n",
            "/content/drive/MyDrive/urbansound/spectrograms/3/57105-3-1-0.png\n",
            "/content/drive/MyDrive/urbansound/spectrograms/3/57105-3-4-2.png\n",
            "/content/drive/MyDrive/urbansound/spectrograms/3/57105-3-4-4.png\n",
            "/content/drive/MyDrive/urbansound/spectrograms/0/57320-0-0-0.png\n"
          ]
        },
        {
          "output_type": "stream",
          "name": "stderr",
          "text": [
            "6865it [01:21, 88.18it/s]"
          ]
        },
        {
          "output_type": "stream",
          "name": "stdout",
          "text": [
            "/content/drive/MyDrive/urbansound/spectrograms/0/57320-0-0-10.png\n",
            "/content/drive/MyDrive/urbansound/spectrograms/0/57320-0-0-11.png\n",
            "/content/drive/MyDrive/urbansound/spectrograms/0/57320-0-0-13.png\n",
            "/content/drive/MyDrive/urbansound/spectrograms/0/57320-0-0-15.png\n",
            "/content/drive/MyDrive/urbansound/spectrograms/0/57320-0-0-21.png\n",
            "/content/drive/MyDrive/urbansound/spectrograms/0/57320-0-0-22.png\n",
            "/content/drive/MyDrive/urbansound/spectrograms/0/57320-0-0-24.png\n",
            "/content/drive/MyDrive/urbansound/spectrograms/0/57320-0-0-27.png\n",
            "/content/drive/MyDrive/urbansound/spectrograms/0/57320-0-0-31.png\n",
            "/content/drive/MyDrive/urbansound/spectrograms/0/57320-0-0-32.png\n",
            "/content/drive/MyDrive/urbansound/spectrograms/0/57320-0-0-33.png\n",
            "/content/drive/MyDrive/urbansound/spectrograms/0/57320-0-0-34.png\n",
            "/content/drive/MyDrive/urbansound/spectrograms/0/57320-0-0-36.png\n",
            "/content/drive/MyDrive/urbansound/spectrograms/0/57320-0-0-37.png\n",
            "/content/drive/MyDrive/urbansound/spectrograms/0/57320-0-0-38.png\n",
            "/content/drive/MyDrive/urbansound/spectrograms/0/57320-0-0-39.png\n",
            "/content/drive/MyDrive/urbansound/spectrograms/0/57320-0-0-4.png\n",
            "/content/drive/MyDrive/urbansound/spectrograms/0/57320-0-0-42.png\n",
            "/content/drive/MyDrive/urbansound/spectrograms/0/57320-0-0-45.png\n"
          ]
        },
        {
          "output_type": "stream",
          "name": "stderr",
          "text": [
            "6883it [01:21, 83.23it/s]"
          ]
        },
        {
          "output_type": "stream",
          "name": "stdout",
          "text": [
            "/content/drive/MyDrive/urbansound/spectrograms/0/57320-0-0-5.png\n",
            "/content/drive/MyDrive/urbansound/spectrograms/0/57320-0-0-6.png\n",
            "/content/drive/MyDrive/urbansound/spectrograms/0/57320-0-0-7.png\n",
            "/content/drive/MyDrive/urbansound/spectrograms/0/57320-0-0-9.png\n",
            "/content/drive/MyDrive/urbansound/spectrograms/8/57323-8-0-0.png\n",
            "/content/drive/MyDrive/urbansound/spectrograms/8/57323-8-0-1.png\n",
            "/content/drive/MyDrive/urbansound/spectrograms/8/57323-8-0-10.png\n",
            "/content/drive/MyDrive/urbansound/spectrograms/8/57323-8-0-11.png\n",
            "/content/drive/MyDrive/urbansound/spectrograms/8/57323-8-0-2.png\n",
            "/content/drive/MyDrive/urbansound/spectrograms/8/57323-8-0-3.png\n",
            "/content/drive/MyDrive/urbansound/spectrograms/8/57323-8-0-4.png\n",
            "/content/drive/MyDrive/urbansound/spectrograms/8/57323-8-0-5.png\n",
            "/content/drive/MyDrive/urbansound/spectrograms/8/57323-8-0-6.png\n",
            "/content/drive/MyDrive/urbansound/spectrograms/8/57323-8-0-7.png\n",
            "/content/drive/MyDrive/urbansound/spectrograms/8/57323-8-0-8.png\n",
            "/content/drive/MyDrive/urbansound/spectrograms/8/57323-8-0-9.png\n",
            "/content/drive/MyDrive/urbansound/spectrograms/8/57323-8-2-0.png\n"
          ]
        },
        {
          "output_type": "stream",
          "name": "stderr",
          "text": [
            "6901it [01:21, 81.21it/s]"
          ]
        },
        {
          "output_type": "stream",
          "name": "stdout",
          "text": [
            "/content/drive/MyDrive/urbansound/spectrograms/3/57553-3-0-0.png\n",
            "/content/drive/MyDrive/urbansound/spectrograms/3/57553-3-1-0.png\n",
            "/content/drive/MyDrive/urbansound/spectrograms/3/57553-3-2-0.png\n",
            "/content/drive/MyDrive/urbansound/spectrograms/4/57584-4-0-0.png\n",
            "/content/drive/MyDrive/urbansound/spectrograms/4/57584-4-0-1.png\n",
            "/content/drive/MyDrive/urbansound/spectrograms/4/57584-4-0-2.png\n",
            "/content/drive/MyDrive/urbansound/spectrograms/4/57584-4-0-3.png\n",
            "/content/drive/MyDrive/urbansound/spectrograms/4/57584-4-0-4.png\n",
            "/content/drive/MyDrive/urbansound/spectrograms/4/57584-4-0-5.png\n",
            "/content/drive/MyDrive/urbansound/spectrograms/4/57584-4-0-6.png\n",
            "/content/drive/MyDrive/urbansound/spectrograms/4/57584-4-0-7.png\n",
            "/content/drive/MyDrive/urbansound/spectrograms/4/57584-4-0-8.png\n",
            "/content/drive/MyDrive/urbansound/spectrograms/3/57596-3-0-0.png\n",
            "/content/drive/MyDrive/urbansound/spectrograms/3/57596-3-1-0.png\n",
            "/content/drive/MyDrive/urbansound/spectrograms/1/57607-1-0-0.png\n",
            "/content/drive/MyDrive/urbansound/spectrograms/4/57696-4-0-0.png\n"
          ]
        },
        {
          "output_type": "stream",
          "name": "stderr",
          "text": [
            "6919it [01:21, 79.92it/s]"
          ]
        },
        {
          "output_type": "stream",
          "name": "stdout",
          "text": [
            "/content/drive/MyDrive/urbansound/spectrograms/4/57696-4-0-1.png\n",
            "/content/drive/MyDrive/urbansound/spectrograms/4/57696-4-0-2.png\n",
            "/content/drive/MyDrive/urbansound/spectrograms/4/57696-4-0-3.png\n",
            "/content/drive/MyDrive/urbansound/spectrograms/4/57696-4-0-4.png\n",
            "/content/drive/MyDrive/urbansound/spectrograms/4/57696-4-0-5.png\n",
            "/content/drive/MyDrive/urbansound/spectrograms/4/58005-4-0-13.png\n",
            "/content/drive/MyDrive/urbansound/spectrograms/4/58005-4-0-17.png\n",
            "/content/drive/MyDrive/urbansound/spectrograms/4/58005-4-0-23.png\n",
            "/content/drive/MyDrive/urbansound/spectrograms/4/58005-4-0-24.png\n",
            "/content/drive/MyDrive/urbansound/spectrograms/4/58005-4-0-26.png\n",
            "/content/drive/MyDrive/urbansound/spectrograms/4/58005-4-0-30.png\n",
            "/content/drive/MyDrive/urbansound/spectrograms/4/58005-4-0-32.png\n",
            "/content/drive/MyDrive/urbansound/spectrograms/4/58005-4-0-34.png\n",
            "/content/drive/MyDrive/urbansound/spectrograms/4/58005-4-0-40.png\n",
            "/content/drive/MyDrive/urbansound/spectrograms/4/58005-4-0-41.png\n",
            "/content/drive/MyDrive/urbansound/spectrograms/4/58005-4-0-44.png\n"
          ]
        },
        {
          "output_type": "stream",
          "name": "stderr",
          "text": [
            "6937it [01:22, 80.87it/s]"
          ]
        },
        {
          "output_type": "stream",
          "name": "stdout",
          "text": [
            "/content/drive/MyDrive/urbansound/spectrograms/4/58005-4-0-45.png\n",
            "/content/drive/MyDrive/urbansound/spectrograms/4/58005-4-0-51.png\n",
            "/content/drive/MyDrive/urbansound/spectrograms/4/58005-4-0-55.png\n",
            "/content/drive/MyDrive/urbansound/spectrograms/4/58005-4-0-63.png\n",
            "/content/drive/MyDrive/urbansound/spectrograms/4/58005-4-0-68.png\n",
            "/content/drive/MyDrive/urbansound/spectrograms/4/58005-4-0-70.png\n",
            "/content/drive/MyDrive/urbansound/spectrograms/4/58005-4-0-76.png\n",
            "/content/drive/MyDrive/urbansound/spectrograms/1/58202-1-0-0.png\n",
            "/content/drive/MyDrive/urbansound/spectrograms/3/58382-3-0-0.png\n",
            "/content/drive/MyDrive/urbansound/spectrograms/0/58806-0-0-0.png\n",
            "/content/drive/MyDrive/urbansound/spectrograms/2/58857-2-0-10.png\n",
            "/content/drive/MyDrive/urbansound/spectrograms/2/58857-2-0-12.png\n",
            "/content/drive/MyDrive/urbansound/spectrograms/2/58857-2-0-13.png\n",
            "/content/drive/MyDrive/urbansound/spectrograms/2/58857-2-0-14.png\n",
            "/content/drive/MyDrive/urbansound/spectrograms/2/58857-2-0-16.png\n",
            "/content/drive/MyDrive/urbansound/spectrograms/2/58857-2-0-25.png\n",
            "/content/drive/MyDrive/urbansound/spectrograms/2/58857-2-0-7.png\n"
          ]
        },
        {
          "output_type": "stream",
          "name": "stderr",
          "text": [
            "6954it [01:22, 77.97it/s]"
          ]
        },
        {
          "output_type": "stream",
          "name": "stdout",
          "text": [
            "/content/drive/MyDrive/urbansound/spectrograms/2/58857-2-0-8.png\n",
            "/content/drive/MyDrive/urbansound/spectrograms/4/58937-4-0-0.png\n",
            "/content/drive/MyDrive/urbansound/spectrograms/4/58937-4-0-12.png\n",
            "/content/drive/MyDrive/urbansound/spectrograms/4/58937-4-0-13.png\n",
            "/content/drive/MyDrive/urbansound/spectrograms/4/58937-4-0-2.png\n",
            "/content/drive/MyDrive/urbansound/spectrograms/4/58937-4-0-4.png\n",
            "/content/drive/MyDrive/urbansound/spectrograms/4/58937-4-0-7.png\n",
            "/content/drive/MyDrive/urbansound/spectrograms/4/58937-4-1-0.png\n",
            "/content/drive/MyDrive/urbansound/spectrograms/4/58937-4-1-1.png\n",
            "/content/drive/MyDrive/urbansound/spectrograms/4/58937-4-2-10.png\n",
            "/content/drive/MyDrive/urbansound/spectrograms/4/58937-4-2-2.png\n",
            "/content/drive/MyDrive/urbansound/spectrograms/4/58937-4-2-9.png\n",
            "/content/drive/MyDrive/urbansound/spectrograms/4/58937-4-3-6.png\n",
            "/content/drive/MyDrive/urbansound/spectrograms/4/58937-4-3-9.png\n",
            "/content/drive/MyDrive/urbansound/spectrograms/4/58937-4-4-1.png\n",
            "/content/drive/MyDrive/urbansound/spectrograms/4/58937-4-5-2.png\n"
          ]
        },
        {
          "output_type": "stream",
          "name": "stderr",
          "text": [
            "6972it [01:22, 82.39it/s]"
          ]
        },
        {
          "output_type": "stream",
          "name": "stdout",
          "text": [
            "/content/drive/MyDrive/urbansound/spectrograms/4/58937-4-5-4.png\n",
            "/content/drive/MyDrive/urbansound/spectrograms/2/59037-2-0-6.png\n",
            "/content/drive/MyDrive/urbansound/spectrograms/2/59037-2-1-2.png\n",
            "/content/drive/MyDrive/urbansound/spectrograms/2/59037-2-1-3.png\n",
            "/content/drive/MyDrive/urbansound/spectrograms/2/59037-2-2-0.png\n",
            "/content/drive/MyDrive/urbansound/spectrograms/2/59037-2-3-0.png\n",
            "/content/drive/MyDrive/urbansound/spectrograms/2/59037-2-4-3.png\n",
            "/content/drive/MyDrive/urbansound/spectrograms/2/59037-2-4-5.png\n",
            "/content/drive/MyDrive/urbansound/spectrograms/2/59037-2-4-8.png\n",
            "/content/drive/MyDrive/urbansound/spectrograms/0/59277-0-0-0.png\n",
            "/content/drive/MyDrive/urbansound/spectrograms/0/59277-0-0-1.png\n",
            "/content/drive/MyDrive/urbansound/spectrograms/0/59277-0-0-2.png\n",
            "/content/drive/MyDrive/urbansound/spectrograms/0/59277-0-0-3.png\n",
            "/content/drive/MyDrive/urbansound/spectrograms/0/59277-0-0-4.png\n",
            "/content/drive/MyDrive/urbansound/spectrograms/0/59277-0-0-5.png\n",
            "/content/drive/MyDrive/urbansound/spectrograms/0/59277-0-0-6.png\n",
            "/content/drive/MyDrive/urbansound/spectrograms/0/59277-0-0-7.png\n"
          ]
        },
        {
          "output_type": "stream",
          "name": "stderr",
          "text": [
            "6990it [01:22, 84.63it/s]"
          ]
        },
        {
          "output_type": "stream",
          "name": "stdout",
          "text": [
            "/content/drive/MyDrive/urbansound/spectrograms/3/59513-3-0-0.png\n",
            "/content/drive/MyDrive/urbansound/spectrograms/3/59513-3-0-1.png\n",
            "/content/drive/MyDrive/urbansound/spectrograms/3/59513-3-0-3.png\n",
            "/content/drive/MyDrive/urbansound/spectrograms/3/59513-3-0-4.png\n",
            "/content/drive/MyDrive/urbansound/spectrograms/4/59594-4-0-0.png\n",
            "/content/drive/MyDrive/urbansound/spectrograms/4/59594-4-0-1.png\n",
            "/content/drive/MyDrive/urbansound/spectrograms/4/59594-4-0-2.png\n",
            "/content/drive/MyDrive/urbansound/spectrograms/4/59594-4-0-3.png\n",
            "/content/drive/MyDrive/urbansound/spectrograms/4/59594-4-0-4.png\n",
            "/content/drive/MyDrive/urbansound/spectrograms/4/59595-4-0-0.png\n",
            "/content/drive/MyDrive/urbansound/spectrograms/4/59595-4-0-1.png\n",
            "/content/drive/MyDrive/urbansound/spectrograms/3/59800-3-0-0.png\n",
            "/content/drive/MyDrive/urbansound/spectrograms/3/59800-3-1-0.png\n",
            "/content/drive/MyDrive/urbansound/spectrograms/3/59800-3-2-0.png\n",
            "/content/drive/MyDrive/urbansound/spectrograms/3/59800-3-3-1.png\n",
            "/content/drive/MyDrive/urbansound/spectrograms/2/60591-2-0-11.png\n",
            "/content/drive/MyDrive/urbansound/spectrograms/2/60591-2-0-12.png\n",
            "/content/drive/MyDrive/urbansound/spectrograms/2/60591-2-0-15.png\n"
          ]
        },
        {
          "output_type": "stream",
          "name": "stderr",
          "text": [
            "7008it [01:23, 83.93it/s]"
          ]
        },
        {
          "output_type": "stream",
          "name": "stdout",
          "text": [
            "/content/drive/MyDrive/urbansound/spectrograms/2/60591-2-0-16.png\n",
            "/content/drive/MyDrive/urbansound/spectrograms/2/60591-2-0-2.png\n",
            "/content/drive/MyDrive/urbansound/spectrograms/2/60591-2-0-4.png\n",
            "/content/drive/MyDrive/urbansound/spectrograms/2/60591-2-0-7.png\n",
            "/content/drive/MyDrive/urbansound/spectrograms/2/60591-2-0-8.png\n",
            "/content/drive/MyDrive/urbansound/spectrograms/9/60605-9-0-34.png\n",
            "/content/drive/MyDrive/urbansound/spectrograms/9/60605-9-0-52.png\n",
            "/content/drive/MyDrive/urbansound/spectrograms/9/60605-9-0-64.png\n",
            "/content/drive/MyDrive/urbansound/spectrograms/9/60605-9-0-73.png\n",
            "/content/drive/MyDrive/urbansound/spectrograms/9/60605-9-0-90.png\n",
            "/content/drive/MyDrive/urbansound/spectrograms/9/60605-9-0-95.png\n",
            "/content/drive/MyDrive/urbansound/spectrograms/9/60608-9-0-0.png\n",
            "/content/drive/MyDrive/urbansound/spectrograms/9/60608-9-0-1.png\n",
            "/content/drive/MyDrive/urbansound/spectrograms/9/60608-9-0-2.png\n",
            "/content/drive/MyDrive/urbansound/spectrograms/9/60608-9-0-3.png\n",
            "/content/drive/MyDrive/urbansound/spectrograms/9/60608-9-0-4.png\n",
            "/content/drive/MyDrive/urbansound/spectrograms/9/60608-9-0-5.png\n",
            "/content/drive/MyDrive/urbansound/spectrograms/0/60846-0-0-0.png\n"
          ]
        },
        {
          "output_type": "stream",
          "name": "stderr",
          "text": [
            "7027it [01:23, 87.70it/s]"
          ]
        },
        {
          "output_type": "stream",
          "name": "stdout",
          "text": [
            "/content/drive/MyDrive/urbansound/spectrograms/0/60846-0-0-1.png\n",
            "/content/drive/MyDrive/urbansound/spectrograms/0/60846-0-0-2.png\n",
            "/content/drive/MyDrive/urbansound/spectrograms/0/60846-0-0-3.png\n",
            "/content/drive/MyDrive/urbansound/spectrograms/2/60935-2-0-0.png\n",
            "/content/drive/MyDrive/urbansound/spectrograms/2/60935-2-0-11.png\n",
            "/content/drive/MyDrive/urbansound/spectrograms/2/60935-2-0-12.png\n",
            "/content/drive/MyDrive/urbansound/spectrograms/2/60935-2-0-13.png\n",
            "/content/drive/MyDrive/urbansound/spectrograms/2/60935-2-0-14.png\n",
            "/content/drive/MyDrive/urbansound/spectrograms/2/60935-2-0-15.png\n",
            "/content/drive/MyDrive/urbansound/spectrograms/2/60935-2-0-4.png\n",
            "/content/drive/MyDrive/urbansound/spectrograms/2/60935-2-0-9.png\n",
            "/content/drive/MyDrive/urbansound/spectrograms/3/61077-3-0-0.png\n",
            "/content/drive/MyDrive/urbansound/spectrograms/3/61077-3-1-0.png\n",
            "/content/drive/MyDrive/urbansound/spectrograms/3/61077-3-2-0.png\n",
            "/content/drive/MyDrive/urbansound/spectrograms/3/61077-3-3-0.png\n",
            "/content/drive/MyDrive/urbansound/spectrograms/3/61250-3-0-31.png\n",
            "/content/drive/MyDrive/urbansound/spectrograms/3/61250-3-0-36.png\n",
            "/content/drive/MyDrive/urbansound/spectrograms/3/61250-3-0-47.png\n",
            "/content/drive/MyDrive/urbansound/spectrograms/3/61250-3-0-62.png\n",
            "/content/drive/MyDrive/urbansound/spectrograms/2/61503-2-0-0.png"
          ]
        },
        {
          "output_type": "stream",
          "name": "stderr",
          "text": [
            "\r7036it [01:23, 84.24it/s]"
          ]
        },
        {
          "output_type": "stream",
          "name": "stdout",
          "text": [
            "\n",
            "/content/drive/MyDrive/urbansound/spectrograms/2/61503-2-0-2.png\n",
            "/content/drive/MyDrive/urbansound/spectrograms/2/61503-2-0-3.png\n",
            "/content/drive/MyDrive/urbansound/spectrograms/2/61503-2-0-5.png\n",
            "/content/drive/MyDrive/urbansound/spectrograms/2/61503-2-0-6.png\n",
            "/content/drive/MyDrive/urbansound/spectrograms/2/61503-2-0-7.png\n",
            "/content/drive/MyDrive/urbansound/spectrograms/2/61503-2-0-8.png\n",
            "/content/drive/MyDrive/urbansound/spectrograms/2/61503-2-0-9.png\n",
            "/content/drive/MyDrive/urbansound/spectrograms/9/61626-9-0-10.png\n",
            "/content/drive/MyDrive/urbansound/spectrograms/9/61626-9-0-12.png\n",
            "/content/drive/MyDrive/urbansound/spectrograms/9/61626-9-0-2.png\n",
            "/content/drive/MyDrive/urbansound/spectrograms/9/61626-9-0-3.png\n",
            "/content/drive/MyDrive/urbansound/spectrograms/9/61626-9-0-6.png\n",
            "/content/drive/MyDrive/urbansound/spectrograms/9/61626-9-0-7.png\n",
            "/content/drive/MyDrive/urbansound/spectrograms/9/61789-9-0-10.png\n",
            "/content/drive/MyDrive/urbansound/spectrograms/9/61789-9-0-12.png\n",
            "/content/drive/MyDrive/urbansound/spectrograms/9/61789-9-0-14.png\n"
          ]
        },
        {
          "output_type": "stream",
          "name": "stderr",
          "text": [
            "7054it [01:23, 84.56it/s]"
          ]
        },
        {
          "output_type": "stream",
          "name": "stdout",
          "text": [
            "/content/drive/MyDrive/urbansound/spectrograms/9/61789-9-0-16.png\n",
            "/content/drive/MyDrive/urbansound/spectrograms/9/61789-9-0-26.png\n",
            "/content/drive/MyDrive/urbansound/spectrograms/9/61789-9-0-65.png\n",
            "/content/drive/MyDrive/urbansound/spectrograms/9/61789-9-0-69.png\n",
            "/content/drive/MyDrive/urbansound/spectrograms/9/61790-9-0-10.png\n",
            "/content/drive/MyDrive/urbansound/spectrograms/9/61790-9-0-15.png\n",
            "/content/drive/MyDrive/urbansound/spectrograms/9/61790-9-0-16.png\n",
            "/content/drive/MyDrive/urbansound/spectrograms/9/61790-9-0-20.png\n",
            "/content/drive/MyDrive/urbansound/spectrograms/9/61790-9-1-1.png\n",
            "/content/drive/MyDrive/urbansound/spectrograms/9/61790-9-1-20.png\n",
            "/content/drive/MyDrive/urbansound/spectrograms/9/61791-9-1-1.png\n",
            "/content/drive/MyDrive/urbansound/spectrograms/9/61791-9-1-40.png\n",
            "/content/drive/MyDrive/urbansound/spectrograms/9/61791-9-1-41.png\n",
            "/content/drive/MyDrive/urbansound/spectrograms/9/61791-9-1-42.png\n",
            "/content/drive/MyDrive/urbansound/spectrograms/9/61791-9-1-44.png\n",
            "/content/drive/MyDrive/urbansound/spectrograms/9/61791-9-1-46.png\n",
            "/content/drive/MyDrive/urbansound/spectrograms/3/62048-3-0-2.png\n",
            "/content/drive/MyDrive/urbansound/spectrograms/3/62048-3-0-3.png\n",
            "/content/drive/MyDrive/urbansound/spectrograms/3/62048-3-0-4.png\n"
          ]
        },
        {
          "output_type": "stream",
          "name": "stderr",
          "text": [
            "7074it [01:23, 88.06it/s]"
          ]
        },
        {
          "output_type": "stream",
          "name": "stdout",
          "text": [
            "/content/drive/MyDrive/urbansound/spectrograms/3/62048-3-0-5.png\n",
            "/content/drive/MyDrive/urbansound/spectrograms/0/62461-0-0-0.png\n",
            "/content/drive/MyDrive/urbansound/spectrograms/0/62461-0-0-1.png\n",
            "/content/drive/MyDrive/urbansound/spectrograms/0/62461-0-0-2.png\n",
            "/content/drive/MyDrive/urbansound/spectrograms/0/62461-0-0-3.png\n",
            "/content/drive/MyDrive/urbansound/spectrograms/5/62564-5-0-0.png\n",
            "/content/drive/MyDrive/urbansound/spectrograms/5/62564-5-0-1.png\n",
            "/content/drive/MyDrive/urbansound/spectrograms/5/62564-5-0-10.png\n",
            "/content/drive/MyDrive/urbansound/spectrograms/5/62564-5-0-2.png\n",
            "/content/drive/MyDrive/urbansound/spectrograms/5/62564-5-0-3.png\n",
            "/content/drive/MyDrive/urbansound/spectrograms/5/62564-5-0-4.png\n",
            "/content/drive/MyDrive/urbansound/spectrograms/5/62564-5-0-5.png\n",
            "/content/drive/MyDrive/urbansound/spectrograms/5/62564-5-0-6.png\n",
            "/content/drive/MyDrive/urbansound/spectrograms/5/62564-5-0-7.png\n",
            "/content/drive/MyDrive/urbansound/spectrograms/5/62564-5-0-8.png\n",
            "/content/drive/MyDrive/urbansound/spectrograms/5/62564-5-0-9.png\n",
            "/content/drive/MyDrive/urbansound/spectrograms/5/62566-5-0-0.png\n",
            "/content/drive/MyDrive/urbansound/spectrograms/5/62566-5-0-1.png\n",
            "/content/drive/MyDrive/urbansound/spectrograms/5/62566-5-0-2.png\n",
            "/content/drive/MyDrive/urbansound/spectrograms/5/62566-5-0-3.png\n",
            "/content/drive/MyDrive/urbansound/spectrograms/5/62566-5-0-4.png\n"
          ]
        },
        {
          "output_type": "stream",
          "name": "stderr",
          "text": [
            "7095it [01:24, 91.85it/s]"
          ]
        },
        {
          "output_type": "stream",
          "name": "stdout",
          "text": [
            "/content/drive/MyDrive/urbansound/spectrograms/5/62566-5-0-5.png\n",
            "/content/drive/MyDrive/urbansound/spectrograms/5/62566-5-0-6.png\n",
            "/content/drive/MyDrive/urbansound/spectrograms/5/62566-5-0-7.png\n",
            "/content/drive/MyDrive/urbansound/spectrograms/5/62566-5-1-0.png\n",
            "/content/drive/MyDrive/urbansound/spectrograms/5/62566-5-1-1.png\n",
            "/content/drive/MyDrive/urbansound/spectrograms/5/62566-5-2-0.png\n",
            "/content/drive/MyDrive/urbansound/spectrograms/5/62567-5-0-0.png\n",
            "/content/drive/MyDrive/urbansound/spectrograms/5/62567-5-0-1.png\n",
            "/content/drive/MyDrive/urbansound/spectrograms/5/62567-5-0-10.png\n",
            "/content/drive/MyDrive/urbansound/spectrograms/5/62567-5-0-2.png\n",
            "/content/drive/MyDrive/urbansound/spectrograms/5/62567-5-0-3.png\n",
            "/content/drive/MyDrive/urbansound/spectrograms/5/62567-5-0-4.png\n",
            "/content/drive/MyDrive/urbansound/spectrograms/5/62567-5-0-5.png\n",
            "/content/drive/MyDrive/urbansound/spectrograms/5/62567-5-0-6.png\n",
            "/content/drive/MyDrive/urbansound/spectrograms/5/62567-5-0-7.png\n",
            "/content/drive/MyDrive/urbansound/spectrograms/5/62567-5-0-8.png\n",
            "/content/drive/MyDrive/urbansound/spectrograms/5/62567-5-0-9.png\n",
            "/content/drive/MyDrive/urbansound/spectrograms/5/62567-5-1-0.png\n",
            "/content/drive/MyDrive/urbansound/spectrograms/5/62567-5-1-1.png\n",
            "/content/drive/MyDrive/urbansound/spectrograms/7/62837-7-0-12.png\n"
          ]
        },
        {
          "output_type": "stream",
          "name": "stderr",
          "text": [
            "7115it [01:24, 86.17it/s]"
          ]
        },
        {
          "output_type": "stream",
          "name": "stdout",
          "text": [
            "/content/drive/MyDrive/urbansound/spectrograms/7/62837-7-0-15.png\n",
            "/content/drive/MyDrive/urbansound/spectrograms/7/62837-7-0-16.png\n",
            "/content/drive/MyDrive/urbansound/spectrograms/7/62837-7-0-17.png\n",
            "/content/drive/MyDrive/urbansound/spectrograms/7/62837-7-0-18.png\n",
            "/content/drive/MyDrive/urbansound/spectrograms/7/62837-7-0-2.png\n",
            "/content/drive/MyDrive/urbansound/spectrograms/7/62837-7-0-20.png\n",
            "/content/drive/MyDrive/urbansound/spectrograms/7/62837-7-0-21.png\n",
            "/content/drive/MyDrive/urbansound/spectrograms/7/62837-7-0-22.png\n",
            "/content/drive/MyDrive/urbansound/spectrograms/7/62837-7-0-24.png\n",
            "/content/drive/MyDrive/urbansound/spectrograms/7/62837-7-0-27.png\n",
            "/content/drive/MyDrive/urbansound/spectrograms/7/62837-7-0-28.png\n",
            "/content/drive/MyDrive/urbansound/spectrograms/7/62837-7-0-3.png\n",
            "/content/drive/MyDrive/urbansound/spectrograms/7/62837-7-0-30.png\n",
            "/content/drive/MyDrive/urbansound/spectrograms/7/62837-7-0-31.png\n",
            "/content/drive/MyDrive/urbansound/spectrograms/7/62837-7-0-34.png\n",
            "/content/drive/MyDrive/urbansound/spectrograms/7/62837-7-0-37.png\n",
            "/content/drive/MyDrive/urbansound/spectrograms/7/62837-7-0-4.png\n"
          ]
        },
        {
          "output_type": "stream",
          "name": "stderr",
          "text": [
            "7133it [01:24, 81.45it/s]"
          ]
        },
        {
          "output_type": "stream",
          "name": "stdout",
          "text": [
            "/content/drive/MyDrive/urbansound/spectrograms/7/62837-7-0-7.png\n",
            "/content/drive/MyDrive/urbansound/spectrograms/7/62837-7-0-8.png\n",
            "/content/drive/MyDrive/urbansound/spectrograms/7/62837-7-0-9.png\n",
            "/content/drive/MyDrive/urbansound/spectrograms/7/62837-7-1-1.png\n",
            "/content/drive/MyDrive/urbansound/spectrograms/7/62837-7-1-11.png\n",
            "/content/drive/MyDrive/urbansound/spectrograms/7/62837-7-1-14.png\n",
            "/content/drive/MyDrive/urbansound/spectrograms/7/62837-7-1-15.png\n",
            "/content/drive/MyDrive/urbansound/spectrograms/7/62837-7-1-18.png\n",
            "/content/drive/MyDrive/urbansound/spectrograms/7/62837-7-1-2.png\n",
            "/content/drive/MyDrive/urbansound/spectrograms/7/62837-7-1-21.png\n",
            "/content/drive/MyDrive/urbansound/spectrograms/7/62837-7-1-22.png\n",
            "/content/drive/MyDrive/urbansound/spectrograms/7/62837-7-1-24.png\n",
            "/content/drive/MyDrive/urbansound/spectrograms/7/62837-7-1-26.png\n",
            "/content/drive/MyDrive/urbansound/spectrograms/7/62837-7-1-27.png\n",
            "/content/drive/MyDrive/urbansound/spectrograms/7/62837-7-1-28.png\n",
            "/content/drive/MyDrive/urbansound/spectrograms/7/62837-7-1-29.png\n"
          ]
        },
        {
          "output_type": "stream",
          "name": "stderr",
          "text": [
            "7151it [01:24, 82.04it/s]"
          ]
        },
        {
          "output_type": "stream",
          "name": "stdout",
          "text": [
            "/content/drive/MyDrive/urbansound/spectrograms/7/62837-7-1-3.png\n",
            "/content/drive/MyDrive/urbansound/spectrograms/7/62837-7-1-31.png\n",
            "/content/drive/MyDrive/urbansound/spectrograms/7/62837-7-1-32.png\n",
            "/content/drive/MyDrive/urbansound/spectrograms/7/62837-7-1-33.png\n",
            "/content/drive/MyDrive/urbansound/spectrograms/7/62837-7-1-35.png\n",
            "/content/drive/MyDrive/urbansound/spectrograms/7/62837-7-1-39.png\n",
            "/content/drive/MyDrive/urbansound/spectrograms/7/62837-7-1-4.png\n",
            "/content/drive/MyDrive/urbansound/spectrograms/7/62837-7-1-41.png\n",
            "/content/drive/MyDrive/urbansound/spectrograms/7/62837-7-1-44.png\n",
            "/content/drive/MyDrive/urbansound/spectrograms/7/62837-7-1-45.png\n",
            "/content/drive/MyDrive/urbansound/spectrograms/7/62837-7-1-46.png\n",
            "/content/drive/MyDrive/urbansound/spectrograms/7/62837-7-1-49.png\n",
            "/content/drive/MyDrive/urbansound/spectrograms/7/62837-7-1-5.png\n",
            "/content/drive/MyDrive/urbansound/spectrograms/7/62837-7-1-51.png\n",
            "/content/drive/MyDrive/urbansound/spectrograms/7/62837-7-1-53.png\n",
            "/content/drive/MyDrive/urbansound/spectrograms/7/62837-7-1-54.png\n",
            "/content/drive/MyDrive/urbansound/spectrograms/7/62837-7-1-55.png\n"
          ]
        },
        {
          "output_type": "stream",
          "name": "stderr",
          "text": [
            "7169it [01:24, 81.58it/s]"
          ]
        },
        {
          "output_type": "stream",
          "name": "stdout",
          "text": [
            "/content/drive/MyDrive/urbansound/spectrograms/7/62837-7-1-56.png\n",
            "/content/drive/MyDrive/urbansound/spectrograms/7/62837-7-1-6.png\n",
            "/content/drive/MyDrive/urbansound/spectrograms/7/62837-7-1-61.png\n",
            "/content/drive/MyDrive/urbansound/spectrograms/7/62837-7-1-62.png\n",
            "/content/drive/MyDrive/urbansound/spectrograms/7/62837-7-1-63.png\n",
            "/content/drive/MyDrive/urbansound/spectrograms/7/62837-7-1-64.png\n",
            "/content/drive/MyDrive/urbansound/spectrograms/7/62837-7-1-65.png\n",
            "/content/drive/MyDrive/urbansound/spectrograms/7/62837-7-1-69.png\n",
            "/content/drive/MyDrive/urbansound/spectrograms/7/62837-7-1-72.png\n",
            "/content/drive/MyDrive/urbansound/spectrograms/7/62837-7-1-73.png\n",
            "/content/drive/MyDrive/urbansound/spectrograms/7/62837-7-1-79.png\n",
            "/content/drive/MyDrive/urbansound/spectrograms/7/62837-7-1-80.png\n",
            "/content/drive/MyDrive/urbansound/spectrograms/7/62837-7-1-81.png\n",
            "/content/drive/MyDrive/urbansound/spectrograms/7/62837-7-1-84.png\n",
            "/content/drive/MyDrive/urbansound/spectrograms/7/62837-7-1-9.png\n",
            "/content/drive/MyDrive/urbansound/spectrograms/8/62878-8-0-0.png\n",
            "/content/drive/MyDrive/urbansound/spectrograms/8/62878-8-0-1.png\n"
          ]
        },
        {
          "output_type": "stream",
          "name": "stderr",
          "text": [
            "7188it [01:25, 85.41it/s]"
          ]
        },
        {
          "output_type": "stream",
          "name": "stdout",
          "text": [
            "/content/drive/MyDrive/urbansound/spectrograms/8/62878-8-0-2.png\n",
            "/content/drive/MyDrive/urbansound/spectrograms/4/63095-4-0-1.png\n",
            "/content/drive/MyDrive/urbansound/spectrograms/4/63095-4-0-10.png\n",
            "/content/drive/MyDrive/urbansound/spectrograms/4/63095-4-0-14.png\n",
            "/content/drive/MyDrive/urbansound/spectrograms/4/63095-4-0-16.png\n",
            "/content/drive/MyDrive/urbansound/spectrograms/4/63095-4-0-20.png\n",
            "/content/drive/MyDrive/urbansound/spectrograms/4/63095-4-0-21.png\n",
            "/content/drive/MyDrive/urbansound/spectrograms/4/63095-4-0-26.png\n",
            "/content/drive/MyDrive/urbansound/spectrograms/4/63095-4-0-28.png\n",
            "/content/drive/MyDrive/urbansound/spectrograms/4/63095-4-0-29.png\n",
            "/content/drive/MyDrive/urbansound/spectrograms/4/63095-4-0-4.png\n",
            "/content/drive/MyDrive/urbansound/spectrograms/4/63095-4-0-6.png\n",
            "/content/drive/MyDrive/urbansound/spectrograms/4/63095-4-0-8.png\n",
            "/content/drive/MyDrive/urbansound/spectrograms/4/63095-4-1-10.png\n",
            "/content/drive/MyDrive/urbansound/spectrograms/4/63095-4-1-18.png\n",
            "/content/drive/MyDrive/urbansound/spectrograms/4/63095-4-1-19.png\n",
            "/content/drive/MyDrive/urbansound/spectrograms/4/63095-4-1-20.png\n",
            "/content/drive/MyDrive/urbansound/spectrograms/4/63095-4-1-23.png\n"
          ]
        },
        {
          "output_type": "stream",
          "name": "stderr",
          "text": [
            "7206it [01:25, 83.34it/s]"
          ]
        },
        {
          "output_type": "stream",
          "name": "stdout",
          "text": [
            "/content/drive/MyDrive/urbansound/spectrograms/4/63095-4-1-27.png\n",
            "/content/drive/MyDrive/urbansound/spectrograms/4/63095-4-1-33.png\n",
            "/content/drive/MyDrive/urbansound/spectrograms/4/63095-4-1-4.png\n",
            "/content/drive/MyDrive/urbansound/spectrograms/4/63095-4-1-6.png\n",
            "/content/drive/MyDrive/urbansound/spectrograms/4/63095-4-1-7.png\n",
            "/content/drive/MyDrive/urbansound/spectrograms/3/63261-3-0-0.png\n",
            "/content/drive/MyDrive/urbansound/spectrograms/3/63261-3-0-1.png\n",
            "/content/drive/MyDrive/urbansound/spectrograms/3/63292-3-0-0.png\n",
            "/content/drive/MyDrive/urbansound/spectrograms/3/63292-3-0-1.png\n",
            "/content/drive/MyDrive/urbansound/spectrograms/0/63724-0-0-0.png\n",
            "/content/drive/MyDrive/urbansound/spectrograms/0/63724-0-0-1.png\n",
            "/content/drive/MyDrive/urbansound/spectrograms/0/63724-0-0-10.png\n",
            "/content/drive/MyDrive/urbansound/spectrograms/0/63724-0-0-11.png\n",
            "/content/drive/MyDrive/urbansound/spectrograms/0/63724-0-0-12.png\n",
            "/content/drive/MyDrive/urbansound/spectrograms/0/63724-0-0-13.png\n",
            "/content/drive/MyDrive/urbansound/spectrograms/0/63724-0-0-14.png\n",
            "/content/drive/MyDrive/urbansound/spectrograms/0/63724-0-0-15.png\n"
          ]
        },
        {
          "output_type": "stream",
          "name": "stderr",
          "text": [
            "7224it [01:25, 83.32it/s]"
          ]
        },
        {
          "output_type": "stream",
          "name": "stdout",
          "text": [
            "/content/drive/MyDrive/urbansound/spectrograms/0/63724-0-0-16.png\n",
            "/content/drive/MyDrive/urbansound/spectrograms/0/63724-0-0-2.png\n",
            "/content/drive/MyDrive/urbansound/spectrograms/0/63724-0-0-3.png\n",
            "/content/drive/MyDrive/urbansound/spectrograms/0/63724-0-0-4.png\n",
            "/content/drive/MyDrive/urbansound/spectrograms/0/63724-0-0-5.png\n",
            "/content/drive/MyDrive/urbansound/spectrograms/0/63724-0-0-6.png\n",
            "/content/drive/MyDrive/urbansound/spectrograms/0/63724-0-0-7.png\n",
            "/content/drive/MyDrive/urbansound/spectrograms/0/63724-0-0-8.png\n",
            "/content/drive/MyDrive/urbansound/spectrograms/0/63724-0-0-9.png\n",
            "/content/drive/MyDrive/urbansound/spectrograms/3/63932-3-0-1.png\n",
            "/content/drive/MyDrive/urbansound/spectrograms/3/63932-3-0-2.png\n",
            "/content/drive/MyDrive/urbansound/spectrograms/3/63932-3-1-0.png\n",
            "/content/drive/MyDrive/urbansound/spectrograms/3/63932-3-1-1.png\n",
            "/content/drive/MyDrive/urbansound/spectrograms/6/64346-6-0-0.png\n",
            "/content/drive/MyDrive/urbansound/spectrograms/9/6508-9-0-1.png\n",
            "/content/drive/MyDrive/urbansound/spectrograms/9/6508-9-0-2.png\n",
            "/content/drive/MyDrive/urbansound/spectrograms/9/6508-9-0-3.png\n",
            "/content/drive/MyDrive/urbansound/spectrograms/9/6508-9-0-4.png\n"
          ]
        },
        {
          "output_type": "stream",
          "name": "stderr",
          "text": [
            "7242it [01:25, 83.14it/s]"
          ]
        },
        {
          "output_type": "stream",
          "name": "stdout",
          "text": [
            "/content/drive/MyDrive/urbansound/spectrograms/9/6508-9-0-6.png\n",
            "/content/drive/MyDrive/urbansound/spectrograms/9/6508-9-1-0.png\n",
            "/content/drive/MyDrive/urbansound/spectrograms/3/65381-3-0-3.png\n",
            "/content/drive/MyDrive/urbansound/spectrograms/3/65381-3-0-6.png\n",
            "/content/drive/MyDrive/urbansound/spectrograms/3/65381-3-0-7.png\n",
            "/content/drive/MyDrive/urbansound/spectrograms/1/65472-1-0-0.png\n",
            "/content/drive/MyDrive/urbansound/spectrograms/3/65745-3-0-21.png\n",
            "/content/drive/MyDrive/urbansound/spectrograms/3/65745-3-0-49.png\n",
            "/content/drive/MyDrive/urbansound/spectrograms/3/65745-3-0-61.png\n",
            "/content/drive/MyDrive/urbansound/spectrograms/3/65745-3-0-88.png\n",
            "/content/drive/MyDrive/urbansound/spectrograms/3/65749-3-1-12.png\n",
            "/content/drive/MyDrive/urbansound/spectrograms/3/65749-3-1-14.png\n",
            "/content/drive/MyDrive/urbansound/spectrograms/3/65749-3-1-24.png\n",
            "/content/drive/MyDrive/urbansound/spectrograms/3/65749-3-1-9.png\n",
            "/content/drive/MyDrive/urbansound/spectrograms/3/65750-3-0-5.png\n",
            "/content/drive/MyDrive/urbansound/spectrograms/3/65750-3-3-48.png\n",
            "/content/drive/MyDrive/urbansound/spectrograms/3/65750-3-3-68.png\n",
            "/content/drive/MyDrive/urbansound/spectrograms/3/65750-3-3-74.png\n",
            "/content/drive/MyDrive/urbansound/spectrograms/9/66000-9-0-0.png"
          ]
        },
        {
          "output_type": "stream",
          "name": "stderr",
          "text": [
            "7262it [01:26, 88.10it/s]"
          ]
        },
        {
          "output_type": "stream",
          "name": "stdout",
          "text": [
            "\n",
            "/content/drive/MyDrive/urbansound/spectrograms/9/66000-9-0-1.png\n",
            "/content/drive/MyDrive/urbansound/spectrograms/9/66000-9-0-2.png\n",
            "/content/drive/MyDrive/urbansound/spectrograms/9/66000-9-0-3.png\n",
            "/content/drive/MyDrive/urbansound/spectrograms/9/66000-9-0-6.png\n",
            "/content/drive/MyDrive/urbansound/spectrograms/9/66000-9-0-8.png\n",
            "/content/drive/MyDrive/urbansound/spectrograms/1/66115-1-0-0.png\n",
            "/content/drive/MyDrive/urbansound/spectrograms/1/66115-1-0-1.png\n",
            "/content/drive/MyDrive/urbansound/spectrograms/9/66324-9-0-19.png\n",
            "/content/drive/MyDrive/urbansound/spectrograms/9/66324-9-0-30.png\n",
            "/content/drive/MyDrive/urbansound/spectrograms/9/66324-9-0-4.png\n",
            "/content/drive/MyDrive/urbansound/spectrograms/9/66324-9-0-42.png\n",
            "/content/drive/MyDrive/urbansound/spectrograms/9/66324-9-0-53.png\n",
            "/content/drive/MyDrive/urbansound/spectrograms/9/66324-9-0-54.png\n",
            "/content/drive/MyDrive/urbansound/spectrograms/3/66587-3-0-0.png\n",
            "/content/drive/MyDrive/urbansound/spectrograms/3/66587-3-1-0.png\n",
            "/content/drive/MyDrive/urbansound/spectrograms/3/66587-3-2-0.png\n",
            "/content/drive/MyDrive/urbansound/spectrograms/3/66587-3-3-0.png\n",
            "/content/drive/MyDrive/urbansound/spectrograms/9/66599-9-0-11.png\n",
            "/content/drive/MyDrive/urbansound/spectrograms/9/66599-9-0-17.png"
          ]
        },
        {
          "output_type": "stream",
          "name": "stderr",
          "text": [
            "\r7271it [01:26, 87.27it/s]"
          ]
        },
        {
          "output_type": "stream",
          "name": "stdout",
          "text": [
            "\n",
            "/content/drive/MyDrive/urbansound/spectrograms/9/66599-9-1-11.png\n",
            "/content/drive/MyDrive/urbansound/spectrograms/9/66599-9-1-21.png\n",
            "/content/drive/MyDrive/urbansound/spectrograms/9/66599-9-1-23.png\n",
            "/content/drive/MyDrive/urbansound/spectrograms/9/66599-9-1-4.png\n",
            "/content/drive/MyDrive/urbansound/spectrograms/8/66601-8-0-0.png\n",
            "/content/drive/MyDrive/urbansound/spectrograms/8/66601-8-0-1.png\n",
            "/content/drive/MyDrive/urbansound/spectrograms/8/66601-8-0-2.png\n",
            "/content/drive/MyDrive/urbansound/spectrograms/8/66601-8-0-3.png\n",
            "/content/drive/MyDrive/urbansound/spectrograms/8/66601-8-0-4.png\n",
            "/content/drive/MyDrive/urbansound/spectrograms/8/66601-8-0-5.png\n",
            "/content/drive/MyDrive/urbansound/spectrograms/2/66619-2-0-0.png\n",
            "/content/drive/MyDrive/urbansound/spectrograms/2/66619-2-0-1.png\n",
            "/content/drive/MyDrive/urbansound/spectrograms/2/66619-2-0-11.png\n",
            "/content/drive/MyDrive/urbansound/spectrograms/2/66619-2-0-18.png\n",
            "/content/drive/MyDrive/urbansound/spectrograms/2/66619-2-0-22.png\n",
            "/content/drive/MyDrive/urbansound/spectrograms/2/66619-2-0-5.png\n",
            "/content/drive/MyDrive/urbansound/spectrograms/2/66619-2-0-6.png\n"
          ]
        },
        {
          "output_type": "stream",
          "name": "stderr",
          "text": [
            "7289it [01:26, 84.11it/s]"
          ]
        },
        {
          "output_type": "stream",
          "name": "stdout",
          "text": [
            "/content/drive/MyDrive/urbansound/spectrograms/2/66619-2-0-7.png\n",
            "/content/drive/MyDrive/urbansound/spectrograms/4/66622-4-0-0.png\n",
            "/content/drive/MyDrive/urbansound/spectrograms/4/66622-4-0-1.png\n",
            "/content/drive/MyDrive/urbansound/spectrograms/4/66622-4-0-2.png\n",
            "/content/drive/MyDrive/urbansound/spectrograms/4/66622-4-0-3.png\n",
            "/content/drive/MyDrive/urbansound/spectrograms/4/66622-4-0-4.png\n",
            "/content/drive/MyDrive/urbansound/spectrograms/4/66622-4-0-5.png\n",
            "/content/drive/MyDrive/urbansound/spectrograms/4/66622-4-0-6.png\n",
            "/content/drive/MyDrive/urbansound/spectrograms/4/66622-4-0-7.png\n",
            "/content/drive/MyDrive/urbansound/spectrograms/4/66622-4-0-8.png\n",
            "/content/drive/MyDrive/urbansound/spectrograms/4/66623-4-0-0.png\n",
            "/content/drive/MyDrive/urbansound/spectrograms/4/66623-4-0-1.png\n",
            "/content/drive/MyDrive/urbansound/spectrograms/4/66623-4-0-2.png\n",
            "/content/drive/MyDrive/urbansound/spectrograms/4/66623-4-0-3.png\n",
            "/content/drive/MyDrive/urbansound/spectrograms/4/66623-4-0-4.png\n",
            "/content/drive/MyDrive/urbansound/spectrograms/4/66623-4-0-5.png\n"
          ]
        },
        {
          "output_type": "stream",
          "name": "stderr",
          "text": [
            "7307it [01:26, 79.53it/s]"
          ]
        },
        {
          "output_type": "stream",
          "name": "stdout",
          "text": [
            "/content/drive/MyDrive/urbansound/spectrograms/4/66623-4-0-6.png\n",
            "/content/drive/MyDrive/urbansound/spectrograms/8/66996-8-1-0.png\n",
            "/content/drive/MyDrive/urbansound/spectrograms/8/66996-8-3-0.png\n",
            "/content/drive/MyDrive/urbansound/spectrograms/3/67049-3-0-0.png\n",
            "/content/drive/MyDrive/urbansound/spectrograms/3/67049-3-0-1.png\n",
            "/content/drive/MyDrive/urbansound/spectrograms/3/67049-3-0-2.png\n",
            "/content/drive/MyDrive/urbansound/spectrograms/7/68080-7-0-0.png\n",
            "/content/drive/MyDrive/urbansound/spectrograms/7/68080-7-0-1.png\n",
            "/content/drive/MyDrive/urbansound/spectrograms/7/68080-7-0-2.png\n",
            "/content/drive/MyDrive/urbansound/spectrograms/7/68080-7-0-3.png\n",
            "/content/drive/MyDrive/urbansound/spectrograms/7/68080-7-0-4.png\n",
            "/content/drive/MyDrive/urbansound/spectrograms/7/68080-7-0-5.png\n",
            "/content/drive/MyDrive/urbansound/spectrograms/7/68080-7-0-6.png\n",
            "/content/drive/MyDrive/urbansound/spectrograms/7/68080-7-0-7.png\n",
            "/content/drive/MyDrive/urbansound/spectrograms/7/68080-7-0-8.png\n",
            "/content/drive/MyDrive/urbansound/spectrograms/7/68080-7-0-9.png\n",
            "/content/drive/MyDrive/urbansound/spectrograms/3/68389-3-0-0.png\n"
          ]
        },
        {
          "output_type": "stream",
          "name": "stderr",
          "text": [
            "7325it [01:26, 80.46it/s]"
          ]
        },
        {
          "output_type": "stream",
          "name": "stdout",
          "text": [
            "/content/drive/MyDrive/urbansound/spectrograms/3/68389-3-1-0.png\n",
            "/content/drive/MyDrive/urbansound/spectrograms/3/68389-3-2-0.png\n",
            "/content/drive/MyDrive/urbansound/spectrograms/1/68657-1-0-0.png\n",
            "/content/drive/MyDrive/urbansound/spectrograms/2/6902-2-0-12.png\n",
            "/content/drive/MyDrive/urbansound/spectrograms/2/6902-2-0-18.png\n",
            "/content/drive/MyDrive/urbansound/spectrograms/2/6902-2-0-26.png\n",
            "/content/drive/MyDrive/urbansound/spectrograms/2/6902-2-0-4.png\n",
            "/content/drive/MyDrive/urbansound/spectrograms/2/6902-2-0-5.png\n",
            "/content/drive/MyDrive/urbansound/spectrograms/2/6902-2-0-7.png\n",
            "/content/drive/MyDrive/urbansound/spectrograms/2/6902-2-0-9.png\n",
            "/content/drive/MyDrive/urbansound/spectrograms/9/69304-9-0-0.png\n",
            "/content/drive/MyDrive/urbansound/spectrograms/9/69304-9-0-12.png\n",
            "/content/drive/MyDrive/urbansound/spectrograms/9/69304-9-0-14.png\n",
            "/content/drive/MyDrive/urbansound/spectrograms/9/69304-9-0-15.png\n",
            "/content/drive/MyDrive/urbansound/spectrograms/9/69304-9-0-6.png\n",
            "/content/drive/MyDrive/urbansound/spectrograms/9/69304-9-0-7.png\n",
            "/content/drive/MyDrive/urbansound/spectrograms/4/69598-4-0-0.png\n"
          ]
        },
        {
          "output_type": "stream",
          "name": "stderr",
          "text": [
            "7343it [01:27, 79.58it/s]"
          ]
        },
        {
          "output_type": "stream",
          "name": "stdout",
          "text": [
            "/content/drive/MyDrive/urbansound/spectrograms/4/69598-4-1-0.png\n",
            "/content/drive/MyDrive/urbansound/spectrograms/4/69598-4-2-0.png\n",
            "/content/drive/MyDrive/urbansound/spectrograms/4/69598-4-2-1.png\n",
            "/content/drive/MyDrive/urbansound/spectrograms/4/69598-4-3-0.png\n",
            "/content/drive/MyDrive/urbansound/spectrograms/4/69598-4-4-0.png\n",
            "/content/drive/MyDrive/urbansound/spectrograms/4/69598-4-5-0.png\n",
            "/content/drive/MyDrive/urbansound/spectrograms/4/69598-4-6-0.png\n",
            "/content/drive/MyDrive/urbansound/spectrograms/4/69598-4-6-1.png\n",
            "/content/drive/MyDrive/urbansound/spectrograms/4/69598-4-7-0.png\n",
            "/content/drive/MyDrive/urbansound/spectrograms/4/69598-4-8-0.png\n",
            "/content/drive/MyDrive/urbansound/spectrograms/4/69598-4-9-0.png\n",
            "/content/drive/MyDrive/urbansound/spectrograms/3/69661-3-0-14.png\n",
            "/content/drive/MyDrive/urbansound/spectrograms/3/69661-3-0-23.png\n",
            "/content/drive/MyDrive/urbansound/spectrograms/3/69661-3-0-29.png\n",
            "/content/drive/MyDrive/urbansound/spectrograms/3/69777-3-0-0.png\n",
            "/content/drive/MyDrive/urbansound/spectrograms/3/69777-3-0-1.png\n"
          ]
        },
        {
          "output_type": "stream",
          "name": "stderr",
          "text": [
            "7361it [01:27, 82.06it/s]"
          ]
        },
        {
          "output_type": "stream",
          "name": "stdout",
          "text": [
            "/content/drive/MyDrive/urbansound/spectrograms/3/69777-3-0-2.png\n",
            "/content/drive/MyDrive/urbansound/spectrograms/1/6984-1-0-0.png\n",
            "/content/drive/MyDrive/urbansound/spectrograms/5/6988-5-0-0.png\n",
            "/content/drive/MyDrive/urbansound/spectrograms/5/6988-5-0-1.png\n",
            "/content/drive/MyDrive/urbansound/spectrograms/5/6988-5-0-2.png\n",
            "/content/drive/MyDrive/urbansound/spectrograms/5/6988-5-0-3.png\n",
            "/content/drive/MyDrive/urbansound/spectrograms/5/6988-5-0-4.png\n",
            "/content/drive/MyDrive/urbansound/spectrograms/5/6988-5-0-5.png\n",
            "/content/drive/MyDrive/urbansound/spectrograms/3/69883-3-0-20.png\n",
            "/content/drive/MyDrive/urbansound/spectrograms/3/69883-3-0-5.png\n",
            "/content/drive/MyDrive/urbansound/spectrograms/3/69883-3-0-9.png\n",
            "/content/drive/MyDrive/urbansound/spectrograms/2/69962-2-0-11.png\n",
            "/content/drive/MyDrive/urbansound/spectrograms/2/69962-2-0-15.png\n",
            "/content/drive/MyDrive/urbansound/spectrograms/2/69962-2-0-16.png\n",
            "/content/drive/MyDrive/urbansound/spectrograms/2/69962-2-0-17.png\n",
            "/content/drive/MyDrive/urbansound/spectrograms/2/69962-2-0-2.png\n"
          ]
        },
        {
          "output_type": "stream",
          "name": "stderr",
          "text": [
            "\r7370it [01:27, 80.41it/s]"
          ]
        },
        {
          "output_type": "stream",
          "name": "stdout",
          "text": [
            "/content/drive/MyDrive/urbansound/spectrograms/2/69962-2-0-20.png\n",
            "/content/drive/MyDrive/urbansound/spectrograms/2/69962-2-0-22.png\n",
            "/content/drive/MyDrive/urbansound/spectrograms/2/69962-2-0-25.png\n",
            "/content/drive/MyDrive/urbansound/spectrograms/3/70098-3-0-0.png\n",
            "/content/drive/MyDrive/urbansound/spectrograms/3/70098-3-1-0.png\n",
            "/content/drive/MyDrive/urbansound/spectrograms/3/70098-3-2-0.png\n",
            "/content/drive/MyDrive/urbansound/spectrograms/3/70098-3-3-0.png\n",
            "/content/drive/MyDrive/urbansound/spectrograms/3/70168-3-1-11.png\n",
            "/content/drive/MyDrive/urbansound/spectrograms/3/70168-3-1-13.png\n",
            "/content/drive/MyDrive/urbansound/spectrograms/3/70168-3-1-20.png\n",
            "/content/drive/MyDrive/urbansound/spectrograms/3/70168-3-1-24.png\n",
            "/content/drive/MyDrive/urbansound/spectrograms/6/7060-6-0-0.png\n",
            "/content/drive/MyDrive/urbansound/spectrograms/6/7060-6-1-0.png\n",
            "/content/drive/MyDrive/urbansound/spectrograms/6/7060-6-2-0.png\n",
            "/content/drive/MyDrive/urbansound/spectrograms/6/7061-6-0-0.png\n",
            "/content/drive/MyDrive/urbansound/spectrograms/6/7062-6-0-0.png\n"
          ]
        },
        {
          "output_type": "stream",
          "name": "stderr",
          "text": [
            "7389it [01:27, 80.39it/s]"
          ]
        },
        {
          "output_type": "stream",
          "name": "stdout",
          "text": [
            "/content/drive/MyDrive/urbansound/spectrograms/6/7063-6-0-0.png\n",
            "/content/drive/MyDrive/urbansound/spectrograms/6/7064-6-0-0.png\n",
            "/content/drive/MyDrive/urbansound/spectrograms/6/7064-6-1-0.png\n",
            "/content/drive/MyDrive/urbansound/spectrograms/6/7064-6-2-0.png\n",
            "/content/drive/MyDrive/urbansound/spectrograms/6/7064-6-3-0.png\n",
            "/content/drive/MyDrive/urbansound/spectrograms/6/7064-6-4-0.png\n",
            "/content/drive/MyDrive/urbansound/spectrograms/6/7064-6-5-0.png\n",
            "/content/drive/MyDrive/urbansound/spectrograms/6/7065-6-0-0.png\n",
            "/content/drive/MyDrive/urbansound/spectrograms/6/7066-6-0-0.png\n",
            "/content/drive/MyDrive/urbansound/spectrograms/6/7066-6-1-0.png\n",
            "/content/drive/MyDrive/urbansound/spectrograms/6/7067-6-0-0.png\n",
            "/content/drive/MyDrive/urbansound/spectrograms/6/7068-6-0-0.png\n",
            "/content/drive/MyDrive/urbansound/spectrograms/8/70740-8-0-0.png\n",
            "/content/drive/MyDrive/urbansound/spectrograms/4/71079-4-0-0.png\n",
            "/content/drive/MyDrive/urbansound/spectrograms/4/71079-4-1-0.png\n",
            "/content/drive/MyDrive/urbansound/spectrograms/4/71080-4-0-0.png\n",
            "/content/drive/MyDrive/urbansound/spectrograms/4/71080-4-1-0.png\n",
            "/content/drive/MyDrive/urbansound/spectrograms/4/71082-4-0-0.png\n"
          ]
        },
        {
          "output_type": "stream",
          "name": "stderr",
          "text": [
            "7406it [01:27, 78.05it/s]"
          ]
        },
        {
          "output_type": "stream",
          "name": "stdout",
          "text": [
            "/content/drive/MyDrive/urbansound/spectrograms/4/71082-4-1-0.png\n",
            "/content/drive/MyDrive/urbansound/spectrograms/4/71086-4-0-0.png\n",
            "/content/drive/MyDrive/urbansound/spectrograms/4/71086-4-1-0.png\n",
            "/content/drive/MyDrive/urbansound/spectrograms/4/71086-4-2-0.png\n",
            "/content/drive/MyDrive/urbansound/spectrograms/4/71087-4-0-0.png\n",
            "/content/drive/MyDrive/urbansound/spectrograms/4/71087-4-1-0.png\n",
            "/content/drive/MyDrive/urbansound/spectrograms/4/71088-4-0-0.png\n",
            "/content/drive/MyDrive/urbansound/spectrograms/4/71088-4-1-0.png\n",
            "/content/drive/MyDrive/urbansound/spectrograms/4/71088-4-2-0.png\n",
            "/content/drive/MyDrive/urbansound/spectrograms/4/71171-4-0-0.png\n",
            "/content/drive/MyDrive/urbansound/spectrograms/4/71171-4-0-1.png\n",
            "/content/drive/MyDrive/urbansound/spectrograms/4/71171-4-0-2.png\n",
            "/content/drive/MyDrive/urbansound/spectrograms/4/71171-4-0-3.png\n",
            "/content/drive/MyDrive/urbansound/spectrograms/4/71171-4-0-4.png\n",
            "/content/drive/MyDrive/urbansound/spectrograms/4/71171-4-1-0.png\n",
            "/content/drive/MyDrive/urbansound/spectrograms/4/71171-4-1-1.png\n",
            "/content/drive/MyDrive/urbansound/spectrograms/4/71171-4-1-2.png\n"
          ]
        },
        {
          "output_type": "stream",
          "name": "stderr",
          "text": [
            "7425it [01:28, 82.76it/s]"
          ]
        },
        {
          "output_type": "stream",
          "name": "stdout",
          "text": [
            "/content/drive/MyDrive/urbansound/spectrograms/4/71171-4-1-3.png\n",
            "/content/drive/MyDrive/urbansound/spectrograms/4/71171-4-1-4.png\n",
            "/content/drive/MyDrive/urbansound/spectrograms/4/71171-4-1-5.png\n",
            "/content/drive/MyDrive/urbansound/spectrograms/4/71171-4-2-0.png\n",
            "/content/drive/MyDrive/urbansound/spectrograms/4/71171-4-2-1.png\n",
            "/content/drive/MyDrive/urbansound/spectrograms/4/71171-4-3-0.png\n",
            "/content/drive/MyDrive/urbansound/spectrograms/4/71171-4-3-1.png\n",
            "/content/drive/MyDrive/urbansound/spectrograms/4/71171-4-3-2.png\n",
            "/content/drive/MyDrive/urbansound/spectrograms/4/71171-4-4-0.png\n",
            "/content/drive/MyDrive/urbansound/spectrograms/4/71171-4-5-0.png\n",
            "/content/drive/MyDrive/urbansound/spectrograms/2/71173-2-0-103.png\n",
            "/content/drive/MyDrive/urbansound/spectrograms/2/71173-2-0-13.png\n",
            "/content/drive/MyDrive/urbansound/spectrograms/2/71173-2-0-17.png\n",
            "/content/drive/MyDrive/urbansound/spectrograms/2/71173-2-0-21.png\n",
            "/content/drive/MyDrive/urbansound/spectrograms/2/71173-2-0-24.png\n",
            "/content/drive/MyDrive/urbansound/spectrograms/2/71173-2-0-69.png\n",
            "/content/drive/MyDrive/urbansound/spectrograms/2/71173-2-0-71.png\n",
            "/content/drive/MyDrive/urbansound/spectrograms/2/71173-2-0-88.png\n"
          ]
        },
        {
          "output_type": "stream",
          "name": "stderr",
          "text": [
            "7443it [01:28, 83.53it/s]"
          ]
        },
        {
          "output_type": "stream",
          "name": "stdout",
          "text": [
            "/content/drive/MyDrive/urbansound/spectrograms/8/71177-8-0-0.png\n",
            "/content/drive/MyDrive/urbansound/spectrograms/8/71177-8-0-1.png\n",
            "/content/drive/MyDrive/urbansound/spectrograms/8/71177-8-1-0.png\n",
            "/content/drive/MyDrive/urbansound/spectrograms/8/71177-8-1-1.png\n",
            "/content/drive/MyDrive/urbansound/spectrograms/8/71177-8-1-2.png\n",
            "/content/drive/MyDrive/urbansound/spectrograms/8/71177-8-1-3.png\n",
            "/content/drive/MyDrive/urbansound/spectrograms/8/71177-8-1-4.png\n",
            "/content/drive/MyDrive/urbansound/spectrograms/8/71177-8-2-0.png\n",
            "/content/drive/MyDrive/urbansound/spectrograms/8/71177-8-2-1.png\n",
            "/content/drive/MyDrive/urbansound/spectrograms/1/71309-1-0-0.png\n",
            "/content/drive/MyDrive/urbansound/spectrograms/1/71309-1-0-1.png\n",
            "/content/drive/MyDrive/urbansound/spectrograms/1/71309-1-0-2.png\n",
            "/content/drive/MyDrive/urbansound/spectrograms/1/71309-1-0-3.png\n",
            "/content/drive/MyDrive/urbansound/spectrograms/1/71309-1-0-4.png\n",
            "/content/drive/MyDrive/urbansound/spectrograms/1/71309-1-0-5.png\n",
            "/content/drive/MyDrive/urbansound/spectrograms/1/71309-1-0-6.png\n",
            "/content/drive/MyDrive/urbansound/spectrograms/1/71309-1-0-7.png\n"
          ]
        },
        {
          "output_type": "stream",
          "name": "stderr",
          "text": [
            "7461it [01:28, 83.50it/s]"
          ]
        },
        {
          "output_type": "stream",
          "name": "stdout",
          "text": [
            "/content/drive/MyDrive/urbansound/spectrograms/1/71309-1-0-8.png\n",
            "/content/drive/MyDrive/urbansound/spectrograms/1/71309-1-1-0.png\n",
            "/content/drive/MyDrive/urbansound/spectrograms/1/71309-1-2-0.png\n",
            "/content/drive/MyDrive/urbansound/spectrograms/3/71312-3-0-1.png\n",
            "/content/drive/MyDrive/urbansound/spectrograms/3/71312-3-0-2.png\n",
            "/content/drive/MyDrive/urbansound/spectrograms/3/71312-3-0-4.png\n",
            "/content/drive/MyDrive/urbansound/spectrograms/3/71312-3-0-5.png\n",
            "/content/drive/MyDrive/urbansound/spectrograms/1/71439-1-0-0.png\n",
            "/content/drive/MyDrive/urbansound/spectrograms/1/71439-1-1-0.png\n",
            "/content/drive/MyDrive/urbansound/spectrograms/1/71439-1-2-0.png\n",
            "/content/drive/MyDrive/urbansound/spectrograms/1/71439-1-3-0.png\n",
            "/content/drive/MyDrive/urbansound/spectrograms/4/71529-4-0-0.png\n",
            "/content/drive/MyDrive/urbansound/spectrograms/4/71529-4-0-1.png\n",
            "/content/drive/MyDrive/urbansound/spectrograms/4/71529-4-0-2.png\n",
            "/content/drive/MyDrive/urbansound/spectrograms/4/71529-4-1-0.png\n",
            "/content/drive/MyDrive/urbansound/spectrograms/4/71529-4-1-1.png\n",
            "/content/drive/MyDrive/urbansound/spectrograms/4/71529-4-1-2.png\n",
            "/content/drive/MyDrive/urbansound/spectrograms/4/71529-4-1-3.png\n"
          ]
        },
        {
          "output_type": "stream",
          "name": "stderr",
          "text": [
            "7480it [01:28, 85.27it/s]"
          ]
        },
        {
          "output_type": "stream",
          "name": "stdout",
          "text": [
            "/content/drive/MyDrive/urbansound/spectrograms/4/71529-4-1-4.png\n",
            "/content/drive/MyDrive/urbansound/spectrograms/4/71529-4-1-5.png\n",
            "/content/drive/MyDrive/urbansound/spectrograms/4/71529-4-1-6.png\n",
            "/content/drive/MyDrive/urbansound/spectrograms/3/71700-3-3-2.png\n",
            "/content/drive/MyDrive/urbansound/spectrograms/3/71700-3-4-0.png\n",
            "/content/drive/MyDrive/urbansound/spectrograms/3/71700-3-4-1.png\n",
            "/content/drive/MyDrive/urbansound/spectrograms/3/71700-3-4-3.png\n",
            "/content/drive/MyDrive/urbansound/spectrograms/9/71866-9-0-14.png\n",
            "/content/drive/MyDrive/urbansound/spectrograms/9/71866-9-0-21.png\n",
            "/content/drive/MyDrive/urbansound/spectrograms/9/71866-9-0-23.png\n",
            "/content/drive/MyDrive/urbansound/spectrograms/9/71866-9-0-3.png\n",
            "/content/drive/MyDrive/urbansound/spectrograms/9/71866-9-0-31.png\n",
            "/content/drive/MyDrive/urbansound/spectrograms/9/71866-9-0-32.png\n",
            "/content/drive/MyDrive/urbansound/spectrograms/2/72015-2-0-0.png\n",
            "/content/drive/MyDrive/urbansound/spectrograms/2/72015-2-0-1.png\n",
            "/content/drive/MyDrive/urbansound/spectrograms/2/72015-2-0-2.png\n",
            "/content/drive/MyDrive/urbansound/spectrograms/2/72015-2-0-3.png\n",
            "/content/drive/MyDrive/urbansound/spectrograms/2/72015-2-0-4.png\n"
          ]
        },
        {
          "output_type": "stream",
          "name": "stderr",
          "text": [
            "7498it [01:28, 83.84it/s]"
          ]
        },
        {
          "output_type": "stream",
          "name": "stdout",
          "text": [
            "/content/drive/MyDrive/urbansound/spectrograms/2/72015-2-0-5.png\n",
            "/content/drive/MyDrive/urbansound/spectrograms/3/72220-3-0-0.png\n",
            "/content/drive/MyDrive/urbansound/spectrograms/3/72220-3-2-2.png\n",
            "/content/drive/MyDrive/urbansound/spectrograms/3/72220-3-2-3.png\n",
            "/content/drive/MyDrive/urbansound/spectrograms/3/72220-3-2-4.png\n",
            "/content/drive/MyDrive/urbansound/spectrograms/3/72221-3-1-0.png\n",
            "/content/drive/MyDrive/urbansound/spectrograms/3/72221-3-4-1.png\n",
            "/content/drive/MyDrive/urbansound/spectrograms/3/72221-3-4-5.png\n",
            "/content/drive/MyDrive/urbansound/spectrograms/3/72221-3-4-7.png\n",
            "/content/drive/MyDrive/urbansound/spectrograms/1/72259-1-0-0.png\n",
            "/content/drive/MyDrive/urbansound/spectrograms/1/72259-1-0-1.png\n",
            "/content/drive/MyDrive/urbansound/spectrograms/1/72259-1-0-2.png\n",
            "/content/drive/MyDrive/urbansound/spectrograms/1/72259-1-0-3.png\n",
            "/content/drive/MyDrive/urbansound/spectrograms/1/72259-1-0-4.png\n",
            "/content/drive/MyDrive/urbansound/spectrograms/1/72259-1-0-5.png\n",
            "/content/drive/MyDrive/urbansound/spectrograms/1/72259-1-1-0.png\n",
            "/content/drive/MyDrive/urbansound/spectrograms/1/72259-1-10-0.png\n"
          ]
        },
        {
          "output_type": "stream",
          "name": "stderr",
          "text": [
            "7516it [01:29, 82.41it/s]"
          ]
        },
        {
          "output_type": "stream",
          "name": "stdout",
          "text": [
            "/content/drive/MyDrive/urbansound/spectrograms/1/72259-1-10-1.png\n",
            "/content/drive/MyDrive/urbansound/spectrograms/1/72259-1-10-10.png\n",
            "/content/drive/MyDrive/urbansound/spectrograms/1/72259-1-10-11.png\n",
            "/content/drive/MyDrive/urbansound/spectrograms/1/72259-1-10-12.png\n",
            "/content/drive/MyDrive/urbansound/spectrograms/1/72259-1-10-13.png\n",
            "/content/drive/MyDrive/urbansound/spectrograms/1/72259-1-10-14.png\n",
            "/content/drive/MyDrive/urbansound/spectrograms/1/72259-1-10-2.png\n",
            "/content/drive/MyDrive/urbansound/spectrograms/1/72259-1-10-3.png\n",
            "/content/drive/MyDrive/urbansound/spectrograms/1/72259-1-10-4.png\n",
            "/content/drive/MyDrive/urbansound/spectrograms/1/72259-1-10-5.png\n",
            "/content/drive/MyDrive/urbansound/spectrograms/1/72259-1-10-6.png\n",
            "/content/drive/MyDrive/urbansound/spectrograms/1/72259-1-10-7.png\n",
            "/content/drive/MyDrive/urbansound/spectrograms/1/72259-1-10-8.png\n",
            "/content/drive/MyDrive/urbansound/spectrograms/1/72259-1-10-9.png\n",
            "/content/drive/MyDrive/urbansound/spectrograms/1/72259-1-2-0.png\n",
            "/content/drive/MyDrive/urbansound/spectrograms/1/72259-1-3-0.png\n",
            "/content/drive/MyDrive/urbansound/spectrograms/1/72259-1-5-0.png\n"
          ]
        },
        {
          "output_type": "stream",
          "name": "stderr",
          "text": [
            "7535it [01:29, 86.30it/s]"
          ]
        },
        {
          "output_type": "stream",
          "name": "stdout",
          "text": [
            "/content/drive/MyDrive/urbansound/spectrograms/1/72259-1-5-1.png\n",
            "/content/drive/MyDrive/urbansound/spectrograms/1/72259-1-5-2.png\n",
            "/content/drive/MyDrive/urbansound/spectrograms/1/72259-1-5-3.png\n",
            "/content/drive/MyDrive/urbansound/spectrograms/1/72259-1-5-4.png\n",
            "/content/drive/MyDrive/urbansound/spectrograms/1/72259-1-6-0.png\n",
            "/content/drive/MyDrive/urbansound/spectrograms/1/72259-1-6-1.png\n",
            "/content/drive/MyDrive/urbansound/spectrograms/1/72259-1-7-0.png\n",
            "/content/drive/MyDrive/urbansound/spectrograms/1/72259-1-7-1.png\n",
            "/content/drive/MyDrive/urbansound/spectrograms/1/72259-1-7-10.png\n",
            "/content/drive/MyDrive/urbansound/spectrograms/1/72259-1-7-11.png\n",
            "/content/drive/MyDrive/urbansound/spectrograms/1/72259-1-7-12.png\n",
            "/content/drive/MyDrive/urbansound/spectrograms/1/72259-1-7-13.png\n",
            "/content/drive/MyDrive/urbansound/spectrograms/1/72259-1-7-14.png\n",
            "/content/drive/MyDrive/urbansound/spectrograms/1/72259-1-7-15.png\n",
            "/content/drive/MyDrive/urbansound/spectrograms/1/72259-1-7-16.png\n",
            "/content/drive/MyDrive/urbansound/spectrograms/1/72259-1-7-17.png\n",
            "/content/drive/MyDrive/urbansound/spectrograms/1/72259-1-7-18.png\n",
            "/content/drive/MyDrive/urbansound/spectrograms/1/72259-1-7-19.png\n",
            "/content/drive/MyDrive/urbansound/spectrograms/1/72259-1-7-2.png\n"
          ]
        },
        {
          "output_type": "stream",
          "name": "stderr",
          "text": [
            "7554it [01:29, 84.76it/s]"
          ]
        },
        {
          "output_type": "stream",
          "name": "stdout",
          "text": [
            "/content/drive/MyDrive/urbansound/spectrograms/1/72259-1-7-20.png\n",
            "/content/drive/MyDrive/urbansound/spectrograms/1/72259-1-7-21.png\n",
            "/content/drive/MyDrive/urbansound/spectrograms/1/72259-1-7-22.png\n",
            "/content/drive/MyDrive/urbansound/spectrograms/1/72259-1-7-3.png\n",
            "/content/drive/MyDrive/urbansound/spectrograms/1/72259-1-7-4.png\n",
            "/content/drive/MyDrive/urbansound/spectrograms/1/72259-1-7-5.png\n",
            "/content/drive/MyDrive/urbansound/spectrograms/1/72259-1-7-6.png\n",
            "/content/drive/MyDrive/urbansound/spectrograms/1/72259-1-7-7.png\n",
            "/content/drive/MyDrive/urbansound/spectrograms/1/72259-1-7-8.png\n",
            "/content/drive/MyDrive/urbansound/spectrograms/1/72259-1-7-9.png\n",
            "/content/drive/MyDrive/urbansound/spectrograms/1/72259-1-8-0.png\n",
            "/content/drive/MyDrive/urbansound/spectrograms/1/72259-1-9-0.png\n",
            "/content/drive/MyDrive/urbansound/spectrograms/1/72259-1-9-1.png\n",
            "/content/drive/MyDrive/urbansound/spectrograms/1/72259-1-9-10.png\n",
            "/content/drive/MyDrive/urbansound/spectrograms/1/72259-1-9-11.png\n",
            "/content/drive/MyDrive/urbansound/spectrograms/1/72259-1-9-12.png\n",
            "/content/drive/MyDrive/urbansound/spectrograms/1/72259-1-9-13.png\n",
            "/content/drive/MyDrive/urbansound/spectrograms/1/72259-1-9-14.png\n"
          ]
        },
        {
          "output_type": "stream",
          "name": "stderr",
          "text": [
            "7572it [01:29, 84.99it/s]"
          ]
        },
        {
          "output_type": "stream",
          "name": "stdout",
          "text": [
            "/content/drive/MyDrive/urbansound/spectrograms/1/72259-1-9-15.png\n",
            "/content/drive/MyDrive/urbansound/spectrograms/1/72259-1-9-16.png\n",
            "/content/drive/MyDrive/urbansound/spectrograms/1/72259-1-9-17.png\n",
            "/content/drive/MyDrive/urbansound/spectrograms/1/72259-1-9-2.png\n",
            "/content/drive/MyDrive/urbansound/spectrograms/1/72259-1-9-3.png\n",
            "/content/drive/MyDrive/urbansound/spectrograms/1/72259-1-9-4.png\n",
            "/content/drive/MyDrive/urbansound/spectrograms/1/72259-1-9-5.png\n",
            "/content/drive/MyDrive/urbansound/spectrograms/1/72259-1-9-6.png\n",
            "/content/drive/MyDrive/urbansound/spectrograms/1/72259-1-9-7.png\n",
            "/content/drive/MyDrive/urbansound/spectrograms/1/72259-1-9-8.png\n",
            "/content/drive/MyDrive/urbansound/spectrograms/1/72259-1-9-9.png\n",
            "/content/drive/MyDrive/urbansound/spectrograms/3/72261-3-0-17.png\n",
            "/content/drive/MyDrive/urbansound/spectrograms/3/72261-3-0-23.png\n",
            "/content/drive/MyDrive/urbansound/spectrograms/3/72261-3-0-27.png\n",
            "/content/drive/MyDrive/urbansound/spectrograms/3/72261-3-0-6.png\n",
            "/content/drive/MyDrive/urbansound/spectrograms/3/72265-3-15-0.png\n",
            "/content/drive/MyDrive/urbansound/spectrograms/3/72265-3-4-0.png\n",
            "/content/drive/MyDrive/urbansound/spectrograms/3/72265-3-5-0.png\n"
          ]
        },
        {
          "output_type": "stream",
          "name": "stderr",
          "text": [
            "7591it [01:30, 87.15it/s]"
          ]
        },
        {
          "output_type": "stream",
          "name": "stdout",
          "text": [
            "/content/drive/MyDrive/urbansound/spectrograms/3/72265-3-7-0.png\n",
            "/content/drive/MyDrive/urbansound/spectrograms/3/72537-3-0-2.png\n",
            "/content/drive/MyDrive/urbansound/spectrograms/3/72537-3-0-6.png\n",
            "/content/drive/MyDrive/urbansound/spectrograms/3/72537-3-0-8.png\n",
            "/content/drive/MyDrive/urbansound/spectrograms/3/72538-3-0-0.png\n",
            "/content/drive/MyDrive/urbansound/spectrograms/3/72538-3-0-1.png\n",
            "/content/drive/MyDrive/urbansound/spectrograms/3/72538-3-0-3.png\n",
            "/content/drive/MyDrive/urbansound/spectrograms/3/72538-3-0-4.png\n",
            "/content/drive/MyDrive/urbansound/spectrograms/3/72539-3-0-1.png\n",
            "/content/drive/MyDrive/urbansound/spectrograms/3/72539-3-0-5.png\n",
            "/content/drive/MyDrive/urbansound/spectrograms/3/72539-3-0-6.png\n",
            "/content/drive/MyDrive/urbansound/spectrograms/3/72539-3-0-8.png\n",
            "/content/drive/MyDrive/urbansound/spectrograms/1/72567-1-0-0.png\n",
            "/content/drive/MyDrive/urbansound/spectrograms/1/72567-1-0-1.png\n",
            "/content/drive/MyDrive/urbansound/spectrograms/1/72567-1-1-0.png\n",
            "/content/drive/MyDrive/urbansound/spectrograms/1/72567-1-2-0.png\n",
            "/content/drive/MyDrive/urbansound/spectrograms/1/72567-1-2-1.png\n",
            "/content/drive/MyDrive/urbansound/spectrograms/1/72567-1-2-2.png\n",
            "/content/drive/MyDrive/urbansound/spectrograms/1/72567-1-2-3.png\n"
          ]
        },
        {
          "output_type": "stream",
          "name": "stderr",
          "text": [
            "7609it [01:30, 87.24it/s]"
          ]
        },
        {
          "output_type": "stream",
          "name": "stdout",
          "text": [
            "/content/drive/MyDrive/urbansound/spectrograms/1/72567-1-2-4.png\n",
            "/content/drive/MyDrive/urbansound/spectrograms/1/72567-1-2-5.png\n",
            "/content/drive/MyDrive/urbansound/spectrograms/1/72567-1-3-0.png\n",
            "/content/drive/MyDrive/urbansound/spectrograms/1/72567-1-4-0.png\n",
            "/content/drive/MyDrive/urbansound/spectrograms/1/72567-1-4-1.png\n",
            "/content/drive/MyDrive/urbansound/spectrograms/1/72567-1-4-2.png\n",
            "/content/drive/MyDrive/urbansound/spectrograms/1/72567-1-4-3.png\n",
            "/content/drive/MyDrive/urbansound/spectrograms/1/72567-1-4-4.png\n",
            "/content/drive/MyDrive/urbansound/spectrograms/1/72567-1-4-5.png\n",
            "/content/drive/MyDrive/urbansound/spectrograms/1/72567-1-4-6.png\n",
            "/content/drive/MyDrive/urbansound/spectrograms/1/72567-1-4-7.png\n",
            "/content/drive/MyDrive/urbansound/spectrograms/1/72567-1-5-0.png\n",
            "/content/drive/MyDrive/urbansound/spectrograms/3/72579-3-0-0.png\n",
            "/content/drive/MyDrive/urbansound/spectrograms/3/72579-3-0-2.png\n",
            "/content/drive/MyDrive/urbansound/spectrograms/3/72579-3-0-3.png\n",
            "/content/drive/MyDrive/urbansound/spectrograms/3/72579-3-0-4.png\n",
            "/content/drive/MyDrive/urbansound/spectrograms/3/72723-3-0-0.png\n",
            "/content/drive/MyDrive/urbansound/spectrograms/3/72724-3-1-0.png\n",
            "/content/drive/MyDrive/urbansound/spectrograms/3/72724-3-2-7.png\n"
          ]
        },
        {
          "output_type": "stream",
          "name": "stderr",
          "text": [
            "\r7620it [01:30, 91.54it/s]"
          ]
        },
        {
          "output_type": "stream",
          "name": "stdout",
          "text": [
            "/content/drive/MyDrive/urbansound/spectrograms/3/72724-3-2-8.png\n",
            "/content/drive/MyDrive/urbansound/spectrograms/3/72724-3-2-9.png\n",
            "/content/drive/MyDrive/urbansound/spectrograms/3/72829-3-0-0.png\n",
            "/content/drive/MyDrive/urbansound/spectrograms/3/72829-3-0-1.png\n",
            "/content/drive/MyDrive/urbansound/spectrograms/3/72829-3-0-2.png\n",
            "/content/drive/MyDrive/urbansound/spectrograms/1/73168-1-0-0.png\n",
            "/content/drive/MyDrive/urbansound/spectrograms/1/73168-1-1-0.png\n",
            "/content/drive/MyDrive/urbansound/spectrograms/1/73168-1-2-0.png\n",
            "/content/drive/MyDrive/urbansound/spectrograms/9/73277-9-0-0.png\n",
            "/content/drive/MyDrive/urbansound/spectrograms/9/73277-9-0-16.png\n",
            "/content/drive/MyDrive/urbansound/spectrograms/9/73277-9-0-17.png\n",
            "/content/drive/MyDrive/urbansound/spectrograms/9/73277-9-0-19.png\n",
            "/content/drive/MyDrive/urbansound/spectrograms/9/73277-9-0-24.png\n",
            "/content/drive/MyDrive/urbansound/spectrograms/9/73277-9-0-28.png\n",
            "/content/drive/MyDrive/urbansound/spectrograms/3/73373-3-0-0.png\n",
            "/content/drive/MyDrive/urbansound/spectrograms/0/73524-0-0-0.png\n",
            "/content/drive/MyDrive/urbansound/spectrograms/0/73524-0-0-101.png\n",
            "/content/drive/MyDrive/urbansound/spectrograms/0/73524-0-0-105.png\n",
            "/content/drive/MyDrive/urbansound/spectrograms/0/73524-0-0-113.png\n"
          ]
        },
        {
          "output_type": "stream",
          "name": "stderr",
          "text": [
            "7639it [01:30, 85.20it/s]"
          ]
        },
        {
          "output_type": "stream",
          "name": "stdout",
          "text": [
            "/content/drive/MyDrive/urbansound/spectrograms/0/73524-0-0-114.png\n",
            "/content/drive/MyDrive/urbansound/spectrograms/0/73524-0-0-126.png\n",
            "/content/drive/MyDrive/urbansound/spectrograms/0/73524-0-0-127.png\n",
            "/content/drive/MyDrive/urbansound/spectrograms/0/73524-0-0-128.png\n",
            "/content/drive/MyDrive/urbansound/spectrograms/0/73524-0-0-133.png\n",
            "/content/drive/MyDrive/urbansound/spectrograms/0/73524-0-0-137.png\n",
            "/content/drive/MyDrive/urbansound/spectrograms/0/73524-0-0-2.png\n",
            "/content/drive/MyDrive/urbansound/spectrograms/0/73524-0-0-23.png\n",
            "/content/drive/MyDrive/urbansound/spectrograms/0/73524-0-0-30.png\n",
            "/content/drive/MyDrive/urbansound/spectrograms/0/73524-0-0-31.png\n",
            "/content/drive/MyDrive/urbansound/spectrograms/0/73524-0-0-32.png\n",
            "/content/drive/MyDrive/urbansound/spectrograms/0/73524-0-0-5.png\n",
            "/content/drive/MyDrive/urbansound/spectrograms/0/73524-0-0-52.png\n",
            "/content/drive/MyDrive/urbansound/spectrograms/0/73524-0-0-54.png\n",
            "/content/drive/MyDrive/urbansound/spectrograms/0/73524-0-0-6.png\n",
            "/content/drive/MyDrive/urbansound/spectrograms/0/73524-0-0-63.png\n",
            "/content/drive/MyDrive/urbansound/spectrograms/0/73524-0-0-73.png\n"
          ]
        },
        {
          "output_type": "stream",
          "name": "stderr",
          "text": [
            "7658it [01:30, 83.94it/s]"
          ]
        },
        {
          "output_type": "stream",
          "name": "stdout",
          "text": [
            "/content/drive/MyDrive/urbansound/spectrograms/0/73524-0-0-74.png\n",
            "/content/drive/MyDrive/urbansound/spectrograms/0/73524-0-0-8.png\n",
            "/content/drive/MyDrive/urbansound/spectrograms/0/73524-0-0-92.png\n",
            "/content/drive/MyDrive/urbansound/spectrograms/0/73524-0-0-98.png\n",
            "/content/drive/MyDrive/urbansound/spectrograms/0/73524-0-0-99.png\n",
            "/content/drive/MyDrive/urbansound/spectrograms/7/73623-7-0-0.png\n",
            "/content/drive/MyDrive/urbansound/spectrograms/7/73623-7-1-0.png\n",
            "/content/drive/MyDrive/urbansound/spectrograms/7/73623-7-1-1.png\n",
            "/content/drive/MyDrive/urbansound/spectrograms/7/73623-7-2-0.png\n",
            "/content/drive/MyDrive/urbansound/spectrograms/7/73623-7-3-0.png\n",
            "/content/drive/MyDrive/urbansound/spectrograms/7/73623-7-4-0.png\n",
            "/content/drive/MyDrive/urbansound/spectrograms/7/73623-7-5-0.png\n",
            "/content/drive/MyDrive/urbansound/spectrograms/7/73623-7-6-0.png\n",
            "/content/drive/MyDrive/urbansound/spectrograms/3/7383-3-0-0.png\n",
            "/content/drive/MyDrive/urbansound/spectrograms/3/7383-3-0-1.png\n",
            "/content/drive/MyDrive/urbansound/spectrograms/3/7383-3-1-0.png\n"
          ]
        },
        {
          "output_type": "stream",
          "name": "stderr",
          "text": [
            "7676it [01:31, 83.50it/s]"
          ]
        },
        {
          "output_type": "stream",
          "name": "stdout",
          "text": [
            "/content/drive/MyDrive/urbansound/spectrograms/1/7389-1-0-0.png\n",
            "/content/drive/MyDrive/urbansound/spectrograms/1/7389-1-0-1.png\n",
            "/content/drive/MyDrive/urbansound/spectrograms/1/7389-1-0-2.png\n",
            "/content/drive/MyDrive/urbansound/spectrograms/1/7389-1-0-3.png\n",
            "/content/drive/MyDrive/urbansound/spectrograms/1/7389-1-0-4.png\n",
            "/content/drive/MyDrive/urbansound/spectrograms/1/7389-1-0-5.png\n",
            "/content/drive/MyDrive/urbansound/spectrograms/1/7389-1-0-6.png\n",
            "/content/drive/MyDrive/urbansound/spectrograms/1/7389-1-0-7.png\n",
            "/content/drive/MyDrive/urbansound/spectrograms/1/7389-1-1-0.png\n",
            "/content/drive/MyDrive/urbansound/spectrograms/1/7389-1-2-0.png\n",
            "/content/drive/MyDrive/urbansound/spectrograms/1/7389-1-2-1.png\n",
            "/content/drive/MyDrive/urbansound/spectrograms/1/7389-1-2-2.png\n",
            "/content/drive/MyDrive/urbansound/spectrograms/1/7389-1-2-3.png\n",
            "/content/drive/MyDrive/urbansound/spectrograms/1/7389-1-3-0.png\n",
            "/content/drive/MyDrive/urbansound/spectrograms/1/7389-1-3-1.png\n",
            "/content/drive/MyDrive/urbansound/spectrograms/1/7389-1-3-2.png\n",
            "/content/drive/MyDrive/urbansound/spectrograms/1/7389-1-3-3.png\n"
          ]
        },
        {
          "output_type": "stream",
          "name": "stderr",
          "text": [
            "7694it [01:31, 81.03it/s]"
          ]
        },
        {
          "output_type": "stream",
          "name": "stdout",
          "text": [
            "/content/drive/MyDrive/urbansound/spectrograms/1/7389-1-3-4.png\n",
            "/content/drive/MyDrive/urbansound/spectrograms/1/7389-1-3-5.png\n",
            "/content/drive/MyDrive/urbansound/spectrograms/1/7389-1-4-0.png\n",
            "/content/drive/MyDrive/urbansound/spectrograms/1/7389-1-4-1.png\n",
            "/content/drive/MyDrive/urbansound/spectrograms/1/7389-1-4-10.png\n",
            "/content/drive/MyDrive/urbansound/spectrograms/1/7389-1-4-11.png\n",
            "/content/drive/MyDrive/urbansound/spectrograms/1/7389-1-4-12.png\n",
            "/content/drive/MyDrive/urbansound/spectrograms/1/7389-1-4-13.png\n",
            "/content/drive/MyDrive/urbansound/spectrograms/1/7389-1-4-14.png\n",
            "/content/drive/MyDrive/urbansound/spectrograms/1/7389-1-4-15.png\n",
            "/content/drive/MyDrive/urbansound/spectrograms/1/7389-1-4-2.png\n",
            "/content/drive/MyDrive/urbansound/spectrograms/1/7389-1-4-3.png\n",
            "/content/drive/MyDrive/urbansound/spectrograms/1/7389-1-4-4.png\n",
            "/content/drive/MyDrive/urbansound/spectrograms/1/7389-1-4-5.png\n",
            "/content/drive/MyDrive/urbansound/spectrograms/1/7389-1-4-6.png\n",
            "/content/drive/MyDrive/urbansound/spectrograms/1/7389-1-4-7.png\n"
          ]
        },
        {
          "output_type": "stream",
          "name": "stderr",
          "text": [
            "7713it [01:31, 84.98it/s]"
          ]
        },
        {
          "output_type": "stream",
          "name": "stdout",
          "text": [
            "/content/drive/MyDrive/urbansound/spectrograms/1/7389-1-4-8.png\n",
            "/content/drive/MyDrive/urbansound/spectrograms/1/7389-1-4-9.png\n",
            "/content/drive/MyDrive/urbansound/spectrograms/9/7390-9-0-0.png\n",
            "/content/drive/MyDrive/urbansound/spectrograms/9/7390-9-0-3.png\n",
            "/content/drive/MyDrive/urbansound/spectrograms/9/7390-9-0-6.png\n",
            "/content/drive/MyDrive/urbansound/spectrograms/9/7390-9-0-9.png\n",
            "/content/drive/MyDrive/urbansound/spectrograms/9/7390-9-1-11.png\n",
            "/content/drive/MyDrive/urbansound/spectrograms/9/7390-9-1-12.png\n",
            "/content/drive/MyDrive/urbansound/spectrograms/9/7390-9-1-5.png\n",
            "/content/drive/MyDrive/urbansound/spectrograms/9/74226-9-0-0.png\n",
            "/content/drive/MyDrive/urbansound/spectrograms/9/74226-9-0-10.png\n",
            "/content/drive/MyDrive/urbansound/spectrograms/9/74226-9-0-13.png\n",
            "/content/drive/MyDrive/urbansound/spectrograms/9/74226-9-0-14.png\n",
            "/content/drive/MyDrive/urbansound/spectrograms/9/74226-9-0-21.png\n",
            "/content/drive/MyDrive/urbansound/spectrograms/9/74226-9-0-6.png\n",
            "/content/drive/MyDrive/urbansound/spectrograms/9/74226-9-0-7.png\n",
            "/content/drive/MyDrive/urbansound/spectrograms/8/74364-8-1-0.png\n",
            "/content/drive/MyDrive/urbansound/spectrograms/8/74364-8-1-1.png\n",
            "/content/drive/MyDrive/urbansound/spectrograms/8/74364-8-1-10.png\n"
          ]
        },
        {
          "output_type": "stream",
          "name": "stderr",
          "text": [
            "7731it [01:31, 83.15it/s]"
          ]
        },
        {
          "output_type": "stream",
          "name": "stdout",
          "text": [
            "/content/drive/MyDrive/urbansound/spectrograms/8/74364-8-1-11.png\n",
            "/content/drive/MyDrive/urbansound/spectrograms/8/74364-8-1-12.png\n",
            "/content/drive/MyDrive/urbansound/spectrograms/8/74364-8-1-13.png\n",
            "/content/drive/MyDrive/urbansound/spectrograms/8/74364-8-1-14.png\n",
            "/content/drive/MyDrive/urbansound/spectrograms/8/74364-8-1-15.png\n",
            "/content/drive/MyDrive/urbansound/spectrograms/8/74364-8-1-16.png\n",
            "/content/drive/MyDrive/urbansound/spectrograms/8/74364-8-1-17.png\n",
            "/content/drive/MyDrive/urbansound/spectrograms/8/74364-8-1-18.png\n",
            "/content/drive/MyDrive/urbansound/spectrograms/8/74364-8-1-19.png\n",
            "/content/drive/MyDrive/urbansound/spectrograms/8/74364-8-1-2.png\n",
            "/content/drive/MyDrive/urbansound/spectrograms/8/74364-8-1-20.png\n",
            "/content/drive/MyDrive/urbansound/spectrograms/8/74364-8-1-21.png\n",
            "/content/drive/MyDrive/urbansound/spectrograms/8/74364-8-1-22.png\n",
            "/content/drive/MyDrive/urbansound/spectrograms/8/74364-8-1-23.png\n",
            "/content/drive/MyDrive/urbansound/spectrograms/8/74364-8-1-24.png\n",
            "/content/drive/MyDrive/urbansound/spectrograms/8/74364-8-1-25.png\n",
            "/content/drive/MyDrive/urbansound/spectrograms/8/74364-8-1-26.png\n"
          ]
        },
        {
          "output_type": "stream",
          "name": "stderr",
          "text": [
            "7749it [01:31, 80.92it/s]"
          ]
        },
        {
          "output_type": "stream",
          "name": "stdout",
          "text": [
            "/content/drive/MyDrive/urbansound/spectrograms/8/74364-8-1-27.png\n",
            "/content/drive/MyDrive/urbansound/spectrograms/8/74364-8-1-3.png\n",
            "/content/drive/MyDrive/urbansound/spectrograms/8/74364-8-1-4.png\n",
            "/content/drive/MyDrive/urbansound/spectrograms/8/74364-8-1-5.png\n",
            "/content/drive/MyDrive/urbansound/spectrograms/8/74364-8-1-6.png\n",
            "/content/drive/MyDrive/urbansound/spectrograms/8/74364-8-1-7.png\n",
            "/content/drive/MyDrive/urbansound/spectrograms/8/74364-8-1-8.png\n",
            "/content/drive/MyDrive/urbansound/spectrograms/8/74364-8-1-9.png\n",
            "/content/drive/MyDrive/urbansound/spectrograms/9/74458-9-0-5.png\n",
            "/content/drive/MyDrive/urbansound/spectrograms/9/74458-9-0-7.png\n",
            "/content/drive/MyDrive/urbansound/spectrograms/9/74458-9-1-12.png\n",
            "/content/drive/MyDrive/urbansound/spectrograms/9/74458-9-1-13.png\n",
            "/content/drive/MyDrive/urbansound/spectrograms/9/74458-9-1-5.png\n",
            "/content/drive/MyDrive/urbansound/spectrograms/9/74458-9-2-18.png\n",
            "/content/drive/MyDrive/urbansound/spectrograms/3/74495-3-0-0.png\n",
            "/content/drive/MyDrive/urbansound/spectrograms/3/74495-3-0-1.png\n",
            "/content/drive/MyDrive/urbansound/spectrograms/0/74507-0-0-0.png\n"
          ]
        },
        {
          "output_type": "stream",
          "name": "stderr",
          "text": [
            "\r7758it [01:32, 78.07it/s]"
          ]
        },
        {
          "output_type": "stream",
          "name": "stdout",
          "text": [
            "/content/drive/MyDrive/urbansound/spectrograms/0/74507-0-0-1.png\n",
            "/content/drive/MyDrive/urbansound/spectrograms/0/74507-0-0-10.png\n",
            "/content/drive/MyDrive/urbansound/spectrograms/0/74507-0-0-11.png\n",
            "/content/drive/MyDrive/urbansound/spectrograms/0/74507-0-0-12.png\n",
            "/content/drive/MyDrive/urbansound/spectrograms/0/74507-0-0-13.png\n",
            "/content/drive/MyDrive/urbansound/spectrograms/0/74507-0-0-14.png\n",
            "/content/drive/MyDrive/urbansound/spectrograms/0/74507-0-0-15.png\n",
            "/content/drive/MyDrive/urbansound/spectrograms/0/74507-0-0-16.png\n",
            "/content/drive/MyDrive/urbansound/spectrograms/0/74507-0-0-17.png\n",
            "/content/drive/MyDrive/urbansound/spectrograms/0/74507-0-0-18.png\n",
            "/content/drive/MyDrive/urbansound/spectrograms/0/74507-0-0-2.png\n",
            "/content/drive/MyDrive/urbansound/spectrograms/0/74507-0-0-20.png\n",
            "/content/drive/MyDrive/urbansound/spectrograms/0/74507-0-0-22.png\n",
            "/content/drive/MyDrive/urbansound/spectrograms/0/74507-0-0-23.png\n",
            "/content/drive/MyDrive/urbansound/spectrograms/0/74507-0-0-24.png\n",
            "/content/drive/MyDrive/urbansound/spectrograms/0/74507-0-0-25.png\n"
          ]
        },
        {
          "output_type": "stream",
          "name": "stderr",
          "text": [
            "7776it [01:32, 82.05it/s]"
          ]
        },
        {
          "output_type": "stream",
          "name": "stdout",
          "text": [
            "/content/drive/MyDrive/urbansound/spectrograms/0/74507-0-0-27.png\n",
            "/content/drive/MyDrive/urbansound/spectrograms/0/74507-0-0-28.png\n",
            "/content/drive/MyDrive/urbansound/spectrograms/0/74507-0-0-3.png\n",
            "/content/drive/MyDrive/urbansound/spectrograms/0/74507-0-0-4.png\n",
            "/content/drive/MyDrive/urbansound/spectrograms/0/74507-0-0-5.png\n",
            "/content/drive/MyDrive/urbansound/spectrograms/0/74507-0-0-6.png\n",
            "/content/drive/MyDrive/urbansound/spectrograms/0/74507-0-0-8.png\n",
            "/content/drive/MyDrive/urbansound/spectrograms/0/74507-0-0-9.png\n",
            "/content/drive/MyDrive/urbansound/spectrograms/3/74513-3-0-0.png\n",
            "/content/drive/MyDrive/urbansound/spectrograms/3/74513-3-0-3.png\n",
            "/content/drive/MyDrive/urbansound/spectrograms/3/74513-3-0-5.png\n",
            "/content/drive/MyDrive/urbansound/spectrograms/3/74513-3-0-6.png\n",
            "/content/drive/MyDrive/urbansound/spectrograms/0/74677-0-0-0.png\n",
            "/content/drive/MyDrive/urbansound/spectrograms/0/74677-0-0-10.png\n",
            "/content/drive/MyDrive/urbansound/spectrograms/0/74677-0-0-105.png\n",
            "/content/drive/MyDrive/urbansound/spectrograms/0/74677-0-0-116.png\n",
            "/content/drive/MyDrive/urbansound/spectrograms/0/74677-0-0-13.png\n",
            "/content/drive/MyDrive/urbansound/spectrograms/0/74677-0-0-130.png\n"
          ]
        },
        {
          "output_type": "stream",
          "name": "stderr",
          "text": [
            "7795it [01:32, 84.34it/s]"
          ]
        },
        {
          "output_type": "stream",
          "name": "stdout",
          "text": [
            "/content/drive/MyDrive/urbansound/spectrograms/0/74677-0-0-134.png\n",
            "/content/drive/MyDrive/urbansound/spectrograms/0/74677-0-0-135.png\n",
            "/content/drive/MyDrive/urbansound/spectrograms/0/74677-0-0-14.png\n",
            "/content/drive/MyDrive/urbansound/spectrograms/0/74677-0-0-19.png\n",
            "/content/drive/MyDrive/urbansound/spectrograms/0/74677-0-0-2.png\n",
            "/content/drive/MyDrive/urbansound/spectrograms/0/74677-0-0-21.png\n",
            "/content/drive/MyDrive/urbansound/spectrograms/0/74677-0-0-28.png\n",
            "/content/drive/MyDrive/urbansound/spectrograms/0/74677-0-0-3.png\n",
            "/content/drive/MyDrive/urbansound/spectrograms/0/74677-0-0-35.png\n",
            "/content/drive/MyDrive/urbansound/spectrograms/0/74677-0-0-36.png\n",
            "/content/drive/MyDrive/urbansound/spectrograms/0/74677-0-0-38.png\n",
            "/content/drive/MyDrive/urbansound/spectrograms/0/74677-0-0-47.png\n",
            "/content/drive/MyDrive/urbansound/spectrograms/0/74677-0-0-56.png\n",
            "/content/drive/MyDrive/urbansound/spectrograms/0/74677-0-0-57.png\n",
            "/content/drive/MyDrive/urbansound/spectrograms/0/74677-0-0-58.png\n",
            "/content/drive/MyDrive/urbansound/spectrograms/0/74677-0-0-6.png\n"
          ]
        },
        {
          "output_type": "stream",
          "name": "stderr",
          "text": [
            "7813it [01:32, 81.89it/s]"
          ]
        },
        {
          "output_type": "stream",
          "name": "stdout",
          "text": [
            "/content/drive/MyDrive/urbansound/spectrograms/0/74677-0-0-61.png\n",
            "/content/drive/MyDrive/urbansound/spectrograms/0/74677-0-0-64.png\n",
            "/content/drive/MyDrive/urbansound/spectrograms/0/74677-0-0-66.png\n",
            "/content/drive/MyDrive/urbansound/spectrograms/0/74677-0-0-67.png\n",
            "/content/drive/MyDrive/urbansound/spectrograms/0/74677-0-0-69.png\n",
            "/content/drive/MyDrive/urbansound/spectrograms/0/74677-0-0-75.png\n",
            "/content/drive/MyDrive/urbansound/spectrograms/0/74677-0-0-92.png\n",
            "/content/drive/MyDrive/urbansound/spectrograms/0/74677-0-0-94.png\n",
            "/content/drive/MyDrive/urbansound/spectrograms/0/74677-0-0-95.png\n",
            "/content/drive/MyDrive/urbansound/spectrograms/3/74723-3-0-0.png\n",
            "/content/drive/MyDrive/urbansound/spectrograms/3/74723-3-0-1.png\n",
            "/content/drive/MyDrive/urbansound/spectrograms/3/74723-3-0-2.png\n",
            "/content/drive/MyDrive/urbansound/spectrograms/3/74725-3-0-0.png\n",
            "/content/drive/MyDrive/urbansound/spectrograms/3/74725-3-0-1.png\n",
            "/content/drive/MyDrive/urbansound/spectrograms/8/74726-8-0-0.png\n",
            "/content/drive/MyDrive/urbansound/spectrograms/8/74726-8-0-1.png\n",
            "/content/drive/MyDrive/urbansound/spectrograms/8/74726-8-0-10.png\n"
          ]
        },
        {
          "output_type": "stream",
          "name": "stderr",
          "text": [
            "7831it [01:32, 85.26it/s]"
          ]
        },
        {
          "output_type": "stream",
          "name": "stdout",
          "text": [
            "/content/drive/MyDrive/urbansound/spectrograms/8/74726-8-0-11.png\n",
            "/content/drive/MyDrive/urbansound/spectrograms/8/74726-8-0-12.png\n",
            "/content/drive/MyDrive/urbansound/spectrograms/8/74726-8-0-13.png\n",
            "/content/drive/MyDrive/urbansound/spectrograms/8/74726-8-0-14.png\n",
            "/content/drive/MyDrive/urbansound/spectrograms/8/74726-8-0-15.png\n",
            "/content/drive/MyDrive/urbansound/spectrograms/8/74726-8-0-16.png\n",
            "/content/drive/MyDrive/urbansound/spectrograms/8/74726-8-0-2.png\n",
            "/content/drive/MyDrive/urbansound/spectrograms/8/74726-8-0-3.png\n",
            "/content/drive/MyDrive/urbansound/spectrograms/8/74726-8-0-4.png\n",
            "/content/drive/MyDrive/urbansound/spectrograms/8/74726-8-0-5.png\n",
            "/content/drive/MyDrive/urbansound/spectrograms/8/74726-8-0-6.png\n",
            "/content/drive/MyDrive/urbansound/spectrograms/8/74726-8-0-7.png\n",
            "/content/drive/MyDrive/urbansound/spectrograms/8/74726-8-0-8.png\n",
            "/content/drive/MyDrive/urbansound/spectrograms/8/74726-8-0-9.png\n",
            "/content/drive/MyDrive/urbansound/spectrograms/8/74726-8-1-0.png\n",
            "/content/drive/MyDrive/urbansound/spectrograms/8/74726-8-1-1.png\n",
            "/content/drive/MyDrive/urbansound/spectrograms/8/74726-8-1-2.png\n",
            "/content/drive/MyDrive/urbansound/spectrograms/8/74726-8-2-0.png\n"
          ]
        },
        {
          "output_type": "stream",
          "name": "stderr",
          "text": [
            "7849it [01:33, 85.53it/s]"
          ]
        },
        {
          "output_type": "stream",
          "name": "stdout",
          "text": [
            "/content/drive/MyDrive/urbansound/spectrograms/8/74726-8-2-1.png\n",
            "/content/drive/MyDrive/urbansound/spectrograms/8/74726-8-2-2.png\n",
            "/content/drive/MyDrive/urbansound/spectrograms/8/74726-8-2-3.png\n",
            "/content/drive/MyDrive/urbansound/spectrograms/8/74726-8-2-4.png\n",
            "/content/drive/MyDrive/urbansound/spectrograms/8/74726-8-2-5.png\n",
            "/content/drive/MyDrive/urbansound/spectrograms/9/74810-9-0-27.png\n",
            "/content/drive/MyDrive/urbansound/spectrograms/9/74810-9-0-32.png\n",
            "/content/drive/MyDrive/urbansound/spectrograms/9/74810-9-0-5.png\n",
            "/content/drive/MyDrive/urbansound/spectrograms/9/74810-9-1-12.png\n",
            "/content/drive/MyDrive/urbansound/spectrograms/9/74810-9-1-5.png\n",
            "/content/drive/MyDrive/urbansound/spectrograms/9/74850-9-0-11.png\n",
            "/content/drive/MyDrive/urbansound/spectrograms/9/74850-9-0-18.png\n",
            "/content/drive/MyDrive/urbansound/spectrograms/9/74850-9-0-22.png\n",
            "/content/drive/MyDrive/urbansound/spectrograms/9/74850-9-0-27.png\n",
            "/content/drive/MyDrive/urbansound/spectrograms/9/74850-9-0-5.png\n",
            "/content/drive/MyDrive/urbansound/spectrograms/9/74850-9-0-6.png\n",
            "/content/drive/MyDrive/urbansound/spectrograms/4/74922-4-0-0.png\n",
            "/content/drive/MyDrive/urbansound/spectrograms/4/74922-4-0-1.png\n"
          ]
        },
        {
          "output_type": "stream",
          "name": "stderr",
          "text": [
            "7868it [01:33, 86.26it/s]"
          ]
        },
        {
          "output_type": "stream",
          "name": "stdout",
          "text": [
            "/content/drive/MyDrive/urbansound/spectrograms/4/74922-4-0-2.png\n",
            "/content/drive/MyDrive/urbansound/spectrograms/4/74922-4-0-3.png\n",
            "/content/drive/MyDrive/urbansound/spectrograms/4/74922-4-0-4.png\n",
            "/content/drive/MyDrive/urbansound/spectrograms/4/74922-4-0-5.png\n",
            "/content/drive/MyDrive/urbansound/spectrograms/4/74922-4-0-6.png\n",
            "/content/drive/MyDrive/urbansound/spectrograms/4/74922-4-0-7.png\n",
            "/content/drive/MyDrive/urbansound/spectrograms/3/74950-3-0-0.png\n",
            "/content/drive/MyDrive/urbansound/spectrograms/3/74950-3-2-4.png\n",
            "/content/drive/MyDrive/urbansound/spectrograms/3/74950-3-2-5.png\n",
            "/content/drive/MyDrive/urbansound/spectrograms/4/74965-4-0-0.png\n",
            "/content/drive/MyDrive/urbansound/spectrograms/4/74965-4-0-1.png\n",
            "/content/drive/MyDrive/urbansound/spectrograms/4/74965-4-0-2.png\n",
            "/content/drive/MyDrive/urbansound/spectrograms/4/74965-4-0-3.png\n",
            "/content/drive/MyDrive/urbansound/spectrograms/4/74965-4-1-0.png\n",
            "/content/drive/MyDrive/urbansound/spectrograms/4/74965-4-1-1.png\n",
            "/content/drive/MyDrive/urbansound/spectrograms/4/74965-4-1-2.png\n",
            "/content/drive/MyDrive/urbansound/spectrograms/8/75490-8-0-0.png\n",
            "/content/drive/MyDrive/urbansound/spectrograms/8/75490-8-0-1.png\n"
          ]
        },
        {
          "output_type": "stream",
          "name": "stderr",
          "text": [
            "7886it [01:33, 82.04it/s]"
          ]
        },
        {
          "output_type": "stream",
          "name": "stdout",
          "text": [
            "/content/drive/MyDrive/urbansound/spectrograms/8/75490-8-0-2.png\n",
            "/content/drive/MyDrive/urbansound/spectrograms/8/75490-8-1-0.png\n",
            "/content/drive/MyDrive/urbansound/spectrograms/8/75490-8-1-1.png\n",
            "/content/drive/MyDrive/urbansound/spectrograms/0/75743-0-0-0.png\n",
            "/content/drive/MyDrive/urbansound/spectrograms/0/75743-0-0-1.png\n",
            "/content/drive/MyDrive/urbansound/spectrograms/0/75743-0-0-10.png\n",
            "/content/drive/MyDrive/urbansound/spectrograms/0/75743-0-0-11.png\n",
            "/content/drive/MyDrive/urbansound/spectrograms/0/75743-0-0-12.png\n",
            "/content/drive/MyDrive/urbansound/spectrograms/0/75743-0-0-13.png\n",
            "/content/drive/MyDrive/urbansound/spectrograms/0/75743-0-0-14.png\n",
            "/content/drive/MyDrive/urbansound/spectrograms/0/75743-0-0-15.png\n",
            "/content/drive/MyDrive/urbansound/spectrograms/0/75743-0-0-16.png\n",
            "/content/drive/MyDrive/urbansound/spectrograms/0/75743-0-0-17.png\n",
            "/content/drive/MyDrive/urbansound/spectrograms/0/75743-0-0-18.png\n",
            "/content/drive/MyDrive/urbansound/spectrograms/0/75743-0-0-19.png\n",
            "/content/drive/MyDrive/urbansound/spectrograms/0/75743-0-0-2.png\n",
            "/content/drive/MyDrive/urbansound/spectrograms/0/75743-0-0-20.png\n"
          ]
        },
        {
          "output_type": "stream",
          "name": "stderr",
          "text": [
            "7904it [01:33, 81.87it/s]"
          ]
        },
        {
          "output_type": "stream",
          "name": "stdout",
          "text": [
            "/content/drive/MyDrive/urbansound/spectrograms/0/75743-0-0-21.png\n",
            "/content/drive/MyDrive/urbansound/spectrograms/0/75743-0-0-22.png\n",
            "/content/drive/MyDrive/urbansound/spectrograms/0/75743-0-0-23.png\n",
            "/content/drive/MyDrive/urbansound/spectrograms/0/75743-0-0-3.png\n",
            "/content/drive/MyDrive/urbansound/spectrograms/0/75743-0-0-4.png\n",
            "/content/drive/MyDrive/urbansound/spectrograms/0/75743-0-0-5.png\n",
            "/content/drive/MyDrive/urbansound/spectrograms/0/75743-0-0-6.png\n",
            "/content/drive/MyDrive/urbansound/spectrograms/0/75743-0-0-7.png\n",
            "/content/drive/MyDrive/urbansound/spectrograms/0/75743-0-0-8.png\n",
            "/content/drive/MyDrive/urbansound/spectrograms/0/75743-0-0-9.png\n",
            "/content/drive/MyDrive/urbansound/spectrograms/4/76085-4-0-103.png\n",
            "/content/drive/MyDrive/urbansound/spectrograms/4/76085-4-0-14.png\n",
            "/content/drive/MyDrive/urbansound/spectrograms/4/76085-4-0-24.png\n",
            "/content/drive/MyDrive/urbansound/spectrograms/4/76085-4-0-27.png\n",
            "/content/drive/MyDrive/urbansound/spectrograms/4/76085-4-0-35.png\n",
            "/content/drive/MyDrive/urbansound/spectrograms/4/76085-4-0-37.png\n",
            "/content/drive/MyDrive/urbansound/spectrograms/4/76085-4-0-38.png\n"
          ]
        },
        {
          "output_type": "stream",
          "name": "stderr",
          "text": [
            "\r7913it [01:33, 78.78it/s]"
          ]
        },
        {
          "output_type": "stream",
          "name": "stdout",
          "text": [
            "/content/drive/MyDrive/urbansound/spectrograms/4/76085-4-0-55.png\n",
            "/content/drive/MyDrive/urbansound/spectrograms/4/76085-4-0-6.png\n",
            "/content/drive/MyDrive/urbansound/spectrograms/4/76085-4-0-61.png\n",
            "/content/drive/MyDrive/urbansound/spectrograms/4/76085-4-0-62.png\n",
            "/content/drive/MyDrive/urbansound/spectrograms/4/76085-4-0-66.png\n",
            "/content/drive/MyDrive/urbansound/spectrograms/4/76085-4-0-81.png\n",
            "/content/drive/MyDrive/urbansound/spectrograms/4/76085-4-0-89.png\n",
            "/content/drive/MyDrive/urbansound/spectrograms/4/76085-4-0-93.png\n",
            "/content/drive/MyDrive/urbansound/spectrograms/4/76085-4-0-97.png\n",
            "/content/drive/MyDrive/urbansound/spectrograms/4/76086-4-0-12.png\n",
            "/content/drive/MyDrive/urbansound/spectrograms/4/76086-4-0-14.png\n",
            "/content/drive/MyDrive/urbansound/spectrograms/4/76086-4-0-17.png\n",
            "/content/drive/MyDrive/urbansound/spectrograms/4/76086-4-0-18.png\n",
            "/content/drive/MyDrive/urbansound/spectrograms/4/76086-4-0-19.png\n",
            "/content/drive/MyDrive/urbansound/spectrograms/4/76086-4-0-2.png\n",
            "/content/drive/MyDrive/urbansound/spectrograms/4/76086-4-0-22.png\n",
            "/content/drive/MyDrive/urbansound/spectrograms/4/76086-4-0-23.png\n"
          ]
        },
        {
          "output_type": "stream",
          "name": "stderr",
          "text": [
            "7931it [01:34, 81.46it/s]"
          ]
        },
        {
          "output_type": "stream",
          "name": "stdout",
          "text": [
            "/content/drive/MyDrive/urbansound/spectrograms/4/76086-4-0-24.png\n",
            "/content/drive/MyDrive/urbansound/spectrograms/4/76086-4-0-27.png\n",
            "/content/drive/MyDrive/urbansound/spectrograms/4/76086-4-0-29.png\n",
            "/content/drive/MyDrive/urbansound/spectrograms/4/76086-4-0-3.png\n",
            "/content/drive/MyDrive/urbansound/spectrograms/4/76086-4-0-32.png\n",
            "/content/drive/MyDrive/urbansound/spectrograms/4/76086-4-0-36.png\n",
            "/content/drive/MyDrive/urbansound/spectrograms/4/76086-4-0-38.png\n",
            "/content/drive/MyDrive/urbansound/spectrograms/4/76086-4-0-43.png\n",
            "/content/drive/MyDrive/urbansound/spectrograms/4/76086-4-0-50.png\n",
            "/content/drive/MyDrive/urbansound/spectrograms/4/76086-4-0-53.png\n",
            "/content/drive/MyDrive/urbansound/spectrograms/4/76086-4-0-55.png\n",
            "/content/drive/MyDrive/urbansound/spectrograms/4/76086-4-0-56.png\n",
            "/content/drive/MyDrive/urbansound/spectrograms/4/76086-4-0-58.png\n",
            "/content/drive/MyDrive/urbansound/spectrograms/6/76089-6-0-0.png\n",
            "/content/drive/MyDrive/urbansound/spectrograms/6/76090-6-0-0.png\n",
            "/content/drive/MyDrive/urbansound/spectrograms/6/76090-6-1-0.png\n",
            "/content/drive/MyDrive/urbansound/spectrograms/6/76091-6-0-0.png\n"
          ]
        },
        {
          "output_type": "stream",
          "name": "stderr",
          "text": [
            "7949it [01:34, 82.25it/s]"
          ]
        },
        {
          "output_type": "stream",
          "name": "stdout",
          "text": [
            "/content/drive/MyDrive/urbansound/spectrograms/6/76091-6-1-0.png\n",
            "/content/drive/MyDrive/urbansound/spectrograms/6/76091-6-2-0.png\n",
            "/content/drive/MyDrive/urbansound/spectrograms/6/76091-6-3-0.png\n",
            "/content/drive/MyDrive/urbansound/spectrograms/6/76091-6-4-0.png\n",
            "/content/drive/MyDrive/urbansound/spectrograms/6/76091-6-5-0.png\n",
            "/content/drive/MyDrive/urbansound/spectrograms/6/76093-6-0-0.png\n",
            "/content/drive/MyDrive/urbansound/spectrograms/6/76093-6-1-0.png\n",
            "/content/drive/MyDrive/urbansound/spectrograms/6/76094-6-0-0.png\n",
            "/content/drive/MyDrive/urbansound/spectrograms/6/76094-6-1-0.png\n",
            "/content/drive/MyDrive/urbansound/spectrograms/2/76221-2-0-0.png\n",
            "/content/drive/MyDrive/urbansound/spectrograms/2/76221-2-0-1.png\n",
            "/content/drive/MyDrive/urbansound/spectrograms/2/76221-2-0-10.png\n",
            "/content/drive/MyDrive/urbansound/spectrograms/2/76221-2-0-2.png\n",
            "/content/drive/MyDrive/urbansound/spectrograms/2/76221-2-0-3.png\n",
            "/content/drive/MyDrive/urbansound/spectrograms/2/76221-2-0-4.png\n",
            "/content/drive/MyDrive/urbansound/spectrograms/2/76221-2-0-5.png\n",
            "/content/drive/MyDrive/urbansound/spectrograms/2/76221-2-0-6.png\n",
            "/content/drive/MyDrive/urbansound/spectrograms/2/76266-2-0-40.png"
          ]
        },
        {
          "output_type": "stream",
          "name": "stderr",
          "text": [
            "7967it [01:34, 83.22it/s]"
          ]
        },
        {
          "output_type": "stream",
          "name": "stdout",
          "text": [
            "\n",
            "/content/drive/MyDrive/urbansound/spectrograms/2/76266-2-0-46.png\n",
            "/content/drive/MyDrive/urbansound/spectrograms/2/76266-2-0-50.png\n",
            "/content/drive/MyDrive/urbansound/spectrograms/2/76266-2-0-55.png\n",
            "/content/drive/MyDrive/urbansound/spectrograms/2/76266-2-0-7.png\n",
            "/content/drive/MyDrive/urbansound/spectrograms/2/76266-2-0-76.png\n",
            "/content/drive/MyDrive/urbansound/spectrograms/2/76266-2-0-80.png\n",
            "/content/drive/MyDrive/urbansound/spectrograms/2/76266-2-0-91.png\n",
            "/content/drive/MyDrive/urbansound/spectrograms/3/76566-3-0-11.png\n",
            "/content/drive/MyDrive/urbansound/spectrograms/3/76566-3-0-3.png\n",
            "/content/drive/MyDrive/urbansound/spectrograms/3/76566-3-0-6.png\n",
            "/content/drive/MyDrive/urbansound/spectrograms/3/76566-3-0-8.png\n",
            "/content/drive/MyDrive/urbansound/spectrograms/9/76568-9-0-10.png\n",
            "/content/drive/MyDrive/urbansound/spectrograms/9/76568-9-0-11.png\n",
            "/content/drive/MyDrive/urbansound/spectrograms/9/76568-9-0-12.png\n",
            "/content/drive/MyDrive/urbansound/spectrograms/9/76568-9-0-13.png\n"
          ]
        },
        {
          "output_type": "stream",
          "name": "stderr",
          "text": [
            "7987it [01:34, 86.10it/s]"
          ]
        },
        {
          "output_type": "stream",
          "name": "stdout",
          "text": [
            "/content/drive/MyDrive/urbansound/spectrograms/9/76568-9-0-14.png\n",
            "/content/drive/MyDrive/urbansound/spectrograms/9/76568-9-0-2.png\n",
            "/content/drive/MyDrive/urbansound/spectrograms/9/76585-9-0-10.png\n",
            "/content/drive/MyDrive/urbansound/spectrograms/9/76585-9-0-38.png\n",
            "/content/drive/MyDrive/urbansound/spectrograms/9/76585-9-0-5.png\n",
            "/content/drive/MyDrive/urbansound/spectrograms/9/76585-9-0-57.png\n",
            "/content/drive/MyDrive/urbansound/spectrograms/9/76585-9-0-60.png\n",
            "/content/drive/MyDrive/urbansound/spectrograms/9/76585-9-0-69.png\n",
            "/content/drive/MyDrive/urbansound/spectrograms/3/76640-3-0-0.png\n",
            "/content/drive/MyDrive/urbansound/spectrograms/3/77233-3-0-105.png\n",
            "/content/drive/MyDrive/urbansound/spectrograms/3/77233-3-0-67.png\n",
            "/content/drive/MyDrive/urbansound/spectrograms/3/77233-3-0-7.png\n",
            "/content/drive/MyDrive/urbansound/spectrograms/3/77233-3-0-79.png\n",
            "/content/drive/MyDrive/urbansound/spectrograms/6/77246-6-0-0.png\n",
            "/content/drive/MyDrive/urbansound/spectrograms/6/77247-6-0-0.png\n",
            "/content/drive/MyDrive/urbansound/spectrograms/1/77509-1-0-0.png\n",
            "/content/drive/MyDrive/urbansound/spectrograms/3/77674-3-0-0.png\n",
            "/content/drive/MyDrive/urbansound/spectrograms/4/77751-4-0-0.png\n",
            "/content/drive/MyDrive/urbansound/spectrograms/4/77751-4-0-1.png\n"
          ]
        },
        {
          "output_type": "stream",
          "name": "stderr",
          "text": [
            "8005it [01:35, 85.37it/s]"
          ]
        },
        {
          "output_type": "stream",
          "name": "stdout",
          "text": [
            "/content/drive/MyDrive/urbansound/spectrograms/4/77751-4-1-0.png\n",
            "/content/drive/MyDrive/urbansound/spectrograms/4/77751-4-1-1.png\n",
            "/content/drive/MyDrive/urbansound/spectrograms/4/77751-4-2-0.png\n",
            "/content/drive/MyDrive/urbansound/spectrograms/4/77751-4-3-0.png\n",
            "/content/drive/MyDrive/urbansound/spectrograms/4/77751-4-4-0.png\n",
            "/content/drive/MyDrive/urbansound/spectrograms/4/77751-4-5-0.png\n",
            "/content/drive/MyDrive/urbansound/spectrograms/4/77751-4-6-0.png\n",
            "/content/drive/MyDrive/urbansound/spectrograms/4/77751-4-7-0.png\n",
            "/content/drive/MyDrive/urbansound/spectrograms/4/77751-4-8-0.png\n",
            "/content/drive/MyDrive/urbansound/spectrograms/4/77751-4-9-0.png\n",
            "/content/drive/MyDrive/urbansound/spectrograms/4/77751-4-9-1.png\n",
            "/content/drive/MyDrive/urbansound/spectrograms/4/77751-4-9-2.png\n",
            "/content/drive/MyDrive/urbansound/spectrograms/4/77751-4-9-3.png\n",
            "/content/drive/MyDrive/urbansound/spectrograms/7/77751-7-0-0.png\n",
            "/content/drive/MyDrive/urbansound/spectrograms/7/77751-7-0-1.png\n",
            "/content/drive/MyDrive/urbansound/spectrograms/7/77751-7-1-0.png\n",
            "/content/drive/MyDrive/urbansound/spectrograms/7/77751-7-1-1.png\n",
            "/content/drive/MyDrive/urbansound/spectrograms/7/77751-7-2-0.png\n"
          ]
        },
        {
          "output_type": "stream",
          "name": "stderr",
          "text": [
            "8023it [01:35, 85.05it/s]"
          ]
        },
        {
          "output_type": "stream",
          "name": "stdout",
          "text": [
            "/content/drive/MyDrive/urbansound/spectrograms/7/77751-7-3-0.png\n",
            "/content/drive/MyDrive/urbansound/spectrograms/7/77751-7-4-0.png\n",
            "/content/drive/MyDrive/urbansound/spectrograms/7/77751-7-5-0.png\n",
            "/content/drive/MyDrive/urbansound/spectrograms/7/77751-7-6-0.png\n",
            "/content/drive/MyDrive/urbansound/spectrograms/7/77751-7-7-0.png\n",
            "/content/drive/MyDrive/urbansound/spectrograms/7/77751-7-8-0.png\n",
            "/content/drive/MyDrive/urbansound/spectrograms/7/77751-7-9-0.png\n",
            "/content/drive/MyDrive/urbansound/spectrograms/7/77751-7-9-1.png\n",
            "/content/drive/MyDrive/urbansound/spectrograms/7/77751-7-9-2.png\n",
            "/content/drive/MyDrive/urbansound/spectrograms/7/77751-7-9-3.png\n",
            "/content/drive/MyDrive/urbansound/spectrograms/9/77766-9-0-0.png\n",
            "/content/drive/MyDrive/urbansound/spectrograms/9/77766-9-0-3.png\n",
            "/content/drive/MyDrive/urbansound/spectrograms/9/77766-9-0-4.png\n",
            "/content/drive/MyDrive/urbansound/spectrograms/9/77766-9-0-5.png\n",
            "/content/drive/MyDrive/urbansound/spectrograms/9/77766-9-0-6.png\n",
            "/content/drive/MyDrive/urbansound/spectrograms/9/77766-9-0-7.png\n",
            "/content/drive/MyDrive/urbansound/spectrograms/9/77769-9-0-0.png\n",
            "/content/drive/MyDrive/urbansound/spectrograms/9/77769-9-0-12.png\n"
          ]
        },
        {
          "output_type": "stream",
          "name": "stderr",
          "text": [
            "8041it [01:35, 81.82it/s]"
          ]
        },
        {
          "output_type": "stream",
          "name": "stdout",
          "text": [
            "/content/drive/MyDrive/urbansound/spectrograms/9/77769-9-0-17.png\n",
            "/content/drive/MyDrive/urbansound/spectrograms/9/77769-9-0-2.png\n",
            "/content/drive/MyDrive/urbansound/spectrograms/9/77769-9-0-4.png\n",
            "/content/drive/MyDrive/urbansound/spectrograms/9/77769-9-0-8.png\n",
            "/content/drive/MyDrive/urbansound/spectrograms/9/77770-9-0-1.png\n",
            "/content/drive/MyDrive/urbansound/spectrograms/9/77770-9-0-15.png\n",
            "/content/drive/MyDrive/urbansound/spectrograms/9/77770-9-0-17.png\n",
            "/content/drive/MyDrive/urbansound/spectrograms/9/77770-9-0-20.png\n",
            "/content/drive/MyDrive/urbansound/spectrograms/9/77770-9-0-6.png\n",
            "/content/drive/MyDrive/urbansound/spectrograms/9/77770-9-0-8.png\n",
            "/content/drive/MyDrive/urbansound/spectrograms/9/77770-9-0-9.png\n",
            "/content/drive/MyDrive/urbansound/spectrograms/4/77774-4-0-0.png\n",
            "/content/drive/MyDrive/urbansound/spectrograms/4/77774-4-0-1.png\n",
            "/content/drive/MyDrive/urbansound/spectrograms/4/77774-4-0-2.png\n",
            "/content/drive/MyDrive/urbansound/spectrograms/4/77774-4-0-3.png\n",
            "/content/drive/MyDrive/urbansound/spectrograms/4/77774-4-1-0.png\n"
          ]
        },
        {
          "output_type": "stream",
          "name": "stderr",
          "text": [
            "\r8050it [01:35, 76.51it/s]"
          ]
        },
        {
          "output_type": "stream",
          "name": "stdout",
          "text": [
            "/content/drive/MyDrive/urbansound/spectrograms/4/77774-4-1-1.png\n",
            "/content/drive/MyDrive/urbansound/spectrograms/9/77901-9-0-0.png\n",
            "/content/drive/MyDrive/urbansound/spectrograms/9/77901-9-0-1.png\n",
            "/content/drive/MyDrive/urbansound/spectrograms/9/77901-9-0-2.png\n",
            "/content/drive/MyDrive/urbansound/spectrograms/9/77901-9-0-3.png\n",
            "/content/drive/MyDrive/urbansound/spectrograms/9/77901-9-0-4.png\n",
            "/content/drive/MyDrive/urbansound/spectrograms/9/77901-9-0-6.png\n",
            "/content/drive/MyDrive/urbansound/spectrograms/9/77901-9-0-7.png\n",
            "/content/drive/MyDrive/urbansound/spectrograms/3/77927-3-0-0.png\n",
            "/content/drive/MyDrive/urbansound/spectrograms/3/77927-3-0-1.png\n",
            "/content/drive/MyDrive/urbansound/spectrograms/3/77927-3-0-2.png\n",
            "/content/drive/MyDrive/urbansound/spectrograms/3/77927-3-1-1.png\n",
            "/content/drive/MyDrive/urbansound/spectrograms/9/78326-9-0-0.png\n",
            "/content/drive/MyDrive/urbansound/spectrograms/9/78326-9-0-1.png\n",
            "/content/drive/MyDrive/urbansound/spectrograms/9/78326-9-0-3.png\n",
            "/content/drive/MyDrive/urbansound/spectrograms/9/78326-9-0-5.png\n"
          ]
        },
        {
          "output_type": "stream",
          "name": "stderr",
          "text": [
            "8067it [01:35, 76.69it/s]"
          ]
        },
        {
          "output_type": "stream",
          "name": "stdout",
          "text": [
            "/content/drive/MyDrive/urbansound/spectrograms/9/78326-9-0-6.png\n",
            "/content/drive/MyDrive/urbansound/spectrograms/9/78326-9-0-7.png\n",
            "/content/drive/MyDrive/urbansound/spectrograms/4/78360-4-0-0.png\n",
            "/content/drive/MyDrive/urbansound/spectrograms/4/78360-4-0-1.png\n",
            "/content/drive/MyDrive/urbansound/spectrograms/4/78360-4-0-11.png\n",
            "/content/drive/MyDrive/urbansound/spectrograms/4/78360-4-0-12.png\n",
            "/content/drive/MyDrive/urbansound/spectrograms/4/78360-4-0-14.png\n",
            "/content/drive/MyDrive/urbansound/spectrograms/4/78360-4-0-15.png\n",
            "/content/drive/MyDrive/urbansound/spectrograms/4/78360-4-0-16.png\n",
            "/content/drive/MyDrive/urbansound/spectrograms/4/78360-4-0-17.png\n",
            "/content/drive/MyDrive/urbansound/spectrograms/4/78360-4-0-18.png\n",
            "/content/drive/MyDrive/urbansound/spectrograms/4/78360-4-0-19.png\n",
            "/content/drive/MyDrive/urbansound/spectrograms/4/78360-4-0-2.png\n",
            "/content/drive/MyDrive/urbansound/spectrograms/4/78360-4-0-20.png\n",
            "/content/drive/MyDrive/urbansound/spectrograms/4/78360-4-0-21.png\n",
            "/content/drive/MyDrive/urbansound/spectrograms/4/78360-4-0-22.png\n",
            "/content/drive/MyDrive/urbansound/spectrograms/4/78360-4-0-23.png\n",
            "/content/drive/MyDrive/urbansound/spectrograms/4/78360-4-0-3.png\n"
          ]
        },
        {
          "output_type": "stream",
          "name": "stderr",
          "text": [
            "8085it [01:36, 80.27it/s]"
          ]
        },
        {
          "output_type": "stream",
          "name": "stdout",
          "text": [
            "/content/drive/MyDrive/urbansound/spectrograms/4/78360-4-0-4.png\n",
            "/content/drive/MyDrive/urbansound/spectrograms/4/78360-4-0-5.png\n",
            "/content/drive/MyDrive/urbansound/spectrograms/4/78360-4-0-6.png\n",
            "/content/drive/MyDrive/urbansound/spectrograms/4/78360-4-0-7.png\n",
            "/content/drive/MyDrive/urbansound/spectrograms/4/78360-4-0-8.png\n",
            "/content/drive/MyDrive/urbansound/spectrograms/4/78360-4-0-9.png\n",
            "/content/drive/MyDrive/urbansound/spectrograms/5/78651-5-0-0.png\n",
            "/content/drive/MyDrive/urbansound/spectrograms/5/78651-5-0-1.png\n",
            "/content/drive/MyDrive/urbansound/spectrograms/5/78651-5-0-10.png\n",
            "/content/drive/MyDrive/urbansound/spectrograms/5/78651-5-0-11.png\n",
            "/content/drive/MyDrive/urbansound/spectrograms/5/78651-5-0-12.png\n",
            "/content/drive/MyDrive/urbansound/spectrograms/5/78651-5-0-13.png\n",
            "/content/drive/MyDrive/urbansound/spectrograms/5/78651-5-0-14.png\n",
            "/content/drive/MyDrive/urbansound/spectrograms/5/78651-5-0-15.png\n",
            "/content/drive/MyDrive/urbansound/spectrograms/5/78651-5-0-16.png\n",
            "/content/drive/MyDrive/urbansound/spectrograms/5/78651-5-0-17.png\n",
            "/content/drive/MyDrive/urbansound/spectrograms/5/78651-5-0-2.png\n",
            "/content/drive/MyDrive/urbansound/spectrograms/5/78651-5-0-3.png\n"
          ]
        },
        {
          "output_type": "stream",
          "name": "stderr",
          "text": [
            "8103it [01:36, 81.35it/s]"
          ]
        },
        {
          "output_type": "stream",
          "name": "stdout",
          "text": [
            "/content/drive/MyDrive/urbansound/spectrograms/5/78651-5-0-4.png\n",
            "/content/drive/MyDrive/urbansound/spectrograms/5/78651-5-0-5.png\n",
            "/content/drive/MyDrive/urbansound/spectrograms/5/78651-5-0-6.png\n",
            "/content/drive/MyDrive/urbansound/spectrograms/5/78651-5-0-7.png\n",
            "/content/drive/MyDrive/urbansound/spectrograms/5/78651-5-0-8.png\n",
            "/content/drive/MyDrive/urbansound/spectrograms/5/78651-5-0-9.png\n",
            "/content/drive/MyDrive/urbansound/spectrograms/6/78776-6-0-0.png\n",
            "/content/drive/MyDrive/urbansound/spectrograms/0/79089-0-0-106.png\n",
            "/content/drive/MyDrive/urbansound/spectrograms/0/79089-0-0-115.png\n",
            "/content/drive/MyDrive/urbansound/spectrograms/0/79089-0-0-12.png\n",
            "/content/drive/MyDrive/urbansound/spectrograms/0/79089-0-0-122.png\n",
            "/content/drive/MyDrive/urbansound/spectrograms/0/79089-0-0-123.png\n",
            "/content/drive/MyDrive/urbansound/spectrograms/0/79089-0-0-134.png\n",
            "/content/drive/MyDrive/urbansound/spectrograms/0/79089-0-0-135.png\n",
            "/content/drive/MyDrive/urbansound/spectrograms/0/79089-0-0-136.png\n",
            "/content/drive/MyDrive/urbansound/spectrograms/0/79089-0-0-138.png\n",
            "/content/drive/MyDrive/urbansound/spectrograms/0/79089-0-0-19.png\n",
            "/content/drive/MyDrive/urbansound/spectrograms/0/79089-0-0-25.png"
          ]
        },
        {
          "output_type": "stream",
          "name": "stderr",
          "text": [
            "8121it [01:36, 81.73it/s]"
          ]
        },
        {
          "output_type": "stream",
          "name": "stdout",
          "text": [
            "\n",
            "/content/drive/MyDrive/urbansound/spectrograms/0/79089-0-0-28.png\n",
            "/content/drive/MyDrive/urbansound/spectrograms/0/79089-0-0-4.png\n",
            "/content/drive/MyDrive/urbansound/spectrograms/0/79089-0-0-40.png\n",
            "/content/drive/MyDrive/urbansound/spectrograms/0/79089-0-0-41.png\n",
            "/content/drive/MyDrive/urbansound/spectrograms/0/79089-0-0-43.png\n",
            "/content/drive/MyDrive/urbansound/spectrograms/0/79089-0-0-48.png\n",
            "/content/drive/MyDrive/urbansound/spectrograms/0/79089-0-0-51.png\n",
            "/content/drive/MyDrive/urbansound/spectrograms/0/79089-0-0-52.png\n",
            "/content/drive/MyDrive/urbansound/spectrograms/0/79089-0-0-56.png\n",
            "/content/drive/MyDrive/urbansound/spectrograms/0/79089-0-0-6.png\n",
            "/content/drive/MyDrive/urbansound/spectrograms/0/79089-0-0-60.png\n",
            "/content/drive/MyDrive/urbansound/spectrograms/0/79089-0-0-63.png\n",
            "/content/drive/MyDrive/urbansound/spectrograms/0/79089-0-0-70.png\n",
            "/content/drive/MyDrive/urbansound/spectrograms/0/79089-0-0-73.png\n",
            "/content/drive/MyDrive/urbansound/spectrograms/0/79089-0-0-75.png\n",
            "/content/drive/MyDrive/urbansound/spectrograms/0/79089-0-0-92.png\n",
            "/content/drive/MyDrive/urbansound/spectrograms/3/7913-3-0-0.png\n"
          ]
        },
        {
          "output_type": "stream",
          "name": "stderr",
          "text": [
            "8139it [01:36, 81.48it/s]"
          ]
        },
        {
          "output_type": "stream",
          "name": "stdout",
          "text": [
            "/content/drive/MyDrive/urbansound/spectrograms/3/7913-3-1-0.png\n",
            "/content/drive/MyDrive/urbansound/spectrograms/3/7913-3-2-0.png\n",
            "/content/drive/MyDrive/urbansound/spectrograms/3/7913-3-3-0.png\n",
            "/content/drive/MyDrive/urbansound/spectrograms/9/79377-9-0-10.png\n",
            "/content/drive/MyDrive/urbansound/spectrograms/9/79377-9-0-12.png\n",
            "/content/drive/MyDrive/urbansound/spectrograms/9/79377-9-0-13.png\n",
            "/content/drive/MyDrive/urbansound/spectrograms/9/79377-9-0-2.png\n",
            "/content/drive/MyDrive/urbansound/spectrograms/9/79377-9-0-4.png\n",
            "/content/drive/MyDrive/urbansound/spectrograms/9/79377-9-0-8.png\n",
            "/content/drive/MyDrive/urbansound/spectrograms/3/79584-3-0-4.png\n",
            "/content/drive/MyDrive/urbansound/spectrograms/3/79584-3-0-5.png\n",
            "/content/drive/MyDrive/urbansound/spectrograms/3/79584-3-0-8.png\n",
            "/content/drive/MyDrive/urbansound/spectrograms/3/79584-3-1-2.png\n",
            "/content/drive/MyDrive/urbansound/spectrograms/3/7965-3-11-0.png\n",
            "/content/drive/MyDrive/urbansound/spectrograms/3/7965-3-16-0.png\n",
            "/content/drive/MyDrive/urbansound/spectrograms/3/7965-3-22-0.png\n",
            "/content/drive/MyDrive/urbansound/spectrograms/3/7965-3-3-0.png\n",
            "/content/drive/MyDrive/urbansound/spectrograms/3/7975-3-0-0.png"
          ]
        },
        {
          "output_type": "stream",
          "name": "stderr",
          "text": [
            "8157it [01:36, 82.25it/s]"
          ]
        },
        {
          "output_type": "stream",
          "name": "stdout",
          "text": [
            "\n",
            "/content/drive/MyDrive/urbansound/spectrograms/0/80589-0-0-0.png\n",
            "/content/drive/MyDrive/urbansound/spectrograms/0/80589-0-0-1.png\n",
            "/content/drive/MyDrive/urbansound/spectrograms/0/80589-0-0-2.png\n",
            "/content/drive/MyDrive/urbansound/spectrograms/0/80589-0-0-3.png\n",
            "/content/drive/MyDrive/urbansound/spectrograms/0/80589-0-0-4.png\n",
            "/content/drive/MyDrive/urbansound/spectrograms/2/80806-2-0-0.png\n",
            "/content/drive/MyDrive/urbansound/spectrograms/2/80806-2-0-1.png\n",
            "/content/drive/MyDrive/urbansound/spectrograms/2/80806-2-0-10.png\n",
            "/content/drive/MyDrive/urbansound/spectrograms/2/80806-2-0-2.png\n",
            "/content/drive/MyDrive/urbansound/spectrograms/2/80806-2-0-3.png\n",
            "/content/drive/MyDrive/urbansound/spectrograms/2/80806-2-0-4.png\n",
            "/content/drive/MyDrive/urbansound/spectrograms/2/80806-2-0-5.png\n",
            "/content/drive/MyDrive/urbansound/spectrograms/2/80806-2-0-7.png\n",
            "/content/drive/MyDrive/urbansound/spectrograms/5/81068-5-0-0.png\n",
            "/content/drive/MyDrive/urbansound/spectrograms/5/81068-5-0-1.png\n",
            "/content/drive/MyDrive/urbansound/spectrograms/5/81068-5-0-2.png\n"
          ]
        },
        {
          "output_type": "stream",
          "name": "stderr",
          "text": [
            "8175it [01:37, 82.07it/s]"
          ]
        },
        {
          "output_type": "stream",
          "name": "stdout",
          "text": [
            "/content/drive/MyDrive/urbansound/spectrograms/5/81068-5-0-3.png\n",
            "/content/drive/MyDrive/urbansound/spectrograms/5/81068-5-0-4.png\n",
            "/content/drive/MyDrive/urbansound/spectrograms/5/81068-5-0-5.png\n",
            "/content/drive/MyDrive/urbansound/spectrograms/5/81068-5-1-0.png\n",
            "/content/drive/MyDrive/urbansound/spectrograms/5/81068-5-2-0.png\n",
            "/content/drive/MyDrive/urbansound/spectrograms/4/81117-4-0-0.png\n",
            "/content/drive/MyDrive/urbansound/spectrograms/4/81117-4-0-1.png\n",
            "/content/drive/MyDrive/urbansound/spectrograms/4/81117-4-0-2.png\n",
            "/content/drive/MyDrive/urbansound/spectrograms/4/81117-4-0-3.png\n",
            "/content/drive/MyDrive/urbansound/spectrograms/4/81117-4-0-4.png\n",
            "/content/drive/MyDrive/urbansound/spectrograms/4/81117-4-0-5.png\n",
            "/content/drive/MyDrive/urbansound/spectrograms/3/81722-3-0-21.png\n",
            "/content/drive/MyDrive/urbansound/spectrograms/3/81722-3-0-22.png\n",
            "/content/drive/MyDrive/urbansound/spectrograms/3/81722-3-0-26.png\n",
            "/content/drive/MyDrive/urbansound/spectrograms/3/81722-3-0-28.png\n",
            "/content/drive/MyDrive/urbansound/spectrograms/2/81787-2-0-0.png\n",
            "/content/drive/MyDrive/urbansound/spectrograms/2/81787-2-0-14.png\n"
          ]
        },
        {
          "output_type": "stream",
          "name": "stderr",
          "text": [
            "8193it [01:37, 81.50it/s]"
          ]
        },
        {
          "output_type": "stream",
          "name": "stdout",
          "text": [
            "/content/drive/MyDrive/urbansound/spectrograms/2/81787-2-0-23.png\n",
            "/content/drive/MyDrive/urbansound/spectrograms/2/81787-2-0-35.png\n",
            "/content/drive/MyDrive/urbansound/spectrograms/2/81787-2-0-39.png\n",
            "/content/drive/MyDrive/urbansound/spectrograms/2/81787-2-0-4.png\n",
            "/content/drive/MyDrive/urbansound/spectrograms/2/81787-2-0-48.png\n",
            "/content/drive/MyDrive/urbansound/spectrograms/2/81787-2-0-49.png\n",
            "/content/drive/MyDrive/urbansound/spectrograms/2/81788-2-0-12.png\n",
            "/content/drive/MyDrive/urbansound/spectrograms/2/81788-2-0-14.png\n",
            "/content/drive/MyDrive/urbansound/spectrograms/2/81788-2-0-16.png\n",
            "/content/drive/MyDrive/urbansound/spectrograms/2/81788-2-0-35.png\n",
            "/content/drive/MyDrive/urbansound/spectrograms/2/81788-2-0-44.png\n",
            "/content/drive/MyDrive/urbansound/spectrograms/2/81788-2-0-51.png\n",
            "/content/drive/MyDrive/urbansound/spectrograms/2/81788-2-0-69.png\n",
            "/content/drive/MyDrive/urbansound/spectrograms/3/81791-3-0-0.png\n",
            "/content/drive/MyDrive/urbansound/spectrograms/3/81791-3-0-1.png\n",
            "/content/drive/MyDrive/urbansound/spectrograms/3/81791-3-1-0.png\n",
            "/content/drive/MyDrive/urbansound/spectrograms/3/81799-3-0-0.png\n"
          ]
        },
        {
          "output_type": "stream",
          "name": "stderr",
          "text": [
            "8211it [01:37, 83.51it/s]"
          ]
        },
        {
          "output_type": "stream",
          "name": "stdout",
          "text": [
            "/content/drive/MyDrive/urbansound/spectrograms/3/81799-3-0-1.png\n",
            "/content/drive/MyDrive/urbansound/spectrograms/3/81799-3-1-0.png\n",
            "/content/drive/MyDrive/urbansound/spectrograms/3/81799-3-1-2.png\n",
            "/content/drive/MyDrive/urbansound/spectrograms/3/82024-3-0-4.png\n",
            "/content/drive/MyDrive/urbansound/spectrograms/3/82024-3-0-5.png\n",
            "/content/drive/MyDrive/urbansound/spectrograms/3/82024-3-0-6.png\n",
            "/content/drive/MyDrive/urbansound/spectrograms/3/82024-3-0-8.png\n",
            "/content/drive/MyDrive/urbansound/spectrograms/1/82317-1-0-0.png\n",
            "/content/drive/MyDrive/urbansound/spectrograms/2/82368-2-0-0.png\n",
            "/content/drive/MyDrive/urbansound/spectrograms/2/82368-2-0-1.png\n",
            "/content/drive/MyDrive/urbansound/spectrograms/2/82368-2-0-10.png\n",
            "/content/drive/MyDrive/urbansound/spectrograms/2/82368-2-0-17.png\n",
            "/content/drive/MyDrive/urbansound/spectrograms/2/82368-2-0-23.png\n",
            "/content/drive/MyDrive/urbansound/spectrograms/2/82368-2-0-25.png\n",
            "/content/drive/MyDrive/urbansound/spectrograms/2/82368-2-0-30.png\n",
            "/content/drive/MyDrive/urbansound/spectrograms/2/82368-2-0-7.png\n",
            "/content/drive/MyDrive/urbansound/spectrograms/3/82811-3-0-1.png\n",
            "/content/drive/MyDrive/urbansound/spectrograms/3/82811-3-0-2.png\n"
          ]
        },
        {
          "output_type": "stream",
          "name": "stderr",
          "text": [
            "8229it [01:37, 82.91it/s]"
          ]
        },
        {
          "output_type": "stream",
          "name": "stdout",
          "text": [
            "/content/drive/MyDrive/urbansound/spectrograms/3/82811-3-3-0.png\n",
            "/content/drive/MyDrive/urbansound/spectrograms/3/82811-3-4-0.png\n",
            "/content/drive/MyDrive/urbansound/spectrograms/9/83191-9-0-0.png\n",
            "/content/drive/MyDrive/urbansound/spectrograms/9/83191-9-0-11.png\n",
            "/content/drive/MyDrive/urbansound/spectrograms/9/83191-9-0-13.png\n",
            "/content/drive/MyDrive/urbansound/spectrograms/9/83191-9-0-17.png\n",
            "/content/drive/MyDrive/urbansound/spectrograms/9/83191-9-0-4.png\n",
            "/content/drive/MyDrive/urbansound/spectrograms/9/83191-9-0-6.png\n",
            "/content/drive/MyDrive/urbansound/spectrograms/9/83195-9-0-11.png\n",
            "/content/drive/MyDrive/urbansound/spectrograms/9/83195-9-0-14.png\n",
            "/content/drive/MyDrive/urbansound/spectrograms/9/83195-9-0-2.png\n",
            "/content/drive/MyDrive/urbansound/spectrograms/9/83195-9-0-3.png\n",
            "/content/drive/MyDrive/urbansound/spectrograms/9/83195-9-0-6.png\n",
            "/content/drive/MyDrive/urbansound/spectrograms/9/83195-9-0-7.png\n",
            "/content/drive/MyDrive/urbansound/spectrograms/9/83196-9-0-10.png\n",
            "/content/drive/MyDrive/urbansound/spectrograms/9/83196-9-0-13.png\n",
            "/content/drive/MyDrive/urbansound/spectrograms/9/83196-9-0-14.png\n"
          ]
        },
        {
          "output_type": "stream",
          "name": "stderr",
          "text": [
            "8247it [01:38, 82.55it/s]"
          ]
        },
        {
          "output_type": "stream",
          "name": "stdout",
          "text": [
            "/content/drive/MyDrive/urbansound/spectrograms/9/83196-9-0-15.png\n",
            "/content/drive/MyDrive/urbansound/spectrograms/9/83196-9-0-3.png\n",
            "/content/drive/MyDrive/urbansound/spectrograms/9/83196-9-0-9.png\n",
            "/content/drive/MyDrive/urbansound/spectrograms/9/83199-9-0-0.png\n",
            "/content/drive/MyDrive/urbansound/spectrograms/1/83465-1-0-0.png\n",
            "/content/drive/MyDrive/urbansound/spectrograms/1/83488-1-0-0.png\n",
            "/content/drive/MyDrive/urbansound/spectrograms/1/83488-1-1-0.png\n",
            "/content/drive/MyDrive/urbansound/spectrograms/0/83502-0-0-0.png\n",
            "/content/drive/MyDrive/urbansound/spectrograms/0/83502-0-0-1.png\n",
            "/content/drive/MyDrive/urbansound/spectrograms/0/83502-0-0-10.png\n",
            "/content/drive/MyDrive/urbansound/spectrograms/0/83502-0-0-11.png\n",
            "/content/drive/MyDrive/urbansound/spectrograms/0/83502-0-0-12.png\n",
            "/content/drive/MyDrive/urbansound/spectrograms/0/83502-0-0-13.png\n",
            "/content/drive/MyDrive/urbansound/spectrograms/0/83502-0-0-2.png\n",
            "/content/drive/MyDrive/urbansound/spectrograms/0/83502-0-0-3.png\n",
            "/content/drive/MyDrive/urbansound/spectrograms/0/83502-0-0-4.png\n",
            "/content/drive/MyDrive/urbansound/spectrograms/0/83502-0-0-5.png\n"
          ]
        },
        {
          "output_type": "stream",
          "name": "stderr",
          "text": [
            "8265it [01:38, 81.67it/s]"
          ]
        },
        {
          "output_type": "stream",
          "name": "stdout",
          "text": [
            "/content/drive/MyDrive/urbansound/spectrograms/0/83502-0-0-6.png\n",
            "/content/drive/MyDrive/urbansound/spectrograms/0/83502-0-0-7.png\n",
            "/content/drive/MyDrive/urbansound/spectrograms/0/83502-0-0-8.png\n",
            "/content/drive/MyDrive/urbansound/spectrograms/0/83502-0-0-9.png\n",
            "/content/drive/MyDrive/urbansound/spectrograms/5/83680-5-0-0.png\n",
            "/content/drive/MyDrive/urbansound/spectrograms/5/83680-5-0-1.png\n",
            "/content/drive/MyDrive/urbansound/spectrograms/5/83680-5-0-2.png\n",
            "/content/drive/MyDrive/urbansound/spectrograms/5/83680-5-0-3.png\n",
            "/content/drive/MyDrive/urbansound/spectrograms/2/84143-2-0-10.png\n",
            "/content/drive/MyDrive/urbansound/spectrograms/2/84143-2-0-12.png\n",
            "/content/drive/MyDrive/urbansound/spectrograms/2/84143-2-0-13.png\n",
            "/content/drive/MyDrive/urbansound/spectrograms/2/84143-2-0-14.png\n",
            "/content/drive/MyDrive/urbansound/spectrograms/2/84143-2-0-15.png\n",
            "/content/drive/MyDrive/urbansound/spectrograms/2/84143-2-0-32.png\n",
            "/content/drive/MyDrive/urbansound/spectrograms/2/84143-2-0-38.png\n",
            "/content/drive/MyDrive/urbansound/spectrograms/2/84143-2-0-7.png\n",
            "/content/drive/MyDrive/urbansound/spectrograms/9/84249-9-0-10.png\n"
          ]
        },
        {
          "output_type": "stream",
          "name": "stderr",
          "text": [
            "8283it [01:38, 81.98it/s]"
          ]
        },
        {
          "output_type": "stream",
          "name": "stdout",
          "text": [
            "/content/drive/MyDrive/urbansound/spectrograms/9/84249-9-0-11.png\n",
            "/content/drive/MyDrive/urbansound/spectrograms/9/84249-9-0-3.png\n",
            "/content/drive/MyDrive/urbansound/spectrograms/9/84249-9-0-6.png\n",
            "/content/drive/MyDrive/urbansound/spectrograms/9/84249-9-0-7.png\n",
            "/content/drive/MyDrive/urbansound/spectrograms/9/84249-9-0-8.png\n",
            "/content/drive/MyDrive/urbansound/spectrograms/6/84254-6-0-0.png\n",
            "/content/drive/MyDrive/urbansound/spectrograms/3/84317-3-0-0.png\n",
            "/content/drive/MyDrive/urbansound/spectrograms/2/84359-2-0-0.png\n",
            "/content/drive/MyDrive/urbansound/spectrograms/2/84359-2-0-1.png\n",
            "/content/drive/MyDrive/urbansound/spectrograms/2/84359-2-0-2.png\n",
            "/content/drive/MyDrive/urbansound/spectrograms/2/84359-2-0-5.png\n",
            "/content/drive/MyDrive/urbansound/spectrograms/2/84359-2-0-6.png\n",
            "/content/drive/MyDrive/urbansound/spectrograms/2/84359-2-0-8.png\n",
            "/content/drive/MyDrive/urbansound/spectrograms/2/84359-2-0-9.png\n",
            "/content/drive/MyDrive/urbansound/spectrograms/4/84699-4-0-0.png\n",
            "/content/drive/MyDrive/urbansound/spectrograms/4/84699-4-1-0.png\n",
            "/content/drive/MyDrive/urbansound/spectrograms/4/84699-4-2-0.png\n",
            "/content/drive/MyDrive/urbansound/spectrograms/4/84699-4-3-0.png\n"
          ]
        },
        {
          "output_type": "stream",
          "name": "stderr",
          "text": [
            "8301it [01:38, 83.20it/s]"
          ]
        },
        {
          "output_type": "stream",
          "name": "stdout",
          "text": [
            "/content/drive/MyDrive/urbansound/spectrograms/4/84699-4-4-0.png\n",
            "/content/drive/MyDrive/urbansound/spectrograms/4/84699-4-5-0.png\n",
            "/content/drive/MyDrive/urbansound/spectrograms/4/84699-4-6-0.png\n",
            "/content/drive/MyDrive/urbansound/spectrograms/2/85249-2-0-10.png\n",
            "/content/drive/MyDrive/urbansound/spectrograms/2/85249-2-0-14.png\n",
            "/content/drive/MyDrive/urbansound/spectrograms/2/85249-2-0-25.png\n",
            "/content/drive/MyDrive/urbansound/spectrograms/2/85249-2-0-29.png\n",
            "/content/drive/MyDrive/urbansound/spectrograms/2/85249-2-0-61.png\n",
            "/content/drive/MyDrive/urbansound/spectrograms/2/85249-2-0-62.png\n",
            "/content/drive/MyDrive/urbansound/spectrograms/2/85249-2-0-68.png\n",
            "/content/drive/MyDrive/urbansound/spectrograms/2/85249-2-0-79.png\n",
            "/content/drive/MyDrive/urbansound/spectrograms/3/85362-3-0-0.png\n",
            "/content/drive/MyDrive/urbansound/spectrograms/3/85362-3-1-0.png\n",
            "/content/drive/MyDrive/urbansound/spectrograms/3/85362-3-2-0.png\n",
            "/content/drive/MyDrive/urbansound/spectrograms/3/85362-3-3-0.png\n",
            "/content/drive/MyDrive/urbansound/spectrograms/3/85544-3-5-0.png\n",
            "/content/drive/MyDrive/urbansound/spectrograms/3/85544-3-6-0.png\n",
            "/content/drive/MyDrive/urbansound/spectrograms/3/85544-3-7-0.png\n"
          ]
        },
        {
          "output_type": "stream",
          "name": "stderr",
          "text": [
            "8320it [01:38, 85.16it/s]"
          ]
        },
        {
          "output_type": "stream",
          "name": "stdout",
          "text": [
            "/content/drive/MyDrive/urbansound/spectrograms/0/85569-0-0-0.png\n",
            "/content/drive/MyDrive/urbansound/spectrograms/0/85569-0-0-1.png\n",
            "/content/drive/MyDrive/urbansound/spectrograms/0/85569-0-0-2.png\n",
            "/content/drive/MyDrive/urbansound/spectrograms/0/85569-0-0-3.png\n",
            "/content/drive/MyDrive/urbansound/spectrograms/0/85569-0-0-4.png\n",
            "/content/drive/MyDrive/urbansound/spectrograms/0/85569-0-0-5.png\n",
            "/content/drive/MyDrive/urbansound/spectrograms/0/85569-0-0-6.png\n",
            "/content/drive/MyDrive/urbansound/spectrograms/0/85569-0-0-7.png\n",
            "/content/drive/MyDrive/urbansound/spectrograms/0/85569-0-0-8.png\n",
            "/content/drive/MyDrive/urbansound/spectrograms/0/85569-0-0-9.png\n",
            "/content/drive/MyDrive/urbansound/spectrograms/3/85574-3-0-0.png\n",
            "/content/drive/MyDrive/urbansound/spectrograms/3/85574-3-0-12.png\n",
            "/content/drive/MyDrive/urbansound/spectrograms/3/85574-3-0-2.png\n",
            "/content/drive/MyDrive/urbansound/spectrograms/3/85574-3-0-8.png\n",
            "/content/drive/MyDrive/urbansound/spectrograms/3/85661-3-0-0.png\n",
            "/content/drive/MyDrive/urbansound/spectrograms/3/85662-3-0-0.png\n",
            "/content/drive/MyDrive/urbansound/spectrograms/3/85663-3-0-0.png\n",
            "/content/drive/MyDrive/urbansound/spectrograms/3/85664-3-0-0.png\n",
            "/content/drive/MyDrive/urbansound/spectrograms/3/85665-3-0-0.png\n"
          ]
        },
        {
          "output_type": "stream",
          "name": "stderr",
          "text": [
            "8338it [01:39, 86.45it/s]"
          ]
        },
        {
          "output_type": "stream",
          "name": "stdout",
          "text": [
            "/content/drive/MyDrive/urbansound/spectrograms/6/86278-6-0-0.png\n",
            "/content/drive/MyDrive/urbansound/spectrograms/3/86279-3-0-0.png\n",
            "/content/drive/MyDrive/urbansound/spectrograms/3/86284-3-0-0.png\n",
            "/content/drive/MyDrive/urbansound/spectrograms/3/86284-3-1-0.png\n",
            "/content/drive/MyDrive/urbansound/spectrograms/1/87275-1-0-0.png\n",
            "/content/drive/MyDrive/urbansound/spectrograms/1/87275-1-1-0.png\n",
            "/content/drive/MyDrive/urbansound/spectrograms/1/87275-1-2-0.png\n",
            "/content/drive/MyDrive/urbansound/spectrograms/1/87275-1-3-0.png\n",
            "/content/drive/MyDrive/urbansound/spectrograms/1/87275-1-4-0.png\n",
            "/content/drive/MyDrive/urbansound/spectrograms/1/87275-1-5-0.png\n",
            "/content/drive/MyDrive/urbansound/spectrograms/6/87562-6-0-0.png\n",
            "/content/drive/MyDrive/urbansound/spectrograms/8/88121-8-0-0.png\n",
            "/content/drive/MyDrive/urbansound/spectrograms/8/88121-8-0-1.png\n",
            "/content/drive/MyDrive/urbansound/spectrograms/8/88121-8-0-2.png\n",
            "/content/drive/MyDrive/urbansound/spectrograms/8/88121-8-0-3.png\n",
            "/content/drive/MyDrive/urbansound/spectrograms/8/88121-8-1-0.png\n",
            "/content/drive/MyDrive/urbansound/spectrograms/8/88121-8-2-0.png\n",
            "/content/drive/MyDrive/urbansound/spectrograms/7/88466-7-0-0.png\n"
          ]
        },
        {
          "output_type": "stream",
          "name": "stderr",
          "text": [
            "8356it [01:39, 84.73it/s]"
          ]
        },
        {
          "output_type": "stream",
          "name": "stdout",
          "text": [
            "/content/drive/MyDrive/urbansound/spectrograms/2/88569-2-0-14.png\n",
            "/content/drive/MyDrive/urbansound/spectrograms/2/88569-2-0-21.png\n",
            "/content/drive/MyDrive/urbansound/spectrograms/2/88569-2-0-36.png\n",
            "/content/drive/MyDrive/urbansound/spectrograms/2/88569-2-0-54.png\n",
            "/content/drive/MyDrive/urbansound/spectrograms/2/88569-2-0-67.png\n",
            "/content/drive/MyDrive/urbansound/spectrograms/2/88569-2-0-77.png\n",
            "/content/drive/MyDrive/urbansound/spectrograms/2/88569-2-0-85.png\n",
            "/content/drive/MyDrive/urbansound/spectrograms/4/89099-4-0-0.png\n",
            "/content/drive/MyDrive/urbansound/spectrograms/4/89099-4-0-1.png\n",
            "/content/drive/MyDrive/urbansound/spectrograms/4/89099-4-0-2.png\n",
            "/content/drive/MyDrive/urbansound/spectrograms/3/89207-3-0-0.png\n",
            "/content/drive/MyDrive/urbansound/spectrograms/3/89209-3-0-0.png\n",
            "/content/drive/MyDrive/urbansound/spectrograms/3/89210-3-0-0.png\n",
            "/content/drive/MyDrive/urbansound/spectrograms/3/89211-3-0-0.png\n",
            "/content/drive/MyDrive/urbansound/spectrograms/3/89212-3-0-0.png\n",
            "/content/drive/MyDrive/urbansound/spectrograms/3/89213-3-0-0.png\n",
            "/content/drive/MyDrive/urbansound/spectrograms/9/89442-9-0-14.png\n",
            "/content/drive/MyDrive/urbansound/spectrograms/9/89442-9-0-17.png\n"
          ]
        },
        {
          "output_type": "stream",
          "name": "stderr",
          "text": [
            "8374it [01:39, 81.07it/s]"
          ]
        },
        {
          "output_type": "stream",
          "name": "stdout",
          "text": [
            "/content/drive/MyDrive/urbansound/spectrograms/9/89442-9-0-34.png\n",
            "/content/drive/MyDrive/urbansound/spectrograms/9/89442-9-0-5.png\n",
            "/content/drive/MyDrive/urbansound/spectrograms/9/89442-9-0-6.png\n",
            "/content/drive/MyDrive/urbansound/spectrograms/9/89442-9-0-7.png\n",
            "/content/drive/MyDrive/urbansound/spectrograms/9/89443-9-0-1.png\n",
            "/content/drive/MyDrive/urbansound/spectrograms/9/89443-9-0-16.png\n",
            "/content/drive/MyDrive/urbansound/spectrograms/9/89443-9-0-17.png\n",
            "/content/drive/MyDrive/urbansound/spectrograms/9/89443-9-0-2.png\n",
            "/content/drive/MyDrive/urbansound/spectrograms/9/89443-9-0-48.png\n",
            "/content/drive/MyDrive/urbansound/spectrograms/9/89443-9-0-50.png\n",
            "/content/drive/MyDrive/urbansound/spectrograms/1/89679-1-0-0.png\n",
            "/content/drive/MyDrive/urbansound/spectrograms/1/89679-1-1-0.png\n",
            "/content/drive/MyDrive/urbansound/spectrograms/5/89724-5-0-0.png\n",
            "/content/drive/MyDrive/urbansound/spectrograms/5/89724-5-0-1.png\n",
            "/content/drive/MyDrive/urbansound/spectrograms/5/89724-5-0-2.png\n",
            "/content/drive/MyDrive/urbansound/spectrograms/5/89724-5-0-3.png\n",
            "/content/drive/MyDrive/urbansound/spectrograms/5/89724-5-0-4.png\n",
            "/content/drive/MyDrive/urbansound/spectrograms/5/89724-5-0-5.png\n"
          ]
        },
        {
          "output_type": "stream",
          "name": "stderr",
          "text": [
            "\r8383it [01:39, 80.68it/s]"
          ]
        },
        {
          "output_type": "stream",
          "name": "stdout",
          "text": [
            "/content/drive/MyDrive/urbansound/spectrograms/5/89948-5-0-0.png\n",
            "/content/drive/MyDrive/urbansound/spectrograms/7/90013-7-0-0.png\n",
            "/content/drive/MyDrive/urbansound/spectrograms/7/90013-7-0-1.png\n",
            "/content/drive/MyDrive/urbansound/spectrograms/7/90013-7-0-2.png\n",
            "/content/drive/MyDrive/urbansound/spectrograms/7/90013-7-0-3.png\n",
            "/content/drive/MyDrive/urbansound/spectrograms/7/90013-7-0-4.png\n",
            "/content/drive/MyDrive/urbansound/spectrograms/7/90013-7-0-5.png\n",
            "/content/drive/MyDrive/urbansound/spectrograms/7/90013-7-0-6.png\n",
            "/content/drive/MyDrive/urbansound/spectrograms/7/90013-7-0-7.png\n",
            "/content/drive/MyDrive/urbansound/spectrograms/7/90013-7-1-0.png\n",
            "/content/drive/MyDrive/urbansound/spectrograms/7/90013-7-1-1.png\n",
            "/content/drive/MyDrive/urbansound/spectrograms/7/90013-7-1-2.png\n",
            "/content/drive/MyDrive/urbansound/spectrograms/7/90013-7-1-3.png\n",
            "/content/drive/MyDrive/urbansound/spectrograms/7/90013-7-1-4.png\n",
            "/content/drive/MyDrive/urbansound/spectrograms/7/90013-7-1-5.png\n",
            "/content/drive/MyDrive/urbansound/spectrograms/8/90014-8-0-0.png\n",
            "/content/drive/MyDrive/urbansound/spectrograms/8/90014-8-0-1.png\n"
          ]
        },
        {
          "output_type": "stream",
          "name": "stderr",
          "text": [
            "8401it [01:39, 78.83it/s]"
          ]
        },
        {
          "output_type": "stream",
          "name": "stdout",
          "text": [
            "/content/drive/MyDrive/urbansound/spectrograms/8/90014-8-0-2.png\n",
            "/content/drive/MyDrive/urbansound/spectrograms/8/90014-8-0-3.png\n",
            "/content/drive/MyDrive/urbansound/spectrograms/8/90014-8-0-4.png\n",
            "/content/drive/MyDrive/urbansound/spectrograms/8/90014-8-0-5.png\n",
            "/content/drive/MyDrive/urbansound/spectrograms/8/90014-8-0-6.png\n",
            "/content/drive/MyDrive/urbansound/spectrograms/3/9031-3-1-0.png\n",
            "/content/drive/MyDrive/urbansound/spectrograms/3/9031-3-2-0.png\n",
            "/content/drive/MyDrive/urbansound/spectrograms/3/9031-3-3-0.png\n",
            "/content/drive/MyDrive/urbansound/spectrograms/3/9031-3-4-0.png\n",
            "/content/drive/MyDrive/urbansound/spectrograms/3/9032-3-0-0.png\n",
            "/content/drive/MyDrive/urbansound/spectrograms/3/9032-3-1-0.png\n",
            "/content/drive/MyDrive/urbansound/spectrograms/3/9032-3-2-0.png\n",
            "/content/drive/MyDrive/urbansound/spectrograms/8/90846-8-0-0.png\n",
            "/content/drive/MyDrive/urbansound/spectrograms/5/91209-5-0-0.png\n",
            "/content/drive/MyDrive/urbansound/spectrograms/5/91209-5-0-1.png\n",
            "/content/drive/MyDrive/urbansound/spectrograms/5/91209-5-0-2.png\n",
            "/content/drive/MyDrive/urbansound/spectrograms/5/91209-5-1-0.png\n"
          ]
        },
        {
          "output_type": "stream",
          "name": "stderr",
          "text": [
            "8421it [01:40, 85.92it/s]"
          ]
        },
        {
          "output_type": "stream",
          "name": "stdout",
          "text": [
            "/content/drive/MyDrive/urbansound/spectrograms/5/91209-5-1-1.png\n",
            "/content/drive/MyDrive/urbansound/spectrograms/5/91209-5-1-2.png\n",
            "/content/drive/MyDrive/urbansound/spectrograms/5/91209-5-1-3.png\n",
            "/content/drive/MyDrive/urbansound/spectrograms/5/91209-5-1-4.png\n",
            "/content/drive/MyDrive/urbansound/spectrograms/5/91209-5-1-5.png\n",
            "/content/drive/MyDrive/urbansound/spectrograms/8/91396-8-0-0.png\n",
            "/content/drive/MyDrive/urbansound/spectrograms/8/91396-8-0-1.png\n",
            "/content/drive/MyDrive/urbansound/spectrograms/8/91396-8-0-2.png\n",
            "/content/drive/MyDrive/urbansound/spectrograms/8/91396-8-0-3.png\n",
            "/content/drive/MyDrive/urbansound/spectrograms/5/91533-5-0-0.png\n",
            "/content/drive/MyDrive/urbansound/spectrograms/5/91533-5-0-1.png\n",
            "/content/drive/MyDrive/urbansound/spectrograms/5/91533-5-0-2.png\n",
            "/content/drive/MyDrive/urbansound/spectrograms/5/91533-5-0-3.png\n",
            "/content/drive/MyDrive/urbansound/spectrograms/2/9223-2-0-10.png\n",
            "/content/drive/MyDrive/urbansound/spectrograms/2/9223-2-0-15.png\n",
            "/content/drive/MyDrive/urbansound/spectrograms/2/9223-2-0-17.png\n",
            "/content/drive/MyDrive/urbansound/spectrograms/2/9223-2-0-2.png\n",
            "/content/drive/MyDrive/urbansound/spectrograms/2/9223-2-0-4.png\n",
            "/content/drive/MyDrive/urbansound/spectrograms/2/9223-2-0-5.png\n",
            "/content/drive/MyDrive/urbansound/spectrograms/2/9223-2-0-9.png\n"
          ]
        },
        {
          "output_type": "stream",
          "name": "stderr",
          "text": [
            "8439it [01:40, 84.82it/s]"
          ]
        },
        {
          "output_type": "stream",
          "name": "stdout",
          "text": [
            "/content/drive/MyDrive/urbansound/spectrograms/9/93065-9-0-12.png\n",
            "/content/drive/MyDrive/urbansound/spectrograms/9/93065-9-0-14.png\n",
            "/content/drive/MyDrive/urbansound/spectrograms/9/93065-9-0-17.png\n",
            "/content/drive/MyDrive/urbansound/spectrograms/9/93065-9-0-2.png\n",
            "/content/drive/MyDrive/urbansound/spectrograms/9/93065-9-0-4.png\n",
            "/content/drive/MyDrive/urbansound/spectrograms/9/93065-9-0-7.png\n",
            "/content/drive/MyDrive/urbansound/spectrograms/6/93139-6-0-0.png\n",
            "/content/drive/MyDrive/urbansound/spectrograms/9/93193-9-0-4.png\n",
            "/content/drive/MyDrive/urbansound/spectrograms/9/93193-9-1-11.png\n",
            "/content/drive/MyDrive/urbansound/spectrograms/9/93193-9-1-18.png\n",
            "/content/drive/MyDrive/urbansound/spectrograms/9/93193-9-1-19.png\n",
            "/content/drive/MyDrive/urbansound/spectrograms/9/93193-9-1-22.png\n",
            "/content/drive/MyDrive/urbansound/spectrograms/9/93193-9-1-6.png\n",
            "/content/drive/MyDrive/urbansound/spectrograms/8/93567-8-0-0.png\n",
            "/content/drive/MyDrive/urbansound/spectrograms/8/93567-8-0-1.png\n",
            "/content/drive/MyDrive/urbansound/spectrograms/8/93567-8-0-10.png\n"
          ]
        },
        {
          "output_type": "stream",
          "name": "stderr",
          "text": [
            "8457it [01:40, 83.61it/s]"
          ]
        },
        {
          "output_type": "stream",
          "name": "stdout",
          "text": [
            "/content/drive/MyDrive/urbansound/spectrograms/8/93567-8-0-11.png\n",
            "/content/drive/MyDrive/urbansound/spectrograms/8/93567-8-0-12.png\n",
            "/content/drive/MyDrive/urbansound/spectrograms/8/93567-8-0-13.png\n",
            "/content/drive/MyDrive/urbansound/spectrograms/8/93567-8-0-14.png\n",
            "/content/drive/MyDrive/urbansound/spectrograms/8/93567-8-0-15.png\n",
            "/content/drive/MyDrive/urbansound/spectrograms/8/93567-8-0-16.png\n",
            "/content/drive/MyDrive/urbansound/spectrograms/8/93567-8-0-17.png\n",
            "/content/drive/MyDrive/urbansound/spectrograms/8/93567-8-0-18.png\n",
            "/content/drive/MyDrive/urbansound/spectrograms/8/93567-8-0-19.png\n",
            "/content/drive/MyDrive/urbansound/spectrograms/8/93567-8-0-2.png\n",
            "/content/drive/MyDrive/urbansound/spectrograms/8/93567-8-0-3.png\n",
            "/content/drive/MyDrive/urbansound/spectrograms/8/93567-8-0-4.png\n",
            "/content/drive/MyDrive/urbansound/spectrograms/8/93567-8-0-5.png\n",
            "/content/drive/MyDrive/urbansound/spectrograms/8/93567-8-0-6.png\n",
            "/content/drive/MyDrive/urbansound/spectrograms/8/93567-8-0-7.png\n"
          ]
        },
        {
          "output_type": "stream",
          "name": "stderr",
          "text": [
            "8474it [01:40, 76.10it/s]"
          ]
        },
        {
          "output_type": "stream",
          "name": "stdout",
          "text": [
            "/content/drive/MyDrive/urbansound/spectrograms/8/93567-8-0-8.png\n",
            "/content/drive/MyDrive/urbansound/spectrograms/8/93567-8-0-9.png\n",
            "/content/drive/MyDrive/urbansound/spectrograms/8/94020-8-0-0.png\n",
            "/content/drive/MyDrive/urbansound/spectrograms/8/94020-8-1-0.png\n",
            "/content/drive/MyDrive/urbansound/spectrograms/9/94182-9-0-0.png\n",
            "/content/drive/MyDrive/urbansound/spectrograms/9/94182-9-0-10.png\n",
            "/content/drive/MyDrive/urbansound/spectrograms/9/94182-9-0-16.png\n",
            "/content/drive/MyDrive/urbansound/spectrograms/9/94182-9-0-20.png\n",
            "/content/drive/MyDrive/urbansound/spectrograms/9/94182-9-0-23.png\n",
            "/content/drive/MyDrive/urbansound/spectrograms/9/94182-9-0-25.png\n",
            "/content/drive/MyDrive/urbansound/spectrograms/9/94182-9-0-9.png\n",
            "/content/drive/MyDrive/urbansound/spectrograms/1/94401-1-0-0.png\n",
            "/content/drive/MyDrive/urbansound/spectrograms/9/94631-9-0-12.png\n",
            "/content/drive/MyDrive/urbansound/spectrograms/9/94631-9-0-16.png\n",
            "/content/drive/MyDrive/urbansound/spectrograms/9/94631-9-1-16.png\n"
          ]
        },
        {
          "output_type": "stream",
          "name": "stderr",
          "text": [
            "8491it [01:41, 78.40it/s]"
          ]
        },
        {
          "output_type": "stream",
          "name": "stdout",
          "text": [
            "/content/drive/MyDrive/urbansound/spectrograms/9/94631-9-1-2.png\n",
            "/content/drive/MyDrive/urbansound/spectrograms/9/94631-9-1-25.png\n",
            "/content/drive/MyDrive/urbansound/spectrograms/9/94631-9-1-3.png\n",
            "/content/drive/MyDrive/urbansound/spectrograms/5/94632-5-0-0.png\n",
            "/content/drive/MyDrive/urbansound/spectrograms/5/94632-5-0-10.png\n",
            "/content/drive/MyDrive/urbansound/spectrograms/5/94632-5-0-13.png\n",
            "/content/drive/MyDrive/urbansound/spectrograms/5/94632-5-0-14.png\n",
            "/content/drive/MyDrive/urbansound/spectrograms/5/94632-5-0-15.png\n",
            "/content/drive/MyDrive/urbansound/spectrograms/5/94632-5-0-2.png\n",
            "/content/drive/MyDrive/urbansound/spectrograms/5/94632-5-0-21.png\n",
            "/content/drive/MyDrive/urbansound/spectrograms/5/94632-5-0-22.png\n",
            "/content/drive/MyDrive/urbansound/spectrograms/5/94632-5-0-25.png\n",
            "/content/drive/MyDrive/urbansound/spectrograms/5/94632-5-0-27.png\n",
            "/content/drive/MyDrive/urbansound/spectrograms/5/94632-5-0-28.png\n",
            "/content/drive/MyDrive/urbansound/spectrograms/5/94632-5-0-29.png\n",
            "/content/drive/MyDrive/urbansound/spectrograms/5/94632-5-0-31.png\n",
            "/content/drive/MyDrive/urbansound/spectrograms/5/94632-5-0-33.png\n"
          ]
        },
        {
          "output_type": "stream",
          "name": "stderr",
          "text": [
            "8507it [01:41, 77.01it/s]"
          ]
        },
        {
          "output_type": "stream",
          "name": "stdout",
          "text": [
            "/content/drive/MyDrive/urbansound/spectrograms/5/94632-5-0-34.png\n",
            "/content/drive/MyDrive/urbansound/spectrograms/5/94632-5-0-6.png\n",
            "/content/drive/MyDrive/urbansound/spectrograms/5/94632-5-0-8.png\n",
            "/content/drive/MyDrive/urbansound/spectrograms/5/94632-5-0-9.png\n",
            "/content/drive/MyDrive/urbansound/spectrograms/5/94632-5-1-11.png\n",
            "/content/drive/MyDrive/urbansound/spectrograms/5/94632-5-1-13.png\n",
            "/content/drive/MyDrive/urbansound/spectrograms/5/94632-5-1-14.png\n",
            "/content/drive/MyDrive/urbansound/spectrograms/5/94632-5-1-17.png\n",
            "/content/drive/MyDrive/urbansound/spectrograms/5/94632-5-1-18.png\n",
            "/content/drive/MyDrive/urbansound/spectrograms/5/94632-5-1-19.png\n",
            "/content/drive/MyDrive/urbansound/spectrograms/5/94632-5-1-2.png\n",
            "/content/drive/MyDrive/urbansound/spectrograms/5/94632-5-1-23.png\n",
            "/content/drive/MyDrive/urbansound/spectrograms/5/94632-5-1-26.png\n",
            "/content/drive/MyDrive/urbansound/spectrograms/5/94632-5-1-28.png\n",
            "/content/drive/MyDrive/urbansound/spectrograms/5/94632-5-1-30.png\n",
            "/content/drive/MyDrive/urbansound/spectrograms/5/94632-5-1-7.png\n"
          ]
        },
        {
          "output_type": "stream",
          "name": "stderr",
          "text": [
            "8524it [01:41, 79.02it/s]"
          ]
        },
        {
          "output_type": "stream",
          "name": "stdout",
          "text": [
            "/content/drive/MyDrive/urbansound/spectrograms/5/94632-5-1-9.png\n",
            "/content/drive/MyDrive/urbansound/spectrograms/8/94636-8-0-0.png\n",
            "/content/drive/MyDrive/urbansound/spectrograms/8/94636-8-0-1.png\n",
            "/content/drive/MyDrive/urbansound/spectrograms/8/94636-8-0-10.png\n",
            "/content/drive/MyDrive/urbansound/spectrograms/8/94636-8-0-11.png\n",
            "/content/drive/MyDrive/urbansound/spectrograms/8/94636-8-0-12.png\n",
            "/content/drive/MyDrive/urbansound/spectrograms/8/94636-8-0-13.png\n",
            "/content/drive/MyDrive/urbansound/spectrograms/8/94636-8-0-14.png\n",
            "/content/drive/MyDrive/urbansound/spectrograms/8/94636-8-0-15.png\n",
            "/content/drive/MyDrive/urbansound/spectrograms/8/94636-8-0-16.png\n",
            "/content/drive/MyDrive/urbansound/spectrograms/8/94636-8-0-17.png\n",
            "/content/drive/MyDrive/urbansound/spectrograms/8/94636-8-0-18.png\n",
            "/content/drive/MyDrive/urbansound/spectrograms/8/94636-8-0-19.png\n",
            "/content/drive/MyDrive/urbansound/spectrograms/8/94636-8-0-2.png\n",
            "/content/drive/MyDrive/urbansound/spectrograms/8/94636-8-0-20.png\n",
            "/content/drive/MyDrive/urbansound/spectrograms/8/94636-8-0-21.png\n",
            "/content/drive/MyDrive/urbansound/spectrograms/8/94636-8-0-3.png\n",
            "/content/drive/MyDrive/urbansound/spectrograms/8/94636-8-0-4.png\n"
          ]
        },
        {
          "output_type": "stream",
          "name": "stderr",
          "text": [
            "8542it [01:41, 82.44it/s]"
          ]
        },
        {
          "output_type": "stream",
          "name": "stdout",
          "text": [
            "/content/drive/MyDrive/urbansound/spectrograms/8/94636-8-0-5.png\n",
            "/content/drive/MyDrive/urbansound/spectrograms/8/94636-8-0-6.png\n",
            "/content/drive/MyDrive/urbansound/spectrograms/8/94636-8-0-7.png\n",
            "/content/drive/MyDrive/urbansound/spectrograms/8/94636-8-0-8.png\n",
            "/content/drive/MyDrive/urbansound/spectrograms/8/94636-8-0-9.png\n",
            "/content/drive/MyDrive/urbansound/spectrograms/5/94710-5-0-0.png\n",
            "/content/drive/MyDrive/urbansound/spectrograms/5/94710-5-0-1.png\n",
            "/content/drive/MyDrive/urbansound/spectrograms/5/94710-5-0-2.png\n",
            "/content/drive/MyDrive/urbansound/spectrograms/5/94710-5-0-3.png\n",
            "/content/drive/MyDrive/urbansound/spectrograms/5/94710-5-1-0.png\n",
            "/content/drive/MyDrive/urbansound/spectrograms/1/94868-1-0-0.png\n",
            "/content/drive/MyDrive/urbansound/spectrograms/1/94868-1-1-0.png\n",
            "/content/drive/MyDrive/urbansound/spectrograms/1/94868-1-2-0.png\n",
            "/content/drive/MyDrive/urbansound/spectrograms/5/95077-5-0-0.png\n",
            "/content/drive/MyDrive/urbansound/spectrograms/3/95404-3-0-0.png\n",
            "/content/drive/MyDrive/urbansound/spectrograms/3/95404-3-0-1.png\n",
            "/content/drive/MyDrive/urbansound/spectrograms/3/95404-3-0-4.png\n"
          ]
        },
        {
          "output_type": "stream",
          "name": "stderr",
          "text": [
            "8560it [01:41, 81.93it/s]"
          ]
        },
        {
          "output_type": "stream",
          "name": "stdout",
          "text": [
            "/content/drive/MyDrive/urbansound/spectrograms/3/95404-3-0-5.png\n",
            "/content/drive/MyDrive/urbansound/spectrograms/3/95532-3-0-0.png\n",
            "/content/drive/MyDrive/urbansound/spectrograms/3/95536-3-0-1.png\n",
            "/content/drive/MyDrive/urbansound/spectrograms/3/95536-3-0-2.png\n",
            "/content/drive/MyDrive/urbansound/spectrograms/3/95536-3-0-4.png\n",
            "/content/drive/MyDrive/urbansound/spectrograms/3/95536-3-0-5.png\n",
            "/content/drive/MyDrive/urbansound/spectrograms/3/95549-3-0-14.png\n",
            "/content/drive/MyDrive/urbansound/spectrograms/3/95549-3-0-20.png\n",
            "/content/drive/MyDrive/urbansound/spectrograms/3/95549-3-0-6.png\n",
            "/content/drive/MyDrive/urbansound/spectrograms/3/95549-3-0-7.png\n",
            "/content/drive/MyDrive/urbansound/spectrograms/4/95562-4-0-0.png\n",
            "/content/drive/MyDrive/urbansound/spectrograms/4/95562-4-1-0.png\n",
            "/content/drive/MyDrive/urbansound/spectrograms/4/95562-4-2-0.png\n",
            "/content/drive/MyDrive/urbansound/spectrograms/4/95562-4-3-0.png\n",
            "/content/drive/MyDrive/urbansound/spectrograms/4/95562-4-3-1.png\n",
            "/content/drive/MyDrive/urbansound/spectrograms/4/96158-4-0-0.png\n",
            "/content/drive/MyDrive/urbansound/spectrograms/4/96159-4-0-0.png\n"
          ]
        },
        {
          "output_type": "stream",
          "name": "stderr",
          "text": [
            "\r8569it [01:42, 83.80it/s]"
          ]
        },
        {
          "output_type": "stream",
          "name": "stdout",
          "text": [
            "/content/drive/MyDrive/urbansound/spectrograms/4/96159-4-1-0.png\n",
            "/content/drive/MyDrive/urbansound/spectrograms/9/96169-9-1-10.png\n",
            "/content/drive/MyDrive/urbansound/spectrograms/9/96169-9-1-3.png\n",
            "/content/drive/MyDrive/urbansound/spectrograms/9/96169-9-1-49.png\n",
            "/content/drive/MyDrive/urbansound/spectrograms/9/96169-9-1-55.png\n",
            "/content/drive/MyDrive/urbansound/spectrograms/9/96169-9-1-61.png\n",
            "/content/drive/MyDrive/urbansound/spectrograms/9/96169-9-1-74.png\n",
            "/content/drive/MyDrive/urbansound/spectrograms/9/96475-9-0-0.png\n",
            "/content/drive/MyDrive/urbansound/spectrograms/9/96475-9-0-3.png\n",
            "/content/drive/MyDrive/urbansound/spectrograms/9/96475-9-0-4.png\n",
            "/content/drive/MyDrive/urbansound/spectrograms/9/96475-9-0-5.png\n",
            "/content/drive/MyDrive/urbansound/spectrograms/9/96475-9-0-6.png\n",
            "/content/drive/MyDrive/urbansound/spectrograms/9/96475-9-0-9.png\n",
            "/content/drive/MyDrive/urbansound/spectrograms/8/96657-8-0-0.png\n",
            "/content/drive/MyDrive/urbansound/spectrograms/8/96657-8-0-1.png\n",
            "/content/drive/MyDrive/urbansound/spectrograms/8/96657-8-0-2.png\n",
            "/content/drive/MyDrive/urbansound/spectrograms/8/96657-8-0-3.png\n",
            "/content/drive/MyDrive/urbansound/spectrograms/1/9674-1-0-0.png\n",
            "/content/drive/MyDrive/urbansound/spectrograms/1/9674-1-0-1.png\n"
          ]
        },
        {
          "output_type": "stream",
          "name": "stderr",
          "text": [
            "8588it [01:42, 82.85it/s]"
          ]
        },
        {
          "output_type": "stream",
          "name": "stdout",
          "text": [
            "/content/drive/MyDrive/urbansound/spectrograms/1/9674-1-0-2.png\n",
            "/content/drive/MyDrive/urbansound/spectrograms/9/96920-9-0-0.png\n",
            "/content/drive/MyDrive/urbansound/spectrograms/9/96920-9-0-11.png\n",
            "/content/drive/MyDrive/urbansound/spectrograms/9/96920-9-0-13.png\n",
            "/content/drive/MyDrive/urbansound/spectrograms/9/96920-9-0-2.png\n",
            "/content/drive/MyDrive/urbansound/spectrograms/9/96920-9-0-3.png\n",
            "/content/drive/MyDrive/urbansound/spectrograms/9/96920-9-0-8.png\n",
            "/content/drive/MyDrive/urbansound/spectrograms/9/96921-9-0-1.png\n",
            "/content/drive/MyDrive/urbansound/spectrograms/9/96921-9-0-11.png\n",
            "/content/drive/MyDrive/urbansound/spectrograms/9/96921-9-0-17.png\n",
            "/content/drive/MyDrive/urbansound/spectrograms/9/96921-9-0-18.png\n",
            "/content/drive/MyDrive/urbansound/spectrograms/9/96921-9-0-4.png\n",
            "/content/drive/MyDrive/urbansound/spectrograms/9/96921-9-0-9.png\n",
            "/content/drive/MyDrive/urbansound/spectrograms/3/97193-3-0-0.png\n",
            "/content/drive/MyDrive/urbansound/spectrograms/3/97193-3-0-1.png\n"
          ]
        },
        {
          "output_type": "stream",
          "name": "stderr",
          "text": [
            "8607it [01:42, 81.77it/s]"
          ]
        },
        {
          "output_type": "stream",
          "name": "stdout",
          "text": [
            "/content/drive/MyDrive/urbansound/spectrograms/3/97193-3-0-4.png\n",
            "/content/drive/MyDrive/urbansound/spectrograms/3/97193-3-0-6.png\n",
            "/content/drive/MyDrive/urbansound/spectrograms/2/97317-2-0-22.png\n",
            "/content/drive/MyDrive/urbansound/spectrograms/2/97317-2-0-23.png\n",
            "/content/drive/MyDrive/urbansound/spectrograms/2/97317-2-0-25.png\n",
            "/content/drive/MyDrive/urbansound/spectrograms/2/97317-2-0-28.png\n",
            "/content/drive/MyDrive/urbansound/spectrograms/2/97317-2-0-34.png\n",
            "/content/drive/MyDrive/urbansound/spectrograms/2/97317-2-0-36.png\n",
            "/content/drive/MyDrive/urbansound/spectrograms/2/97317-2-0-5.png\n",
            "/content/drive/MyDrive/urbansound/spectrograms/2/97331-2-0-13.png\n",
            "/content/drive/MyDrive/urbansound/spectrograms/2/97331-2-0-17.png\n",
            "/content/drive/MyDrive/urbansound/spectrograms/2/97331-2-0-20.png\n",
            "/content/drive/MyDrive/urbansound/spectrograms/2/97331-2-0-35.png\n",
            "/content/drive/MyDrive/urbansound/spectrograms/2/97331-2-0-50.png\n",
            "/content/drive/MyDrive/urbansound/spectrograms/2/97331-2-0-55.png\n",
            "/content/drive/MyDrive/urbansound/spectrograms/2/97331-2-0-59.png\n",
            "/content/drive/MyDrive/urbansound/spectrograms/2/97331-2-0-98.png\n",
            "/content/drive/MyDrive/urbansound/spectrograms/3/97392-3-0-0.png"
          ]
        },
        {
          "output_type": "stream",
          "name": "stderr",
          "text": [
            "8625it [01:42, 82.49it/s]"
          ]
        },
        {
          "output_type": "stream",
          "name": "stdout",
          "text": [
            "\n",
            "/content/drive/MyDrive/urbansound/spectrograms/7/97606-7-0-0.png\n",
            "/content/drive/MyDrive/urbansound/spectrograms/7/97606-7-1-0.png\n",
            "/content/drive/MyDrive/urbansound/spectrograms/7/97606-7-2-0.png\n",
            "/content/drive/MyDrive/urbansound/spectrograms/7/97606-7-3-0.png\n",
            "/content/drive/MyDrive/urbansound/spectrograms/7/97606-7-4-0.png\n",
            "/content/drive/MyDrive/urbansound/spectrograms/7/97606-7-5-0.png\n",
            "/content/drive/MyDrive/urbansound/spectrograms/3/97756-3-0-0.png\n",
            "/content/drive/MyDrive/urbansound/spectrograms/9/98202-9-0-10.png\n",
            "/content/drive/MyDrive/urbansound/spectrograms/9/98202-9-0-4.png\n",
            "/content/drive/MyDrive/urbansound/spectrograms/9/98202-9-0-7.png\n",
            "/content/drive/MyDrive/urbansound/spectrograms/9/98202-9-1-20.png\n",
            "/content/drive/MyDrive/urbansound/spectrograms/9/98202-9-1-27.png\n",
            "/content/drive/MyDrive/urbansound/spectrograms/9/98202-9-1-5.png\n",
            "/content/drive/MyDrive/urbansound/spectrograms/7/98223-7-0-0.png\n",
            "/content/drive/MyDrive/urbansound/spectrograms/7/98223-7-1-0.png\n",
            "/content/drive/MyDrive/urbansound/spectrograms/7/98223-7-10-0.png\n",
            "/content/drive/MyDrive/urbansound/spectrograms/7/98223-7-2-0.png\n"
          ]
        },
        {
          "output_type": "stream",
          "name": "stderr",
          "text": [
            "8643it [01:42, 82.80it/s]"
          ]
        },
        {
          "output_type": "stream",
          "name": "stdout",
          "text": [
            "/content/drive/MyDrive/urbansound/spectrograms/7/98223-7-3-0.png\n",
            "/content/drive/MyDrive/urbansound/spectrograms/7/98223-7-4-0.png\n",
            "/content/drive/MyDrive/urbansound/spectrograms/7/98223-7-5-0.png\n",
            "/content/drive/MyDrive/urbansound/spectrograms/7/98223-7-6-0.png\n",
            "/content/drive/MyDrive/urbansound/spectrograms/7/98223-7-7-0.png\n",
            "/content/drive/MyDrive/urbansound/spectrograms/7/98223-7-8-0.png\n",
            "/content/drive/MyDrive/urbansound/spectrograms/7/98223-7-9-0.png\n",
            "/content/drive/MyDrive/urbansound/spectrograms/9/98263-9-0-1.png\n",
            "/content/drive/MyDrive/urbansound/spectrograms/9/98263-9-0-10.png\n",
            "/content/drive/MyDrive/urbansound/spectrograms/9/98263-9-0-22.png\n",
            "/content/drive/MyDrive/urbansound/spectrograms/9/98263-9-0-24.png\n",
            "/content/drive/MyDrive/urbansound/spectrograms/9/98263-9-0-33.png\n",
            "/content/drive/MyDrive/urbansound/spectrograms/9/98263-9-0-35.png\n",
            "/content/drive/MyDrive/urbansound/spectrograms/8/98525-8-0-0.png\n",
            "/content/drive/MyDrive/urbansound/spectrograms/8/98536-8-0-0.png\n",
            "/content/drive/MyDrive/urbansound/spectrograms/9/98680-9-0-11.png\n",
            "/content/drive/MyDrive/urbansound/spectrograms/9/98680-9-0-14.png\n"
          ]
        },
        {
          "output_type": "stream",
          "name": "stderr",
          "text": [
            "\r8652it [01:43, 71.97it/s]"
          ]
        },
        {
          "output_type": "stream",
          "name": "stdout",
          "text": [
            "/content/drive/MyDrive/urbansound/spectrograms/9/98680-9-0-2.png\n",
            "/content/drive/MyDrive/urbansound/spectrograms/9/98680-9-0-3.png\n",
            "/content/drive/MyDrive/urbansound/spectrograms/9/98680-9-0-5.png\n",
            "/content/drive/MyDrive/urbansound/spectrograms/9/98681-9-0-0.png\n",
            "/content/drive/MyDrive/urbansound/spectrograms/9/98681-9-0-11.png\n",
            "/content/drive/MyDrive/urbansound/spectrograms/9/98681-9-0-12.png\n",
            "/content/drive/MyDrive/urbansound/spectrograms/9/98681-9-0-5.png\n",
            "/content/drive/MyDrive/urbansound/spectrograms/9/98681-9-0-6.png\n",
            "/content/drive/MyDrive/urbansound/spectrograms/9/98681-9-0-7.png\n",
            "/content/drive/MyDrive/urbansound/spectrograms/7/98859-7-0-0.png\n",
            "/content/drive/MyDrive/urbansound/spectrograms/7/98859-7-1-0.png\n",
            "/content/drive/MyDrive/urbansound/spectrograms/7/98859-7-2-0.png\n"
          ]
        },
        {
          "output_type": "stream",
          "name": "stderr",
          "text": [
            "8667it [01:43, 67.15it/s]"
          ]
        },
        {
          "output_type": "stream",
          "name": "stdout",
          "text": [
            "/content/drive/MyDrive/urbansound/spectrograms/7/98859-7-2-1.png\n",
            "/content/drive/MyDrive/urbansound/spectrograms/7/98859-7-2-2.png\n",
            "/content/drive/MyDrive/urbansound/spectrograms/7/98859-7-2-3.png\n",
            "/content/drive/MyDrive/urbansound/spectrograms/7/98859-7-2-4.png\n",
            "/content/drive/MyDrive/urbansound/spectrograms/7/98859-7-2-5.png\n",
            "/content/drive/MyDrive/urbansound/spectrograms/9/99157-9-0-10.png\n",
            "/content/drive/MyDrive/urbansound/spectrograms/9/99157-9-0-15.png\n",
            "/content/drive/MyDrive/urbansound/spectrograms/9/99157-9-0-16.png\n",
            "/content/drive/MyDrive/urbansound/spectrograms/9/99157-9-0-22.png\n",
            "/content/drive/MyDrive/urbansound/spectrograms/9/99157-9-0-24.png\n",
            "/content/drive/MyDrive/urbansound/spectrograms/9/99157-9-0-31.png\n",
            "/content/drive/MyDrive/urbansound/spectrograms/9/99179-9-0-12.png\n",
            "/content/drive/MyDrive/urbansound/spectrograms/9/99179-9-0-17.png\n"
          ]
        },
        {
          "output_type": "stream",
          "name": "stderr",
          "text": [
            "8682it [01:43, 68.48it/s]"
          ]
        },
        {
          "output_type": "stream",
          "name": "stdout",
          "text": [
            "/content/drive/MyDrive/urbansound/spectrograms/9/99179-9-0-19.png\n",
            "/content/drive/MyDrive/urbansound/spectrograms/9/99179-9-0-38.png\n",
            "/content/drive/MyDrive/urbansound/spectrograms/9/99179-9-0-53.png\n",
            "/content/drive/MyDrive/urbansound/spectrograms/9/99179-9-0-58.png\n",
            "/content/drive/MyDrive/urbansound/spectrograms/9/99180-9-0-0.png\n",
            "/content/drive/MyDrive/urbansound/spectrograms/9/99180-9-0-2.png\n",
            "/content/drive/MyDrive/urbansound/spectrograms/9/99180-9-0-36.png\n",
            "/content/drive/MyDrive/urbansound/spectrograms/9/99180-9-0-48.png\n",
            "/content/drive/MyDrive/urbansound/spectrograms/9/99180-9-0-49.png\n",
            "/content/drive/MyDrive/urbansound/spectrograms/9/99180-9-0-7.png\n",
            "/content/drive/MyDrive/urbansound/spectrograms/3/99185-3-0-0.png\n",
            "/content/drive/MyDrive/urbansound/spectrograms/4/99192-4-0-0.png\n",
            "/content/drive/MyDrive/urbansound/spectrograms/4/99192-4-0-1.png\n",
            "/content/drive/MyDrive/urbansound/spectrograms/4/99192-4-0-12.png\n",
            "/content/drive/MyDrive/urbansound/spectrograms/4/99192-4-0-15.png\n"
          ]
        },
        {
          "output_type": "stream",
          "name": "stderr",
          "text": [
            "8696it [01:43, 68.01it/s]"
          ]
        },
        {
          "output_type": "stream",
          "name": "stdout",
          "text": [
            "/content/drive/MyDrive/urbansound/spectrograms/4/99192-4-0-17.png\n",
            "/content/drive/MyDrive/urbansound/spectrograms/4/99192-4-0-18.png\n",
            "/content/drive/MyDrive/urbansound/spectrograms/4/99192-4-0-20.png\n",
            "/content/drive/MyDrive/urbansound/spectrograms/4/99192-4-0-24.png\n",
            "/content/drive/MyDrive/urbansound/spectrograms/4/99192-4-0-26.png\n",
            "/content/drive/MyDrive/urbansound/spectrograms/4/99192-4-0-27.png\n",
            "/content/drive/MyDrive/urbansound/spectrograms/4/99192-4-0-28.png\n",
            "/content/drive/MyDrive/urbansound/spectrograms/4/99192-4-0-3.png\n",
            "/content/drive/MyDrive/urbansound/spectrograms/4/99192-4-0-30.png\n",
            "/content/drive/MyDrive/urbansound/spectrograms/4/99192-4-0-32.png\n",
            "/content/drive/MyDrive/urbansound/spectrograms/4/99192-4-0-33.png\n",
            "/content/drive/MyDrive/urbansound/spectrograms/4/99192-4-0-38.png\n",
            "/content/drive/MyDrive/urbansound/spectrograms/4/99192-4-0-40.png\n"
          ]
        },
        {
          "output_type": "stream",
          "name": "stderr",
          "text": [
            "8710it [01:44, 62.61it/s]"
          ]
        },
        {
          "output_type": "stream",
          "name": "stdout",
          "text": [
            "/content/drive/MyDrive/urbansound/spectrograms/4/99192-4-0-41.png\n",
            "/content/drive/MyDrive/urbansound/spectrograms/4/99192-4-0-43.png\n",
            "/content/drive/MyDrive/urbansound/spectrograms/4/99192-4-0-47.png\n",
            "/content/drive/MyDrive/urbansound/spectrograms/4/99192-4-0-48.png\n",
            "/content/drive/MyDrive/urbansound/spectrograms/4/99192-4-0-49.png\n",
            "/content/drive/MyDrive/urbansound/spectrograms/4/99192-4-0-52.png\n",
            "/content/drive/MyDrive/urbansound/spectrograms/4/99192-4-0-53.png\n",
            "/content/drive/MyDrive/urbansound/spectrograms/4/99192-4-0-54.png\n",
            "/content/drive/MyDrive/urbansound/spectrograms/4/99192-4-0-55.png\n",
            "/content/drive/MyDrive/urbansound/spectrograms/4/99192-4-0-7.png\n",
            "/content/drive/MyDrive/urbansound/spectrograms/2/99500-2-0-1.png\n",
            "/content/drive/MyDrive/urbansound/spectrograms/2/99500-2-0-11.png\n",
            "/content/drive/MyDrive/urbansound/spectrograms/2/99500-2-0-2.png\n",
            "/content/drive/MyDrive/urbansound/spectrograms/2/99500-2-0-23.png\n"
          ]
        },
        {
          "output_type": "stream",
          "name": "stderr",
          "text": [
            "8728it [01:44, 73.65it/s]"
          ]
        },
        {
          "output_type": "stream",
          "name": "stdout",
          "text": [
            "/content/drive/MyDrive/urbansound/spectrograms/2/99500-2-0-29.png\n",
            "/content/drive/MyDrive/urbansound/spectrograms/2/99500-2-0-39.png\n",
            "/content/drive/MyDrive/urbansound/spectrograms/2/99500-2-0-41.png\n",
            "/content/drive/MyDrive/urbansound/spectrograms/2/99500-2-0-50.png\n",
            "/content/drive/MyDrive/urbansound/spectrograms/9/99710-9-0-11.png\n",
            "/content/drive/MyDrive/urbansound/spectrograms/9/99710-9-0-12.png\n",
            "/content/drive/MyDrive/urbansound/spectrograms/9/99710-9-0-16.png\n",
            "/content/drive/MyDrive/urbansound/spectrograms/9/99710-9-0-2.png\n",
            "/content/drive/MyDrive/urbansound/spectrograms/9/99710-9-0-5.png\n",
            "/content/drive/MyDrive/urbansound/spectrograms/9/99710-9-0-6.png\n",
            "/content/drive/MyDrive/urbansound/spectrograms/1/99812-1-0-0.png\n",
            "/content/drive/MyDrive/urbansound/spectrograms/1/99812-1-0-1.png\n",
            "/content/drive/MyDrive/urbansound/spectrograms/1/99812-1-0-2.png\n",
            "/content/drive/MyDrive/urbansound/spectrograms/1/99812-1-1-0.png\n",
            "/content/drive/MyDrive/urbansound/spectrograms/1/99812-1-2-0.png\n",
            "/content/drive/MyDrive/urbansound/spectrograms/1/99812-1-3-0.png\n",
            "/content/drive/MyDrive/urbansound/spectrograms/1/99812-1-4-0.png\n"
          ]
        },
        {
          "output_type": "stream",
          "name": "stderr",
          "text": [
            "\r8732it [01:44, 83.71it/s]"
          ]
        },
        {
          "output_type": "stream",
          "name": "stdout",
          "text": [
            "/content/drive/MyDrive/urbansound/spectrograms/1/99812-1-5-0.png\n",
            "/content/drive/MyDrive/urbansound/spectrograms/1/99812-1-6-0.png\n"
          ]
        },
        {
          "output_type": "stream",
          "name": "stderr",
          "text": [
            "\n"
          ]
        }
      ],
      "source": [
        "data=[]\n",
        "for index_num, row in tqdm(metadata.iterrows()):\n",
        "    file_name = os.path.join(os.path.abspath(file_path),str(row[\"classID\"])+\"/\",str(row[\"slice_file_name\"]).replace(\".wav\",\".png\"))\n",
        "    processed = preprocess(file_name)\n",
        "    class_label=str(row[\"class\"])\n",
        "    data.append((np.asarray(processed),class_label))"
      ]
    },
    {
      "cell_type": "code",
      "execution_count": null,
      "id": "8cf7fdca-c221-45ac-b60c-059529301db4",
      "metadata": {
        "id": "8cf7fdca-c221-45ac-b60c-059529301db4"
      },
      "outputs": [],
      "source": [
        "data_df = pd.DataFrame(data,columns=[\"features\",\"class\"])"
      ]
    },
    {
      "cell_type": "code",
      "source": [
        "data_df[\"features\"][0].shape"
      ],
      "metadata": {
        "colab": {
          "base_uri": "https://localhost:8080/"
        },
        "id": "WpSSYcIx1Z3V",
        "outputId": "d1e8540a-1f09-410b-9ecf-6d6cea8d453c"
      },
      "id": "WpSSYcIx1Z3V",
      "execution_count": null,
      "outputs": [
        {
          "output_type": "execute_result",
          "data": {
            "text/plain": [
              "(64, 64)"
            ]
          },
          "metadata": {},
          "execution_count": 148
        }
      ]
    },
    {
      "cell_type": "code",
      "execution_count": null,
      "id": "d9dce57f-551f-47cb-9932-d63c15925b59",
      "metadata": {
        "id": "d9dce57f-551f-47cb-9932-d63c15925b59",
        "outputId": "73a8fe0d-6495-458d-fb48-1e3a176743a1",
        "colab": {
          "base_uri": "https://localhost:8080/"
        }
      },
      "outputs": [
        {
          "output_type": "stream",
          "name": "stdout",
          "text": [
            "(8732, 2)\n",
            "['dog_bark' 'children_playing' 'car_horn' 'air_conditioner' 'street_music'\n",
            " 'gun_shot' 'siren' 'engine_idling' 'jackhammer' 'drilling']\n"
          ]
        }
      ],
      "source": [
        "print(data_df.shape)\n",
        "print(data_df[\"class\"].unique())\n",
        "#data_df = data_df.drop(\"Unnamed: 0\",axis=1)\n",
        "X=data_df.drop(\"class\",axis=1)\n",
        "y=data_df.loc[:,\"class\"]\n"
      ]
    },
    {
      "cell_type": "code",
      "source": [
        "t = X[\"features\"]"
      ],
      "metadata": {
        "id": "ArVTT8ZmHeKa"
      },
      "id": "ArVTT8ZmHeKa",
      "execution_count": null,
      "outputs": []
    },
    {
      "cell_type": "code",
      "execution_count": null,
      "id": "574e64ec-3e54-4deb-9e62-401000cb90ab",
      "metadata": {
        "id": "574e64ec-3e54-4deb-9e62-401000cb90ab"
      },
      "outputs": [],
      "source": [
        "t =t.to_numpy()"
      ]
    },
    {
      "cell_type": "code",
      "source": [
        "v = np.stack(t)"
      ],
      "metadata": {
        "id": "qLKgYbJuH777"
      },
      "id": "qLKgYbJuH777",
      "execution_count": null,
      "outputs": []
    },
    {
      "cell_type": "code",
      "source": [
        "v.shape"
      ],
      "metadata": {
        "colab": {
          "base_uri": "https://localhost:8080/"
        },
        "id": "s1qYlRuNJLJh",
        "outputId": "d12db045-3f97-4d40-a350-71284563ccdd"
      },
      "id": "s1qYlRuNJLJh",
      "execution_count": null,
      "outputs": [
        {
          "output_type": "execute_result",
          "data": {
            "text/plain": [
              "(8732, 64, 64)"
            ]
          },
          "metadata": {},
          "execution_count": 153
        }
      ]
    },
    {
      "cell_type": "code",
      "execution_count": null,
      "id": "e4154fa1-84a0-4975-9968-0b223649de5b",
      "metadata": {
        "id": "e4154fa1-84a0-4975-9968-0b223649de5b"
      },
      "outputs": [],
      "source": [
        "encoder=LabelEncoder()\n",
        "y=encoder.fit_transform(y)"
      ]
    },
    {
      "cell_type": "code",
      "source": [
        "X_train, X_temporary, y_train,  y_temporary =train_test_split(v,y,train_size=0.8)\n",
        "\n",
        "X_val,X_test,y_val,y_test=train_test_split(X_temporary,y_temporary, train_size=0.5)"
      ],
      "metadata": {
        "id": "a-nKOmY1xZ8L"
      },
      "id": "a-nKOmY1xZ8L",
      "execution_count": null,
      "outputs": []
    },
    {
      "cell_type": "code",
      "source": [
        "X_train.shape"
      ],
      "metadata": {
        "colab": {
          "base_uri": "https://localhost:8080/"
        },
        "id": "5R6QQZpR0Yw3",
        "outputId": "5e2a6388-6889-471a-e754-aee6d258e6d5"
      },
      "id": "5R6QQZpR0Yw3",
      "execution_count": null,
      "outputs": [
        {
          "output_type": "execute_result",
          "data": {
            "text/plain": [
              "(6985, 64, 64)"
            ]
          },
          "metadata": {},
          "execution_count": 157
        }
      ]
    },
    {
      "cell_type": "code",
      "source": [
        "np.save('/content/drive/MyDrive/urbansound/X_train.npy',X_train)\n",
        "np.savetxt('/content/drive/MyDrive/urbansound/y_train.txt', y_train, delimiter =',')\n",
        "\n",
        "np.save('/content/drive/MyDrive/urbansound/X_val.npy',X_val)\n",
        "np.savetxt('/content/drive/MyDrive/urbansound/y_val.txt', y_val, delimiter =',')\n",
        "\n",
        "np.save('/content/drive/MyDrive/urbansound/X_test.npy',X_test)\n",
        "np.savetxt('/content/drive/MyDrive/urbansound/y_test.txt', y_test, delimiter =',')"
      ],
      "metadata": {
        "id": "sFCYpy40zrrv"
      },
      "id": "sFCYpy40zrrv",
      "execution_count": null,
      "outputs": []
    },
    {
      "cell_type": "code",
      "source": [
        "print(f\"Length of the dataset: {len(X)}\")\n",
        "print(f\"Length of the training dataset: {len(X_train)}\")\n",
        "print(f\"Length of the validation dataset: {len(X_val)}\")\n",
        "print(f\"Length of the test dataset: {len(X_test)}\")"
      ],
      "metadata": {
        "colab": {
          "base_uri": "https://localhost:8080/"
        },
        "id": "m2Xp1OHXxemA",
        "outputId": "621876c9-5be7-4e9e-d46a-5c7bcfea0043"
      },
      "id": "m2Xp1OHXxemA",
      "execution_count": null,
      "outputs": [
        {
          "output_type": "stream",
          "name": "stdout",
          "text": [
            "Length of the dataset: 8732\n",
            "Length of the training dataset: 6985\n",
            "Length of the validation dataset: 873\n",
            "Length of the test dataset: 874\n"
          ]
        }
      ]
    }
  ],
  "metadata": {
    "kernelspec": {
      "display_name": "Python 3 (ipykernel)",
      "language": "python",
      "name": "python3"
    },
    "language_info": {
      "codemirror_mode": {
        "name": "ipython",
        "version": 3
      },
      "file_extension": ".py",
      "mimetype": "text/x-python",
      "name": "python",
      "nbconvert_exporter": "python",
      "pygments_lexer": "ipython3",
      "version": "3.7.8"
    },
    "colab": {
      "provenance": [],
      "collapsed_sections": []
    }
  },
  "nbformat": 4,
  "nbformat_minor": 5
}